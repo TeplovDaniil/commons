{
 "cells": [
  {
   "cell_type": "markdown",
   "metadata": {
    "id": "6ZgSLsxGvHfK"
   },
   "source": [
    "## импорт библиотек"
   ]
  },
  {
   "cell_type": "code",
   "execution_count": null,
   "metadata": {
    "colab": {
     "base_uri": "https://localhost:8080/"
    },
    "id": "aM82yhw-chJS",
    "outputId": "2176a2ea-6210-478e-b6f0-38b80a5f0011"
   },
   "outputs": [
    {
     "name": "stderr",
     "output_type": "stream",
     "text": [
      "<ipython-input-2-9a884ade8800>:11: TqdmExperimentalWarning: Using `tqdm.autonotebook.tqdm` in notebook mode. Use `tqdm.tqdm` instead to force console mode (e.g. in jupyter console)\n",
      "  from tqdm.autonotebook import tqdm\n"
     ]
    }
   ],
   "source": [
    "import torch\n",
    "import numpy as np\n",
    "import pandas as pd\n",
    "import torchvision as tv\n",
    "from torch.utils.data import Dataset, DataLoader\n",
    "import torch.nn as nn\n",
    "import torch.nn.functional as F\n",
    "import time\n",
    "from glob import glob\n",
    "\n",
    "from tqdm.autonotebook import tqdm\n",
    "from tqdm import tqdm_notebook\n",
    "from sklearn.metrics import accuracy_score\n",
    "from sklearn.metrics import average_precision_score\n",
    "from sklearn.metrics import classification_report\n",
    "\n",
    "from sklearn.model_selection import train_test_split\n",
    "from sklearn.preprocessing import StandardScaler\n",
    "from sklearn.linear_model import LogisticRegression\n",
    "from sklearn.ensemble import GradientBoostingRegressor\n",
    "from sklearn.preprocessing import LabelEncoder\n",
    "\n",
    "from sklearn.linear_model import LogisticRegression, Ridge\n",
    "from sklearn.svm import SVC\n",
    "from sklearn.naive_bayes import BernoulliNB\n",
    "from sklearn.ensemble import RandomForestClassifier\n",
    "from sklearn.tree import DecisionTreeClassifier\n",
    "from scipy.stats import uniform\n",
    "from sklearn.model_selection import RandomizedSearchCV\n",
    "from sklearn.model_selection import GridSearchCV\n",
    "from sklearn.model_selection import cross_validate\n",
    "from sklearn.neighbors import KNeighborsClassifier\n",
    "from sklearn import metrics\n",
    "import matplotlib.pyplot as plt\n",
    "%matplotlib inline\n",
    "import warnings\n",
    "warnings.filterwarnings(\"ignore\")"
   ]
  },
  {
   "cell_type": "code",
   "execution_count": null,
   "metadata": {
    "colab": {
     "base_uri": "https://localhost:8080/"
    },
    "id": "nnxh0e_4Ggha",
    "outputId": "0980550b-aa1d-4287-a865-d2739ac30b33"
   },
   "outputs": [
    {
     "name": "stdout",
     "output_type": "stream",
     "text": [
      "unzip:  cannot find or open /content/drive/MyDrive/olimp/data.zip, /content/drive/MyDrive/olimp/data.zip.zip or /content/drive/MyDrive/olimp/data.zip.ZIP.\n"
     ]
    }
   ],
   "source": [
    "!unzip /content/drive/MyDrive/olimp/data.zip -d /content/data/"
   ]
  },
  {
   "cell_type": "markdown",
   "metadata": {
    "id": "KQoLDB4IvLaN"
   },
   "source": [
    "## подготовка трейна "
   ]
  },
  {
   "cell_type": "code",
   "execution_count": null,
   "metadata": {
    "colab": {
     "base_uri": "https://localhost:8080/"
    },
    "id": "YArkUCmccp-d",
    "outputId": "f0aea465-1960-46c6-b49d-592af895301c"
   },
   "outputs": [
    {
     "data": {
      "text/html": [
       "\n",
       "  <div id=\"df-31269a8f-4967-4807-8316-91a22aff0153\" class=\"colab-df-container\">\n",
       "    <div>\n",
       "<style scoped>\n",
       "    .dataframe tbody tr th:only-of-type {\n",
       "        vertical-align: middle;\n",
       "    }\n",
       "\n",
       "    .dataframe tbody tr th {\n",
       "        vertical-align: top;\n",
       "    }\n",
       "\n",
       "    .dataframe thead th {\n",
       "        text-align: right;\n",
       "    }\n",
       "</style>\n",
       "<table border=\"1\" class=\"dataframe\">\n",
       "  <thead>\n",
       "    <tr style=\"text-align: right;\">\n",
       "      <th></th>\n",
       "      <th>имя файла данных</th>\n",
       "      <th>Folder Path</th>\n",
       "      <th>пол</th>\n",
       "      <th>полных лет</th>\n",
       "      <th>пациент off/on</th>\n",
       "      <th>определенный диагноз врачом (0-5)</th>\n",
       "    </tr>\n",
       "  </thead>\n",
       "  <tbody>\n",
       "    <tr>\n",
       "      <th>0</th>\n",
       "      <td>raw_data_d786d645-db38-11ec-b494-e82aea2c97f4.csv</td>\n",
       "      <td>кинетический тремор</td>\n",
       "      <td>мужской</td>\n",
       "      <td>52</td>\n",
       "      <td>off</td>\n",
       "      <td>1</td>\n",
       "    </tr>\n",
       "    <tr>\n",
       "      <th>1</th>\n",
       "      <td>raw_data_bdcba44f-0d6a-11ed-8857-b6da2cf29e9d.csv</td>\n",
       "      <td>Постуральный тремор</td>\n",
       "      <td>мужской</td>\n",
       "      <td>78</td>\n",
       "      <td>on</td>\n",
       "      <td>0</td>\n",
       "    </tr>\n",
       "    <tr>\n",
       "      <th>2</th>\n",
       "      <td>raw_data_750c0f09-b09a-11ec-9699-58a023d3f6d9.csv</td>\n",
       "      <td>Постуральный тремор</td>\n",
       "      <td>мужской</td>\n",
       "      <td>71</td>\n",
       "      <td>on</td>\n",
       "      <td>0</td>\n",
       "    </tr>\n",
       "    <tr>\n",
       "      <th>3</th>\n",
       "      <td>raw_data_d90846c3-3969-11ed-a96d-b469216ca443.csv</td>\n",
       "      <td>кулак</td>\n",
       "      <td>мужской</td>\n",
       "      <td>23</td>\n",
       "      <td>off</td>\n",
       "      <td>1</td>\n",
       "    </tr>\n",
       "    <tr>\n",
       "      <th>4</th>\n",
       "      <td>raw_data_c27fbeb3-1882-11ed-95c1-b469216ca443.csv</td>\n",
       "      <td>кинетический тремор</td>\n",
       "      <td>мужской</td>\n",
       "      <td>23</td>\n",
       "      <td>off</td>\n",
       "      <td>2</td>\n",
       "    </tr>\n",
       "    <tr>\n",
       "      <th>...</th>\n",
       "      <td>...</td>\n",
       "      <td>...</td>\n",
       "      <td>...</td>\n",
       "      <td>...</td>\n",
       "      <td>...</td>\n",
       "      <td>...</td>\n",
       "    </tr>\n",
       "    <tr>\n",
       "      <th>828</th>\n",
       "      <td>raw_data_e454ecdf-6fd9-11ed-8c3e-e82aea2c97f4.csv</td>\n",
       "      <td>Постуральный тремор</td>\n",
       "      <td>мужской</td>\n",
       "      <td>63</td>\n",
       "      <td>on</td>\n",
       "      <td>0</td>\n",
       "    </tr>\n",
       "    <tr>\n",
       "      <th>829</th>\n",
       "      <td>raw_data_ed2a29d7-c16e-11ec-b4b8-e82aea2c97f4.csv</td>\n",
       "      <td>Постуральный тремор</td>\n",
       "      <td>женский</td>\n",
       "      <td>66</td>\n",
       "      <td>on</td>\n",
       "      <td>3</td>\n",
       "    </tr>\n",
       "    <tr>\n",
       "      <th>830</th>\n",
       "      <td>raw_data_f4a07d6b-64c3-11ed-aa07-e82aea2c97f4.csv</td>\n",
       "      <td>Постуральный тремор</td>\n",
       "      <td>женский</td>\n",
       "      <td>67</td>\n",
       "      <td>off</td>\n",
       "      <td>0</td>\n",
       "    </tr>\n",
       "    <tr>\n",
       "      <th>831</th>\n",
       "      <td>raw_data_c00aef37-0d5e-11ed-898c-80847c24eb6e.csv</td>\n",
       "      <td>кинетический тремор</td>\n",
       "      <td>мужской</td>\n",
       "      <td>61</td>\n",
       "      <td>on</td>\n",
       "      <td>0</td>\n",
       "    </tr>\n",
       "    <tr>\n",
       "      <th>832</th>\n",
       "      <td>raw_data_f3bb1bf3-1c63-11ed-8f50-b469216ca443.csv</td>\n",
       "      <td>Постуральный тремор</td>\n",
       "      <td>мужской</td>\n",
       "      <td>23</td>\n",
       "      <td>off</td>\n",
       "      <td>0</td>\n",
       "    </tr>\n",
       "  </tbody>\n",
       "</table>\n",
       "<p>833 rows × 6 columns</p>\n",
       "</div>\n",
       "    <div class=\"colab-df-buttons\">\n",
       "\n",
       "  <div class=\"colab-df-container\">\n",
       "    <button class=\"colab-df-convert\" onclick=\"convertToInteractive('df-31269a8f-4967-4807-8316-91a22aff0153')\"\n",
       "            title=\"Convert this dataframe to an interactive table.\"\n",
       "            style=\"display:none;\">\n",
       "\n",
       "  <svg xmlns=\"http://www.w3.org/2000/svg\" height=\"24px\" viewBox=\"0 -960 960 960\">\n",
       "    <path d=\"M120-120v-720h720v720H120Zm60-500h600v-160H180v160Zm220 220h160v-160H400v160Zm0 220h160v-160H400v160ZM180-400h160v-160H180v160Zm440 0h160v-160H620v160ZM180-180h160v-160H180v160Zm440 0h160v-160H620v160Z\"/>\n",
       "  </svg>\n",
       "    </button>\n",
       "\n",
       "  <style>\n",
       "    .colab-df-container {\n",
       "      display:flex;\n",
       "      gap: 12px;\n",
       "    }\n",
       "\n",
       "    .colab-df-convert {\n",
       "      background-color: #E8F0FE;\n",
       "      border: none;\n",
       "      border-radius: 50%;\n",
       "      cursor: pointer;\n",
       "      display: none;\n",
       "      fill: #1967D2;\n",
       "      height: 32px;\n",
       "      padding: 0 0 0 0;\n",
       "      width: 32px;\n",
       "    }\n",
       "\n",
       "    .colab-df-convert:hover {\n",
       "      background-color: #E2EBFA;\n",
       "      box-shadow: 0px 1px 2px rgba(60, 64, 67, 0.3), 0px 1px 3px 1px rgba(60, 64, 67, 0.15);\n",
       "      fill: #174EA6;\n",
       "    }\n",
       "\n",
       "    .colab-df-buttons div {\n",
       "      margin-bottom: 4px;\n",
       "    }\n",
       "\n",
       "    [theme=dark] .colab-df-convert {\n",
       "      background-color: #3B4455;\n",
       "      fill: #D2E3FC;\n",
       "    }\n",
       "\n",
       "    [theme=dark] .colab-df-convert:hover {\n",
       "      background-color: #434B5C;\n",
       "      box-shadow: 0px 1px 3px 1px rgba(0, 0, 0, 0.15);\n",
       "      filter: drop-shadow(0px 1px 2px rgba(0, 0, 0, 0.3));\n",
       "      fill: #FFFFFF;\n",
       "    }\n",
       "  </style>\n",
       "\n",
       "    <script>\n",
       "      const buttonEl =\n",
       "        document.querySelector('#df-31269a8f-4967-4807-8316-91a22aff0153 button.colab-df-convert');\n",
       "      buttonEl.style.display =\n",
       "        google.colab.kernel.accessAllowed ? 'block' : 'none';\n",
       "\n",
       "      async function convertToInteractive(key) {\n",
       "        const element = document.querySelector('#df-31269a8f-4967-4807-8316-91a22aff0153');\n",
       "        const dataTable =\n",
       "          await google.colab.kernel.invokeFunction('convertToInteractive',\n",
       "                                                    [key], {});\n",
       "        if (!dataTable) return;\n",
       "\n",
       "        const docLinkHtml = 'Like what you see? Visit the ' +\n",
       "          '<a target=\"_blank\" href=https://colab.research.google.com/notebooks/data_table.ipynb>data table notebook</a>'\n",
       "          + ' to learn more about interactive tables.';\n",
       "        element.innerHTML = '';\n",
       "        dataTable['output_type'] = 'display_data';\n",
       "        await google.colab.output.renderOutput(dataTable, element);\n",
       "        const docLink = document.createElement('div');\n",
       "        docLink.innerHTML = docLinkHtml;\n",
       "        element.appendChild(docLink);\n",
       "      }\n",
       "    </script>\n",
       "  </div>\n",
       "\n",
       "\n",
       "<div id=\"df-6d94a2f5-0197-44cd-8d2b-511a12e4a351\">\n",
       "  <button class=\"colab-df-quickchart\" onclick=\"quickchart('df-6d94a2f5-0197-44cd-8d2b-511a12e4a351')\"\n",
       "            title=\"Suggest charts.\"\n",
       "            style=\"display:none;\">\n",
       "\n",
       "<svg xmlns=\"http://www.w3.org/2000/svg\" height=\"24px\"viewBox=\"0 0 24 24\"\n",
       "     width=\"24px\">\n",
       "    <g>\n",
       "        <path d=\"M19 3H5c-1.1 0-2 .9-2 2v14c0 1.1.9 2 2 2h14c1.1 0 2-.9 2-2V5c0-1.1-.9-2-2-2zM9 17H7v-7h2v7zm4 0h-2V7h2v10zm4 0h-2v-4h2v4z\"/>\n",
       "    </g>\n",
       "</svg>\n",
       "  </button>\n",
       "\n",
       "<style>\n",
       "  .colab-df-quickchart {\n",
       "      --bg-color: #E8F0FE;\n",
       "      --fill-color: #1967D2;\n",
       "      --hover-bg-color: #E2EBFA;\n",
       "      --hover-fill-color: #174EA6;\n",
       "      --disabled-fill-color: #AAA;\n",
       "      --disabled-bg-color: #DDD;\n",
       "  }\n",
       "\n",
       "  [theme=dark] .colab-df-quickchart {\n",
       "      --bg-color: #3B4455;\n",
       "      --fill-color: #D2E3FC;\n",
       "      --hover-bg-color: #434B5C;\n",
       "      --hover-fill-color: #FFFFFF;\n",
       "      --disabled-bg-color: #3B4455;\n",
       "      --disabled-fill-color: #666;\n",
       "  }\n",
       "\n",
       "  .colab-df-quickchart {\n",
       "    background-color: var(--bg-color);\n",
       "    border: none;\n",
       "    border-radius: 50%;\n",
       "    cursor: pointer;\n",
       "    display: none;\n",
       "    fill: var(--fill-color);\n",
       "    height: 32px;\n",
       "    padding: 0;\n",
       "    width: 32px;\n",
       "  }\n",
       "\n",
       "  .colab-df-quickchart:hover {\n",
       "    background-color: var(--hover-bg-color);\n",
       "    box-shadow: 0 1px 2px rgba(60, 64, 67, 0.3), 0 1px 3px 1px rgba(60, 64, 67, 0.15);\n",
       "    fill: var(--button-hover-fill-color);\n",
       "  }\n",
       "\n",
       "  .colab-df-quickchart-complete:disabled,\n",
       "  .colab-df-quickchart-complete:disabled:hover {\n",
       "    background-color: var(--disabled-bg-color);\n",
       "    fill: var(--disabled-fill-color);\n",
       "    box-shadow: none;\n",
       "  }\n",
       "\n",
       "  .colab-df-spinner {\n",
       "    border: 2px solid var(--fill-color);\n",
       "    border-color: transparent;\n",
       "    border-bottom-color: var(--fill-color);\n",
       "    animation:\n",
       "      spin 1s steps(1) infinite;\n",
       "  }\n",
       "\n",
       "  @keyframes spin {\n",
       "    0% {\n",
       "      border-color: transparent;\n",
       "      border-bottom-color: var(--fill-color);\n",
       "      border-left-color: var(--fill-color);\n",
       "    }\n",
       "    20% {\n",
       "      border-color: transparent;\n",
       "      border-left-color: var(--fill-color);\n",
       "      border-top-color: var(--fill-color);\n",
       "    }\n",
       "    30% {\n",
       "      border-color: transparent;\n",
       "      border-left-color: var(--fill-color);\n",
       "      border-top-color: var(--fill-color);\n",
       "      border-right-color: var(--fill-color);\n",
       "    }\n",
       "    40% {\n",
       "      border-color: transparent;\n",
       "      border-right-color: var(--fill-color);\n",
       "      border-top-color: var(--fill-color);\n",
       "    }\n",
       "    60% {\n",
       "      border-color: transparent;\n",
       "      border-right-color: var(--fill-color);\n",
       "    }\n",
       "    80% {\n",
       "      border-color: transparent;\n",
       "      border-right-color: var(--fill-color);\n",
       "      border-bottom-color: var(--fill-color);\n",
       "    }\n",
       "    90% {\n",
       "      border-color: transparent;\n",
       "      border-bottom-color: var(--fill-color);\n",
       "    }\n",
       "  }\n",
       "</style>\n",
       "\n",
       "  <script>\n",
       "    async function quickchart(key) {\n",
       "      const quickchartButtonEl =\n",
       "        document.querySelector('#' + key + ' button');\n",
       "      quickchartButtonEl.disabled = true;  // To prevent multiple clicks.\n",
       "      quickchartButtonEl.classList.add('colab-df-spinner');\n",
       "      try {\n",
       "        const charts = await google.colab.kernel.invokeFunction(\n",
       "            'suggestCharts', [key], {});\n",
       "      } catch (error) {\n",
       "        console.error('Error during call to suggestCharts:', error);\n",
       "      }\n",
       "      quickchartButtonEl.classList.remove('colab-df-spinner');\n",
       "      quickchartButtonEl.classList.add('colab-df-quickchart-complete');\n",
       "    }\n",
       "    (() => {\n",
       "      let quickchartButtonEl =\n",
       "        document.querySelector('#df-6d94a2f5-0197-44cd-8d2b-511a12e4a351 button');\n",
       "      quickchartButtonEl.style.display =\n",
       "        google.colab.kernel.accessAllowed ? 'block' : 'none';\n",
       "    })();\n",
       "  </script>\n",
       "</div>\n",
       "    </div>\n",
       "  </div>\n"
      ],
      "text/plain": [
       "                                      имя файла данных          Folder Path  \\\n",
       "0    raw_data_d786d645-db38-11ec-b494-e82aea2c97f4.csv  кинетический тремор   \n",
       "1    raw_data_bdcba44f-0d6a-11ed-8857-b6da2cf29e9d.csv  Постуральный тремор   \n",
       "2    raw_data_750c0f09-b09a-11ec-9699-58a023d3f6d9.csv  Постуральный тремор   \n",
       "3    raw_data_d90846c3-3969-11ed-a96d-b469216ca443.csv                кулак   \n",
       "4    raw_data_c27fbeb3-1882-11ed-95c1-b469216ca443.csv  кинетический тремор   \n",
       "..                                                 ...                  ...   \n",
       "828  raw_data_e454ecdf-6fd9-11ed-8c3e-e82aea2c97f4.csv  Постуральный тремор   \n",
       "829  raw_data_ed2a29d7-c16e-11ec-b4b8-e82aea2c97f4.csv  Постуральный тремор   \n",
       "830  raw_data_f4a07d6b-64c3-11ed-aa07-e82aea2c97f4.csv  Постуральный тремор   \n",
       "831  raw_data_c00aef37-0d5e-11ed-898c-80847c24eb6e.csv  кинетический тремор   \n",
       "832  raw_data_f3bb1bf3-1c63-11ed-8f50-b469216ca443.csv  Постуральный тремор   \n",
       "\n",
       "         пол  полных лет пациент off/on  определенный диагноз врачом (0-5)  \n",
       "0    мужской          52            off                                  1  \n",
       "1    мужской          78             on                                  0  \n",
       "2    мужской          71             on                                  0  \n",
       "3    мужской          23            off                                  1  \n",
       "4    мужской          23            off                                  2  \n",
       "..       ...         ...            ...                                ...  \n",
       "828  мужской          63             on                                  0  \n",
       "829  женский          66             on                                  3  \n",
       "830  женский          67            off                                  0  \n",
       "831  мужской          61             on                                  0  \n",
       "832  мужской          23            off                                  0  \n",
       "\n",
       "[833 rows x 6 columns]"
      ]
     },
     "execution_count": 30,
     "metadata": {},
     "output_type": "execute_result"
    }
   ],
   "source": [
    "data = pd.read_csv('/content/train.csv')\n",
    "data"
   ]
  },
  {
   "cell_type": "code",
   "execution_count": null,
   "metadata": {
    "colab": {
     "base_uri": "https://localhost:8080/"
    },
    "id": "qbtv77mhdk6q",
    "outputId": "4786cab7-f464-42d2-d34c-14ec7b1b5d56"
   },
   "outputs": [
    {
     "data": {
      "text/plain": [
       "Index(['имя файла данных', 'Folder Path', 'пол', 'полных лет',\n",
       "       'пациент off/on', 'определенный диагноз врачом (0-5)'],\n",
       "      dtype='object')"
      ]
     },
     "execution_count": 31,
     "metadata": {},
     "output_type": "execute_result"
    }
   ],
   "source": [
    "data.columns"
   ]
  },
  {
   "cell_type": "code",
   "execution_count": null,
   "metadata": {
    "colab": {
     "base_uri": "https://localhost:8080/"
    },
    "id": "5iD3SEg-dI_w",
    "outputId": "fb1231c9-6692-4c10-a382-d3cedaa15ac9"
   },
   "outputs": [
    {
     "data": {
      "text/plain": [
       "мужской    453\n",
       "женский    362\n",
       "0           18\n",
       "Name: пол, dtype: int64"
      ]
     },
     "execution_count": 32,
     "metadata": {},
     "output_type": "execute_result"
    }
   ],
   "source": [
    "data['пол'].value_counts()"
   ]
  },
  {
   "cell_type": "code",
   "execution_count": null,
   "metadata": {
    "colab": {
     "base_uri": "https://localhost:8080/"
    },
    "id": "ObfvDxzSdigv",
    "outputId": "feb92065-bfe1-424a-987d-760ff3e896e7"
   },
   "outputs": [
    {
     "data": {
      "text/plain": [
       "off    487\n",
       "on     346\n",
       "Name: пациент off/on, dtype: int64"
      ]
     },
     "execution_count": 33,
     "metadata": {},
     "output_type": "execute_result"
    }
   ],
   "source": [
    "data['пациент off/on'].value_counts()\n"
   ]
  },
  {
   "cell_type": "code",
   "execution_count": null,
   "metadata": {
    "colab": {
     "base_uri": "https://localhost:8080/"
    },
    "id": "F3hZNMkKdu3G",
    "outputId": "417575c2-3494-495b-8722-43eec1af0c42"
   },
   "outputs": [
    {
     "data": {
      "text/plain": [
       "Постуральный тремор           215\n",
       "кулак                         199\n",
       "постукивание пальцами         196\n",
       "кинетический тремор           162\n",
       "Пронация и супинация кисти     61\n",
       "Name: Folder Path, dtype: int64"
      ]
     },
     "execution_count": 34,
     "metadata": {},
     "output_type": "execute_result"
    }
   ],
   "source": [
    "data['Folder Path'].value_counts()"
   ]
  },
  {
   "cell_type": "code",
   "execution_count": null,
   "metadata": {
    "id": "yWVMze8lgEZ3"
   },
   "outputs": [],
   "source": [
    "# замена (кодирование) пола\n",
    "data['пол'] = data['пол'].replace('мужской', 0)\n",
    "data['пол'] = data['пол'].replace('женский', 1)\n",
    "# замена (кодирование) пациент off/on\n",
    "data['пациент off/on'] = data['пациент off/on'].replace('off', 0)\n",
    "data['пациент off/on'] = data['пациент off/on'].replace('on', 1)"
   ]
  },
  {
   "cell_type": "code",
   "execution_count": null,
   "metadata": {
    "colab": {
     "base_uri": "https://localhost:8080/"
    },
    "id": "QCp2M6rAt_aM",
    "outputId": "cc625ee6-1310-4958-b49a-fd2209e3346d"
   },
   "outputs": [
    {
     "data": {
      "text/html": [
       "\n",
       "  <div id=\"df-15c83a01-35dc-4558-9e4c-310dc27e3cc5\" class=\"colab-df-container\">\n",
       "    <div>\n",
       "<style scoped>\n",
       "    .dataframe tbody tr th:only-of-type {\n",
       "        vertical-align: middle;\n",
       "    }\n",
       "\n",
       "    .dataframe tbody tr th {\n",
       "        vertical-align: top;\n",
       "    }\n",
       "\n",
       "    .dataframe thead th {\n",
       "        text-align: right;\n",
       "    }\n",
       "</style>\n",
       "<table border=\"1\" class=\"dataframe\">\n",
       "  <thead>\n",
       "    <tr style=\"text-align: right;\">\n",
       "      <th></th>\n",
       "      <th>имя файла данных</th>\n",
       "      <th>Folder Path</th>\n",
       "      <th>пол</th>\n",
       "      <th>полных лет</th>\n",
       "      <th>пациент off/on</th>\n",
       "      <th>определенный диагноз врачом (0-5)</th>\n",
       "    </tr>\n",
       "  </thead>\n",
       "  <tbody>\n",
       "    <tr>\n",
       "      <th>0</th>\n",
       "      <td>raw_data_d786d645-db38-11ec-b494-e82aea2c97f4.csv</td>\n",
       "      <td>кинетический тремор</td>\n",
       "      <td>0</td>\n",
       "      <td>52</td>\n",
       "      <td>0</td>\n",
       "      <td>1</td>\n",
       "    </tr>\n",
       "    <tr>\n",
       "      <th>1</th>\n",
       "      <td>raw_data_bdcba44f-0d6a-11ed-8857-b6da2cf29e9d.csv</td>\n",
       "      <td>Постуральный тремор</td>\n",
       "      <td>0</td>\n",
       "      <td>78</td>\n",
       "      <td>1</td>\n",
       "      <td>0</td>\n",
       "    </tr>\n",
       "    <tr>\n",
       "      <th>2</th>\n",
       "      <td>raw_data_750c0f09-b09a-11ec-9699-58a023d3f6d9.csv</td>\n",
       "      <td>Постуральный тремор</td>\n",
       "      <td>0</td>\n",
       "      <td>71</td>\n",
       "      <td>1</td>\n",
       "      <td>0</td>\n",
       "    </tr>\n",
       "    <tr>\n",
       "      <th>3</th>\n",
       "      <td>raw_data_d90846c3-3969-11ed-a96d-b469216ca443.csv</td>\n",
       "      <td>кулак</td>\n",
       "      <td>0</td>\n",
       "      <td>23</td>\n",
       "      <td>0</td>\n",
       "      <td>1</td>\n",
       "    </tr>\n",
       "    <tr>\n",
       "      <th>4</th>\n",
       "      <td>raw_data_c27fbeb3-1882-11ed-95c1-b469216ca443.csv</td>\n",
       "      <td>кинетический тремор</td>\n",
       "      <td>0</td>\n",
       "      <td>23</td>\n",
       "      <td>0</td>\n",
       "      <td>2</td>\n",
       "    </tr>\n",
       "    <tr>\n",
       "      <th>...</th>\n",
       "      <td>...</td>\n",
       "      <td>...</td>\n",
       "      <td>...</td>\n",
       "      <td>...</td>\n",
       "      <td>...</td>\n",
       "      <td>...</td>\n",
       "    </tr>\n",
       "    <tr>\n",
       "      <th>828</th>\n",
       "      <td>raw_data_e454ecdf-6fd9-11ed-8c3e-e82aea2c97f4.csv</td>\n",
       "      <td>Постуральный тремор</td>\n",
       "      <td>0</td>\n",
       "      <td>63</td>\n",
       "      <td>1</td>\n",
       "      <td>0</td>\n",
       "    </tr>\n",
       "    <tr>\n",
       "      <th>829</th>\n",
       "      <td>raw_data_ed2a29d7-c16e-11ec-b4b8-e82aea2c97f4.csv</td>\n",
       "      <td>Постуральный тремор</td>\n",
       "      <td>1</td>\n",
       "      <td>66</td>\n",
       "      <td>1</td>\n",
       "      <td>3</td>\n",
       "    </tr>\n",
       "    <tr>\n",
       "      <th>830</th>\n",
       "      <td>raw_data_f4a07d6b-64c3-11ed-aa07-e82aea2c97f4.csv</td>\n",
       "      <td>Постуральный тремор</td>\n",
       "      <td>1</td>\n",
       "      <td>67</td>\n",
       "      <td>0</td>\n",
       "      <td>0</td>\n",
       "    </tr>\n",
       "    <tr>\n",
       "      <th>831</th>\n",
       "      <td>raw_data_c00aef37-0d5e-11ed-898c-80847c24eb6e.csv</td>\n",
       "      <td>кинетический тремор</td>\n",
       "      <td>0</td>\n",
       "      <td>61</td>\n",
       "      <td>1</td>\n",
       "      <td>0</td>\n",
       "    </tr>\n",
       "    <tr>\n",
       "      <th>832</th>\n",
       "      <td>raw_data_f3bb1bf3-1c63-11ed-8f50-b469216ca443.csv</td>\n",
       "      <td>Постуральный тремор</td>\n",
       "      <td>0</td>\n",
       "      <td>23</td>\n",
       "      <td>0</td>\n",
       "      <td>0</td>\n",
       "    </tr>\n",
       "  </tbody>\n",
       "</table>\n",
       "<p>833 rows × 6 columns</p>\n",
       "</div>\n",
       "    <div class=\"colab-df-buttons\">\n",
       "\n",
       "  <div class=\"colab-df-container\">\n",
       "    <button class=\"colab-df-convert\" onclick=\"convertToInteractive('df-15c83a01-35dc-4558-9e4c-310dc27e3cc5')\"\n",
       "            title=\"Convert this dataframe to an interactive table.\"\n",
       "            style=\"display:none;\">\n",
       "\n",
       "  <svg xmlns=\"http://www.w3.org/2000/svg\" height=\"24px\" viewBox=\"0 -960 960 960\">\n",
       "    <path d=\"M120-120v-720h720v720H120Zm60-500h600v-160H180v160Zm220 220h160v-160H400v160Zm0 220h160v-160H400v160ZM180-400h160v-160H180v160Zm440 0h160v-160H620v160ZM180-180h160v-160H180v160Zm440 0h160v-160H620v160Z\"/>\n",
       "  </svg>\n",
       "    </button>\n",
       "\n",
       "  <style>\n",
       "    .colab-df-container {\n",
       "      display:flex;\n",
       "      gap: 12px;\n",
       "    }\n",
       "\n",
       "    .colab-df-convert {\n",
       "      background-color: #E8F0FE;\n",
       "      border: none;\n",
       "      border-radius: 50%;\n",
       "      cursor: pointer;\n",
       "      display: none;\n",
       "      fill: #1967D2;\n",
       "      height: 32px;\n",
       "      padding: 0 0 0 0;\n",
       "      width: 32px;\n",
       "    }\n",
       "\n",
       "    .colab-df-convert:hover {\n",
       "      background-color: #E2EBFA;\n",
       "      box-shadow: 0px 1px 2px rgba(60, 64, 67, 0.3), 0px 1px 3px 1px rgba(60, 64, 67, 0.15);\n",
       "      fill: #174EA6;\n",
       "    }\n",
       "\n",
       "    .colab-df-buttons div {\n",
       "      margin-bottom: 4px;\n",
       "    }\n",
       "\n",
       "    [theme=dark] .colab-df-convert {\n",
       "      background-color: #3B4455;\n",
       "      fill: #D2E3FC;\n",
       "    }\n",
       "\n",
       "    [theme=dark] .colab-df-convert:hover {\n",
       "      background-color: #434B5C;\n",
       "      box-shadow: 0px 1px 3px 1px rgba(0, 0, 0, 0.15);\n",
       "      filter: drop-shadow(0px 1px 2px rgba(0, 0, 0, 0.3));\n",
       "      fill: #FFFFFF;\n",
       "    }\n",
       "  </style>\n",
       "\n",
       "    <script>\n",
       "      const buttonEl =\n",
       "        document.querySelector('#df-15c83a01-35dc-4558-9e4c-310dc27e3cc5 button.colab-df-convert');\n",
       "      buttonEl.style.display =\n",
       "        google.colab.kernel.accessAllowed ? 'block' : 'none';\n",
       "\n",
       "      async function convertToInteractive(key) {\n",
       "        const element = document.querySelector('#df-15c83a01-35dc-4558-9e4c-310dc27e3cc5');\n",
       "        const dataTable =\n",
       "          await google.colab.kernel.invokeFunction('convertToInteractive',\n",
       "                                                    [key], {});\n",
       "        if (!dataTable) return;\n",
       "\n",
       "        const docLinkHtml = 'Like what you see? Visit the ' +\n",
       "          '<a target=\"_blank\" href=https://colab.research.google.com/notebooks/data_table.ipynb>data table notebook</a>'\n",
       "          + ' to learn more about interactive tables.';\n",
       "        element.innerHTML = '';\n",
       "        dataTable['output_type'] = 'display_data';\n",
       "        await google.colab.output.renderOutput(dataTable, element);\n",
       "        const docLink = document.createElement('div');\n",
       "        docLink.innerHTML = docLinkHtml;\n",
       "        element.appendChild(docLink);\n",
       "      }\n",
       "    </script>\n",
       "  </div>\n",
       "\n",
       "\n",
       "<div id=\"df-664d6a8d-bf7d-4016-8038-3c730f5b0163\">\n",
       "  <button class=\"colab-df-quickchart\" onclick=\"quickchart('df-664d6a8d-bf7d-4016-8038-3c730f5b0163')\"\n",
       "            title=\"Suggest charts.\"\n",
       "            style=\"display:none;\">\n",
       "\n",
       "<svg xmlns=\"http://www.w3.org/2000/svg\" height=\"24px\"viewBox=\"0 0 24 24\"\n",
       "     width=\"24px\">\n",
       "    <g>\n",
       "        <path d=\"M19 3H5c-1.1 0-2 .9-2 2v14c0 1.1.9 2 2 2h14c1.1 0 2-.9 2-2V5c0-1.1-.9-2-2-2zM9 17H7v-7h2v7zm4 0h-2V7h2v10zm4 0h-2v-4h2v4z\"/>\n",
       "    </g>\n",
       "</svg>\n",
       "  </button>\n",
       "\n",
       "<style>\n",
       "  .colab-df-quickchart {\n",
       "      --bg-color: #E8F0FE;\n",
       "      --fill-color: #1967D2;\n",
       "      --hover-bg-color: #E2EBFA;\n",
       "      --hover-fill-color: #174EA6;\n",
       "      --disabled-fill-color: #AAA;\n",
       "      --disabled-bg-color: #DDD;\n",
       "  }\n",
       "\n",
       "  [theme=dark] .colab-df-quickchart {\n",
       "      --bg-color: #3B4455;\n",
       "      --fill-color: #D2E3FC;\n",
       "      --hover-bg-color: #434B5C;\n",
       "      --hover-fill-color: #FFFFFF;\n",
       "      --disabled-bg-color: #3B4455;\n",
       "      --disabled-fill-color: #666;\n",
       "  }\n",
       "\n",
       "  .colab-df-quickchart {\n",
       "    background-color: var(--bg-color);\n",
       "    border: none;\n",
       "    border-radius: 50%;\n",
       "    cursor: pointer;\n",
       "    display: none;\n",
       "    fill: var(--fill-color);\n",
       "    height: 32px;\n",
       "    padding: 0;\n",
       "    width: 32px;\n",
       "  }\n",
       "\n",
       "  .colab-df-quickchart:hover {\n",
       "    background-color: var(--hover-bg-color);\n",
       "    box-shadow: 0 1px 2px rgba(60, 64, 67, 0.3), 0 1px 3px 1px rgba(60, 64, 67, 0.15);\n",
       "    fill: var(--button-hover-fill-color);\n",
       "  }\n",
       "\n",
       "  .colab-df-quickchart-complete:disabled,\n",
       "  .colab-df-quickchart-complete:disabled:hover {\n",
       "    background-color: var(--disabled-bg-color);\n",
       "    fill: var(--disabled-fill-color);\n",
       "    box-shadow: none;\n",
       "  }\n",
       "\n",
       "  .colab-df-spinner {\n",
       "    border: 2px solid var(--fill-color);\n",
       "    border-color: transparent;\n",
       "    border-bottom-color: var(--fill-color);\n",
       "    animation:\n",
       "      spin 1s steps(1) infinite;\n",
       "  }\n",
       "\n",
       "  @keyframes spin {\n",
       "    0% {\n",
       "      border-color: transparent;\n",
       "      border-bottom-color: var(--fill-color);\n",
       "      border-left-color: var(--fill-color);\n",
       "    }\n",
       "    20% {\n",
       "      border-color: transparent;\n",
       "      border-left-color: var(--fill-color);\n",
       "      border-top-color: var(--fill-color);\n",
       "    }\n",
       "    30% {\n",
       "      border-color: transparent;\n",
       "      border-left-color: var(--fill-color);\n",
       "      border-top-color: var(--fill-color);\n",
       "      border-right-color: var(--fill-color);\n",
       "    }\n",
       "    40% {\n",
       "      border-color: transparent;\n",
       "      border-right-color: var(--fill-color);\n",
       "      border-top-color: var(--fill-color);\n",
       "    }\n",
       "    60% {\n",
       "      border-color: transparent;\n",
       "      border-right-color: var(--fill-color);\n",
       "    }\n",
       "    80% {\n",
       "      border-color: transparent;\n",
       "      border-right-color: var(--fill-color);\n",
       "      border-bottom-color: var(--fill-color);\n",
       "    }\n",
       "    90% {\n",
       "      border-color: transparent;\n",
       "      border-bottom-color: var(--fill-color);\n",
       "    }\n",
       "  }\n",
       "</style>\n",
       "\n",
       "  <script>\n",
       "    async function quickchart(key) {\n",
       "      const quickchartButtonEl =\n",
       "        document.querySelector('#' + key + ' button');\n",
       "      quickchartButtonEl.disabled = true;  // To prevent multiple clicks.\n",
       "      quickchartButtonEl.classList.add('colab-df-spinner');\n",
       "      try {\n",
       "        const charts = await google.colab.kernel.invokeFunction(\n",
       "            'suggestCharts', [key], {});\n",
       "      } catch (error) {\n",
       "        console.error('Error during call to suggestCharts:', error);\n",
       "      }\n",
       "      quickchartButtonEl.classList.remove('colab-df-spinner');\n",
       "      quickchartButtonEl.classList.add('colab-df-quickchart-complete');\n",
       "    }\n",
       "    (() => {\n",
       "      let quickchartButtonEl =\n",
       "        document.querySelector('#df-664d6a8d-bf7d-4016-8038-3c730f5b0163 button');\n",
       "      quickchartButtonEl.style.display =\n",
       "        google.colab.kernel.accessAllowed ? 'block' : 'none';\n",
       "    })();\n",
       "  </script>\n",
       "</div>\n",
       "    </div>\n",
       "  </div>\n"
      ],
      "text/plain": [
       "                                      имя файла данных          Folder Path  \\\n",
       "0    raw_data_d786d645-db38-11ec-b494-e82aea2c97f4.csv  кинетический тремор   \n",
       "1    raw_data_bdcba44f-0d6a-11ed-8857-b6da2cf29e9d.csv  Постуральный тремор   \n",
       "2    raw_data_750c0f09-b09a-11ec-9699-58a023d3f6d9.csv  Постуральный тремор   \n",
       "3    raw_data_d90846c3-3969-11ed-a96d-b469216ca443.csv                кулак   \n",
       "4    raw_data_c27fbeb3-1882-11ed-95c1-b469216ca443.csv  кинетический тремор   \n",
       "..                                                 ...                  ...   \n",
       "828  raw_data_e454ecdf-6fd9-11ed-8c3e-e82aea2c97f4.csv  Постуральный тремор   \n",
       "829  raw_data_ed2a29d7-c16e-11ec-b4b8-e82aea2c97f4.csv  Постуральный тремор   \n",
       "830  raw_data_f4a07d6b-64c3-11ed-aa07-e82aea2c97f4.csv  Постуральный тремор   \n",
       "831  raw_data_c00aef37-0d5e-11ed-898c-80847c24eb6e.csv  кинетический тремор   \n",
       "832  raw_data_f3bb1bf3-1c63-11ed-8f50-b469216ca443.csv  Постуральный тремор   \n",
       "\n",
       "    пол  полных лет  пациент off/on  определенный диагноз врачом (0-5)  \n",
       "0     0          52               0                                  1  \n",
       "1     0          78               1                                  0  \n",
       "2     0          71               1                                  0  \n",
       "3     0          23               0                                  1  \n",
       "4     0          23               0                                  2  \n",
       "..   ..         ...             ...                                ...  \n",
       "828   0          63               1                                  0  \n",
       "829   1          66               1                                  3  \n",
       "830   1          67               0                                  0  \n",
       "831   0          61               1                                  0  \n",
       "832   0          23               0                                  0  \n",
       "\n",
       "[833 rows x 6 columns]"
      ]
     },
     "execution_count": 36,
     "metadata": {},
     "output_type": "execute_result"
    }
   ],
   "source": [
    "data"
   ]
  },
  {
   "cell_type": "code",
   "execution_count": null,
   "metadata": {
    "id": "JrmjrjOltWgA"
   },
   "outputs": [],
   "source": [
    "# Признак возраст преобразуем в категории, если возраст от 0 до 14 - ребенок (child), 14-18 - подросток (teen), 19 - 60 - взрослый (adult), 61 - 90 - пожилой (elderly)\n",
    "# функция создает новый столбец с категориями Age_cat (child, teen, adult, elderly)\n",
    "def age_category(row):\n",
    "    if  (row['полных лет'] >= 0) & (row['полных лет'] < 15):\n",
    "        row['Age_cat'] = 'child'\n",
    "    elif (row['полных лет'] > 14) and row['полных лет'] < 30:\n",
    "        row['Age_cat'] = 'teen'\n",
    "    elif row['полных лет'] > 30 and row['полных лет'] < 61:\n",
    "        row['Age_cat'] = 'adult'\n",
    "    elif row['полных лет'] > 60 and row['полных лет'] < 90:\n",
    "        row['Age_cat']  = 'elderly'\n",
    "    return row"
   ]
  },
  {
   "cell_type": "code",
   "execution_count": null,
   "metadata": {
    "colab": {
     "base_uri": "https://localhost:8080/"
    },
    "id": "DSSQZ4Hzdy__",
    "outputId": "3526a87a-4671-4d37-9b1e-4e0057a26a94"
   },
   "outputs": [
    {
     "data": {
      "text/html": [
       "\n",
       "  <div id=\"df-5ec4bf3e-4378-4ea0-871b-84cc42ea4178\" class=\"colab-df-container\">\n",
       "    <div>\n",
       "<style scoped>\n",
       "    .dataframe tbody tr th:only-of-type {\n",
       "        vertical-align: middle;\n",
       "    }\n",
       "\n",
       "    .dataframe tbody tr th {\n",
       "        vertical-align: top;\n",
       "    }\n",
       "\n",
       "    .dataframe thead th {\n",
       "        text-align: right;\n",
       "    }\n",
       "</style>\n",
       "<table border=\"1\" class=\"dataframe\">\n",
       "  <thead>\n",
       "    <tr style=\"text-align: right;\">\n",
       "      <th></th>\n",
       "      <th>имя файла данных</th>\n",
       "      <th>Folder Path</th>\n",
       "      <th>пол</th>\n",
       "      <th>полных лет</th>\n",
       "      <th>пациент off/on</th>\n",
       "      <th>определенный диагноз врачом (0-5)</th>\n",
       "      <th>Age_cat</th>\n",
       "    </tr>\n",
       "  </thead>\n",
       "  <tbody>\n",
       "    <tr>\n",
       "      <th>0</th>\n",
       "      <td>raw_data_d786d645-db38-11ec-b494-e82aea2c97f4.csv</td>\n",
       "      <td>кинетический тремор</td>\n",
       "      <td>0</td>\n",
       "      <td>52</td>\n",
       "      <td>0</td>\n",
       "      <td>1</td>\n",
       "      <td>adult</td>\n",
       "    </tr>\n",
       "    <tr>\n",
       "      <th>1</th>\n",
       "      <td>raw_data_bdcba44f-0d6a-11ed-8857-b6da2cf29e9d.csv</td>\n",
       "      <td>Постуральный тремор</td>\n",
       "      <td>0</td>\n",
       "      <td>78</td>\n",
       "      <td>1</td>\n",
       "      <td>0</td>\n",
       "      <td>elderly</td>\n",
       "    </tr>\n",
       "    <tr>\n",
       "      <th>2</th>\n",
       "      <td>raw_data_750c0f09-b09a-11ec-9699-58a023d3f6d9.csv</td>\n",
       "      <td>Постуральный тремор</td>\n",
       "      <td>0</td>\n",
       "      <td>71</td>\n",
       "      <td>1</td>\n",
       "      <td>0</td>\n",
       "      <td>elderly</td>\n",
       "    </tr>\n",
       "    <tr>\n",
       "      <th>3</th>\n",
       "      <td>raw_data_d90846c3-3969-11ed-a96d-b469216ca443.csv</td>\n",
       "      <td>кулак</td>\n",
       "      <td>0</td>\n",
       "      <td>23</td>\n",
       "      <td>0</td>\n",
       "      <td>1</td>\n",
       "      <td>teen</td>\n",
       "    </tr>\n",
       "    <tr>\n",
       "      <th>4</th>\n",
       "      <td>raw_data_c27fbeb3-1882-11ed-95c1-b469216ca443.csv</td>\n",
       "      <td>кинетический тремор</td>\n",
       "      <td>0</td>\n",
       "      <td>23</td>\n",
       "      <td>0</td>\n",
       "      <td>2</td>\n",
       "      <td>teen</td>\n",
       "    </tr>\n",
       "    <tr>\n",
       "      <th>...</th>\n",
       "      <td>...</td>\n",
       "      <td>...</td>\n",
       "      <td>...</td>\n",
       "      <td>...</td>\n",
       "      <td>...</td>\n",
       "      <td>...</td>\n",
       "      <td>...</td>\n",
       "    </tr>\n",
       "    <tr>\n",
       "      <th>828</th>\n",
       "      <td>raw_data_e454ecdf-6fd9-11ed-8c3e-e82aea2c97f4.csv</td>\n",
       "      <td>Постуральный тремор</td>\n",
       "      <td>0</td>\n",
       "      <td>63</td>\n",
       "      <td>1</td>\n",
       "      <td>0</td>\n",
       "      <td>elderly</td>\n",
       "    </tr>\n",
       "    <tr>\n",
       "      <th>829</th>\n",
       "      <td>raw_data_ed2a29d7-c16e-11ec-b4b8-e82aea2c97f4.csv</td>\n",
       "      <td>Постуральный тремор</td>\n",
       "      <td>1</td>\n",
       "      <td>66</td>\n",
       "      <td>1</td>\n",
       "      <td>3</td>\n",
       "      <td>elderly</td>\n",
       "    </tr>\n",
       "    <tr>\n",
       "      <th>830</th>\n",
       "      <td>raw_data_f4a07d6b-64c3-11ed-aa07-e82aea2c97f4.csv</td>\n",
       "      <td>Постуральный тремор</td>\n",
       "      <td>1</td>\n",
       "      <td>67</td>\n",
       "      <td>0</td>\n",
       "      <td>0</td>\n",
       "      <td>elderly</td>\n",
       "    </tr>\n",
       "    <tr>\n",
       "      <th>831</th>\n",
       "      <td>raw_data_c00aef37-0d5e-11ed-898c-80847c24eb6e.csv</td>\n",
       "      <td>кинетический тремор</td>\n",
       "      <td>0</td>\n",
       "      <td>61</td>\n",
       "      <td>1</td>\n",
       "      <td>0</td>\n",
       "      <td>elderly</td>\n",
       "    </tr>\n",
       "    <tr>\n",
       "      <th>832</th>\n",
       "      <td>raw_data_f3bb1bf3-1c63-11ed-8f50-b469216ca443.csv</td>\n",
       "      <td>Постуральный тремор</td>\n",
       "      <td>0</td>\n",
       "      <td>23</td>\n",
       "      <td>0</td>\n",
       "      <td>0</td>\n",
       "      <td>teen</td>\n",
       "    </tr>\n",
       "  </tbody>\n",
       "</table>\n",
       "<p>833 rows × 7 columns</p>\n",
       "</div>\n",
       "    <div class=\"colab-df-buttons\">\n",
       "\n",
       "  <div class=\"colab-df-container\">\n",
       "    <button class=\"colab-df-convert\" onclick=\"convertToInteractive('df-5ec4bf3e-4378-4ea0-871b-84cc42ea4178')\"\n",
       "            title=\"Convert this dataframe to an interactive table.\"\n",
       "            style=\"display:none;\">\n",
       "\n",
       "  <svg xmlns=\"http://www.w3.org/2000/svg\" height=\"24px\" viewBox=\"0 -960 960 960\">\n",
       "    <path d=\"M120-120v-720h720v720H120Zm60-500h600v-160H180v160Zm220 220h160v-160H400v160Zm0 220h160v-160H400v160ZM180-400h160v-160H180v160Zm440 0h160v-160H620v160ZM180-180h160v-160H180v160Zm440 0h160v-160H620v160Z\"/>\n",
       "  </svg>\n",
       "    </button>\n",
       "\n",
       "  <style>\n",
       "    .colab-df-container {\n",
       "      display:flex;\n",
       "      gap: 12px;\n",
       "    }\n",
       "\n",
       "    .colab-df-convert {\n",
       "      background-color: #E8F0FE;\n",
       "      border: none;\n",
       "      border-radius: 50%;\n",
       "      cursor: pointer;\n",
       "      display: none;\n",
       "      fill: #1967D2;\n",
       "      height: 32px;\n",
       "      padding: 0 0 0 0;\n",
       "      width: 32px;\n",
       "    }\n",
       "\n",
       "    .colab-df-convert:hover {\n",
       "      background-color: #E2EBFA;\n",
       "      box-shadow: 0px 1px 2px rgba(60, 64, 67, 0.3), 0px 1px 3px 1px rgba(60, 64, 67, 0.15);\n",
       "      fill: #174EA6;\n",
       "    }\n",
       "\n",
       "    .colab-df-buttons div {\n",
       "      margin-bottom: 4px;\n",
       "    }\n",
       "\n",
       "    [theme=dark] .colab-df-convert {\n",
       "      background-color: #3B4455;\n",
       "      fill: #D2E3FC;\n",
       "    }\n",
       "\n",
       "    [theme=dark] .colab-df-convert:hover {\n",
       "      background-color: #434B5C;\n",
       "      box-shadow: 0px 1px 3px 1px rgba(0, 0, 0, 0.15);\n",
       "      filter: drop-shadow(0px 1px 2px rgba(0, 0, 0, 0.3));\n",
       "      fill: #FFFFFF;\n",
       "    }\n",
       "  </style>\n",
       "\n",
       "    <script>\n",
       "      const buttonEl =\n",
       "        document.querySelector('#df-5ec4bf3e-4378-4ea0-871b-84cc42ea4178 button.colab-df-convert');\n",
       "      buttonEl.style.display =\n",
       "        google.colab.kernel.accessAllowed ? 'block' : 'none';\n",
       "\n",
       "      async function convertToInteractive(key) {\n",
       "        const element = document.querySelector('#df-5ec4bf3e-4378-4ea0-871b-84cc42ea4178');\n",
       "        const dataTable =\n",
       "          await google.colab.kernel.invokeFunction('convertToInteractive',\n",
       "                                                    [key], {});\n",
       "        if (!dataTable) return;\n",
       "\n",
       "        const docLinkHtml = 'Like what you see? Visit the ' +\n",
       "          '<a target=\"_blank\" href=https://colab.research.google.com/notebooks/data_table.ipynb>data table notebook</a>'\n",
       "          + ' to learn more about interactive tables.';\n",
       "        element.innerHTML = '';\n",
       "        dataTable['output_type'] = 'display_data';\n",
       "        await google.colab.output.renderOutput(dataTable, element);\n",
       "        const docLink = document.createElement('div');\n",
       "        docLink.innerHTML = docLinkHtml;\n",
       "        element.appendChild(docLink);\n",
       "      }\n",
       "    </script>\n",
       "  </div>\n",
       "\n",
       "\n",
       "<div id=\"df-6d064ca9-6aad-42ac-a23d-1040e018f585\">\n",
       "  <button class=\"colab-df-quickchart\" onclick=\"quickchart('df-6d064ca9-6aad-42ac-a23d-1040e018f585')\"\n",
       "            title=\"Suggest charts.\"\n",
       "            style=\"display:none;\">\n",
       "\n",
       "<svg xmlns=\"http://www.w3.org/2000/svg\" height=\"24px\"viewBox=\"0 0 24 24\"\n",
       "     width=\"24px\">\n",
       "    <g>\n",
       "        <path d=\"M19 3H5c-1.1 0-2 .9-2 2v14c0 1.1.9 2 2 2h14c1.1 0 2-.9 2-2V5c0-1.1-.9-2-2-2zM9 17H7v-7h2v7zm4 0h-2V7h2v10zm4 0h-2v-4h2v4z\"/>\n",
       "    </g>\n",
       "</svg>\n",
       "  </button>\n",
       "\n",
       "<style>\n",
       "  .colab-df-quickchart {\n",
       "      --bg-color: #E8F0FE;\n",
       "      --fill-color: #1967D2;\n",
       "      --hover-bg-color: #E2EBFA;\n",
       "      --hover-fill-color: #174EA6;\n",
       "      --disabled-fill-color: #AAA;\n",
       "      --disabled-bg-color: #DDD;\n",
       "  }\n",
       "\n",
       "  [theme=dark] .colab-df-quickchart {\n",
       "      --bg-color: #3B4455;\n",
       "      --fill-color: #D2E3FC;\n",
       "      --hover-bg-color: #434B5C;\n",
       "      --hover-fill-color: #FFFFFF;\n",
       "      --disabled-bg-color: #3B4455;\n",
       "      --disabled-fill-color: #666;\n",
       "  }\n",
       "\n",
       "  .colab-df-quickchart {\n",
       "    background-color: var(--bg-color);\n",
       "    border: none;\n",
       "    border-radius: 50%;\n",
       "    cursor: pointer;\n",
       "    display: none;\n",
       "    fill: var(--fill-color);\n",
       "    height: 32px;\n",
       "    padding: 0;\n",
       "    width: 32px;\n",
       "  }\n",
       "\n",
       "  .colab-df-quickchart:hover {\n",
       "    background-color: var(--hover-bg-color);\n",
       "    box-shadow: 0 1px 2px rgba(60, 64, 67, 0.3), 0 1px 3px 1px rgba(60, 64, 67, 0.15);\n",
       "    fill: var(--button-hover-fill-color);\n",
       "  }\n",
       "\n",
       "  .colab-df-quickchart-complete:disabled,\n",
       "  .colab-df-quickchart-complete:disabled:hover {\n",
       "    background-color: var(--disabled-bg-color);\n",
       "    fill: var(--disabled-fill-color);\n",
       "    box-shadow: none;\n",
       "  }\n",
       "\n",
       "  .colab-df-spinner {\n",
       "    border: 2px solid var(--fill-color);\n",
       "    border-color: transparent;\n",
       "    border-bottom-color: var(--fill-color);\n",
       "    animation:\n",
       "      spin 1s steps(1) infinite;\n",
       "  }\n",
       "\n",
       "  @keyframes spin {\n",
       "    0% {\n",
       "      border-color: transparent;\n",
       "      border-bottom-color: var(--fill-color);\n",
       "      border-left-color: var(--fill-color);\n",
       "    }\n",
       "    20% {\n",
       "      border-color: transparent;\n",
       "      border-left-color: var(--fill-color);\n",
       "      border-top-color: var(--fill-color);\n",
       "    }\n",
       "    30% {\n",
       "      border-color: transparent;\n",
       "      border-left-color: var(--fill-color);\n",
       "      border-top-color: var(--fill-color);\n",
       "      border-right-color: var(--fill-color);\n",
       "    }\n",
       "    40% {\n",
       "      border-color: transparent;\n",
       "      border-right-color: var(--fill-color);\n",
       "      border-top-color: var(--fill-color);\n",
       "    }\n",
       "    60% {\n",
       "      border-color: transparent;\n",
       "      border-right-color: var(--fill-color);\n",
       "    }\n",
       "    80% {\n",
       "      border-color: transparent;\n",
       "      border-right-color: var(--fill-color);\n",
       "      border-bottom-color: var(--fill-color);\n",
       "    }\n",
       "    90% {\n",
       "      border-color: transparent;\n",
       "      border-bottom-color: var(--fill-color);\n",
       "    }\n",
       "  }\n",
       "</style>\n",
       "\n",
       "  <script>\n",
       "    async function quickchart(key) {\n",
       "      const quickchartButtonEl =\n",
       "        document.querySelector('#' + key + ' button');\n",
       "      quickchartButtonEl.disabled = true;  // To prevent multiple clicks.\n",
       "      quickchartButtonEl.classList.add('colab-df-spinner');\n",
       "      try {\n",
       "        const charts = await google.colab.kernel.invokeFunction(\n",
       "            'suggestCharts', [key], {});\n",
       "      } catch (error) {\n",
       "        console.error('Error during call to suggestCharts:', error);\n",
       "      }\n",
       "      quickchartButtonEl.classList.remove('colab-df-spinner');\n",
       "      quickchartButtonEl.classList.add('colab-df-quickchart-complete');\n",
       "    }\n",
       "    (() => {\n",
       "      let quickchartButtonEl =\n",
       "        document.querySelector('#df-6d064ca9-6aad-42ac-a23d-1040e018f585 button');\n",
       "      quickchartButtonEl.style.display =\n",
       "        google.colab.kernel.accessAllowed ? 'block' : 'none';\n",
       "    })();\n",
       "  </script>\n",
       "</div>\n",
       "    </div>\n",
       "  </div>\n"
      ],
      "text/plain": [
       "                                      имя файла данных          Folder Path  \\\n",
       "0    raw_data_d786d645-db38-11ec-b494-e82aea2c97f4.csv  кинетический тремор   \n",
       "1    raw_data_bdcba44f-0d6a-11ed-8857-b6da2cf29e9d.csv  Постуральный тремор   \n",
       "2    raw_data_750c0f09-b09a-11ec-9699-58a023d3f6d9.csv  Постуральный тремор   \n",
       "3    raw_data_d90846c3-3969-11ed-a96d-b469216ca443.csv                кулак   \n",
       "4    raw_data_c27fbeb3-1882-11ed-95c1-b469216ca443.csv  кинетический тремор   \n",
       "..                                                 ...                  ...   \n",
       "828  raw_data_e454ecdf-6fd9-11ed-8c3e-e82aea2c97f4.csv  Постуральный тремор   \n",
       "829  raw_data_ed2a29d7-c16e-11ec-b4b8-e82aea2c97f4.csv  Постуральный тремор   \n",
       "830  raw_data_f4a07d6b-64c3-11ed-aa07-e82aea2c97f4.csv  Постуральный тремор   \n",
       "831  raw_data_c00aef37-0d5e-11ed-898c-80847c24eb6e.csv  кинетический тремор   \n",
       "832  raw_data_f3bb1bf3-1c63-11ed-8f50-b469216ca443.csv  Постуральный тремор   \n",
       "\n",
       "    пол  полных лет  пациент off/on  определенный диагноз врачом (0-5)  \\\n",
       "0     0          52               0                                  1   \n",
       "1     0          78               1                                  0   \n",
       "2     0          71               1                                  0   \n",
       "3     0          23               0                                  1   \n",
       "4     0          23               0                                  2   \n",
       "..   ..         ...             ...                                ...   \n",
       "828   0          63               1                                  0   \n",
       "829   1          66               1                                  3   \n",
       "830   1          67               0                                  0   \n",
       "831   0          61               1                                  0   \n",
       "832   0          23               0                                  0   \n",
       "\n",
       "     Age_cat  \n",
       "0      adult  \n",
       "1    elderly  \n",
       "2    elderly  \n",
       "3       teen  \n",
       "4       teen  \n",
       "..       ...  \n",
       "828  elderly  \n",
       "829  elderly  \n",
       "830  elderly  \n",
       "831  elderly  \n",
       "832     teen  \n",
       "\n",
       "[833 rows x 7 columns]"
      ]
     },
     "execution_count": 38,
     "metadata": {},
     "output_type": "execute_result"
    }
   ],
   "source": [
    "data = data.apply(age_category, axis = 1)\n",
    "data"
   ]
  },
  {
   "cell_type": "code",
   "execution_count": null,
   "metadata": {
    "colab": {
     "base_uri": "https://localhost:8080/"
    },
    "id": "u4O2tTaZudNt",
    "outputId": "bcf4faef-d346-4f73-cacd-55506a2f39db"
   },
   "outputs": [
    {
     "data": {
      "text/plain": [
       "elderly    525\n",
       "teen       165\n",
       "adult      125\n",
       "child       18\n",
       "Name: Age_cat, dtype: int64"
      ]
     },
     "execution_count": 39,
     "metadata": {},
     "output_type": "execute_result"
    }
   ],
   "source": [
    "data['Age_cat'].value_counts()"
   ]
  },
  {
   "cell_type": "code",
   "execution_count": null,
   "metadata": {
    "colab": {
     "base_uri": "https://localhost:8080/"
    },
    "id": "9j92fPz3u8Zj",
    "outputId": "fd54a2a4-16b1-4344-9f00-9b72b95bbf43"
   },
   "outputs": [
    {
     "data": {
      "text/html": [
       "\n",
       "  <div id=\"df-4dd9091b-d4e8-4efb-ae58-183b8fc66143\" class=\"colab-df-container\">\n",
       "    <div>\n",
       "<style scoped>\n",
       "    .dataframe tbody tr th:only-of-type {\n",
       "        vertical-align: middle;\n",
       "    }\n",
       "\n",
       "    .dataframe tbody tr th {\n",
       "        vertical-align: top;\n",
       "    }\n",
       "\n",
       "    .dataframe thead th {\n",
       "        text-align: right;\n",
       "    }\n",
       "</style>\n",
       "<table border=\"1\" class=\"dataframe\">\n",
       "  <thead>\n",
       "    <tr style=\"text-align: right;\">\n",
       "      <th></th>\n",
       "      <th>имя файла данных</th>\n",
       "      <th>Folder Path</th>\n",
       "      <th>пол</th>\n",
       "      <th>полных лет</th>\n",
       "      <th>пациент off/on</th>\n",
       "      <th>определенный диагноз врачом (0-5)</th>\n",
       "      <th>Age_cat_adult</th>\n",
       "      <th>Age_cat_child</th>\n",
       "      <th>Age_cat_elderly</th>\n",
       "      <th>Age_cat_teen</th>\n",
       "    </tr>\n",
       "  </thead>\n",
       "  <tbody>\n",
       "    <tr>\n",
       "      <th>0</th>\n",
       "      <td>raw_data_d786d645-db38-11ec-b494-e82aea2c97f4.csv</td>\n",
       "      <td>кинетический тремор</td>\n",
       "      <td>0</td>\n",
       "      <td>52</td>\n",
       "      <td>0</td>\n",
       "      <td>1</td>\n",
       "      <td>1</td>\n",
       "      <td>0</td>\n",
       "      <td>0</td>\n",
       "      <td>0</td>\n",
       "    </tr>\n",
       "    <tr>\n",
       "      <th>1</th>\n",
       "      <td>raw_data_bdcba44f-0d6a-11ed-8857-b6da2cf29e9d.csv</td>\n",
       "      <td>Постуральный тремор</td>\n",
       "      <td>0</td>\n",
       "      <td>78</td>\n",
       "      <td>1</td>\n",
       "      <td>0</td>\n",
       "      <td>0</td>\n",
       "      <td>0</td>\n",
       "      <td>1</td>\n",
       "      <td>0</td>\n",
       "    </tr>\n",
       "    <tr>\n",
       "      <th>2</th>\n",
       "      <td>raw_data_750c0f09-b09a-11ec-9699-58a023d3f6d9.csv</td>\n",
       "      <td>Постуральный тремор</td>\n",
       "      <td>0</td>\n",
       "      <td>71</td>\n",
       "      <td>1</td>\n",
       "      <td>0</td>\n",
       "      <td>0</td>\n",
       "      <td>0</td>\n",
       "      <td>1</td>\n",
       "      <td>0</td>\n",
       "    </tr>\n",
       "    <tr>\n",
       "      <th>3</th>\n",
       "      <td>raw_data_d90846c3-3969-11ed-a96d-b469216ca443.csv</td>\n",
       "      <td>кулак</td>\n",
       "      <td>0</td>\n",
       "      <td>23</td>\n",
       "      <td>0</td>\n",
       "      <td>1</td>\n",
       "      <td>0</td>\n",
       "      <td>0</td>\n",
       "      <td>0</td>\n",
       "      <td>1</td>\n",
       "    </tr>\n",
       "    <tr>\n",
       "      <th>4</th>\n",
       "      <td>raw_data_c27fbeb3-1882-11ed-95c1-b469216ca443.csv</td>\n",
       "      <td>кинетический тремор</td>\n",
       "      <td>0</td>\n",
       "      <td>23</td>\n",
       "      <td>0</td>\n",
       "      <td>2</td>\n",
       "      <td>0</td>\n",
       "      <td>0</td>\n",
       "      <td>0</td>\n",
       "      <td>1</td>\n",
       "    </tr>\n",
       "    <tr>\n",
       "      <th>...</th>\n",
       "      <td>...</td>\n",
       "      <td>...</td>\n",
       "      <td>...</td>\n",
       "      <td>...</td>\n",
       "      <td>...</td>\n",
       "      <td>...</td>\n",
       "      <td>...</td>\n",
       "      <td>...</td>\n",
       "      <td>...</td>\n",
       "      <td>...</td>\n",
       "    </tr>\n",
       "    <tr>\n",
       "      <th>828</th>\n",
       "      <td>raw_data_e454ecdf-6fd9-11ed-8c3e-e82aea2c97f4.csv</td>\n",
       "      <td>Постуральный тремор</td>\n",
       "      <td>0</td>\n",
       "      <td>63</td>\n",
       "      <td>1</td>\n",
       "      <td>0</td>\n",
       "      <td>0</td>\n",
       "      <td>0</td>\n",
       "      <td>1</td>\n",
       "      <td>0</td>\n",
       "    </tr>\n",
       "    <tr>\n",
       "      <th>829</th>\n",
       "      <td>raw_data_ed2a29d7-c16e-11ec-b4b8-e82aea2c97f4.csv</td>\n",
       "      <td>Постуральный тремор</td>\n",
       "      <td>1</td>\n",
       "      <td>66</td>\n",
       "      <td>1</td>\n",
       "      <td>3</td>\n",
       "      <td>0</td>\n",
       "      <td>0</td>\n",
       "      <td>1</td>\n",
       "      <td>0</td>\n",
       "    </tr>\n",
       "    <tr>\n",
       "      <th>830</th>\n",
       "      <td>raw_data_f4a07d6b-64c3-11ed-aa07-e82aea2c97f4.csv</td>\n",
       "      <td>Постуральный тремор</td>\n",
       "      <td>1</td>\n",
       "      <td>67</td>\n",
       "      <td>0</td>\n",
       "      <td>0</td>\n",
       "      <td>0</td>\n",
       "      <td>0</td>\n",
       "      <td>1</td>\n",
       "      <td>0</td>\n",
       "    </tr>\n",
       "    <tr>\n",
       "      <th>831</th>\n",
       "      <td>raw_data_c00aef37-0d5e-11ed-898c-80847c24eb6e.csv</td>\n",
       "      <td>кинетический тремор</td>\n",
       "      <td>0</td>\n",
       "      <td>61</td>\n",
       "      <td>1</td>\n",
       "      <td>0</td>\n",
       "      <td>0</td>\n",
       "      <td>0</td>\n",
       "      <td>1</td>\n",
       "      <td>0</td>\n",
       "    </tr>\n",
       "    <tr>\n",
       "      <th>832</th>\n",
       "      <td>raw_data_f3bb1bf3-1c63-11ed-8f50-b469216ca443.csv</td>\n",
       "      <td>Постуральный тремор</td>\n",
       "      <td>0</td>\n",
       "      <td>23</td>\n",
       "      <td>0</td>\n",
       "      <td>0</td>\n",
       "      <td>0</td>\n",
       "      <td>0</td>\n",
       "      <td>0</td>\n",
       "      <td>1</td>\n",
       "    </tr>\n",
       "  </tbody>\n",
       "</table>\n",
       "<p>833 rows × 10 columns</p>\n",
       "</div>\n",
       "    <div class=\"colab-df-buttons\">\n",
       "\n",
       "  <div class=\"colab-df-container\">\n",
       "    <button class=\"colab-df-convert\" onclick=\"convertToInteractive('df-4dd9091b-d4e8-4efb-ae58-183b8fc66143')\"\n",
       "            title=\"Convert this dataframe to an interactive table.\"\n",
       "            style=\"display:none;\">\n",
       "\n",
       "  <svg xmlns=\"http://www.w3.org/2000/svg\" height=\"24px\" viewBox=\"0 -960 960 960\">\n",
       "    <path d=\"M120-120v-720h720v720H120Zm60-500h600v-160H180v160Zm220 220h160v-160H400v160Zm0 220h160v-160H400v160ZM180-400h160v-160H180v160Zm440 0h160v-160H620v160ZM180-180h160v-160H180v160Zm440 0h160v-160H620v160Z\"/>\n",
       "  </svg>\n",
       "    </button>\n",
       "\n",
       "  <style>\n",
       "    .colab-df-container {\n",
       "      display:flex;\n",
       "      gap: 12px;\n",
       "    }\n",
       "\n",
       "    .colab-df-convert {\n",
       "      background-color: #E8F0FE;\n",
       "      border: none;\n",
       "      border-radius: 50%;\n",
       "      cursor: pointer;\n",
       "      display: none;\n",
       "      fill: #1967D2;\n",
       "      height: 32px;\n",
       "      padding: 0 0 0 0;\n",
       "      width: 32px;\n",
       "    }\n",
       "\n",
       "    .colab-df-convert:hover {\n",
       "      background-color: #E2EBFA;\n",
       "      box-shadow: 0px 1px 2px rgba(60, 64, 67, 0.3), 0px 1px 3px 1px rgba(60, 64, 67, 0.15);\n",
       "      fill: #174EA6;\n",
       "    }\n",
       "\n",
       "    .colab-df-buttons div {\n",
       "      margin-bottom: 4px;\n",
       "    }\n",
       "\n",
       "    [theme=dark] .colab-df-convert {\n",
       "      background-color: #3B4455;\n",
       "      fill: #D2E3FC;\n",
       "    }\n",
       "\n",
       "    [theme=dark] .colab-df-convert:hover {\n",
       "      background-color: #434B5C;\n",
       "      box-shadow: 0px 1px 3px 1px rgba(0, 0, 0, 0.15);\n",
       "      filter: drop-shadow(0px 1px 2px rgba(0, 0, 0, 0.3));\n",
       "      fill: #FFFFFF;\n",
       "    }\n",
       "  </style>\n",
       "\n",
       "    <script>\n",
       "      const buttonEl =\n",
       "        document.querySelector('#df-4dd9091b-d4e8-4efb-ae58-183b8fc66143 button.colab-df-convert');\n",
       "      buttonEl.style.display =\n",
       "        google.colab.kernel.accessAllowed ? 'block' : 'none';\n",
       "\n",
       "      async function convertToInteractive(key) {\n",
       "        const element = document.querySelector('#df-4dd9091b-d4e8-4efb-ae58-183b8fc66143');\n",
       "        const dataTable =\n",
       "          await google.colab.kernel.invokeFunction('convertToInteractive',\n",
       "                                                    [key], {});\n",
       "        if (!dataTable) return;\n",
       "\n",
       "        const docLinkHtml = 'Like what you see? Visit the ' +\n",
       "          '<a target=\"_blank\" href=https://colab.research.google.com/notebooks/data_table.ipynb>data table notebook</a>'\n",
       "          + ' to learn more about interactive tables.';\n",
       "        element.innerHTML = '';\n",
       "        dataTable['output_type'] = 'display_data';\n",
       "        await google.colab.output.renderOutput(dataTable, element);\n",
       "        const docLink = document.createElement('div');\n",
       "        docLink.innerHTML = docLinkHtml;\n",
       "        element.appendChild(docLink);\n",
       "      }\n",
       "    </script>\n",
       "  </div>\n",
       "\n",
       "\n",
       "<div id=\"df-6b57aceb-320b-4a27-bd5d-5dcd9fdd458f\">\n",
       "  <button class=\"colab-df-quickchart\" onclick=\"quickchart('df-6b57aceb-320b-4a27-bd5d-5dcd9fdd458f')\"\n",
       "            title=\"Suggest charts.\"\n",
       "            style=\"display:none;\">\n",
       "\n",
       "<svg xmlns=\"http://www.w3.org/2000/svg\" height=\"24px\"viewBox=\"0 0 24 24\"\n",
       "     width=\"24px\">\n",
       "    <g>\n",
       "        <path d=\"M19 3H5c-1.1 0-2 .9-2 2v14c0 1.1.9 2 2 2h14c1.1 0 2-.9 2-2V5c0-1.1-.9-2-2-2zM9 17H7v-7h2v7zm4 0h-2V7h2v10zm4 0h-2v-4h2v4z\"/>\n",
       "    </g>\n",
       "</svg>\n",
       "  </button>\n",
       "\n",
       "<style>\n",
       "  .colab-df-quickchart {\n",
       "      --bg-color: #E8F0FE;\n",
       "      --fill-color: #1967D2;\n",
       "      --hover-bg-color: #E2EBFA;\n",
       "      --hover-fill-color: #174EA6;\n",
       "      --disabled-fill-color: #AAA;\n",
       "      --disabled-bg-color: #DDD;\n",
       "  }\n",
       "\n",
       "  [theme=dark] .colab-df-quickchart {\n",
       "      --bg-color: #3B4455;\n",
       "      --fill-color: #D2E3FC;\n",
       "      --hover-bg-color: #434B5C;\n",
       "      --hover-fill-color: #FFFFFF;\n",
       "      --disabled-bg-color: #3B4455;\n",
       "      --disabled-fill-color: #666;\n",
       "  }\n",
       "\n",
       "  .colab-df-quickchart {\n",
       "    background-color: var(--bg-color);\n",
       "    border: none;\n",
       "    border-radius: 50%;\n",
       "    cursor: pointer;\n",
       "    display: none;\n",
       "    fill: var(--fill-color);\n",
       "    height: 32px;\n",
       "    padding: 0;\n",
       "    width: 32px;\n",
       "  }\n",
       "\n",
       "  .colab-df-quickchart:hover {\n",
       "    background-color: var(--hover-bg-color);\n",
       "    box-shadow: 0 1px 2px rgba(60, 64, 67, 0.3), 0 1px 3px 1px rgba(60, 64, 67, 0.15);\n",
       "    fill: var(--button-hover-fill-color);\n",
       "  }\n",
       "\n",
       "  .colab-df-quickchart-complete:disabled,\n",
       "  .colab-df-quickchart-complete:disabled:hover {\n",
       "    background-color: var(--disabled-bg-color);\n",
       "    fill: var(--disabled-fill-color);\n",
       "    box-shadow: none;\n",
       "  }\n",
       "\n",
       "  .colab-df-spinner {\n",
       "    border: 2px solid var(--fill-color);\n",
       "    border-color: transparent;\n",
       "    border-bottom-color: var(--fill-color);\n",
       "    animation:\n",
       "      spin 1s steps(1) infinite;\n",
       "  }\n",
       "\n",
       "  @keyframes spin {\n",
       "    0% {\n",
       "      border-color: transparent;\n",
       "      border-bottom-color: var(--fill-color);\n",
       "      border-left-color: var(--fill-color);\n",
       "    }\n",
       "    20% {\n",
       "      border-color: transparent;\n",
       "      border-left-color: var(--fill-color);\n",
       "      border-top-color: var(--fill-color);\n",
       "    }\n",
       "    30% {\n",
       "      border-color: transparent;\n",
       "      border-left-color: var(--fill-color);\n",
       "      border-top-color: var(--fill-color);\n",
       "      border-right-color: var(--fill-color);\n",
       "    }\n",
       "    40% {\n",
       "      border-color: transparent;\n",
       "      border-right-color: var(--fill-color);\n",
       "      border-top-color: var(--fill-color);\n",
       "    }\n",
       "    60% {\n",
       "      border-color: transparent;\n",
       "      border-right-color: var(--fill-color);\n",
       "    }\n",
       "    80% {\n",
       "      border-color: transparent;\n",
       "      border-right-color: var(--fill-color);\n",
       "      border-bottom-color: var(--fill-color);\n",
       "    }\n",
       "    90% {\n",
       "      border-color: transparent;\n",
       "      border-bottom-color: var(--fill-color);\n",
       "    }\n",
       "  }\n",
       "</style>\n",
       "\n",
       "  <script>\n",
       "    async function quickchart(key) {\n",
       "      const quickchartButtonEl =\n",
       "        document.querySelector('#' + key + ' button');\n",
       "      quickchartButtonEl.disabled = true;  // To prevent multiple clicks.\n",
       "      quickchartButtonEl.classList.add('colab-df-spinner');\n",
       "      try {\n",
       "        const charts = await google.colab.kernel.invokeFunction(\n",
       "            'suggestCharts', [key], {});\n",
       "      } catch (error) {\n",
       "        console.error('Error during call to suggestCharts:', error);\n",
       "      }\n",
       "      quickchartButtonEl.classList.remove('colab-df-spinner');\n",
       "      quickchartButtonEl.classList.add('colab-df-quickchart-complete');\n",
       "    }\n",
       "    (() => {\n",
       "      let quickchartButtonEl =\n",
       "        document.querySelector('#df-6b57aceb-320b-4a27-bd5d-5dcd9fdd458f button');\n",
       "      quickchartButtonEl.style.display =\n",
       "        google.colab.kernel.accessAllowed ? 'block' : 'none';\n",
       "    })();\n",
       "  </script>\n",
       "</div>\n",
       "    </div>\n",
       "  </div>\n"
      ],
      "text/plain": [
       "                                      имя файла данных          Folder Path  \\\n",
       "0    raw_data_d786d645-db38-11ec-b494-e82aea2c97f4.csv  кинетический тремор   \n",
       "1    raw_data_bdcba44f-0d6a-11ed-8857-b6da2cf29e9d.csv  Постуральный тремор   \n",
       "2    raw_data_750c0f09-b09a-11ec-9699-58a023d3f6d9.csv  Постуральный тремор   \n",
       "3    raw_data_d90846c3-3969-11ed-a96d-b469216ca443.csv                кулак   \n",
       "4    raw_data_c27fbeb3-1882-11ed-95c1-b469216ca443.csv  кинетический тремор   \n",
       "..                                                 ...                  ...   \n",
       "828  raw_data_e454ecdf-6fd9-11ed-8c3e-e82aea2c97f4.csv  Постуральный тремор   \n",
       "829  raw_data_ed2a29d7-c16e-11ec-b4b8-e82aea2c97f4.csv  Постуральный тремор   \n",
       "830  raw_data_f4a07d6b-64c3-11ed-aa07-e82aea2c97f4.csv  Постуральный тремор   \n",
       "831  raw_data_c00aef37-0d5e-11ed-898c-80847c24eb6e.csv  кинетический тремор   \n",
       "832  raw_data_f3bb1bf3-1c63-11ed-8f50-b469216ca443.csv  Постуральный тремор   \n",
       "\n",
       "    пол  полных лет  пациент off/on  определенный диагноз врачом (0-5)  \\\n",
       "0     0          52               0                                  1   \n",
       "1     0          78               1                                  0   \n",
       "2     0          71               1                                  0   \n",
       "3     0          23               0                                  1   \n",
       "4     0          23               0                                  2   \n",
       "..   ..         ...             ...                                ...   \n",
       "828   0          63               1                                  0   \n",
       "829   1          66               1                                  3   \n",
       "830   1          67               0                                  0   \n",
       "831   0          61               1                                  0   \n",
       "832   0          23               0                                  0   \n",
       "\n",
       "     Age_cat_adult  Age_cat_child  Age_cat_elderly  Age_cat_teen  \n",
       "0                1              0                0             0  \n",
       "1                0              0                1             0  \n",
       "2                0              0                1             0  \n",
       "3                0              0                0             1  \n",
       "4                0              0                0             1  \n",
       "..             ...            ...              ...           ...  \n",
       "828              0              0                1             0  \n",
       "829              0              0                1             0  \n",
       "830              0              0                1             0  \n",
       "831              0              0                1             0  \n",
       "832              0              0                0             1  \n",
       "\n",
       "[833 rows x 10 columns]"
      ]
     },
     "execution_count": 40,
     "metadata": {},
     "output_type": "execute_result"
    }
   ],
   "source": [
    "# # закодируем значения в столбце пол ('Age_cat')\n",
    "data = pd.get_dummies (data, columns = ['Age_cat'])\n",
    "data"
   ]
  },
  {
   "cell_type": "code",
   "execution_count": null,
   "metadata": {
    "id": "qiWWWyN8aqI0"
   },
   "outputs": [],
   "source": [
    "# data = pd.get_dummies (data, columns = ['определенный диагноз врачом (0-5)'])\n",
    "# data"
   ]
  },
  {
   "cell_type": "code",
   "execution_count": null,
   "metadata": {
    "colab": {
     "base_uri": "https://localhost:8080/"
    },
    "id": "UJtbTOL_sMTn",
    "outputId": "2654ff14-9e38-44c4-e9c3-13bc3d1deffe"
   },
   "outputs": [
    {
     "data": {
      "text/html": [
       "\n",
       "  <div id=\"df-24ae9f54-e833-40b6-8995-ddd8a1c9997d\" class=\"colab-df-container\">\n",
       "    <div>\n",
       "<style scoped>\n",
       "    .dataframe tbody tr th:only-of-type {\n",
       "        vertical-align: middle;\n",
       "    }\n",
       "\n",
       "    .dataframe tbody tr th {\n",
       "        vertical-align: top;\n",
       "    }\n",
       "\n",
       "    .dataframe thead th {\n",
       "        text-align: right;\n",
       "    }\n",
       "</style>\n",
       "<table border=\"1\" class=\"dataframe\">\n",
       "  <thead>\n",
       "    <tr style=\"text-align: right;\">\n",
       "      <th></th>\n",
       "      <th>имя файла данных</th>\n",
       "      <th>WRIST.x</th>\n",
       "      <th>WRIST.y</th>\n",
       "      <th>WRIST.z</th>\n",
       "      <th>THUMB_CMC.x</th>\n",
       "      <th>THUMB_CMC.y</th>\n",
       "      <th>THUMB_CMC.z</th>\n",
       "      <th>THUMB_MCP.x</th>\n",
       "      <th>THUMB_MCP.y</th>\n",
       "      <th>THUMB_MCP.z</th>\n",
       "      <th>...</th>\n",
       "      <th>PINKY_PIP.x</th>\n",
       "      <th>PINKY_PIP.y</th>\n",
       "      <th>PINKY_PIP.z</th>\n",
       "      <th>PINKY_DIP.x</th>\n",
       "      <th>PINKY_DIP.y</th>\n",
       "      <th>PINKY_DIP.z</th>\n",
       "      <th>PINKY_TIP.x</th>\n",
       "      <th>PINKY_TIP.y</th>\n",
       "      <th>PINKY_TIP.z</th>\n",
       "      <th>TIME</th>\n",
       "    </tr>\n",
       "  </thead>\n",
       "  <tbody>\n",
       "    <tr>\n",
       "      <th>0</th>\n",
       "      <td>raw_data_d786d645-db38-11ec-b494-e82aea2c97f4.csv</td>\n",
       "      <td>0.474426</td>\n",
       "      <td>0.356521</td>\n",
       "      <td>0.0</td>\n",
       "      <td>0.457477</td>\n",
       "      <td>0.332979</td>\n",
       "      <td>0.001877</td>\n",
       "      <td>0.439616</td>\n",
       "      <td>0.315740</td>\n",
       "      <td>-0.003887</td>\n",
       "      <td>...</td>\n",
       "      <td>0.431692</td>\n",
       "      <td>0.355881</td>\n",
       "      <td>-0.038310</td>\n",
       "      <td>0.428599</td>\n",
       "      <td>0.373598</td>\n",
       "      <td>-0.035599</td>\n",
       "      <td>0.428174</td>\n",
       "      <td>0.383885</td>\n",
       "      <td>-0.033508</td>\n",
       "      <td>10.772790</td>\n",
       "    </tr>\n",
       "    <tr>\n",
       "      <th>1</th>\n",
       "      <td>raw_data_bdcba44f-0d6a-11ed-8857-b6da2cf29e9d.csv</td>\n",
       "      <td>0.470986</td>\n",
       "      <td>0.725228</td>\n",
       "      <td>0.0</td>\n",
       "      <td>0.444570</td>\n",
       "      <td>0.752236</td>\n",
       "      <td>0.000901</td>\n",
       "      <td>0.418950</td>\n",
       "      <td>0.790904</td>\n",
       "      <td>-0.005450</td>\n",
       "      <td>...</td>\n",
       "      <td>0.476762</td>\n",
       "      <td>0.814136</td>\n",
       "      <td>-0.048974</td>\n",
       "      <td>0.480646</td>\n",
       "      <td>0.840815</td>\n",
       "      <td>-0.048713</td>\n",
       "      <td>0.482621</td>\n",
       "      <td>0.865458</td>\n",
       "      <td>-0.047944</td>\n",
       "      <td>10.518120</td>\n",
       "    </tr>\n",
       "    <tr>\n",
       "      <th>2</th>\n",
       "      <td>raw_data_750c0f09-b09a-11ec-9699-58a023d3f6d9.csv</td>\n",
       "      <td>0.681716</td>\n",
       "      <td>0.561563</td>\n",
       "      <td>0.0</td>\n",
       "      <td>0.661277</td>\n",
       "      <td>0.600513</td>\n",
       "      <td>-0.019913</td>\n",
       "      <td>0.647041</td>\n",
       "      <td>0.642124</td>\n",
       "      <td>-0.041087</td>\n",
       "      <td>...</td>\n",
       "      <td>0.761180</td>\n",
       "      <td>0.648565</td>\n",
       "      <td>-0.072640</td>\n",
       "      <td>0.773693</td>\n",
       "      <td>0.686159</td>\n",
       "      <td>-0.075167</td>\n",
       "      <td>0.782883</td>\n",
       "      <td>0.719365</td>\n",
       "      <td>-0.078075</td>\n",
       "      <td>10.318068</td>\n",
       "    </tr>\n",
       "    <tr>\n",
       "      <th>3</th>\n",
       "      <td>raw_data_d90846c3-3969-11ed-a96d-b469216ca443.csv</td>\n",
       "      <td>0.588447</td>\n",
       "      <td>0.507086</td>\n",
       "      <td>0.0</td>\n",
       "      <td>0.581456</td>\n",
       "      <td>0.511727</td>\n",
       "      <td>-0.009553</td>\n",
       "      <td>0.570253</td>\n",
       "      <td>0.509860</td>\n",
       "      <td>-0.014355</td>\n",
       "      <td>...</td>\n",
       "      <td>0.546806</td>\n",
       "      <td>0.487096</td>\n",
       "      <td>-0.008942</td>\n",
       "      <td>0.548114</td>\n",
       "      <td>0.495882</td>\n",
       "      <td>-0.009699</td>\n",
       "      <td>0.550511</td>\n",
       "      <td>0.496946</td>\n",
       "      <td>-0.009344</td>\n",
       "      <td>10.070469</td>\n",
       "    </tr>\n",
       "    <tr>\n",
       "      <th>4</th>\n",
       "      <td>raw_data_c27fbeb3-1882-11ed-95c1-b469216ca443.csv</td>\n",
       "      <td>0.540714</td>\n",
       "      <td>0.460623</td>\n",
       "      <td>0.0</td>\n",
       "      <td>0.548009</td>\n",
       "      <td>0.446258</td>\n",
       "      <td>0.000027</td>\n",
       "      <td>0.557672</td>\n",
       "      <td>0.437034</td>\n",
       "      <td>-0.002811</td>\n",
       "      <td>...</td>\n",
       "      <td>0.561502</td>\n",
       "      <td>0.471745</td>\n",
       "      <td>-0.022804</td>\n",
       "      <td>0.566432</td>\n",
       "      <td>0.472232</td>\n",
       "      <td>-0.023608</td>\n",
       "      <td>0.570757</td>\n",
       "      <td>0.472745</td>\n",
       "      <td>-0.024146</td>\n",
       "      <td>11.103565</td>\n",
       "    </tr>\n",
       "    <tr>\n",
       "      <th>...</th>\n",
       "      <td>...</td>\n",
       "      <td>...</td>\n",
       "      <td>...</td>\n",
       "      <td>...</td>\n",
       "      <td>...</td>\n",
       "      <td>...</td>\n",
       "      <td>...</td>\n",
       "      <td>...</td>\n",
       "      <td>...</td>\n",
       "      <td>...</td>\n",
       "      <td>...</td>\n",
       "      <td>...</td>\n",
       "      <td>...</td>\n",
       "      <td>...</td>\n",
       "      <td>...</td>\n",
       "      <td>...</td>\n",
       "      <td>...</td>\n",
       "      <td>...</td>\n",
       "      <td>...</td>\n",
       "      <td>...</td>\n",
       "      <td>...</td>\n",
       "    </tr>\n",
       "    <tr>\n",
       "      <th>828</th>\n",
       "      <td>raw_data_e454ecdf-6fd9-11ed-8c3e-e82aea2c97f4.csv</td>\n",
       "      <td>0.369590</td>\n",
       "      <td>0.561611</td>\n",
       "      <td>0.0</td>\n",
       "      <td>0.395811</td>\n",
       "      <td>0.594551</td>\n",
       "      <td>0.005150</td>\n",
       "      <td>0.415882</td>\n",
       "      <td>0.636727</td>\n",
       "      <td>0.002577</td>\n",
       "      <td>...</td>\n",
       "      <td>0.362922</td>\n",
       "      <td>0.657815</td>\n",
       "      <td>-0.035844</td>\n",
       "      <td>0.364434</td>\n",
       "      <td>0.673112</td>\n",
       "      <td>-0.035011</td>\n",
       "      <td>0.366529</td>\n",
       "      <td>0.683945</td>\n",
       "      <td>-0.034681</td>\n",
       "      <td>10.097775</td>\n",
       "    </tr>\n",
       "    <tr>\n",
       "      <th>829</th>\n",
       "      <td>raw_data_ed2a29d7-c16e-11ec-b4b8-e82aea2c97f4.csv</td>\n",
       "      <td>0.497309</td>\n",
       "      <td>0.426710</td>\n",
       "      <td>0.0</td>\n",
       "      <td>0.520728</td>\n",
       "      <td>0.452743</td>\n",
       "      <td>0.000759</td>\n",
       "      <td>0.541534</td>\n",
       "      <td>0.492224</td>\n",
       "      <td>-0.003418</td>\n",
       "      <td>...</td>\n",
       "      <td>0.480602</td>\n",
       "      <td>0.533457</td>\n",
       "      <td>-0.035060</td>\n",
       "      <td>0.479242</td>\n",
       "      <td>0.557219</td>\n",
       "      <td>-0.035799</td>\n",
       "      <td>0.478086</td>\n",
       "      <td>0.577331</td>\n",
       "      <td>-0.036698</td>\n",
       "      <td>10.451946</td>\n",
       "    </tr>\n",
       "    <tr>\n",
       "      <th>830</th>\n",
       "      <td>raw_data_f4a07d6b-64c3-11ed-aa07-e82aea2c97f4.csv</td>\n",
       "      <td>0.547563</td>\n",
       "      <td>0.515800</td>\n",
       "      <td>0.0</td>\n",
       "      <td>0.529089</td>\n",
       "      <td>0.536404</td>\n",
       "      <td>-0.003407</td>\n",
       "      <td>0.513834</td>\n",
       "      <td>0.567501</td>\n",
       "      <td>-0.008454</td>\n",
       "      <td>...</td>\n",
       "      <td>0.574150</td>\n",
       "      <td>0.579241</td>\n",
       "      <td>-0.029331</td>\n",
       "      <td>0.580362</td>\n",
       "      <td>0.593170</td>\n",
       "      <td>-0.030087</td>\n",
       "      <td>0.586758</td>\n",
       "      <td>0.608314</td>\n",
       "      <td>-0.030126</td>\n",
       "      <td>10.447763</td>\n",
       "    </tr>\n",
       "    <tr>\n",
       "      <th>831</th>\n",
       "      <td>raw_data_c00aef37-0d5e-11ed-898c-80847c24eb6e.csv</td>\n",
       "      <td>0.467025</td>\n",
       "      <td>0.723807</td>\n",
       "      <td>0.0</td>\n",
       "      <td>0.449847</td>\n",
       "      <td>0.712973</td>\n",
       "      <td>0.000990</td>\n",
       "      <td>0.431253</td>\n",
       "      <td>0.720030</td>\n",
       "      <td>-0.002557</td>\n",
       "      <td>...</td>\n",
       "      <td>0.433683</td>\n",
       "      <td>0.774389</td>\n",
       "      <td>-0.034735</td>\n",
       "      <td>0.423888</td>\n",
       "      <td>0.780284</td>\n",
       "      <td>-0.035351</td>\n",
       "      <td>0.415288</td>\n",
       "      <td>0.785784</td>\n",
       "      <td>-0.035681</td>\n",
       "      <td>3.874706</td>\n",
       "    </tr>\n",
       "    <tr>\n",
       "      <th>832</th>\n",
       "      <td>raw_data_f3bb1bf3-1c63-11ed-8f50-b469216ca443.csv</td>\n",
       "      <td>0.614446</td>\n",
       "      <td>0.533678</td>\n",
       "      <td>0.0</td>\n",
       "      <td>0.598766</td>\n",
       "      <td>0.554484</td>\n",
       "      <td>-0.003977</td>\n",
       "      <td>0.589066</td>\n",
       "      <td>0.585801</td>\n",
       "      <td>-0.008592</td>\n",
       "      <td>...</td>\n",
       "      <td>0.642966</td>\n",
       "      <td>0.593940</td>\n",
       "      <td>-0.027385</td>\n",
       "      <td>0.647399</td>\n",
       "      <td>0.610193</td>\n",
       "      <td>-0.029207</td>\n",
       "      <td>0.651245</td>\n",
       "      <td>0.626578</td>\n",
       "      <td>-0.030377</td>\n",
       "      <td>10.421008</td>\n",
       "    </tr>\n",
       "  </tbody>\n",
       "</table>\n",
       "<p>833 rows × 65 columns</p>\n",
       "</div>\n",
       "    <div class=\"colab-df-buttons\">\n",
       "\n",
       "  <div class=\"colab-df-container\">\n",
       "    <button class=\"colab-df-convert\" onclick=\"convertToInteractive('df-24ae9f54-e833-40b6-8995-ddd8a1c9997d')\"\n",
       "            title=\"Convert this dataframe to an interactive table.\"\n",
       "            style=\"display:none;\">\n",
       "\n",
       "  <svg xmlns=\"http://www.w3.org/2000/svg\" height=\"24px\" viewBox=\"0 -960 960 960\">\n",
       "    <path d=\"M120-120v-720h720v720H120Zm60-500h600v-160H180v160Zm220 220h160v-160H400v160Zm0 220h160v-160H400v160ZM180-400h160v-160H180v160Zm440 0h160v-160H620v160ZM180-180h160v-160H180v160Zm440 0h160v-160H620v160Z\"/>\n",
       "  </svg>\n",
       "    </button>\n",
       "\n",
       "  <style>\n",
       "    .colab-df-container {\n",
       "      display:flex;\n",
       "      gap: 12px;\n",
       "    }\n",
       "\n",
       "    .colab-df-convert {\n",
       "      background-color: #E8F0FE;\n",
       "      border: none;\n",
       "      border-radius: 50%;\n",
       "      cursor: pointer;\n",
       "      display: none;\n",
       "      fill: #1967D2;\n",
       "      height: 32px;\n",
       "      padding: 0 0 0 0;\n",
       "      width: 32px;\n",
       "    }\n",
       "\n",
       "    .colab-df-convert:hover {\n",
       "      background-color: #E2EBFA;\n",
       "      box-shadow: 0px 1px 2px rgba(60, 64, 67, 0.3), 0px 1px 3px 1px rgba(60, 64, 67, 0.15);\n",
       "      fill: #174EA6;\n",
       "    }\n",
       "\n",
       "    .colab-df-buttons div {\n",
       "      margin-bottom: 4px;\n",
       "    }\n",
       "\n",
       "    [theme=dark] .colab-df-convert {\n",
       "      background-color: #3B4455;\n",
       "      fill: #D2E3FC;\n",
       "    }\n",
       "\n",
       "    [theme=dark] .colab-df-convert:hover {\n",
       "      background-color: #434B5C;\n",
       "      box-shadow: 0px 1px 3px 1px rgba(0, 0, 0, 0.15);\n",
       "      filter: drop-shadow(0px 1px 2px rgba(0, 0, 0, 0.3));\n",
       "      fill: #FFFFFF;\n",
       "    }\n",
       "  </style>\n",
       "\n",
       "    <script>\n",
       "      const buttonEl =\n",
       "        document.querySelector('#df-24ae9f54-e833-40b6-8995-ddd8a1c9997d button.colab-df-convert');\n",
       "      buttonEl.style.display =\n",
       "        google.colab.kernel.accessAllowed ? 'block' : 'none';\n",
       "\n",
       "      async function convertToInteractive(key) {\n",
       "        const element = document.querySelector('#df-24ae9f54-e833-40b6-8995-ddd8a1c9997d');\n",
       "        const dataTable =\n",
       "          await google.colab.kernel.invokeFunction('convertToInteractive',\n",
       "                                                    [key], {});\n",
       "        if (!dataTable) return;\n",
       "\n",
       "        const docLinkHtml = 'Like what you see? Visit the ' +\n",
       "          '<a target=\"_blank\" href=https://colab.research.google.com/notebooks/data_table.ipynb>data table notebook</a>'\n",
       "          + ' to learn more about interactive tables.';\n",
       "        element.innerHTML = '';\n",
       "        dataTable['output_type'] = 'display_data';\n",
       "        await google.colab.output.renderOutput(dataTable, element);\n",
       "        const docLink = document.createElement('div');\n",
       "        docLink.innerHTML = docLinkHtml;\n",
       "        element.appendChild(docLink);\n",
       "      }\n",
       "    </script>\n",
       "  </div>\n",
       "\n",
       "\n",
       "<div id=\"df-fedf2964-66ab-45d1-ba33-6e86538a4c66\">\n",
       "  <button class=\"colab-df-quickchart\" onclick=\"quickchart('df-fedf2964-66ab-45d1-ba33-6e86538a4c66')\"\n",
       "            title=\"Suggest charts.\"\n",
       "            style=\"display:none;\">\n",
       "\n",
       "<svg xmlns=\"http://www.w3.org/2000/svg\" height=\"24px\"viewBox=\"0 0 24 24\"\n",
       "     width=\"24px\">\n",
       "    <g>\n",
       "        <path d=\"M19 3H5c-1.1 0-2 .9-2 2v14c0 1.1.9 2 2 2h14c1.1 0 2-.9 2-2V5c0-1.1-.9-2-2-2zM9 17H7v-7h2v7zm4 0h-2V7h2v10zm4 0h-2v-4h2v4z\"/>\n",
       "    </g>\n",
       "</svg>\n",
       "  </button>\n",
       "\n",
       "<style>\n",
       "  .colab-df-quickchart {\n",
       "      --bg-color: #E8F0FE;\n",
       "      --fill-color: #1967D2;\n",
       "      --hover-bg-color: #E2EBFA;\n",
       "      --hover-fill-color: #174EA6;\n",
       "      --disabled-fill-color: #AAA;\n",
       "      --disabled-bg-color: #DDD;\n",
       "  }\n",
       "\n",
       "  [theme=dark] .colab-df-quickchart {\n",
       "      --bg-color: #3B4455;\n",
       "      --fill-color: #D2E3FC;\n",
       "      --hover-bg-color: #434B5C;\n",
       "      --hover-fill-color: #FFFFFF;\n",
       "      --disabled-bg-color: #3B4455;\n",
       "      --disabled-fill-color: #666;\n",
       "  }\n",
       "\n",
       "  .colab-df-quickchart {\n",
       "    background-color: var(--bg-color);\n",
       "    border: none;\n",
       "    border-radius: 50%;\n",
       "    cursor: pointer;\n",
       "    display: none;\n",
       "    fill: var(--fill-color);\n",
       "    height: 32px;\n",
       "    padding: 0;\n",
       "    width: 32px;\n",
       "  }\n",
       "\n",
       "  .colab-df-quickchart:hover {\n",
       "    background-color: var(--hover-bg-color);\n",
       "    box-shadow: 0 1px 2px rgba(60, 64, 67, 0.3), 0 1px 3px 1px rgba(60, 64, 67, 0.15);\n",
       "    fill: var(--button-hover-fill-color);\n",
       "  }\n",
       "\n",
       "  .colab-df-quickchart-complete:disabled,\n",
       "  .colab-df-quickchart-complete:disabled:hover {\n",
       "    background-color: var(--disabled-bg-color);\n",
       "    fill: var(--disabled-fill-color);\n",
       "    box-shadow: none;\n",
       "  }\n",
       "\n",
       "  .colab-df-spinner {\n",
       "    border: 2px solid var(--fill-color);\n",
       "    border-color: transparent;\n",
       "    border-bottom-color: var(--fill-color);\n",
       "    animation:\n",
       "      spin 1s steps(1) infinite;\n",
       "  }\n",
       "\n",
       "  @keyframes spin {\n",
       "    0% {\n",
       "      border-color: transparent;\n",
       "      border-bottom-color: var(--fill-color);\n",
       "      border-left-color: var(--fill-color);\n",
       "    }\n",
       "    20% {\n",
       "      border-color: transparent;\n",
       "      border-left-color: var(--fill-color);\n",
       "      border-top-color: var(--fill-color);\n",
       "    }\n",
       "    30% {\n",
       "      border-color: transparent;\n",
       "      border-left-color: var(--fill-color);\n",
       "      border-top-color: var(--fill-color);\n",
       "      border-right-color: var(--fill-color);\n",
       "    }\n",
       "    40% {\n",
       "      border-color: transparent;\n",
       "      border-right-color: var(--fill-color);\n",
       "      border-top-color: var(--fill-color);\n",
       "    }\n",
       "    60% {\n",
       "      border-color: transparent;\n",
       "      border-right-color: var(--fill-color);\n",
       "    }\n",
       "    80% {\n",
       "      border-color: transparent;\n",
       "      border-right-color: var(--fill-color);\n",
       "      border-bottom-color: var(--fill-color);\n",
       "    }\n",
       "    90% {\n",
       "      border-color: transparent;\n",
       "      border-bottom-color: var(--fill-color);\n",
       "    }\n",
       "  }\n",
       "</style>\n",
       "\n",
       "  <script>\n",
       "    async function quickchart(key) {\n",
       "      const quickchartButtonEl =\n",
       "        document.querySelector('#' + key + ' button');\n",
       "      quickchartButtonEl.disabled = true;  // To prevent multiple clicks.\n",
       "      quickchartButtonEl.classList.add('colab-df-spinner');\n",
       "      try {\n",
       "        const charts = await google.colab.kernel.invokeFunction(\n",
       "            'suggestCharts', [key], {});\n",
       "      } catch (error) {\n",
       "        console.error('Error during call to suggestCharts:', error);\n",
       "      }\n",
       "      quickchartButtonEl.classList.remove('colab-df-spinner');\n",
       "      quickchartButtonEl.classList.add('colab-df-quickchart-complete');\n",
       "    }\n",
       "    (() => {\n",
       "      let quickchartButtonEl =\n",
       "        document.querySelector('#df-fedf2964-66ab-45d1-ba33-6e86538a4c66 button');\n",
       "      quickchartButtonEl.style.display =\n",
       "        google.colab.kernel.accessAllowed ? 'block' : 'none';\n",
       "    })();\n",
       "  </script>\n",
       "</div>\n",
       "    </div>\n",
       "  </div>\n"
      ],
      "text/plain": [
       "                                      имя файла данных   WRIST.x   WRIST.y  \\\n",
       "0    raw_data_d786d645-db38-11ec-b494-e82aea2c97f4.csv  0.474426  0.356521   \n",
       "1    raw_data_bdcba44f-0d6a-11ed-8857-b6da2cf29e9d.csv  0.470986  0.725228   \n",
       "2    raw_data_750c0f09-b09a-11ec-9699-58a023d3f6d9.csv  0.681716  0.561563   \n",
       "3    raw_data_d90846c3-3969-11ed-a96d-b469216ca443.csv  0.588447  0.507086   \n",
       "4    raw_data_c27fbeb3-1882-11ed-95c1-b469216ca443.csv  0.540714  0.460623   \n",
       "..                                                 ...       ...       ...   \n",
       "828  raw_data_e454ecdf-6fd9-11ed-8c3e-e82aea2c97f4.csv  0.369590  0.561611   \n",
       "829  raw_data_ed2a29d7-c16e-11ec-b4b8-e82aea2c97f4.csv  0.497309  0.426710   \n",
       "830  raw_data_f4a07d6b-64c3-11ed-aa07-e82aea2c97f4.csv  0.547563  0.515800   \n",
       "831  raw_data_c00aef37-0d5e-11ed-898c-80847c24eb6e.csv  0.467025  0.723807   \n",
       "832  raw_data_f3bb1bf3-1c63-11ed-8f50-b469216ca443.csv  0.614446  0.533678   \n",
       "\n",
       "     WRIST.z  THUMB_CMC.x  THUMB_CMC.y  THUMB_CMC.z  THUMB_MCP.x  THUMB_MCP.y  \\\n",
       "0        0.0     0.457477     0.332979     0.001877     0.439616     0.315740   \n",
       "1        0.0     0.444570     0.752236     0.000901     0.418950     0.790904   \n",
       "2        0.0     0.661277     0.600513    -0.019913     0.647041     0.642124   \n",
       "3        0.0     0.581456     0.511727    -0.009553     0.570253     0.509860   \n",
       "4        0.0     0.548009     0.446258     0.000027     0.557672     0.437034   \n",
       "..       ...          ...          ...          ...          ...          ...   \n",
       "828      0.0     0.395811     0.594551     0.005150     0.415882     0.636727   \n",
       "829      0.0     0.520728     0.452743     0.000759     0.541534     0.492224   \n",
       "830      0.0     0.529089     0.536404    -0.003407     0.513834     0.567501   \n",
       "831      0.0     0.449847     0.712973     0.000990     0.431253     0.720030   \n",
       "832      0.0     0.598766     0.554484    -0.003977     0.589066     0.585801   \n",
       "\n",
       "     THUMB_MCP.z  ...  PINKY_PIP.x  PINKY_PIP.y  PINKY_PIP.z  PINKY_DIP.x  \\\n",
       "0      -0.003887  ...     0.431692     0.355881    -0.038310     0.428599   \n",
       "1      -0.005450  ...     0.476762     0.814136    -0.048974     0.480646   \n",
       "2      -0.041087  ...     0.761180     0.648565    -0.072640     0.773693   \n",
       "3      -0.014355  ...     0.546806     0.487096    -0.008942     0.548114   \n",
       "4      -0.002811  ...     0.561502     0.471745    -0.022804     0.566432   \n",
       "..           ...  ...          ...          ...          ...          ...   \n",
       "828     0.002577  ...     0.362922     0.657815    -0.035844     0.364434   \n",
       "829    -0.003418  ...     0.480602     0.533457    -0.035060     0.479242   \n",
       "830    -0.008454  ...     0.574150     0.579241    -0.029331     0.580362   \n",
       "831    -0.002557  ...     0.433683     0.774389    -0.034735     0.423888   \n",
       "832    -0.008592  ...     0.642966     0.593940    -0.027385     0.647399   \n",
       "\n",
       "     PINKY_DIP.y  PINKY_DIP.z  PINKY_TIP.x  PINKY_TIP.y  PINKY_TIP.z  \\\n",
       "0       0.373598    -0.035599     0.428174     0.383885    -0.033508   \n",
       "1       0.840815    -0.048713     0.482621     0.865458    -0.047944   \n",
       "2       0.686159    -0.075167     0.782883     0.719365    -0.078075   \n",
       "3       0.495882    -0.009699     0.550511     0.496946    -0.009344   \n",
       "4       0.472232    -0.023608     0.570757     0.472745    -0.024146   \n",
       "..           ...          ...          ...          ...          ...   \n",
       "828     0.673112    -0.035011     0.366529     0.683945    -0.034681   \n",
       "829     0.557219    -0.035799     0.478086     0.577331    -0.036698   \n",
       "830     0.593170    -0.030087     0.586758     0.608314    -0.030126   \n",
       "831     0.780284    -0.035351     0.415288     0.785784    -0.035681   \n",
       "832     0.610193    -0.029207     0.651245     0.626578    -0.030377   \n",
       "\n",
       "          TIME  \n",
       "0    10.772790  \n",
       "1    10.518120  \n",
       "2    10.318068  \n",
       "3    10.070469  \n",
       "4    11.103565  \n",
       "..         ...  \n",
       "828  10.097775  \n",
       "829  10.451946  \n",
       "830  10.447763  \n",
       "831   3.874706  \n",
       "832  10.421008  \n",
       "\n",
       "[833 rows x 65 columns]"
      ]
     },
     "execution_count": 42,
     "metadata": {},
     "output_type": "execute_result"
    }
   ],
   "source": [
    "dftr = pd.read_csv('/content/train_data.csv')\n",
    "dftr"
   ]
  },
  {
   "cell_type": "code",
   "execution_count": null,
   "metadata": {
    "colab": {
     "base_uri": "https://localhost:8080/"
    },
    "id": "mNyCc4M7v2DK",
    "outputId": "628553a1-5855-44f2-da76-64e68ff48564"
   },
   "outputs": [
    {
     "data": {
      "text/html": [
       "\n",
       "  <div id=\"df-4f508173-2981-405f-bd09-9231735d04b6\" class=\"colab-df-container\">\n",
       "    <div>\n",
       "<style scoped>\n",
       "    .dataframe tbody tr th:only-of-type {\n",
       "        vertical-align: middle;\n",
       "    }\n",
       "\n",
       "    .dataframe tbody tr th {\n",
       "        vertical-align: top;\n",
       "    }\n",
       "\n",
       "    .dataframe thead th {\n",
       "        text-align: right;\n",
       "    }\n",
       "</style>\n",
       "<table border=\"1\" class=\"dataframe\">\n",
       "  <thead>\n",
       "    <tr style=\"text-align: right;\">\n",
       "      <th></th>\n",
       "      <th>WRIST.x</th>\n",
       "      <th>WRIST.y</th>\n",
       "      <th>WRIST.z</th>\n",
       "      <th>THUMB_CMC.x</th>\n",
       "      <th>THUMB_CMC.y</th>\n",
       "      <th>THUMB_CMC.z</th>\n",
       "      <th>THUMB_MCP.x</th>\n",
       "      <th>THUMB_MCP.y</th>\n",
       "      <th>THUMB_MCP.z</th>\n",
       "      <th>THUMB_IP.x</th>\n",
       "      <th>...</th>\n",
       "      <th>PINKY_PIP.x</th>\n",
       "      <th>PINKY_PIP.y</th>\n",
       "      <th>PINKY_PIP.z</th>\n",
       "      <th>PINKY_DIP.x</th>\n",
       "      <th>PINKY_DIP.y</th>\n",
       "      <th>PINKY_DIP.z</th>\n",
       "      <th>PINKY_TIP.x</th>\n",
       "      <th>PINKY_TIP.y</th>\n",
       "      <th>PINKY_TIP.z</th>\n",
       "      <th>TIME</th>\n",
       "    </tr>\n",
       "  </thead>\n",
       "  <tbody>\n",
       "    <tr>\n",
       "      <th>count</th>\n",
       "      <td>833.000000</td>\n",
       "      <td>833.000000</td>\n",
       "      <td>833.0</td>\n",
       "      <td>833.000000</td>\n",
       "      <td>833.000000</td>\n",
       "      <td>833.000000</td>\n",
       "      <td>833.000000</td>\n",
       "      <td>833.000000</td>\n",
       "      <td>833.000000</td>\n",
       "      <td>833.000000</td>\n",
       "      <td>...</td>\n",
       "      <td>833.000000</td>\n",
       "      <td>833.000000</td>\n",
       "      <td>833.000000</td>\n",
       "      <td>833.000000</td>\n",
       "      <td>833.000000</td>\n",
       "      <td>833.000000</td>\n",
       "      <td>833.000000</td>\n",
       "      <td>833.000000</td>\n",
       "      <td>833.000000</td>\n",
       "      <td>833.000000</td>\n",
       "    </tr>\n",
       "    <tr>\n",
       "      <th>mean</th>\n",
       "      <td>0.483262</td>\n",
       "      <td>0.472487</td>\n",
       "      <td>0.0</td>\n",
       "      <td>0.484146</td>\n",
       "      <td>0.471591</td>\n",
       "      <td>-0.007183</td>\n",
       "      <td>0.485217</td>\n",
       "      <td>0.470142</td>\n",
       "      <td>-0.012757</td>\n",
       "      <td>0.485907</td>\n",
       "      <td>...</td>\n",
       "      <td>0.485421</td>\n",
       "      <td>0.466865</td>\n",
       "      <td>-0.022585</td>\n",
       "      <td>0.485912</td>\n",
       "      <td>0.473749</td>\n",
       "      <td>-0.024195</td>\n",
       "      <td>0.486272</td>\n",
       "      <td>0.478708</td>\n",
       "      <td>-0.024949</td>\n",
       "      <td>9.835788</td>\n",
       "    </tr>\n",
       "    <tr>\n",
       "      <th>std</th>\n",
       "      <td>0.134606</td>\n",
       "      <td>0.124399</td>\n",
       "      <td>0.0</td>\n",
       "      <td>0.130554</td>\n",
       "      <td>0.129600</td>\n",
       "      <td>0.009460</td>\n",
       "      <td>0.130640</td>\n",
       "      <td>0.140442</td>\n",
       "      <td>0.012461</td>\n",
       "      <td>0.132804</td>\n",
       "      <td>...</td>\n",
       "      <td>0.153479</td>\n",
       "      <td>0.155168</td>\n",
       "      <td>0.023007</td>\n",
       "      <td>0.155360</td>\n",
       "      <td>0.160950</td>\n",
       "      <td>0.023572</td>\n",
       "      <td>0.156719</td>\n",
       "      <td>0.166612</td>\n",
       "      <td>0.024173</td>\n",
       "      <td>1.661162</td>\n",
       "    </tr>\n",
       "    <tr>\n",
       "      <th>min</th>\n",
       "      <td>0.165810</td>\n",
       "      <td>0.163061</td>\n",
       "      <td>0.0</td>\n",
       "      <td>0.152779</td>\n",
       "      <td>0.141187</td>\n",
       "      <td>-0.044006</td>\n",
       "      <td>0.128804</td>\n",
       "      <td>0.117272</td>\n",
       "      <td>-0.073071</td>\n",
       "      <td>0.112226</td>\n",
       "      <td>...</td>\n",
       "      <td>0.136346</td>\n",
       "      <td>0.078969</td>\n",
       "      <td>-0.119238</td>\n",
       "      <td>0.125811</td>\n",
       "      <td>0.063785</td>\n",
       "      <td>-0.139437</td>\n",
       "      <td>0.107262</td>\n",
       "      <td>0.049710</td>\n",
       "      <td>-0.155190</td>\n",
       "      <td>1.164790</td>\n",
       "    </tr>\n",
       "    <tr>\n",
       "      <th>25%</th>\n",
       "      <td>0.384647</td>\n",
       "      <td>0.381925</td>\n",
       "      <td>0.0</td>\n",
       "      <td>0.389053</td>\n",
       "      <td>0.375508</td>\n",
       "      <td>-0.013369</td>\n",
       "      <td>0.394689</td>\n",
       "      <td>0.361649</td>\n",
       "      <td>-0.018967</td>\n",
       "      <td>0.390948</td>\n",
       "      <td>...</td>\n",
       "      <td>0.372909</td>\n",
       "      <td>0.350119</td>\n",
       "      <td>-0.035173</td>\n",
       "      <td>0.371139</td>\n",
       "      <td>0.353718</td>\n",
       "      <td>-0.036616</td>\n",
       "      <td>0.370896</td>\n",
       "      <td>0.351999</td>\n",
       "      <td>-0.037946</td>\n",
       "      <td>9.785809</td>\n",
       "    </tr>\n",
       "    <tr>\n",
       "      <th>50%</th>\n",
       "      <td>0.472804</td>\n",
       "      <td>0.468181</td>\n",
       "      <td>0.0</td>\n",
       "      <td>0.474281</td>\n",
       "      <td>0.467879</td>\n",
       "      <td>-0.004479</td>\n",
       "      <td>0.480452</td>\n",
       "      <td>0.465059</td>\n",
       "      <td>-0.009678</td>\n",
       "      <td>0.482317</td>\n",
       "      <td>...</td>\n",
       "      <td>0.476462</td>\n",
       "      <td>0.463352</td>\n",
       "      <td>-0.024786</td>\n",
       "      <td>0.477026</td>\n",
       "      <td>0.469387</td>\n",
       "      <td>-0.025056</td>\n",
       "      <td>0.475174</td>\n",
       "      <td>0.474239</td>\n",
       "      <td>-0.024812</td>\n",
       "      <td>10.373427</td>\n",
       "    </tr>\n",
       "    <tr>\n",
       "      <th>75%</th>\n",
       "      <td>0.590913</td>\n",
       "      <td>0.564273</td>\n",
       "      <td>0.0</td>\n",
       "      <td>0.582073</td>\n",
       "      <td>0.571926</td>\n",
       "      <td>-0.000398</td>\n",
       "      <td>0.578097</td>\n",
       "      <td>0.572666</td>\n",
       "      <td>-0.003876</td>\n",
       "      <td>0.577291</td>\n",
       "      <td>...</td>\n",
       "      <td>0.601362</td>\n",
       "      <td>0.570132</td>\n",
       "      <td>-0.006662</td>\n",
       "      <td>0.603529</td>\n",
       "      <td>0.578447</td>\n",
       "      <td>-0.008821</td>\n",
       "      <td>0.604418</td>\n",
       "      <td>0.586691</td>\n",
       "      <td>-0.009759</td>\n",
       "      <td>10.578745</td>\n",
       "    </tr>\n",
       "    <tr>\n",
       "      <th>max</th>\n",
       "      <td>0.885169</td>\n",
       "      <td>0.843952</td>\n",
       "      <td>0.0</td>\n",
       "      <td>0.895052</td>\n",
       "      <td>0.848240</td>\n",
       "      <td>0.027088</td>\n",
       "      <td>0.917564</td>\n",
       "      <td>0.877943</td>\n",
       "      <td>0.033986</td>\n",
       "      <td>0.936902</td>\n",
       "      <td>...</td>\n",
       "      <td>0.943227</td>\n",
       "      <td>0.913159</td>\n",
       "      <td>0.037233</td>\n",
       "      <td>0.954761</td>\n",
       "      <td>0.939003</td>\n",
       "      <td>0.035724</td>\n",
       "      <td>0.964149</td>\n",
       "      <td>0.962288</td>\n",
       "      <td>0.034389</td>\n",
       "      <td>15.280519</td>\n",
       "    </tr>\n",
       "  </tbody>\n",
       "</table>\n",
       "<p>8 rows × 64 columns</p>\n",
       "</div>\n",
       "    <div class=\"colab-df-buttons\">\n",
       "\n",
       "  <div class=\"colab-df-container\">\n",
       "    <button class=\"colab-df-convert\" onclick=\"convertToInteractive('df-4f508173-2981-405f-bd09-9231735d04b6')\"\n",
       "            title=\"Convert this dataframe to an interactive table.\"\n",
       "            style=\"display:none;\">\n",
       "\n",
       "  <svg xmlns=\"http://www.w3.org/2000/svg\" height=\"24px\" viewBox=\"0 -960 960 960\">\n",
       "    <path d=\"M120-120v-720h720v720H120Zm60-500h600v-160H180v160Zm220 220h160v-160H400v160Zm0 220h160v-160H400v160ZM180-400h160v-160H180v160Zm440 0h160v-160H620v160ZM180-180h160v-160H180v160Zm440 0h160v-160H620v160Z\"/>\n",
       "  </svg>\n",
       "    </button>\n",
       "\n",
       "  <style>\n",
       "    .colab-df-container {\n",
       "      display:flex;\n",
       "      gap: 12px;\n",
       "    }\n",
       "\n",
       "    .colab-df-convert {\n",
       "      background-color: #E8F0FE;\n",
       "      border: none;\n",
       "      border-radius: 50%;\n",
       "      cursor: pointer;\n",
       "      display: none;\n",
       "      fill: #1967D2;\n",
       "      height: 32px;\n",
       "      padding: 0 0 0 0;\n",
       "      width: 32px;\n",
       "    }\n",
       "\n",
       "    .colab-df-convert:hover {\n",
       "      background-color: #E2EBFA;\n",
       "      box-shadow: 0px 1px 2px rgba(60, 64, 67, 0.3), 0px 1px 3px 1px rgba(60, 64, 67, 0.15);\n",
       "      fill: #174EA6;\n",
       "    }\n",
       "\n",
       "    .colab-df-buttons div {\n",
       "      margin-bottom: 4px;\n",
       "    }\n",
       "\n",
       "    [theme=dark] .colab-df-convert {\n",
       "      background-color: #3B4455;\n",
       "      fill: #D2E3FC;\n",
       "    }\n",
       "\n",
       "    [theme=dark] .colab-df-convert:hover {\n",
       "      background-color: #434B5C;\n",
       "      box-shadow: 0px 1px 3px 1px rgba(0, 0, 0, 0.15);\n",
       "      filter: drop-shadow(0px 1px 2px rgba(0, 0, 0, 0.3));\n",
       "      fill: #FFFFFF;\n",
       "    }\n",
       "  </style>\n",
       "\n",
       "    <script>\n",
       "      const buttonEl =\n",
       "        document.querySelector('#df-4f508173-2981-405f-bd09-9231735d04b6 button.colab-df-convert');\n",
       "      buttonEl.style.display =\n",
       "        google.colab.kernel.accessAllowed ? 'block' : 'none';\n",
       "\n",
       "      async function convertToInteractive(key) {\n",
       "        const element = document.querySelector('#df-4f508173-2981-405f-bd09-9231735d04b6');\n",
       "        const dataTable =\n",
       "          await google.colab.kernel.invokeFunction('convertToInteractive',\n",
       "                                                    [key], {});\n",
       "        if (!dataTable) return;\n",
       "\n",
       "        const docLinkHtml = 'Like what you see? Visit the ' +\n",
       "          '<a target=\"_blank\" href=https://colab.research.google.com/notebooks/data_table.ipynb>data table notebook</a>'\n",
       "          + ' to learn more about interactive tables.';\n",
       "        element.innerHTML = '';\n",
       "        dataTable['output_type'] = 'display_data';\n",
       "        await google.colab.output.renderOutput(dataTable, element);\n",
       "        const docLink = document.createElement('div');\n",
       "        docLink.innerHTML = docLinkHtml;\n",
       "        element.appendChild(docLink);\n",
       "      }\n",
       "    </script>\n",
       "  </div>\n",
       "\n",
       "\n",
       "<div id=\"df-ae0fa487-9f4b-4b16-a30f-c09f0b6ef14c\">\n",
       "  <button class=\"colab-df-quickchart\" onclick=\"quickchart('df-ae0fa487-9f4b-4b16-a30f-c09f0b6ef14c')\"\n",
       "            title=\"Suggest charts.\"\n",
       "            style=\"display:none;\">\n",
       "\n",
       "<svg xmlns=\"http://www.w3.org/2000/svg\" height=\"24px\"viewBox=\"0 0 24 24\"\n",
       "     width=\"24px\">\n",
       "    <g>\n",
       "        <path d=\"M19 3H5c-1.1 0-2 .9-2 2v14c0 1.1.9 2 2 2h14c1.1 0 2-.9 2-2V5c0-1.1-.9-2-2-2zM9 17H7v-7h2v7zm4 0h-2V7h2v10zm4 0h-2v-4h2v4z\"/>\n",
       "    </g>\n",
       "</svg>\n",
       "  </button>\n",
       "\n",
       "<style>\n",
       "  .colab-df-quickchart {\n",
       "      --bg-color: #E8F0FE;\n",
       "      --fill-color: #1967D2;\n",
       "      --hover-bg-color: #E2EBFA;\n",
       "      --hover-fill-color: #174EA6;\n",
       "      --disabled-fill-color: #AAA;\n",
       "      --disabled-bg-color: #DDD;\n",
       "  }\n",
       "\n",
       "  [theme=dark] .colab-df-quickchart {\n",
       "      --bg-color: #3B4455;\n",
       "      --fill-color: #D2E3FC;\n",
       "      --hover-bg-color: #434B5C;\n",
       "      --hover-fill-color: #FFFFFF;\n",
       "      --disabled-bg-color: #3B4455;\n",
       "      --disabled-fill-color: #666;\n",
       "  }\n",
       "\n",
       "  .colab-df-quickchart {\n",
       "    background-color: var(--bg-color);\n",
       "    border: none;\n",
       "    border-radius: 50%;\n",
       "    cursor: pointer;\n",
       "    display: none;\n",
       "    fill: var(--fill-color);\n",
       "    height: 32px;\n",
       "    padding: 0;\n",
       "    width: 32px;\n",
       "  }\n",
       "\n",
       "  .colab-df-quickchart:hover {\n",
       "    background-color: var(--hover-bg-color);\n",
       "    box-shadow: 0 1px 2px rgba(60, 64, 67, 0.3), 0 1px 3px 1px rgba(60, 64, 67, 0.15);\n",
       "    fill: var(--button-hover-fill-color);\n",
       "  }\n",
       "\n",
       "  .colab-df-quickchart-complete:disabled,\n",
       "  .colab-df-quickchart-complete:disabled:hover {\n",
       "    background-color: var(--disabled-bg-color);\n",
       "    fill: var(--disabled-fill-color);\n",
       "    box-shadow: none;\n",
       "  }\n",
       "\n",
       "  .colab-df-spinner {\n",
       "    border: 2px solid var(--fill-color);\n",
       "    border-color: transparent;\n",
       "    border-bottom-color: var(--fill-color);\n",
       "    animation:\n",
       "      spin 1s steps(1) infinite;\n",
       "  }\n",
       "\n",
       "  @keyframes spin {\n",
       "    0% {\n",
       "      border-color: transparent;\n",
       "      border-bottom-color: var(--fill-color);\n",
       "      border-left-color: var(--fill-color);\n",
       "    }\n",
       "    20% {\n",
       "      border-color: transparent;\n",
       "      border-left-color: var(--fill-color);\n",
       "      border-top-color: var(--fill-color);\n",
       "    }\n",
       "    30% {\n",
       "      border-color: transparent;\n",
       "      border-left-color: var(--fill-color);\n",
       "      border-top-color: var(--fill-color);\n",
       "      border-right-color: var(--fill-color);\n",
       "    }\n",
       "    40% {\n",
       "      border-color: transparent;\n",
       "      border-right-color: var(--fill-color);\n",
       "      border-top-color: var(--fill-color);\n",
       "    }\n",
       "    60% {\n",
       "      border-color: transparent;\n",
       "      border-right-color: var(--fill-color);\n",
       "    }\n",
       "    80% {\n",
       "      border-color: transparent;\n",
       "      border-right-color: var(--fill-color);\n",
       "      border-bottom-color: var(--fill-color);\n",
       "    }\n",
       "    90% {\n",
       "      border-color: transparent;\n",
       "      border-bottom-color: var(--fill-color);\n",
       "    }\n",
       "  }\n",
       "</style>\n",
       "\n",
       "  <script>\n",
       "    async function quickchart(key) {\n",
       "      const quickchartButtonEl =\n",
       "        document.querySelector('#' + key + ' button');\n",
       "      quickchartButtonEl.disabled = true;  // To prevent multiple clicks.\n",
       "      quickchartButtonEl.classList.add('colab-df-spinner');\n",
       "      try {\n",
       "        const charts = await google.colab.kernel.invokeFunction(\n",
       "            'suggestCharts', [key], {});\n",
       "      } catch (error) {\n",
       "        console.error('Error during call to suggestCharts:', error);\n",
       "      }\n",
       "      quickchartButtonEl.classList.remove('colab-df-spinner');\n",
       "      quickchartButtonEl.classList.add('colab-df-quickchart-complete');\n",
       "    }\n",
       "    (() => {\n",
       "      let quickchartButtonEl =\n",
       "        document.querySelector('#df-ae0fa487-9f4b-4b16-a30f-c09f0b6ef14c button');\n",
       "      quickchartButtonEl.style.display =\n",
       "        google.colab.kernel.accessAllowed ? 'block' : 'none';\n",
       "    })();\n",
       "  </script>\n",
       "</div>\n",
       "    </div>\n",
       "  </div>\n"
      ],
      "text/plain": [
       "          WRIST.x     WRIST.y  WRIST.z  THUMB_CMC.x  THUMB_CMC.y  THUMB_CMC.z  \\\n",
       "count  833.000000  833.000000    833.0   833.000000   833.000000   833.000000   \n",
       "mean     0.483262    0.472487      0.0     0.484146     0.471591    -0.007183   \n",
       "std      0.134606    0.124399      0.0     0.130554     0.129600     0.009460   \n",
       "min      0.165810    0.163061      0.0     0.152779     0.141187    -0.044006   \n",
       "25%      0.384647    0.381925      0.0     0.389053     0.375508    -0.013369   \n",
       "50%      0.472804    0.468181      0.0     0.474281     0.467879    -0.004479   \n",
       "75%      0.590913    0.564273      0.0     0.582073     0.571926    -0.000398   \n",
       "max      0.885169    0.843952      0.0     0.895052     0.848240     0.027088   \n",
       "\n",
       "       THUMB_MCP.x  THUMB_MCP.y  THUMB_MCP.z  THUMB_IP.x  ...  PINKY_PIP.x  \\\n",
       "count   833.000000   833.000000   833.000000  833.000000  ...   833.000000   \n",
       "mean      0.485217     0.470142    -0.012757    0.485907  ...     0.485421   \n",
       "std       0.130640     0.140442     0.012461    0.132804  ...     0.153479   \n",
       "min       0.128804     0.117272    -0.073071    0.112226  ...     0.136346   \n",
       "25%       0.394689     0.361649    -0.018967    0.390948  ...     0.372909   \n",
       "50%       0.480452     0.465059    -0.009678    0.482317  ...     0.476462   \n",
       "75%       0.578097     0.572666    -0.003876    0.577291  ...     0.601362   \n",
       "max       0.917564     0.877943     0.033986    0.936902  ...     0.943227   \n",
       "\n",
       "       PINKY_PIP.y  PINKY_PIP.z  PINKY_DIP.x  PINKY_DIP.y  PINKY_DIP.z  \\\n",
       "count   833.000000   833.000000   833.000000   833.000000   833.000000   \n",
       "mean      0.466865    -0.022585     0.485912     0.473749    -0.024195   \n",
       "std       0.155168     0.023007     0.155360     0.160950     0.023572   \n",
       "min       0.078969    -0.119238     0.125811     0.063785    -0.139437   \n",
       "25%       0.350119    -0.035173     0.371139     0.353718    -0.036616   \n",
       "50%       0.463352    -0.024786     0.477026     0.469387    -0.025056   \n",
       "75%       0.570132    -0.006662     0.603529     0.578447    -0.008821   \n",
       "max       0.913159     0.037233     0.954761     0.939003     0.035724   \n",
       "\n",
       "       PINKY_TIP.x  PINKY_TIP.y  PINKY_TIP.z        TIME  \n",
       "count   833.000000   833.000000   833.000000  833.000000  \n",
       "mean      0.486272     0.478708    -0.024949    9.835788  \n",
       "std       0.156719     0.166612     0.024173    1.661162  \n",
       "min       0.107262     0.049710    -0.155190    1.164790  \n",
       "25%       0.370896     0.351999    -0.037946    9.785809  \n",
       "50%       0.475174     0.474239    -0.024812   10.373427  \n",
       "75%       0.604418     0.586691    -0.009759   10.578745  \n",
       "max       0.964149     0.962288     0.034389   15.280519  \n",
       "\n",
       "[8 rows x 64 columns]"
      ]
     },
     "execution_count": 43,
     "metadata": {},
     "output_type": "execute_result"
    }
   ],
   "source": [
    "dftr.describe()"
   ]
  },
  {
   "cell_type": "code",
   "execution_count": null,
   "metadata": {
    "colab": {
     "base_uri": "https://localhost:8080/"
    },
    "id": "LtV2Pl0CQiKG",
    "outputId": "3f80e079-389b-49b4-dddb-133bf7b917ba"
   },
   "outputs": [
    {
     "data": {
      "text/html": [
       "\n",
       "  <div id=\"df-5a38e6d8-87d9-4e42-9b22-db46a4b460b9\" class=\"colab-df-container\">\n",
       "    <div>\n",
       "<style scoped>\n",
       "    .dataframe tbody tr th:only-of-type {\n",
       "        vertical-align: middle;\n",
       "    }\n",
       "\n",
       "    .dataframe tbody tr th {\n",
       "        vertical-align: top;\n",
       "    }\n",
       "\n",
       "    .dataframe thead th {\n",
       "        text-align: right;\n",
       "    }\n",
       "</style>\n",
       "<table border=\"1\" class=\"dataframe\">\n",
       "  <thead>\n",
       "    <tr style=\"text-align: right;\">\n",
       "      <th></th>\n",
       "      <th>имя файла данных</th>\n",
       "      <th>Folder Path</th>\n",
       "      <th>пол</th>\n",
       "      <th>полных лет</th>\n",
       "      <th>пациент off/on</th>\n",
       "      <th>определенный диагноз врачом (0-5)</th>\n",
       "      <th>Age_cat_adult</th>\n",
       "      <th>Age_cat_child</th>\n",
       "      <th>Age_cat_elderly</th>\n",
       "      <th>Age_cat_teen</th>\n",
       "      <th>...</th>\n",
       "      <th>PINKY_PIP.x</th>\n",
       "      <th>PINKY_PIP.y</th>\n",
       "      <th>PINKY_PIP.z</th>\n",
       "      <th>PINKY_DIP.x</th>\n",
       "      <th>PINKY_DIP.y</th>\n",
       "      <th>PINKY_DIP.z</th>\n",
       "      <th>PINKY_TIP.x</th>\n",
       "      <th>PINKY_TIP.y</th>\n",
       "      <th>PINKY_TIP.z</th>\n",
       "      <th>TIME</th>\n",
       "    </tr>\n",
       "  </thead>\n",
       "  <tbody>\n",
       "    <tr>\n",
       "      <th>0</th>\n",
       "      <td>raw_data_d786d645-db38-11ec-b494-e82aea2c97f4.csv</td>\n",
       "      <td>кинетический тремор</td>\n",
       "      <td>0</td>\n",
       "      <td>52</td>\n",
       "      <td>0</td>\n",
       "      <td>1</td>\n",
       "      <td>1</td>\n",
       "      <td>0</td>\n",
       "      <td>0</td>\n",
       "      <td>0</td>\n",
       "      <td>...</td>\n",
       "      <td>0.431692</td>\n",
       "      <td>0.355881</td>\n",
       "      <td>-0.038310</td>\n",
       "      <td>0.428599</td>\n",
       "      <td>0.373598</td>\n",
       "      <td>-0.035599</td>\n",
       "      <td>0.428174</td>\n",
       "      <td>0.383885</td>\n",
       "      <td>-0.033508</td>\n",
       "      <td>10.772790</td>\n",
       "    </tr>\n",
       "    <tr>\n",
       "      <th>1</th>\n",
       "      <td>raw_data_bdcba44f-0d6a-11ed-8857-b6da2cf29e9d.csv</td>\n",
       "      <td>Постуральный тремор</td>\n",
       "      <td>0</td>\n",
       "      <td>78</td>\n",
       "      <td>1</td>\n",
       "      <td>0</td>\n",
       "      <td>0</td>\n",
       "      <td>0</td>\n",
       "      <td>1</td>\n",
       "      <td>0</td>\n",
       "      <td>...</td>\n",
       "      <td>0.476762</td>\n",
       "      <td>0.814136</td>\n",
       "      <td>-0.048974</td>\n",
       "      <td>0.480646</td>\n",
       "      <td>0.840815</td>\n",
       "      <td>-0.048713</td>\n",
       "      <td>0.482621</td>\n",
       "      <td>0.865458</td>\n",
       "      <td>-0.047944</td>\n",
       "      <td>10.518120</td>\n",
       "    </tr>\n",
       "    <tr>\n",
       "      <th>2</th>\n",
       "      <td>raw_data_750c0f09-b09a-11ec-9699-58a023d3f6d9.csv</td>\n",
       "      <td>Постуральный тремор</td>\n",
       "      <td>0</td>\n",
       "      <td>71</td>\n",
       "      <td>1</td>\n",
       "      <td>0</td>\n",
       "      <td>0</td>\n",
       "      <td>0</td>\n",
       "      <td>1</td>\n",
       "      <td>0</td>\n",
       "      <td>...</td>\n",
       "      <td>0.761180</td>\n",
       "      <td>0.648565</td>\n",
       "      <td>-0.072640</td>\n",
       "      <td>0.773693</td>\n",
       "      <td>0.686159</td>\n",
       "      <td>-0.075167</td>\n",
       "      <td>0.782883</td>\n",
       "      <td>0.719365</td>\n",
       "      <td>-0.078075</td>\n",
       "      <td>10.318068</td>\n",
       "    </tr>\n",
       "    <tr>\n",
       "      <th>3</th>\n",
       "      <td>raw_data_d90846c3-3969-11ed-a96d-b469216ca443.csv</td>\n",
       "      <td>кулак</td>\n",
       "      <td>0</td>\n",
       "      <td>23</td>\n",
       "      <td>0</td>\n",
       "      <td>1</td>\n",
       "      <td>0</td>\n",
       "      <td>0</td>\n",
       "      <td>0</td>\n",
       "      <td>1</td>\n",
       "      <td>...</td>\n",
       "      <td>0.546806</td>\n",
       "      <td>0.487096</td>\n",
       "      <td>-0.008942</td>\n",
       "      <td>0.548114</td>\n",
       "      <td>0.495882</td>\n",
       "      <td>-0.009699</td>\n",
       "      <td>0.550511</td>\n",
       "      <td>0.496946</td>\n",
       "      <td>-0.009344</td>\n",
       "      <td>10.070469</td>\n",
       "    </tr>\n",
       "    <tr>\n",
       "      <th>4</th>\n",
       "      <td>raw_data_c27fbeb3-1882-11ed-95c1-b469216ca443.csv</td>\n",
       "      <td>кинетический тремор</td>\n",
       "      <td>0</td>\n",
       "      <td>23</td>\n",
       "      <td>0</td>\n",
       "      <td>2</td>\n",
       "      <td>0</td>\n",
       "      <td>0</td>\n",
       "      <td>0</td>\n",
       "      <td>1</td>\n",
       "      <td>...</td>\n",
       "      <td>0.561502</td>\n",
       "      <td>0.471745</td>\n",
       "      <td>-0.022804</td>\n",
       "      <td>0.566432</td>\n",
       "      <td>0.472232</td>\n",
       "      <td>-0.023608</td>\n",
       "      <td>0.570757</td>\n",
       "      <td>0.472745</td>\n",
       "      <td>-0.024146</td>\n",
       "      <td>11.103565</td>\n",
       "    </tr>\n",
       "    <tr>\n",
       "      <th>...</th>\n",
       "      <td>...</td>\n",
       "      <td>...</td>\n",
       "      <td>...</td>\n",
       "      <td>...</td>\n",
       "      <td>...</td>\n",
       "      <td>...</td>\n",
       "      <td>...</td>\n",
       "      <td>...</td>\n",
       "      <td>...</td>\n",
       "      <td>...</td>\n",
       "      <td>...</td>\n",
       "      <td>...</td>\n",
       "      <td>...</td>\n",
       "      <td>...</td>\n",
       "      <td>...</td>\n",
       "      <td>...</td>\n",
       "      <td>...</td>\n",
       "      <td>...</td>\n",
       "      <td>...</td>\n",
       "      <td>...</td>\n",
       "      <td>...</td>\n",
       "    </tr>\n",
       "    <tr>\n",
       "      <th>828</th>\n",
       "      <td>raw_data_e454ecdf-6fd9-11ed-8c3e-e82aea2c97f4.csv</td>\n",
       "      <td>Постуральный тремор</td>\n",
       "      <td>0</td>\n",
       "      <td>63</td>\n",
       "      <td>1</td>\n",
       "      <td>0</td>\n",
       "      <td>0</td>\n",
       "      <td>0</td>\n",
       "      <td>1</td>\n",
       "      <td>0</td>\n",
       "      <td>...</td>\n",
       "      <td>0.362922</td>\n",
       "      <td>0.657815</td>\n",
       "      <td>-0.035844</td>\n",
       "      <td>0.364434</td>\n",
       "      <td>0.673112</td>\n",
       "      <td>-0.035011</td>\n",
       "      <td>0.366529</td>\n",
       "      <td>0.683945</td>\n",
       "      <td>-0.034681</td>\n",
       "      <td>10.097775</td>\n",
       "    </tr>\n",
       "    <tr>\n",
       "      <th>829</th>\n",
       "      <td>raw_data_ed2a29d7-c16e-11ec-b4b8-e82aea2c97f4.csv</td>\n",
       "      <td>Постуральный тремор</td>\n",
       "      <td>1</td>\n",
       "      <td>66</td>\n",
       "      <td>1</td>\n",
       "      <td>3</td>\n",
       "      <td>0</td>\n",
       "      <td>0</td>\n",
       "      <td>1</td>\n",
       "      <td>0</td>\n",
       "      <td>...</td>\n",
       "      <td>0.480602</td>\n",
       "      <td>0.533457</td>\n",
       "      <td>-0.035060</td>\n",
       "      <td>0.479242</td>\n",
       "      <td>0.557219</td>\n",
       "      <td>-0.035799</td>\n",
       "      <td>0.478086</td>\n",
       "      <td>0.577331</td>\n",
       "      <td>-0.036698</td>\n",
       "      <td>10.451946</td>\n",
       "    </tr>\n",
       "    <tr>\n",
       "      <th>830</th>\n",
       "      <td>raw_data_f4a07d6b-64c3-11ed-aa07-e82aea2c97f4.csv</td>\n",
       "      <td>Постуральный тремор</td>\n",
       "      <td>1</td>\n",
       "      <td>67</td>\n",
       "      <td>0</td>\n",
       "      <td>0</td>\n",
       "      <td>0</td>\n",
       "      <td>0</td>\n",
       "      <td>1</td>\n",
       "      <td>0</td>\n",
       "      <td>...</td>\n",
       "      <td>0.574150</td>\n",
       "      <td>0.579241</td>\n",
       "      <td>-0.029331</td>\n",
       "      <td>0.580362</td>\n",
       "      <td>0.593170</td>\n",
       "      <td>-0.030087</td>\n",
       "      <td>0.586758</td>\n",
       "      <td>0.608314</td>\n",
       "      <td>-0.030126</td>\n",
       "      <td>10.447763</td>\n",
       "    </tr>\n",
       "    <tr>\n",
       "      <th>831</th>\n",
       "      <td>raw_data_c00aef37-0d5e-11ed-898c-80847c24eb6e.csv</td>\n",
       "      <td>кинетический тремор</td>\n",
       "      <td>0</td>\n",
       "      <td>61</td>\n",
       "      <td>1</td>\n",
       "      <td>0</td>\n",
       "      <td>0</td>\n",
       "      <td>0</td>\n",
       "      <td>1</td>\n",
       "      <td>0</td>\n",
       "      <td>...</td>\n",
       "      <td>0.433683</td>\n",
       "      <td>0.774389</td>\n",
       "      <td>-0.034735</td>\n",
       "      <td>0.423888</td>\n",
       "      <td>0.780284</td>\n",
       "      <td>-0.035351</td>\n",
       "      <td>0.415288</td>\n",
       "      <td>0.785784</td>\n",
       "      <td>-0.035681</td>\n",
       "      <td>3.874706</td>\n",
       "    </tr>\n",
       "    <tr>\n",
       "      <th>832</th>\n",
       "      <td>raw_data_f3bb1bf3-1c63-11ed-8f50-b469216ca443.csv</td>\n",
       "      <td>Постуральный тремор</td>\n",
       "      <td>0</td>\n",
       "      <td>23</td>\n",
       "      <td>0</td>\n",
       "      <td>0</td>\n",
       "      <td>0</td>\n",
       "      <td>0</td>\n",
       "      <td>0</td>\n",
       "      <td>1</td>\n",
       "      <td>...</td>\n",
       "      <td>0.642966</td>\n",
       "      <td>0.593940</td>\n",
       "      <td>-0.027385</td>\n",
       "      <td>0.647399</td>\n",
       "      <td>0.610193</td>\n",
       "      <td>-0.029207</td>\n",
       "      <td>0.651245</td>\n",
       "      <td>0.626578</td>\n",
       "      <td>-0.030377</td>\n",
       "      <td>10.421008</td>\n",
       "    </tr>\n",
       "  </tbody>\n",
       "</table>\n",
       "<p>833 rows × 74 columns</p>\n",
       "</div>\n",
       "    <div class=\"colab-df-buttons\">\n",
       "\n",
       "  <div class=\"colab-df-container\">\n",
       "    <button class=\"colab-df-convert\" onclick=\"convertToInteractive('df-5a38e6d8-87d9-4e42-9b22-db46a4b460b9')\"\n",
       "            title=\"Convert this dataframe to an interactive table.\"\n",
       "            style=\"display:none;\">\n",
       "\n",
       "  <svg xmlns=\"http://www.w3.org/2000/svg\" height=\"24px\" viewBox=\"0 -960 960 960\">\n",
       "    <path d=\"M120-120v-720h720v720H120Zm60-500h600v-160H180v160Zm220 220h160v-160H400v160Zm0 220h160v-160H400v160ZM180-400h160v-160H180v160Zm440 0h160v-160H620v160ZM180-180h160v-160H180v160Zm440 0h160v-160H620v160Z\"/>\n",
       "  </svg>\n",
       "    </button>\n",
       "\n",
       "  <style>\n",
       "    .colab-df-container {\n",
       "      display:flex;\n",
       "      gap: 12px;\n",
       "    }\n",
       "\n",
       "    .colab-df-convert {\n",
       "      background-color: #E8F0FE;\n",
       "      border: none;\n",
       "      border-radius: 50%;\n",
       "      cursor: pointer;\n",
       "      display: none;\n",
       "      fill: #1967D2;\n",
       "      height: 32px;\n",
       "      padding: 0 0 0 0;\n",
       "      width: 32px;\n",
       "    }\n",
       "\n",
       "    .colab-df-convert:hover {\n",
       "      background-color: #E2EBFA;\n",
       "      box-shadow: 0px 1px 2px rgba(60, 64, 67, 0.3), 0px 1px 3px 1px rgba(60, 64, 67, 0.15);\n",
       "      fill: #174EA6;\n",
       "    }\n",
       "\n",
       "    .colab-df-buttons div {\n",
       "      margin-bottom: 4px;\n",
       "    }\n",
       "\n",
       "    [theme=dark] .colab-df-convert {\n",
       "      background-color: #3B4455;\n",
       "      fill: #D2E3FC;\n",
       "    }\n",
       "\n",
       "    [theme=dark] .colab-df-convert:hover {\n",
       "      background-color: #434B5C;\n",
       "      box-shadow: 0px 1px 3px 1px rgba(0, 0, 0, 0.15);\n",
       "      filter: drop-shadow(0px 1px 2px rgba(0, 0, 0, 0.3));\n",
       "      fill: #FFFFFF;\n",
       "    }\n",
       "  </style>\n",
       "\n",
       "    <script>\n",
       "      const buttonEl =\n",
       "        document.querySelector('#df-5a38e6d8-87d9-4e42-9b22-db46a4b460b9 button.colab-df-convert');\n",
       "      buttonEl.style.display =\n",
       "        google.colab.kernel.accessAllowed ? 'block' : 'none';\n",
       "\n",
       "      async function convertToInteractive(key) {\n",
       "        const element = document.querySelector('#df-5a38e6d8-87d9-4e42-9b22-db46a4b460b9');\n",
       "        const dataTable =\n",
       "          await google.colab.kernel.invokeFunction('convertToInteractive',\n",
       "                                                    [key], {});\n",
       "        if (!dataTable) return;\n",
       "\n",
       "        const docLinkHtml = 'Like what you see? Visit the ' +\n",
       "          '<a target=\"_blank\" href=https://colab.research.google.com/notebooks/data_table.ipynb>data table notebook</a>'\n",
       "          + ' to learn more about interactive tables.';\n",
       "        element.innerHTML = '';\n",
       "        dataTable['output_type'] = 'display_data';\n",
       "        await google.colab.output.renderOutput(dataTable, element);\n",
       "        const docLink = document.createElement('div');\n",
       "        docLink.innerHTML = docLinkHtml;\n",
       "        element.appendChild(docLink);\n",
       "      }\n",
       "    </script>\n",
       "  </div>\n",
       "\n",
       "\n",
       "<div id=\"df-27093f0c-5d4a-4153-84b8-61490c915019\">\n",
       "  <button class=\"colab-df-quickchart\" onclick=\"quickchart('df-27093f0c-5d4a-4153-84b8-61490c915019')\"\n",
       "            title=\"Suggest charts.\"\n",
       "            style=\"display:none;\">\n",
       "\n",
       "<svg xmlns=\"http://www.w3.org/2000/svg\" height=\"24px\"viewBox=\"0 0 24 24\"\n",
       "     width=\"24px\">\n",
       "    <g>\n",
       "        <path d=\"M19 3H5c-1.1 0-2 .9-2 2v14c0 1.1.9 2 2 2h14c1.1 0 2-.9 2-2V5c0-1.1-.9-2-2-2zM9 17H7v-7h2v7zm4 0h-2V7h2v10zm4 0h-2v-4h2v4z\"/>\n",
       "    </g>\n",
       "</svg>\n",
       "  </button>\n",
       "\n",
       "<style>\n",
       "  .colab-df-quickchart {\n",
       "      --bg-color: #E8F0FE;\n",
       "      --fill-color: #1967D2;\n",
       "      --hover-bg-color: #E2EBFA;\n",
       "      --hover-fill-color: #174EA6;\n",
       "      --disabled-fill-color: #AAA;\n",
       "      --disabled-bg-color: #DDD;\n",
       "  }\n",
       "\n",
       "  [theme=dark] .colab-df-quickchart {\n",
       "      --bg-color: #3B4455;\n",
       "      --fill-color: #D2E3FC;\n",
       "      --hover-bg-color: #434B5C;\n",
       "      --hover-fill-color: #FFFFFF;\n",
       "      --disabled-bg-color: #3B4455;\n",
       "      --disabled-fill-color: #666;\n",
       "  }\n",
       "\n",
       "  .colab-df-quickchart {\n",
       "    background-color: var(--bg-color);\n",
       "    border: none;\n",
       "    border-radius: 50%;\n",
       "    cursor: pointer;\n",
       "    display: none;\n",
       "    fill: var(--fill-color);\n",
       "    height: 32px;\n",
       "    padding: 0;\n",
       "    width: 32px;\n",
       "  }\n",
       "\n",
       "  .colab-df-quickchart:hover {\n",
       "    background-color: var(--hover-bg-color);\n",
       "    box-shadow: 0 1px 2px rgba(60, 64, 67, 0.3), 0 1px 3px 1px rgba(60, 64, 67, 0.15);\n",
       "    fill: var(--button-hover-fill-color);\n",
       "  }\n",
       "\n",
       "  .colab-df-quickchart-complete:disabled,\n",
       "  .colab-df-quickchart-complete:disabled:hover {\n",
       "    background-color: var(--disabled-bg-color);\n",
       "    fill: var(--disabled-fill-color);\n",
       "    box-shadow: none;\n",
       "  }\n",
       "\n",
       "  .colab-df-spinner {\n",
       "    border: 2px solid var(--fill-color);\n",
       "    border-color: transparent;\n",
       "    border-bottom-color: var(--fill-color);\n",
       "    animation:\n",
       "      spin 1s steps(1) infinite;\n",
       "  }\n",
       "\n",
       "  @keyframes spin {\n",
       "    0% {\n",
       "      border-color: transparent;\n",
       "      border-bottom-color: var(--fill-color);\n",
       "      border-left-color: var(--fill-color);\n",
       "    }\n",
       "    20% {\n",
       "      border-color: transparent;\n",
       "      border-left-color: var(--fill-color);\n",
       "      border-top-color: var(--fill-color);\n",
       "    }\n",
       "    30% {\n",
       "      border-color: transparent;\n",
       "      border-left-color: var(--fill-color);\n",
       "      border-top-color: var(--fill-color);\n",
       "      border-right-color: var(--fill-color);\n",
       "    }\n",
       "    40% {\n",
       "      border-color: transparent;\n",
       "      border-right-color: var(--fill-color);\n",
       "      border-top-color: var(--fill-color);\n",
       "    }\n",
       "    60% {\n",
       "      border-color: transparent;\n",
       "      border-right-color: var(--fill-color);\n",
       "    }\n",
       "    80% {\n",
       "      border-color: transparent;\n",
       "      border-right-color: var(--fill-color);\n",
       "      border-bottom-color: var(--fill-color);\n",
       "    }\n",
       "    90% {\n",
       "      border-color: transparent;\n",
       "      border-bottom-color: var(--fill-color);\n",
       "    }\n",
       "  }\n",
       "</style>\n",
       "\n",
       "  <script>\n",
       "    async function quickchart(key) {\n",
       "      const quickchartButtonEl =\n",
       "        document.querySelector('#' + key + ' button');\n",
       "      quickchartButtonEl.disabled = true;  // To prevent multiple clicks.\n",
       "      quickchartButtonEl.classList.add('colab-df-spinner');\n",
       "      try {\n",
       "        const charts = await google.colab.kernel.invokeFunction(\n",
       "            'suggestCharts', [key], {});\n",
       "      } catch (error) {\n",
       "        console.error('Error during call to suggestCharts:', error);\n",
       "      }\n",
       "      quickchartButtonEl.classList.remove('colab-df-spinner');\n",
       "      quickchartButtonEl.classList.add('colab-df-quickchart-complete');\n",
       "    }\n",
       "    (() => {\n",
       "      let quickchartButtonEl =\n",
       "        document.querySelector('#df-27093f0c-5d4a-4153-84b8-61490c915019 button');\n",
       "      quickchartButtonEl.style.display =\n",
       "        google.colab.kernel.accessAllowed ? 'block' : 'none';\n",
       "    })();\n",
       "  </script>\n",
       "</div>\n",
       "    </div>\n",
       "  </div>\n"
      ],
      "text/plain": [
       "                                      имя файла данных          Folder Path  \\\n",
       "0    raw_data_d786d645-db38-11ec-b494-e82aea2c97f4.csv  кинетический тремор   \n",
       "1    raw_data_bdcba44f-0d6a-11ed-8857-b6da2cf29e9d.csv  Постуральный тремор   \n",
       "2    raw_data_750c0f09-b09a-11ec-9699-58a023d3f6d9.csv  Постуральный тремор   \n",
       "3    raw_data_d90846c3-3969-11ed-a96d-b469216ca443.csv                кулак   \n",
       "4    raw_data_c27fbeb3-1882-11ed-95c1-b469216ca443.csv  кинетический тремор   \n",
       "..                                                 ...                  ...   \n",
       "828  raw_data_e454ecdf-6fd9-11ed-8c3e-e82aea2c97f4.csv  Постуральный тремор   \n",
       "829  raw_data_ed2a29d7-c16e-11ec-b4b8-e82aea2c97f4.csv  Постуральный тремор   \n",
       "830  raw_data_f4a07d6b-64c3-11ed-aa07-e82aea2c97f4.csv  Постуральный тремор   \n",
       "831  raw_data_c00aef37-0d5e-11ed-898c-80847c24eb6e.csv  кинетический тремор   \n",
       "832  raw_data_f3bb1bf3-1c63-11ed-8f50-b469216ca443.csv  Постуральный тремор   \n",
       "\n",
       "    пол  полных лет  пациент off/on  определенный диагноз врачом (0-5)  \\\n",
       "0     0          52               0                                  1   \n",
       "1     0          78               1                                  0   \n",
       "2     0          71               1                                  0   \n",
       "3     0          23               0                                  1   \n",
       "4     0          23               0                                  2   \n",
       "..   ..         ...             ...                                ...   \n",
       "828   0          63               1                                  0   \n",
       "829   1          66               1                                  3   \n",
       "830   1          67               0                                  0   \n",
       "831   0          61               1                                  0   \n",
       "832   0          23               0                                  0   \n",
       "\n",
       "     Age_cat_adult  Age_cat_child  Age_cat_elderly  Age_cat_teen  ...  \\\n",
       "0                1              0                0             0  ...   \n",
       "1                0              0                1             0  ...   \n",
       "2                0              0                1             0  ...   \n",
       "3                0              0                0             1  ...   \n",
       "4                0              0                0             1  ...   \n",
       "..             ...            ...              ...           ...  ...   \n",
       "828              0              0                1             0  ...   \n",
       "829              0              0                1             0  ...   \n",
       "830              0              0                1             0  ...   \n",
       "831              0              0                1             0  ...   \n",
       "832              0              0                0             1  ...   \n",
       "\n",
       "     PINKY_PIP.x  PINKY_PIP.y  PINKY_PIP.z  PINKY_DIP.x  PINKY_DIP.y  \\\n",
       "0       0.431692     0.355881    -0.038310     0.428599     0.373598   \n",
       "1       0.476762     0.814136    -0.048974     0.480646     0.840815   \n",
       "2       0.761180     0.648565    -0.072640     0.773693     0.686159   \n",
       "3       0.546806     0.487096    -0.008942     0.548114     0.495882   \n",
       "4       0.561502     0.471745    -0.022804     0.566432     0.472232   \n",
       "..           ...          ...          ...          ...          ...   \n",
       "828     0.362922     0.657815    -0.035844     0.364434     0.673112   \n",
       "829     0.480602     0.533457    -0.035060     0.479242     0.557219   \n",
       "830     0.574150     0.579241    -0.029331     0.580362     0.593170   \n",
       "831     0.433683     0.774389    -0.034735     0.423888     0.780284   \n",
       "832     0.642966     0.593940    -0.027385     0.647399     0.610193   \n",
       "\n",
       "     PINKY_DIP.z  PINKY_TIP.x  PINKY_TIP.y  PINKY_TIP.z       TIME  \n",
       "0      -0.035599     0.428174     0.383885    -0.033508  10.772790  \n",
       "1      -0.048713     0.482621     0.865458    -0.047944  10.518120  \n",
       "2      -0.075167     0.782883     0.719365    -0.078075  10.318068  \n",
       "3      -0.009699     0.550511     0.496946    -0.009344  10.070469  \n",
       "4      -0.023608     0.570757     0.472745    -0.024146  11.103565  \n",
       "..           ...          ...          ...          ...        ...  \n",
       "828    -0.035011     0.366529     0.683945    -0.034681  10.097775  \n",
       "829    -0.035799     0.478086     0.577331    -0.036698  10.451946  \n",
       "830    -0.030087     0.586758     0.608314    -0.030126  10.447763  \n",
       "831    -0.035351     0.415288     0.785784    -0.035681   3.874706  \n",
       "832    -0.029207     0.651245     0.626578    -0.030377  10.421008  \n",
       "\n",
       "[833 rows x 74 columns]"
      ]
     },
     "execution_count": 44,
     "metadata": {},
     "output_type": "execute_result"
    }
   ],
   "source": [
    " new_df = data.merge(dftr, how = 'outer')\n",
    " new_df"
   ]
  },
  {
   "cell_type": "code",
   "execution_count": null,
   "metadata": {
    "colab": {
     "base_uri": "https://localhost:8080/"
    },
    "id": "5nsUuQhYsx3h",
    "outputId": "bf0d4c25-ae99-4ac9-82b2-36f86c38b593"
   },
   "outputs": [
    {
     "data": {
      "text/plain": [
       "Index(['имя файла данных', 'Folder Path', 'пол', 'полных лет',\n",
       "       'пациент off/on', 'определенный диагноз врачом (0-5)', 'Age_cat_adult',\n",
       "       'Age_cat_child', 'Age_cat_elderly', 'Age_cat_teen', 'WRIST.x',\n",
       "       'WRIST.y', 'WRIST.z', 'THUMB_CMC.x', 'THUMB_CMC.y', 'THUMB_CMC.z',\n",
       "       'THUMB_MCP.x', 'THUMB_MCP.y', 'THUMB_MCP.z', 'THUMB_IP.x', 'THUMB_IP.y',\n",
       "       'THUMB_IP.z', 'THUMB_TIP.x', 'THUMB_TIP.y', 'THUMB_TIP.z',\n",
       "       'INDEX_FINGER_MCP.x', 'INDEX_FINGER_MCP.y', 'INDEX_FINGER_MCP.z',\n",
       "       'INDEX_FINGER_PIP.x', 'INDEX_FINGER_PIP.y', 'INDEX_FINGER_PIP.z',\n",
       "       'INDEX_FINGER_DIP.x', 'INDEX_FINGER_DIP.y', 'INDEX_FINGER_DIP.z',\n",
       "       'INDEX_FINGER_TIP.x', 'INDEX_FINGER_TIP.y', 'INDEX_FINGER_TIP.z',\n",
       "       'MIDDLE_FINGER_MCP.x', 'MIDDLE_FINGER_MCP.y', 'MIDDLE_FINGER_MCP.z',\n",
       "       'MIDDLE_FINGER_PIP.x', 'MIDDLE_FINGER_PIP.y', 'MIDDLE_FINGER_PIP.z',\n",
       "       'MIDDLE_FINGER_DIP.x', 'MIDDLE_FINGER_DIP.y', 'MIDDLE_FINGER_DIP.z',\n",
       "       'MIDDLE_FINGER_TIP.x', 'MIDDLE_FINGER_TIP.y', 'MIDDLE_FINGER_TIP.z',\n",
       "       'RING_FINGER_MCP.x', 'RING_FINGER_MCP.y', 'RING_FINGER_MCP.z',\n",
       "       'RING_FINGER_PIP.x', 'RING_FINGER_PIP.y', 'RING_FINGER_PIP.z',\n",
       "       'RING_FINGER_DIP.x', 'RING_FINGER_DIP.y', 'RING_FINGER_DIP.z',\n",
       "       'RING_FINGER_TIP.x', 'RING_FINGER_TIP.y', 'RING_FINGER_TIP.z',\n",
       "       'PINKY_MCP.x', 'PINKY_MCP.y', 'PINKY_MCP.z', 'PINKY_PIP.x',\n",
       "       'PINKY_PIP.y', 'PINKY_PIP.z', 'PINKY_DIP.x', 'PINKY_DIP.y',\n",
       "       'PINKY_DIP.z', 'PINKY_TIP.x', 'PINKY_TIP.y', 'PINKY_TIP.z', 'TIME'],\n",
       "      dtype='object')"
      ]
     },
     "execution_count": 45,
     "metadata": {},
     "output_type": "execute_result"
    }
   ],
   "source": [
    "new_df.columns"
   ]
  },
  {
   "cell_type": "code",
   "execution_count": null,
   "metadata": {
    "colab": {
     "base_uri": "https://localhost:8080/",
     "height": 236
    },
    "id": "1OaK4y4-g2bt",
    "outputId": "45d93387-3802-4bb7-de59-c41259b71697"
   },
   "outputs": [
    {
     "ename": "NameError",
     "evalue": "ignored",
     "output_type": "error",
     "traceback": [
      "\u001b[0;31m---------------------------------------------------------------------------\u001b[0m",
      "\u001b[0;31mNameError\u001b[0m                                 Traceback (most recent call last)",
      "\u001b[0;32m<ipython-input-1-50741f96da36>\u001b[0m in \u001b[0;36m<cell line: 3>\u001b[0;34m()\u001b[0m\n\u001b[1;32m      1\u001b[0m \u001b[0;31m# закодируем таргет\u001b[0m\u001b[0;34m\u001b[0m\u001b[0;34m\u001b[0m\u001b[0m\n\u001b[1;32m      2\u001b[0m \u001b[0;34m\u001b[0m\u001b[0m\n\u001b[0;32m----> 3\u001b[0;31m \u001b[0mle\u001b[0m \u001b[0;34m=\u001b[0m \u001b[0mLabelEncoder\u001b[0m\u001b[0;34m(\u001b[0m\u001b[0;34m)\u001b[0m\u001b[0;34m\u001b[0m\u001b[0;34m\u001b[0m\u001b[0m\n\u001b[0m\u001b[1;32m      4\u001b[0m \u001b[0mle\u001b[0m\u001b[0;34m.\u001b[0m\u001b[0mfit\u001b[0m\u001b[0;34m(\u001b[0m\u001b[0mnew_df\u001b[0m\u001b[0;34m[\u001b[0m\u001b[0;34m'Folder Path'\u001b[0m\u001b[0;34m]\u001b[0m\u001b[0;34m)\u001b[0m\u001b[0;34m\u001b[0m\u001b[0;34m\u001b[0m\u001b[0m\n",
      "\u001b[0;31mNameError\u001b[0m: name 'LabelEncoder' is not defined"
     ]
    }
   ],
   "source": [
    "# закодируем таргет\n",
    "\n",
    "le = LabelEncoder()\n",
    "le.fit(new_df['Folder Path'])"
   ]
  },
  {
   "cell_type": "code",
   "execution_count": null,
   "metadata": {
    "colab": {
     "base_uri": "https://localhost:8080/"
    },
    "id": "8CiXhTAE1kFr",
    "outputId": "2b605492-01ed-4baf-fe8e-406e6c54008f"
   },
   "outputs": [
    {
     "data": {
      "text/plain": [
       "array(['Постуральный тремор', 'Пронация и супинация кисти',\n",
       "       'кинетический тремор', 'кулак', 'постукивание пальцами'],\n",
       "      dtype=object)"
      ]
     },
     "execution_count": 47,
     "metadata": {},
     "output_type": "execute_result"
    }
   ],
   "source": [
    "le.classes_"
   ]
  },
  {
   "cell_type": "code",
   "execution_count": null,
   "metadata": {
    "id": "e2pNfRmMxJO2"
   },
   "outputs": [],
   "source": [
    "new_df['target'] =  le.transform(new_df['Folder Path'])"
   ]
  },
  {
   "cell_type": "code",
   "execution_count": null,
   "metadata": {
    "colab": {
     "base_uri": "https://localhost:8080/"
    },
    "id": "fwIM2d7wu_oZ",
    "outputId": "148580fd-2cf5-4b16-c37d-ec3c0db6b82e"
   },
   "outputs": [
    {
     "data": {
      "text/html": [
       "\n",
       "  <div id=\"df-b3407378-0a29-473a-ac71-7c74ea4a32e8\" class=\"colab-df-container\">\n",
       "    <div>\n",
       "<style scoped>\n",
       "    .dataframe tbody tr th:only-of-type {\n",
       "        vertical-align: middle;\n",
       "    }\n",
       "\n",
       "    .dataframe tbody tr th {\n",
       "        vertical-align: top;\n",
       "    }\n",
       "\n",
       "    .dataframe thead th {\n",
       "        text-align: right;\n",
       "    }\n",
       "</style>\n",
       "<table border=\"1\" class=\"dataframe\">\n",
       "  <thead>\n",
       "    <tr style=\"text-align: right;\">\n",
       "      <th></th>\n",
       "      <th>имя файла данных</th>\n",
       "      <th>Folder Path</th>\n",
       "      <th>пол</th>\n",
       "      <th>полных лет</th>\n",
       "      <th>пациент off/on</th>\n",
       "      <th>определенный диагноз врачом (0-5)</th>\n",
       "      <th>Age_cat_adult</th>\n",
       "      <th>Age_cat_child</th>\n",
       "      <th>Age_cat_elderly</th>\n",
       "      <th>Age_cat_teen</th>\n",
       "      <th>...</th>\n",
       "      <th>PINKY_PIP.y</th>\n",
       "      <th>PINKY_PIP.z</th>\n",
       "      <th>PINKY_DIP.x</th>\n",
       "      <th>PINKY_DIP.y</th>\n",
       "      <th>PINKY_DIP.z</th>\n",
       "      <th>PINKY_TIP.x</th>\n",
       "      <th>PINKY_TIP.y</th>\n",
       "      <th>PINKY_TIP.z</th>\n",
       "      <th>TIME</th>\n",
       "      <th>target</th>\n",
       "    </tr>\n",
       "  </thead>\n",
       "  <tbody>\n",
       "    <tr>\n",
       "      <th>0</th>\n",
       "      <td>raw_data_d786d645-db38-11ec-b494-e82aea2c97f4.csv</td>\n",
       "      <td>кинетический тремор</td>\n",
       "      <td>0</td>\n",
       "      <td>52</td>\n",
       "      <td>0</td>\n",
       "      <td>1</td>\n",
       "      <td>1</td>\n",
       "      <td>0</td>\n",
       "      <td>0</td>\n",
       "      <td>0</td>\n",
       "      <td>...</td>\n",
       "      <td>0.355881</td>\n",
       "      <td>-0.038310</td>\n",
       "      <td>0.428599</td>\n",
       "      <td>0.373598</td>\n",
       "      <td>-0.035599</td>\n",
       "      <td>0.428174</td>\n",
       "      <td>0.383885</td>\n",
       "      <td>-0.033508</td>\n",
       "      <td>10.772790</td>\n",
       "      <td>2</td>\n",
       "    </tr>\n",
       "    <tr>\n",
       "      <th>1</th>\n",
       "      <td>raw_data_bdcba44f-0d6a-11ed-8857-b6da2cf29e9d.csv</td>\n",
       "      <td>Постуральный тремор</td>\n",
       "      <td>0</td>\n",
       "      <td>78</td>\n",
       "      <td>1</td>\n",
       "      <td>0</td>\n",
       "      <td>0</td>\n",
       "      <td>0</td>\n",
       "      <td>1</td>\n",
       "      <td>0</td>\n",
       "      <td>...</td>\n",
       "      <td>0.814136</td>\n",
       "      <td>-0.048974</td>\n",
       "      <td>0.480646</td>\n",
       "      <td>0.840815</td>\n",
       "      <td>-0.048713</td>\n",
       "      <td>0.482621</td>\n",
       "      <td>0.865458</td>\n",
       "      <td>-0.047944</td>\n",
       "      <td>10.518120</td>\n",
       "      <td>0</td>\n",
       "    </tr>\n",
       "    <tr>\n",
       "      <th>2</th>\n",
       "      <td>raw_data_750c0f09-b09a-11ec-9699-58a023d3f6d9.csv</td>\n",
       "      <td>Постуральный тремор</td>\n",
       "      <td>0</td>\n",
       "      <td>71</td>\n",
       "      <td>1</td>\n",
       "      <td>0</td>\n",
       "      <td>0</td>\n",
       "      <td>0</td>\n",
       "      <td>1</td>\n",
       "      <td>0</td>\n",
       "      <td>...</td>\n",
       "      <td>0.648565</td>\n",
       "      <td>-0.072640</td>\n",
       "      <td>0.773693</td>\n",
       "      <td>0.686159</td>\n",
       "      <td>-0.075167</td>\n",
       "      <td>0.782883</td>\n",
       "      <td>0.719365</td>\n",
       "      <td>-0.078075</td>\n",
       "      <td>10.318068</td>\n",
       "      <td>0</td>\n",
       "    </tr>\n",
       "    <tr>\n",
       "      <th>3</th>\n",
       "      <td>raw_data_d90846c3-3969-11ed-a96d-b469216ca443.csv</td>\n",
       "      <td>кулак</td>\n",
       "      <td>0</td>\n",
       "      <td>23</td>\n",
       "      <td>0</td>\n",
       "      <td>1</td>\n",
       "      <td>0</td>\n",
       "      <td>0</td>\n",
       "      <td>0</td>\n",
       "      <td>1</td>\n",
       "      <td>...</td>\n",
       "      <td>0.487096</td>\n",
       "      <td>-0.008942</td>\n",
       "      <td>0.548114</td>\n",
       "      <td>0.495882</td>\n",
       "      <td>-0.009699</td>\n",
       "      <td>0.550511</td>\n",
       "      <td>0.496946</td>\n",
       "      <td>-0.009344</td>\n",
       "      <td>10.070469</td>\n",
       "      <td>3</td>\n",
       "    </tr>\n",
       "    <tr>\n",
       "      <th>4</th>\n",
       "      <td>raw_data_c27fbeb3-1882-11ed-95c1-b469216ca443.csv</td>\n",
       "      <td>кинетический тремор</td>\n",
       "      <td>0</td>\n",
       "      <td>23</td>\n",
       "      <td>0</td>\n",
       "      <td>2</td>\n",
       "      <td>0</td>\n",
       "      <td>0</td>\n",
       "      <td>0</td>\n",
       "      <td>1</td>\n",
       "      <td>...</td>\n",
       "      <td>0.471745</td>\n",
       "      <td>-0.022804</td>\n",
       "      <td>0.566432</td>\n",
       "      <td>0.472232</td>\n",
       "      <td>-0.023608</td>\n",
       "      <td>0.570757</td>\n",
       "      <td>0.472745</td>\n",
       "      <td>-0.024146</td>\n",
       "      <td>11.103565</td>\n",
       "      <td>2</td>\n",
       "    </tr>\n",
       "    <tr>\n",
       "      <th>...</th>\n",
       "      <td>...</td>\n",
       "      <td>...</td>\n",
       "      <td>...</td>\n",
       "      <td>...</td>\n",
       "      <td>...</td>\n",
       "      <td>...</td>\n",
       "      <td>...</td>\n",
       "      <td>...</td>\n",
       "      <td>...</td>\n",
       "      <td>...</td>\n",
       "      <td>...</td>\n",
       "      <td>...</td>\n",
       "      <td>...</td>\n",
       "      <td>...</td>\n",
       "      <td>...</td>\n",
       "      <td>...</td>\n",
       "      <td>...</td>\n",
       "      <td>...</td>\n",
       "      <td>...</td>\n",
       "      <td>...</td>\n",
       "      <td>...</td>\n",
       "    </tr>\n",
       "    <tr>\n",
       "      <th>828</th>\n",
       "      <td>raw_data_e454ecdf-6fd9-11ed-8c3e-e82aea2c97f4.csv</td>\n",
       "      <td>Постуральный тремор</td>\n",
       "      <td>0</td>\n",
       "      <td>63</td>\n",
       "      <td>1</td>\n",
       "      <td>0</td>\n",
       "      <td>0</td>\n",
       "      <td>0</td>\n",
       "      <td>1</td>\n",
       "      <td>0</td>\n",
       "      <td>...</td>\n",
       "      <td>0.657815</td>\n",
       "      <td>-0.035844</td>\n",
       "      <td>0.364434</td>\n",
       "      <td>0.673112</td>\n",
       "      <td>-0.035011</td>\n",
       "      <td>0.366529</td>\n",
       "      <td>0.683945</td>\n",
       "      <td>-0.034681</td>\n",
       "      <td>10.097775</td>\n",
       "      <td>0</td>\n",
       "    </tr>\n",
       "    <tr>\n",
       "      <th>829</th>\n",
       "      <td>raw_data_ed2a29d7-c16e-11ec-b4b8-e82aea2c97f4.csv</td>\n",
       "      <td>Постуральный тремор</td>\n",
       "      <td>1</td>\n",
       "      <td>66</td>\n",
       "      <td>1</td>\n",
       "      <td>3</td>\n",
       "      <td>0</td>\n",
       "      <td>0</td>\n",
       "      <td>1</td>\n",
       "      <td>0</td>\n",
       "      <td>...</td>\n",
       "      <td>0.533457</td>\n",
       "      <td>-0.035060</td>\n",
       "      <td>0.479242</td>\n",
       "      <td>0.557219</td>\n",
       "      <td>-0.035799</td>\n",
       "      <td>0.478086</td>\n",
       "      <td>0.577331</td>\n",
       "      <td>-0.036698</td>\n",
       "      <td>10.451946</td>\n",
       "      <td>0</td>\n",
       "    </tr>\n",
       "    <tr>\n",
       "      <th>830</th>\n",
       "      <td>raw_data_f4a07d6b-64c3-11ed-aa07-e82aea2c97f4.csv</td>\n",
       "      <td>Постуральный тремор</td>\n",
       "      <td>1</td>\n",
       "      <td>67</td>\n",
       "      <td>0</td>\n",
       "      <td>0</td>\n",
       "      <td>0</td>\n",
       "      <td>0</td>\n",
       "      <td>1</td>\n",
       "      <td>0</td>\n",
       "      <td>...</td>\n",
       "      <td>0.579241</td>\n",
       "      <td>-0.029331</td>\n",
       "      <td>0.580362</td>\n",
       "      <td>0.593170</td>\n",
       "      <td>-0.030087</td>\n",
       "      <td>0.586758</td>\n",
       "      <td>0.608314</td>\n",
       "      <td>-0.030126</td>\n",
       "      <td>10.447763</td>\n",
       "      <td>0</td>\n",
       "    </tr>\n",
       "    <tr>\n",
       "      <th>831</th>\n",
       "      <td>raw_data_c00aef37-0d5e-11ed-898c-80847c24eb6e.csv</td>\n",
       "      <td>кинетический тремор</td>\n",
       "      <td>0</td>\n",
       "      <td>61</td>\n",
       "      <td>1</td>\n",
       "      <td>0</td>\n",
       "      <td>0</td>\n",
       "      <td>0</td>\n",
       "      <td>1</td>\n",
       "      <td>0</td>\n",
       "      <td>...</td>\n",
       "      <td>0.774389</td>\n",
       "      <td>-0.034735</td>\n",
       "      <td>0.423888</td>\n",
       "      <td>0.780284</td>\n",
       "      <td>-0.035351</td>\n",
       "      <td>0.415288</td>\n",
       "      <td>0.785784</td>\n",
       "      <td>-0.035681</td>\n",
       "      <td>3.874706</td>\n",
       "      <td>2</td>\n",
       "    </tr>\n",
       "    <tr>\n",
       "      <th>832</th>\n",
       "      <td>raw_data_f3bb1bf3-1c63-11ed-8f50-b469216ca443.csv</td>\n",
       "      <td>Постуральный тремор</td>\n",
       "      <td>0</td>\n",
       "      <td>23</td>\n",
       "      <td>0</td>\n",
       "      <td>0</td>\n",
       "      <td>0</td>\n",
       "      <td>0</td>\n",
       "      <td>0</td>\n",
       "      <td>1</td>\n",
       "      <td>...</td>\n",
       "      <td>0.593940</td>\n",
       "      <td>-0.027385</td>\n",
       "      <td>0.647399</td>\n",
       "      <td>0.610193</td>\n",
       "      <td>-0.029207</td>\n",
       "      <td>0.651245</td>\n",
       "      <td>0.626578</td>\n",
       "      <td>-0.030377</td>\n",
       "      <td>10.421008</td>\n",
       "      <td>0</td>\n",
       "    </tr>\n",
       "  </tbody>\n",
       "</table>\n",
       "<p>833 rows × 75 columns</p>\n",
       "</div>\n",
       "    <div class=\"colab-df-buttons\">\n",
       "\n",
       "  <div class=\"colab-df-container\">\n",
       "    <button class=\"colab-df-convert\" onclick=\"convertToInteractive('df-b3407378-0a29-473a-ac71-7c74ea4a32e8')\"\n",
       "            title=\"Convert this dataframe to an interactive table.\"\n",
       "            style=\"display:none;\">\n",
       "\n",
       "  <svg xmlns=\"http://www.w3.org/2000/svg\" height=\"24px\" viewBox=\"0 -960 960 960\">\n",
       "    <path d=\"M120-120v-720h720v720H120Zm60-500h600v-160H180v160Zm220 220h160v-160H400v160Zm0 220h160v-160H400v160ZM180-400h160v-160H180v160Zm440 0h160v-160H620v160ZM180-180h160v-160H180v160Zm440 0h160v-160H620v160Z\"/>\n",
       "  </svg>\n",
       "    </button>\n",
       "\n",
       "  <style>\n",
       "    .colab-df-container {\n",
       "      display:flex;\n",
       "      gap: 12px;\n",
       "    }\n",
       "\n",
       "    .colab-df-convert {\n",
       "      background-color: #E8F0FE;\n",
       "      border: none;\n",
       "      border-radius: 50%;\n",
       "      cursor: pointer;\n",
       "      display: none;\n",
       "      fill: #1967D2;\n",
       "      height: 32px;\n",
       "      padding: 0 0 0 0;\n",
       "      width: 32px;\n",
       "    }\n",
       "\n",
       "    .colab-df-convert:hover {\n",
       "      background-color: #E2EBFA;\n",
       "      box-shadow: 0px 1px 2px rgba(60, 64, 67, 0.3), 0px 1px 3px 1px rgba(60, 64, 67, 0.15);\n",
       "      fill: #174EA6;\n",
       "    }\n",
       "\n",
       "    .colab-df-buttons div {\n",
       "      margin-bottom: 4px;\n",
       "    }\n",
       "\n",
       "    [theme=dark] .colab-df-convert {\n",
       "      background-color: #3B4455;\n",
       "      fill: #D2E3FC;\n",
       "    }\n",
       "\n",
       "    [theme=dark] .colab-df-convert:hover {\n",
       "      background-color: #434B5C;\n",
       "      box-shadow: 0px 1px 3px 1px rgba(0, 0, 0, 0.15);\n",
       "      filter: drop-shadow(0px 1px 2px rgba(0, 0, 0, 0.3));\n",
       "      fill: #FFFFFF;\n",
       "    }\n",
       "  </style>\n",
       "\n",
       "    <script>\n",
       "      const buttonEl =\n",
       "        document.querySelector('#df-b3407378-0a29-473a-ac71-7c74ea4a32e8 button.colab-df-convert');\n",
       "      buttonEl.style.display =\n",
       "        google.colab.kernel.accessAllowed ? 'block' : 'none';\n",
       "\n",
       "      async function convertToInteractive(key) {\n",
       "        const element = document.querySelector('#df-b3407378-0a29-473a-ac71-7c74ea4a32e8');\n",
       "        const dataTable =\n",
       "          await google.colab.kernel.invokeFunction('convertToInteractive',\n",
       "                                                    [key], {});\n",
       "        if (!dataTable) return;\n",
       "\n",
       "        const docLinkHtml = 'Like what you see? Visit the ' +\n",
       "          '<a target=\"_blank\" href=https://colab.research.google.com/notebooks/data_table.ipynb>data table notebook</a>'\n",
       "          + ' to learn more about interactive tables.';\n",
       "        element.innerHTML = '';\n",
       "        dataTable['output_type'] = 'display_data';\n",
       "        await google.colab.output.renderOutput(dataTable, element);\n",
       "        const docLink = document.createElement('div');\n",
       "        docLink.innerHTML = docLinkHtml;\n",
       "        element.appendChild(docLink);\n",
       "      }\n",
       "    </script>\n",
       "  </div>\n",
       "\n",
       "\n",
       "<div id=\"df-14bc721d-5156-462a-8240-1305259409c7\">\n",
       "  <button class=\"colab-df-quickchart\" onclick=\"quickchart('df-14bc721d-5156-462a-8240-1305259409c7')\"\n",
       "            title=\"Suggest charts.\"\n",
       "            style=\"display:none;\">\n",
       "\n",
       "<svg xmlns=\"http://www.w3.org/2000/svg\" height=\"24px\"viewBox=\"0 0 24 24\"\n",
       "     width=\"24px\">\n",
       "    <g>\n",
       "        <path d=\"M19 3H5c-1.1 0-2 .9-2 2v14c0 1.1.9 2 2 2h14c1.1 0 2-.9 2-2V5c0-1.1-.9-2-2-2zM9 17H7v-7h2v7zm4 0h-2V7h2v10zm4 0h-2v-4h2v4z\"/>\n",
       "    </g>\n",
       "</svg>\n",
       "  </button>\n",
       "\n",
       "<style>\n",
       "  .colab-df-quickchart {\n",
       "      --bg-color: #E8F0FE;\n",
       "      --fill-color: #1967D2;\n",
       "      --hover-bg-color: #E2EBFA;\n",
       "      --hover-fill-color: #174EA6;\n",
       "      --disabled-fill-color: #AAA;\n",
       "      --disabled-bg-color: #DDD;\n",
       "  }\n",
       "\n",
       "  [theme=dark] .colab-df-quickchart {\n",
       "      --bg-color: #3B4455;\n",
       "      --fill-color: #D2E3FC;\n",
       "      --hover-bg-color: #434B5C;\n",
       "      --hover-fill-color: #FFFFFF;\n",
       "      --disabled-bg-color: #3B4455;\n",
       "      --disabled-fill-color: #666;\n",
       "  }\n",
       "\n",
       "  .colab-df-quickchart {\n",
       "    background-color: var(--bg-color);\n",
       "    border: none;\n",
       "    border-radius: 50%;\n",
       "    cursor: pointer;\n",
       "    display: none;\n",
       "    fill: var(--fill-color);\n",
       "    height: 32px;\n",
       "    padding: 0;\n",
       "    width: 32px;\n",
       "  }\n",
       "\n",
       "  .colab-df-quickchart:hover {\n",
       "    background-color: var(--hover-bg-color);\n",
       "    box-shadow: 0 1px 2px rgba(60, 64, 67, 0.3), 0 1px 3px 1px rgba(60, 64, 67, 0.15);\n",
       "    fill: var(--button-hover-fill-color);\n",
       "  }\n",
       "\n",
       "  .colab-df-quickchart-complete:disabled,\n",
       "  .colab-df-quickchart-complete:disabled:hover {\n",
       "    background-color: var(--disabled-bg-color);\n",
       "    fill: var(--disabled-fill-color);\n",
       "    box-shadow: none;\n",
       "  }\n",
       "\n",
       "  .colab-df-spinner {\n",
       "    border: 2px solid var(--fill-color);\n",
       "    border-color: transparent;\n",
       "    border-bottom-color: var(--fill-color);\n",
       "    animation:\n",
       "      spin 1s steps(1) infinite;\n",
       "  }\n",
       "\n",
       "  @keyframes spin {\n",
       "    0% {\n",
       "      border-color: transparent;\n",
       "      border-bottom-color: var(--fill-color);\n",
       "      border-left-color: var(--fill-color);\n",
       "    }\n",
       "    20% {\n",
       "      border-color: transparent;\n",
       "      border-left-color: var(--fill-color);\n",
       "      border-top-color: var(--fill-color);\n",
       "    }\n",
       "    30% {\n",
       "      border-color: transparent;\n",
       "      border-left-color: var(--fill-color);\n",
       "      border-top-color: var(--fill-color);\n",
       "      border-right-color: var(--fill-color);\n",
       "    }\n",
       "    40% {\n",
       "      border-color: transparent;\n",
       "      border-right-color: var(--fill-color);\n",
       "      border-top-color: var(--fill-color);\n",
       "    }\n",
       "    60% {\n",
       "      border-color: transparent;\n",
       "      border-right-color: var(--fill-color);\n",
       "    }\n",
       "    80% {\n",
       "      border-color: transparent;\n",
       "      border-right-color: var(--fill-color);\n",
       "      border-bottom-color: var(--fill-color);\n",
       "    }\n",
       "    90% {\n",
       "      border-color: transparent;\n",
       "      border-bottom-color: var(--fill-color);\n",
       "    }\n",
       "  }\n",
       "</style>\n",
       "\n",
       "  <script>\n",
       "    async function quickchart(key) {\n",
       "      const quickchartButtonEl =\n",
       "        document.querySelector('#' + key + ' button');\n",
       "      quickchartButtonEl.disabled = true;  // To prevent multiple clicks.\n",
       "      quickchartButtonEl.classList.add('colab-df-spinner');\n",
       "      try {\n",
       "        const charts = await google.colab.kernel.invokeFunction(\n",
       "            'suggestCharts', [key], {});\n",
       "      } catch (error) {\n",
       "        console.error('Error during call to suggestCharts:', error);\n",
       "      }\n",
       "      quickchartButtonEl.classList.remove('colab-df-spinner');\n",
       "      quickchartButtonEl.classList.add('colab-df-quickchart-complete');\n",
       "    }\n",
       "    (() => {\n",
       "      let quickchartButtonEl =\n",
       "        document.querySelector('#df-14bc721d-5156-462a-8240-1305259409c7 button');\n",
       "      quickchartButtonEl.style.display =\n",
       "        google.colab.kernel.accessAllowed ? 'block' : 'none';\n",
       "    })();\n",
       "  </script>\n",
       "</div>\n",
       "    </div>\n",
       "  </div>\n"
      ],
      "text/plain": [
       "                                      имя файла данных          Folder Path  \\\n",
       "0    raw_data_d786d645-db38-11ec-b494-e82aea2c97f4.csv  кинетический тремор   \n",
       "1    raw_data_bdcba44f-0d6a-11ed-8857-b6da2cf29e9d.csv  Постуральный тремор   \n",
       "2    raw_data_750c0f09-b09a-11ec-9699-58a023d3f6d9.csv  Постуральный тремор   \n",
       "3    raw_data_d90846c3-3969-11ed-a96d-b469216ca443.csv                кулак   \n",
       "4    raw_data_c27fbeb3-1882-11ed-95c1-b469216ca443.csv  кинетический тремор   \n",
       "..                                                 ...                  ...   \n",
       "828  raw_data_e454ecdf-6fd9-11ed-8c3e-e82aea2c97f4.csv  Постуральный тремор   \n",
       "829  raw_data_ed2a29d7-c16e-11ec-b4b8-e82aea2c97f4.csv  Постуральный тремор   \n",
       "830  raw_data_f4a07d6b-64c3-11ed-aa07-e82aea2c97f4.csv  Постуральный тремор   \n",
       "831  raw_data_c00aef37-0d5e-11ed-898c-80847c24eb6e.csv  кинетический тремор   \n",
       "832  raw_data_f3bb1bf3-1c63-11ed-8f50-b469216ca443.csv  Постуральный тремор   \n",
       "\n",
       "    пол  полных лет  пациент off/on  определенный диагноз врачом (0-5)  \\\n",
       "0     0          52               0                                  1   \n",
       "1     0          78               1                                  0   \n",
       "2     0          71               1                                  0   \n",
       "3     0          23               0                                  1   \n",
       "4     0          23               0                                  2   \n",
       "..   ..         ...             ...                                ...   \n",
       "828   0          63               1                                  0   \n",
       "829   1          66               1                                  3   \n",
       "830   1          67               0                                  0   \n",
       "831   0          61               1                                  0   \n",
       "832   0          23               0                                  0   \n",
       "\n",
       "     Age_cat_adult  Age_cat_child  Age_cat_elderly  Age_cat_teen  ...  \\\n",
       "0                1              0                0             0  ...   \n",
       "1                0              0                1             0  ...   \n",
       "2                0              0                1             0  ...   \n",
       "3                0              0                0             1  ...   \n",
       "4                0              0                0             1  ...   \n",
       "..             ...            ...              ...           ...  ...   \n",
       "828              0              0                1             0  ...   \n",
       "829              0              0                1             0  ...   \n",
       "830              0              0                1             0  ...   \n",
       "831              0              0                1             0  ...   \n",
       "832              0              0                0             1  ...   \n",
       "\n",
       "     PINKY_PIP.y  PINKY_PIP.z  PINKY_DIP.x  PINKY_DIP.y  PINKY_DIP.z  \\\n",
       "0       0.355881    -0.038310     0.428599     0.373598    -0.035599   \n",
       "1       0.814136    -0.048974     0.480646     0.840815    -0.048713   \n",
       "2       0.648565    -0.072640     0.773693     0.686159    -0.075167   \n",
       "3       0.487096    -0.008942     0.548114     0.495882    -0.009699   \n",
       "4       0.471745    -0.022804     0.566432     0.472232    -0.023608   \n",
       "..           ...          ...          ...          ...          ...   \n",
       "828     0.657815    -0.035844     0.364434     0.673112    -0.035011   \n",
       "829     0.533457    -0.035060     0.479242     0.557219    -0.035799   \n",
       "830     0.579241    -0.029331     0.580362     0.593170    -0.030087   \n",
       "831     0.774389    -0.034735     0.423888     0.780284    -0.035351   \n",
       "832     0.593940    -0.027385     0.647399     0.610193    -0.029207   \n",
       "\n",
       "     PINKY_TIP.x  PINKY_TIP.y  PINKY_TIP.z       TIME  target  \n",
       "0       0.428174     0.383885    -0.033508  10.772790       2  \n",
       "1       0.482621     0.865458    -0.047944  10.518120       0  \n",
       "2       0.782883     0.719365    -0.078075  10.318068       0  \n",
       "3       0.550511     0.496946    -0.009344  10.070469       3  \n",
       "4       0.570757     0.472745    -0.024146  11.103565       2  \n",
       "..           ...          ...          ...        ...     ...  \n",
       "828     0.366529     0.683945    -0.034681  10.097775       0  \n",
       "829     0.478086     0.577331    -0.036698  10.451946       0  \n",
       "830     0.586758     0.608314    -0.030126  10.447763       0  \n",
       "831     0.415288     0.785784    -0.035681   3.874706       2  \n",
       "832     0.651245     0.626578    -0.030377  10.421008       0  \n",
       "\n",
       "[833 rows x 75 columns]"
      ]
     },
     "execution_count": 49,
     "metadata": {},
     "output_type": "execute_result"
    }
   ],
   "source": [
    "new_df"
   ]
  },
  {
   "cell_type": "markdown",
   "metadata": {
    "id": "OQKpB4PjvSiu"
   },
   "source": [
    "## подготовка теста"
   ]
  },
  {
   "cell_type": "code",
   "execution_count": null,
   "metadata": {
    "colab": {
     "base_uri": "https://localhost:8080/",
     "height": 423
    },
    "id": "UQfwINolvV-P",
    "outputId": "daee1133-7f46-47e5-9042-bc20f89498a6"
   },
   "outputs": [
    {
     "data": {
      "text/html": [
       "\n",
       "  <div id=\"df-d9738c53-0b74-4616-8419-88096a255ee8\" class=\"colab-df-container\">\n",
       "    <div>\n",
       "<style scoped>\n",
       "    .dataframe tbody tr th:only-of-type {\n",
       "        vertical-align: middle;\n",
       "    }\n",
       "\n",
       "    .dataframe tbody tr th {\n",
       "        vertical-align: top;\n",
       "    }\n",
       "\n",
       "    .dataframe thead th {\n",
       "        text-align: right;\n",
       "    }\n",
       "</style>\n",
       "<table border=\"1\" class=\"dataframe\">\n",
       "  <thead>\n",
       "    <tr style=\"text-align: right;\">\n",
       "      <th></th>\n",
       "      <th>имя файла данных</th>\n",
       "      <th>пол</th>\n",
       "      <th>полных лет</th>\n",
       "      <th>пациент off/on</th>\n",
       "      <th>определенный диагноз врачом (0-5)</th>\n",
       "    </tr>\n",
       "  </thead>\n",
       "  <tbody>\n",
       "    <tr>\n",
       "      <th>0</th>\n",
       "      <td>raw_data_61fbeecd-8ef7-11ec-a78a-58a023d3f6d9.csv</td>\n",
       "      <td>женский</td>\n",
       "      <td>69</td>\n",
       "      <td>on</td>\n",
       "      <td>3</td>\n",
       "    </tr>\n",
       "    <tr>\n",
       "      <th>1</th>\n",
       "      <td>raw_data_41f438e7-8041-11ed-aa7b-e82aea2c97f4.csv</td>\n",
       "      <td>мужской</td>\n",
       "      <td>23</td>\n",
       "      <td>off</td>\n",
       "      <td>0</td>\n",
       "    </tr>\n",
       "    <tr>\n",
       "      <th>2</th>\n",
       "      <td>raw_data_43b5ffcb-2dcc-11ed-a854-e82aea2c97f4.csv</td>\n",
       "      <td>мужской</td>\n",
       "      <td>62</td>\n",
       "      <td>off</td>\n",
       "      <td>0</td>\n",
       "    </tr>\n",
       "    <tr>\n",
       "      <th>3</th>\n",
       "      <td>raw_data_28cfe921-2452-11ed-934f-e82aea2c97f4.csv</td>\n",
       "      <td>мужской</td>\n",
       "      <td>72</td>\n",
       "      <td>on</td>\n",
       "      <td>3</td>\n",
       "    </tr>\n",
       "    <tr>\n",
       "      <th>4</th>\n",
       "      <td>raw_data_d6107ceb-2f57-11ed-8d23-c86000e163af.csv</td>\n",
       "      <td>мужской</td>\n",
       "      <td>70</td>\n",
       "      <td>off</td>\n",
       "      <td>0</td>\n",
       "    </tr>\n",
       "    <tr>\n",
       "      <th>...</th>\n",
       "      <td>...</td>\n",
       "      <td>...</td>\n",
       "      <td>...</td>\n",
       "      <td>...</td>\n",
       "      <td>...</td>\n",
       "    </tr>\n",
       "    <tr>\n",
       "      <th>352</th>\n",
       "      <td>raw_data_1fdbcbf9-e072-11ec-9d67-ef54fcc0d655.csv</td>\n",
       "      <td>женский</td>\n",
       "      <td>63</td>\n",
       "      <td>off</td>\n",
       "      <td>1</td>\n",
       "    </tr>\n",
       "    <tr>\n",
       "      <th>353</th>\n",
       "      <td>raw_data_83b398f9-2dcc-11ed-91ba-e82aea2c97f4.csv</td>\n",
       "      <td>мужской</td>\n",
       "      <td>62</td>\n",
       "      <td>off</td>\n",
       "      <td>0</td>\n",
       "    </tr>\n",
       "    <tr>\n",
       "      <th>354</th>\n",
       "      <td>raw_data_de9b38a1-1882-11ed-b91f-b469216ca443.csv</td>\n",
       "      <td>мужской</td>\n",
       "      <td>23</td>\n",
       "      <td>off</td>\n",
       "      <td>4</td>\n",
       "    </tr>\n",
       "    <tr>\n",
       "      <th>355</th>\n",
       "      <td>raw_data_9981a771-0cdd-11ed-9772-b469216ca443.csv</td>\n",
       "      <td>мужской</td>\n",
       "      <td>75</td>\n",
       "      <td>off</td>\n",
       "      <td>2</td>\n",
       "    </tr>\n",
       "    <tr>\n",
       "      <th>356</th>\n",
       "      <td>raw_data_148c7295-34c9-11ed-b265-e82aea2c97f4.csv</td>\n",
       "      <td>мужской</td>\n",
       "      <td>50</td>\n",
       "      <td>on</td>\n",
       "      <td>2</td>\n",
       "    </tr>\n",
       "  </tbody>\n",
       "</table>\n",
       "<p>357 rows × 5 columns</p>\n",
       "</div>\n",
       "    <div class=\"colab-df-buttons\">\n",
       "\n",
       "  <div class=\"colab-df-container\">\n",
       "    <button class=\"colab-df-convert\" onclick=\"convertToInteractive('df-d9738c53-0b74-4616-8419-88096a255ee8')\"\n",
       "            title=\"Convert this dataframe to an interactive table.\"\n",
       "            style=\"display:none;\">\n",
       "\n",
       "  <svg xmlns=\"http://www.w3.org/2000/svg\" height=\"24px\" viewBox=\"0 -960 960 960\">\n",
       "    <path d=\"M120-120v-720h720v720H120Zm60-500h600v-160H180v160Zm220 220h160v-160H400v160Zm0 220h160v-160H400v160ZM180-400h160v-160H180v160Zm440 0h160v-160H620v160ZM180-180h160v-160H180v160Zm440 0h160v-160H620v160Z\"/>\n",
       "  </svg>\n",
       "    </button>\n",
       "\n",
       "  <style>\n",
       "    .colab-df-container {\n",
       "      display:flex;\n",
       "      gap: 12px;\n",
       "    }\n",
       "\n",
       "    .colab-df-convert {\n",
       "      background-color: #E8F0FE;\n",
       "      border: none;\n",
       "      border-radius: 50%;\n",
       "      cursor: pointer;\n",
       "      display: none;\n",
       "      fill: #1967D2;\n",
       "      height: 32px;\n",
       "      padding: 0 0 0 0;\n",
       "      width: 32px;\n",
       "    }\n",
       "\n",
       "    .colab-df-convert:hover {\n",
       "      background-color: #E2EBFA;\n",
       "      box-shadow: 0px 1px 2px rgba(60, 64, 67, 0.3), 0px 1px 3px 1px rgba(60, 64, 67, 0.15);\n",
       "      fill: #174EA6;\n",
       "    }\n",
       "\n",
       "    .colab-df-buttons div {\n",
       "      margin-bottom: 4px;\n",
       "    }\n",
       "\n",
       "    [theme=dark] .colab-df-convert {\n",
       "      background-color: #3B4455;\n",
       "      fill: #D2E3FC;\n",
       "    }\n",
       "\n",
       "    [theme=dark] .colab-df-convert:hover {\n",
       "      background-color: #434B5C;\n",
       "      box-shadow: 0px 1px 3px 1px rgba(0, 0, 0, 0.15);\n",
       "      filter: drop-shadow(0px 1px 2px rgba(0, 0, 0, 0.3));\n",
       "      fill: #FFFFFF;\n",
       "    }\n",
       "  </style>\n",
       "\n",
       "    <script>\n",
       "      const buttonEl =\n",
       "        document.querySelector('#df-d9738c53-0b74-4616-8419-88096a255ee8 button.colab-df-convert');\n",
       "      buttonEl.style.display =\n",
       "        google.colab.kernel.accessAllowed ? 'block' : 'none';\n",
       "\n",
       "      async function convertToInteractive(key) {\n",
       "        const element = document.querySelector('#df-d9738c53-0b74-4616-8419-88096a255ee8');\n",
       "        const dataTable =\n",
       "          await google.colab.kernel.invokeFunction('convertToInteractive',\n",
       "                                                    [key], {});\n",
       "        if (!dataTable) return;\n",
       "\n",
       "        const docLinkHtml = 'Like what you see? Visit the ' +\n",
       "          '<a target=\"_blank\" href=https://colab.research.google.com/notebooks/data_table.ipynb>data table notebook</a>'\n",
       "          + ' to learn more about interactive tables.';\n",
       "        element.innerHTML = '';\n",
       "        dataTable['output_type'] = 'display_data';\n",
       "        await google.colab.output.renderOutput(dataTable, element);\n",
       "        const docLink = document.createElement('div');\n",
       "        docLink.innerHTML = docLinkHtml;\n",
       "        element.appendChild(docLink);\n",
       "      }\n",
       "    </script>\n",
       "  </div>\n",
       "\n",
       "\n",
       "<div id=\"df-d935fa68-4bab-4f9a-849c-4f6d6330fa69\">\n",
       "  <button class=\"colab-df-quickchart\" onclick=\"quickchart('df-d935fa68-4bab-4f9a-849c-4f6d6330fa69')\"\n",
       "            title=\"Suggest charts.\"\n",
       "            style=\"display:none;\">\n",
       "\n",
       "<svg xmlns=\"http://www.w3.org/2000/svg\" height=\"24px\"viewBox=\"0 0 24 24\"\n",
       "     width=\"24px\">\n",
       "    <g>\n",
       "        <path d=\"M19 3H5c-1.1 0-2 .9-2 2v14c0 1.1.9 2 2 2h14c1.1 0 2-.9 2-2V5c0-1.1-.9-2-2-2zM9 17H7v-7h2v7zm4 0h-2V7h2v10zm4 0h-2v-4h2v4z\"/>\n",
       "    </g>\n",
       "</svg>\n",
       "  </button>\n",
       "\n",
       "<style>\n",
       "  .colab-df-quickchart {\n",
       "      --bg-color: #E8F0FE;\n",
       "      --fill-color: #1967D2;\n",
       "      --hover-bg-color: #E2EBFA;\n",
       "      --hover-fill-color: #174EA6;\n",
       "      --disabled-fill-color: #AAA;\n",
       "      --disabled-bg-color: #DDD;\n",
       "  }\n",
       "\n",
       "  [theme=dark] .colab-df-quickchart {\n",
       "      --bg-color: #3B4455;\n",
       "      --fill-color: #D2E3FC;\n",
       "      --hover-bg-color: #434B5C;\n",
       "      --hover-fill-color: #FFFFFF;\n",
       "      --disabled-bg-color: #3B4455;\n",
       "      --disabled-fill-color: #666;\n",
       "  }\n",
       "\n",
       "  .colab-df-quickchart {\n",
       "    background-color: var(--bg-color);\n",
       "    border: none;\n",
       "    border-radius: 50%;\n",
       "    cursor: pointer;\n",
       "    display: none;\n",
       "    fill: var(--fill-color);\n",
       "    height: 32px;\n",
       "    padding: 0;\n",
       "    width: 32px;\n",
       "  }\n",
       "\n",
       "  .colab-df-quickchart:hover {\n",
       "    background-color: var(--hover-bg-color);\n",
       "    box-shadow: 0 1px 2px rgba(60, 64, 67, 0.3), 0 1px 3px 1px rgba(60, 64, 67, 0.15);\n",
       "    fill: var(--button-hover-fill-color);\n",
       "  }\n",
       "\n",
       "  .colab-df-quickchart-complete:disabled,\n",
       "  .colab-df-quickchart-complete:disabled:hover {\n",
       "    background-color: var(--disabled-bg-color);\n",
       "    fill: var(--disabled-fill-color);\n",
       "    box-shadow: none;\n",
       "  }\n",
       "\n",
       "  .colab-df-spinner {\n",
       "    border: 2px solid var(--fill-color);\n",
       "    border-color: transparent;\n",
       "    border-bottom-color: var(--fill-color);\n",
       "    animation:\n",
       "      spin 1s steps(1) infinite;\n",
       "  }\n",
       "\n",
       "  @keyframes spin {\n",
       "    0% {\n",
       "      border-color: transparent;\n",
       "      border-bottom-color: var(--fill-color);\n",
       "      border-left-color: var(--fill-color);\n",
       "    }\n",
       "    20% {\n",
       "      border-color: transparent;\n",
       "      border-left-color: var(--fill-color);\n",
       "      border-top-color: var(--fill-color);\n",
       "    }\n",
       "    30% {\n",
       "      border-color: transparent;\n",
       "      border-left-color: var(--fill-color);\n",
       "      border-top-color: var(--fill-color);\n",
       "      border-right-color: var(--fill-color);\n",
       "    }\n",
       "    40% {\n",
       "      border-color: transparent;\n",
       "      border-right-color: var(--fill-color);\n",
       "      border-top-color: var(--fill-color);\n",
       "    }\n",
       "    60% {\n",
       "      border-color: transparent;\n",
       "      border-right-color: var(--fill-color);\n",
       "    }\n",
       "    80% {\n",
       "      border-color: transparent;\n",
       "      border-right-color: var(--fill-color);\n",
       "      border-bottom-color: var(--fill-color);\n",
       "    }\n",
       "    90% {\n",
       "      border-color: transparent;\n",
       "      border-bottom-color: var(--fill-color);\n",
       "    }\n",
       "  }\n",
       "</style>\n",
       "\n",
       "  <script>\n",
       "    async function quickchart(key) {\n",
       "      const quickchartButtonEl =\n",
       "        document.querySelector('#' + key + ' button');\n",
       "      quickchartButtonEl.disabled = true;  // To prevent multiple clicks.\n",
       "      quickchartButtonEl.classList.add('colab-df-spinner');\n",
       "      try {\n",
       "        const charts = await google.colab.kernel.invokeFunction(\n",
       "            'suggestCharts', [key], {});\n",
       "      } catch (error) {\n",
       "        console.error('Error during call to suggestCharts:', error);\n",
       "      }\n",
       "      quickchartButtonEl.classList.remove('colab-df-spinner');\n",
       "      quickchartButtonEl.classList.add('colab-df-quickchart-complete');\n",
       "    }\n",
       "    (() => {\n",
       "      let quickchartButtonEl =\n",
       "        document.querySelector('#df-d935fa68-4bab-4f9a-849c-4f6d6330fa69 button');\n",
       "      quickchartButtonEl.style.display =\n",
       "        google.colab.kernel.accessAllowed ? 'block' : 'none';\n",
       "    })();\n",
       "  </script>\n",
       "</div>\n",
       "    </div>\n",
       "  </div>\n"
      ],
      "text/plain": [
       "                                      имя файла данных      пол  полных лет  \\\n",
       "0    raw_data_61fbeecd-8ef7-11ec-a78a-58a023d3f6d9.csv  женский          69   \n",
       "1    raw_data_41f438e7-8041-11ed-aa7b-e82aea2c97f4.csv  мужской          23   \n",
       "2    raw_data_43b5ffcb-2dcc-11ed-a854-e82aea2c97f4.csv  мужской          62   \n",
       "3    raw_data_28cfe921-2452-11ed-934f-e82aea2c97f4.csv  мужской          72   \n",
       "4    raw_data_d6107ceb-2f57-11ed-8d23-c86000e163af.csv  мужской          70   \n",
       "..                                                 ...      ...         ...   \n",
       "352  raw_data_1fdbcbf9-e072-11ec-9d67-ef54fcc0d655.csv  женский          63   \n",
       "353  raw_data_83b398f9-2dcc-11ed-91ba-e82aea2c97f4.csv  мужской          62   \n",
       "354  raw_data_de9b38a1-1882-11ed-b91f-b469216ca443.csv  мужской          23   \n",
       "355  raw_data_9981a771-0cdd-11ed-9772-b469216ca443.csv  мужской          75   \n",
       "356  raw_data_148c7295-34c9-11ed-b265-e82aea2c97f4.csv  мужской          50   \n",
       "\n",
       "    пациент off/on  определенный диагноз врачом (0-5)  \n",
       "0               on                                  3  \n",
       "1              off                                  0  \n",
       "2              off                                  0  \n",
       "3               on                                  3  \n",
       "4              off                                  0  \n",
       "..             ...                                ...  \n",
       "352            off                                  1  \n",
       "353            off                                  0  \n",
       "354            off                                  4  \n",
       "355            off                                  2  \n",
       "356             on                                  2  \n",
       "\n",
       "[357 rows x 5 columns]"
      ]
     },
     "execution_count": 29,
     "metadata": {},
     "output_type": "execute_result"
    }
   ],
   "source": [
    "test = pd.read_csv('/content/test.csv')\n",
    "test"
   ]
  },
  {
   "cell_type": "code",
   "execution_count": null,
   "metadata": {
    "colab": {
     "base_uri": "https://localhost:8080/",
     "height": 423
    },
    "id": "CVjd5Z1pvGTF",
    "outputId": "b84227e4-d3d8-4388-8f41-5d77b273a843"
   },
   "outputs": [
    {
     "data": {
      "text/html": [
       "\n",
       "  <div id=\"df-8c444731-f8dd-4c03-8cb1-a396e7f295a2\" class=\"colab-df-container\">\n",
       "    <div>\n",
       "<style scoped>\n",
       "    .dataframe tbody tr th:only-of-type {\n",
       "        vertical-align: middle;\n",
       "    }\n",
       "\n",
       "    .dataframe tbody tr th {\n",
       "        vertical-align: top;\n",
       "    }\n",
       "\n",
       "    .dataframe thead th {\n",
       "        text-align: right;\n",
       "    }\n",
       "</style>\n",
       "<table border=\"1\" class=\"dataframe\">\n",
       "  <thead>\n",
       "    <tr style=\"text-align: right;\">\n",
       "      <th></th>\n",
       "      <th>имя файла данных</th>\n",
       "      <th>пол</th>\n",
       "      <th>полных лет</th>\n",
       "      <th>пациент off/on</th>\n",
       "      <th>определенный диагноз врачом (0-5)</th>\n",
       "    </tr>\n",
       "  </thead>\n",
       "  <tbody>\n",
       "    <tr>\n",
       "      <th>0</th>\n",
       "      <td>raw_data_61fbeecd-8ef7-11ec-a78a-58a023d3f6d9.csv</td>\n",
       "      <td>1</td>\n",
       "      <td>69</td>\n",
       "      <td>1</td>\n",
       "      <td>3</td>\n",
       "    </tr>\n",
       "    <tr>\n",
       "      <th>1</th>\n",
       "      <td>raw_data_41f438e7-8041-11ed-aa7b-e82aea2c97f4.csv</td>\n",
       "      <td>0</td>\n",
       "      <td>23</td>\n",
       "      <td>0</td>\n",
       "      <td>0</td>\n",
       "    </tr>\n",
       "    <tr>\n",
       "      <th>2</th>\n",
       "      <td>raw_data_43b5ffcb-2dcc-11ed-a854-e82aea2c97f4.csv</td>\n",
       "      <td>0</td>\n",
       "      <td>62</td>\n",
       "      <td>0</td>\n",
       "      <td>0</td>\n",
       "    </tr>\n",
       "    <tr>\n",
       "      <th>3</th>\n",
       "      <td>raw_data_28cfe921-2452-11ed-934f-e82aea2c97f4.csv</td>\n",
       "      <td>0</td>\n",
       "      <td>72</td>\n",
       "      <td>1</td>\n",
       "      <td>3</td>\n",
       "    </tr>\n",
       "    <tr>\n",
       "      <th>4</th>\n",
       "      <td>raw_data_d6107ceb-2f57-11ed-8d23-c86000e163af.csv</td>\n",
       "      <td>0</td>\n",
       "      <td>70</td>\n",
       "      <td>0</td>\n",
       "      <td>0</td>\n",
       "    </tr>\n",
       "    <tr>\n",
       "      <th>...</th>\n",
       "      <td>...</td>\n",
       "      <td>...</td>\n",
       "      <td>...</td>\n",
       "      <td>...</td>\n",
       "      <td>...</td>\n",
       "    </tr>\n",
       "    <tr>\n",
       "      <th>352</th>\n",
       "      <td>raw_data_1fdbcbf9-e072-11ec-9d67-ef54fcc0d655.csv</td>\n",
       "      <td>1</td>\n",
       "      <td>63</td>\n",
       "      <td>0</td>\n",
       "      <td>1</td>\n",
       "    </tr>\n",
       "    <tr>\n",
       "      <th>353</th>\n",
       "      <td>raw_data_83b398f9-2dcc-11ed-91ba-e82aea2c97f4.csv</td>\n",
       "      <td>0</td>\n",
       "      <td>62</td>\n",
       "      <td>0</td>\n",
       "      <td>0</td>\n",
       "    </tr>\n",
       "    <tr>\n",
       "      <th>354</th>\n",
       "      <td>raw_data_de9b38a1-1882-11ed-b91f-b469216ca443.csv</td>\n",
       "      <td>0</td>\n",
       "      <td>23</td>\n",
       "      <td>0</td>\n",
       "      <td>4</td>\n",
       "    </tr>\n",
       "    <tr>\n",
       "      <th>355</th>\n",
       "      <td>raw_data_9981a771-0cdd-11ed-9772-b469216ca443.csv</td>\n",
       "      <td>0</td>\n",
       "      <td>75</td>\n",
       "      <td>0</td>\n",
       "      <td>2</td>\n",
       "    </tr>\n",
       "    <tr>\n",
       "      <th>356</th>\n",
       "      <td>raw_data_148c7295-34c9-11ed-b265-e82aea2c97f4.csv</td>\n",
       "      <td>0</td>\n",
       "      <td>50</td>\n",
       "      <td>1</td>\n",
       "      <td>2</td>\n",
       "    </tr>\n",
       "  </tbody>\n",
       "</table>\n",
       "<p>357 rows × 5 columns</p>\n",
       "</div>\n",
       "    <div class=\"colab-df-buttons\">\n",
       "\n",
       "  <div class=\"colab-df-container\">\n",
       "    <button class=\"colab-df-convert\" onclick=\"convertToInteractive('df-8c444731-f8dd-4c03-8cb1-a396e7f295a2')\"\n",
       "            title=\"Convert this dataframe to an interactive table.\"\n",
       "            style=\"display:none;\">\n",
       "\n",
       "  <svg xmlns=\"http://www.w3.org/2000/svg\" height=\"24px\" viewBox=\"0 -960 960 960\">\n",
       "    <path d=\"M120-120v-720h720v720H120Zm60-500h600v-160H180v160Zm220 220h160v-160H400v160Zm0 220h160v-160H400v160ZM180-400h160v-160H180v160Zm440 0h160v-160H620v160ZM180-180h160v-160H180v160Zm440 0h160v-160H620v160Z\"/>\n",
       "  </svg>\n",
       "    </button>\n",
       "\n",
       "  <style>\n",
       "    .colab-df-container {\n",
       "      display:flex;\n",
       "      gap: 12px;\n",
       "    }\n",
       "\n",
       "    .colab-df-convert {\n",
       "      background-color: #E8F0FE;\n",
       "      border: none;\n",
       "      border-radius: 50%;\n",
       "      cursor: pointer;\n",
       "      display: none;\n",
       "      fill: #1967D2;\n",
       "      height: 32px;\n",
       "      padding: 0 0 0 0;\n",
       "      width: 32px;\n",
       "    }\n",
       "\n",
       "    .colab-df-convert:hover {\n",
       "      background-color: #E2EBFA;\n",
       "      box-shadow: 0px 1px 2px rgba(60, 64, 67, 0.3), 0px 1px 3px 1px rgba(60, 64, 67, 0.15);\n",
       "      fill: #174EA6;\n",
       "    }\n",
       "\n",
       "    .colab-df-buttons div {\n",
       "      margin-bottom: 4px;\n",
       "    }\n",
       "\n",
       "    [theme=dark] .colab-df-convert {\n",
       "      background-color: #3B4455;\n",
       "      fill: #D2E3FC;\n",
       "    }\n",
       "\n",
       "    [theme=dark] .colab-df-convert:hover {\n",
       "      background-color: #434B5C;\n",
       "      box-shadow: 0px 1px 3px 1px rgba(0, 0, 0, 0.15);\n",
       "      filter: drop-shadow(0px 1px 2px rgba(0, 0, 0, 0.3));\n",
       "      fill: #FFFFFF;\n",
       "    }\n",
       "  </style>\n",
       "\n",
       "    <script>\n",
       "      const buttonEl =\n",
       "        document.querySelector('#df-8c444731-f8dd-4c03-8cb1-a396e7f295a2 button.colab-df-convert');\n",
       "      buttonEl.style.display =\n",
       "        google.colab.kernel.accessAllowed ? 'block' : 'none';\n",
       "\n",
       "      async function convertToInteractive(key) {\n",
       "        const element = document.querySelector('#df-8c444731-f8dd-4c03-8cb1-a396e7f295a2');\n",
       "        const dataTable =\n",
       "          await google.colab.kernel.invokeFunction('convertToInteractive',\n",
       "                                                    [key], {});\n",
       "        if (!dataTable) return;\n",
       "\n",
       "        const docLinkHtml = 'Like what you see? Visit the ' +\n",
       "          '<a target=\"_blank\" href=https://colab.research.google.com/notebooks/data_table.ipynb>data table notebook</a>'\n",
       "          + ' to learn more about interactive tables.';\n",
       "        element.innerHTML = '';\n",
       "        dataTable['output_type'] = 'display_data';\n",
       "        await google.colab.output.renderOutput(dataTable, element);\n",
       "        const docLink = document.createElement('div');\n",
       "        docLink.innerHTML = docLinkHtml;\n",
       "        element.appendChild(docLink);\n",
       "      }\n",
       "    </script>\n",
       "  </div>\n",
       "\n",
       "\n",
       "<div id=\"df-69c52176-f2df-43c5-b0b4-adc258f8cb9d\">\n",
       "  <button class=\"colab-df-quickchart\" onclick=\"quickchart('df-69c52176-f2df-43c5-b0b4-adc258f8cb9d')\"\n",
       "            title=\"Suggest charts.\"\n",
       "            style=\"display:none;\">\n",
       "\n",
       "<svg xmlns=\"http://www.w3.org/2000/svg\" height=\"24px\"viewBox=\"0 0 24 24\"\n",
       "     width=\"24px\">\n",
       "    <g>\n",
       "        <path d=\"M19 3H5c-1.1 0-2 .9-2 2v14c0 1.1.9 2 2 2h14c1.1 0 2-.9 2-2V5c0-1.1-.9-2-2-2zM9 17H7v-7h2v7zm4 0h-2V7h2v10zm4 0h-2v-4h2v4z\"/>\n",
       "    </g>\n",
       "</svg>\n",
       "  </button>\n",
       "\n",
       "<style>\n",
       "  .colab-df-quickchart {\n",
       "      --bg-color: #E8F0FE;\n",
       "      --fill-color: #1967D2;\n",
       "      --hover-bg-color: #E2EBFA;\n",
       "      --hover-fill-color: #174EA6;\n",
       "      --disabled-fill-color: #AAA;\n",
       "      --disabled-bg-color: #DDD;\n",
       "  }\n",
       "\n",
       "  [theme=dark] .colab-df-quickchart {\n",
       "      --bg-color: #3B4455;\n",
       "      --fill-color: #D2E3FC;\n",
       "      --hover-bg-color: #434B5C;\n",
       "      --hover-fill-color: #FFFFFF;\n",
       "      --disabled-bg-color: #3B4455;\n",
       "      --disabled-fill-color: #666;\n",
       "  }\n",
       "\n",
       "  .colab-df-quickchart {\n",
       "    background-color: var(--bg-color);\n",
       "    border: none;\n",
       "    border-radius: 50%;\n",
       "    cursor: pointer;\n",
       "    display: none;\n",
       "    fill: var(--fill-color);\n",
       "    height: 32px;\n",
       "    padding: 0;\n",
       "    width: 32px;\n",
       "  }\n",
       "\n",
       "  .colab-df-quickchart:hover {\n",
       "    background-color: var(--hover-bg-color);\n",
       "    box-shadow: 0 1px 2px rgba(60, 64, 67, 0.3), 0 1px 3px 1px rgba(60, 64, 67, 0.15);\n",
       "    fill: var(--button-hover-fill-color);\n",
       "  }\n",
       "\n",
       "  .colab-df-quickchart-complete:disabled,\n",
       "  .colab-df-quickchart-complete:disabled:hover {\n",
       "    background-color: var(--disabled-bg-color);\n",
       "    fill: var(--disabled-fill-color);\n",
       "    box-shadow: none;\n",
       "  }\n",
       "\n",
       "  .colab-df-spinner {\n",
       "    border: 2px solid var(--fill-color);\n",
       "    border-color: transparent;\n",
       "    border-bottom-color: var(--fill-color);\n",
       "    animation:\n",
       "      spin 1s steps(1) infinite;\n",
       "  }\n",
       "\n",
       "  @keyframes spin {\n",
       "    0% {\n",
       "      border-color: transparent;\n",
       "      border-bottom-color: var(--fill-color);\n",
       "      border-left-color: var(--fill-color);\n",
       "    }\n",
       "    20% {\n",
       "      border-color: transparent;\n",
       "      border-left-color: var(--fill-color);\n",
       "      border-top-color: var(--fill-color);\n",
       "    }\n",
       "    30% {\n",
       "      border-color: transparent;\n",
       "      border-left-color: var(--fill-color);\n",
       "      border-top-color: var(--fill-color);\n",
       "      border-right-color: var(--fill-color);\n",
       "    }\n",
       "    40% {\n",
       "      border-color: transparent;\n",
       "      border-right-color: var(--fill-color);\n",
       "      border-top-color: var(--fill-color);\n",
       "    }\n",
       "    60% {\n",
       "      border-color: transparent;\n",
       "      border-right-color: var(--fill-color);\n",
       "    }\n",
       "    80% {\n",
       "      border-color: transparent;\n",
       "      border-right-color: var(--fill-color);\n",
       "      border-bottom-color: var(--fill-color);\n",
       "    }\n",
       "    90% {\n",
       "      border-color: transparent;\n",
       "      border-bottom-color: var(--fill-color);\n",
       "    }\n",
       "  }\n",
       "</style>\n",
       "\n",
       "  <script>\n",
       "    async function quickchart(key) {\n",
       "      const quickchartButtonEl =\n",
       "        document.querySelector('#' + key + ' button');\n",
       "      quickchartButtonEl.disabled = true;  // To prevent multiple clicks.\n",
       "      quickchartButtonEl.classList.add('colab-df-spinner');\n",
       "      try {\n",
       "        const charts = await google.colab.kernel.invokeFunction(\n",
       "            'suggestCharts', [key], {});\n",
       "      } catch (error) {\n",
       "        console.error('Error during call to suggestCharts:', error);\n",
       "      }\n",
       "      quickchartButtonEl.classList.remove('colab-df-spinner');\n",
       "      quickchartButtonEl.classList.add('colab-df-quickchart-complete');\n",
       "    }\n",
       "    (() => {\n",
       "      let quickchartButtonEl =\n",
       "        document.querySelector('#df-69c52176-f2df-43c5-b0b4-adc258f8cb9d button');\n",
       "      quickchartButtonEl.style.display =\n",
       "        google.colab.kernel.accessAllowed ? 'block' : 'none';\n",
       "    })();\n",
       "  </script>\n",
       "</div>\n",
       "    </div>\n",
       "  </div>\n"
      ],
      "text/plain": [
       "                                      имя файла данных пол  полных лет  \\\n",
       "0    raw_data_61fbeecd-8ef7-11ec-a78a-58a023d3f6d9.csv   1          69   \n",
       "1    raw_data_41f438e7-8041-11ed-aa7b-e82aea2c97f4.csv   0          23   \n",
       "2    raw_data_43b5ffcb-2dcc-11ed-a854-e82aea2c97f4.csv   0          62   \n",
       "3    raw_data_28cfe921-2452-11ed-934f-e82aea2c97f4.csv   0          72   \n",
       "4    raw_data_d6107ceb-2f57-11ed-8d23-c86000e163af.csv   0          70   \n",
       "..                                                 ...  ..         ...   \n",
       "352  raw_data_1fdbcbf9-e072-11ec-9d67-ef54fcc0d655.csv   1          63   \n",
       "353  raw_data_83b398f9-2dcc-11ed-91ba-e82aea2c97f4.csv   0          62   \n",
       "354  raw_data_de9b38a1-1882-11ed-b91f-b469216ca443.csv   0          23   \n",
       "355  raw_data_9981a771-0cdd-11ed-9772-b469216ca443.csv   0          75   \n",
       "356  raw_data_148c7295-34c9-11ed-b265-e82aea2c97f4.csv   0          50   \n",
       "\n",
       "     пациент off/on  определенный диагноз врачом (0-5)  \n",
       "0                 1                                  3  \n",
       "1                 0                                  0  \n",
       "2                 0                                  0  \n",
       "3                 1                                  3  \n",
       "4                 0                                  0  \n",
       "..              ...                                ...  \n",
       "352               0                                  1  \n",
       "353               0                                  0  \n",
       "354               0                                  4  \n",
       "355               0                                  2  \n",
       "356               1                                  2  \n",
       "\n",
       "[357 rows x 5 columns]"
      ]
     },
     "execution_count": 50,
     "metadata": {},
     "output_type": "execute_result"
    }
   ],
   "source": [
    "# замена (кодирование) пола\n",
    "test['пол'] = test['пол'].replace('мужской', 0)\n",
    "test['пол'] = test['пол'].replace('женский', 1)\n",
    "# замена (кодирование) пациент off/on\n",
    "test['пациент off/on'] = test['пациент off/on'].replace('off', 0)\n",
    "test['пациент off/on'] = test['пациент off/on'].replace('on', 1)\n",
    "test"
   ]
  },
  {
   "cell_type": "code",
   "execution_count": null,
   "metadata": {
    "colab": {
     "base_uri": "https://localhost:8080/",
     "height": 423
    },
    "id": "tJc5U5TEvoGt",
    "outputId": "5a247671-aa26-4c55-97e6-33c469daec5f"
   },
   "outputs": [
    {
     "data": {
      "text/html": [
       "\n",
       "  <div id=\"df-97b8ac21-5354-41c3-a137-d79baac96186\" class=\"colab-df-container\">\n",
       "    <div>\n",
       "<style scoped>\n",
       "    .dataframe tbody tr th:only-of-type {\n",
       "        vertical-align: middle;\n",
       "    }\n",
       "\n",
       "    .dataframe tbody tr th {\n",
       "        vertical-align: top;\n",
       "    }\n",
       "\n",
       "    .dataframe thead th {\n",
       "        text-align: right;\n",
       "    }\n",
       "</style>\n",
       "<table border=\"1\" class=\"dataframe\">\n",
       "  <thead>\n",
       "    <tr style=\"text-align: right;\">\n",
       "      <th></th>\n",
       "      <th>имя файла данных</th>\n",
       "      <th>пол</th>\n",
       "      <th>полных лет</th>\n",
       "      <th>пациент off/on</th>\n",
       "      <th>определенный диагноз врачом (0-5)</th>\n",
       "      <th>Age_cat</th>\n",
       "    </tr>\n",
       "  </thead>\n",
       "  <tbody>\n",
       "    <tr>\n",
       "      <th>0</th>\n",
       "      <td>raw_data_61fbeecd-8ef7-11ec-a78a-58a023d3f6d9.csv</td>\n",
       "      <td>1</td>\n",
       "      <td>69</td>\n",
       "      <td>1</td>\n",
       "      <td>3</td>\n",
       "      <td>elderly</td>\n",
       "    </tr>\n",
       "    <tr>\n",
       "      <th>1</th>\n",
       "      <td>raw_data_41f438e7-8041-11ed-aa7b-e82aea2c97f4.csv</td>\n",
       "      <td>0</td>\n",
       "      <td>23</td>\n",
       "      <td>0</td>\n",
       "      <td>0</td>\n",
       "      <td>teen</td>\n",
       "    </tr>\n",
       "    <tr>\n",
       "      <th>2</th>\n",
       "      <td>raw_data_43b5ffcb-2dcc-11ed-a854-e82aea2c97f4.csv</td>\n",
       "      <td>0</td>\n",
       "      <td>62</td>\n",
       "      <td>0</td>\n",
       "      <td>0</td>\n",
       "      <td>elderly</td>\n",
       "    </tr>\n",
       "    <tr>\n",
       "      <th>3</th>\n",
       "      <td>raw_data_28cfe921-2452-11ed-934f-e82aea2c97f4.csv</td>\n",
       "      <td>0</td>\n",
       "      <td>72</td>\n",
       "      <td>1</td>\n",
       "      <td>3</td>\n",
       "      <td>elderly</td>\n",
       "    </tr>\n",
       "    <tr>\n",
       "      <th>4</th>\n",
       "      <td>raw_data_d6107ceb-2f57-11ed-8d23-c86000e163af.csv</td>\n",
       "      <td>0</td>\n",
       "      <td>70</td>\n",
       "      <td>0</td>\n",
       "      <td>0</td>\n",
       "      <td>elderly</td>\n",
       "    </tr>\n",
       "    <tr>\n",
       "      <th>...</th>\n",
       "      <td>...</td>\n",
       "      <td>...</td>\n",
       "      <td>...</td>\n",
       "      <td>...</td>\n",
       "      <td>...</td>\n",
       "      <td>...</td>\n",
       "    </tr>\n",
       "    <tr>\n",
       "      <th>352</th>\n",
       "      <td>raw_data_1fdbcbf9-e072-11ec-9d67-ef54fcc0d655.csv</td>\n",
       "      <td>1</td>\n",
       "      <td>63</td>\n",
       "      <td>0</td>\n",
       "      <td>1</td>\n",
       "      <td>elderly</td>\n",
       "    </tr>\n",
       "    <tr>\n",
       "      <th>353</th>\n",
       "      <td>raw_data_83b398f9-2dcc-11ed-91ba-e82aea2c97f4.csv</td>\n",
       "      <td>0</td>\n",
       "      <td>62</td>\n",
       "      <td>0</td>\n",
       "      <td>0</td>\n",
       "      <td>elderly</td>\n",
       "    </tr>\n",
       "    <tr>\n",
       "      <th>354</th>\n",
       "      <td>raw_data_de9b38a1-1882-11ed-b91f-b469216ca443.csv</td>\n",
       "      <td>0</td>\n",
       "      <td>23</td>\n",
       "      <td>0</td>\n",
       "      <td>4</td>\n",
       "      <td>teen</td>\n",
       "    </tr>\n",
       "    <tr>\n",
       "      <th>355</th>\n",
       "      <td>raw_data_9981a771-0cdd-11ed-9772-b469216ca443.csv</td>\n",
       "      <td>0</td>\n",
       "      <td>75</td>\n",
       "      <td>0</td>\n",
       "      <td>2</td>\n",
       "      <td>elderly</td>\n",
       "    </tr>\n",
       "    <tr>\n",
       "      <th>356</th>\n",
       "      <td>raw_data_148c7295-34c9-11ed-b265-e82aea2c97f4.csv</td>\n",
       "      <td>0</td>\n",
       "      <td>50</td>\n",
       "      <td>1</td>\n",
       "      <td>2</td>\n",
       "      <td>adult</td>\n",
       "    </tr>\n",
       "  </tbody>\n",
       "</table>\n",
       "<p>357 rows × 6 columns</p>\n",
       "</div>\n",
       "    <div class=\"colab-df-buttons\">\n",
       "\n",
       "  <div class=\"colab-df-container\">\n",
       "    <button class=\"colab-df-convert\" onclick=\"convertToInteractive('df-97b8ac21-5354-41c3-a137-d79baac96186')\"\n",
       "            title=\"Convert this dataframe to an interactive table.\"\n",
       "            style=\"display:none;\">\n",
       "\n",
       "  <svg xmlns=\"http://www.w3.org/2000/svg\" height=\"24px\" viewBox=\"0 -960 960 960\">\n",
       "    <path d=\"M120-120v-720h720v720H120Zm60-500h600v-160H180v160Zm220 220h160v-160H400v160Zm0 220h160v-160H400v160ZM180-400h160v-160H180v160Zm440 0h160v-160H620v160ZM180-180h160v-160H180v160Zm440 0h160v-160H620v160Z\"/>\n",
       "  </svg>\n",
       "    </button>\n",
       "\n",
       "  <style>\n",
       "    .colab-df-container {\n",
       "      display:flex;\n",
       "      gap: 12px;\n",
       "    }\n",
       "\n",
       "    .colab-df-convert {\n",
       "      background-color: #E8F0FE;\n",
       "      border: none;\n",
       "      border-radius: 50%;\n",
       "      cursor: pointer;\n",
       "      display: none;\n",
       "      fill: #1967D2;\n",
       "      height: 32px;\n",
       "      padding: 0 0 0 0;\n",
       "      width: 32px;\n",
       "    }\n",
       "\n",
       "    .colab-df-convert:hover {\n",
       "      background-color: #E2EBFA;\n",
       "      box-shadow: 0px 1px 2px rgba(60, 64, 67, 0.3), 0px 1px 3px 1px rgba(60, 64, 67, 0.15);\n",
       "      fill: #174EA6;\n",
       "    }\n",
       "\n",
       "    .colab-df-buttons div {\n",
       "      margin-bottom: 4px;\n",
       "    }\n",
       "\n",
       "    [theme=dark] .colab-df-convert {\n",
       "      background-color: #3B4455;\n",
       "      fill: #D2E3FC;\n",
       "    }\n",
       "\n",
       "    [theme=dark] .colab-df-convert:hover {\n",
       "      background-color: #434B5C;\n",
       "      box-shadow: 0px 1px 3px 1px rgba(0, 0, 0, 0.15);\n",
       "      filter: drop-shadow(0px 1px 2px rgba(0, 0, 0, 0.3));\n",
       "      fill: #FFFFFF;\n",
       "    }\n",
       "  </style>\n",
       "\n",
       "    <script>\n",
       "      const buttonEl =\n",
       "        document.querySelector('#df-97b8ac21-5354-41c3-a137-d79baac96186 button.colab-df-convert');\n",
       "      buttonEl.style.display =\n",
       "        google.colab.kernel.accessAllowed ? 'block' : 'none';\n",
       "\n",
       "      async function convertToInteractive(key) {\n",
       "        const element = document.querySelector('#df-97b8ac21-5354-41c3-a137-d79baac96186');\n",
       "        const dataTable =\n",
       "          await google.colab.kernel.invokeFunction('convertToInteractive',\n",
       "                                                    [key], {});\n",
       "        if (!dataTable) return;\n",
       "\n",
       "        const docLinkHtml = 'Like what you see? Visit the ' +\n",
       "          '<a target=\"_blank\" href=https://colab.research.google.com/notebooks/data_table.ipynb>data table notebook</a>'\n",
       "          + ' to learn more about interactive tables.';\n",
       "        element.innerHTML = '';\n",
       "        dataTable['output_type'] = 'display_data';\n",
       "        await google.colab.output.renderOutput(dataTable, element);\n",
       "        const docLink = document.createElement('div');\n",
       "        docLink.innerHTML = docLinkHtml;\n",
       "        element.appendChild(docLink);\n",
       "      }\n",
       "    </script>\n",
       "  </div>\n",
       "\n",
       "\n",
       "<div id=\"df-5b36bb85-e988-4ed0-8200-bed90bae5ac3\">\n",
       "  <button class=\"colab-df-quickchart\" onclick=\"quickchart('df-5b36bb85-e988-4ed0-8200-bed90bae5ac3')\"\n",
       "            title=\"Suggest charts.\"\n",
       "            style=\"display:none;\">\n",
       "\n",
       "<svg xmlns=\"http://www.w3.org/2000/svg\" height=\"24px\"viewBox=\"0 0 24 24\"\n",
       "     width=\"24px\">\n",
       "    <g>\n",
       "        <path d=\"M19 3H5c-1.1 0-2 .9-2 2v14c0 1.1.9 2 2 2h14c1.1 0 2-.9 2-2V5c0-1.1-.9-2-2-2zM9 17H7v-7h2v7zm4 0h-2V7h2v10zm4 0h-2v-4h2v4z\"/>\n",
       "    </g>\n",
       "</svg>\n",
       "  </button>\n",
       "\n",
       "<style>\n",
       "  .colab-df-quickchart {\n",
       "      --bg-color: #E8F0FE;\n",
       "      --fill-color: #1967D2;\n",
       "      --hover-bg-color: #E2EBFA;\n",
       "      --hover-fill-color: #174EA6;\n",
       "      --disabled-fill-color: #AAA;\n",
       "      --disabled-bg-color: #DDD;\n",
       "  }\n",
       "\n",
       "  [theme=dark] .colab-df-quickchart {\n",
       "      --bg-color: #3B4455;\n",
       "      --fill-color: #D2E3FC;\n",
       "      --hover-bg-color: #434B5C;\n",
       "      --hover-fill-color: #FFFFFF;\n",
       "      --disabled-bg-color: #3B4455;\n",
       "      --disabled-fill-color: #666;\n",
       "  }\n",
       "\n",
       "  .colab-df-quickchart {\n",
       "    background-color: var(--bg-color);\n",
       "    border: none;\n",
       "    border-radius: 50%;\n",
       "    cursor: pointer;\n",
       "    display: none;\n",
       "    fill: var(--fill-color);\n",
       "    height: 32px;\n",
       "    padding: 0;\n",
       "    width: 32px;\n",
       "  }\n",
       "\n",
       "  .colab-df-quickchart:hover {\n",
       "    background-color: var(--hover-bg-color);\n",
       "    box-shadow: 0 1px 2px rgba(60, 64, 67, 0.3), 0 1px 3px 1px rgba(60, 64, 67, 0.15);\n",
       "    fill: var(--button-hover-fill-color);\n",
       "  }\n",
       "\n",
       "  .colab-df-quickchart-complete:disabled,\n",
       "  .colab-df-quickchart-complete:disabled:hover {\n",
       "    background-color: var(--disabled-bg-color);\n",
       "    fill: var(--disabled-fill-color);\n",
       "    box-shadow: none;\n",
       "  }\n",
       "\n",
       "  .colab-df-spinner {\n",
       "    border: 2px solid var(--fill-color);\n",
       "    border-color: transparent;\n",
       "    border-bottom-color: var(--fill-color);\n",
       "    animation:\n",
       "      spin 1s steps(1) infinite;\n",
       "  }\n",
       "\n",
       "  @keyframes spin {\n",
       "    0% {\n",
       "      border-color: transparent;\n",
       "      border-bottom-color: var(--fill-color);\n",
       "      border-left-color: var(--fill-color);\n",
       "    }\n",
       "    20% {\n",
       "      border-color: transparent;\n",
       "      border-left-color: var(--fill-color);\n",
       "      border-top-color: var(--fill-color);\n",
       "    }\n",
       "    30% {\n",
       "      border-color: transparent;\n",
       "      border-left-color: var(--fill-color);\n",
       "      border-top-color: var(--fill-color);\n",
       "      border-right-color: var(--fill-color);\n",
       "    }\n",
       "    40% {\n",
       "      border-color: transparent;\n",
       "      border-right-color: var(--fill-color);\n",
       "      border-top-color: var(--fill-color);\n",
       "    }\n",
       "    60% {\n",
       "      border-color: transparent;\n",
       "      border-right-color: var(--fill-color);\n",
       "    }\n",
       "    80% {\n",
       "      border-color: transparent;\n",
       "      border-right-color: var(--fill-color);\n",
       "      border-bottom-color: var(--fill-color);\n",
       "    }\n",
       "    90% {\n",
       "      border-color: transparent;\n",
       "      border-bottom-color: var(--fill-color);\n",
       "    }\n",
       "  }\n",
       "</style>\n",
       "\n",
       "  <script>\n",
       "    async function quickchart(key) {\n",
       "      const quickchartButtonEl =\n",
       "        document.querySelector('#' + key + ' button');\n",
       "      quickchartButtonEl.disabled = true;  // To prevent multiple clicks.\n",
       "      quickchartButtonEl.classList.add('colab-df-spinner');\n",
       "      try {\n",
       "        const charts = await google.colab.kernel.invokeFunction(\n",
       "            'suggestCharts', [key], {});\n",
       "      } catch (error) {\n",
       "        console.error('Error during call to suggestCharts:', error);\n",
       "      }\n",
       "      quickchartButtonEl.classList.remove('colab-df-spinner');\n",
       "      quickchartButtonEl.classList.add('colab-df-quickchart-complete');\n",
       "    }\n",
       "    (() => {\n",
       "      let quickchartButtonEl =\n",
       "        document.querySelector('#df-5b36bb85-e988-4ed0-8200-bed90bae5ac3 button');\n",
       "      quickchartButtonEl.style.display =\n",
       "        google.colab.kernel.accessAllowed ? 'block' : 'none';\n",
       "    })();\n",
       "  </script>\n",
       "</div>\n",
       "    </div>\n",
       "  </div>\n"
      ],
      "text/plain": [
       "                                      имя файла данных пол  полных лет  \\\n",
       "0    raw_data_61fbeecd-8ef7-11ec-a78a-58a023d3f6d9.csv   1          69   \n",
       "1    raw_data_41f438e7-8041-11ed-aa7b-e82aea2c97f4.csv   0          23   \n",
       "2    raw_data_43b5ffcb-2dcc-11ed-a854-e82aea2c97f4.csv   0          62   \n",
       "3    raw_data_28cfe921-2452-11ed-934f-e82aea2c97f4.csv   0          72   \n",
       "4    raw_data_d6107ceb-2f57-11ed-8d23-c86000e163af.csv   0          70   \n",
       "..                                                 ...  ..         ...   \n",
       "352  raw_data_1fdbcbf9-e072-11ec-9d67-ef54fcc0d655.csv   1          63   \n",
       "353  raw_data_83b398f9-2dcc-11ed-91ba-e82aea2c97f4.csv   0          62   \n",
       "354  raw_data_de9b38a1-1882-11ed-b91f-b469216ca443.csv   0          23   \n",
       "355  raw_data_9981a771-0cdd-11ed-9772-b469216ca443.csv   0          75   \n",
       "356  raw_data_148c7295-34c9-11ed-b265-e82aea2c97f4.csv   0          50   \n",
       "\n",
       "     пациент off/on  определенный диагноз врачом (0-5)  Age_cat  \n",
       "0                 1                                  3  elderly  \n",
       "1                 0                                  0     teen  \n",
       "2                 0                                  0  elderly  \n",
       "3                 1                                  3  elderly  \n",
       "4                 0                                  0  elderly  \n",
       "..              ...                                ...      ...  \n",
       "352               0                                  1  elderly  \n",
       "353               0                                  0  elderly  \n",
       "354               0                                  4     teen  \n",
       "355               0                                  2  elderly  \n",
       "356               1                                  2    adult  \n",
       "\n",
       "[357 rows x 6 columns]"
      ]
     },
     "execution_count": 51,
     "metadata": {},
     "output_type": "execute_result"
    }
   ],
   "source": [
    "test = test.apply(age_category, axis = 1)\n",
    "test"
   ]
  },
  {
   "cell_type": "code",
   "execution_count": null,
   "metadata": {
    "colab": {
     "base_uri": "https://localhost:8080/"
    },
    "id": "_1XQbbx8voGt",
    "outputId": "6d69acad-7dc9-49b4-d3ba-fff2ba93b819"
   },
   "outputs": [
    {
     "data": {
      "text/plain": [
       "elderly    209\n",
       "teen        79\n",
       "adult       62\n",
       "child        7\n",
       "Name: Age_cat, dtype: int64"
      ]
     },
     "execution_count": 52,
     "metadata": {},
     "output_type": "execute_result"
    }
   ],
   "source": [
    "test['Age_cat'].value_counts()"
   ]
  },
  {
   "cell_type": "code",
   "execution_count": null,
   "metadata": {
    "colab": {
     "base_uri": "https://localhost:8080/",
     "height": 614
    },
    "id": "xuFyv3fQvoGu",
    "outputId": "657573be-f56f-4eb9-ae81-1e610bee5125"
   },
   "outputs": [
    {
     "data": {
      "text/html": [
       "\n",
       "  <div id=\"df-29aa05d2-0d15-4bb5-ac6b-fa85891d2598\" class=\"colab-df-container\">\n",
       "    <div>\n",
       "<style scoped>\n",
       "    .dataframe tbody tr th:only-of-type {\n",
       "        vertical-align: middle;\n",
       "    }\n",
       "\n",
       "    .dataframe tbody tr th {\n",
       "        vertical-align: top;\n",
       "    }\n",
       "\n",
       "    .dataframe thead th {\n",
       "        text-align: right;\n",
       "    }\n",
       "</style>\n",
       "<table border=\"1\" class=\"dataframe\">\n",
       "  <thead>\n",
       "    <tr style=\"text-align: right;\">\n",
       "      <th></th>\n",
       "      <th>имя файла данных</th>\n",
       "      <th>пол</th>\n",
       "      <th>полных лет</th>\n",
       "      <th>пациент off/on</th>\n",
       "      <th>определенный диагноз врачом (0-5)</th>\n",
       "      <th>Age_cat_adult</th>\n",
       "      <th>Age_cat_child</th>\n",
       "      <th>Age_cat_elderly</th>\n",
       "      <th>Age_cat_teen</th>\n",
       "    </tr>\n",
       "  </thead>\n",
       "  <tbody>\n",
       "    <tr>\n",
       "      <th>0</th>\n",
       "      <td>raw_data_61fbeecd-8ef7-11ec-a78a-58a023d3f6d9.csv</td>\n",
       "      <td>1</td>\n",
       "      <td>69</td>\n",
       "      <td>1</td>\n",
       "      <td>3</td>\n",
       "      <td>0</td>\n",
       "      <td>0</td>\n",
       "      <td>1</td>\n",
       "      <td>0</td>\n",
       "    </tr>\n",
       "    <tr>\n",
       "      <th>1</th>\n",
       "      <td>raw_data_41f438e7-8041-11ed-aa7b-e82aea2c97f4.csv</td>\n",
       "      <td>0</td>\n",
       "      <td>23</td>\n",
       "      <td>0</td>\n",
       "      <td>0</td>\n",
       "      <td>0</td>\n",
       "      <td>0</td>\n",
       "      <td>0</td>\n",
       "      <td>1</td>\n",
       "    </tr>\n",
       "    <tr>\n",
       "      <th>2</th>\n",
       "      <td>raw_data_43b5ffcb-2dcc-11ed-a854-e82aea2c97f4.csv</td>\n",
       "      <td>0</td>\n",
       "      <td>62</td>\n",
       "      <td>0</td>\n",
       "      <td>0</td>\n",
       "      <td>0</td>\n",
       "      <td>0</td>\n",
       "      <td>1</td>\n",
       "      <td>0</td>\n",
       "    </tr>\n",
       "    <tr>\n",
       "      <th>3</th>\n",
       "      <td>raw_data_28cfe921-2452-11ed-934f-e82aea2c97f4.csv</td>\n",
       "      <td>0</td>\n",
       "      <td>72</td>\n",
       "      <td>1</td>\n",
       "      <td>3</td>\n",
       "      <td>0</td>\n",
       "      <td>0</td>\n",
       "      <td>1</td>\n",
       "      <td>0</td>\n",
       "    </tr>\n",
       "    <tr>\n",
       "      <th>4</th>\n",
       "      <td>raw_data_d6107ceb-2f57-11ed-8d23-c86000e163af.csv</td>\n",
       "      <td>0</td>\n",
       "      <td>70</td>\n",
       "      <td>0</td>\n",
       "      <td>0</td>\n",
       "      <td>0</td>\n",
       "      <td>0</td>\n",
       "      <td>1</td>\n",
       "      <td>0</td>\n",
       "    </tr>\n",
       "    <tr>\n",
       "      <th>...</th>\n",
       "      <td>...</td>\n",
       "      <td>...</td>\n",
       "      <td>...</td>\n",
       "      <td>...</td>\n",
       "      <td>...</td>\n",
       "      <td>...</td>\n",
       "      <td>...</td>\n",
       "      <td>...</td>\n",
       "      <td>...</td>\n",
       "    </tr>\n",
       "    <tr>\n",
       "      <th>352</th>\n",
       "      <td>raw_data_1fdbcbf9-e072-11ec-9d67-ef54fcc0d655.csv</td>\n",
       "      <td>1</td>\n",
       "      <td>63</td>\n",
       "      <td>0</td>\n",
       "      <td>1</td>\n",
       "      <td>0</td>\n",
       "      <td>0</td>\n",
       "      <td>1</td>\n",
       "      <td>0</td>\n",
       "    </tr>\n",
       "    <tr>\n",
       "      <th>353</th>\n",
       "      <td>raw_data_83b398f9-2dcc-11ed-91ba-e82aea2c97f4.csv</td>\n",
       "      <td>0</td>\n",
       "      <td>62</td>\n",
       "      <td>0</td>\n",
       "      <td>0</td>\n",
       "      <td>0</td>\n",
       "      <td>0</td>\n",
       "      <td>1</td>\n",
       "      <td>0</td>\n",
       "    </tr>\n",
       "    <tr>\n",
       "      <th>354</th>\n",
       "      <td>raw_data_de9b38a1-1882-11ed-b91f-b469216ca443.csv</td>\n",
       "      <td>0</td>\n",
       "      <td>23</td>\n",
       "      <td>0</td>\n",
       "      <td>4</td>\n",
       "      <td>0</td>\n",
       "      <td>0</td>\n",
       "      <td>0</td>\n",
       "      <td>1</td>\n",
       "    </tr>\n",
       "    <tr>\n",
       "      <th>355</th>\n",
       "      <td>raw_data_9981a771-0cdd-11ed-9772-b469216ca443.csv</td>\n",
       "      <td>0</td>\n",
       "      <td>75</td>\n",
       "      <td>0</td>\n",
       "      <td>2</td>\n",
       "      <td>0</td>\n",
       "      <td>0</td>\n",
       "      <td>1</td>\n",
       "      <td>0</td>\n",
       "    </tr>\n",
       "    <tr>\n",
       "      <th>356</th>\n",
       "      <td>raw_data_148c7295-34c9-11ed-b265-e82aea2c97f4.csv</td>\n",
       "      <td>0</td>\n",
       "      <td>50</td>\n",
       "      <td>1</td>\n",
       "      <td>2</td>\n",
       "      <td>1</td>\n",
       "      <td>0</td>\n",
       "      <td>0</td>\n",
       "      <td>0</td>\n",
       "    </tr>\n",
       "  </tbody>\n",
       "</table>\n",
       "<p>357 rows × 9 columns</p>\n",
       "</div>\n",
       "    <div class=\"colab-df-buttons\">\n",
       "\n",
       "  <div class=\"colab-df-container\">\n",
       "    <button class=\"colab-df-convert\" onclick=\"convertToInteractive('df-29aa05d2-0d15-4bb5-ac6b-fa85891d2598')\"\n",
       "            title=\"Convert this dataframe to an interactive table.\"\n",
       "            style=\"display:none;\">\n",
       "\n",
       "  <svg xmlns=\"http://www.w3.org/2000/svg\" height=\"24px\" viewBox=\"0 -960 960 960\">\n",
       "    <path d=\"M120-120v-720h720v720H120Zm60-500h600v-160H180v160Zm220 220h160v-160H400v160Zm0 220h160v-160H400v160ZM180-400h160v-160H180v160Zm440 0h160v-160H620v160ZM180-180h160v-160H180v160Zm440 0h160v-160H620v160Z\"/>\n",
       "  </svg>\n",
       "    </button>\n",
       "\n",
       "  <style>\n",
       "    .colab-df-container {\n",
       "      display:flex;\n",
       "      gap: 12px;\n",
       "    }\n",
       "\n",
       "    .colab-df-convert {\n",
       "      background-color: #E8F0FE;\n",
       "      border: none;\n",
       "      border-radius: 50%;\n",
       "      cursor: pointer;\n",
       "      display: none;\n",
       "      fill: #1967D2;\n",
       "      height: 32px;\n",
       "      padding: 0 0 0 0;\n",
       "      width: 32px;\n",
       "    }\n",
       "\n",
       "    .colab-df-convert:hover {\n",
       "      background-color: #E2EBFA;\n",
       "      box-shadow: 0px 1px 2px rgba(60, 64, 67, 0.3), 0px 1px 3px 1px rgba(60, 64, 67, 0.15);\n",
       "      fill: #174EA6;\n",
       "    }\n",
       "\n",
       "    .colab-df-buttons div {\n",
       "      margin-bottom: 4px;\n",
       "    }\n",
       "\n",
       "    [theme=dark] .colab-df-convert {\n",
       "      background-color: #3B4455;\n",
       "      fill: #D2E3FC;\n",
       "    }\n",
       "\n",
       "    [theme=dark] .colab-df-convert:hover {\n",
       "      background-color: #434B5C;\n",
       "      box-shadow: 0px 1px 3px 1px rgba(0, 0, 0, 0.15);\n",
       "      filter: drop-shadow(0px 1px 2px rgba(0, 0, 0, 0.3));\n",
       "      fill: #FFFFFF;\n",
       "    }\n",
       "  </style>\n",
       "\n",
       "    <script>\n",
       "      const buttonEl =\n",
       "        document.querySelector('#df-29aa05d2-0d15-4bb5-ac6b-fa85891d2598 button.colab-df-convert');\n",
       "      buttonEl.style.display =\n",
       "        google.colab.kernel.accessAllowed ? 'block' : 'none';\n",
       "\n",
       "      async function convertToInteractive(key) {\n",
       "        const element = document.querySelector('#df-29aa05d2-0d15-4bb5-ac6b-fa85891d2598');\n",
       "        const dataTable =\n",
       "          await google.colab.kernel.invokeFunction('convertToInteractive',\n",
       "                                                    [key], {});\n",
       "        if (!dataTable) return;\n",
       "\n",
       "        const docLinkHtml = 'Like what you see? Visit the ' +\n",
       "          '<a target=\"_blank\" href=https://colab.research.google.com/notebooks/data_table.ipynb>data table notebook</a>'\n",
       "          + ' to learn more about interactive tables.';\n",
       "        element.innerHTML = '';\n",
       "        dataTable['output_type'] = 'display_data';\n",
       "        await google.colab.output.renderOutput(dataTable, element);\n",
       "        const docLink = document.createElement('div');\n",
       "        docLink.innerHTML = docLinkHtml;\n",
       "        element.appendChild(docLink);\n",
       "      }\n",
       "    </script>\n",
       "  </div>\n",
       "\n",
       "\n",
       "<div id=\"df-5cbb6868-c69b-498f-89c2-c73f2ebe65c7\">\n",
       "  <button class=\"colab-df-quickchart\" onclick=\"quickchart('df-5cbb6868-c69b-498f-89c2-c73f2ebe65c7')\"\n",
       "            title=\"Suggest charts.\"\n",
       "            style=\"display:none;\">\n",
       "\n",
       "<svg xmlns=\"http://www.w3.org/2000/svg\" height=\"24px\"viewBox=\"0 0 24 24\"\n",
       "     width=\"24px\">\n",
       "    <g>\n",
       "        <path d=\"M19 3H5c-1.1 0-2 .9-2 2v14c0 1.1.9 2 2 2h14c1.1 0 2-.9 2-2V5c0-1.1-.9-2-2-2zM9 17H7v-7h2v7zm4 0h-2V7h2v10zm4 0h-2v-4h2v4z\"/>\n",
       "    </g>\n",
       "</svg>\n",
       "  </button>\n",
       "\n",
       "<style>\n",
       "  .colab-df-quickchart {\n",
       "      --bg-color: #E8F0FE;\n",
       "      --fill-color: #1967D2;\n",
       "      --hover-bg-color: #E2EBFA;\n",
       "      --hover-fill-color: #174EA6;\n",
       "      --disabled-fill-color: #AAA;\n",
       "      --disabled-bg-color: #DDD;\n",
       "  }\n",
       "\n",
       "  [theme=dark] .colab-df-quickchart {\n",
       "      --bg-color: #3B4455;\n",
       "      --fill-color: #D2E3FC;\n",
       "      --hover-bg-color: #434B5C;\n",
       "      --hover-fill-color: #FFFFFF;\n",
       "      --disabled-bg-color: #3B4455;\n",
       "      --disabled-fill-color: #666;\n",
       "  }\n",
       "\n",
       "  .colab-df-quickchart {\n",
       "    background-color: var(--bg-color);\n",
       "    border: none;\n",
       "    border-radius: 50%;\n",
       "    cursor: pointer;\n",
       "    display: none;\n",
       "    fill: var(--fill-color);\n",
       "    height: 32px;\n",
       "    padding: 0;\n",
       "    width: 32px;\n",
       "  }\n",
       "\n",
       "  .colab-df-quickchart:hover {\n",
       "    background-color: var(--hover-bg-color);\n",
       "    box-shadow: 0 1px 2px rgba(60, 64, 67, 0.3), 0 1px 3px 1px rgba(60, 64, 67, 0.15);\n",
       "    fill: var(--button-hover-fill-color);\n",
       "  }\n",
       "\n",
       "  .colab-df-quickchart-complete:disabled,\n",
       "  .colab-df-quickchart-complete:disabled:hover {\n",
       "    background-color: var(--disabled-bg-color);\n",
       "    fill: var(--disabled-fill-color);\n",
       "    box-shadow: none;\n",
       "  }\n",
       "\n",
       "  .colab-df-spinner {\n",
       "    border: 2px solid var(--fill-color);\n",
       "    border-color: transparent;\n",
       "    border-bottom-color: var(--fill-color);\n",
       "    animation:\n",
       "      spin 1s steps(1) infinite;\n",
       "  }\n",
       "\n",
       "  @keyframes spin {\n",
       "    0% {\n",
       "      border-color: transparent;\n",
       "      border-bottom-color: var(--fill-color);\n",
       "      border-left-color: var(--fill-color);\n",
       "    }\n",
       "    20% {\n",
       "      border-color: transparent;\n",
       "      border-left-color: var(--fill-color);\n",
       "      border-top-color: var(--fill-color);\n",
       "    }\n",
       "    30% {\n",
       "      border-color: transparent;\n",
       "      border-left-color: var(--fill-color);\n",
       "      border-top-color: var(--fill-color);\n",
       "      border-right-color: var(--fill-color);\n",
       "    }\n",
       "    40% {\n",
       "      border-color: transparent;\n",
       "      border-right-color: var(--fill-color);\n",
       "      border-top-color: var(--fill-color);\n",
       "    }\n",
       "    60% {\n",
       "      border-color: transparent;\n",
       "      border-right-color: var(--fill-color);\n",
       "    }\n",
       "    80% {\n",
       "      border-color: transparent;\n",
       "      border-right-color: var(--fill-color);\n",
       "      border-bottom-color: var(--fill-color);\n",
       "    }\n",
       "    90% {\n",
       "      border-color: transparent;\n",
       "      border-bottom-color: var(--fill-color);\n",
       "    }\n",
       "  }\n",
       "</style>\n",
       "\n",
       "  <script>\n",
       "    async function quickchart(key) {\n",
       "      const quickchartButtonEl =\n",
       "        document.querySelector('#' + key + ' button');\n",
       "      quickchartButtonEl.disabled = true;  // To prevent multiple clicks.\n",
       "      quickchartButtonEl.classList.add('colab-df-spinner');\n",
       "      try {\n",
       "        const charts = await google.colab.kernel.invokeFunction(\n",
       "            'suggestCharts', [key], {});\n",
       "      } catch (error) {\n",
       "        console.error('Error during call to suggestCharts:', error);\n",
       "      }\n",
       "      quickchartButtonEl.classList.remove('colab-df-spinner');\n",
       "      quickchartButtonEl.classList.add('colab-df-quickchart-complete');\n",
       "    }\n",
       "    (() => {\n",
       "      let quickchartButtonEl =\n",
       "        document.querySelector('#df-5cbb6868-c69b-498f-89c2-c73f2ebe65c7 button');\n",
       "      quickchartButtonEl.style.display =\n",
       "        google.colab.kernel.accessAllowed ? 'block' : 'none';\n",
       "    })();\n",
       "  </script>\n",
       "</div>\n",
       "    </div>\n",
       "  </div>\n"
      ],
      "text/plain": [
       "                                      имя файла данных пол  полных лет  \\\n",
       "0    raw_data_61fbeecd-8ef7-11ec-a78a-58a023d3f6d9.csv   1          69   \n",
       "1    raw_data_41f438e7-8041-11ed-aa7b-e82aea2c97f4.csv   0          23   \n",
       "2    raw_data_43b5ffcb-2dcc-11ed-a854-e82aea2c97f4.csv   0          62   \n",
       "3    raw_data_28cfe921-2452-11ed-934f-e82aea2c97f4.csv   0          72   \n",
       "4    raw_data_d6107ceb-2f57-11ed-8d23-c86000e163af.csv   0          70   \n",
       "..                                                 ...  ..         ...   \n",
       "352  raw_data_1fdbcbf9-e072-11ec-9d67-ef54fcc0d655.csv   1          63   \n",
       "353  raw_data_83b398f9-2dcc-11ed-91ba-e82aea2c97f4.csv   0          62   \n",
       "354  raw_data_de9b38a1-1882-11ed-b91f-b469216ca443.csv   0          23   \n",
       "355  raw_data_9981a771-0cdd-11ed-9772-b469216ca443.csv   0          75   \n",
       "356  raw_data_148c7295-34c9-11ed-b265-e82aea2c97f4.csv   0          50   \n",
       "\n",
       "     пациент off/on  определенный диагноз врачом (0-5)  Age_cat_adult  \\\n",
       "0                 1                                  3              0   \n",
       "1                 0                                  0              0   \n",
       "2                 0                                  0              0   \n",
       "3                 1                                  3              0   \n",
       "4                 0                                  0              0   \n",
       "..              ...                                ...            ...   \n",
       "352               0                                  1              0   \n",
       "353               0                                  0              0   \n",
       "354               0                                  4              0   \n",
       "355               0                                  2              0   \n",
       "356               1                                  2              1   \n",
       "\n",
       "     Age_cat_child  Age_cat_elderly  Age_cat_teen  \n",
       "0                0                1             0  \n",
       "1                0                0             1  \n",
       "2                0                1             0  \n",
       "3                0                1             0  \n",
       "4                0                1             0  \n",
       "..             ...              ...           ...  \n",
       "352              0                1             0  \n",
       "353              0                1             0  \n",
       "354              0                0             1  \n",
       "355              0                1             0  \n",
       "356              0                0             0  \n",
       "\n",
       "[357 rows x 9 columns]"
      ]
     },
     "execution_count": 53,
     "metadata": {},
     "output_type": "execute_result"
    }
   ],
   "source": [
    "# # закодируем значения в столбце пол ('Age_cat')\n",
    "test = pd.get_dummies(test, columns = ['Age_cat'])\n",
    "test"
   ]
  },
  {
   "cell_type": "code",
   "execution_count": null,
   "metadata": {
    "id": "qfUWrqXgZDeX"
   },
   "outputs": [],
   "source": [
    "# # Применим get_dummies для \"определенный диагноз врачом (0-5)\"\n",
    "# test = pd.get_dummies(test, columns = ['определенный диагноз врачом (0-5)'])\n",
    "# test"
   ]
  },
  {
   "cell_type": "code",
   "execution_count": null,
   "metadata": {
    "colab": {
     "base_uri": "https://localhost:8080/",
     "height": 790
    },
    "id": "Y_7-FiWoWKcd",
    "outputId": "b82289c4-ac6b-41a2-ff9f-7b1527efd4af"
   },
   "outputs": [
    {
     "data": {
      "text/html": [
       "\n",
       "  <div id=\"df-e97bdd06-908f-4eb2-b9ca-5a7acd406c0d\" class=\"colab-df-container\">\n",
       "    <div>\n",
       "<style scoped>\n",
       "    .dataframe tbody tr th:only-of-type {\n",
       "        vertical-align: middle;\n",
       "    }\n",
       "\n",
       "    .dataframe tbody tr th {\n",
       "        vertical-align: top;\n",
       "    }\n",
       "\n",
       "    .dataframe thead th {\n",
       "        text-align: right;\n",
       "    }\n",
       "</style>\n",
       "<table border=\"1\" class=\"dataframe\">\n",
       "  <thead>\n",
       "    <tr style=\"text-align: right;\">\n",
       "      <th></th>\n",
       "      <th>имя файла данных</th>\n",
       "      <th>WRIST.x</th>\n",
       "      <th>WRIST.y</th>\n",
       "      <th>WRIST.z</th>\n",
       "      <th>THUMB_CMC.x</th>\n",
       "      <th>THUMB_CMC.y</th>\n",
       "      <th>THUMB_CMC.z</th>\n",
       "      <th>THUMB_MCP.x</th>\n",
       "      <th>THUMB_MCP.y</th>\n",
       "      <th>THUMB_MCP.z</th>\n",
       "      <th>...</th>\n",
       "      <th>PINKY_PIP.x</th>\n",
       "      <th>PINKY_PIP.y</th>\n",
       "      <th>PINKY_PIP.z</th>\n",
       "      <th>PINKY_DIP.x</th>\n",
       "      <th>PINKY_DIP.y</th>\n",
       "      <th>PINKY_DIP.z</th>\n",
       "      <th>PINKY_TIP.x</th>\n",
       "      <th>PINKY_TIP.y</th>\n",
       "      <th>PINKY_TIP.z</th>\n",
       "      <th>TIME</th>\n",
       "    </tr>\n",
       "  </thead>\n",
       "  <tbody>\n",
       "    <tr>\n",
       "      <th>0</th>\n",
       "      <td>raw_data_61fbeecd-8ef7-11ec-a78a-58a023d3f6d9.csv</td>\n",
       "      <td>0.255863</td>\n",
       "      <td>0.579335</td>\n",
       "      <td>0.0</td>\n",
       "      <td>0.272844</td>\n",
       "      <td>0.548631</td>\n",
       "      <td>-0.011769</td>\n",
       "      <td>0.280440</td>\n",
       "      <td>0.503485</td>\n",
       "      <td>-0.013950</td>\n",
       "      <td>...</td>\n",
       "      <td>0.234209</td>\n",
       "      <td>0.420760</td>\n",
       "      <td>-0.005047</td>\n",
       "      <td>0.230889</td>\n",
       "      <td>0.397486</td>\n",
       "      <td>-0.008603</td>\n",
       "      <td>0.227497</td>\n",
       "      <td>0.376530</td>\n",
       "      <td>-0.011181</td>\n",
       "      <td>5.979599</td>\n",
       "    </tr>\n",
       "    <tr>\n",
       "      <th>1</th>\n",
       "      <td>raw_data_41f438e7-8041-11ed-aa7b-e82aea2c97f4.csv</td>\n",
       "      <td>0.418520</td>\n",
       "      <td>0.487395</td>\n",
       "      <td>0.0</td>\n",
       "      <td>0.437952</td>\n",
       "      <td>0.511528</td>\n",
       "      <td>0.001546</td>\n",
       "      <td>0.454995</td>\n",
       "      <td>0.542182</td>\n",
       "      <td>-0.004037</td>\n",
       "      <td>...</td>\n",
       "      <td>0.419514</td>\n",
       "      <td>0.548309</td>\n",
       "      <td>-0.042731</td>\n",
       "      <td>0.423058</td>\n",
       "      <td>0.566279</td>\n",
       "      <td>-0.042627</td>\n",
       "      <td>0.426090</td>\n",
       "      <td>0.579300</td>\n",
       "      <td>-0.042171</td>\n",
       "      <td>10.361516</td>\n",
       "    </tr>\n",
       "    <tr>\n",
       "      <th>2</th>\n",
       "      <td>raw_data_43b5ffcb-2dcc-11ed-a854-e82aea2c97f4.csv</td>\n",
       "      <td>0.474775</td>\n",
       "      <td>0.423317</td>\n",
       "      <td>0.0</td>\n",
       "      <td>0.442175</td>\n",
       "      <td>0.455745</td>\n",
       "      <td>0.001114</td>\n",
       "      <td>0.412258</td>\n",
       "      <td>0.481126</td>\n",
       "      <td>-0.004354</td>\n",
       "      <td>...</td>\n",
       "      <td>0.478494</td>\n",
       "      <td>0.477126</td>\n",
       "      <td>-0.043887</td>\n",
       "      <td>0.475586</td>\n",
       "      <td>0.499475</td>\n",
       "      <td>-0.041622</td>\n",
       "      <td>0.471721</td>\n",
       "      <td>0.517522</td>\n",
       "      <td>-0.039065</td>\n",
       "      <td>10.207649</td>\n",
       "    </tr>\n",
       "    <tr>\n",
       "      <th>3</th>\n",
       "      <td>raw_data_28cfe921-2452-11ed-934f-e82aea2c97f4.csv</td>\n",
       "      <td>0.536183</td>\n",
       "      <td>0.702857</td>\n",
       "      <td>0.0</td>\n",
       "      <td>0.564204</td>\n",
       "      <td>0.698386</td>\n",
       "      <td>0.016143</td>\n",
       "      <td>0.579524</td>\n",
       "      <td>0.681493</td>\n",
       "      <td>0.021030</td>\n",
       "      <td>...</td>\n",
       "      <td>0.589536</td>\n",
       "      <td>0.634370</td>\n",
       "      <td>-0.015841</td>\n",
       "      <td>0.601529</td>\n",
       "      <td>0.644141</td>\n",
       "      <td>-0.015442</td>\n",
       "      <td>0.608953</td>\n",
       "      <td>0.653642</td>\n",
       "      <td>-0.015954</td>\n",
       "      <td>8.112292</td>\n",
       "    </tr>\n",
       "    <tr>\n",
       "      <th>4</th>\n",
       "      <td>raw_data_d6107ceb-2f57-11ed-8d23-c86000e163af.csv</td>\n",
       "      <td>0.267455</td>\n",
       "      <td>0.544556</td>\n",
       "      <td>0.0</td>\n",
       "      <td>0.276686</td>\n",
       "      <td>0.504679</td>\n",
       "      <td>-0.000594</td>\n",
       "      <td>0.291872</td>\n",
       "      <td>0.470372</td>\n",
       "      <td>-0.007868</td>\n",
       "      <td>...</td>\n",
       "      <td>0.295090</td>\n",
       "      <td>0.499038</td>\n",
       "      <td>-0.043808</td>\n",
       "      <td>0.303528</td>\n",
       "      <td>0.507416</td>\n",
       "      <td>-0.038894</td>\n",
       "      <td>0.306380</td>\n",
       "      <td>0.512526</td>\n",
       "      <td>-0.034337</td>\n",
       "      <td>9.697934</td>\n",
       "    </tr>\n",
       "    <tr>\n",
       "      <th>...</th>\n",
       "      <td>...</td>\n",
       "      <td>...</td>\n",
       "      <td>...</td>\n",
       "      <td>...</td>\n",
       "      <td>...</td>\n",
       "      <td>...</td>\n",
       "      <td>...</td>\n",
       "      <td>...</td>\n",
       "      <td>...</td>\n",
       "      <td>...</td>\n",
       "      <td>...</td>\n",
       "      <td>...</td>\n",
       "      <td>...</td>\n",
       "      <td>...</td>\n",
       "      <td>...</td>\n",
       "      <td>...</td>\n",
       "      <td>...</td>\n",
       "      <td>...</td>\n",
       "      <td>...</td>\n",
       "      <td>...</td>\n",
       "      <td>...</td>\n",
       "    </tr>\n",
       "    <tr>\n",
       "      <th>352</th>\n",
       "      <td>raw_data_1fdbcbf9-e072-11ec-9d67-ef54fcc0d655.csv</td>\n",
       "      <td>0.232570</td>\n",
       "      <td>0.522144</td>\n",
       "      <td>0.0</td>\n",
       "      <td>0.224290</td>\n",
       "      <td>0.542775</td>\n",
       "      <td>-0.018819</td>\n",
       "      <td>0.211298</td>\n",
       "      <td>0.550993</td>\n",
       "      <td>-0.025691</td>\n",
       "      <td>...</td>\n",
       "      <td>0.187501</td>\n",
       "      <td>0.505421</td>\n",
       "      <td>0.006521</td>\n",
       "      <td>0.186065</td>\n",
       "      <td>0.515488</td>\n",
       "      <td>0.004534</td>\n",
       "      <td>0.187042</td>\n",
       "      <td>0.519370</td>\n",
       "      <td>0.003346</td>\n",
       "      <td>10.644290</td>\n",
       "    </tr>\n",
       "    <tr>\n",
       "      <th>353</th>\n",
       "      <td>raw_data_83b398f9-2dcc-11ed-91ba-e82aea2c97f4.csv</td>\n",
       "      <td>0.432942</td>\n",
       "      <td>0.436353</td>\n",
       "      <td>0.0</td>\n",
       "      <td>0.419965</td>\n",
       "      <td>0.426439</td>\n",
       "      <td>-0.002772</td>\n",
       "      <td>0.406358</td>\n",
       "      <td>0.429334</td>\n",
       "      <td>-0.008707</td>\n",
       "      <td>...</td>\n",
       "      <td>0.415285</td>\n",
       "      <td>0.468824</td>\n",
       "      <td>-0.033404</td>\n",
       "      <td>0.407960</td>\n",
       "      <td>0.480148</td>\n",
       "      <td>-0.032372</td>\n",
       "      <td>0.401623</td>\n",
       "      <td>0.488609</td>\n",
       "      <td>-0.031513</td>\n",
       "      <td>10.012002</td>\n",
       "    </tr>\n",
       "    <tr>\n",
       "      <th>354</th>\n",
       "      <td>raw_data_de9b38a1-1882-11ed-b91f-b469216ca443.csv</td>\n",
       "      <td>0.675450</td>\n",
       "      <td>0.504798</td>\n",
       "      <td>0.0</td>\n",
       "      <td>0.659978</td>\n",
       "      <td>0.495477</td>\n",
       "      <td>0.002750</td>\n",
       "      <td>0.645051</td>\n",
       "      <td>0.495405</td>\n",
       "      <td>0.001416</td>\n",
       "      <td>...</td>\n",
       "      <td>0.652204</td>\n",
       "      <td>0.525602</td>\n",
       "      <td>-0.021583</td>\n",
       "      <td>0.646885</td>\n",
       "      <td>0.528965</td>\n",
       "      <td>-0.022715</td>\n",
       "      <td>0.642233</td>\n",
       "      <td>0.532375</td>\n",
       "      <td>-0.023548</td>\n",
       "      <td>11.065553</td>\n",
       "    </tr>\n",
       "    <tr>\n",
       "      <th>355</th>\n",
       "      <td>raw_data_9981a771-0cdd-11ed-9772-b469216ca443.csv</td>\n",
       "      <td>0.333978</td>\n",
       "      <td>0.530422</td>\n",
       "      <td>0.0</td>\n",
       "      <td>0.347990</td>\n",
       "      <td>0.542663</td>\n",
       "      <td>-0.001618</td>\n",
       "      <td>0.359905</td>\n",
       "      <td>0.565186</td>\n",
       "      <td>-0.005058</td>\n",
       "      <td>...</td>\n",
       "      <td>0.318871</td>\n",
       "      <td>0.578794</td>\n",
       "      <td>-0.024838</td>\n",
       "      <td>0.317346</td>\n",
       "      <td>0.594279</td>\n",
       "      <td>-0.025947</td>\n",
       "      <td>0.316356</td>\n",
       "      <td>0.607968</td>\n",
       "      <td>-0.026553</td>\n",
       "      <td>11.326773</td>\n",
       "    </tr>\n",
       "    <tr>\n",
       "      <th>356</th>\n",
       "      <td>raw_data_148c7295-34c9-11ed-b265-e82aea2c97f4.csv</td>\n",
       "      <td>0.559817</td>\n",
       "      <td>0.362899</td>\n",
       "      <td>0.0</td>\n",
       "      <td>0.540478</td>\n",
       "      <td>0.340045</td>\n",
       "      <td>0.004064</td>\n",
       "      <td>0.526141</td>\n",
       "      <td>0.314334</td>\n",
       "      <td>-0.000457</td>\n",
       "      <td>...</td>\n",
       "      <td>0.524593</td>\n",
       "      <td>0.329052</td>\n",
       "      <td>-0.032167</td>\n",
       "      <td>0.526236</td>\n",
       "      <td>0.341467</td>\n",
       "      <td>-0.028519</td>\n",
       "      <td>0.532607</td>\n",
       "      <td>0.344049</td>\n",
       "      <td>-0.026154</td>\n",
       "      <td>12.417781</td>\n",
       "    </tr>\n",
       "  </tbody>\n",
       "</table>\n",
       "<p>357 rows × 65 columns</p>\n",
       "</div>\n",
       "    <div class=\"colab-df-buttons\">\n",
       "\n",
       "  <div class=\"colab-df-container\">\n",
       "    <button class=\"colab-df-convert\" onclick=\"convertToInteractive('df-e97bdd06-908f-4eb2-b9ca-5a7acd406c0d')\"\n",
       "            title=\"Convert this dataframe to an interactive table.\"\n",
       "            style=\"display:none;\">\n",
       "\n",
       "  <svg xmlns=\"http://www.w3.org/2000/svg\" height=\"24px\" viewBox=\"0 -960 960 960\">\n",
       "    <path d=\"M120-120v-720h720v720H120Zm60-500h600v-160H180v160Zm220 220h160v-160H400v160Zm0 220h160v-160H400v160ZM180-400h160v-160H180v160Zm440 0h160v-160H620v160ZM180-180h160v-160H180v160Zm440 0h160v-160H620v160Z\"/>\n",
       "  </svg>\n",
       "    </button>\n",
       "\n",
       "  <style>\n",
       "    .colab-df-container {\n",
       "      display:flex;\n",
       "      gap: 12px;\n",
       "    }\n",
       "\n",
       "    .colab-df-convert {\n",
       "      background-color: #E8F0FE;\n",
       "      border: none;\n",
       "      border-radius: 50%;\n",
       "      cursor: pointer;\n",
       "      display: none;\n",
       "      fill: #1967D2;\n",
       "      height: 32px;\n",
       "      padding: 0 0 0 0;\n",
       "      width: 32px;\n",
       "    }\n",
       "\n",
       "    .colab-df-convert:hover {\n",
       "      background-color: #E2EBFA;\n",
       "      box-shadow: 0px 1px 2px rgba(60, 64, 67, 0.3), 0px 1px 3px 1px rgba(60, 64, 67, 0.15);\n",
       "      fill: #174EA6;\n",
       "    }\n",
       "\n",
       "    .colab-df-buttons div {\n",
       "      margin-bottom: 4px;\n",
       "    }\n",
       "\n",
       "    [theme=dark] .colab-df-convert {\n",
       "      background-color: #3B4455;\n",
       "      fill: #D2E3FC;\n",
       "    }\n",
       "\n",
       "    [theme=dark] .colab-df-convert:hover {\n",
       "      background-color: #434B5C;\n",
       "      box-shadow: 0px 1px 3px 1px rgba(0, 0, 0, 0.15);\n",
       "      filter: drop-shadow(0px 1px 2px rgba(0, 0, 0, 0.3));\n",
       "      fill: #FFFFFF;\n",
       "    }\n",
       "  </style>\n",
       "\n",
       "    <script>\n",
       "      const buttonEl =\n",
       "        document.querySelector('#df-e97bdd06-908f-4eb2-b9ca-5a7acd406c0d button.colab-df-convert');\n",
       "      buttonEl.style.display =\n",
       "        google.colab.kernel.accessAllowed ? 'block' : 'none';\n",
       "\n",
       "      async function convertToInteractive(key) {\n",
       "        const element = document.querySelector('#df-e97bdd06-908f-4eb2-b9ca-5a7acd406c0d');\n",
       "        const dataTable =\n",
       "          await google.colab.kernel.invokeFunction('convertToInteractive',\n",
       "                                                    [key], {});\n",
       "        if (!dataTable) return;\n",
       "\n",
       "        const docLinkHtml = 'Like what you see? Visit the ' +\n",
       "          '<a target=\"_blank\" href=https://colab.research.google.com/notebooks/data_table.ipynb>data table notebook</a>'\n",
       "          + ' to learn more about interactive tables.';\n",
       "        element.innerHTML = '';\n",
       "        dataTable['output_type'] = 'display_data';\n",
       "        await google.colab.output.renderOutput(dataTable, element);\n",
       "        const docLink = document.createElement('div');\n",
       "        docLink.innerHTML = docLinkHtml;\n",
       "        element.appendChild(docLink);\n",
       "      }\n",
       "    </script>\n",
       "  </div>\n",
       "\n",
       "\n",
       "<div id=\"df-ad1acd52-df96-4978-9af3-f2941eb4c579\">\n",
       "  <button class=\"colab-df-quickchart\" onclick=\"quickchart('df-ad1acd52-df96-4978-9af3-f2941eb4c579')\"\n",
       "            title=\"Suggest charts.\"\n",
       "            style=\"display:none;\">\n",
       "\n",
       "<svg xmlns=\"http://www.w3.org/2000/svg\" height=\"24px\"viewBox=\"0 0 24 24\"\n",
       "     width=\"24px\">\n",
       "    <g>\n",
       "        <path d=\"M19 3H5c-1.1 0-2 .9-2 2v14c0 1.1.9 2 2 2h14c1.1 0 2-.9 2-2V5c0-1.1-.9-2-2-2zM9 17H7v-7h2v7zm4 0h-2V7h2v10zm4 0h-2v-4h2v4z\"/>\n",
       "    </g>\n",
       "</svg>\n",
       "  </button>\n",
       "\n",
       "<style>\n",
       "  .colab-df-quickchart {\n",
       "      --bg-color: #E8F0FE;\n",
       "      --fill-color: #1967D2;\n",
       "      --hover-bg-color: #E2EBFA;\n",
       "      --hover-fill-color: #174EA6;\n",
       "      --disabled-fill-color: #AAA;\n",
       "      --disabled-bg-color: #DDD;\n",
       "  }\n",
       "\n",
       "  [theme=dark] .colab-df-quickchart {\n",
       "      --bg-color: #3B4455;\n",
       "      --fill-color: #D2E3FC;\n",
       "      --hover-bg-color: #434B5C;\n",
       "      --hover-fill-color: #FFFFFF;\n",
       "      --disabled-bg-color: #3B4455;\n",
       "      --disabled-fill-color: #666;\n",
       "  }\n",
       "\n",
       "  .colab-df-quickchart {\n",
       "    background-color: var(--bg-color);\n",
       "    border: none;\n",
       "    border-radius: 50%;\n",
       "    cursor: pointer;\n",
       "    display: none;\n",
       "    fill: var(--fill-color);\n",
       "    height: 32px;\n",
       "    padding: 0;\n",
       "    width: 32px;\n",
       "  }\n",
       "\n",
       "  .colab-df-quickchart:hover {\n",
       "    background-color: var(--hover-bg-color);\n",
       "    box-shadow: 0 1px 2px rgba(60, 64, 67, 0.3), 0 1px 3px 1px rgba(60, 64, 67, 0.15);\n",
       "    fill: var(--button-hover-fill-color);\n",
       "  }\n",
       "\n",
       "  .colab-df-quickchart-complete:disabled,\n",
       "  .colab-df-quickchart-complete:disabled:hover {\n",
       "    background-color: var(--disabled-bg-color);\n",
       "    fill: var(--disabled-fill-color);\n",
       "    box-shadow: none;\n",
       "  }\n",
       "\n",
       "  .colab-df-spinner {\n",
       "    border: 2px solid var(--fill-color);\n",
       "    border-color: transparent;\n",
       "    border-bottom-color: var(--fill-color);\n",
       "    animation:\n",
       "      spin 1s steps(1) infinite;\n",
       "  }\n",
       "\n",
       "  @keyframes spin {\n",
       "    0% {\n",
       "      border-color: transparent;\n",
       "      border-bottom-color: var(--fill-color);\n",
       "      border-left-color: var(--fill-color);\n",
       "    }\n",
       "    20% {\n",
       "      border-color: transparent;\n",
       "      border-left-color: var(--fill-color);\n",
       "      border-top-color: var(--fill-color);\n",
       "    }\n",
       "    30% {\n",
       "      border-color: transparent;\n",
       "      border-left-color: var(--fill-color);\n",
       "      border-top-color: var(--fill-color);\n",
       "      border-right-color: var(--fill-color);\n",
       "    }\n",
       "    40% {\n",
       "      border-color: transparent;\n",
       "      border-right-color: var(--fill-color);\n",
       "      border-top-color: var(--fill-color);\n",
       "    }\n",
       "    60% {\n",
       "      border-color: transparent;\n",
       "      border-right-color: var(--fill-color);\n",
       "    }\n",
       "    80% {\n",
       "      border-color: transparent;\n",
       "      border-right-color: var(--fill-color);\n",
       "      border-bottom-color: var(--fill-color);\n",
       "    }\n",
       "    90% {\n",
       "      border-color: transparent;\n",
       "      border-bottom-color: var(--fill-color);\n",
       "    }\n",
       "  }\n",
       "</style>\n",
       "\n",
       "  <script>\n",
       "    async function quickchart(key) {\n",
       "      const quickchartButtonEl =\n",
       "        document.querySelector('#' + key + ' button');\n",
       "      quickchartButtonEl.disabled = true;  // To prevent multiple clicks.\n",
       "      quickchartButtonEl.classList.add('colab-df-spinner');\n",
       "      try {\n",
       "        const charts = await google.colab.kernel.invokeFunction(\n",
       "            'suggestCharts', [key], {});\n",
       "      } catch (error) {\n",
       "        console.error('Error during call to suggestCharts:', error);\n",
       "      }\n",
       "      quickchartButtonEl.classList.remove('colab-df-spinner');\n",
       "      quickchartButtonEl.classList.add('colab-df-quickchart-complete');\n",
       "    }\n",
       "    (() => {\n",
       "      let quickchartButtonEl =\n",
       "        document.querySelector('#df-ad1acd52-df96-4978-9af3-f2941eb4c579 button');\n",
       "      quickchartButtonEl.style.display =\n",
       "        google.colab.kernel.accessAllowed ? 'block' : 'none';\n",
       "    })();\n",
       "  </script>\n",
       "</div>\n",
       "    </div>\n",
       "  </div>\n"
      ],
      "text/plain": [
       "                                      имя файла данных   WRIST.x   WRIST.y  \\\n",
       "0    raw_data_61fbeecd-8ef7-11ec-a78a-58a023d3f6d9.csv  0.255863  0.579335   \n",
       "1    raw_data_41f438e7-8041-11ed-aa7b-e82aea2c97f4.csv  0.418520  0.487395   \n",
       "2    raw_data_43b5ffcb-2dcc-11ed-a854-e82aea2c97f4.csv  0.474775  0.423317   \n",
       "3    raw_data_28cfe921-2452-11ed-934f-e82aea2c97f4.csv  0.536183  0.702857   \n",
       "4    raw_data_d6107ceb-2f57-11ed-8d23-c86000e163af.csv  0.267455  0.544556   \n",
       "..                                                 ...       ...       ...   \n",
       "352  raw_data_1fdbcbf9-e072-11ec-9d67-ef54fcc0d655.csv  0.232570  0.522144   \n",
       "353  raw_data_83b398f9-2dcc-11ed-91ba-e82aea2c97f4.csv  0.432942  0.436353   \n",
       "354  raw_data_de9b38a1-1882-11ed-b91f-b469216ca443.csv  0.675450  0.504798   \n",
       "355  raw_data_9981a771-0cdd-11ed-9772-b469216ca443.csv  0.333978  0.530422   \n",
       "356  raw_data_148c7295-34c9-11ed-b265-e82aea2c97f4.csv  0.559817  0.362899   \n",
       "\n",
       "     WRIST.z  THUMB_CMC.x  THUMB_CMC.y  THUMB_CMC.z  THUMB_MCP.x  THUMB_MCP.y  \\\n",
       "0        0.0     0.272844     0.548631    -0.011769     0.280440     0.503485   \n",
       "1        0.0     0.437952     0.511528     0.001546     0.454995     0.542182   \n",
       "2        0.0     0.442175     0.455745     0.001114     0.412258     0.481126   \n",
       "3        0.0     0.564204     0.698386     0.016143     0.579524     0.681493   \n",
       "4        0.0     0.276686     0.504679    -0.000594     0.291872     0.470372   \n",
       "..       ...          ...          ...          ...          ...          ...   \n",
       "352      0.0     0.224290     0.542775    -0.018819     0.211298     0.550993   \n",
       "353      0.0     0.419965     0.426439    -0.002772     0.406358     0.429334   \n",
       "354      0.0     0.659978     0.495477     0.002750     0.645051     0.495405   \n",
       "355      0.0     0.347990     0.542663    -0.001618     0.359905     0.565186   \n",
       "356      0.0     0.540478     0.340045     0.004064     0.526141     0.314334   \n",
       "\n",
       "     THUMB_MCP.z  ...  PINKY_PIP.x  PINKY_PIP.y  PINKY_PIP.z  PINKY_DIP.x  \\\n",
       "0      -0.013950  ...     0.234209     0.420760    -0.005047     0.230889   \n",
       "1      -0.004037  ...     0.419514     0.548309    -0.042731     0.423058   \n",
       "2      -0.004354  ...     0.478494     0.477126    -0.043887     0.475586   \n",
       "3       0.021030  ...     0.589536     0.634370    -0.015841     0.601529   \n",
       "4      -0.007868  ...     0.295090     0.499038    -0.043808     0.303528   \n",
       "..           ...  ...          ...          ...          ...          ...   \n",
       "352    -0.025691  ...     0.187501     0.505421     0.006521     0.186065   \n",
       "353    -0.008707  ...     0.415285     0.468824    -0.033404     0.407960   \n",
       "354     0.001416  ...     0.652204     0.525602    -0.021583     0.646885   \n",
       "355    -0.005058  ...     0.318871     0.578794    -0.024838     0.317346   \n",
       "356    -0.000457  ...     0.524593     0.329052    -0.032167     0.526236   \n",
       "\n",
       "     PINKY_DIP.y  PINKY_DIP.z  PINKY_TIP.x  PINKY_TIP.y  PINKY_TIP.z  \\\n",
       "0       0.397486    -0.008603     0.227497     0.376530    -0.011181   \n",
       "1       0.566279    -0.042627     0.426090     0.579300    -0.042171   \n",
       "2       0.499475    -0.041622     0.471721     0.517522    -0.039065   \n",
       "3       0.644141    -0.015442     0.608953     0.653642    -0.015954   \n",
       "4       0.507416    -0.038894     0.306380     0.512526    -0.034337   \n",
       "..           ...          ...          ...          ...          ...   \n",
       "352     0.515488     0.004534     0.187042     0.519370     0.003346   \n",
       "353     0.480148    -0.032372     0.401623     0.488609    -0.031513   \n",
       "354     0.528965    -0.022715     0.642233     0.532375    -0.023548   \n",
       "355     0.594279    -0.025947     0.316356     0.607968    -0.026553   \n",
       "356     0.341467    -0.028519     0.532607     0.344049    -0.026154   \n",
       "\n",
       "          TIME  \n",
       "0     5.979599  \n",
       "1    10.361516  \n",
       "2    10.207649  \n",
       "3     8.112292  \n",
       "4     9.697934  \n",
       "..         ...  \n",
       "352  10.644290  \n",
       "353  10.012002  \n",
       "354  11.065553  \n",
       "355  11.326773  \n",
       "356  12.417781  \n",
       "\n",
       "[357 rows x 65 columns]"
      ]
     },
     "execution_count": 55,
     "metadata": {},
     "output_type": "execute_result"
    }
   ],
   "source": [
    "dftt = pd.read_csv('/content/test_data.csv')\n",
    "dftt"
   ]
  },
  {
   "cell_type": "code",
   "execution_count": null,
   "metadata": {
    "colab": {
     "base_uri": "https://localhost:8080/",
     "height": 825
    },
    "id": "l1BZP7-aWPGD",
    "outputId": "1b79e714-b721-44de-a1aa-d9aa68d44bcb"
   },
   "outputs": [
    {
     "data": {
      "text/html": [
       "\n",
       "  <div id=\"df-90abc1ef-03fc-4c81-bb3d-76660a9575e2\" class=\"colab-df-container\">\n",
       "    <div>\n",
       "<style scoped>\n",
       "    .dataframe tbody tr th:only-of-type {\n",
       "        vertical-align: middle;\n",
       "    }\n",
       "\n",
       "    .dataframe tbody tr th {\n",
       "        vertical-align: top;\n",
       "    }\n",
       "\n",
       "    .dataframe thead th {\n",
       "        text-align: right;\n",
       "    }\n",
       "</style>\n",
       "<table border=\"1\" class=\"dataframe\">\n",
       "  <thead>\n",
       "    <tr style=\"text-align: right;\">\n",
       "      <th></th>\n",
       "      <th>имя файла данных</th>\n",
       "      <th>пол</th>\n",
       "      <th>полных лет</th>\n",
       "      <th>пациент off/on</th>\n",
       "      <th>определенный диагноз врачом (0-5)</th>\n",
       "      <th>Age_cat_adult</th>\n",
       "      <th>Age_cat_child</th>\n",
       "      <th>Age_cat_elderly</th>\n",
       "      <th>Age_cat_teen</th>\n",
       "      <th>WRIST.x</th>\n",
       "      <th>...</th>\n",
       "      <th>PINKY_PIP.x</th>\n",
       "      <th>PINKY_PIP.y</th>\n",
       "      <th>PINKY_PIP.z</th>\n",
       "      <th>PINKY_DIP.x</th>\n",
       "      <th>PINKY_DIP.y</th>\n",
       "      <th>PINKY_DIP.z</th>\n",
       "      <th>PINKY_TIP.x</th>\n",
       "      <th>PINKY_TIP.y</th>\n",
       "      <th>PINKY_TIP.z</th>\n",
       "      <th>TIME</th>\n",
       "    </tr>\n",
       "  </thead>\n",
       "  <tbody>\n",
       "    <tr>\n",
       "      <th>0</th>\n",
       "      <td>raw_data_61fbeecd-8ef7-11ec-a78a-58a023d3f6d9.csv</td>\n",
       "      <td>1</td>\n",
       "      <td>69</td>\n",
       "      <td>1</td>\n",
       "      <td>3</td>\n",
       "      <td>0</td>\n",
       "      <td>0</td>\n",
       "      <td>1</td>\n",
       "      <td>0</td>\n",
       "      <td>0.255863</td>\n",
       "      <td>...</td>\n",
       "      <td>0.234209</td>\n",
       "      <td>0.420760</td>\n",
       "      <td>-0.005047</td>\n",
       "      <td>0.230889</td>\n",
       "      <td>0.397486</td>\n",
       "      <td>-0.008603</td>\n",
       "      <td>0.227497</td>\n",
       "      <td>0.376530</td>\n",
       "      <td>-0.011181</td>\n",
       "      <td>5.979599</td>\n",
       "    </tr>\n",
       "    <tr>\n",
       "      <th>1</th>\n",
       "      <td>raw_data_41f438e7-8041-11ed-aa7b-e82aea2c97f4.csv</td>\n",
       "      <td>0</td>\n",
       "      <td>23</td>\n",
       "      <td>0</td>\n",
       "      <td>0</td>\n",
       "      <td>0</td>\n",
       "      <td>0</td>\n",
       "      <td>0</td>\n",
       "      <td>1</td>\n",
       "      <td>0.418520</td>\n",
       "      <td>...</td>\n",
       "      <td>0.419514</td>\n",
       "      <td>0.548309</td>\n",
       "      <td>-0.042731</td>\n",
       "      <td>0.423058</td>\n",
       "      <td>0.566279</td>\n",
       "      <td>-0.042627</td>\n",
       "      <td>0.426090</td>\n",
       "      <td>0.579300</td>\n",
       "      <td>-0.042171</td>\n",
       "      <td>10.361516</td>\n",
       "    </tr>\n",
       "    <tr>\n",
       "      <th>2</th>\n",
       "      <td>raw_data_43b5ffcb-2dcc-11ed-a854-e82aea2c97f4.csv</td>\n",
       "      <td>0</td>\n",
       "      <td>62</td>\n",
       "      <td>0</td>\n",
       "      <td>0</td>\n",
       "      <td>0</td>\n",
       "      <td>0</td>\n",
       "      <td>1</td>\n",
       "      <td>0</td>\n",
       "      <td>0.474775</td>\n",
       "      <td>...</td>\n",
       "      <td>0.478494</td>\n",
       "      <td>0.477126</td>\n",
       "      <td>-0.043887</td>\n",
       "      <td>0.475586</td>\n",
       "      <td>0.499475</td>\n",
       "      <td>-0.041622</td>\n",
       "      <td>0.471721</td>\n",
       "      <td>0.517522</td>\n",
       "      <td>-0.039065</td>\n",
       "      <td>10.207649</td>\n",
       "    </tr>\n",
       "    <tr>\n",
       "      <th>3</th>\n",
       "      <td>raw_data_28cfe921-2452-11ed-934f-e82aea2c97f4.csv</td>\n",
       "      <td>0</td>\n",
       "      <td>72</td>\n",
       "      <td>1</td>\n",
       "      <td>3</td>\n",
       "      <td>0</td>\n",
       "      <td>0</td>\n",
       "      <td>1</td>\n",
       "      <td>0</td>\n",
       "      <td>0.536183</td>\n",
       "      <td>...</td>\n",
       "      <td>0.589536</td>\n",
       "      <td>0.634370</td>\n",
       "      <td>-0.015841</td>\n",
       "      <td>0.601529</td>\n",
       "      <td>0.644141</td>\n",
       "      <td>-0.015442</td>\n",
       "      <td>0.608953</td>\n",
       "      <td>0.653642</td>\n",
       "      <td>-0.015954</td>\n",
       "      <td>8.112292</td>\n",
       "    </tr>\n",
       "    <tr>\n",
       "      <th>4</th>\n",
       "      <td>raw_data_d6107ceb-2f57-11ed-8d23-c86000e163af.csv</td>\n",
       "      <td>0</td>\n",
       "      <td>70</td>\n",
       "      <td>0</td>\n",
       "      <td>0</td>\n",
       "      <td>0</td>\n",
       "      <td>0</td>\n",
       "      <td>1</td>\n",
       "      <td>0</td>\n",
       "      <td>0.267455</td>\n",
       "      <td>...</td>\n",
       "      <td>0.295090</td>\n",
       "      <td>0.499038</td>\n",
       "      <td>-0.043808</td>\n",
       "      <td>0.303528</td>\n",
       "      <td>0.507416</td>\n",
       "      <td>-0.038894</td>\n",
       "      <td>0.306380</td>\n",
       "      <td>0.512526</td>\n",
       "      <td>-0.034337</td>\n",
       "      <td>9.697934</td>\n",
       "    </tr>\n",
       "    <tr>\n",
       "      <th>...</th>\n",
       "      <td>...</td>\n",
       "      <td>...</td>\n",
       "      <td>...</td>\n",
       "      <td>...</td>\n",
       "      <td>...</td>\n",
       "      <td>...</td>\n",
       "      <td>...</td>\n",
       "      <td>...</td>\n",
       "      <td>...</td>\n",
       "      <td>...</td>\n",
       "      <td>...</td>\n",
       "      <td>...</td>\n",
       "      <td>...</td>\n",
       "      <td>...</td>\n",
       "      <td>...</td>\n",
       "      <td>...</td>\n",
       "      <td>...</td>\n",
       "      <td>...</td>\n",
       "      <td>...</td>\n",
       "      <td>...</td>\n",
       "      <td>...</td>\n",
       "    </tr>\n",
       "    <tr>\n",
       "      <th>352</th>\n",
       "      <td>raw_data_1fdbcbf9-e072-11ec-9d67-ef54fcc0d655.csv</td>\n",
       "      <td>1</td>\n",
       "      <td>63</td>\n",
       "      <td>0</td>\n",
       "      <td>1</td>\n",
       "      <td>0</td>\n",
       "      <td>0</td>\n",
       "      <td>1</td>\n",
       "      <td>0</td>\n",
       "      <td>0.232570</td>\n",
       "      <td>...</td>\n",
       "      <td>0.187501</td>\n",
       "      <td>0.505421</td>\n",
       "      <td>0.006521</td>\n",
       "      <td>0.186065</td>\n",
       "      <td>0.515488</td>\n",
       "      <td>0.004534</td>\n",
       "      <td>0.187042</td>\n",
       "      <td>0.519370</td>\n",
       "      <td>0.003346</td>\n",
       "      <td>10.644290</td>\n",
       "    </tr>\n",
       "    <tr>\n",
       "      <th>353</th>\n",
       "      <td>raw_data_83b398f9-2dcc-11ed-91ba-e82aea2c97f4.csv</td>\n",
       "      <td>0</td>\n",
       "      <td>62</td>\n",
       "      <td>0</td>\n",
       "      <td>0</td>\n",
       "      <td>0</td>\n",
       "      <td>0</td>\n",
       "      <td>1</td>\n",
       "      <td>0</td>\n",
       "      <td>0.432942</td>\n",
       "      <td>...</td>\n",
       "      <td>0.415285</td>\n",
       "      <td>0.468824</td>\n",
       "      <td>-0.033404</td>\n",
       "      <td>0.407960</td>\n",
       "      <td>0.480148</td>\n",
       "      <td>-0.032372</td>\n",
       "      <td>0.401623</td>\n",
       "      <td>0.488609</td>\n",
       "      <td>-0.031513</td>\n",
       "      <td>10.012002</td>\n",
       "    </tr>\n",
       "    <tr>\n",
       "      <th>354</th>\n",
       "      <td>raw_data_de9b38a1-1882-11ed-b91f-b469216ca443.csv</td>\n",
       "      <td>0</td>\n",
       "      <td>23</td>\n",
       "      <td>0</td>\n",
       "      <td>4</td>\n",
       "      <td>0</td>\n",
       "      <td>0</td>\n",
       "      <td>0</td>\n",
       "      <td>1</td>\n",
       "      <td>0.675450</td>\n",
       "      <td>...</td>\n",
       "      <td>0.652204</td>\n",
       "      <td>0.525602</td>\n",
       "      <td>-0.021583</td>\n",
       "      <td>0.646885</td>\n",
       "      <td>0.528965</td>\n",
       "      <td>-0.022715</td>\n",
       "      <td>0.642233</td>\n",
       "      <td>0.532375</td>\n",
       "      <td>-0.023548</td>\n",
       "      <td>11.065553</td>\n",
       "    </tr>\n",
       "    <tr>\n",
       "      <th>355</th>\n",
       "      <td>raw_data_9981a771-0cdd-11ed-9772-b469216ca443.csv</td>\n",
       "      <td>0</td>\n",
       "      <td>75</td>\n",
       "      <td>0</td>\n",
       "      <td>2</td>\n",
       "      <td>0</td>\n",
       "      <td>0</td>\n",
       "      <td>1</td>\n",
       "      <td>0</td>\n",
       "      <td>0.333978</td>\n",
       "      <td>...</td>\n",
       "      <td>0.318871</td>\n",
       "      <td>0.578794</td>\n",
       "      <td>-0.024838</td>\n",
       "      <td>0.317346</td>\n",
       "      <td>0.594279</td>\n",
       "      <td>-0.025947</td>\n",
       "      <td>0.316356</td>\n",
       "      <td>0.607968</td>\n",
       "      <td>-0.026553</td>\n",
       "      <td>11.326773</td>\n",
       "    </tr>\n",
       "    <tr>\n",
       "      <th>356</th>\n",
       "      <td>raw_data_148c7295-34c9-11ed-b265-e82aea2c97f4.csv</td>\n",
       "      <td>0</td>\n",
       "      <td>50</td>\n",
       "      <td>1</td>\n",
       "      <td>2</td>\n",
       "      <td>1</td>\n",
       "      <td>0</td>\n",
       "      <td>0</td>\n",
       "      <td>0</td>\n",
       "      <td>0.559817</td>\n",
       "      <td>...</td>\n",
       "      <td>0.524593</td>\n",
       "      <td>0.329052</td>\n",
       "      <td>-0.032167</td>\n",
       "      <td>0.526236</td>\n",
       "      <td>0.341467</td>\n",
       "      <td>-0.028519</td>\n",
       "      <td>0.532607</td>\n",
       "      <td>0.344049</td>\n",
       "      <td>-0.026154</td>\n",
       "      <td>12.417781</td>\n",
       "    </tr>\n",
       "  </tbody>\n",
       "</table>\n",
       "<p>357 rows × 73 columns</p>\n",
       "</div>\n",
       "    <div class=\"colab-df-buttons\">\n",
       "\n",
       "  <div class=\"colab-df-container\">\n",
       "    <button class=\"colab-df-convert\" onclick=\"convertToInteractive('df-90abc1ef-03fc-4c81-bb3d-76660a9575e2')\"\n",
       "            title=\"Convert this dataframe to an interactive table.\"\n",
       "            style=\"display:none;\">\n",
       "\n",
       "  <svg xmlns=\"http://www.w3.org/2000/svg\" height=\"24px\" viewBox=\"0 -960 960 960\">\n",
       "    <path d=\"M120-120v-720h720v720H120Zm60-500h600v-160H180v160Zm220 220h160v-160H400v160Zm0 220h160v-160H400v160ZM180-400h160v-160H180v160Zm440 0h160v-160H620v160ZM180-180h160v-160H180v160Zm440 0h160v-160H620v160Z\"/>\n",
       "  </svg>\n",
       "    </button>\n",
       "\n",
       "  <style>\n",
       "    .colab-df-container {\n",
       "      display:flex;\n",
       "      gap: 12px;\n",
       "    }\n",
       "\n",
       "    .colab-df-convert {\n",
       "      background-color: #E8F0FE;\n",
       "      border: none;\n",
       "      border-radius: 50%;\n",
       "      cursor: pointer;\n",
       "      display: none;\n",
       "      fill: #1967D2;\n",
       "      height: 32px;\n",
       "      padding: 0 0 0 0;\n",
       "      width: 32px;\n",
       "    }\n",
       "\n",
       "    .colab-df-convert:hover {\n",
       "      background-color: #E2EBFA;\n",
       "      box-shadow: 0px 1px 2px rgba(60, 64, 67, 0.3), 0px 1px 3px 1px rgba(60, 64, 67, 0.15);\n",
       "      fill: #174EA6;\n",
       "    }\n",
       "\n",
       "    .colab-df-buttons div {\n",
       "      margin-bottom: 4px;\n",
       "    }\n",
       "\n",
       "    [theme=dark] .colab-df-convert {\n",
       "      background-color: #3B4455;\n",
       "      fill: #D2E3FC;\n",
       "    }\n",
       "\n",
       "    [theme=dark] .colab-df-convert:hover {\n",
       "      background-color: #434B5C;\n",
       "      box-shadow: 0px 1px 3px 1px rgba(0, 0, 0, 0.15);\n",
       "      filter: drop-shadow(0px 1px 2px rgba(0, 0, 0, 0.3));\n",
       "      fill: #FFFFFF;\n",
       "    }\n",
       "  </style>\n",
       "\n",
       "    <script>\n",
       "      const buttonEl =\n",
       "        document.querySelector('#df-90abc1ef-03fc-4c81-bb3d-76660a9575e2 button.colab-df-convert');\n",
       "      buttonEl.style.display =\n",
       "        google.colab.kernel.accessAllowed ? 'block' : 'none';\n",
       "\n",
       "      async function convertToInteractive(key) {\n",
       "        const element = document.querySelector('#df-90abc1ef-03fc-4c81-bb3d-76660a9575e2');\n",
       "        const dataTable =\n",
       "          await google.colab.kernel.invokeFunction('convertToInteractive',\n",
       "                                                    [key], {});\n",
       "        if (!dataTable) return;\n",
       "\n",
       "        const docLinkHtml = 'Like what you see? Visit the ' +\n",
       "          '<a target=\"_blank\" href=https://colab.research.google.com/notebooks/data_table.ipynb>data table notebook</a>'\n",
       "          + ' to learn more about interactive tables.';\n",
       "        element.innerHTML = '';\n",
       "        dataTable['output_type'] = 'display_data';\n",
       "        await google.colab.output.renderOutput(dataTable, element);\n",
       "        const docLink = document.createElement('div');\n",
       "        docLink.innerHTML = docLinkHtml;\n",
       "        element.appendChild(docLink);\n",
       "      }\n",
       "    </script>\n",
       "  </div>\n",
       "\n",
       "\n",
       "<div id=\"df-97684732-eeca-4dec-b0b8-abd2e04f5976\">\n",
       "  <button class=\"colab-df-quickchart\" onclick=\"quickchart('df-97684732-eeca-4dec-b0b8-abd2e04f5976')\"\n",
       "            title=\"Suggest charts.\"\n",
       "            style=\"display:none;\">\n",
       "\n",
       "<svg xmlns=\"http://www.w3.org/2000/svg\" height=\"24px\"viewBox=\"0 0 24 24\"\n",
       "     width=\"24px\">\n",
       "    <g>\n",
       "        <path d=\"M19 3H5c-1.1 0-2 .9-2 2v14c0 1.1.9 2 2 2h14c1.1 0 2-.9 2-2V5c0-1.1-.9-2-2-2zM9 17H7v-7h2v7zm4 0h-2V7h2v10zm4 0h-2v-4h2v4z\"/>\n",
       "    </g>\n",
       "</svg>\n",
       "  </button>\n",
       "\n",
       "<style>\n",
       "  .colab-df-quickchart {\n",
       "      --bg-color: #E8F0FE;\n",
       "      --fill-color: #1967D2;\n",
       "      --hover-bg-color: #E2EBFA;\n",
       "      --hover-fill-color: #174EA6;\n",
       "      --disabled-fill-color: #AAA;\n",
       "      --disabled-bg-color: #DDD;\n",
       "  }\n",
       "\n",
       "  [theme=dark] .colab-df-quickchart {\n",
       "      --bg-color: #3B4455;\n",
       "      --fill-color: #D2E3FC;\n",
       "      --hover-bg-color: #434B5C;\n",
       "      --hover-fill-color: #FFFFFF;\n",
       "      --disabled-bg-color: #3B4455;\n",
       "      --disabled-fill-color: #666;\n",
       "  }\n",
       "\n",
       "  .colab-df-quickchart {\n",
       "    background-color: var(--bg-color);\n",
       "    border: none;\n",
       "    border-radius: 50%;\n",
       "    cursor: pointer;\n",
       "    display: none;\n",
       "    fill: var(--fill-color);\n",
       "    height: 32px;\n",
       "    padding: 0;\n",
       "    width: 32px;\n",
       "  }\n",
       "\n",
       "  .colab-df-quickchart:hover {\n",
       "    background-color: var(--hover-bg-color);\n",
       "    box-shadow: 0 1px 2px rgba(60, 64, 67, 0.3), 0 1px 3px 1px rgba(60, 64, 67, 0.15);\n",
       "    fill: var(--button-hover-fill-color);\n",
       "  }\n",
       "\n",
       "  .colab-df-quickchart-complete:disabled,\n",
       "  .colab-df-quickchart-complete:disabled:hover {\n",
       "    background-color: var(--disabled-bg-color);\n",
       "    fill: var(--disabled-fill-color);\n",
       "    box-shadow: none;\n",
       "  }\n",
       "\n",
       "  .colab-df-spinner {\n",
       "    border: 2px solid var(--fill-color);\n",
       "    border-color: transparent;\n",
       "    border-bottom-color: var(--fill-color);\n",
       "    animation:\n",
       "      spin 1s steps(1) infinite;\n",
       "  }\n",
       "\n",
       "  @keyframes spin {\n",
       "    0% {\n",
       "      border-color: transparent;\n",
       "      border-bottom-color: var(--fill-color);\n",
       "      border-left-color: var(--fill-color);\n",
       "    }\n",
       "    20% {\n",
       "      border-color: transparent;\n",
       "      border-left-color: var(--fill-color);\n",
       "      border-top-color: var(--fill-color);\n",
       "    }\n",
       "    30% {\n",
       "      border-color: transparent;\n",
       "      border-left-color: var(--fill-color);\n",
       "      border-top-color: var(--fill-color);\n",
       "      border-right-color: var(--fill-color);\n",
       "    }\n",
       "    40% {\n",
       "      border-color: transparent;\n",
       "      border-right-color: var(--fill-color);\n",
       "      border-top-color: var(--fill-color);\n",
       "    }\n",
       "    60% {\n",
       "      border-color: transparent;\n",
       "      border-right-color: var(--fill-color);\n",
       "    }\n",
       "    80% {\n",
       "      border-color: transparent;\n",
       "      border-right-color: var(--fill-color);\n",
       "      border-bottom-color: var(--fill-color);\n",
       "    }\n",
       "    90% {\n",
       "      border-color: transparent;\n",
       "      border-bottom-color: var(--fill-color);\n",
       "    }\n",
       "  }\n",
       "</style>\n",
       "\n",
       "  <script>\n",
       "    async function quickchart(key) {\n",
       "      const quickchartButtonEl =\n",
       "        document.querySelector('#' + key + ' button');\n",
       "      quickchartButtonEl.disabled = true;  // To prevent multiple clicks.\n",
       "      quickchartButtonEl.classList.add('colab-df-spinner');\n",
       "      try {\n",
       "        const charts = await google.colab.kernel.invokeFunction(\n",
       "            'suggestCharts', [key], {});\n",
       "      } catch (error) {\n",
       "        console.error('Error during call to suggestCharts:', error);\n",
       "      }\n",
       "      quickchartButtonEl.classList.remove('colab-df-spinner');\n",
       "      quickchartButtonEl.classList.add('colab-df-quickchart-complete');\n",
       "    }\n",
       "    (() => {\n",
       "      let quickchartButtonEl =\n",
       "        document.querySelector('#df-97684732-eeca-4dec-b0b8-abd2e04f5976 button');\n",
       "      quickchartButtonEl.style.display =\n",
       "        google.colab.kernel.accessAllowed ? 'block' : 'none';\n",
       "    })();\n",
       "  </script>\n",
       "</div>\n",
       "    </div>\n",
       "  </div>\n"
      ],
      "text/plain": [
       "                                      имя файла данных пол  полных лет  \\\n",
       "0    raw_data_61fbeecd-8ef7-11ec-a78a-58a023d3f6d9.csv   1          69   \n",
       "1    raw_data_41f438e7-8041-11ed-aa7b-e82aea2c97f4.csv   0          23   \n",
       "2    raw_data_43b5ffcb-2dcc-11ed-a854-e82aea2c97f4.csv   0          62   \n",
       "3    raw_data_28cfe921-2452-11ed-934f-e82aea2c97f4.csv   0          72   \n",
       "4    raw_data_d6107ceb-2f57-11ed-8d23-c86000e163af.csv   0          70   \n",
       "..                                                 ...  ..         ...   \n",
       "352  raw_data_1fdbcbf9-e072-11ec-9d67-ef54fcc0d655.csv   1          63   \n",
       "353  raw_data_83b398f9-2dcc-11ed-91ba-e82aea2c97f4.csv   0          62   \n",
       "354  raw_data_de9b38a1-1882-11ed-b91f-b469216ca443.csv   0          23   \n",
       "355  raw_data_9981a771-0cdd-11ed-9772-b469216ca443.csv   0          75   \n",
       "356  raw_data_148c7295-34c9-11ed-b265-e82aea2c97f4.csv   0          50   \n",
       "\n",
       "     пациент off/on  определенный диагноз врачом (0-5)  Age_cat_adult  \\\n",
       "0                 1                                  3              0   \n",
       "1                 0                                  0              0   \n",
       "2                 0                                  0              0   \n",
       "3                 1                                  3              0   \n",
       "4                 0                                  0              0   \n",
       "..              ...                                ...            ...   \n",
       "352               0                                  1              0   \n",
       "353               0                                  0              0   \n",
       "354               0                                  4              0   \n",
       "355               0                                  2              0   \n",
       "356               1                                  2              1   \n",
       "\n",
       "     Age_cat_child  Age_cat_elderly  Age_cat_teen   WRIST.x  ...  PINKY_PIP.x  \\\n",
       "0                0                1             0  0.255863  ...     0.234209   \n",
       "1                0                0             1  0.418520  ...     0.419514   \n",
       "2                0                1             0  0.474775  ...     0.478494   \n",
       "3                0                1             0  0.536183  ...     0.589536   \n",
       "4                0                1             0  0.267455  ...     0.295090   \n",
       "..             ...              ...           ...       ...  ...          ...   \n",
       "352              0                1             0  0.232570  ...     0.187501   \n",
       "353              0                1             0  0.432942  ...     0.415285   \n",
       "354              0                0             1  0.675450  ...     0.652204   \n",
       "355              0                1             0  0.333978  ...     0.318871   \n",
       "356              0                0             0  0.559817  ...     0.524593   \n",
       "\n",
       "     PINKY_PIP.y  PINKY_PIP.z  PINKY_DIP.x  PINKY_DIP.y  PINKY_DIP.z  \\\n",
       "0       0.420760    -0.005047     0.230889     0.397486    -0.008603   \n",
       "1       0.548309    -0.042731     0.423058     0.566279    -0.042627   \n",
       "2       0.477126    -0.043887     0.475586     0.499475    -0.041622   \n",
       "3       0.634370    -0.015841     0.601529     0.644141    -0.015442   \n",
       "4       0.499038    -0.043808     0.303528     0.507416    -0.038894   \n",
       "..           ...          ...          ...          ...          ...   \n",
       "352     0.505421     0.006521     0.186065     0.515488     0.004534   \n",
       "353     0.468824    -0.033404     0.407960     0.480148    -0.032372   \n",
       "354     0.525602    -0.021583     0.646885     0.528965    -0.022715   \n",
       "355     0.578794    -0.024838     0.317346     0.594279    -0.025947   \n",
       "356     0.329052    -0.032167     0.526236     0.341467    -0.028519   \n",
       "\n",
       "     PINKY_TIP.x  PINKY_TIP.y  PINKY_TIP.z       TIME  \n",
       "0       0.227497     0.376530    -0.011181   5.979599  \n",
       "1       0.426090     0.579300    -0.042171  10.361516  \n",
       "2       0.471721     0.517522    -0.039065  10.207649  \n",
       "3       0.608953     0.653642    -0.015954   8.112292  \n",
       "4       0.306380     0.512526    -0.034337   9.697934  \n",
       "..           ...          ...          ...        ...  \n",
       "352     0.187042     0.519370     0.003346  10.644290  \n",
       "353     0.401623     0.488609    -0.031513  10.012002  \n",
       "354     0.642233     0.532375    -0.023548  11.065553  \n",
       "355     0.316356     0.607968    -0.026553  11.326773  \n",
       "356     0.532607     0.344049    -0.026154  12.417781  \n",
       "\n",
       "[357 rows x 73 columns]"
      ]
     },
     "execution_count": 56,
     "metadata": {},
     "output_type": "execute_result"
    }
   ],
   "source": [
    " new_test = test.merge(dftt, how = 'outer')\n",
    " new_test"
   ]
  },
  {
   "cell_type": "markdown",
   "metadata": {
    "id": "l8vkYp7Yvpyx"
   },
   "source": [
    "## обучение"
   ]
  },
  {
   "cell_type": "markdown",
   "metadata": {
    "id": "hTi-Fqm4zVx8"
   },
   "source": [
    "### разделение на выборки"
   ]
  },
  {
   "cell_type": "code",
   "execution_count": null,
   "metadata": {
    "colab": {
     "base_uri": "https://localhost:8080/"
    },
    "id": "cwnQkKwLwigz",
    "outputId": "190c666a-c9fa-496d-a30b-97ffd3d0aa5e"
   },
   "outputs": [
    {
     "data": {
      "text/plain": [
       "Index(['имя файла данных', 'Folder Path', 'пол', 'полных лет',\n",
       "       'пациент off/on', 'определенный диагноз врачом (0-5)', 'Age_cat_adult',\n",
       "       'Age_cat_child', 'Age_cat_elderly', 'Age_cat_teen', 'WRIST.x',\n",
       "       'WRIST.y', 'WRIST.z', 'THUMB_CMC.x', 'THUMB_CMC.y', 'THUMB_CMC.z',\n",
       "       'THUMB_MCP.x', 'THUMB_MCP.y', 'THUMB_MCP.z', 'THUMB_IP.x', 'THUMB_IP.y',\n",
       "       'THUMB_IP.z', 'THUMB_TIP.x', 'THUMB_TIP.y', 'THUMB_TIP.z',\n",
       "       'INDEX_FINGER_MCP.x', 'INDEX_FINGER_MCP.y', 'INDEX_FINGER_MCP.z',\n",
       "       'INDEX_FINGER_PIP.x', 'INDEX_FINGER_PIP.y', 'INDEX_FINGER_PIP.z',\n",
       "       'INDEX_FINGER_DIP.x', 'INDEX_FINGER_DIP.y', 'INDEX_FINGER_DIP.z',\n",
       "       'INDEX_FINGER_TIP.x', 'INDEX_FINGER_TIP.y', 'INDEX_FINGER_TIP.z',\n",
       "       'MIDDLE_FINGER_MCP.x', 'MIDDLE_FINGER_MCP.y', 'MIDDLE_FINGER_MCP.z',\n",
       "       'MIDDLE_FINGER_PIP.x', 'MIDDLE_FINGER_PIP.y', 'MIDDLE_FINGER_PIP.z',\n",
       "       'MIDDLE_FINGER_DIP.x', 'MIDDLE_FINGER_DIP.y', 'MIDDLE_FINGER_DIP.z',\n",
       "       'MIDDLE_FINGER_TIP.x', 'MIDDLE_FINGER_TIP.y', 'MIDDLE_FINGER_TIP.z',\n",
       "       'RING_FINGER_MCP.x', 'RING_FINGER_MCP.y', 'RING_FINGER_MCP.z',\n",
       "       'RING_FINGER_PIP.x', 'RING_FINGER_PIP.y', 'RING_FINGER_PIP.z',\n",
       "       'RING_FINGER_DIP.x', 'RING_FINGER_DIP.y', 'RING_FINGER_DIP.z',\n",
       "       'RING_FINGER_TIP.x', 'RING_FINGER_TIP.y', 'RING_FINGER_TIP.z',\n",
       "       'PINKY_MCP.x', 'PINKY_MCP.y', 'PINKY_MCP.z', 'PINKY_PIP.x',\n",
       "       'PINKY_PIP.y', 'PINKY_PIP.z', 'PINKY_DIP.x', 'PINKY_DIP.y',\n",
       "       'PINKY_DIP.z', 'PINKY_TIP.x', 'PINKY_TIP.y', 'PINKY_TIP.z', 'TIME',\n",
       "       'target'],\n",
       "      dtype='object')"
      ]
     },
     "execution_count": 57,
     "metadata": {},
     "output_type": "execute_result"
    }
   ],
   "source": [
    "new_df.columns"
   ]
  },
  {
   "cell_type": "code",
   "execution_count": null,
   "metadata": {
    "id": "nGzLL4GewDmo"
   },
   "outputs": [],
   "source": [
    "# отбор столбцов\n",
    "# категориальные колонки :\n",
    "#  ['пациент off/on', 'определенный диагноз врачом (0-5)', 'Age_cat_adult', 'Age_cat_child', 'Age_cat_elderly', 'Age_cat_teen']\n",
    "\n",
    "X1 = new_df[['пациент off/on', 'определенный диагноз врачом (0-5)', 'Age_cat_adult',\n",
    "       'Age_cat_child', 'Age_cat_elderly', 'Age_cat_teen']]\n",
    "X2 = new_df[['WRIST.x',\n",
    "       'WRIST.y', 'WRIST.z', 'THUMB_CMC.x', 'THUMB_CMC.y', 'THUMB_CMC.z',\n",
    "       'THUMB_MCP.x', 'THUMB_MCP.y', 'THUMB_MCP.z', 'THUMB_IP.x', 'THUMB_IP.y',\n",
    "       'THUMB_IP.z', 'THUMB_TIP.x', 'THUMB_TIP.y', 'THUMB_TIP.z',\n",
    "       'INDEX_FINGER_MCP.x', 'INDEX_FINGER_MCP.y', 'INDEX_FINGER_MCP.z',\n",
    "       'INDEX_FINGER_PIP.x', 'INDEX_FINGER_PIP.y', 'INDEX_FINGER_PIP.z',\n",
    "       'INDEX_FINGER_DIP.x', 'INDEX_FINGER_DIP.y', 'INDEX_FINGER_DIP.z',\n",
    "       'INDEX_FINGER_TIP.x', 'INDEX_FINGER_TIP.y', 'INDEX_FINGER_TIP.z',\n",
    "       'MIDDLE_FINGER_MCP.x', 'MIDDLE_FINGER_MCP.y', 'MIDDLE_FINGER_MCP.z',\n",
    "       'MIDDLE_FINGER_PIP.x', 'MIDDLE_FINGER_PIP.y', 'MIDDLE_FINGER_PIP.z',\n",
    "       'MIDDLE_FINGER_DIP.x', 'MIDDLE_FINGER_DIP.y', 'MIDDLE_FINGER_DIP.z',\n",
    "       'MIDDLE_FINGER_TIP.x', 'MIDDLE_FINGER_TIP.y', 'MIDDLE_FINGER_TIP.z',\n",
    "       'RING_FINGER_MCP.x', 'RING_FINGER_MCP.y', 'RING_FINGER_MCP.z',\n",
    "       'RING_FINGER_PIP.x', 'RING_FINGER_PIP.y', 'RING_FINGER_PIP.z',\n",
    "       'RING_FINGER_DIP.x', 'RING_FINGER_DIP.y', 'RING_FINGER_DIP.z',\n",
    "       'RING_FINGER_TIP.x', 'RING_FINGER_TIP.y', 'RING_FINGER_TIP.z',\n",
    "       'PINKY_MCP.x', 'PINKY_MCP.y', 'PINKY_MCP.z', 'PINKY_PIP.x',\n",
    "       'PINKY_PIP.y', 'PINKY_PIP.z', 'PINKY_DIP.x', 'PINKY_DIP.y',\n",
    "       'PINKY_DIP.z', 'PINKY_TIP.x', 'PINKY_TIP.y', 'PINKY_TIP.z']]\n",
    "\n",
    "y = new_df['target']"
   ]
  },
  {
   "cell_type": "code",
   "execution_count": null,
   "metadata": {
    "colab": {
     "base_uri": "https://localhost:8080/"
    },
    "id": "kSdvKy7NKL_N",
    "outputId": "470cd4bd-dd87-4c06-e59d-57aad5adfe60"
   },
   "outputs": [
    {
     "data": {
      "text/plain": [
       "array([[ 0.        ,  1.        ,  1.        , ..., -0.37093864,\n",
       "        -0.56946849, -0.3542992 ],\n",
       "       [ 1.        ,  0.        ,  0.        , ..., -0.02331347,\n",
       "         2.32266071, -0.9518785 ],\n",
       "       [ 1.        ,  0.        ,  0.        , ...,  1.89376044,\n",
       "         1.44528587, -2.19909596],\n",
       "       ...,\n",
       "       [ 0.        ,  0.        ,  0.        , ...,  0.64156556,\n",
       "         0.77835795, -0.21429995],\n",
       "       [ 1.        ,  0.        ,  0.        , ..., -0.45321165,\n",
       "         1.84417179, -0.4442548 ],\n",
       "       [ 0.        ,  0.        ,  0.        , ...,  1.05329594,\n",
       "         0.88804266, -0.22468807]])"
      ]
     },
     "execution_count": 59,
     "metadata": {},
     "output_type": "execute_result"
    }
   ],
   "source": [
    "X1 = np.asarray(X1)\n",
    "sc = StandardScaler()\n",
    "X2 = sc.fit_transform(X2) # нормализация столбцов с координатами\n",
    "X = np.hstack([X1, X2])\n",
    "X"
   ]
  },
  {
   "cell_type": "code",
   "execution_count": null,
   "metadata": {
    "colab": {
     "base_uri": "https://localhost:8080/"
    },
    "id": "9qPqVhd-wf8c",
    "outputId": "08cc0916-3fff-4de2-8702-3029551cc7f3"
   },
   "outputs": [
    {
     "data": {
      "text/plain": [
       "(833, 69)"
      ]
     },
     "execution_count": 60,
     "metadata": {},
     "output_type": "execute_result"
    }
   ],
   "source": [
    "X.shape"
   ]
  },
  {
   "cell_type": "code",
   "execution_count": null,
   "metadata": {
    "id": "DdNOR8EQiExf"
   },
   "outputs": [],
   "source": [
    "# делим на тест и валидац.\n",
    "X_train, X_val, y_train, y_val =  train_test_split(X, y, test_size=0.2, random_state=42) # разделение на тестовую и тренировочную выборки"
   ]
  },
  {
   "cell_type": "code",
   "execution_count": null,
   "metadata": {
    "colab": {
     "base_uri": "https://localhost:8080/"
    },
    "id": "k7kzTeCIbS9W",
    "outputId": "86b26a4f-3751-49a4-c248-2183d10e9d1c"
   },
   "outputs": [
    {
     "data": {
      "text/plain": [
       "Index(['имя файла данных', 'пол', 'полных лет', 'пациент off/on',\n",
       "       'определенный диагноз врачом (0-5)', 'Age_cat_adult', 'Age_cat_child',\n",
       "       'Age_cat_elderly', 'Age_cat_teen', 'WRIST.x', 'WRIST.y', 'WRIST.z',\n",
       "       'THUMB_CMC.x', 'THUMB_CMC.y', 'THUMB_CMC.z', 'THUMB_MCP.x',\n",
       "       'THUMB_MCP.y', 'THUMB_MCP.z', 'THUMB_IP.x', 'THUMB_IP.y', 'THUMB_IP.z',\n",
       "       'THUMB_TIP.x', 'THUMB_TIP.y', 'THUMB_TIP.z', 'INDEX_FINGER_MCP.x',\n",
       "       'INDEX_FINGER_MCP.y', 'INDEX_FINGER_MCP.z', 'INDEX_FINGER_PIP.x',\n",
       "       'INDEX_FINGER_PIP.y', 'INDEX_FINGER_PIP.z', 'INDEX_FINGER_DIP.x',\n",
       "       'INDEX_FINGER_DIP.y', 'INDEX_FINGER_DIP.z', 'INDEX_FINGER_TIP.x',\n",
       "       'INDEX_FINGER_TIP.y', 'INDEX_FINGER_TIP.z', 'MIDDLE_FINGER_MCP.x',\n",
       "       'MIDDLE_FINGER_MCP.y', 'MIDDLE_FINGER_MCP.z', 'MIDDLE_FINGER_PIP.x',\n",
       "       'MIDDLE_FINGER_PIP.y', 'MIDDLE_FINGER_PIP.z', 'MIDDLE_FINGER_DIP.x',\n",
       "       'MIDDLE_FINGER_DIP.y', 'MIDDLE_FINGER_DIP.z', 'MIDDLE_FINGER_TIP.x',\n",
       "       'MIDDLE_FINGER_TIP.y', 'MIDDLE_FINGER_TIP.z', 'RING_FINGER_MCP.x',\n",
       "       'RING_FINGER_MCP.y', 'RING_FINGER_MCP.z', 'RING_FINGER_PIP.x',\n",
       "       'RING_FINGER_PIP.y', 'RING_FINGER_PIP.z', 'RING_FINGER_DIP.x',\n",
       "       'RING_FINGER_DIP.y', 'RING_FINGER_DIP.z', 'RING_FINGER_TIP.x',\n",
       "       'RING_FINGER_TIP.y', 'RING_FINGER_TIP.z', 'PINKY_MCP.x', 'PINKY_MCP.y',\n",
       "       'PINKY_MCP.z', 'PINKY_PIP.x', 'PINKY_PIP.y', 'PINKY_PIP.z',\n",
       "       'PINKY_DIP.x', 'PINKY_DIP.y', 'PINKY_DIP.z', 'PINKY_TIP.x',\n",
       "       'PINKY_TIP.y', 'PINKY_TIP.z', 'TIME'],\n",
       "      dtype='object')"
      ]
     },
     "execution_count": 62,
     "metadata": {},
     "output_type": "execute_result"
    }
   ],
   "source": [
    "new_test.columns"
   ]
  },
  {
   "cell_type": "code",
   "execution_count": null,
   "metadata": {
    "id": "h1a6Hcr6zLST"
   },
   "outputs": [],
   "source": [
    "X1_test = new_test[['пациент off/on', 'определенный диагноз врачом (0-5)', 'Age_cat_adult',\n",
    "       'Age_cat_child', 'Age_cat_elderly', 'Age_cat_teen']]\n",
    "\n",
    "X2_test = new_test[['WRIST.x',\n",
    "       'WRIST.y', 'WRIST.z', 'THUMB_CMC.x', 'THUMB_CMC.y', 'THUMB_CMC.z',\n",
    "       'THUMB_MCP.x', 'THUMB_MCP.y', 'THUMB_MCP.z', 'THUMB_IP.x', 'THUMB_IP.y',\n",
    "       'THUMB_IP.z', 'THUMB_TIP.x', 'THUMB_TIP.y', 'THUMB_TIP.z',\n",
    "       'INDEX_FINGER_MCP.x', 'INDEX_FINGER_MCP.y', 'INDEX_FINGER_MCP.z',\n",
    "       'INDEX_FINGER_PIP.x', 'INDEX_FINGER_PIP.y', 'INDEX_FINGER_PIP.z',\n",
    "       'INDEX_FINGER_DIP.x', 'INDEX_FINGER_DIP.y', 'INDEX_FINGER_DIP.z',\n",
    "       'INDEX_FINGER_TIP.x', 'INDEX_FINGER_TIP.y', 'INDEX_FINGER_TIP.z',\n",
    "       'MIDDLE_FINGER_MCP.x', 'MIDDLE_FINGER_MCP.y', 'MIDDLE_FINGER_MCP.z',\n",
    "       'MIDDLE_FINGER_PIP.x', 'MIDDLE_FINGER_PIP.y', 'MIDDLE_FINGER_PIP.z',\n",
    "       'MIDDLE_FINGER_DIP.x', 'MIDDLE_FINGER_DIP.y', 'MIDDLE_FINGER_DIP.z',\n",
    "       'MIDDLE_FINGER_TIP.x', 'MIDDLE_FINGER_TIP.y', 'MIDDLE_FINGER_TIP.z',\n",
    "       'RING_FINGER_MCP.x', 'RING_FINGER_MCP.y', 'RING_FINGER_MCP.z',\n",
    "       'RING_FINGER_PIP.x', 'RING_FINGER_PIP.y', 'RING_FINGER_PIP.z',\n",
    "       'RING_FINGER_DIP.x', 'RING_FINGER_DIP.y', 'RING_FINGER_DIP.z',\n",
    "       'RING_FINGER_TIP.x', 'RING_FINGER_TIP.y', 'RING_FINGER_TIP.z',\n",
    "       'PINKY_MCP.x', 'PINKY_MCP.y', 'PINKY_MCP.z', 'PINKY_PIP.x',\n",
    "       'PINKY_PIP.y', 'PINKY_PIP.z', 'PINKY_DIP.x', 'PINKY_DIP.y',\n",
    "       'PINKY_DIP.z', 'PINKY_TIP.x', 'PINKY_TIP.y', 'PINKY_TIP.z']]\n"
   ]
  },
  {
   "cell_type": "code",
   "execution_count": null,
   "metadata": {
    "colab": {
     "base_uri": "https://localhost:8080/"
    },
    "id": "MO4nGS4WeC0x",
    "outputId": "1fe6c79c-f6d9-4fb3-b2ed-2ce8f741a3a4"
   },
   "outputs": [
    {
     "data": {
      "text/plain": [
       "357"
      ]
     },
     "execution_count": 64,
     "metadata": {},
     "output_type": "execute_result"
    }
   ],
   "source": [
    "len(X2_test)"
   ]
  },
  {
   "cell_type": "code",
   "execution_count": null,
   "metadata": {
    "colab": {
     "base_uri": "https://localhost:8080/"
    },
    "id": "PVjc3N_FLA-d",
    "outputId": "e689e55e-d8ab-46a0-8ccc-ba81296cbd24"
   },
   "outputs": [
    {
     "data": {
      "text/plain": [
       "array([[ 1.        ,  3.        ,  0.        , ..., -1.70859897,\n",
       "        -0.58214148,  0.57954157],\n",
       "       [ 0.        ,  0.        ,  0.        , ..., -0.41663027,\n",
       "         0.69566459, -0.83225564],\n",
       "       [ 0.        ,  0.        ,  0.        , ..., -0.11977383,\n",
       "         0.30635388, -0.69077128],\n",
       "       ...,\n",
       "       [ 0.        ,  4.        ,  0.        , ...,  0.98951341,\n",
       "         0.39995704,  0.01612657],\n",
       "       [ 0.        ,  2.        ,  0.        , ..., -1.13051669,\n",
       "         0.87632272, -0.12073983],\n",
       "       [ 1.        ,  2.        ,  1.        , ...,  0.27632863,\n",
       "        -0.78683435, -0.10259605]])"
      ]
     },
     "execution_count": 65,
     "metadata": {},
     "output_type": "execute_result"
    }
   ],
   "source": [
    "X1_test = np.asarray(X1_test)\n",
    "sc = StandardScaler()\n",
    "X2_test = sc.fit_transform(X2_test) # нормализация колонок\n",
    "X_test = np.hstack([X1_test, X2_test])\n",
    "X_test"
   ]
  },
  {
   "cell_type": "code",
   "execution_count": null,
   "metadata": {
    "colab": {
     "base_uri": "https://localhost:8080/"
    },
    "id": "AO6q-10gd7Xy",
    "outputId": "c6a9870c-69fb-467a-a595-7fd392cce6f1"
   },
   "outputs": [
    {
     "data": {
      "text/plain": [
       "357"
      ]
     },
     "execution_count": 66,
     "metadata": {},
     "output_type": "execute_result"
    }
   ],
   "source": [
    "len(X_test)"
   ]
  },
  {
   "cell_type": "code",
   "execution_count": null,
   "metadata": {
    "colab": {
     "base_uri": "https://localhost:8080/"
    },
    "id": "Jc2u4OOJPXNi",
    "outputId": "3256ff8e-5745-4302-d9e5-b22856dc5c61"
   },
   "outputs": [
    {
     "name": "stdout",
     "output_type": "stream",
     "text": [
      "Collecting autokeras\n",
      "  Downloading autokeras-1.1.0-py3-none-any.whl (148 kB)\n",
      "\u001b[2K     \u001b[90m━━━━━━━━━━━━━━━━━━━━━━━━━━━━━━━━━━━━━━━━\u001b[0m \u001b[32m148.6/148.6 kB\u001b[0m \u001b[31m3.0 MB/s\u001b[0m eta \u001b[36m0:00:00\u001b[0m \u001b[36m0:00:01\u001b[0m\n",
      "\u001b[?25hRequirement already satisfied: packaging in /usr/local/lib/python3.10/dist-packages (from autokeras) (23.2)\n",
      "Requirement already satisfied: tensorflow>=2.8.0 in /usr/local/lib/python3.10/dist-packages (from autokeras) (2.14.0)\n",
      "Collecting keras-tuner>=1.1.0 (from autokeras)\n",
      "  Downloading keras_tuner-1.4.5-py3-none-any.whl (129 kB)\n",
      "\u001b[2K     \u001b[90m━━━━━━━━━━━━━━━━━━━━━━━━━━━━━━━━━━━━━━━━\u001b[0m \u001b[32m129.5/129.5 kB\u001b[0m \u001b[31m16.4 MB/s\u001b[0m eta \u001b[36m0:00:00\u001b[0m\n",
      "\u001b[?25hCollecting keras-nlp>=0.4.0 (from autokeras)\n",
      "  Downloading keras_nlp-0.6.2-py3-none-any.whl (590 kB)\n",
      "\u001b[2K     \u001b[90m━━━━━━━━━━━━━━━━━━━━━━━━━━━━━━━━━━━━━━━━\u001b[0m \u001b[32m590.1/590.1 kB\u001b[0m \u001b[31m26.1 MB/s\u001b[0m eta \u001b[36m0:00:00\u001b[0m\n",
      "\u001b[?25hRequirement already satisfied: pandas in /usr/local/lib/python3.10/dist-packages (from autokeras) (1.5.3)\n",
      "Collecting keras-core (from keras-nlp>=0.4.0->autokeras)\n",
      "  Downloading keras_core-0.1.7-py3-none-any.whl (950 kB)\n",
      "\u001b[2K     \u001b[90m━━━━━━━━━━━━━━━━━━━━━━━━━━━━━━━━━━━━━━━━\u001b[0m \u001b[32m950.8/950.8 kB\u001b[0m \u001b[31m51.0 MB/s\u001b[0m eta \u001b[36m0:00:00\u001b[0m\n",
      "\u001b[?25hRequirement already satisfied: absl-py in /usr/local/lib/python3.10/dist-packages (from keras-nlp>=0.4.0->autokeras) (1.4.0)\n",
      "Requirement already satisfied: numpy in /usr/local/lib/python3.10/dist-packages (from keras-nlp>=0.4.0->autokeras) (1.23.5)\n",
      "Requirement already satisfied: regex in /usr/local/lib/python3.10/dist-packages (from keras-nlp>=0.4.0->autokeras) (2023.6.3)\n",
      "Requirement already satisfied: rich in /usr/local/lib/python3.10/dist-packages (from keras-nlp>=0.4.0->autokeras) (13.6.0)\n",
      "Requirement already satisfied: dm-tree in /usr/local/lib/python3.10/dist-packages (from keras-nlp>=0.4.0->autokeras) (0.1.8)\n",
      "Collecting tensorflow-text (from keras-nlp>=0.4.0->autokeras)\n",
      "  Downloading tensorflow_text-2.14.0-cp310-cp310-manylinux_2_17_x86_64.manylinux2014_x86_64.whl (6.5 MB)\n",
      "\u001b[2K     \u001b[90m━━━━━━━━━━━━━━━━━━━━━━━━━━━━━━━━━━━━━━━━\u001b[0m \u001b[32m6.5/6.5 MB\u001b[0m \u001b[31m85.4 MB/s\u001b[0m eta \u001b[36m0:00:00\u001b[0m\n",
      "\u001b[?25hRequirement already satisfied: requests in /usr/local/lib/python3.10/dist-packages (from keras-tuner>=1.1.0->autokeras) (2.31.0)\n",
      "Collecting kt-legacy (from keras-tuner>=1.1.0->autokeras)\n",
      "  Downloading kt_legacy-1.0.5-py3-none-any.whl (9.6 kB)\n",
      "Requirement already satisfied: astunparse>=1.6.0 in /usr/local/lib/python3.10/dist-packages (from tensorflow>=2.8.0->autokeras) (1.6.3)\n",
      "Requirement already satisfied: flatbuffers>=23.5.26 in /usr/local/lib/python3.10/dist-packages (from tensorflow>=2.8.0->autokeras) (23.5.26)\n",
      "Requirement already satisfied: gast!=0.5.0,!=0.5.1,!=0.5.2,>=0.2.1 in /usr/local/lib/python3.10/dist-packages (from tensorflow>=2.8.0->autokeras) (0.5.4)\n",
      "Requirement already satisfied: google-pasta>=0.1.1 in /usr/local/lib/python3.10/dist-packages (from tensorflow>=2.8.0->autokeras) (0.2.0)\n",
      "Requirement already satisfied: h5py>=2.9.0 in /usr/local/lib/python3.10/dist-packages (from tensorflow>=2.8.0->autokeras) (3.9.0)\n",
      "Requirement already satisfied: libclang>=13.0.0 in /usr/local/lib/python3.10/dist-packages (from tensorflow>=2.8.0->autokeras) (16.0.6)\n",
      "Requirement already satisfied: ml-dtypes==0.2.0 in /usr/local/lib/python3.10/dist-packages (from tensorflow>=2.8.0->autokeras) (0.2.0)\n",
      "Requirement already satisfied: opt-einsum>=2.3.2 in /usr/local/lib/python3.10/dist-packages (from tensorflow>=2.8.0->autokeras) (3.3.0)\n",
      "Requirement already satisfied: protobuf!=4.21.0,!=4.21.1,!=4.21.2,!=4.21.3,!=4.21.4,!=4.21.5,<5.0.0dev,>=3.20.3 in /usr/local/lib/python3.10/dist-packages (from tensorflow>=2.8.0->autokeras) (3.20.3)\n",
      "Requirement already satisfied: setuptools in /usr/local/lib/python3.10/dist-packages (from tensorflow>=2.8.0->autokeras) (67.7.2)\n",
      "Requirement already satisfied: six>=1.12.0 in /usr/local/lib/python3.10/dist-packages (from tensorflow>=2.8.0->autokeras) (1.16.0)\n",
      "Requirement already satisfied: termcolor>=1.1.0 in /usr/local/lib/python3.10/dist-packages (from tensorflow>=2.8.0->autokeras) (2.3.0)\n",
      "Requirement already satisfied: typing-extensions>=3.6.6 in /usr/local/lib/python3.10/dist-packages (from tensorflow>=2.8.0->autokeras) (4.5.0)\n",
      "Requirement already satisfied: wrapt<1.15,>=1.11.0 in /usr/local/lib/python3.10/dist-packages (from tensorflow>=2.8.0->autokeras) (1.14.1)\n",
      "Requirement already satisfied: tensorflow-io-gcs-filesystem>=0.23.1 in /usr/local/lib/python3.10/dist-packages (from tensorflow>=2.8.0->autokeras) (0.34.0)\n",
      "Requirement already satisfied: grpcio<2.0,>=1.24.3 in /usr/local/lib/python3.10/dist-packages (from tensorflow>=2.8.0->autokeras) (1.59.0)\n",
      "Requirement already satisfied: tensorboard<2.15,>=2.14 in /usr/local/lib/python3.10/dist-packages (from tensorflow>=2.8.0->autokeras) (2.14.1)\n",
      "Requirement already satisfied: tensorflow-estimator<2.15,>=2.14.0 in /usr/local/lib/python3.10/dist-packages (from tensorflow>=2.8.0->autokeras) (2.14.0)\n",
      "Requirement already satisfied: keras<2.15,>=2.14.0 in /usr/local/lib/python3.10/dist-packages (from tensorflow>=2.8.0->autokeras) (2.14.0)\n",
      "Requirement already satisfied: python-dateutil>=2.8.1 in /usr/local/lib/python3.10/dist-packages (from pandas->autokeras) (2.8.2)\n",
      "Requirement already satisfied: pytz>=2020.1 in /usr/local/lib/python3.10/dist-packages (from pandas->autokeras) (2023.3.post1)\n",
      "Requirement already satisfied: wheel<1.0,>=0.23.0 in /usr/local/lib/python3.10/dist-packages (from astunparse>=1.6.0->tensorflow>=2.8.0->autokeras) (0.41.2)\n",
      "Requirement already satisfied: google-auth<3,>=1.6.3 in /usr/local/lib/python3.10/dist-packages (from tensorboard<2.15,>=2.14->tensorflow>=2.8.0->autokeras) (2.17.3)\n",
      "Requirement already satisfied: google-auth-oauthlib<1.1,>=0.5 in /usr/local/lib/python3.10/dist-packages (from tensorboard<2.15,>=2.14->tensorflow>=2.8.0->autokeras) (1.0.0)\n",
      "Requirement already satisfied: markdown>=2.6.8 in /usr/local/lib/python3.10/dist-packages (from tensorboard<2.15,>=2.14->tensorflow>=2.8.0->autokeras) (3.5)\n",
      "Requirement already satisfied: tensorboard-data-server<0.8.0,>=0.7.0 in /usr/local/lib/python3.10/dist-packages (from tensorboard<2.15,>=2.14->tensorflow>=2.8.0->autokeras) (0.7.2)\n",
      "Requirement already satisfied: werkzeug>=1.0.1 in /usr/local/lib/python3.10/dist-packages (from tensorboard<2.15,>=2.14->tensorflow>=2.8.0->autokeras) (3.0.1)\n",
      "Requirement already satisfied: charset-normalizer<4,>=2 in /usr/local/lib/python3.10/dist-packages (from requests->keras-tuner>=1.1.0->autokeras) (3.3.1)\n",
      "Requirement already satisfied: idna<4,>=2.5 in /usr/local/lib/python3.10/dist-packages (from requests->keras-tuner>=1.1.0->autokeras) (3.4)\n",
      "Requirement already satisfied: urllib3<3,>=1.21.1 in /usr/local/lib/python3.10/dist-packages (from requests->keras-tuner>=1.1.0->autokeras) (2.0.7)\n",
      "Requirement already satisfied: certifi>=2017.4.17 in /usr/local/lib/python3.10/dist-packages (from requests->keras-tuner>=1.1.0->autokeras) (2023.7.22)\n",
      "Collecting namex (from keras-core->keras-nlp>=0.4.0->autokeras)\n",
      "  Downloading namex-0.0.7-py3-none-any.whl (5.8 kB)\n",
      "Requirement already satisfied: markdown-it-py>=2.2.0 in /usr/local/lib/python3.10/dist-packages (from rich->keras-nlp>=0.4.0->autokeras) (3.0.0)\n",
      "Requirement already satisfied: pygments<3.0.0,>=2.13.0 in /usr/local/lib/python3.10/dist-packages (from rich->keras-nlp>=0.4.0->autokeras) (2.16.1)\n",
      "Requirement already satisfied: tensorflow-hub>=0.13.0 in /usr/local/lib/python3.10/dist-packages (from tensorflow-text->keras-nlp>=0.4.0->autokeras) (0.15.0)\n",
      "Requirement already satisfied: cachetools<6.0,>=2.0.0 in /usr/local/lib/python3.10/dist-packages (from google-auth<3,>=1.6.3->tensorboard<2.15,>=2.14->tensorflow>=2.8.0->autokeras) (5.3.2)\n",
      "Requirement already satisfied: pyasn1-modules>=0.2.1 in /usr/local/lib/python3.10/dist-packages (from google-auth<3,>=1.6.3->tensorboard<2.15,>=2.14->tensorflow>=2.8.0->autokeras) (0.3.0)\n",
      "Requirement already satisfied: rsa<5,>=3.1.4 in /usr/local/lib/python3.10/dist-packages (from google-auth<3,>=1.6.3->tensorboard<2.15,>=2.14->tensorflow>=2.8.0->autokeras) (4.9)\n",
      "Requirement already satisfied: requests-oauthlib>=0.7.0 in /usr/local/lib/python3.10/dist-packages (from google-auth-oauthlib<1.1,>=0.5->tensorboard<2.15,>=2.14->tensorflow>=2.8.0->autokeras) (1.3.1)\n",
      "Requirement already satisfied: mdurl~=0.1 in /usr/local/lib/python3.10/dist-packages (from markdown-it-py>=2.2.0->rich->keras-nlp>=0.4.0->autokeras) (0.1.2)\n",
      "Requirement already satisfied: MarkupSafe>=2.1.1 in /usr/local/lib/python3.10/dist-packages (from werkzeug>=1.0.1->tensorboard<2.15,>=2.14->tensorflow>=2.8.0->autokeras) (2.1.3)\n",
      "Requirement already satisfied: pyasn1<0.6.0,>=0.4.6 in /usr/local/lib/python3.10/dist-packages (from pyasn1-modules>=0.2.1->google-auth<3,>=1.6.3->tensorboard<2.15,>=2.14->tensorflow>=2.8.0->autokeras) (0.5.0)\n",
      "Requirement already satisfied: oauthlib>=3.0.0 in /usr/local/lib/python3.10/dist-packages (from requests-oauthlib>=0.7.0->google-auth-oauthlib<1.1,>=0.5->tensorboard<2.15,>=2.14->tensorflow>=2.8.0->autokeras) (3.2.2)\n",
      "Installing collected packages: namex, kt-legacy, keras-core, keras-tuner, tensorflow-text, keras-nlp, autokeras\n",
      "Successfully installed autokeras-1.1.0 keras-core-0.1.7 keras-nlp-0.6.2 keras-tuner-1.4.5 kt-legacy-1.0.5 namex-0.0.7 tensorflow-text-2.14.0\n"
     ]
    }
   ],
   "source": [
    "!pip install autokeras"
   ]
  },
  {
   "cell_type": "code",
   "execution_count": null,
   "metadata": {
    "colab": {
     "base_uri": "https://localhost:8080/",
     "height": 346
    },
    "id": "kjRw9kU5SqkP",
    "outputId": "61ab4f2e-e5b3-48eb-f881-9be355540727"
   },
   "outputs": [
    {
     "ename": "ModuleNotFoundError",
     "errorDetails": {
      "actions": [
       {
        "action": "open_url",
        "actionText": "Open Examples",
        "url": "/notebooks/snippets/importing_libraries.ipynb"
       }
      ]
     },
     "evalue": "ignored",
     "output_type": "error",
     "traceback": [
      "\u001b[0;31m---------------------------------------------------------------------------\u001b[0m",
      "\u001b[0;31mModuleNotFoundError\u001b[0m                       Traceback (most recent call last)",
      "\u001b[0;32m<ipython-input-67-91c26cab09ae>\u001b[0m in \u001b[0;36m<cell line: 1>\u001b[0;34m()\u001b[0m\n\u001b[0;32m----> 1\u001b[0;31m \u001b[0;32mimport\u001b[0m \u001b[0mautokeras\u001b[0m \u001b[0;32mas\u001b[0m \u001b[0mak\u001b[0m\u001b[0;34m\u001b[0m\u001b[0;34m\u001b[0m\u001b[0m\n\u001b[0m\u001b[1;32m      2\u001b[0m \u001b[0;32mimport\u001b[0m \u001b[0mpandas\u001b[0m \u001b[0;32mas\u001b[0m \u001b[0mpd\u001b[0m\u001b[0;34m\u001b[0m\u001b[0;34m\u001b[0m\u001b[0m\n",
      "\u001b[0;31mModuleNotFoundError\u001b[0m: No module named 'autokeras'",
      "",
      "\u001b[0;31m---------------------------------------------------------------------------\u001b[0;32m\nNOTE: If your import is failing due to a missing package, you can\nmanually install dependencies using either !pip or !apt.\n\nTo view examples of installing some common dependencies, click the\n\"Open Examples\" button below.\n\u001b[0;31m---------------------------------------------------------------------------\u001b[0m\n"
     ]
    }
   ],
   "source": [
    "import autokeras as ak\n",
    "import pandas as pd"
   ]
  },
  {
   "cell_type": "code",
   "execution_count": null,
   "metadata": {
    "colab": {
     "base_uri": "https://localhost:8080/"
    },
    "id": "Q5MPqfcOZnx1",
    "outputId": "26ba27df-63cf-4619-ed90-dd1f773f5352"
   },
   "outputs": [
    {
     "name": "stdout",
     "output_type": "stream",
     "text": [
      "rm: cannot remove 'hyperband': Is a directory\n"
     ]
    }
   ],
   "source": [
    "!rm hyperband"
   ]
  },
  {
   "cell_type": "code",
   "execution_count": null,
   "metadata": {
    "colab": {
     "base_uri": "https://localhost:8080/",
     "height": 52
    },
    "id": "zN6UcbF2SsOs",
    "outputId": "c9ddfcf7-64a5-4be1-e379-79f7422d279c"
   },
   "outputs": [
    {
     "data": {
      "text/html": [
       "<style>#sk-container-id-3 {color: black;background-color: white;}#sk-container-id-3 pre{padding: 0;}#sk-container-id-3 div.sk-toggleable {background-color: white;}#sk-container-id-3 label.sk-toggleable__label {cursor: pointer;display: block;width: 100%;margin-bottom: 0;padding: 0.3em;box-sizing: border-box;text-align: center;}#sk-container-id-3 label.sk-toggleable__label-arrow:before {content: \"▸\";float: left;margin-right: 0.25em;color: #696969;}#sk-container-id-3 label.sk-toggleable__label-arrow:hover:before {color: black;}#sk-container-id-3 div.sk-estimator:hover label.sk-toggleable__label-arrow:before {color: black;}#sk-container-id-3 div.sk-toggleable__content {max-height: 0;max-width: 0;overflow: hidden;text-align: left;background-color: #f0f8ff;}#sk-container-id-3 div.sk-toggleable__content pre {margin: 0.2em;color: black;border-radius: 0.25em;background-color: #f0f8ff;}#sk-container-id-3 input.sk-toggleable__control:checked~div.sk-toggleable__content {max-height: 200px;max-width: 100%;overflow: auto;}#sk-container-id-3 input.sk-toggleable__control:checked~label.sk-toggleable__label-arrow:before {content: \"▾\";}#sk-container-id-3 div.sk-estimator input.sk-toggleable__control:checked~label.sk-toggleable__label {background-color: #d4ebff;}#sk-container-id-3 div.sk-label input.sk-toggleable__control:checked~label.sk-toggleable__label {background-color: #d4ebff;}#sk-container-id-3 input.sk-hidden--visually {border: 0;clip: rect(1px 1px 1px 1px);clip: rect(1px, 1px, 1px, 1px);height: 1px;margin: -1px;overflow: hidden;padding: 0;position: absolute;width: 1px;}#sk-container-id-3 div.sk-estimator {font-family: monospace;background-color: #f0f8ff;border: 1px dotted black;border-radius: 0.25em;box-sizing: border-box;margin-bottom: 0.5em;}#sk-container-id-3 div.sk-estimator:hover {background-color: #d4ebff;}#sk-container-id-3 div.sk-parallel-item::after {content: \"\";width: 100%;border-bottom: 1px solid gray;flex-grow: 1;}#sk-container-id-3 div.sk-label:hover label.sk-toggleable__label {background-color: #d4ebff;}#sk-container-id-3 div.sk-serial::before {content: \"\";position: absolute;border-left: 1px solid gray;box-sizing: border-box;top: 0;bottom: 0;left: 50%;z-index: 0;}#sk-container-id-3 div.sk-serial {display: flex;flex-direction: column;align-items: center;background-color: white;padding-right: 0.2em;padding-left: 0.2em;position: relative;}#sk-container-id-3 div.sk-item {position: relative;z-index: 1;}#sk-container-id-3 div.sk-parallel {display: flex;align-items: stretch;justify-content: center;background-color: white;position: relative;}#sk-container-id-3 div.sk-item::before, #sk-container-id-3 div.sk-parallel-item::before {content: \"\";position: absolute;border-left: 1px solid gray;box-sizing: border-box;top: 0;bottom: 0;left: 50%;z-index: -1;}#sk-container-id-3 div.sk-parallel-item {display: flex;flex-direction: column;z-index: 1;position: relative;background-color: white;}#sk-container-id-3 div.sk-parallel-item:first-child::after {align-self: flex-end;width: 50%;}#sk-container-id-3 div.sk-parallel-item:last-child::after {align-self: flex-start;width: 50%;}#sk-container-id-3 div.sk-parallel-item:only-child::after {width: 0;}#sk-container-id-3 div.sk-dashed-wrapped {border: 1px dashed gray;margin: 0 0.4em 0.5em 0.4em;box-sizing: border-box;padding-bottom: 0.4em;background-color: white;}#sk-container-id-3 div.sk-label label {font-family: monospace;font-weight: bold;display: inline-block;line-height: 1.2em;}#sk-container-id-3 div.sk-label-container {text-align: center;}#sk-container-id-3 div.sk-container {/* jupyter's `normalize.less` sets `[hidden] { display: none; }` but bootstrap.min.css set `[hidden] { display: none !important; }` so we also need the `!important` here to be able to override the default hidden behavior on the sphinx rendered scikit-learn.org. See: https://github.com/scikit-learn/scikit-learn/issues/21755 */display: inline-block !important;position: relative;}#sk-container-id-3 div.sk-text-repr-fallback {display: none;}</style><div id=\"sk-container-id-3\" class=\"sk-top-container\"><div class=\"sk-text-repr-fallback\"><pre>DecisionTreeClassifier(max_depth=2, random_state=42)</pre><b>In a Jupyter environment, please rerun this cell to show the HTML representation or trust the notebook. <br />On GitHub, the HTML representation is unable to render, please try loading this page with nbviewer.org.</b></div><div class=\"sk-container\" hidden><div class=\"sk-item\"><div class=\"sk-estimator sk-toggleable\"><input class=\"sk-toggleable__control sk-hidden--visually\" id=\"sk-estimator-id-3\" type=\"checkbox\" checked><label for=\"sk-estimator-id-3\" class=\"sk-toggleable__label sk-toggleable__label-arrow\">DecisionTreeClassifier</label><div class=\"sk-toggleable__content\"><pre>DecisionTreeClassifier(max_depth=2, random_state=42)</pre></div></div></div></div></div>"
      ],
      "text/plain": [
       "DecisionTreeClassifier(max_depth=2, random_state=42)"
      ]
     },
     "execution_count": 68,
     "metadata": {},
     "output_type": "execute_result"
    }
   ],
   "source": [
    "from sklearn.tree import DecisionTreeClassifier # дерево\n",
    "from sklearn.model_selection import train_test_split\n",
    "from sklearn.metrics import accuracy_score, roc_auc_score\n",
    "\n",
    "# разделим данные на обучающую и проверочную выборки\n",
    "X_train, X_test, y_train, y_test = train_test_split(X, y, test_size=.3,\n",
    "                                                    stratify=y,\n",
    "                                                    random_state=42)\n",
    "\n",
    "# Возьмём неглубокое дерево решений\n",
    "clf = DecisionTreeClassifier(max_depth=2, random_state=42)\n",
    "clf.fit(X_train, y_train)"
   ]
  },
  {
   "cell_type": "code",
   "execution_count": null,
   "metadata": {
    "colab": {
     "base_uri": "https://localhost:8080/"
    },
    "id": "P9hSK15iTPdw",
    "outputId": "69cf05f5-d793-42d1-b835-c05ff2bc1b10"
   },
   "outputs": [
    {
     "data": {
      "text/plain": [
       "array([[0.22807018, 0.        , 0.19298246, 0.22807018, 0.35087719],\n",
       "       [0.01492537, 0.01492537, 0.        , 0.50746269, 0.46268657],\n",
       "       [0.18627451, 0.15196078, 0.43627451, 0.1127451 , 0.1127451 ],\n",
       "       ...,\n",
       "       [0.01492537, 0.01492537, 0.        , 0.50746269, 0.46268657],\n",
       "       [0.01492537, 0.01492537, 0.        , 0.50746269, 0.46268657],\n",
       "       [0.01492537, 0.01492537, 0.        , 0.50746269, 0.46268657]])"
      ]
     },
     "execution_count": 70,
     "metadata": {},
     "output_type": "execute_result"
    }
   ],
   "source": [
    "y_pred = clf.predict_proba(X_test)\n",
    "y_pred"
   ]
  },
  {
   "cell_type": "code",
   "execution_count": null,
   "metadata": {
    "colab": {
     "base_uri": "https://localhost:8080/",
     "height": 423
    },
    "id": "EkHu7EfMY6D2",
    "outputId": "6b05e5ac-e4de-4d74-b732-97617c12ba45"
   },
   "outputs": [
    {
     "data": {
      "text/html": [
       "\n",
       "  <div id=\"df-6ef8950b-4dc5-466a-8305-a3435e1decea\" class=\"colab-df-container\">\n",
       "    <div>\n",
       "<style scoped>\n",
       "    .dataframe tbody tr th:only-of-type {\n",
       "        vertical-align: middle;\n",
       "    }\n",
       "\n",
       "    .dataframe tbody tr th {\n",
       "        vertical-align: top;\n",
       "    }\n",
       "\n",
       "    .dataframe thead th {\n",
       "        text-align: right;\n",
       "    }\n",
       "</style>\n",
       "<table border=\"1\" class=\"dataframe\">\n",
       "  <thead>\n",
       "    <tr style=\"text-align: right;\">\n",
       "      <th></th>\n",
       "      <th>path</th>\n",
       "      <th>pred</th>\n",
       "    </tr>\n",
       "  </thead>\n",
       "  <tbody>\n",
       "    <tr>\n",
       "      <th>0</th>\n",
       "      <td>raw_data_61fbeecd-8ef7-11ec-a78a-58a023d3f6d9.csv</td>\n",
       "      <td>3</td>\n",
       "    </tr>\n",
       "    <tr>\n",
       "      <th>1</th>\n",
       "      <td>raw_data_41f438e7-8041-11ed-aa7b-e82aea2c97f4.csv</td>\n",
       "      <td>0</td>\n",
       "    </tr>\n",
       "    <tr>\n",
       "      <th>2</th>\n",
       "      <td>raw_data_43b5ffcb-2dcc-11ed-a854-e82aea2c97f4.csv</td>\n",
       "      <td>2</td>\n",
       "    </tr>\n",
       "    <tr>\n",
       "      <th>3</th>\n",
       "      <td>raw_data_28cfe921-2452-11ed-934f-e82aea2c97f4.csv</td>\n",
       "      <td>3</td>\n",
       "    </tr>\n",
       "    <tr>\n",
       "      <th>4</th>\n",
       "      <td>raw_data_d6107ceb-2f57-11ed-8d23-c86000e163af.csv</td>\n",
       "      <td>2</td>\n",
       "    </tr>\n",
       "    <tr>\n",
       "      <th>...</th>\n",
       "      <td>...</td>\n",
       "      <td>...</td>\n",
       "    </tr>\n",
       "    <tr>\n",
       "      <th>352</th>\n",
       "      <td>raw_data_1fdbcbf9-e072-11ec-9d67-ef54fcc0d655.csv</td>\n",
       "      <td>3</td>\n",
       "    </tr>\n",
       "    <tr>\n",
       "      <th>353</th>\n",
       "      <td>raw_data_83b398f9-2dcc-11ed-91ba-e82aea2c97f4.csv</td>\n",
       "      <td>2</td>\n",
       "    </tr>\n",
       "    <tr>\n",
       "      <th>354</th>\n",
       "      <td>raw_data_de9b38a1-1882-11ed-b91f-b469216ca443.csv</td>\n",
       "      <td>2</td>\n",
       "    </tr>\n",
       "    <tr>\n",
       "      <th>355</th>\n",
       "      <td>raw_data_9981a771-0cdd-11ed-9772-b469216ca443.csv</td>\n",
       "      <td>0</td>\n",
       "    </tr>\n",
       "    <tr>\n",
       "      <th>356</th>\n",
       "      <td>raw_data_148c7295-34c9-11ed-b265-e82aea2c97f4.csv</td>\n",
       "      <td>2</td>\n",
       "    </tr>\n",
       "  </tbody>\n",
       "</table>\n",
       "<p>357 rows × 2 columns</p>\n",
       "</div>\n",
       "    <div class=\"colab-df-buttons\">\n",
       "\n",
       "  <div class=\"colab-df-container\">\n",
       "    <button class=\"colab-df-convert\" onclick=\"convertToInteractive('df-6ef8950b-4dc5-466a-8305-a3435e1decea')\"\n",
       "            title=\"Convert this dataframe to an interactive table.\"\n",
       "            style=\"display:none;\">\n",
       "\n",
       "  <svg xmlns=\"http://www.w3.org/2000/svg\" height=\"24px\" viewBox=\"0 -960 960 960\">\n",
       "    <path d=\"M120-120v-720h720v720H120Zm60-500h600v-160H180v160Zm220 220h160v-160H400v160Zm0 220h160v-160H400v160ZM180-400h160v-160H180v160Zm440 0h160v-160H620v160ZM180-180h160v-160H180v160Zm440 0h160v-160H620v160Z\"/>\n",
       "  </svg>\n",
       "    </button>\n",
       "\n",
       "  <style>\n",
       "    .colab-df-container {\n",
       "      display:flex;\n",
       "      gap: 12px;\n",
       "    }\n",
       "\n",
       "    .colab-df-convert {\n",
       "      background-color: #E8F0FE;\n",
       "      border: none;\n",
       "      border-radius: 50%;\n",
       "      cursor: pointer;\n",
       "      display: none;\n",
       "      fill: #1967D2;\n",
       "      height: 32px;\n",
       "      padding: 0 0 0 0;\n",
       "      width: 32px;\n",
       "    }\n",
       "\n",
       "    .colab-df-convert:hover {\n",
       "      background-color: #E2EBFA;\n",
       "      box-shadow: 0px 1px 2px rgba(60, 64, 67, 0.3), 0px 1px 3px 1px rgba(60, 64, 67, 0.15);\n",
       "      fill: #174EA6;\n",
       "    }\n",
       "\n",
       "    .colab-df-buttons div {\n",
       "      margin-bottom: 4px;\n",
       "    }\n",
       "\n",
       "    [theme=dark] .colab-df-convert {\n",
       "      background-color: #3B4455;\n",
       "      fill: #D2E3FC;\n",
       "    }\n",
       "\n",
       "    [theme=dark] .colab-df-convert:hover {\n",
       "      background-color: #434B5C;\n",
       "      box-shadow: 0px 1px 3px 1px rgba(0, 0, 0, 0.15);\n",
       "      filter: drop-shadow(0px 1px 2px rgba(0, 0, 0, 0.3));\n",
       "      fill: #FFFFFF;\n",
       "    }\n",
       "  </style>\n",
       "\n",
       "    <script>\n",
       "      const buttonEl =\n",
       "        document.querySelector('#df-6ef8950b-4dc5-466a-8305-a3435e1decea button.colab-df-convert');\n",
       "      buttonEl.style.display =\n",
       "        google.colab.kernel.accessAllowed ? 'block' : 'none';\n",
       "\n",
       "      async function convertToInteractive(key) {\n",
       "        const element = document.querySelector('#df-6ef8950b-4dc5-466a-8305-a3435e1decea');\n",
       "        const dataTable =\n",
       "          await google.colab.kernel.invokeFunction('convertToInteractive',\n",
       "                                                    [key], {});\n",
       "        if (!dataTable) return;\n",
       "\n",
       "        const docLinkHtml = 'Like what you see? Visit the ' +\n",
       "          '<a target=\"_blank\" href=https://colab.research.google.com/notebooks/data_table.ipynb>data table notebook</a>'\n",
       "          + ' to learn more about interactive tables.';\n",
       "        element.innerHTML = '';\n",
       "        dataTable['output_type'] = 'display_data';\n",
       "        await google.colab.output.renderOutput(dataTable, element);\n",
       "        const docLink = document.createElement('div');\n",
       "        docLink.innerHTML = docLinkHtml;\n",
       "        element.appendChild(docLink);\n",
       "      }\n",
       "    </script>\n",
       "  </div>\n",
       "\n",
       "\n",
       "<div id=\"df-fe44854d-b4e8-4a58-a0f7-d760eafe1761\">\n",
       "  <button class=\"colab-df-quickchart\" onclick=\"quickchart('df-fe44854d-b4e8-4a58-a0f7-d760eafe1761')\"\n",
       "            title=\"Suggest charts.\"\n",
       "            style=\"display:none;\">\n",
       "\n",
       "<svg xmlns=\"http://www.w3.org/2000/svg\" height=\"24px\"viewBox=\"0 0 24 24\"\n",
       "     width=\"24px\">\n",
       "    <g>\n",
       "        <path d=\"M19 3H5c-1.1 0-2 .9-2 2v14c0 1.1.9 2 2 2h14c1.1 0 2-.9 2-2V5c0-1.1-.9-2-2-2zM9 17H7v-7h2v7zm4 0h-2V7h2v10zm4 0h-2v-4h2v4z\"/>\n",
       "    </g>\n",
       "</svg>\n",
       "  </button>\n",
       "\n",
       "<style>\n",
       "  .colab-df-quickchart {\n",
       "      --bg-color: #E8F0FE;\n",
       "      --fill-color: #1967D2;\n",
       "      --hover-bg-color: #E2EBFA;\n",
       "      --hover-fill-color: #174EA6;\n",
       "      --disabled-fill-color: #AAA;\n",
       "      --disabled-bg-color: #DDD;\n",
       "  }\n",
       "\n",
       "  [theme=dark] .colab-df-quickchart {\n",
       "      --bg-color: #3B4455;\n",
       "      --fill-color: #D2E3FC;\n",
       "      --hover-bg-color: #434B5C;\n",
       "      --hover-fill-color: #FFFFFF;\n",
       "      --disabled-bg-color: #3B4455;\n",
       "      --disabled-fill-color: #666;\n",
       "  }\n",
       "\n",
       "  .colab-df-quickchart {\n",
       "    background-color: var(--bg-color);\n",
       "    border: none;\n",
       "    border-radius: 50%;\n",
       "    cursor: pointer;\n",
       "    display: none;\n",
       "    fill: var(--fill-color);\n",
       "    height: 32px;\n",
       "    padding: 0;\n",
       "    width: 32px;\n",
       "  }\n",
       "\n",
       "  .colab-df-quickchart:hover {\n",
       "    background-color: var(--hover-bg-color);\n",
       "    box-shadow: 0 1px 2px rgba(60, 64, 67, 0.3), 0 1px 3px 1px rgba(60, 64, 67, 0.15);\n",
       "    fill: var(--button-hover-fill-color);\n",
       "  }\n",
       "\n",
       "  .colab-df-quickchart-complete:disabled,\n",
       "  .colab-df-quickchart-complete:disabled:hover {\n",
       "    background-color: var(--disabled-bg-color);\n",
       "    fill: var(--disabled-fill-color);\n",
       "    box-shadow: none;\n",
       "  }\n",
       "\n",
       "  .colab-df-spinner {\n",
       "    border: 2px solid var(--fill-color);\n",
       "    border-color: transparent;\n",
       "    border-bottom-color: var(--fill-color);\n",
       "    animation:\n",
       "      spin 1s steps(1) infinite;\n",
       "  }\n",
       "\n",
       "  @keyframes spin {\n",
       "    0% {\n",
       "      border-color: transparent;\n",
       "      border-bottom-color: var(--fill-color);\n",
       "      border-left-color: var(--fill-color);\n",
       "    }\n",
       "    20% {\n",
       "      border-color: transparent;\n",
       "      border-left-color: var(--fill-color);\n",
       "      border-top-color: var(--fill-color);\n",
       "    }\n",
       "    30% {\n",
       "      border-color: transparent;\n",
       "      border-left-color: var(--fill-color);\n",
       "      border-top-color: var(--fill-color);\n",
       "      border-right-color: var(--fill-color);\n",
       "    }\n",
       "    40% {\n",
       "      border-color: transparent;\n",
       "      border-right-color: var(--fill-color);\n",
       "      border-top-color: var(--fill-color);\n",
       "    }\n",
       "    60% {\n",
       "      border-color: transparent;\n",
       "      border-right-color: var(--fill-color);\n",
       "    }\n",
       "    80% {\n",
       "      border-color: transparent;\n",
       "      border-right-color: var(--fill-color);\n",
       "      border-bottom-color: var(--fill-color);\n",
       "    }\n",
       "    90% {\n",
       "      border-color: transparent;\n",
       "      border-bottom-color: var(--fill-color);\n",
       "    }\n",
       "  }\n",
       "</style>\n",
       "\n",
       "  <script>\n",
       "    async function quickchart(key) {\n",
       "      const quickchartButtonEl =\n",
       "        document.querySelector('#' + key + ' button');\n",
       "      quickchartButtonEl.disabled = true;  // To prevent multiple clicks.\n",
       "      quickchartButtonEl.classList.add('colab-df-spinner');\n",
       "      try {\n",
       "        const charts = await google.colab.kernel.invokeFunction(\n",
       "            'suggestCharts', [key], {});\n",
       "      } catch (error) {\n",
       "        console.error('Error during call to suggestCharts:', error);\n",
       "      }\n",
       "      quickchartButtonEl.classList.remove('colab-df-spinner');\n",
       "      quickchartButtonEl.classList.add('colab-df-quickchart-complete');\n",
       "    }\n",
       "    (() => {\n",
       "      let quickchartButtonEl =\n",
       "        document.querySelector('#df-fe44854d-b4e8-4a58-a0f7-d760eafe1761 button');\n",
       "      quickchartButtonEl.style.display =\n",
       "        google.colab.kernel.accessAllowed ? 'block' : 'none';\n",
       "    })();\n",
       "  </script>\n",
       "</div>\n",
       "    </div>\n",
       "  </div>\n"
      ],
      "text/plain": [
       "                                                  path pred\n",
       "0    raw_data_61fbeecd-8ef7-11ec-a78a-58a023d3f6d9.csv    3\n",
       "1    raw_data_41f438e7-8041-11ed-aa7b-e82aea2c97f4.csv    0\n",
       "2    raw_data_43b5ffcb-2dcc-11ed-a854-e82aea2c97f4.csv    2\n",
       "3    raw_data_28cfe921-2452-11ed-934f-e82aea2c97f4.csv    3\n",
       "4    raw_data_d6107ceb-2f57-11ed-8d23-c86000e163af.csv    2\n",
       "..                                                 ...  ...\n",
       "352  raw_data_1fdbcbf9-e072-11ec-9d67-ef54fcc0d655.csv    3\n",
       "353  raw_data_83b398f9-2dcc-11ed-91ba-e82aea2c97f4.csv    2\n",
       "354  raw_data_de9b38a1-1882-11ed-b91f-b469216ca443.csv    2\n",
       "355  raw_data_9981a771-0cdd-11ed-9772-b469216ca443.csv    0\n",
       "356  raw_data_148c7295-34c9-11ed-b265-e82aea2c97f4.csv    2\n",
       "\n",
       "[357 rows x 2 columns]"
      ]
     },
     "execution_count": 45,
     "metadata": {},
     "output_type": "execute_result"
    }
   ],
   "source": [
    "submit = pd.DataFrame({'path': pd.read_csv('test.csv')['имя файла данных'], 'pred': y_pred[:, 0]})\n",
    "submit.to_csv('submit_hyperband.csv', index=False)\n",
    "submit"
   ]
  },
  {
   "cell_type": "markdown",
   "metadata": {
    "id": "gRJ547VWzYnI"
   },
   "source": [
    "### модели и обучением Sklearn"
   ]
  },
  {
   "cell_type": "code",
   "execution_count": null,
   "metadata": {
    "id": "eUH7likGUzy1"
   },
   "outputs": [],
   "source": [
    "from sklearn.ensemble import StackingClassifier\n",
    "from sklearn.svm import LinearSVC\n",
    "from sklearn.linear_model import RidgeCV"
   ]
  },
  {
   "cell_type": "code",
   "execution_count": null,
   "metadata": {
    "id": "aFnidh3hj613"
   },
   "outputs": [],
   "source": [
    "model_rfc = RandomForestClassifier(criterion = 'gini', n_estimators = 100, min_samples_split = 7, min_samples_leaf= 2, max_features = 'sqrt', max_depth= 5, bootstrap=True, random_state=42)\n",
    "model_logr = LogisticRegression(penalty = 'l2', C = 10, multi_class = 'multinomial', max_iter = 5000, solver = 'newton-cg')\n",
    "model_gbr = GradientBoostingRegressor(n_estimators = 100, max_depth = 10 , learning_rate = 0.04, min_samples_leaf = 15, random_state=42)\n",
    "model_ridge = Ridge(alpha = 0.43206891751952314, solver =  'cholesky')\n",
    "# model.fit(X_train, y_train)"
   ]
  },
  {
   "cell_type": "code",
   "execution_count": null,
   "metadata": {
    "id": "fw_AyICEVDyy"
   },
   "outputs": [],
   "source": [
    "# Создаем стэккинг и обучаем его на наших данных\n",
    "stacking = StackingClassifier(\n",
    "    [   ('LogisticRegression', model_logr),\n",
    "        ('RandomForestClassifier', model_rfc),\n",
    "        ('GradientBoostingRegressor', model_gbr),\n",
    "        ('Ridge', model_ridge)\n",
    "    ])"
   ]
  },
  {
   "cell_type": "code",
   "execution_count": null,
   "metadata": {
    "id": "xSfam4K8U8JO"
   },
   "outputs": [],
   "source": [
    "model = stacking.fit(X_train, y_train)"
   ]
  },
  {
   "cell_type": "code",
   "execution_count": null,
   "metadata": {
    "colab": {
     "base_uri": "https://localhost:8080/"
    },
    "id": "CynJ0kp4j613",
    "outputId": "600041e5-6608-49d4-905e-ef96ba2cda1f"
   },
   "outputs": [
    {
     "data": {
      "text/plain": [
       "array([4, 2, 4, 4, 4, 0, 2, 1, 2, 2, 3, 2, 4, 1, 2, 0, 4, 2, 1, 0, 3, 3,\n",
       "       2, 4, 3, 3, 4, 4, 2, 0, 4, 3, 4, 0, 0, 3, 3, 3, 4, 2, 0, 4, 0, 3,\n",
       "       0, 2, 2, 3, 3, 0, 4, 2, 4, 2, 1, 4, 0, 3, 0, 4, 0, 2, 3, 0, 3, 3,\n",
       "       4, 2, 4, 0, 0, 3, 2, 3, 2, 2, 2, 0, 3, 0, 2, 0, 3, 4, 2, 0, 2, 0,\n",
       "       4, 0, 0, 0, 0, 3, 3, 4, 0, 2, 4, 3, 4, 0, 4, 3, 4, 2, 3, 4, 0, 1,\n",
       "       0, 2, 3, 2, 3, 0, 4, 0, 0, 1, 3, 3, 4, 3, 0, 3, 3, 0, 2, 2, 0, 3,\n",
       "       4, 0, 0, 0, 4, 4, 4, 3, 3, 2, 4, 1, 2, 0, 3, 2, 2, 4, 1, 2, 4, 0,\n",
       "       4, 0, 2, 0, 0, 3, 0, 0, 2, 2, 4, 3, 4])"
      ]
     },
     "execution_count": 609,
     "metadata": {},
     "output_type": "execute_result"
    }
   ],
   "source": [
    "predictions_val = model.predict(X_val)\n",
    "predictions_val"
   ]
  },
  {
   "cell_type": "code",
   "execution_count": null,
   "metadata": {
    "colab": {
     "base_uri": "https://localhost:8080/"
    },
    "id": "9uaxrjUQNfhj",
    "outputId": "31b282cb-feb2-417b-dc40-7d308cb9e2cc"
   },
   "outputs": [
    {
     "name": "stdout",
     "output_type": "stream",
     "text": [
      "0.9354354354354354\n",
      "0.8682634730538922\n"
     ]
    }
   ],
   "source": [
    "train_accuracy_score=model.score(X_train,y_train)\n",
    "print(train_accuracy_score)\n",
    "\n",
    "test_accuracy_score=model.score(X_val,y_val)\n",
    "print(test_accuracy_score)"
   ]
  },
  {
   "cell_type": "code",
   "execution_count": null,
   "metadata": {
    "colab": {
     "base_uri": "https://localhost:8080/"
    },
    "id": "BSC8O2Ku0AoV",
    "outputId": "5804af7a-a9ef-430b-822b-48cc4ffae20b"
   },
   "outputs": [
    {
     "data": {
      "text/plain": [
       "0.8682634730538922"
      ]
     },
     "execution_count": 611,
     "metadata": {},
     "output_type": "execute_result"
    }
   ],
   "source": [
    "accuracy_score(y_val, predictions_val)"
   ]
  },
  {
   "cell_type": "code",
   "execution_count": null,
   "metadata": {
    "colab": {
     "base_uri": "https://localhost:8080/"
    },
    "id": "9mqDySc5nNOb",
    "outputId": "93ca1335-7cc5-4dbe-fbff-9bf77fb790cb"
   },
   "outputs": [
    {
     "name": "stdout",
     "output_type": "stream",
     "text": [
      "              precision    recall  f1-score   support\n",
      "\n",
      "           0       0.96      0.93      0.95        46\n",
      "           1       0.62      0.71      0.67         7\n",
      "           2       0.86      0.86      0.86        37\n",
      "           3       0.87      0.82      0.85        40\n",
      "           4       0.82      0.86      0.84        37\n",
      "\n",
      "    accuracy                           0.87       167\n",
      "   macro avg       0.83      0.84      0.83       167\n",
      "weighted avg       0.87      0.87      0.87       167\n",
      "\n"
     ]
    }
   ],
   "source": [
    "print(classification_report(y_val, predictions_val))"
   ]
  },
  {
   "cell_type": "code",
   "execution_count": null,
   "metadata": {
    "id": "yp9eJXoJnL5u"
   },
   "outputs": [],
   "source": [
    "# подбор моделей\n",
    "models=[\n",
    "      {'name':'NB',\"model\":BernoulliNB(), 'params':{'alpha': uniform(loc=0, scale=4)}},\n",
    "      {'name':'Lr',\"model\": LogisticRegression()  , 'params':{'C':[0.2,0.3,0.5,0.9,10],  'max_iter' : [1000, 5000, 10000, 15000] }},\n",
    "      {'name':'R',\"model\": Ridge(), 'params':{'alpha': uniform(loc=0, scale=4), 'solver':['svd', 'cholesky', 'lsqr', 'sparse_cg', 'sag', 'saga']}},\n",
    "      {'name':'SVC',\"model\": SVC(), 'params':{'kernel':['linear', 'poly', 'rbf', 'sigmoid'], 'gamma':['scale', 'auto']}},\n",
    "      {'name':'RF',\"model\": RandomForestClassifier(), 'params':{'n_estimators':[10,100,500,1000,10000], 'criterion':['gini', 'entropy'], 'max_depth':[3,5,7,9,11], 'min_samples_leaf': [2, 4, 6, 8, 10]}},\n",
    "      {'name':'KN',\"model\": KNeighborsClassifier(), 'params':{'n_neighbors': [5],'weights': ['uniform', 'distance'], 'p':[1,2,3]}},\n",
    "      {'name':'DT',\"model\": DecisionTreeClassifier(), 'params':{'criterion':['gini', 'entropy'], 'max_depth':[5,10, 20], 'min_samples_leaf' : [2, 4, 6, 8]}}\n",
    "\n",
    "]\n",
    "\n",
    "res=[]\n",
    "for v in  models:\n",
    "    res.append((v['name'], RandomizedSearchCV(v['model'], v['params'], cv=10).fit(X_train, y_train)))"
   ]
  },
  {
   "cell_type": "code",
   "execution_count": null,
   "metadata": {
    "colab": {
     "base_uri": "https://localhost:8080/"
    },
    "id": "PPME9Dg9x2B7",
    "outputId": "e7ee1051-e74d-4ed9-d4c5-3773b63fb762"
   },
   "outputs": [
    {
     "name": "stdout",
     "output_type": "stream",
     "text": [
      "NB 0.48037087290818636 {'alpha': 0.7897440843375834}\n",
      "Lr 0.8725011307100861 {'max_iter': 5000, 'C': 10}\n",
      "R 0.7472885141269028 {'alpha': 0.43206891751952314, 'solver': 'cholesky'}\n",
      "SVC 0.8679330619629126 {'kernel': 'linear', 'gamma': 'scale'}\n",
      "RF 0.6818407960199006 {'n_estimators': 100, 'min_samples_leaf': 2, 'max_depth': 7, 'criterion': 'entropy'}\n",
      "KN 0.5480551786521936 {'weights': 'distance', 'p': 2, 'n_neighbors': 5}\n",
      "DT 0.621641791044776 {'min_samples_leaf': 6, 'max_depth': 5, 'criterion': 'entropy'}\n"
     ]
    }
   ],
   "source": [
    "for r in res:\n",
    "    print(r[0], r[1].best_score_, r[1].best_params_)"
   ]
  },
  {
   "cell_type": "code",
   "execution_count": null,
   "metadata": {
    "colab": {
     "base_uri": "https://localhost:8080/"
    },
    "id": "1Q3cKRQuZGVG",
    "outputId": "69b9e0ca-2d83-458d-f647-32e584e7bde4"
   },
   "outputs": [
    {
     "data": {
      "text/plain": [
       "array([4, 0, 0, 4, 2, 3, 0, 0, 1, 0, 3, 3, 3, 2, 0, 1, 0, 3, 0, 1, 3, 4,\n",
       "       4, 2, 2, 4, 4, 3, 3, 4, 3, 1, 3, 0, 2, 4, 2, 4, 4, 3, 2, 0, 2, 3,\n",
       "       4, 4, 4, 0, 3, 4, 1, 2, 2, 2, 1, 0, 4, 2, 2, 0, 2, 2, 2, 4, 3, 0,\n",
       "       1, 2, 3, 4, 3, 4, 1, 2, 0, 3, 0, 3, 2, 3, 3, 0, 3, 0, 3, 4, 3, 0,\n",
       "       0, 3, 3, 3, 4, 4, 3, 0, 3, 4, 2, 0, 1, 2, 4, 4, 4, 0, 4, 4, 4, 0,\n",
       "       1, 0, 3, 4, 2, 3, 3, 4, 2, 3, 4, 0, 0, 1, 0, 0, 0, 2, 3, 3, 0, 3,\n",
       "       2, 4, 3, 0, 4, 2, 4, 4, 3, 0, 4, 0, 2, 0, 4, 4, 0, 4, 3, 2, 0, 0,\n",
       "       0, 0, 4, 3, 0, 1, 0, 4, 3, 2, 2, 1, 4, 2, 0, 4, 0, 0, 3, 1, 3, 3,\n",
       "       0, 3, 0, 0, 2, 4, 0, 0, 0, 3, 0, 3, 3, 4, 4, 3, 2, 0, 0, 0, 2, 3,\n",
       "       0, 1, 1, 0, 3, 3, 4, 2, 4, 2, 4, 2, 0, 4, 0, 3, 2, 2, 2, 0, 4, 2,\n",
       "       0, 0, 3, 4, 2, 0, 3, 3, 2, 2, 3, 4, 2, 0, 3, 3, 4, 3, 3, 2, 1, 0,\n",
       "       2, 3, 0, 4, 0, 4, 4, 2, 3, 0, 3, 4, 4, 1, 0, 3, 2, 0, 2, 0, 1, 0,\n",
       "       2, 2, 0, 2, 3, 4, 0, 4, 2, 4, 4, 2, 1, 3, 0, 2, 4, 4, 0, 0, 3, 4,\n",
       "       0, 3, 0, 2, 2, 3, 4, 3, 1, 4, 3, 4, 2, 3, 0, 2, 0, 4, 4, 3, 0, 2,\n",
       "       4, 2, 1, 0, 3, 0, 3, 3, 3, 4, 4, 4, 0, 4, 4, 3, 4, 4, 4, 1, 0, 0,\n",
       "       2, 2, 0, 4, 1, 1, 4, 2, 3, 4, 3, 0, 0, 2, 0, 4, 1, 2, 4, 3, 3, 3,\n",
       "       3, 2, 2, 0, 2])"
      ]
     },
     "execution_count": 613,
     "metadata": {},
     "output_type": "execute_result"
    }
   ],
   "source": [
    "predictions = model.predict(X_test)\n",
    "predictions"
   ]
  },
  {
   "cell_type": "markdown",
   "metadata": {
    "id": "JdGLJ3eQ9Icb"
   },
   "source": [
    "### подготовка сабмита"
   ]
  },
  {
   "cell_type": "code",
   "execution_count": null,
   "metadata": {
    "colab": {
     "base_uri": "https://localhost:8080/"
    },
    "id": "mqxuRVji1a59",
    "outputId": "bd698b09-a6ea-458a-a168-ab7ef96c0506"
   },
   "outputs": [
    {
     "data": {
      "text/plain": [
       "array(['Постуральный тремор', 'Пронация и супинация кисти',\n",
       "       'кинетический тремор', 'кулак', 'постукивание пальцами'],\n",
       "      dtype=object)"
      ]
     },
     "execution_count": 71,
     "metadata": {},
     "output_type": "execute_result"
    }
   ],
   "source": [
    "le.classes_"
   ]
  },
  {
   "cell_type": "code",
   "execution_count": null,
   "metadata": {
    "id": "p41ig066X-Nh"
   },
   "outputs": [],
   "source": [
    "y_p = []\n",
    "for i in y_pred:\n",
    "  y_p.append(int(i[0]))\n",
    "# y_p"
   ]
  },
  {
   "cell_type": "code",
   "execution_count": null,
   "metadata": {
    "colab": {
     "base_uri": "https://localhost:8080/",
     "height": 406
    },
    "id": "vZAsmaLd1RD8",
    "outputId": "80cf073e-2b39-48f4-9001-638d95882a4a"
   },
   "outputs": [
    {
     "ename": "ValueError",
     "evalue": "ignored",
     "output_type": "error",
     "traceback": [
      "\u001b[0;31m---------------------------------------------------------------------------\u001b[0m",
      "\u001b[0;31mValueError\u001b[0m                                Traceback (most recent call last)",
      "\u001b[0;32m<ipython-input-73-8b702abc08e3>\u001b[0m in \u001b[0;36m<cell line: 3>\u001b[0;34m()\u001b[0m\n\u001b[1;32m      1\u001b[0m \u001b[0;31m# new_test['predictions'] = predictions #sklearn\u001b[0m\u001b[0;34m\u001b[0m\u001b[0;34m\u001b[0m\u001b[0m\n\u001b[1;32m      2\u001b[0m \u001b[0;31m# new_test['predictions'] = res #pytorch\u001b[0m\u001b[0;34m\u001b[0m\u001b[0;34m\u001b[0m\u001b[0m\n\u001b[0;32m----> 3\u001b[0;31m \u001b[0mnew_test\u001b[0m\u001b[0;34m[\u001b[0m\u001b[0;34m'predictions'\u001b[0m\u001b[0;34m]\u001b[0m \u001b[0;34m=\u001b[0m \u001b[0my_p\u001b[0m \u001b[0;31m#pytorch\u001b[0m\u001b[0;34m\u001b[0m\u001b[0;34m\u001b[0m\u001b[0m\n\u001b[0m\u001b[1;32m      4\u001b[0m \u001b[0;34m\u001b[0m\u001b[0m\n\u001b[1;32m      5\u001b[0m \u001b[0;34m\u001b[0m\u001b[0m\n",
      "\u001b[0;32m/usr/local/lib/python3.10/dist-packages/pandas/core/frame.py\u001b[0m in \u001b[0;36m__setitem__\u001b[0;34m(self, key, value)\u001b[0m\n\u001b[1;32m   3978\u001b[0m         \u001b[0;32melse\u001b[0m\u001b[0;34m:\u001b[0m\u001b[0;34m\u001b[0m\u001b[0;34m\u001b[0m\u001b[0m\n\u001b[1;32m   3979\u001b[0m             \u001b[0;31m# set column\u001b[0m\u001b[0;34m\u001b[0m\u001b[0;34m\u001b[0m\u001b[0m\n\u001b[0;32m-> 3980\u001b[0;31m             \u001b[0mself\u001b[0m\u001b[0;34m.\u001b[0m\u001b[0m_set_item\u001b[0m\u001b[0;34m(\u001b[0m\u001b[0mkey\u001b[0m\u001b[0;34m,\u001b[0m \u001b[0mvalue\u001b[0m\u001b[0;34m)\u001b[0m\u001b[0;34m\u001b[0m\u001b[0;34m\u001b[0m\u001b[0m\n\u001b[0m\u001b[1;32m   3981\u001b[0m \u001b[0;34m\u001b[0m\u001b[0m\n\u001b[1;32m   3982\u001b[0m     \u001b[0;32mdef\u001b[0m \u001b[0m_setitem_slice\u001b[0m\u001b[0;34m(\u001b[0m\u001b[0mself\u001b[0m\u001b[0;34m,\u001b[0m \u001b[0mkey\u001b[0m\u001b[0;34m:\u001b[0m \u001b[0mslice\u001b[0m\u001b[0;34m,\u001b[0m \u001b[0mvalue\u001b[0m\u001b[0;34m)\u001b[0m\u001b[0;34m:\u001b[0m\u001b[0;34m\u001b[0m\u001b[0;34m\u001b[0m\u001b[0m\n",
      "\u001b[0;32m/usr/local/lib/python3.10/dist-packages/pandas/core/frame.py\u001b[0m in \u001b[0;36m_set_item\u001b[0;34m(self, key, value)\u001b[0m\n\u001b[1;32m   4172\u001b[0m         \u001b[0mensure\u001b[0m \u001b[0mhomogeneity\u001b[0m\u001b[0;34m.\u001b[0m\u001b[0;34m\u001b[0m\u001b[0;34m\u001b[0m\u001b[0m\n\u001b[1;32m   4173\u001b[0m         \"\"\"\n\u001b[0;32m-> 4174\u001b[0;31m         \u001b[0mvalue\u001b[0m \u001b[0;34m=\u001b[0m \u001b[0mself\u001b[0m\u001b[0;34m.\u001b[0m\u001b[0m_sanitize_column\u001b[0m\u001b[0;34m(\u001b[0m\u001b[0mvalue\u001b[0m\u001b[0;34m)\u001b[0m\u001b[0;34m\u001b[0m\u001b[0;34m\u001b[0m\u001b[0m\n\u001b[0m\u001b[1;32m   4175\u001b[0m \u001b[0;34m\u001b[0m\u001b[0m\n\u001b[1;32m   4176\u001b[0m         if (\n",
      "\u001b[0;32m/usr/local/lib/python3.10/dist-packages/pandas/core/frame.py\u001b[0m in \u001b[0;36m_sanitize_column\u001b[0;34m(self, value)\u001b[0m\n\u001b[1;32m   4913\u001b[0m \u001b[0;34m\u001b[0m\u001b[0m\n\u001b[1;32m   4914\u001b[0m         \u001b[0;32mif\u001b[0m \u001b[0mis_list_like\u001b[0m\u001b[0;34m(\u001b[0m\u001b[0mvalue\u001b[0m\u001b[0;34m)\u001b[0m\u001b[0;34m:\u001b[0m\u001b[0;34m\u001b[0m\u001b[0;34m\u001b[0m\u001b[0m\n\u001b[0;32m-> 4915\u001b[0;31m             \u001b[0mcom\u001b[0m\u001b[0;34m.\u001b[0m\u001b[0mrequire_length_match\u001b[0m\u001b[0;34m(\u001b[0m\u001b[0mvalue\u001b[0m\u001b[0;34m,\u001b[0m \u001b[0mself\u001b[0m\u001b[0;34m.\u001b[0m\u001b[0mindex\u001b[0m\u001b[0;34m)\u001b[0m\u001b[0;34m\u001b[0m\u001b[0;34m\u001b[0m\u001b[0m\n\u001b[0m\u001b[1;32m   4916\u001b[0m         \u001b[0;32mreturn\u001b[0m \u001b[0msanitize_array\u001b[0m\u001b[0;34m(\u001b[0m\u001b[0mvalue\u001b[0m\u001b[0;34m,\u001b[0m \u001b[0mself\u001b[0m\u001b[0;34m.\u001b[0m\u001b[0mindex\u001b[0m\u001b[0;34m,\u001b[0m \u001b[0mcopy\u001b[0m\u001b[0;34m=\u001b[0m\u001b[0;32mTrue\u001b[0m\u001b[0;34m,\u001b[0m \u001b[0mallow_2d\u001b[0m\u001b[0;34m=\u001b[0m\u001b[0;32mTrue\u001b[0m\u001b[0;34m)\u001b[0m\u001b[0;34m\u001b[0m\u001b[0;34m\u001b[0m\u001b[0m\n\u001b[1;32m   4917\u001b[0m \u001b[0;34m\u001b[0m\u001b[0m\n",
      "\u001b[0;32m/usr/local/lib/python3.10/dist-packages/pandas/core/common.py\u001b[0m in \u001b[0;36mrequire_length_match\u001b[0;34m(data, index)\u001b[0m\n\u001b[1;32m    569\u001b[0m     \"\"\"\n\u001b[1;32m    570\u001b[0m     \u001b[0;32mif\u001b[0m \u001b[0mlen\u001b[0m\u001b[0;34m(\u001b[0m\u001b[0mdata\u001b[0m\u001b[0;34m)\u001b[0m \u001b[0;34m!=\u001b[0m \u001b[0mlen\u001b[0m\u001b[0;34m(\u001b[0m\u001b[0mindex\u001b[0m\u001b[0;34m)\u001b[0m\u001b[0;34m:\u001b[0m\u001b[0;34m\u001b[0m\u001b[0;34m\u001b[0m\u001b[0m\n\u001b[0;32m--> 571\u001b[0;31m         raise ValueError(\n\u001b[0m\u001b[1;32m    572\u001b[0m             \u001b[0;34m\"Length of values \"\u001b[0m\u001b[0;34m\u001b[0m\u001b[0;34m\u001b[0m\u001b[0m\n\u001b[1;32m    573\u001b[0m             \u001b[0;34mf\"({len(data)}) \"\u001b[0m\u001b[0;34m\u001b[0m\u001b[0;34m\u001b[0m\u001b[0m\n",
      "\u001b[0;31mValueError\u001b[0m: Length of values (250) does not match length of index (357)"
     ]
    }
   ],
   "source": [
    "# new_test['predictions'] = predictions #sklearn\n",
    "# new_test['predictions'] = res #pytorch\n",
    "new_test['predictions'] = y_p #pytorch\n",
    "\n",
    "\n",
    "new_test"
   ]
  },
  {
   "cell_type": "code",
   "execution_count": null,
   "metadata": {
    "id": "UYeNX4r02Uy3"
   },
   "outputs": [],
   "source": [
    "new_test['pred'] = le.inverse_transform(new_test['predictions'])"
   ]
  },
  {
   "cell_type": "code",
   "execution_count": null,
   "metadata": {
    "colab": {
     "base_uri": "https://localhost:8080/",
     "height": 825
    },
    "id": "rDe5ZRVn3SoL",
    "outputId": "adf445f7-ba2d-446a-c309-02beade79a9a"
   },
   "outputs": [
    {
     "data": {
      "text/html": [
       "\n",
       "  <div id=\"df-561d8272-946e-4b82-b3f9-d01e59c420eb\" class=\"colab-df-container\">\n",
       "    <div>\n",
       "<style scoped>\n",
       "    .dataframe tbody tr th:only-of-type {\n",
       "        vertical-align: middle;\n",
       "    }\n",
       "\n",
       "    .dataframe tbody tr th {\n",
       "        vertical-align: top;\n",
       "    }\n",
       "\n",
       "    .dataframe thead th {\n",
       "        text-align: right;\n",
       "    }\n",
       "</style>\n",
       "<table border=\"1\" class=\"dataframe\">\n",
       "  <thead>\n",
       "    <tr style=\"text-align: right;\">\n",
       "      <th></th>\n",
       "      <th>имя файла данных</th>\n",
       "      <th>пол</th>\n",
       "      <th>полных лет</th>\n",
       "      <th>пациент off/on</th>\n",
       "      <th>определенный диагноз врачом (0-5)</th>\n",
       "      <th>Age_cat_adult</th>\n",
       "      <th>Age_cat_child</th>\n",
       "      <th>Age_cat_elderly</th>\n",
       "      <th>Age_cat_teen</th>\n",
       "      <th>WRIST.x</th>\n",
       "      <th>...</th>\n",
       "      <th>PINKY_PIP.z</th>\n",
       "      <th>PINKY_DIP.x</th>\n",
       "      <th>PINKY_DIP.y</th>\n",
       "      <th>PINKY_DIP.z</th>\n",
       "      <th>PINKY_TIP.x</th>\n",
       "      <th>PINKY_TIP.y</th>\n",
       "      <th>PINKY_TIP.z</th>\n",
       "      <th>TIME</th>\n",
       "      <th>predictions</th>\n",
       "      <th>pred</th>\n",
       "    </tr>\n",
       "  </thead>\n",
       "  <tbody>\n",
       "    <tr>\n",
       "      <th>0</th>\n",
       "      <td>raw_data_61fbeecd-8ef7-11ec-a78a-58a023d3f6d9.csv</td>\n",
       "      <td>1</td>\n",
       "      <td>69</td>\n",
       "      <td>1</td>\n",
       "      <td>3</td>\n",
       "      <td>0</td>\n",
       "      <td>0</td>\n",
       "      <td>1</td>\n",
       "      <td>0</td>\n",
       "      <td>0.255863</td>\n",
       "      <td>...</td>\n",
       "      <td>-0.005047</td>\n",
       "      <td>0.230889</td>\n",
       "      <td>0.397486</td>\n",
       "      <td>-0.008603</td>\n",
       "      <td>0.227497</td>\n",
       "      <td>0.376530</td>\n",
       "      <td>-0.011181</td>\n",
       "      <td>5.979599</td>\n",
       "      <td>3</td>\n",
       "      <td>кулак</td>\n",
       "    </tr>\n",
       "    <tr>\n",
       "      <th>1</th>\n",
       "      <td>raw_data_41f438e7-8041-11ed-aa7b-e82aea2c97f4.csv</td>\n",
       "      <td>0</td>\n",
       "      <td>23</td>\n",
       "      <td>0</td>\n",
       "      <td>0</td>\n",
       "      <td>0</td>\n",
       "      <td>0</td>\n",
       "      <td>0</td>\n",
       "      <td>1</td>\n",
       "      <td>0.418520</td>\n",
       "      <td>...</td>\n",
       "      <td>-0.042731</td>\n",
       "      <td>0.423058</td>\n",
       "      <td>0.566279</td>\n",
       "      <td>-0.042627</td>\n",
       "      <td>0.426090</td>\n",
       "      <td>0.579300</td>\n",
       "      <td>-0.042171</td>\n",
       "      <td>10.361516</td>\n",
       "      <td>0</td>\n",
       "      <td>Постуральный тремор</td>\n",
       "    </tr>\n",
       "    <tr>\n",
       "      <th>2</th>\n",
       "      <td>raw_data_43b5ffcb-2dcc-11ed-a854-e82aea2c97f4.csv</td>\n",
       "      <td>0</td>\n",
       "      <td>62</td>\n",
       "      <td>0</td>\n",
       "      <td>0</td>\n",
       "      <td>0</td>\n",
       "      <td>0</td>\n",
       "      <td>1</td>\n",
       "      <td>0</td>\n",
       "      <td>0.474775</td>\n",
       "      <td>...</td>\n",
       "      <td>-0.043887</td>\n",
       "      <td>0.475586</td>\n",
       "      <td>0.499475</td>\n",
       "      <td>-0.041622</td>\n",
       "      <td>0.471721</td>\n",
       "      <td>0.517522</td>\n",
       "      <td>-0.039065</td>\n",
       "      <td>10.207649</td>\n",
       "      <td>2</td>\n",
       "      <td>кинетический тремор</td>\n",
       "    </tr>\n",
       "    <tr>\n",
       "      <th>3</th>\n",
       "      <td>raw_data_28cfe921-2452-11ed-934f-e82aea2c97f4.csv</td>\n",
       "      <td>0</td>\n",
       "      <td>72</td>\n",
       "      <td>1</td>\n",
       "      <td>3</td>\n",
       "      <td>0</td>\n",
       "      <td>0</td>\n",
       "      <td>1</td>\n",
       "      <td>0</td>\n",
       "      <td>0.536183</td>\n",
       "      <td>...</td>\n",
       "      <td>-0.015841</td>\n",
       "      <td>0.601529</td>\n",
       "      <td>0.644141</td>\n",
       "      <td>-0.015442</td>\n",
       "      <td>0.608953</td>\n",
       "      <td>0.653642</td>\n",
       "      <td>-0.015954</td>\n",
       "      <td>8.112292</td>\n",
       "      <td>3</td>\n",
       "      <td>кулак</td>\n",
       "    </tr>\n",
       "    <tr>\n",
       "      <th>4</th>\n",
       "      <td>raw_data_d6107ceb-2f57-11ed-8d23-c86000e163af.csv</td>\n",
       "      <td>0</td>\n",
       "      <td>70</td>\n",
       "      <td>0</td>\n",
       "      <td>0</td>\n",
       "      <td>0</td>\n",
       "      <td>0</td>\n",
       "      <td>1</td>\n",
       "      <td>0</td>\n",
       "      <td>0.267455</td>\n",
       "      <td>...</td>\n",
       "      <td>-0.043808</td>\n",
       "      <td>0.303528</td>\n",
       "      <td>0.507416</td>\n",
       "      <td>-0.038894</td>\n",
       "      <td>0.306380</td>\n",
       "      <td>0.512526</td>\n",
       "      <td>-0.034337</td>\n",
       "      <td>9.697934</td>\n",
       "      <td>2</td>\n",
       "      <td>кинетический тремор</td>\n",
       "    </tr>\n",
       "    <tr>\n",
       "      <th>...</th>\n",
       "      <td>...</td>\n",
       "      <td>...</td>\n",
       "      <td>...</td>\n",
       "      <td>...</td>\n",
       "      <td>...</td>\n",
       "      <td>...</td>\n",
       "      <td>...</td>\n",
       "      <td>...</td>\n",
       "      <td>...</td>\n",
       "      <td>...</td>\n",
       "      <td>...</td>\n",
       "      <td>...</td>\n",
       "      <td>...</td>\n",
       "      <td>...</td>\n",
       "      <td>...</td>\n",
       "      <td>...</td>\n",
       "      <td>...</td>\n",
       "      <td>...</td>\n",
       "      <td>...</td>\n",
       "      <td>...</td>\n",
       "      <td>...</td>\n",
       "    </tr>\n",
       "    <tr>\n",
       "      <th>352</th>\n",
       "      <td>raw_data_1fdbcbf9-e072-11ec-9d67-ef54fcc0d655.csv</td>\n",
       "      <td>1</td>\n",
       "      <td>63</td>\n",
       "      <td>0</td>\n",
       "      <td>1</td>\n",
       "      <td>0</td>\n",
       "      <td>0</td>\n",
       "      <td>1</td>\n",
       "      <td>0</td>\n",
       "      <td>0.232570</td>\n",
       "      <td>...</td>\n",
       "      <td>0.006521</td>\n",
       "      <td>0.186065</td>\n",
       "      <td>0.515488</td>\n",
       "      <td>0.004534</td>\n",
       "      <td>0.187042</td>\n",
       "      <td>0.519370</td>\n",
       "      <td>0.003346</td>\n",
       "      <td>10.644290</td>\n",
       "      <td>3</td>\n",
       "      <td>кулак</td>\n",
       "    </tr>\n",
       "    <tr>\n",
       "      <th>353</th>\n",
       "      <td>raw_data_83b398f9-2dcc-11ed-91ba-e82aea2c97f4.csv</td>\n",
       "      <td>0</td>\n",
       "      <td>62</td>\n",
       "      <td>0</td>\n",
       "      <td>0</td>\n",
       "      <td>0</td>\n",
       "      <td>0</td>\n",
       "      <td>1</td>\n",
       "      <td>0</td>\n",
       "      <td>0.432942</td>\n",
       "      <td>...</td>\n",
       "      <td>-0.033404</td>\n",
       "      <td>0.407960</td>\n",
       "      <td>0.480148</td>\n",
       "      <td>-0.032372</td>\n",
       "      <td>0.401623</td>\n",
       "      <td>0.488609</td>\n",
       "      <td>-0.031513</td>\n",
       "      <td>10.012002</td>\n",
       "      <td>2</td>\n",
       "      <td>кинетический тремор</td>\n",
       "    </tr>\n",
       "    <tr>\n",
       "      <th>354</th>\n",
       "      <td>raw_data_de9b38a1-1882-11ed-b91f-b469216ca443.csv</td>\n",
       "      <td>0</td>\n",
       "      <td>23</td>\n",
       "      <td>0</td>\n",
       "      <td>4</td>\n",
       "      <td>0</td>\n",
       "      <td>0</td>\n",
       "      <td>0</td>\n",
       "      <td>1</td>\n",
       "      <td>0.675450</td>\n",
       "      <td>...</td>\n",
       "      <td>-0.021583</td>\n",
       "      <td>0.646885</td>\n",
       "      <td>0.528965</td>\n",
       "      <td>-0.022715</td>\n",
       "      <td>0.642233</td>\n",
       "      <td>0.532375</td>\n",
       "      <td>-0.023548</td>\n",
       "      <td>11.065553</td>\n",
       "      <td>2</td>\n",
       "      <td>кинетический тремор</td>\n",
       "    </tr>\n",
       "    <tr>\n",
       "      <th>355</th>\n",
       "      <td>raw_data_9981a771-0cdd-11ed-9772-b469216ca443.csv</td>\n",
       "      <td>0</td>\n",
       "      <td>75</td>\n",
       "      <td>0</td>\n",
       "      <td>2</td>\n",
       "      <td>0</td>\n",
       "      <td>0</td>\n",
       "      <td>1</td>\n",
       "      <td>0</td>\n",
       "      <td>0.333978</td>\n",
       "      <td>...</td>\n",
       "      <td>-0.024838</td>\n",
       "      <td>0.317346</td>\n",
       "      <td>0.594279</td>\n",
       "      <td>-0.025947</td>\n",
       "      <td>0.316356</td>\n",
       "      <td>0.607968</td>\n",
       "      <td>-0.026553</td>\n",
       "      <td>11.326773</td>\n",
       "      <td>0</td>\n",
       "      <td>Постуральный тремор</td>\n",
       "    </tr>\n",
       "    <tr>\n",
       "      <th>356</th>\n",
       "      <td>raw_data_148c7295-34c9-11ed-b265-e82aea2c97f4.csv</td>\n",
       "      <td>0</td>\n",
       "      <td>50</td>\n",
       "      <td>1</td>\n",
       "      <td>2</td>\n",
       "      <td>1</td>\n",
       "      <td>0</td>\n",
       "      <td>0</td>\n",
       "      <td>0</td>\n",
       "      <td>0.559817</td>\n",
       "      <td>...</td>\n",
       "      <td>-0.032167</td>\n",
       "      <td>0.526236</td>\n",
       "      <td>0.341467</td>\n",
       "      <td>-0.028519</td>\n",
       "      <td>0.532607</td>\n",
       "      <td>0.344049</td>\n",
       "      <td>-0.026154</td>\n",
       "      <td>12.417781</td>\n",
       "      <td>2</td>\n",
       "      <td>кинетический тремор</td>\n",
       "    </tr>\n",
       "  </tbody>\n",
       "</table>\n",
       "<p>357 rows × 75 columns</p>\n",
       "</div>\n",
       "    <div class=\"colab-df-buttons\">\n",
       "\n",
       "  <div class=\"colab-df-container\">\n",
       "    <button class=\"colab-df-convert\" onclick=\"convertToInteractive('df-561d8272-946e-4b82-b3f9-d01e59c420eb')\"\n",
       "            title=\"Convert this dataframe to an interactive table.\"\n",
       "            style=\"display:none;\">\n",
       "\n",
       "  <svg xmlns=\"http://www.w3.org/2000/svg\" height=\"24px\" viewBox=\"0 -960 960 960\">\n",
       "    <path d=\"M120-120v-720h720v720H120Zm60-500h600v-160H180v160Zm220 220h160v-160H400v160Zm0 220h160v-160H400v160ZM180-400h160v-160H180v160Zm440 0h160v-160H620v160ZM180-180h160v-160H180v160Zm440 0h160v-160H620v160Z\"/>\n",
       "  </svg>\n",
       "    </button>\n",
       "\n",
       "  <style>\n",
       "    .colab-df-container {\n",
       "      display:flex;\n",
       "      gap: 12px;\n",
       "    }\n",
       "\n",
       "    .colab-df-convert {\n",
       "      background-color: #E8F0FE;\n",
       "      border: none;\n",
       "      border-radius: 50%;\n",
       "      cursor: pointer;\n",
       "      display: none;\n",
       "      fill: #1967D2;\n",
       "      height: 32px;\n",
       "      padding: 0 0 0 0;\n",
       "      width: 32px;\n",
       "    }\n",
       "\n",
       "    .colab-df-convert:hover {\n",
       "      background-color: #E2EBFA;\n",
       "      box-shadow: 0px 1px 2px rgba(60, 64, 67, 0.3), 0px 1px 3px 1px rgba(60, 64, 67, 0.15);\n",
       "      fill: #174EA6;\n",
       "    }\n",
       "\n",
       "    .colab-df-buttons div {\n",
       "      margin-bottom: 4px;\n",
       "    }\n",
       "\n",
       "    [theme=dark] .colab-df-convert {\n",
       "      background-color: #3B4455;\n",
       "      fill: #D2E3FC;\n",
       "    }\n",
       "\n",
       "    [theme=dark] .colab-df-convert:hover {\n",
       "      background-color: #434B5C;\n",
       "      box-shadow: 0px 1px 3px 1px rgba(0, 0, 0, 0.15);\n",
       "      filter: drop-shadow(0px 1px 2px rgba(0, 0, 0, 0.3));\n",
       "      fill: #FFFFFF;\n",
       "    }\n",
       "  </style>\n",
       "\n",
       "    <script>\n",
       "      const buttonEl =\n",
       "        document.querySelector('#df-561d8272-946e-4b82-b3f9-d01e59c420eb button.colab-df-convert');\n",
       "      buttonEl.style.display =\n",
       "        google.colab.kernel.accessAllowed ? 'block' : 'none';\n",
       "\n",
       "      async function convertToInteractive(key) {\n",
       "        const element = document.querySelector('#df-561d8272-946e-4b82-b3f9-d01e59c420eb');\n",
       "        const dataTable =\n",
       "          await google.colab.kernel.invokeFunction('convertToInteractive',\n",
       "                                                    [key], {});\n",
       "        if (!dataTable) return;\n",
       "\n",
       "        const docLinkHtml = 'Like what you see? Visit the ' +\n",
       "          '<a target=\"_blank\" href=https://colab.research.google.com/notebooks/data_table.ipynb>data table notebook</a>'\n",
       "          + ' to learn more about interactive tables.';\n",
       "        element.innerHTML = '';\n",
       "        dataTable['output_type'] = 'display_data';\n",
       "        await google.colab.output.renderOutput(dataTable, element);\n",
       "        const docLink = document.createElement('div');\n",
       "        docLink.innerHTML = docLinkHtml;\n",
       "        element.appendChild(docLink);\n",
       "      }\n",
       "    </script>\n",
       "  </div>\n",
       "\n",
       "\n",
       "<div id=\"df-a8ac1ed3-72a6-4bfe-b179-813dcd46c253\">\n",
       "  <button class=\"colab-df-quickchart\" onclick=\"quickchart('df-a8ac1ed3-72a6-4bfe-b179-813dcd46c253')\"\n",
       "            title=\"Suggest charts.\"\n",
       "            style=\"display:none;\">\n",
       "\n",
       "<svg xmlns=\"http://www.w3.org/2000/svg\" height=\"24px\"viewBox=\"0 0 24 24\"\n",
       "     width=\"24px\">\n",
       "    <g>\n",
       "        <path d=\"M19 3H5c-1.1 0-2 .9-2 2v14c0 1.1.9 2 2 2h14c1.1 0 2-.9 2-2V5c0-1.1-.9-2-2-2zM9 17H7v-7h2v7zm4 0h-2V7h2v10zm4 0h-2v-4h2v4z\"/>\n",
       "    </g>\n",
       "</svg>\n",
       "  </button>\n",
       "\n",
       "<style>\n",
       "  .colab-df-quickchart {\n",
       "      --bg-color: #E8F0FE;\n",
       "      --fill-color: #1967D2;\n",
       "      --hover-bg-color: #E2EBFA;\n",
       "      --hover-fill-color: #174EA6;\n",
       "      --disabled-fill-color: #AAA;\n",
       "      --disabled-bg-color: #DDD;\n",
       "  }\n",
       "\n",
       "  [theme=dark] .colab-df-quickchart {\n",
       "      --bg-color: #3B4455;\n",
       "      --fill-color: #D2E3FC;\n",
       "      --hover-bg-color: #434B5C;\n",
       "      --hover-fill-color: #FFFFFF;\n",
       "      --disabled-bg-color: #3B4455;\n",
       "      --disabled-fill-color: #666;\n",
       "  }\n",
       "\n",
       "  .colab-df-quickchart {\n",
       "    background-color: var(--bg-color);\n",
       "    border: none;\n",
       "    border-radius: 50%;\n",
       "    cursor: pointer;\n",
       "    display: none;\n",
       "    fill: var(--fill-color);\n",
       "    height: 32px;\n",
       "    padding: 0;\n",
       "    width: 32px;\n",
       "  }\n",
       "\n",
       "  .colab-df-quickchart:hover {\n",
       "    background-color: var(--hover-bg-color);\n",
       "    box-shadow: 0 1px 2px rgba(60, 64, 67, 0.3), 0 1px 3px 1px rgba(60, 64, 67, 0.15);\n",
       "    fill: var(--button-hover-fill-color);\n",
       "  }\n",
       "\n",
       "  .colab-df-quickchart-complete:disabled,\n",
       "  .colab-df-quickchart-complete:disabled:hover {\n",
       "    background-color: var(--disabled-bg-color);\n",
       "    fill: var(--disabled-fill-color);\n",
       "    box-shadow: none;\n",
       "  }\n",
       "\n",
       "  .colab-df-spinner {\n",
       "    border: 2px solid var(--fill-color);\n",
       "    border-color: transparent;\n",
       "    border-bottom-color: var(--fill-color);\n",
       "    animation:\n",
       "      spin 1s steps(1) infinite;\n",
       "  }\n",
       "\n",
       "  @keyframes spin {\n",
       "    0% {\n",
       "      border-color: transparent;\n",
       "      border-bottom-color: var(--fill-color);\n",
       "      border-left-color: var(--fill-color);\n",
       "    }\n",
       "    20% {\n",
       "      border-color: transparent;\n",
       "      border-left-color: var(--fill-color);\n",
       "      border-top-color: var(--fill-color);\n",
       "    }\n",
       "    30% {\n",
       "      border-color: transparent;\n",
       "      border-left-color: var(--fill-color);\n",
       "      border-top-color: var(--fill-color);\n",
       "      border-right-color: var(--fill-color);\n",
       "    }\n",
       "    40% {\n",
       "      border-color: transparent;\n",
       "      border-right-color: var(--fill-color);\n",
       "      border-top-color: var(--fill-color);\n",
       "    }\n",
       "    60% {\n",
       "      border-color: transparent;\n",
       "      border-right-color: var(--fill-color);\n",
       "    }\n",
       "    80% {\n",
       "      border-color: transparent;\n",
       "      border-right-color: var(--fill-color);\n",
       "      border-bottom-color: var(--fill-color);\n",
       "    }\n",
       "    90% {\n",
       "      border-color: transparent;\n",
       "      border-bottom-color: var(--fill-color);\n",
       "    }\n",
       "  }\n",
       "</style>\n",
       "\n",
       "  <script>\n",
       "    async function quickchart(key) {\n",
       "      const quickchartButtonEl =\n",
       "        document.querySelector('#' + key + ' button');\n",
       "      quickchartButtonEl.disabled = true;  // To prevent multiple clicks.\n",
       "      quickchartButtonEl.classList.add('colab-df-spinner');\n",
       "      try {\n",
       "        const charts = await google.colab.kernel.invokeFunction(\n",
       "            'suggestCharts', [key], {});\n",
       "      } catch (error) {\n",
       "        console.error('Error during call to suggestCharts:', error);\n",
       "      }\n",
       "      quickchartButtonEl.classList.remove('colab-df-spinner');\n",
       "      quickchartButtonEl.classList.add('colab-df-quickchart-complete');\n",
       "    }\n",
       "    (() => {\n",
       "      let quickchartButtonEl =\n",
       "        document.querySelector('#df-a8ac1ed3-72a6-4bfe-b179-813dcd46c253 button');\n",
       "      quickchartButtonEl.style.display =\n",
       "        google.colab.kernel.accessAllowed ? 'block' : 'none';\n",
       "    })();\n",
       "  </script>\n",
       "</div>\n",
       "    </div>\n",
       "  </div>\n"
      ],
      "text/plain": [
       "                                      имя файла данных пол  полных лет  \\\n",
       "0    raw_data_61fbeecd-8ef7-11ec-a78a-58a023d3f6d9.csv   1          69   \n",
       "1    raw_data_41f438e7-8041-11ed-aa7b-e82aea2c97f4.csv   0          23   \n",
       "2    raw_data_43b5ffcb-2dcc-11ed-a854-e82aea2c97f4.csv   0          62   \n",
       "3    raw_data_28cfe921-2452-11ed-934f-e82aea2c97f4.csv   0          72   \n",
       "4    raw_data_d6107ceb-2f57-11ed-8d23-c86000e163af.csv   0          70   \n",
       "..                                                 ...  ..         ...   \n",
       "352  raw_data_1fdbcbf9-e072-11ec-9d67-ef54fcc0d655.csv   1          63   \n",
       "353  raw_data_83b398f9-2dcc-11ed-91ba-e82aea2c97f4.csv   0          62   \n",
       "354  raw_data_de9b38a1-1882-11ed-b91f-b469216ca443.csv   0          23   \n",
       "355  raw_data_9981a771-0cdd-11ed-9772-b469216ca443.csv   0          75   \n",
       "356  raw_data_148c7295-34c9-11ed-b265-e82aea2c97f4.csv   0          50   \n",
       "\n",
       "     пациент off/on  определенный диагноз врачом (0-5)  Age_cat_adult  \\\n",
       "0                 1                                  3              0   \n",
       "1                 0                                  0              0   \n",
       "2                 0                                  0              0   \n",
       "3                 1                                  3              0   \n",
       "4                 0                                  0              0   \n",
       "..              ...                                ...            ...   \n",
       "352               0                                  1              0   \n",
       "353               0                                  0              0   \n",
       "354               0                                  4              0   \n",
       "355               0                                  2              0   \n",
       "356               1                                  2              1   \n",
       "\n",
       "     Age_cat_child  Age_cat_elderly  Age_cat_teen   WRIST.x  ...  PINKY_PIP.z  \\\n",
       "0                0                1             0  0.255863  ...    -0.005047   \n",
       "1                0                0             1  0.418520  ...    -0.042731   \n",
       "2                0                1             0  0.474775  ...    -0.043887   \n",
       "3                0                1             0  0.536183  ...    -0.015841   \n",
       "4                0                1             0  0.267455  ...    -0.043808   \n",
       "..             ...              ...           ...       ...  ...          ...   \n",
       "352              0                1             0  0.232570  ...     0.006521   \n",
       "353              0                1             0  0.432942  ...    -0.033404   \n",
       "354              0                0             1  0.675450  ...    -0.021583   \n",
       "355              0                1             0  0.333978  ...    -0.024838   \n",
       "356              0                0             0  0.559817  ...    -0.032167   \n",
       "\n",
       "     PINKY_DIP.x  PINKY_DIP.y  PINKY_DIP.z  PINKY_TIP.x  PINKY_TIP.y  \\\n",
       "0       0.230889     0.397486    -0.008603     0.227497     0.376530   \n",
       "1       0.423058     0.566279    -0.042627     0.426090     0.579300   \n",
       "2       0.475586     0.499475    -0.041622     0.471721     0.517522   \n",
       "3       0.601529     0.644141    -0.015442     0.608953     0.653642   \n",
       "4       0.303528     0.507416    -0.038894     0.306380     0.512526   \n",
       "..           ...          ...          ...          ...          ...   \n",
       "352     0.186065     0.515488     0.004534     0.187042     0.519370   \n",
       "353     0.407960     0.480148    -0.032372     0.401623     0.488609   \n",
       "354     0.646885     0.528965    -0.022715     0.642233     0.532375   \n",
       "355     0.317346     0.594279    -0.025947     0.316356     0.607968   \n",
       "356     0.526236     0.341467    -0.028519     0.532607     0.344049   \n",
       "\n",
       "     PINKY_TIP.z       TIME  predictions                 pred  \n",
       "0      -0.011181   5.979599            3                кулак  \n",
       "1      -0.042171  10.361516            0  Постуральный тремор  \n",
       "2      -0.039065  10.207649            2  кинетический тремор  \n",
       "3      -0.015954   8.112292            3                кулак  \n",
       "4      -0.034337   9.697934            2  кинетический тремор  \n",
       "..           ...        ...          ...                  ...  \n",
       "352     0.003346  10.644290            3                кулак  \n",
       "353    -0.031513  10.012002            2  кинетический тремор  \n",
       "354    -0.023548  11.065553            2  кинетический тремор  \n",
       "355    -0.026553  11.326773            0  Постуральный тремор  \n",
       "356    -0.026154  12.417781            2  кинетический тремор  \n",
       "\n",
       "[357 rows x 75 columns]"
      ]
     },
     "execution_count": 50,
     "metadata": {},
     "output_type": "execute_result"
    }
   ],
   "source": [
    "new_test"
   ]
  },
  {
   "cell_type": "code",
   "execution_count": null,
   "metadata": {
    "id": "DJfh_e02vugh"
   },
   "outputs": [],
   "source": []
  },
  {
   "cell_type": "code",
   "execution_count": null,
   "metadata": {
    "colab": {
     "base_uri": "https://localhost:8080/",
     "height": 423
    },
    "id": "5Md-Y4R43bOK",
    "outputId": "b1b7131c-d97e-426f-cb8c-99e199f1ce23"
   },
   "outputs": [
    {
     "data": {
      "text/html": [
       "\n",
       "  <div id=\"df-5d7e8ed8-322e-414b-a305-9012d076f683\" class=\"colab-df-container\">\n",
       "    <div>\n",
       "<style scoped>\n",
       "    .dataframe tbody tr th:only-of-type {\n",
       "        vertical-align: middle;\n",
       "    }\n",
       "\n",
       "    .dataframe tbody tr th {\n",
       "        vertical-align: top;\n",
       "    }\n",
       "\n",
       "    .dataframe thead th {\n",
       "        text-align: right;\n",
       "    }\n",
       "</style>\n",
       "<table border=\"1\" class=\"dataframe\">\n",
       "  <thead>\n",
       "    <tr style=\"text-align: right;\">\n",
       "      <th></th>\n",
       "      <th>path</th>\n",
       "      <th>pred</th>\n",
       "    </tr>\n",
       "  </thead>\n",
       "  <tbody>\n",
       "    <tr>\n",
       "      <th>0</th>\n",
       "      <td>raw_data_61fbeecd-8ef7-11ec-a78a-58a023d3f6d9.csv</td>\n",
       "      <td>кулак</td>\n",
       "    </tr>\n",
       "    <tr>\n",
       "      <th>1</th>\n",
       "      <td>raw_data_41f438e7-8041-11ed-aa7b-e82aea2c97f4.csv</td>\n",
       "      <td>Постуральный тремор</td>\n",
       "    </tr>\n",
       "    <tr>\n",
       "      <th>2</th>\n",
       "      <td>raw_data_43b5ffcb-2dcc-11ed-a854-e82aea2c97f4.csv</td>\n",
       "      <td>кинетический тремор</td>\n",
       "    </tr>\n",
       "    <tr>\n",
       "      <th>3</th>\n",
       "      <td>raw_data_28cfe921-2452-11ed-934f-e82aea2c97f4.csv</td>\n",
       "      <td>кулак</td>\n",
       "    </tr>\n",
       "    <tr>\n",
       "      <th>4</th>\n",
       "      <td>raw_data_d6107ceb-2f57-11ed-8d23-c86000e163af.csv</td>\n",
       "      <td>кинетический тремор</td>\n",
       "    </tr>\n",
       "    <tr>\n",
       "      <th>...</th>\n",
       "      <td>...</td>\n",
       "      <td>...</td>\n",
       "    </tr>\n",
       "    <tr>\n",
       "      <th>352</th>\n",
       "      <td>raw_data_1fdbcbf9-e072-11ec-9d67-ef54fcc0d655.csv</td>\n",
       "      <td>кулак</td>\n",
       "    </tr>\n",
       "    <tr>\n",
       "      <th>353</th>\n",
       "      <td>raw_data_83b398f9-2dcc-11ed-91ba-e82aea2c97f4.csv</td>\n",
       "      <td>кинетический тремор</td>\n",
       "    </tr>\n",
       "    <tr>\n",
       "      <th>354</th>\n",
       "      <td>raw_data_de9b38a1-1882-11ed-b91f-b469216ca443.csv</td>\n",
       "      <td>кинетический тремор</td>\n",
       "    </tr>\n",
       "    <tr>\n",
       "      <th>355</th>\n",
       "      <td>raw_data_9981a771-0cdd-11ed-9772-b469216ca443.csv</td>\n",
       "      <td>Постуральный тремор</td>\n",
       "    </tr>\n",
       "    <tr>\n",
       "      <th>356</th>\n",
       "      <td>raw_data_148c7295-34c9-11ed-b265-e82aea2c97f4.csv</td>\n",
       "      <td>кинетический тремор</td>\n",
       "    </tr>\n",
       "  </tbody>\n",
       "</table>\n",
       "<p>357 rows × 2 columns</p>\n",
       "</div>\n",
       "    <div class=\"colab-df-buttons\">\n",
       "\n",
       "  <div class=\"colab-df-container\">\n",
       "    <button class=\"colab-df-convert\" onclick=\"convertToInteractive('df-5d7e8ed8-322e-414b-a305-9012d076f683')\"\n",
       "            title=\"Convert this dataframe to an interactive table.\"\n",
       "            style=\"display:none;\">\n",
       "\n",
       "  <svg xmlns=\"http://www.w3.org/2000/svg\" height=\"24px\" viewBox=\"0 -960 960 960\">\n",
       "    <path d=\"M120-120v-720h720v720H120Zm60-500h600v-160H180v160Zm220 220h160v-160H400v160Zm0 220h160v-160H400v160ZM180-400h160v-160H180v160Zm440 0h160v-160H620v160ZM180-180h160v-160H180v160Zm440 0h160v-160H620v160Z\"/>\n",
       "  </svg>\n",
       "    </button>\n",
       "\n",
       "  <style>\n",
       "    .colab-df-container {\n",
       "      display:flex;\n",
       "      gap: 12px;\n",
       "    }\n",
       "\n",
       "    .colab-df-convert {\n",
       "      background-color: #E8F0FE;\n",
       "      border: none;\n",
       "      border-radius: 50%;\n",
       "      cursor: pointer;\n",
       "      display: none;\n",
       "      fill: #1967D2;\n",
       "      height: 32px;\n",
       "      padding: 0 0 0 0;\n",
       "      width: 32px;\n",
       "    }\n",
       "\n",
       "    .colab-df-convert:hover {\n",
       "      background-color: #E2EBFA;\n",
       "      box-shadow: 0px 1px 2px rgba(60, 64, 67, 0.3), 0px 1px 3px 1px rgba(60, 64, 67, 0.15);\n",
       "      fill: #174EA6;\n",
       "    }\n",
       "\n",
       "    .colab-df-buttons div {\n",
       "      margin-bottom: 4px;\n",
       "    }\n",
       "\n",
       "    [theme=dark] .colab-df-convert {\n",
       "      background-color: #3B4455;\n",
       "      fill: #D2E3FC;\n",
       "    }\n",
       "\n",
       "    [theme=dark] .colab-df-convert:hover {\n",
       "      background-color: #434B5C;\n",
       "      box-shadow: 0px 1px 3px 1px rgba(0, 0, 0, 0.15);\n",
       "      filter: drop-shadow(0px 1px 2px rgba(0, 0, 0, 0.3));\n",
       "      fill: #FFFFFF;\n",
       "    }\n",
       "  </style>\n",
       "\n",
       "    <script>\n",
       "      const buttonEl =\n",
       "        document.querySelector('#df-5d7e8ed8-322e-414b-a305-9012d076f683 button.colab-df-convert');\n",
       "      buttonEl.style.display =\n",
       "        google.colab.kernel.accessAllowed ? 'block' : 'none';\n",
       "\n",
       "      async function convertToInteractive(key) {\n",
       "        const element = document.querySelector('#df-5d7e8ed8-322e-414b-a305-9012d076f683');\n",
       "        const dataTable =\n",
       "          await google.colab.kernel.invokeFunction('convertToInteractive',\n",
       "                                                    [key], {});\n",
       "        if (!dataTable) return;\n",
       "\n",
       "        const docLinkHtml = 'Like what you see? Visit the ' +\n",
       "          '<a target=\"_blank\" href=https://colab.research.google.com/notebooks/data_table.ipynb>data table notebook</a>'\n",
       "          + ' to learn more about interactive tables.';\n",
       "        element.innerHTML = '';\n",
       "        dataTable['output_type'] = 'display_data';\n",
       "        await google.colab.output.renderOutput(dataTable, element);\n",
       "        const docLink = document.createElement('div');\n",
       "        docLink.innerHTML = docLinkHtml;\n",
       "        element.appendChild(docLink);\n",
       "      }\n",
       "    </script>\n",
       "  </div>\n",
       "\n",
       "\n",
       "<div id=\"df-e05c6c08-610d-47be-84dc-108e3595164d\">\n",
       "  <button class=\"colab-df-quickchart\" onclick=\"quickchart('df-e05c6c08-610d-47be-84dc-108e3595164d')\"\n",
       "            title=\"Suggest charts.\"\n",
       "            style=\"display:none;\">\n",
       "\n",
       "<svg xmlns=\"http://www.w3.org/2000/svg\" height=\"24px\"viewBox=\"0 0 24 24\"\n",
       "     width=\"24px\">\n",
       "    <g>\n",
       "        <path d=\"M19 3H5c-1.1 0-2 .9-2 2v14c0 1.1.9 2 2 2h14c1.1 0 2-.9 2-2V5c0-1.1-.9-2-2-2zM9 17H7v-7h2v7zm4 0h-2V7h2v10zm4 0h-2v-4h2v4z\"/>\n",
       "    </g>\n",
       "</svg>\n",
       "  </button>\n",
       "\n",
       "<style>\n",
       "  .colab-df-quickchart {\n",
       "      --bg-color: #E8F0FE;\n",
       "      --fill-color: #1967D2;\n",
       "      --hover-bg-color: #E2EBFA;\n",
       "      --hover-fill-color: #174EA6;\n",
       "      --disabled-fill-color: #AAA;\n",
       "      --disabled-bg-color: #DDD;\n",
       "  }\n",
       "\n",
       "  [theme=dark] .colab-df-quickchart {\n",
       "      --bg-color: #3B4455;\n",
       "      --fill-color: #D2E3FC;\n",
       "      --hover-bg-color: #434B5C;\n",
       "      --hover-fill-color: #FFFFFF;\n",
       "      --disabled-bg-color: #3B4455;\n",
       "      --disabled-fill-color: #666;\n",
       "  }\n",
       "\n",
       "  .colab-df-quickchart {\n",
       "    background-color: var(--bg-color);\n",
       "    border: none;\n",
       "    border-radius: 50%;\n",
       "    cursor: pointer;\n",
       "    display: none;\n",
       "    fill: var(--fill-color);\n",
       "    height: 32px;\n",
       "    padding: 0;\n",
       "    width: 32px;\n",
       "  }\n",
       "\n",
       "  .colab-df-quickchart:hover {\n",
       "    background-color: var(--hover-bg-color);\n",
       "    box-shadow: 0 1px 2px rgba(60, 64, 67, 0.3), 0 1px 3px 1px rgba(60, 64, 67, 0.15);\n",
       "    fill: var(--button-hover-fill-color);\n",
       "  }\n",
       "\n",
       "  .colab-df-quickchart-complete:disabled,\n",
       "  .colab-df-quickchart-complete:disabled:hover {\n",
       "    background-color: var(--disabled-bg-color);\n",
       "    fill: var(--disabled-fill-color);\n",
       "    box-shadow: none;\n",
       "  }\n",
       "\n",
       "  .colab-df-spinner {\n",
       "    border: 2px solid var(--fill-color);\n",
       "    border-color: transparent;\n",
       "    border-bottom-color: var(--fill-color);\n",
       "    animation:\n",
       "      spin 1s steps(1) infinite;\n",
       "  }\n",
       "\n",
       "  @keyframes spin {\n",
       "    0% {\n",
       "      border-color: transparent;\n",
       "      border-bottom-color: var(--fill-color);\n",
       "      border-left-color: var(--fill-color);\n",
       "    }\n",
       "    20% {\n",
       "      border-color: transparent;\n",
       "      border-left-color: var(--fill-color);\n",
       "      border-top-color: var(--fill-color);\n",
       "    }\n",
       "    30% {\n",
       "      border-color: transparent;\n",
       "      border-left-color: var(--fill-color);\n",
       "      border-top-color: var(--fill-color);\n",
       "      border-right-color: var(--fill-color);\n",
       "    }\n",
       "    40% {\n",
       "      border-color: transparent;\n",
       "      border-right-color: var(--fill-color);\n",
       "      border-top-color: var(--fill-color);\n",
       "    }\n",
       "    60% {\n",
       "      border-color: transparent;\n",
       "      border-right-color: var(--fill-color);\n",
       "    }\n",
       "    80% {\n",
       "      border-color: transparent;\n",
       "      border-right-color: var(--fill-color);\n",
       "      border-bottom-color: var(--fill-color);\n",
       "    }\n",
       "    90% {\n",
       "      border-color: transparent;\n",
       "      border-bottom-color: var(--fill-color);\n",
       "    }\n",
       "  }\n",
       "</style>\n",
       "\n",
       "  <script>\n",
       "    async function quickchart(key) {\n",
       "      const quickchartButtonEl =\n",
       "        document.querySelector('#' + key + ' button');\n",
       "      quickchartButtonEl.disabled = true;  // To prevent multiple clicks.\n",
       "      quickchartButtonEl.classList.add('colab-df-spinner');\n",
       "      try {\n",
       "        const charts = await google.colab.kernel.invokeFunction(\n",
       "            'suggestCharts', [key], {});\n",
       "      } catch (error) {\n",
       "        console.error('Error during call to suggestCharts:', error);\n",
       "      }\n",
       "      quickchartButtonEl.classList.remove('colab-df-spinner');\n",
       "      quickchartButtonEl.classList.add('colab-df-quickchart-complete');\n",
       "    }\n",
       "    (() => {\n",
       "      let quickchartButtonEl =\n",
       "        document.querySelector('#df-e05c6c08-610d-47be-84dc-108e3595164d button');\n",
       "      quickchartButtonEl.style.display =\n",
       "        google.colab.kernel.accessAllowed ? 'block' : 'none';\n",
       "    })();\n",
       "  </script>\n",
       "</div>\n",
       "    </div>\n",
       "  </div>\n"
      ],
      "text/plain": [
       "                                                  path                 pred\n",
       "0    raw_data_61fbeecd-8ef7-11ec-a78a-58a023d3f6d9.csv                кулак\n",
       "1    raw_data_41f438e7-8041-11ed-aa7b-e82aea2c97f4.csv  Постуральный тремор\n",
       "2    raw_data_43b5ffcb-2dcc-11ed-a854-e82aea2c97f4.csv  кинетический тремор\n",
       "3    raw_data_28cfe921-2452-11ed-934f-e82aea2c97f4.csv                кулак\n",
       "4    raw_data_d6107ceb-2f57-11ed-8d23-c86000e163af.csv  кинетический тремор\n",
       "..                                                 ...                  ...\n",
       "352  raw_data_1fdbcbf9-e072-11ec-9d67-ef54fcc0d655.csv                кулак\n",
       "353  raw_data_83b398f9-2dcc-11ed-91ba-e82aea2c97f4.csv  кинетический тремор\n",
       "354  raw_data_de9b38a1-1882-11ed-b91f-b469216ca443.csv  кинетический тремор\n",
       "355  raw_data_9981a771-0cdd-11ed-9772-b469216ca443.csv  Постуральный тремор\n",
       "356  raw_data_148c7295-34c9-11ed-b265-e82aea2c97f4.csv  кинетический тремор\n",
       "\n",
       "[357 rows x 2 columns]"
      ]
     },
     "execution_count": 51,
     "metadata": {},
     "output_type": "execute_result"
    }
   ],
   "source": [
    "submit = pd.DataFrame(columns= ['path', 'pred'])\n",
    "submit['path'] = new_test['имя файла данных']\n",
    "submit['pred'] = new_test['pred']\n",
    "submit"
   ]
  },
  {
   "cell_type": "code",
   "execution_count": null,
   "metadata": {
    "id": "E5hjRKTl6YOm"
   },
   "outputs": [],
   "source": [
    "submit.to_csv(r'sample_submit.csv', index= False )"
   ]
  },
  {
   "cell_type": "markdown",
   "metadata": {
    "id": "i9iRMJl6-Igl"
   },
   "source": [
    "##  эксперимент Catboost"
   ]
  },
  {
   "cell_type": "code",
   "execution_count": null,
   "metadata": {
    "colab": {
     "base_uri": "https://localhost:8080/"
    },
    "id": "TfGcGULwFy8f",
    "outputId": "99319bb1-c996-4dc9-963a-7b63c0cdb12c"
   },
   "outputs": [
    {
     "name": "stdout",
     "output_type": "stream",
     "text": [
      "Collecting catboost\n",
      "  Downloading catboost-1.2.2-cp310-cp310-manylinux2014_x86_64.whl (98.7 MB)\n",
      "\u001b[2K     \u001b[90m━━━━━━━━━━━━━━━━━━━━━━━━━━━━━━━━━━━━━━━━\u001b[0m \u001b[32m98.7/98.7 MB\u001b[0m \u001b[31m8.6 MB/s\u001b[0m eta \u001b[36m0:00:00\u001b[0m\n",
      "\u001b[?25hRequirement already satisfied: graphviz in /usr/local/lib/python3.10/dist-packages (from catboost) (0.20.1)\n",
      "Requirement already satisfied: matplotlib in /usr/local/lib/python3.10/dist-packages (from catboost) (3.7.1)\n",
      "Requirement already satisfied: numpy>=1.16.0 in /usr/local/lib/python3.10/dist-packages (from catboost) (1.23.5)\n",
      "Requirement already satisfied: pandas>=0.24 in /usr/local/lib/python3.10/dist-packages (from catboost) (1.5.3)\n",
      "Requirement already satisfied: scipy in /usr/local/lib/python3.10/dist-packages (from catboost) (1.11.3)\n",
      "Requirement already satisfied: plotly in /usr/local/lib/python3.10/dist-packages (from catboost) (5.15.0)\n",
      "Requirement already satisfied: six in /usr/local/lib/python3.10/dist-packages (from catboost) (1.16.0)\n",
      "Requirement already satisfied: python-dateutil>=2.8.1 in /usr/local/lib/python3.10/dist-packages (from pandas>=0.24->catboost) (2.8.2)\n",
      "Requirement already satisfied: pytz>=2020.1 in /usr/local/lib/python3.10/dist-packages (from pandas>=0.24->catboost) (2023.3.post1)\n",
      "Requirement already satisfied: contourpy>=1.0.1 in /usr/local/lib/python3.10/dist-packages (from matplotlib->catboost) (1.1.1)\n",
      "Requirement already satisfied: cycler>=0.10 in /usr/local/lib/python3.10/dist-packages (from matplotlib->catboost) (0.12.1)\n",
      "Requirement already satisfied: fonttools>=4.22.0 in /usr/local/lib/python3.10/dist-packages (from matplotlib->catboost) (4.43.1)\n",
      "Requirement already satisfied: kiwisolver>=1.0.1 in /usr/local/lib/python3.10/dist-packages (from matplotlib->catboost) (1.4.5)\n",
      "Requirement already satisfied: packaging>=20.0 in /usr/local/lib/python3.10/dist-packages (from matplotlib->catboost) (23.2)\n",
      "Requirement already satisfied: pillow>=6.2.0 in /usr/local/lib/python3.10/dist-packages (from matplotlib->catboost) (9.4.0)\n",
      "Requirement already satisfied: pyparsing>=2.3.1 in /usr/local/lib/python3.10/dist-packages (from matplotlib->catboost) (3.1.1)\n",
      "Requirement already satisfied: tenacity>=6.2.0 in /usr/local/lib/python3.10/dist-packages (from plotly->catboost) (8.2.3)\n",
      "Installing collected packages: catboost\n",
      "Successfully installed catboost-1.2.2\n"
     ]
    }
   ],
   "source": [
    "!pip3 install catboost"
   ]
  },
  {
   "cell_type": "code",
   "execution_count": null,
   "metadata": {
    "id": "N1xTuPj9FsiT"
   },
   "outputs": [],
   "source": [
    "from catboost import CatBoostClassifier, Pool\n",
    "from catboost import CatBoostRegressor\n"
   ]
  },
  {
   "cell_type": "code",
   "execution_count": null,
   "metadata": {
    "colab": {
     "base_uri": "https://localhost:8080/",
     "height": 231,
     "referenced_widgets": [
      "fda4e99101674a04ac24cd8534e159cb"
     ]
    },
    "id": "53WqxdnOgKYR",
    "outputId": "1ed3379c-13cb-4f84-ae3a-7be35fb1548c"
   },
   "outputs": [
    {
     "data": {
      "application/vnd.jupyter.widget-view+json": {
       "model_id": "fda4e99101674a04ac24cd8534e159cb",
       "version_major": 2,
       "version_minor": 0
      },
      "text/plain": [
       "MetricVisualizer(layout=Layout(align_self='stretch', height='500px'))"
      ]
     },
     "metadata": {},
     "output_type": "display_data"
    },
    {
     "name": "stdout",
     "output_type": "stream",
     "text": [
      "0:\tlearn: 0.6891892\ttest: 0.5089820\tbest: 0.5089820 (0)\ttotal: 1.13s\tremaining: 18m 46s\n",
      "200:\tlearn: 0.7777778\ttest: 0.6107784\tbest: 0.6227545 (1)\ttotal: 3m 46s\tremaining: 15m 2s\n",
      "400:\tlearn: 0.7867868\ttest: 0.6167665\tbest: 0.6227545 (1)\ttotal: 7m 31s\tremaining: 11m 14s\n",
      "600:\tlearn: 0.7927928\ttest: 0.6227545\tbest: 0.6227545 (1)\ttotal: 11m 23s\tremaining: 7m 33s\n",
      "800:\tlearn: 0.8108108\ttest: 0.6227545\tbest: 0.6227545 (1)\ttotal: 15m 14s\tremaining: 3m 47s\n",
      "999:\tlearn: 0.8213213\ttest: 0.6167665\tbest: 0.6227545 (1)\ttotal: 19m 4s\tremaining: 0us\n",
      "\n",
      "bestTest = 0.622754491\n",
      "bestIteration = 1\n",
      "\n",
      "Shrink model to first 2 iterations.\n"
     ]
    },
    {
     "data": {
      "text/plain": [
       "<catboost.core.CatBoostClassifier at 0x7e35b0d51d20>"
      ]
     },
     "execution_count": 392,
     "metadata": {},
     "output_type": "execute_result"
    }
   ],
   "source": [
    "from catboost import CatBoostClassifier\n",
    "\n",
    "clf = CatBoostClassifier(\n",
    "    iterations=1000,\n",
    "    random_seed=42,\n",
    "    learning_rate=0.001,\n",
    "    # task_type = 'GPU',\n",
    "    eval_metric = 'Accuracy',\n",
    "    max_depth=10\n",
    "    # custom_loss=['Accuracy']\n",
    ")\n",
    "\n",
    "# clf = CatBoostClassifier()\n",
    "clf.fit(\n",
    "    X_train, y_train,\n",
    "    # cat_features=cat_features,\n",
    "    eval_set=(X_val, y_val),\n",
    "    verbose=200,\n",
    "    plot=True\n",
    ")\n"
   ]
  },
  {
   "cell_type": "code",
   "execution_count": null,
   "metadata": {
    "colab": {
     "base_uri": "https://localhost:8080/"
    },
    "id": "EZET8QdGkTbA",
    "outputId": "33664435-ebf5-4387-d543-8394f21d0376"
   },
   "outputs": [
    {
     "data": {
      "text/plain": [
       "{'learn': {'Accuracy': 0.8213213213213213, 'MultiClass': 1.1545578978895579},\n",
       " 'validation': {'Accuracy': 0.6227544910179641,\n",
       "  'MultiClass': 1.2740938160675412}}"
      ]
     },
     "execution_count": 393,
     "metadata": {},
     "output_type": "execute_result"
    }
   ],
   "source": [
    "clf.best_score_"
   ]
  },
  {
   "cell_type": "markdown",
   "metadata": {
    "id": "3NZHsDkCrSXs"
   },
   "source": [
    "## эксперимент pytorch"
   ]
  },
  {
   "cell_type": "code",
   "execution_count": null,
   "metadata": {
    "id": "MVjm2UNqeo-j"
   },
   "outputs": [],
   "source": [
    "X_train, X_val, y_train, y_val = train_test_split(np.asarray(X), np.asarray(y), train_size=0.75, random_state=42)"
   ]
  },
  {
   "cell_type": "code",
   "execution_count": null,
   "metadata": {
    "id": "_B4AJAwmeYfM"
   },
   "outputs": [],
   "source": [
    "class NpDataset(Dataset):\n",
    "    def __init__(self, data, label):\n",
    "        assert len(data) == len(label)\n",
    "        self.data = torch.from_numpy(data).float()\n",
    "        self.label = torch.from_numpy(label).long()\n",
    "\n",
    "    def __getitem__(self, index):\n",
    "        return self.data[index], self.label[index]\n",
    "\n",
    "    def __len__(self):\n",
    "        return len(self.label)"
   ]
  },
  {
   "cell_type": "code",
   "execution_count": null,
   "metadata": {
    "colab": {
     "base_uri": "https://localhost:8080/"
    },
    "id": "QaVw7KpGeYfM",
    "outputId": "ee0d6073-f85a-44f7-b5cb-2db55787f403"
   },
   "outputs": [
    {
     "data": {
      "text/plain": [
       "624"
      ]
     },
     "execution_count": 726,
     "metadata": {},
     "output_type": "execute_result"
    }
   ],
   "source": [
    "train_dataset = NpDataset(X_train, y_train)\n",
    "test_dataset = NpDataset(X_val, y_val)\n",
    "\n",
    "train_dataloader = DataLoader(\n",
    "    train_dataset,\n",
    "    batch_size=128,\n",
    "    shuffle=True\n",
    ")\n",
    "test_dataloader = DataLoader(\n",
    "    test_dataset,\n",
    "    batch_size=128,\n",
    "    shuffle=False\n",
    ")\n",
    "\n",
    "len(train_dataloader.dataset)"
   ]
  },
  {
   "cell_type": "code",
   "execution_count": null,
   "metadata": {
    "colab": {
     "base_uri": "https://localhost:8080/"
    },
    "id": "zt_SbI6teYfM",
    "outputId": "03e0565d-7293-49d4-b58b-87c1ca385ef4"
   },
   "outputs": [
    {
     "data": {
      "text/plain": [
       "209"
      ]
     },
     "execution_count": 667,
     "metadata": {},
     "output_type": "execute_result"
    }
   ],
   "source": [
    "len(test_dataloader.dataset)"
   ]
  },
  {
   "cell_type": "code",
   "execution_count": null,
   "metadata": {
    "colab": {
     "base_uri": "https://localhost:8080/"
    },
    "id": "riO_hwsPeYfM",
    "outputId": "857a93bd-4ca2-4fd7-efd4-1b47c03fb517"
   },
   "outputs": [
    {
     "name": "stdout",
     "output_type": "stream",
     "text": [
      "torch.Size([128, 69]) torch.Size([128])\n"
     ]
    }
   ],
   "source": [
    "# convert to an iterator and look at one random sample\n",
    "dataiter = iter(train_dataloader)\n",
    "data = next(dataiter)\n",
    "features, labels = data\n",
    "# print(features, labels)\n",
    "print(features.shape, labels.shape)"
   ]
  },
  {
   "cell_type": "code",
   "execution_count": null,
   "metadata": {
    "colab": {
     "base_uri": "https://localhost:8080/"
    },
    "id": "uchFpndveYfM",
    "outputId": "b9faecce-b9e1-4324-f2e8-6f24f7b45829"
   },
   "outputs": [
    {
     "name": "stdout",
     "output_type": "stream",
     "text": [
      "cpu\n"
     ]
    }
   ],
   "source": [
    "device = torch.device('cuda' if torch.cuda.is_available() else 'cpu')\n",
    "print(device)"
   ]
  },
  {
   "cell_type": "code",
   "execution_count": null,
   "metadata": {
    "colab": {
     "base_uri": "https://localhost:8080/"
    },
    "id": "hki100rzeYfM",
    "outputId": "279c37b9-5ec2-422c-b3b7-c47c9243004c"
   },
   "outputs": [
    {
     "data": {
      "text/plain": [
       "NN(\n",
       "  (fn1): Linear(in_features=69, out_features=4096, bias=True)\n",
       "  (bn1): BatchNorm1d(4096, eps=1e-05, momentum=0.1, affine=True, track_running_stats=True)\n",
       "  (dropout1): Dropout(p=0.25, inplace=False)\n",
       "  (fn2): Linear(in_features=4096, out_features=2048, bias=True)\n",
       "  (bn1_1): BatchNorm1d(2048, eps=1e-05, momentum=0.1, affine=True, track_running_stats=True)\n",
       "  (dropout1_1): Dropout(p=0.25, inplace=False)\n",
       "  (fn2_2): Linear(in_features=2048, out_features=1024, bias=True)\n",
       "  (bn2): BatchNorm1d(1024, eps=1e-05, momentum=0.1, affine=True, track_running_stats=True)\n",
       "  (dropout2): Dropout(p=0.25, inplace=False)\n",
       "  (fn3): Linear(in_features=1024, out_features=512, bias=True)\n",
       "  (bn3): BatchNorm1d(512, eps=1e-05, momentum=0.1, affine=True, track_running_stats=True)\n",
       "  (dropout3): Dropout(p=0.25, inplace=False)\n",
       "  (fn4): Linear(in_features=512, out_features=5, bias=True)\n",
       ")"
      ]
     },
     "execution_count": 740,
     "metadata": {},
     "output_type": "execute_result"
    }
   ],
   "source": [
    "class NN(nn.Module):\n",
    "    def __init__(self):\n",
    "        super(NN, self).__init__()\n",
    "\n",
    "        self.fn1 = nn.Linear(69, 4096)\n",
    "\n",
    "        self.bn1 = nn.BatchNorm1d(4096)\n",
    "        self.dropout1 =  nn.Dropout(p=0.25, inplace=False)\n",
    "        self.fn2 = nn.Linear(4096, 2048)\n",
    "\n",
    "        self.bn1_1 = nn.BatchNorm1d(2048)\n",
    "        self.dropout1_1 =  nn.Dropout(p=0.25, inplace=False)\n",
    "        self.fn2_2 = nn.Linear(2048, 1024)\n",
    "\n",
    "        self.bn2 = nn.BatchNorm1d(1024)\n",
    "        self.dropout2 =  nn.Dropout(p=0.25, inplace=False)\n",
    "        self.fn3 = nn.Linear(1024, 512)\n",
    "\n",
    "        self.bn3 = nn.BatchNorm1d(512)\n",
    "        self.dropout3 =  nn.Dropout(p=0.25, inplace=False)\n",
    "\n",
    "        self.fn4 = nn.Linear(512, 5)\n",
    "\n",
    "    def forward(self, x):\n",
    "        x = F.relu(self.fn1(x))\n",
    "        x = self.bn1(x)\n",
    "        x = self.dropout1(x)\n",
    "        x = F.relu(self.fn2(x))\n",
    "\n",
    "        x = self.bn1_1(x)\n",
    "        x = self.dropout1_1(x)\n",
    "        x = F.relu(self.fn2_2(x))\n",
    "\n",
    "        x = self.bn2(x)\n",
    "        x = self.dropout2(x)\n",
    "        x = F.relu(self.fn3(x))\n",
    "        x = self.bn3(x)\n",
    "        x = self.dropout3(x)\n",
    "        x = self.fn4(x)\n",
    "        return x\n",
    "\n",
    "model = NN()\n",
    "model.to(device)"
   ]
  },
  {
   "cell_type": "code",
   "execution_count": null,
   "metadata": {
    "id": "MsVpjYr_eYfN"
   },
   "outputs": [],
   "source": [
    "def train():\n",
    "    model.train()\n",
    "\n",
    "    for x, y in train_dataloader:\n",
    "        x = x.to(device)\n",
    "        y = y.to(device)\n",
    "        n = x.size(0)\n",
    "\n",
    "        optimizer.zero_grad()\n",
    "        score = model(x)\n",
    "        loss = loss_fn(score, y)\n",
    "\n",
    "        loss.backward()\n",
    "        optimizer.step()\n",
    "\n",
    "        predictions = score.max(1, keepdim=True)[1]\n",
    "        num_correct = predictions.eq(y.view_as(predictions)).sum().item()\n",
    "\n",
    "    acc = num_correct / n\n",
    "    return loss, acc"
   ]
  },
  {
   "cell_type": "code",
   "execution_count": null,
   "metadata": {
    "id": "3axhxY9SeYfN"
   },
   "outputs": [],
   "source": [
    "def evaluate():\n",
    "    model.eval()\n",
    "\n",
    "    with torch.no_grad():\n",
    "        for x, y in test_dataloader:\n",
    "            x = x.to(device)\n",
    "            y = y.to(device)\n",
    "            n = x.size(0)\n",
    "            score = model(x)\n",
    "            loss = loss_fn(score, y)\n",
    "            predictions = score.max(1, keepdim=True)[1]\n",
    "            num_correct = predictions.eq(y.view_as(predictions)).sum().item()\n",
    "\n",
    "    acc = num_correct / n\n",
    "    return loss, acc"
   ]
  },
  {
   "cell_type": "code",
   "execution_count": null,
   "metadata": {
    "id": "6AuKZc5CeYfM"
   },
   "outputs": [],
   "source": [
    "# learning_rate = 0.01\n",
    "# criterion = nn.BCELoss()\n",
    "# optimizer = torch.optim.SGD(model.parameters(), lr=learning_rate)\n",
    "\n",
    "loss_fn = nn.CrossEntropyLoss()\n",
    "optimizer = torch.optim.Adam(model.parameters(), lr=0.0001, betas=(0.9, 0.99), eps=1e-08, weight_decay=0.2, amsgrad=False)\n",
    "# optimizer = torch.optim.RMSprop(model.parameters(), lr=0.0001)\n",
    "# optimizer = torch.optim.SGD(model.parameters(), lr=0.001, momentum=0.9)\n",
    "\n",
    "\n",
    "\n",
    "# torch.optim.RMSprop(params, lr=0.01, alpha=0.99, eps=1e-08, weight_decay=0, momentum=0, centered=False, foreach=None, maximize=False, differentiable=False)\n",
    "\n"
   ]
  },
  {
   "cell_type": "code",
   "execution_count": null,
   "metadata": {
    "colab": {
     "base_uri": "https://localhost:8080/"
    },
    "id": "dXZfamYSeYfN",
    "outputId": "45f24cbb-c02c-45c8-ea63-7cf486e2448b"
   },
   "outputs": [
    {
     "name": "stdout",
     "output_type": "stream",
     "text": [
      "[0/200] Train loss:1.1711 acc:46.43% - Test loss:1.5536 acc:43.21%\n",
      "[1/200] Train loss:0.8772 acc:65.18% - Test loss:1.4456 acc:61.73%\n",
      "[2/200] Train loss:0.8817 acc:58.93% - Test loss:1.3004 acc:61.73%\n",
      "[3/200] Train loss:0.7975 acc:70.54% - Test loss:1.1401 acc:64.20%\n",
      "[4/200] Train loss:0.7332 acc:75.00% - Test loss:1.0014 acc:67.90%\n",
      "[5/200] Train loss:0.6236 acc:72.32% - Test loss:0.8706 acc:71.60%\n",
      "[6/200] Train loss:0.6163 acc:75.00% - Test loss:0.7868 acc:74.07%\n",
      "[7/200] Train loss:0.5190 acc:81.25% - Test loss:0.7226 acc:70.37%\n",
      "[8/200] Train loss:0.5569 acc:79.46% - Test loss:0.7039 acc:72.84%\n",
      "[9/200] Train loss:0.4673 acc:79.46% - Test loss:0.6344 acc:70.37%\n",
      "[10/200] Train loss:0.4798 acc:81.25% - Test loss:0.6158 acc:72.84%\n",
      "[11/200] Train loss:0.4813 acc:80.36% - Test loss:0.6279 acc:75.31%\n",
      "[12/200] Train loss:0.4245 acc:85.71% - Test loss:0.6240 acc:80.25%\n",
      "[13/200] Train loss:0.4607 acc:83.93% - Test loss:0.6849 acc:76.54%\n",
      "[14/200] Train loss:0.4095 acc:82.14% - Test loss:0.5825 acc:77.78%\n",
      "[15/200] Train loss:0.3289 acc:87.50% - Test loss:0.6623 acc:77.78%\n",
      "[16/200] Train loss:0.3914 acc:89.29% - Test loss:0.5957 acc:80.25%\n",
      "[17/200] Train loss:0.3294 acc:87.50% - Test loss:0.5756 acc:76.54%\n",
      "[18/200] Train loss:0.3343 acc:88.39% - Test loss:0.5824 acc:79.01%\n",
      "[19/200] Train loss:0.3974 acc:86.61% - Test loss:0.5575 acc:80.25%\n",
      "[20/200] Train loss:0.4418 acc:83.04% - Test loss:0.5487 acc:79.01%\n",
      "[21/200] Train loss:0.2672 acc:91.96% - Test loss:0.6056 acc:76.54%\n",
      "[22/200] Train loss:0.3636 acc:83.93% - Test loss:0.5784 acc:77.78%\n",
      "[23/200] Train loss:0.3086 acc:89.29% - Test loss:0.5313 acc:80.25%\n",
      "[24/200] Train loss:0.2812 acc:88.39% - Test loss:0.5975 acc:81.48%\n",
      "[25/200] Train loss:0.3005 acc:87.50% - Test loss:0.5574 acc:77.78%\n",
      "[26/200] Train loss:0.2797 acc:91.07% - Test loss:0.5842 acc:82.72%\n",
      "[27/200] Train loss:0.3303 acc:85.71% - Test loss:0.5303 acc:79.01%\n",
      "[28/200] Train loss:0.3772 acc:84.82% - Test loss:0.5786 acc:83.95%\n",
      "[29/200] Train loss:0.3165 acc:87.50% - Test loss:0.6026 acc:76.54%\n",
      "[30/200] Train loss:0.2221 acc:90.18% - Test loss:0.5674 acc:80.25%\n",
      "[31/200] Train loss:0.2024 acc:93.75% - Test loss:0.5588 acc:80.25%\n",
      "[32/200] Train loss:0.2432 acc:92.86% - Test loss:0.5786 acc:83.95%\n",
      "[33/200] Train loss:0.2269 acc:95.54% - Test loss:0.5628 acc:79.01%\n",
      "[34/200] Train loss:0.2285 acc:90.18% - Test loss:0.5829 acc:85.19%\n",
      "[35/200] Train loss:0.2973 acc:89.29% - Test loss:0.4905 acc:82.72%\n",
      "[36/200] Train loss:0.2276 acc:91.07% - Test loss:0.5369 acc:79.01%\n",
      "[37/200] Train loss:0.3569 acc:86.61% - Test loss:0.5588 acc:76.54%\n",
      "[38/200] Train loss:0.2502 acc:88.39% - Test loss:0.5438 acc:81.48%\n",
      "[39/200] Train loss:0.1601 acc:95.54% - Test loss:0.5493 acc:80.25%\n",
      "[40/200] Train loss:0.2738 acc:90.18% - Test loss:0.5616 acc:80.25%\n",
      "[41/200] Train loss:0.2577 acc:90.18% - Test loss:0.6392 acc:79.01%\n",
      "[42/200] Train loss:0.2386 acc:92.86% - Test loss:0.5938 acc:81.48%\n",
      "[43/200] Train loss:0.2824 acc:91.07% - Test loss:0.5948 acc:81.48%\n",
      "[44/200] Train loss:0.2520 acc:91.07% - Test loss:0.6477 acc:77.78%\n",
      "[45/200] Train loss:0.2154 acc:93.75% - Test loss:0.5796 acc:82.72%\n",
      "[46/200] Train loss:0.2177 acc:92.86% - Test loss:0.5034 acc:79.01%\n",
      "[47/200] Train loss:0.2541 acc:91.96% - Test loss:0.5296 acc:82.72%\n",
      "[48/200] Train loss:0.1783 acc:92.86% - Test loss:0.6497 acc:80.25%\n",
      "[49/200] Train loss:0.2558 acc:90.18% - Test loss:0.5324 acc:80.25%\n",
      "[50/200] Train loss:0.1537 acc:95.54% - Test loss:0.5608 acc:86.42%\n",
      "[51/200] Train loss:0.1349 acc:97.32% - Test loss:0.5216 acc:82.72%\n",
      "[52/200] Train loss:0.2537 acc:89.29% - Test loss:0.5021 acc:81.48%\n",
      "[53/200] Train loss:0.1640 acc:94.64% - Test loss:0.5310 acc:83.95%\n",
      "[54/200] Train loss:0.1543 acc:95.54% - Test loss:0.5625 acc:83.95%\n",
      "[55/200] Train loss:0.3256 acc:89.29% - Test loss:0.4764 acc:82.72%\n",
      "[56/200] Train loss:0.2307 acc:92.86% - Test loss:0.5188 acc:83.95%\n",
      "[57/200] Train loss:0.1813 acc:93.75% - Test loss:0.4653 acc:81.48%\n",
      "[58/200] Train loss:0.1290 acc:95.54% - Test loss:0.7193 acc:80.25%\n",
      "[59/200] Train loss:0.1694 acc:93.75% - Test loss:0.5358 acc:80.25%\n",
      "[60/200] Train loss:0.1432 acc:96.43% - Test loss:0.5524 acc:79.01%\n",
      "[61/200] Train loss:0.1978 acc:91.96% - Test loss:0.5280 acc:83.95%\n",
      "[62/200] Train loss:0.1913 acc:91.96% - Test loss:0.5216 acc:79.01%\n",
      "[63/200] Train loss:0.1535 acc:94.64% - Test loss:0.6098 acc:82.72%\n",
      "[64/200] Train loss:0.1530 acc:95.54% - Test loss:0.5292 acc:82.72%\n",
      "[65/200] Train loss:0.1701 acc:93.75% - Test loss:0.4782 acc:77.78%\n",
      "[66/200] Train loss:0.1611 acc:94.64% - Test loss:0.5267 acc:83.95%\n",
      "[67/200] Train loss:0.1626 acc:95.54% - Test loss:0.5475 acc:81.48%\n",
      "[68/200] Train loss:0.2484 acc:91.96% - Test loss:0.6460 acc:79.01%\n",
      "[69/200] Train loss:0.2385 acc:91.07% - Test loss:0.6691 acc:77.78%\n",
      "[70/200] Train loss:0.3342 acc:85.71% - Test loss:0.5888 acc:80.25%\n",
      "[71/200] Train loss:0.3769 acc:90.18% - Test loss:0.5475 acc:86.42%\n",
      "[72/200] Train loss:0.2273 acc:91.07% - Test loss:0.5491 acc:82.72%\n",
      "[73/200] Train loss:0.2128 acc:89.29% - Test loss:0.4958 acc:79.01%\n",
      "[74/200] Train loss:0.2642 acc:88.39% - Test loss:0.6644 acc:81.48%\n",
      "[75/200] Train loss:0.1492 acc:93.75% - Test loss:0.5349 acc:80.25%\n",
      "[76/200] Train loss:0.2051 acc:92.86% - Test loss:0.5482 acc:80.25%\n",
      "[77/200] Train loss:0.1749 acc:93.75% - Test loss:0.6875 acc:79.01%\n",
      "[78/200] Train loss:0.2145 acc:93.75% - Test loss:0.5000 acc:79.01%\n",
      "[79/200] Train loss:0.1036 acc:96.43% - Test loss:0.5449 acc:79.01%\n",
      "[80/200] Train loss:0.2276 acc:91.96% - Test loss:0.4403 acc:80.25%\n",
      "[81/200] Train loss:0.1573 acc:92.86% - Test loss:0.4867 acc:86.42%\n",
      "[82/200] Train loss:0.1784 acc:92.86% - Test loss:0.5633 acc:79.01%\n",
      "[83/200] Train loss:0.2029 acc:92.86% - Test loss:0.5945 acc:81.48%\n",
      "[84/200] Train loss:0.2703 acc:89.29% - Test loss:0.6620 acc:77.78%\n",
      "[85/200] Train loss:0.1519 acc:93.75% - Test loss:0.5857 acc:83.95%\n",
      "[86/200] Train loss:0.1301 acc:96.43% - Test loss:0.5153 acc:81.48%\n",
      "[87/200] Train loss:0.1290 acc:97.32% - Test loss:0.4984 acc:86.42%\n",
      "[88/200] Train loss:0.1438 acc:96.43% - Test loss:0.6170 acc:79.01%\n",
      "[89/200] Train loss:0.1203 acc:94.64% - Test loss:0.4979 acc:79.01%\n",
      "[90/200] Train loss:0.1453 acc:93.75% - Test loss:0.5885 acc:80.25%\n",
      "[91/200] Train loss:0.1496 acc:96.43% - Test loss:0.5643 acc:81.48%\n",
      "[92/200] Train loss:0.1977 acc:92.86% - Test loss:0.5632 acc:77.78%\n",
      "[93/200] Train loss:0.1649 acc:96.43% - Test loss:0.5851 acc:80.25%\n",
      "[94/200] Train loss:0.1294 acc:95.54% - Test loss:0.5290 acc:80.25%\n",
      "[95/200] Train loss:0.0909 acc:96.43% - Test loss:0.4740 acc:86.42%\n",
      "[96/200] Train loss:0.1117 acc:95.54% - Test loss:0.5471 acc:81.48%\n",
      "[97/200] Train loss:0.0684 acc:98.21% - Test loss:0.5221 acc:82.72%\n",
      "[98/200] Train loss:0.1134 acc:95.54% - Test loss:0.4558 acc:81.48%\n",
      "[99/200] Train loss:0.2393 acc:91.07% - Test loss:0.5146 acc:81.48%\n",
      "[100/200] Train loss:0.2106 acc:94.64% - Test loss:0.6836 acc:77.78%\n",
      "[101/200] Train loss:0.3179 acc:87.50% - Test loss:0.4370 acc:86.42%\n",
      "[102/200] Train loss:0.3187 acc:88.39% - Test loss:0.5896 acc:82.72%\n",
      "[103/200] Train loss:0.1535 acc:93.75% - Test loss:0.4880 acc:82.72%\n",
      "[104/200] Train loss:0.1625 acc:93.75% - Test loss:0.5508 acc:80.25%\n",
      "[105/200] Train loss:0.1424 acc:95.54% - Test loss:0.5280 acc:82.72%\n",
      "[106/200] Train loss:0.1078 acc:98.21% - Test loss:0.4394 acc:86.42%\n",
      "[107/200] Train loss:0.1636 acc:92.86% - Test loss:0.5086 acc:83.95%\n",
      "[108/200] Train loss:0.1999 acc:92.86% - Test loss:0.5366 acc:80.25%\n",
      "[109/200] Train loss:0.1757 acc:93.75% - Test loss:0.4457 acc:85.19%\n",
      "[110/200] Train loss:0.1996 acc:94.64% - Test loss:0.5350 acc:83.95%\n",
      "[111/200] Train loss:0.1716 acc:94.64% - Test loss:0.4863 acc:81.48%\n",
      "[112/200] Train loss:0.1318 acc:96.43% - Test loss:0.5464 acc:79.01%\n",
      "[113/200] Train loss:0.1072 acc:94.64% - Test loss:0.5227 acc:83.95%\n",
      "[114/200] Train loss:0.1864 acc:94.64% - Test loss:0.5215 acc:83.95%\n",
      "[115/200] Train loss:0.1412 acc:95.54% - Test loss:0.4478 acc:85.19%\n",
      "[116/200] Train loss:0.0916 acc:97.32% - Test loss:0.4660 acc:82.72%\n",
      "[117/200] Train loss:0.1548 acc:95.54% - Test loss:0.5851 acc:79.01%\n",
      "[118/200] Train loss:0.1223 acc:95.54% - Test loss:0.4438 acc:83.95%\n",
      "[119/200] Train loss:0.1664 acc:92.86% - Test loss:0.4979 acc:79.01%\n",
      "[120/200] Train loss:0.1524 acc:94.64% - Test loss:0.4677 acc:85.19%\n",
      "[121/200] Train loss:0.1222 acc:95.54% - Test loss:0.4716 acc:86.42%\n",
      "[122/200] Train loss:0.1248 acc:95.54% - Test loss:0.4468 acc:82.72%\n",
      "[123/200] Train loss:0.0995 acc:95.54% - Test loss:0.4497 acc:83.95%\n",
      "[124/200] Train loss:0.1194 acc:96.43% - Test loss:0.4726 acc:85.19%\n",
      "[125/200] Train loss:0.0889 acc:96.43% - Test loss:0.4531 acc:83.95%\n",
      "[126/200] Train loss:0.0935 acc:95.54% - Test loss:0.5377 acc:81.48%\n",
      "[127/200] Train loss:0.0793 acc:97.32% - Test loss:0.5888 acc:85.19%\n",
      "[128/200] Train loss:0.1964 acc:94.64% - Test loss:0.5929 acc:77.78%\n",
      "[129/200] Train loss:0.1728 acc:92.86% - Test loss:0.4448 acc:85.19%\n",
      "[130/200] Train loss:0.1079 acc:95.54% - Test loss:0.4116 acc:85.19%\n",
      "[131/200] Train loss:0.1274 acc:95.54% - Test loss:0.5247 acc:83.95%\n",
      "[132/200] Train loss:0.0930 acc:96.43% - Test loss:0.6297 acc:82.72%\n",
      "[133/200] Train loss:0.1464 acc:92.86% - Test loss:0.5554 acc:81.48%\n",
      "[134/200] Train loss:0.1321 acc:96.43% - Test loss:0.6023 acc:82.72%\n",
      "[135/200] Train loss:0.1499 acc:96.43% - Test loss:0.6573 acc:82.72%\n",
      "[136/200] Train loss:0.0726 acc:97.32% - Test loss:0.4785 acc:86.42%\n",
      "[137/200] Train loss:0.1246 acc:95.54% - Test loss:0.5035 acc:82.72%\n",
      "[138/200] Train loss:0.0547 acc:100.00% - Test loss:0.5237 acc:85.19%\n",
      "[139/200] Train loss:0.1693 acc:92.86% - Test loss:0.4881 acc:90.12%\n",
      "[140/200] Train loss:0.1493 acc:95.54% - Test loss:0.5095 acc:83.95%\n",
      "[141/200] Train loss:0.0861 acc:98.21% - Test loss:0.4438 acc:87.65%\n",
      "[142/200] Train loss:0.2119 acc:91.96% - Test loss:0.7361 acc:80.25%\n",
      "[143/200] Train loss:0.1563 acc:94.64% - Test loss:0.4318 acc:85.19%\n",
      "[144/200] Train loss:0.1733 acc:92.86% - Test loss:0.4815 acc:86.42%\n",
      "[145/200] Train loss:0.1489 acc:94.64% - Test loss:0.5183 acc:86.42%\n",
      "[146/200] Train loss:0.1814 acc:92.86% - Test loss:0.5369 acc:83.95%\n",
      "[147/200] Train loss:0.0429 acc:100.00% - Test loss:0.4984 acc:85.19%\n",
      "[148/200] Train loss:0.0606 acc:98.21% - Test loss:0.5305 acc:82.72%\n",
      "[149/200] Train loss:0.0784 acc:98.21% - Test loss:0.4270 acc:87.65%\n",
      "[150/200] Train loss:0.1103 acc:97.32% - Test loss:0.5310 acc:83.95%\n",
      "[151/200] Train loss:0.1112 acc:95.54% - Test loss:0.5034 acc:85.19%\n",
      "[152/200] Train loss:0.1483 acc:92.86% - Test loss:0.3555 acc:92.59%\n",
      "[153/200] Train loss:0.1351 acc:96.43% - Test loss:0.4734 acc:85.19%\n",
      "[154/200] Train loss:0.1870 acc:93.75% - Test loss:0.5077 acc:83.95%\n",
      "[155/200] Train loss:0.1796 acc:93.75% - Test loss:0.4595 acc:83.95%\n",
      "[156/200] Train loss:0.1300 acc:95.54% - Test loss:0.5066 acc:86.42%\n",
      "[157/200] Train loss:0.1804 acc:93.75% - Test loss:0.5001 acc:87.65%\n",
      "[158/200] Train loss:0.1145 acc:96.43% - Test loss:0.5932 acc:79.01%\n",
      "[159/200] Train loss:0.0810 acc:97.32% - Test loss:0.3503 acc:90.12%\n",
      "[160/200] Train loss:0.1437 acc:94.64% - Test loss:0.5651 acc:81.48%\n",
      "[161/200] Train loss:0.1192 acc:95.54% - Test loss:0.5310 acc:85.19%\n",
      "[162/200] Train loss:0.1562 acc:95.54% - Test loss:0.5155 acc:85.19%\n",
      "[163/200] Train loss:0.1290 acc:96.43% - Test loss:0.5231 acc:85.19%\n",
      "[164/200] Train loss:0.1381 acc:95.54% - Test loss:0.4748 acc:83.95%\n",
      "[165/200] Train loss:0.1038 acc:95.54% - Test loss:0.5925 acc:80.25%\n",
      "[166/200] Train loss:0.2676 acc:90.18% - Test loss:0.4525 acc:85.19%\n",
      "[167/200] Train loss:0.1186 acc:93.75% - Test loss:0.5857 acc:81.48%\n",
      "[168/200] Train loss:0.3051 acc:87.50% - Test loss:0.5301 acc:83.95%\n",
      "[169/200] Train loss:0.1304 acc:95.54% - Test loss:0.5494 acc:82.72%\n",
      "[170/200] Train loss:0.2048 acc:91.07% - Test loss:0.6249 acc:77.78%\n",
      "[171/200] Train loss:0.1696 acc:95.54% - Test loss:0.5085 acc:82.72%\n",
      "[172/200] Train loss:0.1231 acc:94.64% - Test loss:0.4836 acc:80.25%\n",
      "[173/200] Train loss:0.1193 acc:94.64% - Test loss:0.5132 acc:85.19%\n",
      "[174/200] Train loss:0.1777 acc:93.75% - Test loss:0.5683 acc:83.95%\n",
      "[175/200] Train loss:0.1558 acc:96.43% - Test loss:0.5480 acc:83.95%\n",
      "[176/200] Train loss:0.1302 acc:95.54% - Test loss:0.5826 acc:81.48%\n",
      "[177/200] Train loss:0.0561 acc:100.00% - Test loss:0.5516 acc:80.25%\n",
      "[178/200] Train loss:0.1362 acc:94.64% - Test loss:0.4774 acc:87.65%\n",
      "[179/200] Train loss:0.1309 acc:92.86% - Test loss:0.3846 acc:90.12%\n",
      "[180/200] Train loss:0.1332 acc:92.86% - Test loss:0.3839 acc:88.89%\n",
      "[181/200] Train loss:0.0772 acc:97.32% - Test loss:0.4217 acc:83.95%\n",
      "[182/200] Train loss:0.0901 acc:96.43% - Test loss:0.5488 acc:81.48%\n",
      "[183/200] Train loss:0.1351 acc:94.64% - Test loss:0.4163 acc:85.19%\n",
      "[184/200] Train loss:0.1395 acc:93.75% - Test loss:0.4443 acc:87.65%\n",
      "[185/200] Train loss:0.1291 acc:95.54% - Test loss:0.5139 acc:86.42%\n",
      "[186/200] Train loss:0.2873 acc:93.75% - Test loss:0.5025 acc:87.65%\n",
      "[187/200] Train loss:0.1262 acc:96.43% - Test loss:0.4474 acc:85.19%\n",
      "[188/200] Train loss:0.0703 acc:99.11% - Test loss:0.5090 acc:85.19%\n",
      "[189/200] Train loss:0.1069 acc:97.32% - Test loss:0.4059 acc:87.65%\n",
      "[190/200] Train loss:0.1665 acc:93.75% - Test loss:0.4749 acc:83.95%\n",
      "[191/200] Train loss:0.0648 acc:98.21% - Test loss:0.5382 acc:86.42%\n",
      "[192/200] Train loss:0.1428 acc:95.54% - Test loss:0.4839 acc:83.95%\n",
      "[193/200] Train loss:0.0919 acc:97.32% - Test loss:0.5319 acc:83.95%\n",
      "[194/200] Train loss:0.0748 acc:98.21% - Test loss:0.4782 acc:83.95%\n",
      "[195/200] Train loss:0.1175 acc:97.32% - Test loss:0.4220 acc:87.65%\n",
      "[196/200] Train loss:0.0482 acc:99.11% - Test loss:0.4470 acc:85.19%\n",
      "[197/200] Train loss:0.0396 acc:99.11% - Test loss:0.4558 acc:87.65%\n",
      "[198/200] Train loss:0.0812 acc:97.32% - Test loss:0.4396 acc:85.19%\n",
      "[199/200] Train loss:0.0795 acc:97.32% - Test loss:0.5069 acc:83.95%\n"
     ]
    }
   ],
   "source": [
    "max_epochs = 200\n",
    "accuracy = []\n",
    "loss = []\n",
    "for epoch in range(max_epochs):\n",
    "    tr_loss, tr_acc = train()\n",
    "    eva_loss, eva_acc = evaluate()\n",
    "    accuracy.append(round((eva_acc*100), 2))\n",
    "    loss.append(eva_loss.numpy())\n",
    "\n",
    "    print(f'[{epoch}/{max_epochs}] Train loss:{tr_loss:.4f} acc:{tr_acc*100:.2f}% - Test loss:{eva_loss:.4f} acc:{eva_acc*100:.2f}%')"
   ]
  },
  {
   "cell_type": "code",
   "execution_count": null,
   "metadata": {
    "colab": {
     "base_uri": "https://localhost:8080/"
    },
    "id": "KK9oJ-bXeYfN",
    "outputId": "0e1ef2d1-af04-469d-9601-b16cb23b5619"
   },
   "outputs": [
    {
     "data": {
      "text/plain": [
       "92.59"
      ]
     },
     "execution_count": 743,
     "metadata": {},
     "output_type": "execute_result"
    }
   ],
   "source": [
    "max(accuracy)\n"
   ]
  },
  {
   "cell_type": "code",
   "execution_count": null,
   "metadata": {
    "id": "symrhb2peYfN"
   },
   "outputs": [],
   "source": [
    "def loss_plt(loss):\n",
    "    plt.figure(figsize=(7, 4))\n",
    "\n",
    "    plt.plot(loss, label = 'val_loss')\n",
    "    # plt.plot(accuracy, label = 'val_acc')\n",
    "\n",
    "\n",
    "    plt.title('Loss by epoch iterations')\n",
    "    plt.ylabel('Entropy Loss')\n",
    "    plt.xlabel('epoch')\n",
    "    plt.legend()\n",
    "    plt.show()"
   ]
  },
  {
   "cell_type": "code",
   "execution_count": null,
   "metadata": {
    "colab": {
     "base_uri": "https://localhost:8080/",
     "height": 410
    },
    "id": "Jd244pxMeYfN",
    "outputId": "a8aaed8e-3bf3-420e-c26c-876aa689eac1"
   },
   "outputs": [
    {
     "data": {
      "image/png": "[encoded data removed]",
      "text/plain": [
       "<Figure size 700x400 with 1 Axes>"
      ]
     },
     "metadata": {},
     "output_type": "display_data"
    }
   ],
   "source": [
    "loss_plt(loss)"
   ]
  },
  {
   "cell_type": "code",
   "execution_count": null,
   "metadata": {
    "id": "M8psV5UbjQO3"
   },
   "outputs": [],
   "source": [
    "xtest = np.asarray(X_test)"
   ]
  },
  {
   "cell_type": "code",
   "execution_count": null,
   "metadata": {
    "colab": {
     "base_uri": "https://localhost:8080/"
    },
    "id": "8pvEDZnVjapa",
    "outputId": "c8b2ef76-4983-4fa8-f69d-0c688b7d1517"
   },
   "outputs": [
    {
     "data": {
      "text/plain": [
       "NN(\n",
       "  (fn1): Linear(in_features=69, out_features=1024, bias=True)\n",
       "  (bn1): BatchNorm1d(1024, eps=1e-05, momentum=0.1, affine=True, track_running_stats=True)\n",
       "  (dropout1): Dropout(p=0.25, inplace=False)\n",
       "  (fn2): Linear(in_features=1024, out_features=512, bias=True)\n",
       "  (bn1_1): BatchNorm1d(512, eps=1e-05, momentum=0.1, affine=True, track_running_stats=True)\n",
       "  (dropout1_1): Dropout(p=0.25, inplace=False)\n",
       "  (fn2_2): Linear(in_features=512, out_features=256, bias=True)\n",
       "  (bn2): BatchNorm1d(256, eps=1e-05, momentum=0.1, affine=True, track_running_stats=True)\n",
       "  (dropout2): Dropout(p=0.25, inplace=False)\n",
       "  (fn3): Linear(in_features=256, out_features=128, bias=True)\n",
       "  (bn3): BatchNorm1d(128, eps=1e-05, momentum=0.1, affine=True, track_running_stats=True)\n",
       "  (dropout3): Dropout(p=0.25, inplace=False)\n",
       "  (fn4): Linear(in_features=128, out_features=5, bias=True)\n",
       ")"
      ]
     },
     "execution_count": 718,
     "metadata": {},
     "output_type": "execute_result"
    }
   ],
   "source": [
    "model"
   ]
  },
  {
   "cell_type": "code",
   "execution_count": null,
   "metadata": {
    "colab": {
     "base_uri": "https://localhost:8080/"
    },
    "id": "m2Zl-ZY9i0d5",
    "outputId": "45632878-3786-4720-a3a0-d235c7a41070"
   },
   "outputs": [
    {
     "data": {
      "text/plain": [
       "357"
      ]
     },
     "execution_count": 719,
     "metadata": {},
     "output_type": "execute_result"
    }
   ],
   "source": [
    "# pred_torch =  model(torch.from_numpy(data[0]).float().unsqueeze(0)).max(1, keepdim=True)[1]\n",
    "res = []\n",
    "pred_torch =  model(torch.from_numpy(xtest).float()).max(1, keepdim=True)[1]\n",
    "for i in pred_torch:\n",
    "    res.append(int(i))\n",
    "\n",
    "len(res)"
   ]
  },
  {
   "cell_type": "markdown",
   "metadata": {
    "id": "8yoczi2n9NVn"
   },
   "source": [
    "## эксперимент с эмбеддингами"
   ]
  },
  {
   "cell_type": "code",
   "execution_count": null,
   "metadata": {
    "id": "jjWK8bz2zf9Z"
   },
   "outputs": [],
   "source": [
    "# making all variables categorical\n",
    "for col in X.columns:\n",
    "    X[col] = X[col].astype('category')"
   ]
  },
  {
   "cell_type": "code",
   "execution_count": null,
   "metadata": {
    "colab": {
     "base_uri": "https://localhost:8080/"
    },
    "id": "0reD6unawCAa",
    "outputId": "2df87133-fcf2-41cc-8ad8-2ce2e2a928dc"
   },
   "outputs": [
    {
     "data": {
      "text/plain": [
       "{'пациент off/on': 2,\n",
       " 'определенный диагноз врачом (0-5)': 5,\n",
       " 'Age_cat_adult': 2,\n",
       " 'Age_cat_child': 2,\n",
       " 'Age_cat_elderly': 2,\n",
       " 'Age_cat_teen': 2}"
      ]
     },
     "execution_count": 191,
     "metadata": {},
     "output_type": "execute_result"
    }
   ],
   "source": [
    "embedded_cols = {n: len(col.cat.categories) for n,col in X.items() if (len(col.cat.categories) > 1) and (len(col.cat.categories) < 10) }\n",
    "embedded_cols"
   ]
  },
  {
   "cell_type": "code",
   "execution_count": null,
   "metadata": {
    "colab": {
     "base_uri": "https://localhost:8080/"
    },
    "id": "77w2SuTe1hap",
    "outputId": "3f9beee6-f7c8-4567-9022-aa49281b940d"
   },
   "outputs": [
    {
     "data": {
      "text/plain": [
       "63"
      ]
     },
     "execution_count": 192,
     "metadata": {},
     "output_type": "execute_result"
    }
   ],
   "source": [
    "embedded_col_names = embedded_cols.keys()\n",
    "len(X.columns) - len(embedded_cols) #number of numerical columns"
   ]
  },
  {
   "cell_type": "code",
   "execution_count": null,
   "metadata": {
    "colab": {
     "base_uri": "https://localhost:8080/",
     "height": 424
    },
    "id": "vQqIna-K61rV",
    "outputId": "2ef332d9-aeb8-41ec-9125-5def5bd84639"
   },
   "outputs": [
    {
     "data": {
      "text/html": [
       "\n",
       "  <div id=\"df-503e5901-5738-4a38-9e62-e4b130a11ab6\" class=\"colab-df-container\">\n",
       "    <div>\n",
       "<style scoped>\n",
       "    .dataframe tbody tr th:only-of-type {\n",
       "        vertical-align: middle;\n",
       "    }\n",
       "\n",
       "    .dataframe tbody tr th {\n",
       "        vertical-align: top;\n",
       "    }\n",
       "\n",
       "    .dataframe thead th {\n",
       "        text-align: right;\n",
       "    }\n",
       "</style>\n",
       "<table border=\"1\" class=\"dataframe\">\n",
       "  <thead>\n",
       "    <tr style=\"text-align: right;\">\n",
       "      <th></th>\n",
       "      <th>пациент off/on</th>\n",
       "      <th>определенный диагноз врачом (0-5)</th>\n",
       "      <th>Age_cat_adult</th>\n",
       "      <th>Age_cat_child</th>\n",
       "      <th>Age_cat_elderly</th>\n",
       "      <th>Age_cat_teen</th>\n",
       "    </tr>\n",
       "  </thead>\n",
       "  <tbody>\n",
       "    <tr>\n",
       "      <th>0</th>\n",
       "      <td>0</td>\n",
       "      <td>1</td>\n",
       "      <td>1</td>\n",
       "      <td>0</td>\n",
       "      <td>0</td>\n",
       "      <td>0</td>\n",
       "    </tr>\n",
       "    <tr>\n",
       "      <th>1</th>\n",
       "      <td>1</td>\n",
       "      <td>0</td>\n",
       "      <td>0</td>\n",
       "      <td>0</td>\n",
       "      <td>1</td>\n",
       "      <td>0</td>\n",
       "    </tr>\n",
       "    <tr>\n",
       "      <th>2</th>\n",
       "      <td>1</td>\n",
       "      <td>0</td>\n",
       "      <td>0</td>\n",
       "      <td>0</td>\n",
       "      <td>1</td>\n",
       "      <td>0</td>\n",
       "    </tr>\n",
       "    <tr>\n",
       "      <th>3</th>\n",
       "      <td>0</td>\n",
       "      <td>1</td>\n",
       "      <td>0</td>\n",
       "      <td>0</td>\n",
       "      <td>0</td>\n",
       "      <td>1</td>\n",
       "    </tr>\n",
       "    <tr>\n",
       "      <th>4</th>\n",
       "      <td>0</td>\n",
       "      <td>2</td>\n",
       "      <td>0</td>\n",
       "      <td>0</td>\n",
       "      <td>0</td>\n",
       "      <td>1</td>\n",
       "    </tr>\n",
       "    <tr>\n",
       "      <th>...</th>\n",
       "      <td>...</td>\n",
       "      <td>...</td>\n",
       "      <td>...</td>\n",
       "      <td>...</td>\n",
       "      <td>...</td>\n",
       "      <td>...</td>\n",
       "    </tr>\n",
       "    <tr>\n",
       "      <th>828</th>\n",
       "      <td>1</td>\n",
       "      <td>0</td>\n",
       "      <td>0</td>\n",
       "      <td>0</td>\n",
       "      <td>1</td>\n",
       "      <td>0</td>\n",
       "    </tr>\n",
       "    <tr>\n",
       "      <th>829</th>\n",
       "      <td>1</td>\n",
       "      <td>3</td>\n",
       "      <td>0</td>\n",
       "      <td>0</td>\n",
       "      <td>1</td>\n",
       "      <td>0</td>\n",
       "    </tr>\n",
       "    <tr>\n",
       "      <th>830</th>\n",
       "      <td>0</td>\n",
       "      <td>0</td>\n",
       "      <td>0</td>\n",
       "      <td>0</td>\n",
       "      <td>1</td>\n",
       "      <td>0</td>\n",
       "    </tr>\n",
       "    <tr>\n",
       "      <th>831</th>\n",
       "      <td>1</td>\n",
       "      <td>0</td>\n",
       "      <td>0</td>\n",
       "      <td>0</td>\n",
       "      <td>1</td>\n",
       "      <td>0</td>\n",
       "    </tr>\n",
       "    <tr>\n",
       "      <th>832</th>\n",
       "      <td>0</td>\n",
       "      <td>0</td>\n",
       "      <td>0</td>\n",
       "      <td>0</td>\n",
       "      <td>0</td>\n",
       "      <td>1</td>\n",
       "    </tr>\n",
       "  </tbody>\n",
       "</table>\n",
       "<p>833 rows × 6 columns</p>\n",
       "</div>\n",
       "    <div class=\"colab-df-buttons\">\n",
       "\n",
       "  <div class=\"colab-df-container\">\n",
       "    <button class=\"colab-df-convert\" onclick=\"convertToInteractive('df-503e5901-5738-4a38-9e62-e4b130a11ab6')\"\n",
       "            title=\"Convert this dataframe to an interactive table.\"\n",
       "            style=\"display:none;\">\n",
       "\n",
       "  <svg xmlns=\"http://www.w3.org/2000/svg\" height=\"24px\" viewBox=\"0 -960 960 960\">\n",
       "    <path d=\"M120-120v-720h720v720H120Zm60-500h600v-160H180v160Zm220 220h160v-160H400v160Zm0 220h160v-160H400v160ZM180-400h160v-160H180v160Zm440 0h160v-160H620v160ZM180-180h160v-160H180v160Zm440 0h160v-160H620v160Z\"/>\n",
       "  </svg>\n",
       "    </button>\n",
       "\n",
       "  <style>\n",
       "    .colab-df-container {\n",
       "      display:flex;\n",
       "      gap: 12px;\n",
       "    }\n",
       "\n",
       "    .colab-df-convert {\n",
       "      background-color: #E8F0FE;\n",
       "      border: none;\n",
       "      border-radius: 50%;\n",
       "      cursor: pointer;\n",
       "      display: none;\n",
       "      fill: #1967D2;\n",
       "      height: 32px;\n",
       "      padding: 0 0 0 0;\n",
       "      width: 32px;\n",
       "    }\n",
       "\n",
       "    .colab-df-convert:hover {\n",
       "      background-color: #E2EBFA;\n",
       "      box-shadow: 0px 1px 2px rgba(60, 64, 67, 0.3), 0px 1px 3px 1px rgba(60, 64, 67, 0.15);\n",
       "      fill: #174EA6;\n",
       "    }\n",
       "\n",
       "    .colab-df-buttons div {\n",
       "      margin-bottom: 4px;\n",
       "    }\n",
       "\n",
       "    [theme=dark] .colab-df-convert {\n",
       "      background-color: #3B4455;\n",
       "      fill: #D2E3FC;\n",
       "    }\n",
       "\n",
       "    [theme=dark] .colab-df-convert:hover {\n",
       "      background-color: #434B5C;\n",
       "      box-shadow: 0px 1px 3px 1px rgba(0, 0, 0, 0.15);\n",
       "      filter: drop-shadow(0px 1px 2px rgba(0, 0, 0, 0.3));\n",
       "      fill: #FFFFFF;\n",
       "    }\n",
       "  </style>\n",
       "\n",
       "    <script>\n",
       "      const buttonEl =\n",
       "        document.querySelector('#df-503e5901-5738-4a38-9e62-e4b130a11ab6 button.colab-df-convert');\n",
       "      buttonEl.style.display =\n",
       "        google.colab.kernel.accessAllowed ? 'block' : 'none';\n",
       "\n",
       "      async function convertToInteractive(key) {\n",
       "        const element = document.querySelector('#df-503e5901-5738-4a38-9e62-e4b130a11ab6');\n",
       "        const dataTable =\n",
       "          await google.colab.kernel.invokeFunction('convertToInteractive',\n",
       "                                                    [key], {});\n",
       "        if (!dataTable) return;\n",
       "\n",
       "        const docLinkHtml = 'Like what you see? Visit the ' +\n",
       "          '<a target=\"_blank\" href=https://colab.research.google.com/notebooks/data_table.ipynb>data table notebook</a>'\n",
       "          + ' to learn more about interactive tables.';\n",
       "        element.innerHTML = '';\n",
       "        dataTable['output_type'] = 'display_data';\n",
       "        await google.colab.output.renderOutput(dataTable, element);\n",
       "        const docLink = document.createElement('div');\n",
       "        docLink.innerHTML = docLinkHtml;\n",
       "        element.appendChild(docLink);\n",
       "      }\n",
       "    </script>\n",
       "  </div>\n",
       "\n",
       "\n",
       "<div id=\"df-d56c70dd-e1a2-4cdb-a620-483b2d4dbb40\">\n",
       "  <button class=\"colab-df-quickchart\" onclick=\"quickchart('df-d56c70dd-e1a2-4cdb-a620-483b2d4dbb40')\"\n",
       "            title=\"Suggest charts.\"\n",
       "            style=\"display:none;\">\n",
       "\n",
       "<svg xmlns=\"http://www.w3.org/2000/svg\" height=\"24px\"viewBox=\"0 0 24 24\"\n",
       "     width=\"24px\">\n",
       "    <g>\n",
       "        <path d=\"M19 3H5c-1.1 0-2 .9-2 2v14c0 1.1.9 2 2 2h14c1.1 0 2-.9 2-2V5c0-1.1-.9-2-2-2zM9 17H7v-7h2v7zm4 0h-2V7h2v10zm4 0h-2v-4h2v4z\"/>\n",
       "    </g>\n",
       "</svg>\n",
       "  </button>\n",
       "\n",
       "<style>\n",
       "  .colab-df-quickchart {\n",
       "      --bg-color: #E8F0FE;\n",
       "      --fill-color: #1967D2;\n",
       "      --hover-bg-color: #E2EBFA;\n",
       "      --hover-fill-color: #174EA6;\n",
       "      --disabled-fill-color: #AAA;\n",
       "      --disabled-bg-color: #DDD;\n",
       "  }\n",
       "\n",
       "  [theme=dark] .colab-df-quickchart {\n",
       "      --bg-color: #3B4455;\n",
       "      --fill-color: #D2E3FC;\n",
       "      --hover-bg-color: #434B5C;\n",
       "      --hover-fill-color: #FFFFFF;\n",
       "      --disabled-bg-color: #3B4455;\n",
       "      --disabled-fill-color: #666;\n",
       "  }\n",
       "\n",
       "  .colab-df-quickchart {\n",
       "    background-color: var(--bg-color);\n",
       "    border: none;\n",
       "    border-radius: 50%;\n",
       "    cursor: pointer;\n",
       "    display: none;\n",
       "    fill: var(--fill-color);\n",
       "    height: 32px;\n",
       "    padding: 0;\n",
       "    width: 32px;\n",
       "  }\n",
       "\n",
       "  .colab-df-quickchart:hover {\n",
       "    background-color: var(--hover-bg-color);\n",
       "    box-shadow: 0 1px 2px rgba(60, 64, 67, 0.3), 0 1px 3px 1px rgba(60, 64, 67, 0.15);\n",
       "    fill: var(--button-hover-fill-color);\n",
       "  }\n",
       "\n",
       "  .colab-df-quickchart-complete:disabled,\n",
       "  .colab-df-quickchart-complete:disabled:hover {\n",
       "    background-color: var(--disabled-bg-color);\n",
       "    fill: var(--disabled-fill-color);\n",
       "    box-shadow: none;\n",
       "  }\n",
       "\n",
       "  .colab-df-spinner {\n",
       "    border: 2px solid var(--fill-color);\n",
       "    border-color: transparent;\n",
       "    border-bottom-color: var(--fill-color);\n",
       "    animation:\n",
       "      spin 1s steps(1) infinite;\n",
       "  }\n",
       "\n",
       "  @keyframes spin {\n",
       "    0% {\n",
       "      border-color: transparent;\n",
       "      border-bottom-color: var(--fill-color);\n",
       "      border-left-color: var(--fill-color);\n",
       "    }\n",
       "    20% {\n",
       "      border-color: transparent;\n",
       "      border-left-color: var(--fill-color);\n",
       "      border-top-color: var(--fill-color);\n",
       "    }\n",
       "    30% {\n",
       "      border-color: transparent;\n",
       "      border-left-color: var(--fill-color);\n",
       "      border-top-color: var(--fill-color);\n",
       "      border-right-color: var(--fill-color);\n",
       "    }\n",
       "    40% {\n",
       "      border-color: transparent;\n",
       "      border-right-color: var(--fill-color);\n",
       "      border-top-color: var(--fill-color);\n",
       "    }\n",
       "    60% {\n",
       "      border-color: transparent;\n",
       "      border-right-color: var(--fill-color);\n",
       "    }\n",
       "    80% {\n",
       "      border-color: transparent;\n",
       "      border-right-color: var(--fill-color);\n",
       "      border-bottom-color: var(--fill-color);\n",
       "    }\n",
       "    90% {\n",
       "      border-color: transparent;\n",
       "      border-bottom-color: var(--fill-color);\n",
       "    }\n",
       "  }\n",
       "</style>\n",
       "\n",
       "  <script>\n",
       "    async function quickchart(key) {\n",
       "      const quickchartButtonEl =\n",
       "        document.querySelector('#' + key + ' button');\n",
       "      quickchartButtonEl.disabled = true;  // To prevent multiple clicks.\n",
       "      quickchartButtonEl.classList.add('colab-df-spinner');\n",
       "      try {\n",
       "        const charts = await google.colab.kernel.invokeFunction(\n",
       "            'suggestCharts', [key], {});\n",
       "      } catch (error) {\n",
       "        console.error('Error during call to suggestCharts:', error);\n",
       "      }\n",
       "      quickchartButtonEl.classList.remove('colab-df-spinner');\n",
       "      quickchartButtonEl.classList.add('colab-df-quickchart-complete');\n",
       "    }\n",
       "    (() => {\n",
       "      let quickchartButtonEl =\n",
       "        document.querySelector('#df-d56c70dd-e1a2-4cdb-a620-483b2d4dbb40 button');\n",
       "      quickchartButtonEl.style.display =\n",
       "        google.colab.kernel.accessAllowed ? 'block' : 'none';\n",
       "    })();\n",
       "  </script>\n",
       "</div>\n",
       "    </div>\n",
       "  </div>\n"
      ],
      "text/plain": [
       "    пациент off/on определенный диагноз врачом (0-5) Age_cat_adult  \\\n",
       "0                0                                 1             1   \n",
       "1                1                                 0             0   \n",
       "2                1                                 0             0   \n",
       "3                0                                 1             0   \n",
       "4                0                                 2             0   \n",
       "..             ...                               ...           ...   \n",
       "828              1                                 0             0   \n",
       "829              1                                 3             0   \n",
       "830              0                                 0             0   \n",
       "831              1                                 0             0   \n",
       "832              0                                 0             0   \n",
       "\n",
       "    Age_cat_child Age_cat_elderly Age_cat_teen  \n",
       "0               0               0            0  \n",
       "1               0               1            0  \n",
       "2               0               1            0  \n",
       "3               0               0            1  \n",
       "4               0               0            1  \n",
       "..            ...             ...          ...  \n",
       "828             0               1            0  \n",
       "829             0               1            0  \n",
       "830             0               1            0  \n",
       "831             0               1            0  \n",
       "832             0               0            1  \n",
       "\n",
       "[833 rows x 6 columns]"
      ]
     },
     "execution_count": 195,
     "metadata": {},
     "output_type": "execute_result"
    }
   ],
   "source": [
    "X.loc[:,embedded_col_names]"
   ]
  },
  {
   "cell_type": "code",
   "execution_count": null,
   "metadata": {
    "colab": {
     "base_uri": "https://localhost:8080/"
    },
    "id": "skvIa_m61_qB",
    "outputId": "06d86aae-8435-485b-9c42-288e54290101"
   },
   "outputs": [
    {
     "data": {
      "text/plain": [
       "[(2, 1), (5, 3), (2, 1), (2, 1), (2, 1), (2, 1)]"
      ]
     },
     "execution_count": 196,
     "metadata": {},
     "output_type": "execute_result"
    }
   ],
   "source": [
    "embedding_sizes = [(n_categories, min(50, (n_categories+1)//2)) for _,n_categories in embedded_cols.items()]\n",
    "embedding_sizes"
   ]
  },
  {
   "cell_type": "code",
   "execution_count": null,
   "metadata": {
    "colab": {
     "base_uri": "https://localhost:8080/"
    },
    "id": "SL_M4gdhAdr_",
    "outputId": "088917f6-b7a8-4948-91c8-5f20b4094888"
   },
   "outputs": [
    {
     "data": {
      "text/plain": [
       "167"
      ]
     },
     "execution_count": 218,
     "metadata": {},
     "output_type": "execute_result"
    }
   ],
   "source": [
    "len(X_val)"
   ]
  },
  {
   "cell_type": "code",
   "execution_count": null,
   "metadata": {
    "id": "3ir8yfAl2bn2"
   },
   "outputs": [],
   "source": [
    "class ShelterOutcomeDataset(Dataset):\n",
    "    def __init__(self, X, Y, embedded_col_names):\n",
    "\n",
    "        assert len(X) == len(y)\n",
    "\n",
    "        # X = X.copy()\n",
    "\n",
    "        # torch.from_numpy(data).float()\n",
    "        X1 = X.loc[:,embedded_col_names].values.astype(np.int64)\n",
    "        self.X1 =  torch.from_numpy(X1).float()#categorical columns\n",
    "\n",
    "        # self.X1 = X.loc[:,embedded_col_names].values.astype(np.int64) #categorical columns\n",
    "        X2 = X.drop(columns=embedded_col_names).values.astype(np.float32)\n",
    "        X2 = sc.fit_transform(X2)\n",
    "        self.X2 = torch.from_numpy(X2).float()\n",
    "        # self.X2 = X.drop(columns=embedded_col_names).copy().values.astype(np.float32) #numerical columns\n",
    "        self.y = Y\n",
    "\n",
    "    def __len__(self):\n",
    "        return len(self.y)\n",
    "\n",
    "    def __getitem__(self, idx):\n",
    "        return self.X1[idx], self.X2[idx], self.y[idx]\n"
   ]
  },
  {
   "cell_type": "code",
   "execution_count": null,
   "metadata": {
    "id": "NxEWzBo2_P5P"
   },
   "outputs": [],
   "source": [
    "class NpDataset(Dataset):\n",
    "    def __init__(self, data, label):\n",
    "        assert len(data) == len(label)\n",
    "        self.data = torch.from_numpy(data).float()\n",
    "        self.label = torch.from_numpy(label).long()\n",
    "\n",
    "    def __getitem__(self, index):\n",
    "        return self.data[index], self.label[index]\n",
    "\n",
    "    def __len__(self):\n",
    "        return len(self.label)"
   ]
  },
  {
   "cell_type": "code",
   "execution_count": null,
   "metadata": {
    "colab": {
     "base_uri": "https://localhost:8080/",
     "height": 322
    },
    "id": "HZKoVBQX8OlZ",
    "outputId": "f4679067-fd90-4c8a-b37c-be3a694520db"
   },
   "outputs": [
    {
     "ename": "AssertionError",
     "evalue": "ignored",
     "output_type": "error",
     "traceback": [
      "\u001b[0;31m---------------------------------------------------------------------------\u001b[0m",
      "\u001b[0;31mAssertionError\u001b[0m                            Traceback (most recent call last)",
      "\u001b[0;32m<ipython-input-212-8b24f2d1484d>\u001b[0m in \u001b[0;36m<cell line: 1>\u001b[0;34m()\u001b[0m\n\u001b[0;32m----> 1\u001b[0;31m \u001b[0mtrain_dataset\u001b[0m \u001b[0;34m=\u001b[0m \u001b[0mShelterOutcomeDataset\u001b[0m\u001b[0;34m(\u001b[0m\u001b[0mX_train\u001b[0m\u001b[0;34m,\u001b[0m \u001b[0my_train\u001b[0m\u001b[0;34m,\u001b[0m \u001b[0membedded_col_names\u001b[0m\u001b[0;34m)\u001b[0m\u001b[0;34m\u001b[0m\u001b[0;34m\u001b[0m\u001b[0m\n\u001b[0m\u001b[1;32m      2\u001b[0m \u001b[0mtest_dataset\u001b[0m \u001b[0;34m=\u001b[0m \u001b[0mShelterOutcomeDataset\u001b[0m\u001b[0;34m(\u001b[0m\u001b[0mX_val\u001b[0m\u001b[0;34m,\u001b[0m \u001b[0my_val\u001b[0m\u001b[0;34m,\u001b[0m \u001b[0membedded_col_names\u001b[0m\u001b[0;34m)\u001b[0m\u001b[0;34m\u001b[0m\u001b[0;34m\u001b[0m\u001b[0m\n",
      "\u001b[0;32m<ipython-input-211-cce9aeafd13c>\u001b[0m in \u001b[0;36m__init__\u001b[0;34m(self, X, Y, embedded_col_names)\u001b[0m\n\u001b[1;32m      1\u001b[0m \u001b[0;32mclass\u001b[0m \u001b[0mShelterOutcomeDataset\u001b[0m\u001b[0;34m(\u001b[0m\u001b[0mDataset\u001b[0m\u001b[0;34m)\u001b[0m\u001b[0;34m:\u001b[0m\u001b[0;34m\u001b[0m\u001b[0;34m\u001b[0m\u001b[0m\n\u001b[1;32m      2\u001b[0m     \u001b[0;32mdef\u001b[0m \u001b[0m__init__\u001b[0m\u001b[0;34m(\u001b[0m\u001b[0mself\u001b[0m\u001b[0;34m,\u001b[0m \u001b[0mX\u001b[0m\u001b[0;34m,\u001b[0m \u001b[0mY\u001b[0m\u001b[0;34m,\u001b[0m \u001b[0membedded_col_names\u001b[0m\u001b[0;34m)\u001b[0m\u001b[0;34m:\u001b[0m\u001b[0;34m\u001b[0m\u001b[0;34m\u001b[0m\u001b[0m\n\u001b[0;32m----> 3\u001b[0;31m         \u001b[0;32massert\u001b[0m \u001b[0mlen\u001b[0m\u001b[0;34m(\u001b[0m\u001b[0mX\u001b[0m\u001b[0;34m)\u001b[0m \u001b[0;34m==\u001b[0m \u001b[0mlen\u001b[0m\u001b[0;34m(\u001b[0m\u001b[0my\u001b[0m\u001b[0;34m)\u001b[0m\u001b[0;34m\u001b[0m\u001b[0;34m\u001b[0m\u001b[0m\n\u001b[0m\u001b[1;32m      4\u001b[0m \u001b[0;34m\u001b[0m\u001b[0m\n\u001b[1;32m      5\u001b[0m         \u001b[0;31m# X = X.copy()\u001b[0m\u001b[0;34m\u001b[0m\u001b[0;34m\u001b[0m\u001b[0m\n",
      "\u001b[0;31mAssertionError\u001b[0m: "
     ]
    }
   ],
   "source": [
    "train_dataset = ShelterOutcomeDataset(X_train, y_train, embedded_col_names)\n",
    "test_dataset = ShelterOutcomeDataset(X_val, y_val, embedded_col_names)"
   ]
  },
  {
   "cell_type": "code",
   "execution_count": null,
   "metadata": {
    "colab": {
     "base_uri": "https://localhost:8080/",
     "height": 560
    },
    "id": "5tKRHOA88QRM",
    "outputId": "e5c87e32-3c5e-429b-aa94-6633f44e1202"
   },
   "outputs": [
    {
     "name": "stdout",
     "output_type": "stream",
     "text": [
      "torch.Size([6])\n",
      "torch.Size([6])\n"
     ]
    },
    {
     "ename": "KeyError",
     "evalue": "ignored",
     "output_type": "error",
     "traceback": [
      "\u001b[0;31m---------------------------------------------------------------------------\u001b[0m",
      "\u001b[0;31mKeyError\u001b[0m                                  Traceback (most recent call last)",
      "\u001b[0;32m/usr/local/lib/python3.10/dist-packages/pandas/core/indexes/base.py\u001b[0m in \u001b[0;36mget_loc\u001b[0;34m(self, key, method, tolerance)\u001b[0m\n\u001b[1;32m   3801\u001b[0m             \u001b[0;32mtry\u001b[0m\u001b[0;34m:\u001b[0m\u001b[0;34m\u001b[0m\u001b[0;34m\u001b[0m\u001b[0m\n\u001b[0;32m-> 3802\u001b[0;31m                 \u001b[0;32mreturn\u001b[0m \u001b[0mself\u001b[0m\u001b[0;34m.\u001b[0m\u001b[0m_engine\u001b[0m\u001b[0;34m.\u001b[0m\u001b[0mget_loc\u001b[0m\u001b[0;34m(\u001b[0m\u001b[0mcasted_key\u001b[0m\u001b[0;34m)\u001b[0m\u001b[0;34m\u001b[0m\u001b[0;34m\u001b[0m\u001b[0m\n\u001b[0m\u001b[1;32m   3803\u001b[0m             \u001b[0;32mexcept\u001b[0m \u001b[0mKeyError\u001b[0m \u001b[0;32mas\u001b[0m \u001b[0merr\u001b[0m\u001b[0;34m:\u001b[0m\u001b[0;34m\u001b[0m\u001b[0;34m\u001b[0m\u001b[0m\n",
      "\u001b[0;32m/usr/local/lib/python3.10/dist-packages/pandas/_libs/index.pyx\u001b[0m in \u001b[0;36mpandas._libs.index.IndexEngine.get_loc\u001b[0;34m()\u001b[0m\n",
      "\u001b[0;32m/usr/local/lib/python3.10/dist-packages/pandas/_libs/index.pyx\u001b[0m in \u001b[0;36mpandas._libs.index.IndexEngine.get_loc\u001b[0;34m()\u001b[0m\n",
      "\u001b[0;32mpandas/_libs/hashtable_class_helper.pxi\u001b[0m in \u001b[0;36mpandas._libs.hashtable.Int64HashTable.get_item\u001b[0;34m()\u001b[0m\n",
      "\u001b[0;32mpandas/_libs/hashtable_class_helper.pxi\u001b[0m in \u001b[0;36mpandas._libs.hashtable.Int64HashTable.get_item\u001b[0;34m()\u001b[0m\n",
      "\u001b[0;31mKeyError\u001b[0m: 2",
      "\nThe above exception was the direct cause of the following exception:\n",
      "\u001b[0;31mKeyError\u001b[0m                                  Traceback (most recent call last)",
      "\u001b[0;32m<ipython-input-210-b989f7eccdd8>\u001b[0m in \u001b[0;36m<cell line: 1>\u001b[0;34m()\u001b[0m\n\u001b[0;32m----> 1\u001b[0;31m \u001b[0;32mfor\u001b[0m \u001b[0mi\u001b[0m \u001b[0;32min\u001b[0m \u001b[0mtrain_dataset\u001b[0m\u001b[0;34m:\u001b[0m\u001b[0;34m\u001b[0m\u001b[0;34m\u001b[0m\u001b[0m\n\u001b[0m\u001b[1;32m      2\u001b[0m     \u001b[0mprint\u001b[0m\u001b[0;34m(\u001b[0m\u001b[0mi\u001b[0m\u001b[0;34m[\u001b[0m\u001b[0;36m0\u001b[0m\u001b[0;34m]\u001b[0m\u001b[0;34m.\u001b[0m\u001b[0mshape\u001b[0m\u001b[0;34m)\u001b[0m\u001b[0;34m\u001b[0m\u001b[0;34m\u001b[0m\u001b[0m\n",
      "\u001b[0;32m<ipython-input-208-569064de6cf8>\u001b[0m in \u001b[0;36m__getitem__\u001b[0;34m(self, idx)\u001b[0m\n\u001b[1;32m     18\u001b[0m \u001b[0;34m\u001b[0m\u001b[0m\n\u001b[1;32m     19\u001b[0m     \u001b[0;32mdef\u001b[0m \u001b[0m__getitem__\u001b[0m\u001b[0;34m(\u001b[0m\u001b[0mself\u001b[0m\u001b[0;34m,\u001b[0m \u001b[0midx\u001b[0m\u001b[0;34m)\u001b[0m\u001b[0;34m:\u001b[0m\u001b[0;34m\u001b[0m\u001b[0;34m\u001b[0m\u001b[0m\n\u001b[0;32m---> 20\u001b[0;31m         \u001b[0;32mreturn\u001b[0m \u001b[0mself\u001b[0m\u001b[0;34m.\u001b[0m\u001b[0mX1\u001b[0m\u001b[0;34m[\u001b[0m\u001b[0midx\u001b[0m\u001b[0;34m]\u001b[0m\u001b[0;34m,\u001b[0m \u001b[0mself\u001b[0m\u001b[0;34m.\u001b[0m\u001b[0mX2\u001b[0m\u001b[0;34m[\u001b[0m\u001b[0midx\u001b[0m\u001b[0;34m]\u001b[0m\u001b[0;34m,\u001b[0m \u001b[0mself\u001b[0m\u001b[0;34m.\u001b[0m\u001b[0my\u001b[0m\u001b[0;34m[\u001b[0m\u001b[0midx\u001b[0m\u001b[0;34m]\u001b[0m\u001b[0;34m\u001b[0m\u001b[0;34m\u001b[0m\u001b[0m\n\u001b[0m",
      "\u001b[0;32m/usr/local/lib/python3.10/dist-packages/pandas/core/series.py\u001b[0m in \u001b[0;36m__getitem__\u001b[0;34m(self, key)\u001b[0m\n\u001b[1;32m    979\u001b[0m \u001b[0;34m\u001b[0m\u001b[0m\n\u001b[1;32m    980\u001b[0m         \u001b[0;32melif\u001b[0m \u001b[0mkey_is_scalar\u001b[0m\u001b[0;34m:\u001b[0m\u001b[0;34m\u001b[0m\u001b[0;34m\u001b[0m\u001b[0m\n\u001b[0;32m--> 981\u001b[0;31m             \u001b[0;32mreturn\u001b[0m \u001b[0mself\u001b[0m\u001b[0;34m.\u001b[0m\u001b[0m_get_value\u001b[0m\u001b[0;34m(\u001b[0m\u001b[0mkey\u001b[0m\u001b[0;34m)\u001b[0m\u001b[0;34m\u001b[0m\u001b[0;34m\u001b[0m\u001b[0m\n\u001b[0m\u001b[1;32m    982\u001b[0m \u001b[0;34m\u001b[0m\u001b[0m\n\u001b[1;32m    983\u001b[0m         \u001b[0;32mif\u001b[0m \u001b[0mis_hashable\u001b[0m\u001b[0;34m(\u001b[0m\u001b[0mkey\u001b[0m\u001b[0;34m)\u001b[0m\u001b[0;34m:\u001b[0m\u001b[0;34m\u001b[0m\u001b[0;34m\u001b[0m\u001b[0m\n",
      "\u001b[0;32m/usr/local/lib/python3.10/dist-packages/pandas/core/series.py\u001b[0m in \u001b[0;36m_get_value\u001b[0;34m(self, label, takeable)\u001b[0m\n\u001b[1;32m   1087\u001b[0m \u001b[0;34m\u001b[0m\u001b[0m\n\u001b[1;32m   1088\u001b[0m         \u001b[0;31m# Similar to Index.get_value, but we do not fall back to positional\u001b[0m\u001b[0;34m\u001b[0m\u001b[0;34m\u001b[0m\u001b[0m\n\u001b[0;32m-> 1089\u001b[0;31m         \u001b[0mloc\u001b[0m \u001b[0;34m=\u001b[0m \u001b[0mself\u001b[0m\u001b[0;34m.\u001b[0m\u001b[0mindex\u001b[0m\u001b[0;34m.\u001b[0m\u001b[0mget_loc\u001b[0m\u001b[0;34m(\u001b[0m\u001b[0mlabel\u001b[0m\u001b[0;34m)\u001b[0m\u001b[0;34m\u001b[0m\u001b[0;34m\u001b[0m\u001b[0m\n\u001b[0m\u001b[1;32m   1090\u001b[0m         \u001b[0;32mreturn\u001b[0m \u001b[0mself\u001b[0m\u001b[0;34m.\u001b[0m\u001b[0mindex\u001b[0m\u001b[0;34m.\u001b[0m\u001b[0m_get_values_for_loc\u001b[0m\u001b[0;34m(\u001b[0m\u001b[0mself\u001b[0m\u001b[0;34m,\u001b[0m \u001b[0mloc\u001b[0m\u001b[0;34m,\u001b[0m \u001b[0mlabel\u001b[0m\u001b[0;34m)\u001b[0m\u001b[0;34m\u001b[0m\u001b[0;34m\u001b[0m\u001b[0m\n\u001b[1;32m   1091\u001b[0m \u001b[0;34m\u001b[0m\u001b[0m\n",
      "\u001b[0;32m/usr/local/lib/python3.10/dist-packages/pandas/core/indexes/base.py\u001b[0m in \u001b[0;36mget_loc\u001b[0;34m(self, key, method, tolerance)\u001b[0m\n\u001b[1;32m   3802\u001b[0m                 \u001b[0;32mreturn\u001b[0m \u001b[0mself\u001b[0m\u001b[0;34m.\u001b[0m\u001b[0m_engine\u001b[0m\u001b[0;34m.\u001b[0m\u001b[0mget_loc\u001b[0m\u001b[0;34m(\u001b[0m\u001b[0mcasted_key\u001b[0m\u001b[0;34m)\u001b[0m\u001b[0;34m\u001b[0m\u001b[0;34m\u001b[0m\u001b[0m\n\u001b[1;32m   3803\u001b[0m             \u001b[0;32mexcept\u001b[0m \u001b[0mKeyError\u001b[0m \u001b[0;32mas\u001b[0m \u001b[0merr\u001b[0m\u001b[0;34m:\u001b[0m\u001b[0;34m\u001b[0m\u001b[0;34m\u001b[0m\u001b[0m\n\u001b[0;32m-> 3804\u001b[0;31m                 \u001b[0;32mraise\u001b[0m \u001b[0mKeyError\u001b[0m\u001b[0;34m(\u001b[0m\u001b[0mkey\u001b[0m\u001b[0;34m)\u001b[0m \u001b[0;32mfrom\u001b[0m \u001b[0merr\u001b[0m\u001b[0;34m\u001b[0m\u001b[0;34m\u001b[0m\u001b[0m\n\u001b[0m\u001b[1;32m   3805\u001b[0m             \u001b[0;32mexcept\u001b[0m \u001b[0mTypeError\u001b[0m\u001b[0;34m:\u001b[0m\u001b[0;34m\u001b[0m\u001b[0;34m\u001b[0m\u001b[0m\n\u001b[1;32m   3806\u001b[0m                 \u001b[0;31m# If we have a listlike key, _check_indexing_error will raise\u001b[0m\u001b[0;34m\u001b[0m\u001b[0;34m\u001b[0m\u001b[0m\n",
      "\u001b[0;31mKeyError\u001b[0m: 2"
     ]
    }
   ],
   "source": [
    "for i in train_dataset:\n",
    "    print(i[0].shape)"
   ]
  },
  {
   "cell_type": "code",
   "execution_count": null,
   "metadata": {
    "colab": {
     "base_uri": "https://localhost:8080/"
    },
    "id": "Xc4jOfPg7ysg",
    "outputId": "62f8fafa-130a-4aea-ddb0-6918808126c4"
   },
   "outputs": [
    {
     "data": {
      "text/plain": [
       "666"
      ]
     },
     "execution_count": 158,
     "metadata": {},
     "output_type": "execute_result"
    }
   ],
   "source": [
    "\n",
    "\n",
    "train_dataloader = DataLoader(\n",
    "    train_dataset,\n",
    "    batch_size=64,\n",
    "    shuffle=True\n",
    ")\n",
    "test_dataloader = DataLoader(\n",
    "    test_dataset,\n",
    "    batch_size=64,\n",
    "    shuffle=False\n",
    ")\n",
    "\n",
    "len(train_dataloader.dataset)"
   ]
  },
  {
   "cell_type": "code",
   "execution_count": null,
   "metadata": {
    "id": "Pyu_28V22hN5"
   },
   "outputs": [],
   "source": [
    "#creating train and valid datasets\n",
    "train_ds = ShelterOutcomeDataset(X_train, y_train, embedded_col_names)\n",
    "valid_ds = ShelterOutcomeDataset(X_val, y_val, embedded_col_names)"
   ]
  },
  {
   "cell_type": "code",
   "execution_count": null,
   "metadata": {
    "colab": {
     "base_uri": "https://localhost:8080/",
     "height": 524
    },
    "id": "f40j8VeY5TBm",
    "outputId": "719fd7e9-cb25-496b-d860-167fa6438747"
   },
   "outputs": [
    {
     "ename": "KeyError",
     "evalue": "ignored",
     "output_type": "error",
     "traceback": [
      "\u001b[0;31m---------------------------------------------------------------------------\u001b[0m",
      "\u001b[0;31mKeyError\u001b[0m                                  Traceback (most recent call last)",
      "\u001b[0;32m/usr/local/lib/python3.10/dist-packages/pandas/core/indexes/base.py\u001b[0m in \u001b[0;36mget_loc\u001b[0;34m(self, key, method, tolerance)\u001b[0m\n\u001b[1;32m   3801\u001b[0m             \u001b[0;32mtry\u001b[0m\u001b[0;34m:\u001b[0m\u001b[0;34m\u001b[0m\u001b[0;34m\u001b[0m\u001b[0m\n\u001b[0;32m-> 3802\u001b[0;31m                 \u001b[0;32mreturn\u001b[0m \u001b[0mself\u001b[0m\u001b[0;34m.\u001b[0m\u001b[0m_engine\u001b[0m\u001b[0;34m.\u001b[0m\u001b[0mget_loc\u001b[0m\u001b[0;34m(\u001b[0m\u001b[0mcasted_key\u001b[0m\u001b[0;34m)\u001b[0m\u001b[0;34m\u001b[0m\u001b[0;34m\u001b[0m\u001b[0m\n\u001b[0m\u001b[1;32m   3803\u001b[0m             \u001b[0;32mexcept\u001b[0m \u001b[0mKeyError\u001b[0m \u001b[0;32mas\u001b[0m \u001b[0merr\u001b[0m\u001b[0;34m:\u001b[0m\u001b[0;34m\u001b[0m\u001b[0;34m\u001b[0m\u001b[0m\n",
      "\u001b[0;32m/usr/local/lib/python3.10/dist-packages/pandas/_libs/index.pyx\u001b[0m in \u001b[0;36mpandas._libs.index.IndexEngine.get_loc\u001b[0;34m()\u001b[0m\n",
      "\u001b[0;32m/usr/local/lib/python3.10/dist-packages/pandas/_libs/index.pyx\u001b[0m in \u001b[0;36mpandas._libs.index.IndexEngine.get_loc\u001b[0;34m()\u001b[0m\n",
      "\u001b[0;32mpandas/_libs/hashtable_class_helper.pxi\u001b[0m in \u001b[0;36mpandas._libs.hashtable.Int64HashTable.get_item\u001b[0;34m()\u001b[0m\n",
      "\u001b[0;32mpandas/_libs/hashtable_class_helper.pxi\u001b[0m in \u001b[0;36mpandas._libs.hashtable.Int64HashTable.get_item\u001b[0;34m()\u001b[0m\n",
      "\u001b[0;31mKeyError\u001b[0m: 291",
      "\nThe above exception was the direct cause of the following exception:\n",
      "\u001b[0;31mKeyError\u001b[0m                                  Traceback (most recent call last)",
      "\u001b[0;32m<ipython-input-159-39fac412b46f>\u001b[0m in \u001b[0;36m<cell line: 1>\u001b[0;34m()\u001b[0m\n\u001b[0;32m----> 1\u001b[0;31m \u001b[0;32mfor\u001b[0m \u001b[0mi\u001b[0m \u001b[0;32min\u001b[0m \u001b[0mtrain_dataloader\u001b[0m\u001b[0;34m:\u001b[0m\u001b[0;34m\u001b[0m\u001b[0;34m\u001b[0m\u001b[0m\n\u001b[0m\u001b[1;32m      2\u001b[0m     \u001b[0mprint\u001b[0m\u001b[0;34m(\u001b[0m\u001b[0mi\u001b[0m\u001b[0;34m)\u001b[0m\u001b[0;34m\u001b[0m\u001b[0;34m\u001b[0m\u001b[0m\n\u001b[1;32m      3\u001b[0m     \u001b[0;32mbreak\u001b[0m\u001b[0;34m\u001b[0m\u001b[0;34m\u001b[0m\u001b[0m\n",
      "\u001b[0;32m/usr/local/lib/python3.10/dist-packages/torch/utils/data/dataloader.py\u001b[0m in \u001b[0;36m__next__\u001b[0;34m(self)\u001b[0m\n\u001b[1;32m    628\u001b[0m                 \u001b[0;31m# TODO(https://github.com/pytorch/pytorch/issues/76750)\u001b[0m\u001b[0;34m\u001b[0m\u001b[0;34m\u001b[0m\u001b[0m\n\u001b[1;32m    629\u001b[0m                 \u001b[0mself\u001b[0m\u001b[0;34m.\u001b[0m\u001b[0m_reset\u001b[0m\u001b[0;34m(\u001b[0m\u001b[0;34m)\u001b[0m  \u001b[0;31m# type: ignore[call-arg]\u001b[0m\u001b[0;34m\u001b[0m\u001b[0;34m\u001b[0m\u001b[0m\n\u001b[0;32m--> 630\u001b[0;31m             \u001b[0mdata\u001b[0m \u001b[0;34m=\u001b[0m \u001b[0mself\u001b[0m\u001b[0;34m.\u001b[0m\u001b[0m_next_data\u001b[0m\u001b[0;34m(\u001b[0m\u001b[0;34m)\u001b[0m\u001b[0;34m\u001b[0m\u001b[0;34m\u001b[0m\u001b[0m\n\u001b[0m\u001b[1;32m    631\u001b[0m             \u001b[0mself\u001b[0m\u001b[0;34m.\u001b[0m\u001b[0m_num_yielded\u001b[0m \u001b[0;34m+=\u001b[0m \u001b[0;36m1\u001b[0m\u001b[0;34m\u001b[0m\u001b[0;34m\u001b[0m\u001b[0m\n\u001b[1;32m    632\u001b[0m             \u001b[0;32mif\u001b[0m \u001b[0mself\u001b[0m\u001b[0;34m.\u001b[0m\u001b[0m_dataset_kind\u001b[0m \u001b[0;34m==\u001b[0m \u001b[0m_DatasetKind\u001b[0m\u001b[0;34m.\u001b[0m\u001b[0mIterable\u001b[0m \u001b[0;32mand\u001b[0m\u001b[0;31m \u001b[0m\u001b[0;31m\\\u001b[0m\u001b[0;34m\u001b[0m\u001b[0;34m\u001b[0m\u001b[0m\n",
      "\u001b[0;32m/usr/local/lib/python3.10/dist-packages/torch/utils/data/dataloader.py\u001b[0m in \u001b[0;36m_next_data\u001b[0;34m(self)\u001b[0m\n\u001b[1;32m    672\u001b[0m     \u001b[0;32mdef\u001b[0m \u001b[0m_next_data\u001b[0m\u001b[0;34m(\u001b[0m\u001b[0mself\u001b[0m\u001b[0;34m)\u001b[0m\u001b[0;34m:\u001b[0m\u001b[0;34m\u001b[0m\u001b[0;34m\u001b[0m\u001b[0m\n\u001b[1;32m    673\u001b[0m         \u001b[0mindex\u001b[0m \u001b[0;34m=\u001b[0m \u001b[0mself\u001b[0m\u001b[0;34m.\u001b[0m\u001b[0m_next_index\u001b[0m\u001b[0;34m(\u001b[0m\u001b[0;34m)\u001b[0m  \u001b[0;31m# may raise StopIteration\u001b[0m\u001b[0;34m\u001b[0m\u001b[0;34m\u001b[0m\u001b[0m\n\u001b[0;32m--> 674\u001b[0;31m         \u001b[0mdata\u001b[0m \u001b[0;34m=\u001b[0m \u001b[0mself\u001b[0m\u001b[0;34m.\u001b[0m\u001b[0m_dataset_fetcher\u001b[0m\u001b[0;34m.\u001b[0m\u001b[0mfetch\u001b[0m\u001b[0;34m(\u001b[0m\u001b[0mindex\u001b[0m\u001b[0;34m)\u001b[0m  \u001b[0;31m# may raise StopIteration\u001b[0m\u001b[0;34m\u001b[0m\u001b[0;34m\u001b[0m\u001b[0m\n\u001b[0m\u001b[1;32m    675\u001b[0m         \u001b[0;32mif\u001b[0m \u001b[0mself\u001b[0m\u001b[0;34m.\u001b[0m\u001b[0m_pin_memory\u001b[0m\u001b[0;34m:\u001b[0m\u001b[0;34m\u001b[0m\u001b[0;34m\u001b[0m\u001b[0m\n\u001b[1;32m    676\u001b[0m             \u001b[0mdata\u001b[0m \u001b[0;34m=\u001b[0m \u001b[0m_utils\u001b[0m\u001b[0;34m.\u001b[0m\u001b[0mpin_memory\u001b[0m\u001b[0;34m.\u001b[0m\u001b[0mpin_memory\u001b[0m\u001b[0;34m(\u001b[0m\u001b[0mdata\u001b[0m\u001b[0;34m,\u001b[0m \u001b[0mself\u001b[0m\u001b[0;34m.\u001b[0m\u001b[0m_pin_memory_device\u001b[0m\u001b[0;34m)\u001b[0m\u001b[0;34m\u001b[0m\u001b[0;34m\u001b[0m\u001b[0m\n",
      "\u001b[0;32m/usr/local/lib/python3.10/dist-packages/torch/utils/data/_utils/fetch.py\u001b[0m in \u001b[0;36mfetch\u001b[0;34m(self, possibly_batched_index)\u001b[0m\n\u001b[1;32m     49\u001b[0m                 \u001b[0mdata\u001b[0m \u001b[0;34m=\u001b[0m \u001b[0mself\u001b[0m\u001b[0;34m.\u001b[0m\u001b[0mdataset\u001b[0m\u001b[0;34m.\u001b[0m\u001b[0m__getitems__\u001b[0m\u001b[0;34m(\u001b[0m\u001b[0mpossibly_batched_index\u001b[0m\u001b[0;34m)\u001b[0m\u001b[0;34m\u001b[0m\u001b[0;34m\u001b[0m\u001b[0m\n\u001b[1;32m     50\u001b[0m             \u001b[0;32melse\u001b[0m\u001b[0;34m:\u001b[0m\u001b[0;34m\u001b[0m\u001b[0;34m\u001b[0m\u001b[0m\n\u001b[0;32m---> 51\u001b[0;31m                 \u001b[0mdata\u001b[0m \u001b[0;34m=\u001b[0m \u001b[0;34m[\u001b[0m\u001b[0mself\u001b[0m\u001b[0;34m.\u001b[0m\u001b[0mdataset\u001b[0m\u001b[0;34m[\u001b[0m\u001b[0midx\u001b[0m\u001b[0;34m]\u001b[0m \u001b[0;32mfor\u001b[0m \u001b[0midx\u001b[0m \u001b[0;32min\u001b[0m \u001b[0mpossibly_batched_index\u001b[0m\u001b[0;34m]\u001b[0m\u001b[0;34m\u001b[0m\u001b[0;34m\u001b[0m\u001b[0m\n\u001b[0m\u001b[1;32m     52\u001b[0m         \u001b[0;32melse\u001b[0m\u001b[0;34m:\u001b[0m\u001b[0;34m\u001b[0m\u001b[0;34m\u001b[0m\u001b[0m\n\u001b[1;32m     53\u001b[0m             \u001b[0mdata\u001b[0m \u001b[0;34m=\u001b[0m \u001b[0mself\u001b[0m\u001b[0;34m.\u001b[0m\u001b[0mdataset\u001b[0m\u001b[0;34m[\u001b[0m\u001b[0mpossibly_batched_index\u001b[0m\u001b[0;34m]\u001b[0m\u001b[0;34m\u001b[0m\u001b[0;34m\u001b[0m\u001b[0m\n",
      "\u001b[0;32m/usr/local/lib/python3.10/dist-packages/torch/utils/data/_utils/fetch.py\u001b[0m in \u001b[0;36m<listcomp>\u001b[0;34m(.0)\u001b[0m\n\u001b[1;32m     49\u001b[0m                 \u001b[0mdata\u001b[0m \u001b[0;34m=\u001b[0m \u001b[0mself\u001b[0m\u001b[0;34m.\u001b[0m\u001b[0mdataset\u001b[0m\u001b[0;34m.\u001b[0m\u001b[0m__getitems__\u001b[0m\u001b[0;34m(\u001b[0m\u001b[0mpossibly_batched_index\u001b[0m\u001b[0;34m)\u001b[0m\u001b[0;34m\u001b[0m\u001b[0;34m\u001b[0m\u001b[0m\n\u001b[1;32m     50\u001b[0m             \u001b[0;32melse\u001b[0m\u001b[0;34m:\u001b[0m\u001b[0;34m\u001b[0m\u001b[0;34m\u001b[0m\u001b[0m\n\u001b[0;32m---> 51\u001b[0;31m                 \u001b[0mdata\u001b[0m \u001b[0;34m=\u001b[0m \u001b[0;34m[\u001b[0m\u001b[0mself\u001b[0m\u001b[0;34m.\u001b[0m\u001b[0mdataset\u001b[0m\u001b[0;34m[\u001b[0m\u001b[0midx\u001b[0m\u001b[0;34m]\u001b[0m \u001b[0;32mfor\u001b[0m \u001b[0midx\u001b[0m \u001b[0;32min\u001b[0m \u001b[0mpossibly_batched_index\u001b[0m\u001b[0;34m]\u001b[0m\u001b[0;34m\u001b[0m\u001b[0;34m\u001b[0m\u001b[0m\n\u001b[0m\u001b[1;32m     52\u001b[0m         \u001b[0;32melse\u001b[0m\u001b[0;34m:\u001b[0m\u001b[0;34m\u001b[0m\u001b[0;34m\u001b[0m\u001b[0m\n\u001b[1;32m     53\u001b[0m             \u001b[0mdata\u001b[0m \u001b[0;34m=\u001b[0m \u001b[0mself\u001b[0m\u001b[0;34m.\u001b[0m\u001b[0mdataset\u001b[0m\u001b[0;34m[\u001b[0m\u001b[0mpossibly_batched_index\u001b[0m\u001b[0;34m]\u001b[0m\u001b[0;34m\u001b[0m\u001b[0;34m\u001b[0m\u001b[0m\n",
      "\u001b[0;32m<ipython-input-126-faacd4e9c20c>\u001b[0m in \u001b[0;36m__getitem__\u001b[0;34m(self, idx)\u001b[0m\n\u001b[1;32m     10\u001b[0m \u001b[0;34m\u001b[0m\u001b[0m\n\u001b[1;32m     11\u001b[0m     \u001b[0;32mdef\u001b[0m \u001b[0m__getitem__\u001b[0m\u001b[0;34m(\u001b[0m\u001b[0mself\u001b[0m\u001b[0;34m,\u001b[0m \u001b[0midx\u001b[0m\u001b[0;34m)\u001b[0m\u001b[0;34m:\u001b[0m\u001b[0;34m\u001b[0m\u001b[0;34m\u001b[0m\u001b[0m\n\u001b[0;32m---> 12\u001b[0;31m         \u001b[0;32mreturn\u001b[0m \u001b[0mself\u001b[0m\u001b[0;34m.\u001b[0m\u001b[0mX1\u001b[0m\u001b[0;34m[\u001b[0m\u001b[0midx\u001b[0m\u001b[0;34m]\u001b[0m\u001b[0;34m,\u001b[0m \u001b[0mself\u001b[0m\u001b[0;34m.\u001b[0m\u001b[0mX2\u001b[0m\u001b[0;34m[\u001b[0m\u001b[0midx\u001b[0m\u001b[0;34m]\u001b[0m\u001b[0;34m,\u001b[0m \u001b[0mself\u001b[0m\u001b[0;34m.\u001b[0m\u001b[0my\u001b[0m\u001b[0;34m[\u001b[0m\u001b[0midx\u001b[0m\u001b[0;34m]\u001b[0m\u001b[0;34m\u001b[0m\u001b[0;34m\u001b[0m\u001b[0m\n\u001b[0m",
      "\u001b[0;32m/usr/local/lib/python3.10/dist-packages/pandas/core/series.py\u001b[0m in \u001b[0;36m__getitem__\u001b[0;34m(self, key)\u001b[0m\n\u001b[1;32m    979\u001b[0m \u001b[0;34m\u001b[0m\u001b[0m\n\u001b[1;32m    980\u001b[0m         \u001b[0;32melif\u001b[0m \u001b[0mkey_is_scalar\u001b[0m\u001b[0;34m:\u001b[0m\u001b[0;34m\u001b[0m\u001b[0;34m\u001b[0m\u001b[0m\n\u001b[0;32m--> 981\u001b[0;31m             \u001b[0;32mreturn\u001b[0m \u001b[0mself\u001b[0m\u001b[0;34m.\u001b[0m\u001b[0m_get_value\u001b[0m\u001b[0;34m(\u001b[0m\u001b[0mkey\u001b[0m\u001b[0;34m)\u001b[0m\u001b[0;34m\u001b[0m\u001b[0;34m\u001b[0m\u001b[0m\n\u001b[0m\u001b[1;32m    982\u001b[0m \u001b[0;34m\u001b[0m\u001b[0m\n\u001b[1;32m    983\u001b[0m         \u001b[0;32mif\u001b[0m \u001b[0mis_hashable\u001b[0m\u001b[0;34m(\u001b[0m\u001b[0mkey\u001b[0m\u001b[0;34m)\u001b[0m\u001b[0;34m:\u001b[0m\u001b[0;34m\u001b[0m\u001b[0;34m\u001b[0m\u001b[0m\n",
      "\u001b[0;32m/usr/local/lib/python3.10/dist-packages/pandas/core/series.py\u001b[0m in \u001b[0;36m_get_value\u001b[0;34m(self, label, takeable)\u001b[0m\n\u001b[1;32m   1087\u001b[0m \u001b[0;34m\u001b[0m\u001b[0m\n\u001b[1;32m   1088\u001b[0m         \u001b[0;31m# Similar to Index.get_value, but we do not fall back to positional\u001b[0m\u001b[0;34m\u001b[0m\u001b[0;34m\u001b[0m\u001b[0m\n\u001b[0;32m-> 1089\u001b[0;31m         \u001b[0mloc\u001b[0m \u001b[0;34m=\u001b[0m \u001b[0mself\u001b[0m\u001b[0;34m.\u001b[0m\u001b[0mindex\u001b[0m\u001b[0;34m.\u001b[0m\u001b[0mget_loc\u001b[0m\u001b[0;34m(\u001b[0m\u001b[0mlabel\u001b[0m\u001b[0;34m)\u001b[0m\u001b[0;34m\u001b[0m\u001b[0;34m\u001b[0m\u001b[0m\n\u001b[0m\u001b[1;32m   1090\u001b[0m         \u001b[0;32mreturn\u001b[0m \u001b[0mself\u001b[0m\u001b[0;34m.\u001b[0m\u001b[0mindex\u001b[0m\u001b[0;34m.\u001b[0m\u001b[0m_get_values_for_loc\u001b[0m\u001b[0;34m(\u001b[0m\u001b[0mself\u001b[0m\u001b[0;34m,\u001b[0m \u001b[0mloc\u001b[0m\u001b[0;34m,\u001b[0m \u001b[0mlabel\u001b[0m\u001b[0;34m)\u001b[0m\u001b[0;34m\u001b[0m\u001b[0;34m\u001b[0m\u001b[0m\n\u001b[1;32m   1091\u001b[0m \u001b[0;34m\u001b[0m\u001b[0m\n",
      "\u001b[0;32m/usr/local/lib/python3.10/dist-packages/pandas/core/indexes/base.py\u001b[0m in \u001b[0;36mget_loc\u001b[0;34m(self, key, method, tolerance)\u001b[0m\n\u001b[1;32m   3802\u001b[0m                 \u001b[0;32mreturn\u001b[0m \u001b[0mself\u001b[0m\u001b[0;34m.\u001b[0m\u001b[0m_engine\u001b[0m\u001b[0;34m.\u001b[0m\u001b[0mget_loc\u001b[0m\u001b[0;34m(\u001b[0m\u001b[0mcasted_key\u001b[0m\u001b[0;34m)\u001b[0m\u001b[0;34m\u001b[0m\u001b[0;34m\u001b[0m\u001b[0m\n\u001b[1;32m   3803\u001b[0m             \u001b[0;32mexcept\u001b[0m \u001b[0mKeyError\u001b[0m \u001b[0;32mas\u001b[0m \u001b[0merr\u001b[0m\u001b[0;34m:\u001b[0m\u001b[0;34m\u001b[0m\u001b[0;34m\u001b[0m\u001b[0m\n\u001b[0;32m-> 3804\u001b[0;31m                 \u001b[0;32mraise\u001b[0m \u001b[0mKeyError\u001b[0m\u001b[0;34m(\u001b[0m\u001b[0mkey\u001b[0m\u001b[0;34m)\u001b[0m \u001b[0;32mfrom\u001b[0m \u001b[0merr\u001b[0m\u001b[0;34m\u001b[0m\u001b[0;34m\u001b[0m\u001b[0m\n\u001b[0m\u001b[1;32m   3805\u001b[0m             \u001b[0;32mexcept\u001b[0m \u001b[0mTypeError\u001b[0m\u001b[0;34m:\u001b[0m\u001b[0;34m\u001b[0m\u001b[0;34m\u001b[0m\u001b[0m\n\u001b[1;32m   3806\u001b[0m                 \u001b[0;31m# If we have a listlike key, _check_indexing_error will raise\u001b[0m\u001b[0;34m\u001b[0m\u001b[0;34m\u001b[0m\u001b[0m\n",
      "\u001b[0;31mKeyError\u001b[0m: 291"
     ]
    }
   ],
   "source": [
    "for i in train_dataloader:\n",
    "    print(i)\n",
    "    break"
   ]
  },
  {
   "cell_type": "code",
   "execution_count": null,
   "metadata": {
    "id": "Q0sB87pO21gF"
   },
   "outputs": [],
   "source": [
    "class ShelterOutcomeModel(nn.Module):\n",
    "    def __init__(self, embedding_sizes, n_cont):\n",
    "        super().__init__()\n",
    "        self.embeddings = nn.ModuleList([nn.Embedding(categories, size) for categories,size in embedding_sizes])\n",
    "        n_emb = sum(e.embedding_dim for e in self.embeddings) #length of all embeddings combined\n",
    "        self.n_emb, self.n_cont = n_emb, n_cont\n",
    "        self.lin1 = nn.Linear(self.n_emb + self.n_cont, 200)\n",
    "        self.lin2 = nn.Linear(200, 70)\n",
    "        self.lin3 = nn.Linear(70, 5)\n",
    "        self.bn1 = nn.BatchNorm1d(self.n_cont)\n",
    "        self.bn2 = nn.BatchNorm1d(200)\n",
    "        self.bn3 = nn.BatchNorm1d(70)\n",
    "        self.emb_drop = nn.Dropout(0.6)\n",
    "        self.drops = nn.Dropout(0.3)\n",
    "\n",
    "\n",
    "    def forward(self, x_cat, x_cont):\n",
    "        x = [e(x_cat[:,i]) for i,e in enumerate(self.embeddings)]\n",
    "        x = torch.cat(x, 1)\n",
    "        x = self.emb_drop(x)\n",
    "        x2 = self.bn1(x_cont)\n",
    "        x = torch.cat([x, x2], 1)\n",
    "        x = F.relu(self.lin1(x))\n",
    "        x = self.drops(x)\n",
    "        x = self.bn2(x)\n",
    "        x = F.relu(self.lin2(x))\n",
    "        x = self.drops(x)\n",
    "        x = self.bn3(x)\n",
    "        x = self.lin3(x)\n",
    "        return x"
   ]
  },
  {
   "cell_type": "code",
   "execution_count": null,
   "metadata": {
    "colab": {
     "base_uri": "https://localhost:8080/"
    },
    "id": "m94fxTES3j_I",
    "outputId": "8f242b74-01c5-4fc0-9063-541fc9ade632"
   },
   "outputs": [
    {
     "data": {
      "text/plain": [
       "device(type='cpu')"
      ]
     },
     "execution_count": 129,
     "metadata": {},
     "output_type": "execute_result"
    }
   ],
   "source": [
    "def get_default_device():\n",
    "    \"\"\"Pick GPU if available, else CPU\"\"\"\n",
    "    if torch.cuda.is_available():\n",
    "        return torch.device('cuda')\n",
    "    else:\n",
    "        return torch.device('cpu')\n",
    "\n",
    "def to_device(data, device):\n",
    "    \"\"\"Move tensor(s) to chosen device\"\"\"\n",
    "    if isinstance(data, (list,tuple)):\n",
    "        return [to_device(x, device) for x in data]\n",
    "    return data.to(device, non_blocking=True)\n",
    "\n",
    "class DeviceDataLoader():\n",
    "    \"\"\"Wrap a dataloader to move data to a device\"\"\"\n",
    "    def __init__(self, dl, device):\n",
    "        self.dl = dl\n",
    "        self.device = device\n",
    "\n",
    "    def __iter__(self):\n",
    "        \"\"\"Yield a batch of data after moving it to device\"\"\"\n",
    "        for b in self.dl:\n",
    "            yield to_device(b, self.device)\n",
    "\n",
    "    def __len__(self):\n",
    "        \"\"\"Number of batches\"\"\"\n",
    "        return len(self.dl)\n",
    "\n",
    "device = get_default_device()\n",
    "device"
   ]
  },
  {
   "cell_type": "code",
   "execution_count": null,
   "metadata": {
    "colab": {
     "base_uri": "https://localhost:8080/"
    },
    "id": "vt_-BZM_25TW",
    "outputId": "ec647c6a-ddf8-4f09-e8c6-819de69e30f0"
   },
   "outputs": [
    {
     "data": {
      "text/plain": [
       "ShelterOutcomeModel(\n",
       "  (embeddings): ModuleList(\n",
       "    (0): Embedding(2, 1)\n",
       "    (1): Embedding(5, 3)\n",
       "    (2-5): 4 x Embedding(2, 1)\n",
       "  )\n",
       "  (lin1): Linear(in_features=9, out_features=200, bias=True)\n",
       "  (lin2): Linear(in_features=200, out_features=70, bias=True)\n",
       "  (lin3): Linear(in_features=70, out_features=5, bias=True)\n",
       "  (bn1): BatchNorm1d(1, eps=1e-05, momentum=0.1, affine=True, track_running_stats=True)\n",
       "  (bn2): BatchNorm1d(200, eps=1e-05, momentum=0.1, affine=True, track_running_stats=True)\n",
       "  (bn3): BatchNorm1d(70, eps=1e-05, momentum=0.1, affine=True, track_running_stats=True)\n",
       "  (emb_drop): Dropout(p=0.6, inplace=False)\n",
       "  (drops): Dropout(p=0.3, inplace=False)\n",
       ")"
      ]
     },
     "execution_count": 130,
     "metadata": {},
     "output_type": "execute_result"
    }
   ],
   "source": [
    "model = ShelterOutcomeModel(embedding_sizes, 1)\n",
    "# model.to(device)\n",
    "\n",
    "to_device(model, device)"
   ]
  },
  {
   "cell_type": "code",
   "execution_count": null,
   "metadata": {
    "id": "cxiHmQTx3OdW"
   },
   "outputs": [],
   "source": [
    "# Optimizer\n",
    "\n",
    "def get_optimizer(model, lr = 0.001, wd = 0.0):\n",
    "    parameters = filter(lambda p: p.requires_grad, model.parameters())\n",
    "    optim = torch.optim.Adam(parameters, lr=lr, weight_decay=wd)\n",
    "    return optim\n"
   ]
  },
  {
   "cell_type": "code",
   "execution_count": null,
   "metadata": {
    "id": "1Vz3tiKJ3Lqb"
   },
   "outputs": [],
   "source": [
    "# Training function\n",
    "\n",
    "def train_model(model, optim, train_dl):\n",
    "    model.train()\n",
    "    total = 0\n",
    "    sum_loss = 0\n",
    "    for x1, x2, y in train_dl:\n",
    "        batch = y.shape[0]\n",
    "        output = model(x1, x2)\n",
    "        loss = F.cross_entropy(output, y)\n",
    "        optim.zero_grad()\n",
    "        loss.backward()\n",
    "        optim.step()\n",
    "        total += batch\n",
    "        sum_loss += batch*(loss.item())\n",
    "    return sum_loss/total\n",
    "\n",
    "# Evaluation function\n",
    "\n",
    "def val_loss(model, valid_dl):\n",
    "    model.eval()\n",
    "    total = 0\n",
    "    sum_loss = 0\n",
    "    correct = 0\n",
    "    for x1, x2, y in valid_dl:\n",
    "        current_batch_size = y.shape[0]\n",
    "        out = model(x1, x2)\n",
    "        loss = F.cross_entropy(out, y)\n",
    "        sum_loss += current_batch_size*(loss.item())\n",
    "        total += current_batch_size\n",
    "        pred = torch.max(out, 1)[1]\n",
    "        correct += (pred == y).float().sum().item()\n",
    "    print(\"valid loss %.3f and accuracy %.3f\" % (sum_loss/total, correct/total))\n",
    "    return sum_loss/total, correct/total\n"
   ]
  },
  {
   "cell_type": "code",
   "execution_count": null,
   "metadata": {
    "id": "0VqDDdak3T8L"
   },
   "outputs": [],
   "source": [
    "def train_loop(model, epochs, lr=0.01, wd=0.0):\n",
    "    optim = get_optimizer(model, lr = lr, wd = wd)\n",
    "    for i in range(epochs):\n",
    "        loss = train_model(model, optim, train_dl)\n",
    "        print(\"training loss: \", loss)\n",
    "        val_loss(model, valid_dl)\n"
   ]
  },
  {
   "cell_type": "code",
   "execution_count": null,
   "metadata": {
    "colab": {
     "base_uri": "https://localhost:8080/",
     "height": 524
    },
    "id": "Ug-WOg4M4yRG",
    "outputId": "019a5e1d-70b6-42ee-cef4-07521afac455"
   },
   "outputs": [
    {
     "ename": "KeyError",
     "evalue": "ignored",
     "output_type": "error",
     "traceback": [
      "\u001b[0;31m---------------------------------------------------------------------------\u001b[0m",
      "\u001b[0;31mKeyError\u001b[0m                                  Traceback (most recent call last)",
      "\u001b[0;32m/usr/local/lib/python3.10/dist-packages/pandas/core/indexes/base.py\u001b[0m in \u001b[0;36mget_loc\u001b[0;34m(self, key, method, tolerance)\u001b[0m\n\u001b[1;32m   3801\u001b[0m             \u001b[0;32mtry\u001b[0m\u001b[0;34m:\u001b[0m\u001b[0;34m\u001b[0m\u001b[0;34m\u001b[0m\u001b[0m\n\u001b[0;32m-> 3802\u001b[0;31m                 \u001b[0;32mreturn\u001b[0m \u001b[0mself\u001b[0m\u001b[0;34m.\u001b[0m\u001b[0m_engine\u001b[0m\u001b[0;34m.\u001b[0m\u001b[0mget_loc\u001b[0m\u001b[0;34m(\u001b[0m\u001b[0mcasted_key\u001b[0m\u001b[0;34m)\u001b[0m\u001b[0;34m\u001b[0m\u001b[0;34m\u001b[0m\u001b[0m\n\u001b[0m\u001b[1;32m   3803\u001b[0m             \u001b[0;32mexcept\u001b[0m \u001b[0mKeyError\u001b[0m \u001b[0;32mas\u001b[0m \u001b[0merr\u001b[0m\u001b[0;34m:\u001b[0m\u001b[0;34m\u001b[0m\u001b[0;34m\u001b[0m\u001b[0m\n",
      "\u001b[0;32m/usr/local/lib/python3.10/dist-packages/pandas/_libs/index.pyx\u001b[0m in \u001b[0;36mpandas._libs.index.IndexEngine.get_loc\u001b[0;34m()\u001b[0m\n",
      "\u001b[0;32m/usr/local/lib/python3.10/dist-packages/pandas/_libs/index.pyx\u001b[0m in \u001b[0;36mpandas._libs.index.IndexEngine.get_loc\u001b[0;34m()\u001b[0m\n",
      "\u001b[0;32mpandas/_libs/hashtable_class_helper.pxi\u001b[0m in \u001b[0;36mpandas._libs.hashtable.Int64HashTable.get_item\u001b[0;34m()\u001b[0m\n",
      "\u001b[0;32mpandas/_libs/hashtable_class_helper.pxi\u001b[0m in \u001b[0;36mpandas._libs.hashtable.Int64HashTable.get_item\u001b[0;34m()\u001b[0m\n",
      "\u001b[0;31mKeyError\u001b[0m: 155",
      "\nThe above exception was the direct cause of the following exception:\n",
      "\u001b[0;31mKeyError\u001b[0m                                  Traceback (most recent call last)",
      "\u001b[0;32m<ipython-input-151-642304428ba4>\u001b[0m in \u001b[0;36m<cell line: 3>\u001b[0;34m()\u001b[0m\n\u001b[1;32m      1\u001b[0m \u001b[0;31m# convert to an iterator and look at one random sample\u001b[0m\u001b[0;34m\u001b[0m\u001b[0;34m\u001b[0m\u001b[0m\n\u001b[1;32m      2\u001b[0m \u001b[0mdataiter\u001b[0m \u001b[0;34m=\u001b[0m \u001b[0miter\u001b[0m\u001b[0;34m(\u001b[0m\u001b[0mtrain_dataloader\u001b[0m\u001b[0;34m)\u001b[0m\u001b[0;34m\u001b[0m\u001b[0;34m\u001b[0m\u001b[0m\n\u001b[0;32m----> 3\u001b[0;31m \u001b[0mdata\u001b[0m \u001b[0;34m=\u001b[0m \u001b[0mnext\u001b[0m\u001b[0;34m(\u001b[0m\u001b[0mdataiter\u001b[0m\u001b[0;34m)\u001b[0m\u001b[0;34m\u001b[0m\u001b[0;34m\u001b[0m\u001b[0m\n\u001b[0m\u001b[1;32m      4\u001b[0m \u001b[0mx1\u001b[0m\u001b[0;34m,\u001b[0m \u001b[0mx2\u001b[0m\u001b[0;34m,\u001b[0m \u001b[0mlabels\u001b[0m \u001b[0;34m=\u001b[0m \u001b[0mdata\u001b[0m\u001b[0;34m\u001b[0m\u001b[0;34m\u001b[0m\u001b[0m\n\u001b[1;32m      5\u001b[0m \u001b[0mprint\u001b[0m\u001b[0;34m(\u001b[0m\u001b[0mfeatures\u001b[0m\u001b[0;34m,\u001b[0m \u001b[0mlabels\u001b[0m\u001b[0;34m)\u001b[0m\u001b[0;34m\u001b[0m\u001b[0;34m\u001b[0m\u001b[0m\n",
      "\u001b[0;32m/usr/local/lib/python3.10/dist-packages/torch/utils/data/dataloader.py\u001b[0m in \u001b[0;36m__next__\u001b[0;34m(self)\u001b[0m\n\u001b[1;32m    628\u001b[0m                 \u001b[0;31m# TODO(https://github.com/pytorch/pytorch/issues/76750)\u001b[0m\u001b[0;34m\u001b[0m\u001b[0;34m\u001b[0m\u001b[0m\n\u001b[1;32m    629\u001b[0m                 \u001b[0mself\u001b[0m\u001b[0;34m.\u001b[0m\u001b[0m_reset\u001b[0m\u001b[0;34m(\u001b[0m\u001b[0;34m)\u001b[0m  \u001b[0;31m# type: ignore[call-arg]\u001b[0m\u001b[0;34m\u001b[0m\u001b[0;34m\u001b[0m\u001b[0m\n\u001b[0;32m--> 630\u001b[0;31m             \u001b[0mdata\u001b[0m \u001b[0;34m=\u001b[0m \u001b[0mself\u001b[0m\u001b[0;34m.\u001b[0m\u001b[0m_next_data\u001b[0m\u001b[0;34m(\u001b[0m\u001b[0;34m)\u001b[0m\u001b[0;34m\u001b[0m\u001b[0;34m\u001b[0m\u001b[0m\n\u001b[0m\u001b[1;32m    631\u001b[0m             \u001b[0mself\u001b[0m\u001b[0;34m.\u001b[0m\u001b[0m_num_yielded\u001b[0m \u001b[0;34m+=\u001b[0m \u001b[0;36m1\u001b[0m\u001b[0;34m\u001b[0m\u001b[0;34m\u001b[0m\u001b[0m\n\u001b[1;32m    632\u001b[0m             \u001b[0;32mif\u001b[0m \u001b[0mself\u001b[0m\u001b[0;34m.\u001b[0m\u001b[0m_dataset_kind\u001b[0m \u001b[0;34m==\u001b[0m \u001b[0m_DatasetKind\u001b[0m\u001b[0;34m.\u001b[0m\u001b[0mIterable\u001b[0m \u001b[0;32mand\u001b[0m\u001b[0;31m \u001b[0m\u001b[0;31m\\\u001b[0m\u001b[0;34m\u001b[0m\u001b[0;34m\u001b[0m\u001b[0m\n",
      "\u001b[0;32m/usr/local/lib/python3.10/dist-packages/torch/utils/data/dataloader.py\u001b[0m in \u001b[0;36m_next_data\u001b[0;34m(self)\u001b[0m\n\u001b[1;32m    672\u001b[0m     \u001b[0;32mdef\u001b[0m \u001b[0m_next_data\u001b[0m\u001b[0;34m(\u001b[0m\u001b[0mself\u001b[0m\u001b[0;34m)\u001b[0m\u001b[0;34m:\u001b[0m\u001b[0;34m\u001b[0m\u001b[0;34m\u001b[0m\u001b[0m\n\u001b[1;32m    673\u001b[0m         \u001b[0mindex\u001b[0m \u001b[0;34m=\u001b[0m \u001b[0mself\u001b[0m\u001b[0;34m.\u001b[0m\u001b[0m_next_index\u001b[0m\u001b[0;34m(\u001b[0m\u001b[0;34m)\u001b[0m  \u001b[0;31m# may raise StopIteration\u001b[0m\u001b[0;34m\u001b[0m\u001b[0;34m\u001b[0m\u001b[0m\n\u001b[0;32m--> 674\u001b[0;31m         \u001b[0mdata\u001b[0m \u001b[0;34m=\u001b[0m \u001b[0mself\u001b[0m\u001b[0;34m.\u001b[0m\u001b[0m_dataset_fetcher\u001b[0m\u001b[0;34m.\u001b[0m\u001b[0mfetch\u001b[0m\u001b[0;34m(\u001b[0m\u001b[0mindex\u001b[0m\u001b[0;34m)\u001b[0m  \u001b[0;31m# may raise StopIteration\u001b[0m\u001b[0;34m\u001b[0m\u001b[0;34m\u001b[0m\u001b[0m\n\u001b[0m\u001b[1;32m    675\u001b[0m         \u001b[0;32mif\u001b[0m \u001b[0mself\u001b[0m\u001b[0;34m.\u001b[0m\u001b[0m_pin_memory\u001b[0m\u001b[0;34m:\u001b[0m\u001b[0;34m\u001b[0m\u001b[0;34m\u001b[0m\u001b[0m\n\u001b[1;32m    676\u001b[0m             \u001b[0mdata\u001b[0m \u001b[0;34m=\u001b[0m \u001b[0m_utils\u001b[0m\u001b[0;34m.\u001b[0m\u001b[0mpin_memory\u001b[0m\u001b[0;34m.\u001b[0m\u001b[0mpin_memory\u001b[0m\u001b[0;34m(\u001b[0m\u001b[0mdata\u001b[0m\u001b[0;34m,\u001b[0m \u001b[0mself\u001b[0m\u001b[0;34m.\u001b[0m\u001b[0m_pin_memory_device\u001b[0m\u001b[0;34m)\u001b[0m\u001b[0;34m\u001b[0m\u001b[0;34m\u001b[0m\u001b[0m\n",
      "\u001b[0;32m/usr/local/lib/python3.10/dist-packages/torch/utils/data/_utils/fetch.py\u001b[0m in \u001b[0;36mfetch\u001b[0;34m(self, possibly_batched_index)\u001b[0m\n\u001b[1;32m     49\u001b[0m                 \u001b[0mdata\u001b[0m \u001b[0;34m=\u001b[0m \u001b[0mself\u001b[0m\u001b[0;34m.\u001b[0m\u001b[0mdataset\u001b[0m\u001b[0;34m.\u001b[0m\u001b[0m__getitems__\u001b[0m\u001b[0;34m(\u001b[0m\u001b[0mpossibly_batched_index\u001b[0m\u001b[0;34m)\u001b[0m\u001b[0;34m\u001b[0m\u001b[0;34m\u001b[0m\u001b[0m\n\u001b[1;32m     50\u001b[0m             \u001b[0;32melse\u001b[0m\u001b[0;34m:\u001b[0m\u001b[0;34m\u001b[0m\u001b[0;34m\u001b[0m\u001b[0m\n\u001b[0;32m---> 51\u001b[0;31m                 \u001b[0mdata\u001b[0m \u001b[0;34m=\u001b[0m \u001b[0;34m[\u001b[0m\u001b[0mself\u001b[0m\u001b[0;34m.\u001b[0m\u001b[0mdataset\u001b[0m\u001b[0;34m[\u001b[0m\u001b[0midx\u001b[0m\u001b[0;34m]\u001b[0m \u001b[0;32mfor\u001b[0m \u001b[0midx\u001b[0m \u001b[0;32min\u001b[0m \u001b[0mpossibly_batched_index\u001b[0m\u001b[0;34m]\u001b[0m\u001b[0;34m\u001b[0m\u001b[0;34m\u001b[0m\u001b[0m\n\u001b[0m\u001b[1;32m     52\u001b[0m         \u001b[0;32melse\u001b[0m\u001b[0;34m:\u001b[0m\u001b[0;34m\u001b[0m\u001b[0;34m\u001b[0m\u001b[0m\n\u001b[1;32m     53\u001b[0m             \u001b[0mdata\u001b[0m \u001b[0;34m=\u001b[0m \u001b[0mself\u001b[0m\u001b[0;34m.\u001b[0m\u001b[0mdataset\u001b[0m\u001b[0;34m[\u001b[0m\u001b[0mpossibly_batched_index\u001b[0m\u001b[0;34m]\u001b[0m\u001b[0;34m\u001b[0m\u001b[0;34m\u001b[0m\u001b[0m\n",
      "\u001b[0;32m/usr/local/lib/python3.10/dist-packages/torch/utils/data/_utils/fetch.py\u001b[0m in \u001b[0;36m<listcomp>\u001b[0;34m(.0)\u001b[0m\n\u001b[1;32m     49\u001b[0m                 \u001b[0mdata\u001b[0m \u001b[0;34m=\u001b[0m \u001b[0mself\u001b[0m\u001b[0;34m.\u001b[0m\u001b[0mdataset\u001b[0m\u001b[0;34m.\u001b[0m\u001b[0m__getitems__\u001b[0m\u001b[0;34m(\u001b[0m\u001b[0mpossibly_batched_index\u001b[0m\u001b[0;34m)\u001b[0m\u001b[0;34m\u001b[0m\u001b[0;34m\u001b[0m\u001b[0m\n\u001b[1;32m     50\u001b[0m             \u001b[0;32melse\u001b[0m\u001b[0;34m:\u001b[0m\u001b[0;34m\u001b[0m\u001b[0;34m\u001b[0m\u001b[0m\n\u001b[0;32m---> 51\u001b[0;31m                 \u001b[0mdata\u001b[0m \u001b[0;34m=\u001b[0m \u001b[0;34m[\u001b[0m\u001b[0mself\u001b[0m\u001b[0;34m.\u001b[0m\u001b[0mdataset\u001b[0m\u001b[0;34m[\u001b[0m\u001b[0midx\u001b[0m\u001b[0;34m]\u001b[0m \u001b[0;32mfor\u001b[0m \u001b[0midx\u001b[0m \u001b[0;32min\u001b[0m \u001b[0mpossibly_batched_index\u001b[0m\u001b[0;34m]\u001b[0m\u001b[0;34m\u001b[0m\u001b[0;34m\u001b[0m\u001b[0m\n\u001b[0m\u001b[1;32m     52\u001b[0m         \u001b[0;32melse\u001b[0m\u001b[0;34m:\u001b[0m\u001b[0;34m\u001b[0m\u001b[0;34m\u001b[0m\u001b[0m\n\u001b[1;32m     53\u001b[0m             \u001b[0mdata\u001b[0m \u001b[0;34m=\u001b[0m \u001b[0mself\u001b[0m\u001b[0;34m.\u001b[0m\u001b[0mdataset\u001b[0m\u001b[0;34m[\u001b[0m\u001b[0mpossibly_batched_index\u001b[0m\u001b[0;34m]\u001b[0m\u001b[0;34m\u001b[0m\u001b[0;34m\u001b[0m\u001b[0m\n",
      "\u001b[0;32m<ipython-input-126-faacd4e9c20c>\u001b[0m in \u001b[0;36m__getitem__\u001b[0;34m(self, idx)\u001b[0m\n\u001b[1;32m     10\u001b[0m \u001b[0;34m\u001b[0m\u001b[0m\n\u001b[1;32m     11\u001b[0m     \u001b[0;32mdef\u001b[0m \u001b[0m__getitem__\u001b[0m\u001b[0;34m(\u001b[0m\u001b[0mself\u001b[0m\u001b[0;34m,\u001b[0m \u001b[0midx\u001b[0m\u001b[0;34m)\u001b[0m\u001b[0;34m:\u001b[0m\u001b[0;34m\u001b[0m\u001b[0;34m\u001b[0m\u001b[0m\n\u001b[0;32m---> 12\u001b[0;31m         \u001b[0;32mreturn\u001b[0m \u001b[0mself\u001b[0m\u001b[0;34m.\u001b[0m\u001b[0mX1\u001b[0m\u001b[0;34m[\u001b[0m\u001b[0midx\u001b[0m\u001b[0;34m]\u001b[0m\u001b[0;34m,\u001b[0m \u001b[0mself\u001b[0m\u001b[0;34m.\u001b[0m\u001b[0mX2\u001b[0m\u001b[0;34m[\u001b[0m\u001b[0midx\u001b[0m\u001b[0;34m]\u001b[0m\u001b[0;34m,\u001b[0m \u001b[0mself\u001b[0m\u001b[0;34m.\u001b[0m\u001b[0my\u001b[0m\u001b[0;34m[\u001b[0m\u001b[0midx\u001b[0m\u001b[0;34m]\u001b[0m\u001b[0;34m\u001b[0m\u001b[0;34m\u001b[0m\u001b[0m\n\u001b[0m",
      "\u001b[0;32m/usr/local/lib/python3.10/dist-packages/pandas/core/series.py\u001b[0m in \u001b[0;36m__getitem__\u001b[0;34m(self, key)\u001b[0m\n\u001b[1;32m    979\u001b[0m \u001b[0;34m\u001b[0m\u001b[0m\n\u001b[1;32m    980\u001b[0m         \u001b[0;32melif\u001b[0m \u001b[0mkey_is_scalar\u001b[0m\u001b[0;34m:\u001b[0m\u001b[0;34m\u001b[0m\u001b[0;34m\u001b[0m\u001b[0m\n\u001b[0;32m--> 981\u001b[0;31m             \u001b[0;32mreturn\u001b[0m \u001b[0mself\u001b[0m\u001b[0;34m.\u001b[0m\u001b[0m_get_value\u001b[0m\u001b[0;34m(\u001b[0m\u001b[0mkey\u001b[0m\u001b[0;34m)\u001b[0m\u001b[0;34m\u001b[0m\u001b[0;34m\u001b[0m\u001b[0m\n\u001b[0m\u001b[1;32m    982\u001b[0m \u001b[0;34m\u001b[0m\u001b[0m\n\u001b[1;32m    983\u001b[0m         \u001b[0;32mif\u001b[0m \u001b[0mis_hashable\u001b[0m\u001b[0;34m(\u001b[0m\u001b[0mkey\u001b[0m\u001b[0;34m)\u001b[0m\u001b[0;34m:\u001b[0m\u001b[0;34m\u001b[0m\u001b[0;34m\u001b[0m\u001b[0m\n",
      "\u001b[0;32m/usr/local/lib/python3.10/dist-packages/pandas/core/series.py\u001b[0m in \u001b[0;36m_get_value\u001b[0;34m(self, label, takeable)\u001b[0m\n\u001b[1;32m   1087\u001b[0m \u001b[0;34m\u001b[0m\u001b[0m\n\u001b[1;32m   1088\u001b[0m         \u001b[0;31m# Similar to Index.get_value, but we do not fall back to positional\u001b[0m\u001b[0;34m\u001b[0m\u001b[0;34m\u001b[0m\u001b[0m\n\u001b[0;32m-> 1089\u001b[0;31m         \u001b[0mloc\u001b[0m \u001b[0;34m=\u001b[0m \u001b[0mself\u001b[0m\u001b[0;34m.\u001b[0m\u001b[0mindex\u001b[0m\u001b[0;34m.\u001b[0m\u001b[0mget_loc\u001b[0m\u001b[0;34m(\u001b[0m\u001b[0mlabel\u001b[0m\u001b[0;34m)\u001b[0m\u001b[0;34m\u001b[0m\u001b[0;34m\u001b[0m\u001b[0m\n\u001b[0m\u001b[1;32m   1090\u001b[0m         \u001b[0;32mreturn\u001b[0m \u001b[0mself\u001b[0m\u001b[0;34m.\u001b[0m\u001b[0mindex\u001b[0m\u001b[0;34m.\u001b[0m\u001b[0m_get_values_for_loc\u001b[0m\u001b[0;34m(\u001b[0m\u001b[0mself\u001b[0m\u001b[0;34m,\u001b[0m \u001b[0mloc\u001b[0m\u001b[0;34m,\u001b[0m \u001b[0mlabel\u001b[0m\u001b[0;34m)\u001b[0m\u001b[0;34m\u001b[0m\u001b[0;34m\u001b[0m\u001b[0m\n\u001b[1;32m   1091\u001b[0m \u001b[0;34m\u001b[0m\u001b[0m\n",
      "\u001b[0;32m/usr/local/lib/python3.10/dist-packages/pandas/core/indexes/base.py\u001b[0m in \u001b[0;36mget_loc\u001b[0;34m(self, key, method, tolerance)\u001b[0m\n\u001b[1;32m   3802\u001b[0m                 \u001b[0;32mreturn\u001b[0m \u001b[0mself\u001b[0m\u001b[0;34m.\u001b[0m\u001b[0m_engine\u001b[0m\u001b[0;34m.\u001b[0m\u001b[0mget_loc\u001b[0m\u001b[0;34m(\u001b[0m\u001b[0mcasted_key\u001b[0m\u001b[0;34m)\u001b[0m\u001b[0;34m\u001b[0m\u001b[0;34m\u001b[0m\u001b[0m\n\u001b[1;32m   3803\u001b[0m             \u001b[0;32mexcept\u001b[0m \u001b[0mKeyError\u001b[0m \u001b[0;32mas\u001b[0m \u001b[0merr\u001b[0m\u001b[0;34m:\u001b[0m\u001b[0;34m\u001b[0m\u001b[0;34m\u001b[0m\u001b[0m\n\u001b[0;32m-> 3804\u001b[0;31m                 \u001b[0;32mraise\u001b[0m \u001b[0mKeyError\u001b[0m\u001b[0;34m(\u001b[0m\u001b[0mkey\u001b[0m\u001b[0;34m)\u001b[0m \u001b[0;32mfrom\u001b[0m \u001b[0merr\u001b[0m\u001b[0;34m\u001b[0m\u001b[0;34m\u001b[0m\u001b[0m\n\u001b[0m\u001b[1;32m   3805\u001b[0m             \u001b[0;32mexcept\u001b[0m \u001b[0mTypeError\u001b[0m\u001b[0;34m:\u001b[0m\u001b[0;34m\u001b[0m\u001b[0;34m\u001b[0m\u001b[0m\n\u001b[1;32m   3806\u001b[0m                 \u001b[0;31m# If we have a listlike key, _check_indexing_error will raise\u001b[0m\u001b[0;34m\u001b[0m\u001b[0;34m\u001b[0m\u001b[0m\n",
      "\u001b[0;31mKeyError\u001b[0m: 155"
     ]
    }
   ],
   "source": [
    "# convert to an iterator and look at one random sample\n",
    "dataiter = iter(train_dataloader)\n",
    "data = next(dataiter)\n",
    "x1, x2, labels = data\n",
    "print(features, labels)\n",
    "print(x1.shape, x2.shape, labels.shape)"
   ]
  },
  {
   "cell_type": "code",
   "execution_count": null,
   "metadata": {
    "colab": {
     "base_uri": "https://localhost:8080/"
    },
    "id": "fnWCBz9E5xRV",
    "outputId": "106aca9a-0f2c-422b-c6bc-7654099e3c8d"
   },
   "outputs": [
    {
     "data": {
      "text/plain": [
       "666"
      ]
     },
     "execution_count": 149,
     "metadata": {},
     "output_type": "execute_result"
    }
   ],
   "source": [
    "train_dataloader = DataLoader(\n",
    "    train_ds,\n",
    "    batch_size=64,\n",
    "    shuffle=True\n",
    ")\n",
    "test_dataloader = DataLoader(\n",
    "    valid_ds,\n",
    "    batch_size=64,\n",
    "    shuffle=False\n",
    ")\n",
    "\n",
    "len(train_dataloader.dataset)"
   ]
  },
  {
   "cell_type": "code",
   "execution_count": null,
   "metadata": {
    "id": "elTgFMC84SkL"
   },
   "outputs": [],
   "source": [
    "# Training\n",
    "\n",
    "batch_size = 128\n",
    "train_dl = DataLoader(train_ds, batch_size=batch_size,shuffle=True)\n",
    "valid_dl = DataLoader(valid_ds, batch_size=batch_size,shuffle=False)"
   ]
  },
  {
   "cell_type": "code",
   "execution_count": null,
   "metadata": {
    "id": "yrkRV6iq4T-Z"
   },
   "outputs": [],
   "source": [
    "# train_dl = DeviceDataLoader(train_dl, device)\n",
    "# valid_dl = DeviceDataLoader(valid_dl, device)"
   ]
  },
  {
   "cell_type": "code",
   "execution_count": null,
   "metadata": {
    "colab": {
     "base_uri": "https://localhost:8080/",
     "height": 524
    },
    "id": "HLfQjKRx5BV9",
    "outputId": "e46c4fc5-1462-4363-f78c-d0c1dc6e02f8"
   },
   "outputs": [
    {
     "ename": "KeyError",
     "evalue": "ignored",
     "output_type": "error",
     "traceback": [
      "\u001b[0;31m---------------------------------------------------------------------------\u001b[0m",
      "\u001b[0;31mKeyError\u001b[0m                                  Traceback (most recent call last)",
      "\u001b[0;32m/usr/local/lib/python3.10/dist-packages/pandas/core/indexes/base.py\u001b[0m in \u001b[0;36mget_loc\u001b[0;34m(self, key, method, tolerance)\u001b[0m\n\u001b[1;32m   3801\u001b[0m             \u001b[0;32mtry\u001b[0m\u001b[0;34m:\u001b[0m\u001b[0;34m\u001b[0m\u001b[0;34m\u001b[0m\u001b[0m\n\u001b[0;32m-> 3802\u001b[0;31m                 \u001b[0;32mreturn\u001b[0m \u001b[0mself\u001b[0m\u001b[0;34m.\u001b[0m\u001b[0m_engine\u001b[0m\u001b[0;34m.\u001b[0m\u001b[0mget_loc\u001b[0m\u001b[0;34m(\u001b[0m\u001b[0mcasted_key\u001b[0m\u001b[0;34m)\u001b[0m\u001b[0;34m\u001b[0m\u001b[0;34m\u001b[0m\u001b[0m\n\u001b[0m\u001b[1;32m   3803\u001b[0m             \u001b[0;32mexcept\u001b[0m \u001b[0mKeyError\u001b[0m \u001b[0;32mas\u001b[0m \u001b[0merr\u001b[0m\u001b[0;34m:\u001b[0m\u001b[0;34m\u001b[0m\u001b[0;34m\u001b[0m\u001b[0m\n",
      "\u001b[0;32m/usr/local/lib/python3.10/dist-packages/pandas/_libs/index.pyx\u001b[0m in \u001b[0;36mpandas._libs.index.IndexEngine.get_loc\u001b[0;34m()\u001b[0m\n",
      "\u001b[0;32m/usr/local/lib/python3.10/dist-packages/pandas/_libs/index.pyx\u001b[0m in \u001b[0;36mpandas._libs.index.IndexEngine.get_loc\u001b[0;34m()\u001b[0m\n",
      "\u001b[0;32mpandas/_libs/hashtable_class_helper.pxi\u001b[0m in \u001b[0;36mpandas._libs.hashtable.Int64HashTable.get_item\u001b[0;34m()\u001b[0m\n",
      "\u001b[0;32mpandas/_libs/hashtable_class_helper.pxi\u001b[0m in \u001b[0;36mpandas._libs.hashtable.Int64HashTable.get_item\u001b[0;34m()\u001b[0m\n",
      "\u001b[0;31mKeyError\u001b[0m: 86",
      "\nThe above exception was the direct cause of the following exception:\n",
      "\u001b[0;31mKeyError\u001b[0m                                  Traceback (most recent call last)",
      "\u001b[0;32m<ipython-input-143-448ad0dc648f>\u001b[0m in \u001b[0;36m<cell line: 1>\u001b[0;34m()\u001b[0m\n\u001b[0;32m----> 1\u001b[0;31m \u001b[0;32mfor\u001b[0m \u001b[0mi\u001b[0m \u001b[0;32min\u001b[0m \u001b[0mtrain_dl\u001b[0m\u001b[0;34m:\u001b[0m\u001b[0;34m\u001b[0m\u001b[0;34m\u001b[0m\u001b[0m\n\u001b[0m\u001b[1;32m      2\u001b[0m     \u001b[0mprint\u001b[0m\u001b[0;34m(\u001b[0m\u001b[0mi\u001b[0m\u001b[0;34m)\u001b[0m\u001b[0;34m\u001b[0m\u001b[0;34m\u001b[0m\u001b[0m\n\u001b[1;32m      3\u001b[0m     \u001b[0;32mbreak\u001b[0m\u001b[0;34m\u001b[0m\u001b[0;34m\u001b[0m\u001b[0m\n",
      "\u001b[0;32m/usr/local/lib/python3.10/dist-packages/torch/utils/data/dataloader.py\u001b[0m in \u001b[0;36m__next__\u001b[0;34m(self)\u001b[0m\n\u001b[1;32m    628\u001b[0m                 \u001b[0;31m# TODO(https://github.com/pytorch/pytorch/issues/76750)\u001b[0m\u001b[0;34m\u001b[0m\u001b[0;34m\u001b[0m\u001b[0m\n\u001b[1;32m    629\u001b[0m                 \u001b[0mself\u001b[0m\u001b[0;34m.\u001b[0m\u001b[0m_reset\u001b[0m\u001b[0;34m(\u001b[0m\u001b[0;34m)\u001b[0m  \u001b[0;31m# type: ignore[call-arg]\u001b[0m\u001b[0;34m\u001b[0m\u001b[0;34m\u001b[0m\u001b[0m\n\u001b[0;32m--> 630\u001b[0;31m             \u001b[0mdata\u001b[0m \u001b[0;34m=\u001b[0m \u001b[0mself\u001b[0m\u001b[0;34m.\u001b[0m\u001b[0m_next_data\u001b[0m\u001b[0;34m(\u001b[0m\u001b[0;34m)\u001b[0m\u001b[0;34m\u001b[0m\u001b[0;34m\u001b[0m\u001b[0m\n\u001b[0m\u001b[1;32m    631\u001b[0m             \u001b[0mself\u001b[0m\u001b[0;34m.\u001b[0m\u001b[0m_num_yielded\u001b[0m \u001b[0;34m+=\u001b[0m \u001b[0;36m1\u001b[0m\u001b[0;34m\u001b[0m\u001b[0;34m\u001b[0m\u001b[0m\n\u001b[1;32m    632\u001b[0m             \u001b[0;32mif\u001b[0m \u001b[0mself\u001b[0m\u001b[0;34m.\u001b[0m\u001b[0m_dataset_kind\u001b[0m \u001b[0;34m==\u001b[0m \u001b[0m_DatasetKind\u001b[0m\u001b[0;34m.\u001b[0m\u001b[0mIterable\u001b[0m \u001b[0;32mand\u001b[0m\u001b[0;31m \u001b[0m\u001b[0;31m\\\u001b[0m\u001b[0;34m\u001b[0m\u001b[0;34m\u001b[0m\u001b[0m\n",
      "\u001b[0;32m/usr/local/lib/python3.10/dist-packages/torch/utils/data/dataloader.py\u001b[0m in \u001b[0;36m_next_data\u001b[0;34m(self)\u001b[0m\n\u001b[1;32m    672\u001b[0m     \u001b[0;32mdef\u001b[0m \u001b[0m_next_data\u001b[0m\u001b[0;34m(\u001b[0m\u001b[0mself\u001b[0m\u001b[0;34m)\u001b[0m\u001b[0;34m:\u001b[0m\u001b[0;34m\u001b[0m\u001b[0;34m\u001b[0m\u001b[0m\n\u001b[1;32m    673\u001b[0m         \u001b[0mindex\u001b[0m \u001b[0;34m=\u001b[0m \u001b[0mself\u001b[0m\u001b[0;34m.\u001b[0m\u001b[0m_next_index\u001b[0m\u001b[0;34m(\u001b[0m\u001b[0;34m)\u001b[0m  \u001b[0;31m# may raise StopIteration\u001b[0m\u001b[0;34m\u001b[0m\u001b[0;34m\u001b[0m\u001b[0m\n\u001b[0;32m--> 674\u001b[0;31m         \u001b[0mdata\u001b[0m \u001b[0;34m=\u001b[0m \u001b[0mself\u001b[0m\u001b[0;34m.\u001b[0m\u001b[0m_dataset_fetcher\u001b[0m\u001b[0;34m.\u001b[0m\u001b[0mfetch\u001b[0m\u001b[0;34m(\u001b[0m\u001b[0mindex\u001b[0m\u001b[0;34m)\u001b[0m  \u001b[0;31m# may raise StopIteration\u001b[0m\u001b[0;34m\u001b[0m\u001b[0;34m\u001b[0m\u001b[0m\n\u001b[0m\u001b[1;32m    675\u001b[0m         \u001b[0;32mif\u001b[0m \u001b[0mself\u001b[0m\u001b[0;34m.\u001b[0m\u001b[0m_pin_memory\u001b[0m\u001b[0;34m:\u001b[0m\u001b[0;34m\u001b[0m\u001b[0;34m\u001b[0m\u001b[0m\n\u001b[1;32m    676\u001b[0m             \u001b[0mdata\u001b[0m \u001b[0;34m=\u001b[0m \u001b[0m_utils\u001b[0m\u001b[0;34m.\u001b[0m\u001b[0mpin_memory\u001b[0m\u001b[0;34m.\u001b[0m\u001b[0mpin_memory\u001b[0m\u001b[0;34m(\u001b[0m\u001b[0mdata\u001b[0m\u001b[0;34m,\u001b[0m \u001b[0mself\u001b[0m\u001b[0;34m.\u001b[0m\u001b[0m_pin_memory_device\u001b[0m\u001b[0;34m)\u001b[0m\u001b[0;34m\u001b[0m\u001b[0;34m\u001b[0m\u001b[0m\n",
      "\u001b[0;32m/usr/local/lib/python3.10/dist-packages/torch/utils/data/_utils/fetch.py\u001b[0m in \u001b[0;36mfetch\u001b[0;34m(self, possibly_batched_index)\u001b[0m\n\u001b[1;32m     49\u001b[0m                 \u001b[0mdata\u001b[0m \u001b[0;34m=\u001b[0m \u001b[0mself\u001b[0m\u001b[0;34m.\u001b[0m\u001b[0mdataset\u001b[0m\u001b[0;34m.\u001b[0m\u001b[0m__getitems__\u001b[0m\u001b[0;34m(\u001b[0m\u001b[0mpossibly_batched_index\u001b[0m\u001b[0;34m)\u001b[0m\u001b[0;34m\u001b[0m\u001b[0;34m\u001b[0m\u001b[0m\n\u001b[1;32m     50\u001b[0m             \u001b[0;32melse\u001b[0m\u001b[0;34m:\u001b[0m\u001b[0;34m\u001b[0m\u001b[0;34m\u001b[0m\u001b[0m\n\u001b[0;32m---> 51\u001b[0;31m                 \u001b[0mdata\u001b[0m \u001b[0;34m=\u001b[0m \u001b[0;34m[\u001b[0m\u001b[0mself\u001b[0m\u001b[0;34m.\u001b[0m\u001b[0mdataset\u001b[0m\u001b[0;34m[\u001b[0m\u001b[0midx\u001b[0m\u001b[0;34m]\u001b[0m \u001b[0;32mfor\u001b[0m \u001b[0midx\u001b[0m \u001b[0;32min\u001b[0m \u001b[0mpossibly_batched_index\u001b[0m\u001b[0;34m]\u001b[0m\u001b[0;34m\u001b[0m\u001b[0;34m\u001b[0m\u001b[0m\n\u001b[0m\u001b[1;32m     52\u001b[0m         \u001b[0;32melse\u001b[0m\u001b[0;34m:\u001b[0m\u001b[0;34m\u001b[0m\u001b[0;34m\u001b[0m\u001b[0m\n\u001b[1;32m     53\u001b[0m             \u001b[0mdata\u001b[0m \u001b[0;34m=\u001b[0m \u001b[0mself\u001b[0m\u001b[0;34m.\u001b[0m\u001b[0mdataset\u001b[0m\u001b[0;34m[\u001b[0m\u001b[0mpossibly_batched_index\u001b[0m\u001b[0;34m]\u001b[0m\u001b[0;34m\u001b[0m\u001b[0;34m\u001b[0m\u001b[0m\n",
      "\u001b[0;32m/usr/local/lib/python3.10/dist-packages/torch/utils/data/_utils/fetch.py\u001b[0m in \u001b[0;36m<listcomp>\u001b[0;34m(.0)\u001b[0m\n\u001b[1;32m     49\u001b[0m                 \u001b[0mdata\u001b[0m \u001b[0;34m=\u001b[0m \u001b[0mself\u001b[0m\u001b[0;34m.\u001b[0m\u001b[0mdataset\u001b[0m\u001b[0;34m.\u001b[0m\u001b[0m__getitems__\u001b[0m\u001b[0;34m(\u001b[0m\u001b[0mpossibly_batched_index\u001b[0m\u001b[0;34m)\u001b[0m\u001b[0;34m\u001b[0m\u001b[0;34m\u001b[0m\u001b[0m\n\u001b[1;32m     50\u001b[0m             \u001b[0;32melse\u001b[0m\u001b[0;34m:\u001b[0m\u001b[0;34m\u001b[0m\u001b[0;34m\u001b[0m\u001b[0m\n\u001b[0;32m---> 51\u001b[0;31m                 \u001b[0mdata\u001b[0m \u001b[0;34m=\u001b[0m \u001b[0;34m[\u001b[0m\u001b[0mself\u001b[0m\u001b[0;34m.\u001b[0m\u001b[0mdataset\u001b[0m\u001b[0;34m[\u001b[0m\u001b[0midx\u001b[0m\u001b[0;34m]\u001b[0m \u001b[0;32mfor\u001b[0m \u001b[0midx\u001b[0m \u001b[0;32min\u001b[0m \u001b[0mpossibly_batched_index\u001b[0m\u001b[0;34m]\u001b[0m\u001b[0;34m\u001b[0m\u001b[0;34m\u001b[0m\u001b[0m\n\u001b[0m\u001b[1;32m     52\u001b[0m         \u001b[0;32melse\u001b[0m\u001b[0;34m:\u001b[0m\u001b[0;34m\u001b[0m\u001b[0;34m\u001b[0m\u001b[0m\n\u001b[1;32m     53\u001b[0m             \u001b[0mdata\u001b[0m \u001b[0;34m=\u001b[0m \u001b[0mself\u001b[0m\u001b[0;34m.\u001b[0m\u001b[0mdataset\u001b[0m\u001b[0;34m[\u001b[0m\u001b[0mpossibly_batched_index\u001b[0m\u001b[0;34m]\u001b[0m\u001b[0;34m\u001b[0m\u001b[0;34m\u001b[0m\u001b[0m\n",
      "\u001b[0;32m<ipython-input-126-faacd4e9c20c>\u001b[0m in \u001b[0;36m__getitem__\u001b[0;34m(self, idx)\u001b[0m\n\u001b[1;32m     10\u001b[0m \u001b[0;34m\u001b[0m\u001b[0m\n\u001b[1;32m     11\u001b[0m     \u001b[0;32mdef\u001b[0m \u001b[0m__getitem__\u001b[0m\u001b[0;34m(\u001b[0m\u001b[0mself\u001b[0m\u001b[0;34m,\u001b[0m \u001b[0midx\u001b[0m\u001b[0;34m)\u001b[0m\u001b[0;34m:\u001b[0m\u001b[0;34m\u001b[0m\u001b[0;34m\u001b[0m\u001b[0m\n\u001b[0;32m---> 12\u001b[0;31m         \u001b[0;32mreturn\u001b[0m \u001b[0mself\u001b[0m\u001b[0;34m.\u001b[0m\u001b[0mX1\u001b[0m\u001b[0;34m[\u001b[0m\u001b[0midx\u001b[0m\u001b[0;34m]\u001b[0m\u001b[0;34m,\u001b[0m \u001b[0mself\u001b[0m\u001b[0;34m.\u001b[0m\u001b[0mX2\u001b[0m\u001b[0;34m[\u001b[0m\u001b[0midx\u001b[0m\u001b[0;34m]\u001b[0m\u001b[0;34m,\u001b[0m \u001b[0mself\u001b[0m\u001b[0;34m.\u001b[0m\u001b[0my\u001b[0m\u001b[0;34m[\u001b[0m\u001b[0midx\u001b[0m\u001b[0;34m]\u001b[0m\u001b[0;34m\u001b[0m\u001b[0;34m\u001b[0m\u001b[0m\n\u001b[0m",
      "\u001b[0;32m/usr/local/lib/python3.10/dist-packages/pandas/core/series.py\u001b[0m in \u001b[0;36m__getitem__\u001b[0;34m(self, key)\u001b[0m\n\u001b[1;32m    979\u001b[0m \u001b[0;34m\u001b[0m\u001b[0m\n\u001b[1;32m    980\u001b[0m         \u001b[0;32melif\u001b[0m \u001b[0mkey_is_scalar\u001b[0m\u001b[0;34m:\u001b[0m\u001b[0;34m\u001b[0m\u001b[0;34m\u001b[0m\u001b[0m\n\u001b[0;32m--> 981\u001b[0;31m             \u001b[0;32mreturn\u001b[0m \u001b[0mself\u001b[0m\u001b[0;34m.\u001b[0m\u001b[0m_get_value\u001b[0m\u001b[0;34m(\u001b[0m\u001b[0mkey\u001b[0m\u001b[0;34m)\u001b[0m\u001b[0;34m\u001b[0m\u001b[0;34m\u001b[0m\u001b[0m\n\u001b[0m\u001b[1;32m    982\u001b[0m \u001b[0;34m\u001b[0m\u001b[0m\n\u001b[1;32m    983\u001b[0m         \u001b[0;32mif\u001b[0m \u001b[0mis_hashable\u001b[0m\u001b[0;34m(\u001b[0m\u001b[0mkey\u001b[0m\u001b[0;34m)\u001b[0m\u001b[0;34m:\u001b[0m\u001b[0;34m\u001b[0m\u001b[0;34m\u001b[0m\u001b[0m\n",
      "\u001b[0;32m/usr/local/lib/python3.10/dist-packages/pandas/core/series.py\u001b[0m in \u001b[0;36m_get_value\u001b[0;34m(self, label, takeable)\u001b[0m\n\u001b[1;32m   1087\u001b[0m \u001b[0;34m\u001b[0m\u001b[0m\n\u001b[1;32m   1088\u001b[0m         \u001b[0;31m# Similar to Index.get_value, but we do not fall back to positional\u001b[0m\u001b[0;34m\u001b[0m\u001b[0;34m\u001b[0m\u001b[0m\n\u001b[0;32m-> 1089\u001b[0;31m         \u001b[0mloc\u001b[0m \u001b[0;34m=\u001b[0m \u001b[0mself\u001b[0m\u001b[0;34m.\u001b[0m\u001b[0mindex\u001b[0m\u001b[0;34m.\u001b[0m\u001b[0mget_loc\u001b[0m\u001b[0;34m(\u001b[0m\u001b[0mlabel\u001b[0m\u001b[0;34m)\u001b[0m\u001b[0;34m\u001b[0m\u001b[0;34m\u001b[0m\u001b[0m\n\u001b[0m\u001b[1;32m   1090\u001b[0m         \u001b[0;32mreturn\u001b[0m \u001b[0mself\u001b[0m\u001b[0;34m.\u001b[0m\u001b[0mindex\u001b[0m\u001b[0;34m.\u001b[0m\u001b[0m_get_values_for_loc\u001b[0m\u001b[0;34m(\u001b[0m\u001b[0mself\u001b[0m\u001b[0;34m,\u001b[0m \u001b[0mloc\u001b[0m\u001b[0;34m,\u001b[0m \u001b[0mlabel\u001b[0m\u001b[0;34m)\u001b[0m\u001b[0;34m\u001b[0m\u001b[0;34m\u001b[0m\u001b[0m\n\u001b[1;32m   1091\u001b[0m \u001b[0;34m\u001b[0m\u001b[0m\n",
      "\u001b[0;32m/usr/local/lib/python3.10/dist-packages/pandas/core/indexes/base.py\u001b[0m in \u001b[0;36mget_loc\u001b[0;34m(self, key, method, tolerance)\u001b[0m\n\u001b[1;32m   3802\u001b[0m                 \u001b[0;32mreturn\u001b[0m \u001b[0mself\u001b[0m\u001b[0;34m.\u001b[0m\u001b[0m_engine\u001b[0m\u001b[0;34m.\u001b[0m\u001b[0mget_loc\u001b[0m\u001b[0;34m(\u001b[0m\u001b[0mcasted_key\u001b[0m\u001b[0;34m)\u001b[0m\u001b[0;34m\u001b[0m\u001b[0;34m\u001b[0m\u001b[0m\n\u001b[1;32m   3803\u001b[0m             \u001b[0;32mexcept\u001b[0m \u001b[0mKeyError\u001b[0m \u001b[0;32mas\u001b[0m \u001b[0merr\u001b[0m\u001b[0;34m:\u001b[0m\u001b[0;34m\u001b[0m\u001b[0;34m\u001b[0m\u001b[0m\n\u001b[0;32m-> 3804\u001b[0;31m                 \u001b[0;32mraise\u001b[0m \u001b[0mKeyError\u001b[0m\u001b[0;34m(\u001b[0m\u001b[0mkey\u001b[0m\u001b[0;34m)\u001b[0m \u001b[0;32mfrom\u001b[0m \u001b[0merr\u001b[0m\u001b[0;34m\u001b[0m\u001b[0;34m\u001b[0m\u001b[0m\n\u001b[0m\u001b[1;32m   3805\u001b[0m             \u001b[0;32mexcept\u001b[0m \u001b[0mTypeError\u001b[0m\u001b[0;34m:\u001b[0m\u001b[0;34m\u001b[0m\u001b[0;34m\u001b[0m\u001b[0m\n\u001b[1;32m   3806\u001b[0m                 \u001b[0;31m# If we have a listlike key, _check_indexing_error will raise\u001b[0m\u001b[0;34m\u001b[0m\u001b[0;34m\u001b[0m\u001b[0m\n",
      "\u001b[0;31mKeyError\u001b[0m: 86"
     ]
    }
   ],
   "source": [
    "for i in train_dl:\n",
    "    print(i)\n",
    "    break"
   ]
  },
  {
   "cell_type": "code",
   "execution_count": null,
   "metadata": {
    "colab": {
     "base_uri": "https://localhost:8080/",
     "height": 524
    },
    "id": "D_3tVcx73WGP",
    "outputId": "773fe5a7-8061-428d-dbff-8b9a30bdc48a"
   },
   "outputs": [
    {
     "ename": "KeyError",
     "evalue": "ignored",
     "output_type": "error",
     "traceback": [
      "\u001b[0;31m---------------------------------------------------------------------------\u001b[0m",
      "\u001b[0;31mKeyError\u001b[0m                                  Traceback (most recent call last)",
      "\u001b[0;32m/usr/local/lib/python3.10/dist-packages/pandas/core/indexes/base.py\u001b[0m in \u001b[0;36mget_loc\u001b[0;34m(self, key, method, tolerance)\u001b[0m\n\u001b[1;32m   3801\u001b[0m             \u001b[0;32mtry\u001b[0m\u001b[0;34m:\u001b[0m\u001b[0;34m\u001b[0m\u001b[0;34m\u001b[0m\u001b[0m\n\u001b[0;32m-> 3802\u001b[0;31m                 \u001b[0;32mreturn\u001b[0m \u001b[0mself\u001b[0m\u001b[0;34m.\u001b[0m\u001b[0m_engine\u001b[0m\u001b[0;34m.\u001b[0m\u001b[0mget_loc\u001b[0m\u001b[0;34m(\u001b[0m\u001b[0mcasted_key\u001b[0m\u001b[0;34m)\u001b[0m\u001b[0;34m\u001b[0m\u001b[0;34m\u001b[0m\u001b[0m\n\u001b[0m\u001b[1;32m   3803\u001b[0m             \u001b[0;32mexcept\u001b[0m \u001b[0mKeyError\u001b[0m \u001b[0;32mas\u001b[0m \u001b[0merr\u001b[0m\u001b[0;34m:\u001b[0m\u001b[0;34m\u001b[0m\u001b[0;34m\u001b[0m\u001b[0m\n",
      "\u001b[0;32m/usr/local/lib/python3.10/dist-packages/pandas/_libs/index.pyx\u001b[0m in \u001b[0;36mpandas._libs.index.IndexEngine.get_loc\u001b[0;34m()\u001b[0m\n",
      "\u001b[0;32m/usr/local/lib/python3.10/dist-packages/pandas/_libs/index.pyx\u001b[0m in \u001b[0;36mpandas._libs.index.IndexEngine.get_loc\u001b[0;34m()\u001b[0m\n",
      "\u001b[0;32mpandas/_libs/hashtable_class_helper.pxi\u001b[0m in \u001b[0;36mpandas._libs.hashtable.Int64HashTable.get_item\u001b[0;34m()\u001b[0m\n",
      "\u001b[0;32mpandas/_libs/hashtable_class_helper.pxi\u001b[0m in \u001b[0;36mpandas._libs.hashtable.Int64HashTable.get_item\u001b[0;34m()\u001b[0m\n",
      "\u001b[0;31mKeyError\u001b[0m: 626",
      "\nThe above exception was the direct cause of the following exception:\n",
      "\u001b[0;31mKeyError\u001b[0m                                  Traceback (most recent call last)",
      "\u001b[0;32m<ipython-input-137-027b9218a30c>\u001b[0m in \u001b[0;36m<cell line: 1>\u001b[0;34m()\u001b[0m\n\u001b[0;32m----> 1\u001b[0;31m \u001b[0mtrain_loop\u001b[0m\u001b[0;34m(\u001b[0m\u001b[0mmodel\u001b[0m\u001b[0;34m,\u001b[0m \u001b[0mepochs\u001b[0m\u001b[0;34m=\u001b[0m\u001b[0;36m8\u001b[0m\u001b[0;34m,\u001b[0m \u001b[0mlr\u001b[0m\u001b[0;34m=\u001b[0m\u001b[0;36m0.05\u001b[0m\u001b[0;34m,\u001b[0m \u001b[0mwd\u001b[0m\u001b[0;34m=\u001b[0m\u001b[0;36m0.00001\u001b[0m\u001b[0;34m)\u001b[0m\u001b[0;34m\u001b[0m\u001b[0;34m\u001b[0m\u001b[0m\n\u001b[0m",
      "\u001b[0;32m<ipython-input-133-f1cdde1c4ff4>\u001b[0m in \u001b[0;36mtrain_loop\u001b[0;34m(model, epochs, lr, wd)\u001b[0m\n\u001b[1;32m      2\u001b[0m     \u001b[0moptim\u001b[0m \u001b[0;34m=\u001b[0m \u001b[0mget_optimizer\u001b[0m\u001b[0;34m(\u001b[0m\u001b[0mmodel\u001b[0m\u001b[0;34m,\u001b[0m \u001b[0mlr\u001b[0m \u001b[0;34m=\u001b[0m \u001b[0mlr\u001b[0m\u001b[0;34m,\u001b[0m \u001b[0mwd\u001b[0m \u001b[0;34m=\u001b[0m \u001b[0mwd\u001b[0m\u001b[0;34m)\u001b[0m\u001b[0;34m\u001b[0m\u001b[0;34m\u001b[0m\u001b[0m\n\u001b[1;32m      3\u001b[0m     \u001b[0;32mfor\u001b[0m \u001b[0mi\u001b[0m \u001b[0;32min\u001b[0m \u001b[0mrange\u001b[0m\u001b[0;34m(\u001b[0m\u001b[0mepochs\u001b[0m\u001b[0;34m)\u001b[0m\u001b[0;34m:\u001b[0m\u001b[0;34m\u001b[0m\u001b[0;34m\u001b[0m\u001b[0m\n\u001b[0;32m----> 4\u001b[0;31m         \u001b[0mloss\u001b[0m \u001b[0;34m=\u001b[0m \u001b[0mtrain_model\u001b[0m\u001b[0;34m(\u001b[0m\u001b[0mmodel\u001b[0m\u001b[0;34m,\u001b[0m \u001b[0moptim\u001b[0m\u001b[0;34m,\u001b[0m \u001b[0mtrain_dl\u001b[0m\u001b[0;34m)\u001b[0m\u001b[0;34m\u001b[0m\u001b[0;34m\u001b[0m\u001b[0m\n\u001b[0m\u001b[1;32m      5\u001b[0m         \u001b[0mprint\u001b[0m\u001b[0;34m(\u001b[0m\u001b[0;34m\"training loss: \"\u001b[0m\u001b[0;34m,\u001b[0m \u001b[0mloss\u001b[0m\u001b[0;34m)\u001b[0m\u001b[0;34m\u001b[0m\u001b[0;34m\u001b[0m\u001b[0m\n\u001b[1;32m      6\u001b[0m         \u001b[0mval_loss\u001b[0m\u001b[0;34m(\u001b[0m\u001b[0mmodel\u001b[0m\u001b[0;34m,\u001b[0m \u001b[0mvalid_dl\u001b[0m\u001b[0;34m)\u001b[0m\u001b[0;34m\u001b[0m\u001b[0;34m\u001b[0m\u001b[0m\n",
      "\u001b[0;32m<ipython-input-132-7a1a0101cd99>\u001b[0m in \u001b[0;36mtrain_model\u001b[0;34m(model, optim, train_dl)\u001b[0m\n\u001b[1;32m      5\u001b[0m     \u001b[0mtotal\u001b[0m \u001b[0;34m=\u001b[0m \u001b[0;36m0\u001b[0m\u001b[0;34m\u001b[0m\u001b[0;34m\u001b[0m\u001b[0m\n\u001b[1;32m      6\u001b[0m     \u001b[0msum_loss\u001b[0m \u001b[0;34m=\u001b[0m \u001b[0;36m0\u001b[0m\u001b[0;34m\u001b[0m\u001b[0;34m\u001b[0m\u001b[0m\n\u001b[0;32m----> 7\u001b[0;31m     \u001b[0;32mfor\u001b[0m \u001b[0mx1\u001b[0m\u001b[0;34m,\u001b[0m \u001b[0mx2\u001b[0m\u001b[0;34m,\u001b[0m \u001b[0my\u001b[0m \u001b[0;32min\u001b[0m \u001b[0mtrain_dl\u001b[0m\u001b[0;34m:\u001b[0m\u001b[0;34m\u001b[0m\u001b[0;34m\u001b[0m\u001b[0m\n\u001b[0m\u001b[1;32m      8\u001b[0m         \u001b[0mbatch\u001b[0m \u001b[0;34m=\u001b[0m \u001b[0my\u001b[0m\u001b[0;34m.\u001b[0m\u001b[0mshape\u001b[0m\u001b[0;34m[\u001b[0m\u001b[0;36m0\u001b[0m\u001b[0;34m]\u001b[0m\u001b[0;34m\u001b[0m\u001b[0;34m\u001b[0m\u001b[0m\n\u001b[1;32m      9\u001b[0m         \u001b[0moutput\u001b[0m \u001b[0;34m=\u001b[0m \u001b[0mmodel\u001b[0m\u001b[0;34m(\u001b[0m\u001b[0mx1\u001b[0m\u001b[0;34m,\u001b[0m \u001b[0mx2\u001b[0m\u001b[0;34m)\u001b[0m\u001b[0;34m\u001b[0m\u001b[0;34m\u001b[0m\u001b[0m\n",
      "\u001b[0;32m<ipython-input-129-2875c809b03d>\u001b[0m in \u001b[0;36m__iter__\u001b[0;34m(self)\u001b[0m\n\u001b[1;32m     20\u001b[0m     \u001b[0;32mdef\u001b[0m \u001b[0m__iter__\u001b[0m\u001b[0;34m(\u001b[0m\u001b[0mself\u001b[0m\u001b[0;34m)\u001b[0m\u001b[0;34m:\u001b[0m\u001b[0;34m\u001b[0m\u001b[0;34m\u001b[0m\u001b[0m\n\u001b[1;32m     21\u001b[0m         \u001b[0;34m\"\"\"Yield a batch of data after moving it to device\"\"\"\u001b[0m\u001b[0;34m\u001b[0m\u001b[0;34m\u001b[0m\u001b[0m\n\u001b[0;32m---> 22\u001b[0;31m         \u001b[0;32mfor\u001b[0m \u001b[0mb\u001b[0m \u001b[0;32min\u001b[0m \u001b[0mself\u001b[0m\u001b[0;34m.\u001b[0m\u001b[0mdl\u001b[0m\u001b[0;34m:\u001b[0m\u001b[0;34m\u001b[0m\u001b[0;34m\u001b[0m\u001b[0m\n\u001b[0m\u001b[1;32m     23\u001b[0m             \u001b[0;32myield\u001b[0m \u001b[0mto_device\u001b[0m\u001b[0;34m(\u001b[0m\u001b[0mb\u001b[0m\u001b[0;34m,\u001b[0m \u001b[0mself\u001b[0m\u001b[0;34m.\u001b[0m\u001b[0mdevice\u001b[0m\u001b[0;34m)\u001b[0m\u001b[0;34m\u001b[0m\u001b[0;34m\u001b[0m\u001b[0m\n\u001b[1;32m     24\u001b[0m \u001b[0;34m\u001b[0m\u001b[0m\n",
      "\u001b[0;32m/usr/local/lib/python3.10/dist-packages/torch/utils/data/dataloader.py\u001b[0m in \u001b[0;36m__next__\u001b[0;34m(self)\u001b[0m\n\u001b[1;32m    628\u001b[0m                 \u001b[0;31m# TODO(https://github.com/pytorch/pytorch/issues/76750)\u001b[0m\u001b[0;34m\u001b[0m\u001b[0;34m\u001b[0m\u001b[0m\n\u001b[1;32m    629\u001b[0m                 \u001b[0mself\u001b[0m\u001b[0;34m.\u001b[0m\u001b[0m_reset\u001b[0m\u001b[0;34m(\u001b[0m\u001b[0;34m)\u001b[0m  \u001b[0;31m# type: ignore[call-arg]\u001b[0m\u001b[0;34m\u001b[0m\u001b[0;34m\u001b[0m\u001b[0m\n\u001b[0;32m--> 630\u001b[0;31m             \u001b[0mdata\u001b[0m \u001b[0;34m=\u001b[0m \u001b[0mself\u001b[0m\u001b[0;34m.\u001b[0m\u001b[0m_next_data\u001b[0m\u001b[0;34m(\u001b[0m\u001b[0;34m)\u001b[0m\u001b[0;34m\u001b[0m\u001b[0;34m\u001b[0m\u001b[0m\n\u001b[0m\u001b[1;32m    631\u001b[0m             \u001b[0mself\u001b[0m\u001b[0;34m.\u001b[0m\u001b[0m_num_yielded\u001b[0m \u001b[0;34m+=\u001b[0m \u001b[0;36m1\u001b[0m\u001b[0;34m\u001b[0m\u001b[0;34m\u001b[0m\u001b[0m\n\u001b[1;32m    632\u001b[0m             \u001b[0;32mif\u001b[0m \u001b[0mself\u001b[0m\u001b[0;34m.\u001b[0m\u001b[0m_dataset_kind\u001b[0m \u001b[0;34m==\u001b[0m \u001b[0m_DatasetKind\u001b[0m\u001b[0;34m.\u001b[0m\u001b[0mIterable\u001b[0m \u001b[0;32mand\u001b[0m\u001b[0;31m \u001b[0m\u001b[0;31m\\\u001b[0m\u001b[0;34m\u001b[0m\u001b[0;34m\u001b[0m\u001b[0m\n",
      "\u001b[0;32m/usr/local/lib/python3.10/dist-packages/torch/utils/data/dataloader.py\u001b[0m in \u001b[0;36m_next_data\u001b[0;34m(self)\u001b[0m\n\u001b[1;32m    672\u001b[0m     \u001b[0;32mdef\u001b[0m \u001b[0m_next_data\u001b[0m\u001b[0;34m(\u001b[0m\u001b[0mself\u001b[0m\u001b[0;34m)\u001b[0m\u001b[0;34m:\u001b[0m\u001b[0;34m\u001b[0m\u001b[0;34m\u001b[0m\u001b[0m\n\u001b[1;32m    673\u001b[0m         \u001b[0mindex\u001b[0m \u001b[0;34m=\u001b[0m \u001b[0mself\u001b[0m\u001b[0;34m.\u001b[0m\u001b[0m_next_index\u001b[0m\u001b[0;34m(\u001b[0m\u001b[0;34m)\u001b[0m  \u001b[0;31m# may raise StopIteration\u001b[0m\u001b[0;34m\u001b[0m\u001b[0;34m\u001b[0m\u001b[0m\n\u001b[0;32m--> 674\u001b[0;31m         \u001b[0mdata\u001b[0m \u001b[0;34m=\u001b[0m \u001b[0mself\u001b[0m\u001b[0;34m.\u001b[0m\u001b[0m_dataset_fetcher\u001b[0m\u001b[0;34m.\u001b[0m\u001b[0mfetch\u001b[0m\u001b[0;34m(\u001b[0m\u001b[0mindex\u001b[0m\u001b[0;34m)\u001b[0m  \u001b[0;31m# may raise StopIteration\u001b[0m\u001b[0;34m\u001b[0m\u001b[0;34m\u001b[0m\u001b[0m\n\u001b[0m\u001b[1;32m    675\u001b[0m         \u001b[0;32mif\u001b[0m \u001b[0mself\u001b[0m\u001b[0;34m.\u001b[0m\u001b[0m_pin_memory\u001b[0m\u001b[0;34m:\u001b[0m\u001b[0;34m\u001b[0m\u001b[0;34m\u001b[0m\u001b[0m\n\u001b[1;32m    676\u001b[0m             \u001b[0mdata\u001b[0m \u001b[0;34m=\u001b[0m \u001b[0m_utils\u001b[0m\u001b[0;34m.\u001b[0m\u001b[0mpin_memory\u001b[0m\u001b[0;34m.\u001b[0m\u001b[0mpin_memory\u001b[0m\u001b[0;34m(\u001b[0m\u001b[0mdata\u001b[0m\u001b[0;34m,\u001b[0m \u001b[0mself\u001b[0m\u001b[0;34m.\u001b[0m\u001b[0m_pin_memory_device\u001b[0m\u001b[0;34m)\u001b[0m\u001b[0;34m\u001b[0m\u001b[0;34m\u001b[0m\u001b[0m\n",
      "\u001b[0;32m/usr/local/lib/python3.10/dist-packages/torch/utils/data/_utils/fetch.py\u001b[0m in \u001b[0;36mfetch\u001b[0;34m(self, possibly_batched_index)\u001b[0m\n\u001b[1;32m     49\u001b[0m                 \u001b[0mdata\u001b[0m \u001b[0;34m=\u001b[0m \u001b[0mself\u001b[0m\u001b[0;34m.\u001b[0m\u001b[0mdataset\u001b[0m\u001b[0;34m.\u001b[0m\u001b[0m__getitems__\u001b[0m\u001b[0;34m(\u001b[0m\u001b[0mpossibly_batched_index\u001b[0m\u001b[0;34m)\u001b[0m\u001b[0;34m\u001b[0m\u001b[0;34m\u001b[0m\u001b[0m\n\u001b[1;32m     50\u001b[0m             \u001b[0;32melse\u001b[0m\u001b[0;34m:\u001b[0m\u001b[0;34m\u001b[0m\u001b[0;34m\u001b[0m\u001b[0m\n\u001b[0;32m---> 51\u001b[0;31m                 \u001b[0mdata\u001b[0m \u001b[0;34m=\u001b[0m \u001b[0;34m[\u001b[0m\u001b[0mself\u001b[0m\u001b[0;34m.\u001b[0m\u001b[0mdataset\u001b[0m\u001b[0;34m[\u001b[0m\u001b[0midx\u001b[0m\u001b[0;34m]\u001b[0m \u001b[0;32mfor\u001b[0m \u001b[0midx\u001b[0m \u001b[0;32min\u001b[0m \u001b[0mpossibly_batched_index\u001b[0m\u001b[0;34m]\u001b[0m\u001b[0;34m\u001b[0m\u001b[0;34m\u001b[0m\u001b[0m\n\u001b[0m\u001b[1;32m     52\u001b[0m         \u001b[0;32melse\u001b[0m\u001b[0;34m:\u001b[0m\u001b[0;34m\u001b[0m\u001b[0;34m\u001b[0m\u001b[0m\n\u001b[1;32m     53\u001b[0m             \u001b[0mdata\u001b[0m \u001b[0;34m=\u001b[0m \u001b[0mself\u001b[0m\u001b[0;34m.\u001b[0m\u001b[0mdataset\u001b[0m\u001b[0;34m[\u001b[0m\u001b[0mpossibly_batched_index\u001b[0m\u001b[0;34m]\u001b[0m\u001b[0;34m\u001b[0m\u001b[0;34m\u001b[0m\u001b[0m\n",
      "\u001b[0;32m/usr/local/lib/python3.10/dist-packages/torch/utils/data/_utils/fetch.py\u001b[0m in \u001b[0;36m<listcomp>\u001b[0;34m(.0)\u001b[0m\n\u001b[1;32m     49\u001b[0m                 \u001b[0mdata\u001b[0m \u001b[0;34m=\u001b[0m \u001b[0mself\u001b[0m\u001b[0;34m.\u001b[0m\u001b[0mdataset\u001b[0m\u001b[0;34m.\u001b[0m\u001b[0m__getitems__\u001b[0m\u001b[0;34m(\u001b[0m\u001b[0mpossibly_batched_index\u001b[0m\u001b[0;34m)\u001b[0m\u001b[0;34m\u001b[0m\u001b[0;34m\u001b[0m\u001b[0m\n\u001b[1;32m     50\u001b[0m             \u001b[0;32melse\u001b[0m\u001b[0;34m:\u001b[0m\u001b[0;34m\u001b[0m\u001b[0;34m\u001b[0m\u001b[0m\n\u001b[0;32m---> 51\u001b[0;31m                 \u001b[0mdata\u001b[0m \u001b[0;34m=\u001b[0m \u001b[0;34m[\u001b[0m\u001b[0mself\u001b[0m\u001b[0;34m.\u001b[0m\u001b[0mdataset\u001b[0m\u001b[0;34m[\u001b[0m\u001b[0midx\u001b[0m\u001b[0;34m]\u001b[0m \u001b[0;32mfor\u001b[0m \u001b[0midx\u001b[0m \u001b[0;32min\u001b[0m \u001b[0mpossibly_batched_index\u001b[0m\u001b[0;34m]\u001b[0m\u001b[0;34m\u001b[0m\u001b[0;34m\u001b[0m\u001b[0m\n\u001b[0m\u001b[1;32m     52\u001b[0m         \u001b[0;32melse\u001b[0m\u001b[0;34m:\u001b[0m\u001b[0;34m\u001b[0m\u001b[0;34m\u001b[0m\u001b[0m\n\u001b[1;32m     53\u001b[0m             \u001b[0mdata\u001b[0m \u001b[0;34m=\u001b[0m \u001b[0mself\u001b[0m\u001b[0;34m.\u001b[0m\u001b[0mdataset\u001b[0m\u001b[0;34m[\u001b[0m\u001b[0mpossibly_batched_index\u001b[0m\u001b[0;34m]\u001b[0m\u001b[0;34m\u001b[0m\u001b[0;34m\u001b[0m\u001b[0m\n",
      "\u001b[0;32m<ipython-input-126-faacd4e9c20c>\u001b[0m in \u001b[0;36m__getitem__\u001b[0;34m(self, idx)\u001b[0m\n\u001b[1;32m     10\u001b[0m \u001b[0;34m\u001b[0m\u001b[0m\n\u001b[1;32m     11\u001b[0m     \u001b[0;32mdef\u001b[0m \u001b[0m__getitem__\u001b[0m\u001b[0;34m(\u001b[0m\u001b[0mself\u001b[0m\u001b[0;34m,\u001b[0m \u001b[0midx\u001b[0m\u001b[0;34m)\u001b[0m\u001b[0;34m:\u001b[0m\u001b[0;34m\u001b[0m\u001b[0;34m\u001b[0m\u001b[0m\n\u001b[0;32m---> 12\u001b[0;31m         \u001b[0;32mreturn\u001b[0m \u001b[0mself\u001b[0m\u001b[0;34m.\u001b[0m\u001b[0mX1\u001b[0m\u001b[0;34m[\u001b[0m\u001b[0midx\u001b[0m\u001b[0;34m]\u001b[0m\u001b[0;34m,\u001b[0m \u001b[0mself\u001b[0m\u001b[0;34m.\u001b[0m\u001b[0mX2\u001b[0m\u001b[0;34m[\u001b[0m\u001b[0midx\u001b[0m\u001b[0;34m]\u001b[0m\u001b[0;34m,\u001b[0m \u001b[0mself\u001b[0m\u001b[0;34m.\u001b[0m\u001b[0my\u001b[0m\u001b[0;34m[\u001b[0m\u001b[0midx\u001b[0m\u001b[0;34m]\u001b[0m\u001b[0;34m\u001b[0m\u001b[0;34m\u001b[0m\u001b[0m\n\u001b[0m",
      "\u001b[0;32m/usr/local/lib/python3.10/dist-packages/pandas/core/series.py\u001b[0m in \u001b[0;36m__getitem__\u001b[0;34m(self, key)\u001b[0m\n\u001b[1;32m    979\u001b[0m \u001b[0;34m\u001b[0m\u001b[0m\n\u001b[1;32m    980\u001b[0m         \u001b[0;32melif\u001b[0m \u001b[0mkey_is_scalar\u001b[0m\u001b[0;34m:\u001b[0m\u001b[0;34m\u001b[0m\u001b[0;34m\u001b[0m\u001b[0m\n\u001b[0;32m--> 981\u001b[0;31m             \u001b[0;32mreturn\u001b[0m \u001b[0mself\u001b[0m\u001b[0;34m.\u001b[0m\u001b[0m_get_value\u001b[0m\u001b[0;34m(\u001b[0m\u001b[0mkey\u001b[0m\u001b[0;34m)\u001b[0m\u001b[0;34m\u001b[0m\u001b[0;34m\u001b[0m\u001b[0m\n\u001b[0m\u001b[1;32m    982\u001b[0m \u001b[0;34m\u001b[0m\u001b[0m\n\u001b[1;32m    983\u001b[0m         \u001b[0;32mif\u001b[0m \u001b[0mis_hashable\u001b[0m\u001b[0;34m(\u001b[0m\u001b[0mkey\u001b[0m\u001b[0;34m)\u001b[0m\u001b[0;34m:\u001b[0m\u001b[0;34m\u001b[0m\u001b[0;34m\u001b[0m\u001b[0m\n",
      "\u001b[0;32m/usr/local/lib/python3.10/dist-packages/pandas/core/series.py\u001b[0m in \u001b[0;36m_get_value\u001b[0;34m(self, label, takeable)\u001b[0m\n\u001b[1;32m   1087\u001b[0m \u001b[0;34m\u001b[0m\u001b[0m\n\u001b[1;32m   1088\u001b[0m         \u001b[0;31m# Similar to Index.get_value, but we do not fall back to positional\u001b[0m\u001b[0;34m\u001b[0m\u001b[0;34m\u001b[0m\u001b[0m\n\u001b[0;32m-> 1089\u001b[0;31m         \u001b[0mloc\u001b[0m \u001b[0;34m=\u001b[0m \u001b[0mself\u001b[0m\u001b[0;34m.\u001b[0m\u001b[0mindex\u001b[0m\u001b[0;34m.\u001b[0m\u001b[0mget_loc\u001b[0m\u001b[0;34m(\u001b[0m\u001b[0mlabel\u001b[0m\u001b[0;34m)\u001b[0m\u001b[0;34m\u001b[0m\u001b[0;34m\u001b[0m\u001b[0m\n\u001b[0m\u001b[1;32m   1090\u001b[0m         \u001b[0;32mreturn\u001b[0m \u001b[0mself\u001b[0m\u001b[0;34m.\u001b[0m\u001b[0mindex\u001b[0m\u001b[0;34m.\u001b[0m\u001b[0m_get_values_for_loc\u001b[0m\u001b[0;34m(\u001b[0m\u001b[0mself\u001b[0m\u001b[0;34m,\u001b[0m \u001b[0mloc\u001b[0m\u001b[0;34m,\u001b[0m \u001b[0mlabel\u001b[0m\u001b[0;34m)\u001b[0m\u001b[0;34m\u001b[0m\u001b[0;34m\u001b[0m\u001b[0m\n\u001b[1;32m   1091\u001b[0m \u001b[0;34m\u001b[0m\u001b[0m\n",
      "\u001b[0;32m/usr/local/lib/python3.10/dist-packages/pandas/core/indexes/base.py\u001b[0m in \u001b[0;36mget_loc\u001b[0;34m(self, key, method, tolerance)\u001b[0m\n\u001b[1;32m   3802\u001b[0m                 \u001b[0;32mreturn\u001b[0m \u001b[0mself\u001b[0m\u001b[0;34m.\u001b[0m\u001b[0m_engine\u001b[0m\u001b[0;34m.\u001b[0m\u001b[0mget_loc\u001b[0m\u001b[0;34m(\u001b[0m\u001b[0mcasted_key\u001b[0m\u001b[0;34m)\u001b[0m\u001b[0;34m\u001b[0m\u001b[0;34m\u001b[0m\u001b[0m\n\u001b[1;32m   3803\u001b[0m             \u001b[0;32mexcept\u001b[0m \u001b[0mKeyError\u001b[0m \u001b[0;32mas\u001b[0m \u001b[0merr\u001b[0m\u001b[0;34m:\u001b[0m\u001b[0;34m\u001b[0m\u001b[0;34m\u001b[0m\u001b[0m\n\u001b[0;32m-> 3804\u001b[0;31m                 \u001b[0;32mraise\u001b[0m \u001b[0mKeyError\u001b[0m\u001b[0;34m(\u001b[0m\u001b[0mkey\u001b[0m\u001b[0;34m)\u001b[0m \u001b[0;32mfrom\u001b[0m \u001b[0merr\u001b[0m\u001b[0;34m\u001b[0m\u001b[0;34m\u001b[0m\u001b[0m\n\u001b[0m\u001b[1;32m   3805\u001b[0m             \u001b[0;32mexcept\u001b[0m \u001b[0mTypeError\u001b[0m\u001b[0;34m:\u001b[0m\u001b[0;34m\u001b[0m\u001b[0;34m\u001b[0m\u001b[0m\n\u001b[1;32m   3806\u001b[0m                 \u001b[0;31m# If we have a listlike key, _check_indexing_error will raise\u001b[0m\u001b[0;34m\u001b[0m\u001b[0;34m\u001b[0m\u001b[0m\n",
      "\u001b[0;31mKeyError\u001b[0m: 626"
     ]
    }
   ],
   "source": [
    "train_loop(model, epochs=8, lr=0.05, wd=0.00001)"
   ]
  },
  {
   "cell_type": "code",
   "execution_count": null,
   "metadata": {
    "colab": {
     "base_uri": "https://localhost:8080/",
     "height": 179
    },
    "id": "n23VhvEEapRY",
    "outputId": "e50bc84d-ef2f-41c5-eb4d-aa196b99eb96"
   },
   "outputs": [
    {
     "ename": "NameError",
     "evalue": "ignored",
     "output_type": "error",
     "traceback": [
      "\u001b[0;31m---------------------------------------------------------------------------\u001b[0m",
      "\u001b[0;31mNameError\u001b[0m                                 Traceback (most recent call last)",
      "\u001b[0;32m<ipython-input-162-0ee41935e82c>\u001b[0m in \u001b[0;36m<cell line: 1>\u001b[0;34m()\u001b[0m\n\u001b[0;32m----> 1\u001b[0;31m \u001b[0mX\u001b[0m \u001b[0;34m=\u001b[0m \u001b[0msc\u001b[0m\u001b[0;34m.\u001b[0m\u001b[0mfit_transform\u001b[0m\u001b[0;34m(\u001b[0m\u001b[0mX\u001b[0m\u001b[0;34m)\u001b[0m\u001b[0;34m\u001b[0m\u001b[0;34m\u001b[0m\u001b[0m\n\u001b[0m",
      "\u001b[0;31mNameError\u001b[0m: name 'sc' is not defined"
     ]
    }
   ],
   "source": [
    "X = sc.fit_transform(X)"
   ]
  }
 ],
 "metadata": {
  "colab": {
   "collapsed_sections": [
    "KQoLDB4IvLaN",
    "i9iRMJl6-Igl",
    "8yoczi2n9NVn"
   ],
   "provenance": []
  },
  "kernelspec": {
   "display_name": "Python 3 (ipykernel)",
   "language": "python",
   "name": "python3"
  },
  "language_info": {
   "codemirror_mode": {
    "name": "ipython",
    "version": 3
   },
   "file_extension": ".py",
   "mimetype": "text/x-python",
   "name": "python",
   "nbconvert_exporter": "python",
   "pygments_lexer": "ipython3",
   "version": "3.10.13"
  },
  "widgets": {
   "application/vnd.jupyter.widget-state+json": {
    "fda4e99101674a04ac24cd8534e159cb": {
     "model_module": "catboost-widget",
     "model_module_version": "^1.0.0",
     "model_name": "CatboostWidgetModel",
     "state": {
      "_dom_classes": [],
      "_model_module": "catboost-widget",
      "_model_module_version": "^1.0.0",
      "_model_name": "CatboostWidgetModel",
      "_view_count": null,
      "_view_module": "catboost-widget",
      "_view_module_version": "^1.0.0",
      "_view_name": "CatboostWidgetView",
      "data": {
       "catboost_info": {
        "content": {
         "data": {
          "iterations": [
           {
            "iteration": 0,
            "learn": [
             0.6891891892,
             1.608834335
            ],
            "passed_time": 1.128083547,
            "remaining_time": 1126.955464,
            "test": [
             0.5089820359,
             1.608930271
            ]
           },
           {
            "iteration": 1,
            "learn": [
             0.7072072072,
             1.608164106
            ],
            "passed_time": 2.103485609,
            "remaining_time": 1049.639319,
            "test": [
             0.622754491,
             1.608364402
            ]
           },
           {
            "iteration": 2,
            "learn": [
             0.7342342342,
             1.607662316
            ],
            "passed_time": 3.048943428,
            "remaining_time": 1013.265533,
            "test": [
             0.5928143713,
             1.608061802
            ]
           },
           {
            "iteration": 3,
            "learn": [
             0.7627627628,
             1.607066077
            ],
            "passed_time": 4.023640477,
            "remaining_time": 1001.886479,
            "test": [
             0.5508982036,
             1.607650196
            ]
           },
           {
            "iteration": 4,
            "learn": [
             0.7582582583,
             1.606289397
            ],
            "passed_time": 4.935254211,
            "remaining_time": 982.1155879,
            "test": [
             0.5808383234,
             1.607009179
            ]
           },
           {
            "iteration": 5,
            "learn": [
             0.7642642643,
             1.605670174
            ],
            "passed_time": 6.000164619,
            "remaining_time": 994.0272718,
            "test": [
             0.5928143713,
             1.606502042
            ]
           },
           {
            "iteration": 6,
            "learn": [
             0.7552552553,
             1.605005971
            ],
            "passed_time": 7.045121081,
            "remaining_time": 999.4007476,
            "test": [
             0.5988023952,
             1.605986979
            ]
           },
           {
            "iteration": 7,
            "learn": [
             0.7432432432,
             1.604314121
            ],
            "passed_time": 8.081900683,
            "remaining_time": 1002.155685,
            "test": [
             0.5928143713,
             1.605523237
            ]
           },
           {
            "iteration": 8,
            "learn": [
             0.7477477477,
             1.603713168
            ],
            "passed_time": 9.065868312,
            "remaining_time": 998.2528331,
            "test": [
             0.5568862275,
             1.605097707
            ]
           },
           {
            "iteration": 9,
            "learn": [
             0.7357357357,
             1.603003553
            ],
            "passed_time": 10.11735702,
            "remaining_time": 1001.618345,
            "test": [
             0.5748502994,
             1.604526941
            ]
           },
           {
            "iteration": 10,
            "learn": [
             0.7372372372,
             1.602374703
            ],
            "passed_time": 11.96340675,
            "remaining_time": 1075.619025,
            "test": [
             0.5748502994,
             1.604060961
            ]
           },
           {
            "iteration": 11,
            "learn": [
             0.7402402402,
             1.601688913
            ],
            "passed_time": 14.396547,
            "remaining_time": 1185.315703,
            "test": [
             0.5568862275,
             1.603551639
            ]
           },
           {
            "iteration": 12,
            "learn": [
             0.7402402402,
             1.600885181
            ],
            "passed_time": 15.73580421,
            "remaining_time": 1194.710674,
            "test": [
             0.5628742515,
             1.602896378
            ]
           },
           {
            "iteration": 13,
            "learn": [
             0.7432432432,
             1.600147323
            ],
            "passed_time": 17.12192037,
            "remaining_time": 1205.872391,
            "test": [
             0.5688622754,
             1.60234557
            ]
           },
           {
            "iteration": 14,
            "learn": [
             0.7507507508,
             1.599468489
            ],
            "passed_time": 18.73627969,
            "remaining_time": 1230.349033,
            "test": [
             0.5868263473,
             1.601824644
            ]
           },
           {
            "iteration": 15,
            "learn": [
             0.7492492492,
             1.598703668
            ],
            "passed_time": 20.2711644,
            "remaining_time": 1246.67661,
            "test": [
             0.5808383234,
             1.601255446
            ]
           },
           {
            "iteration": 16,
            "learn": [
             0.7582582583,
             1.59806613
            ],
            "passed_time": 21.7023865,
            "remaining_time": 1254.908584,
            "test": [
             0.5808383234,
             1.600818708
            ]
           },
           {
            "iteration": 17,
            "learn": [
             0.7597597598,
             1.597365187
            ],
            "passed_time": 22.65750275,
            "remaining_time": 1236.09265,
            "test": [
             0.5868263473,
             1.600220268
            ]
           },
           {
            "iteration": 18,
            "learn": [
             0.7582582583,
             1.596699419
            ],
            "passed_time": 23.52737096,
            "remaining_time": 1214.755311,
            "test": [
             0.5868263473,
             1.599711887
            ]
           },
           {
            "iteration": 19,
            "learn": [
             0.7597597598,
             1.595987189
            ],
            "passed_time": 24.49558932,
            "remaining_time": 1200.283877,
            "test": [
             0.5988023952,
             1.599094108
            ]
           },
           {
            "iteration": 20,
            "learn": [
             0.7597597598,
             1.595281682
            ],
            "passed_time": 26.31776885,
            "remaining_time": 1226.909319,
            "test": [
             0.6047904192,
             1.598567358
            ]
           },
           {
            "iteration": 21,
            "learn": [
             0.7537537538,
             1.594551727
            ],
            "passed_time": 28.82382279,
            "remaining_time": 1281.34994,
            "test": [
             0.6107784431,
             1.598015204
            ]
           },
           {
            "iteration": 22,
            "learn": [
             0.7537537538,
             1.593891465
            ],
            "passed_time": 30.14640639,
            "remaining_time": 1280.566915,
            "test": [
             0.6167664671,
             1.597551777
            ]
           },
           {
            "iteration": 23,
            "learn": [
             0.7567567568,
             1.593215595
            ],
            "passed_time": 31.5941282,
            "remaining_time": 1284.82788,
            "test": [
             0.6167664671,
             1.597020895
            ]
           },
           {
            "iteration": 24,
            "learn": [
             0.7567567568,
             1.592615944
            ],
            "passed_time": 32.92341719,
            "remaining_time": 1284.013271,
            "test": [
             0.6167664671,
             1.59657711
            ]
           },
           {
            "iteration": 25,
            "learn": [
             0.7627627628,
             1.591921155
            ],
            "passed_time": 33.79335428,
            "remaining_time": 1265.951041,
            "test": [
             0.6167664671,
             1.596023567
            ]
           },
           {
            "iteration": 26,
            "learn": [
             0.7627627628,
             1.591303975
            ],
            "passed_time": 34.72801509,
            "remaining_time": 1251.494766,
            "test": [
             0.6107784431,
             1.595592149
            ]
           },
           {
            "iteration": 27,
            "learn": [
             0.7642642643,
             1.590644595
            ],
            "passed_time": 35.72514614,
            "remaining_time": 1240.17293,
            "test": [
             0.6107784431,
             1.595137432
            ]
           },
           {
            "iteration": 28,
            "learn": [
             0.7657657658,
             1.590120676
            ],
            "passed_time": 36.62979969,
            "remaining_time": 1226.466741,
            "test": [
             0.5988023952,
             1.59477599
            ]
           },
           {
            "iteration": 29,
            "learn": [
             0.7642642643,
             1.589374344
            ],
            "passed_time": 37.66640855,
            "remaining_time": 1217.880543,
            "test": [
             0.5988023952,
             1.594176488
            ]
           },
           {
            "iteration": 30,
            "learn": [
             0.7657657658,
             1.588783666
            ],
            "passed_time": 38.53871966,
            "remaining_time": 1204.645786,
            "test": [
             0.6047904192,
             1.593763118
            ]
           },
           {
            "iteration": 31,
            "learn": [
             0.7717717718,
             1.588169424
            ],
            "passed_time": 39.85218003,
            "remaining_time": 1205.528446,
            "test": [
             0.5988023952,
             1.59331319
            ]
           },
           {
            "iteration": 32,
            "learn": [
             0.7747747748,
             1.587442668
            ],
            "passed_time": 41.68509643,
            "remaining_time": 1221.499644,
            "test": [
             0.5988023952,
             1.592720504
            ]
           },
           {
            "iteration": 33,
            "learn": [
             0.7762762763,
             1.58683728
            ],
            "passed_time": 43.31236266,
            "remaining_time": 1230.580657,
            "test": [
             0.5928143713,
             1.592282789
            ]
           },
           {
            "iteration": 34,
            "learn": [
             0.7777777778,
             1.586354964
            ],
            "passed_time": 44.29255543,
            "remaining_time": 1221.209028,
            "test": [
             0.5928143713,
             1.591964755
            ]
           },
           {
            "iteration": 35,
            "learn": [
             0.7792792793,
             1.585645747
            ],
            "passed_time": 45.32090212,
            "remaining_time": 1213.593046,
            "test": [
             0.5868263473,
             1.59136175
            ]
           },
           {
            "iteration": 36,
            "learn": [
             0.7807807808,
             1.585077555
            ],
            "passed_time": 46.36228622,
            "remaining_time": 1206.672477,
            "test": [
             0.5928143713,
             1.590914989
            ]
           },
           {
            "iteration": 37,
            "learn": [
             0.7762762763,
             1.584328679
            ],
            "passed_time": 47.39967784,
            "remaining_time": 1199.960265,
            "test": [
             0.5928143713,
             1.590309842
            ]
           },
           {
            "iteration": 38,
            "learn": [
             0.7792792793,
             1.583647043
            ],
            "passed_time": 48.32262835,
            "remaining_time": 1190.719124,
            "test": [
             0.5928143713,
             1.589743896
            ]
           },
           {
            "iteration": 39,
            "learn": [
             0.7747747748,
             1.582986155
            ],
            "passed_time": 49.29534556,
            "remaining_time": 1183.088293,
            "test": [
             0.5868263473,
             1.58922756
            ]
           },
           {
            "iteration": 40,
            "learn": [
             0.7792792793,
             1.582319252
            ],
            "passed_time": 50.32042606,
            "remaining_time": 1177.007039,
            "test": [
             0.5988023952,
             1.588656258
            ]
           },
           {
            "iteration": 41,
            "learn": [
             0.7777777778,
             1.581775756
            ],
            "passed_time": 51.35947001,
            "remaining_time": 1171.485054,
            "test": [
             0.6047904192,
             1.588271315
            ]
           },
           {
            "iteration": 42,
            "learn": [
             0.7822822823,
             1.58116732
            ],
            "passed_time": 52.40462432,
            "remaining_time": 1166.307569,
            "test": [
             0.6047904192,
             1.587870424
            ]
           },
           {
            "iteration": 43,
            "learn": [
             0.7777777778,
             1.580595487
            ],
            "passed_time": 53.38402803,
            "remaining_time": 1159.889336,
            "test": [
             0.5988023952,
             1.587511339
            ]
           },
           {
            "iteration": 44,
            "learn": [
             0.7762762763,
             1.580151782
            ],
            "passed_time": 55.15438681,
            "remaining_time": 1170.498653,
            "test": [
             0.6047904192,
             1.587251531
            ]
           },
           {
            "iteration": 45,
            "learn": [
             0.7777777778,
             1.579473781
            ],
            "passed_time": 56.95327924,
            "remaining_time": 1181.161487,
            "test": [
             0.6047904192,
             1.586767038
            ]
           },
           {
            "iteration": 46,
            "learn": [
             0.7807807808,
             1.578924149
            ],
            "passed_time": 58.25673573,
            "remaining_time": 1181.24828,
            "test": [
             0.6047904192,
             1.58641115
            ]
           },
           {
            "iteration": 47,
            "learn": [
             0.7807807808,
             1.578298114
            ],
            "passed_time": 59.27243328,
            "remaining_time": 1175.569927,
            "test": [
             0.6107784431,
             1.585880347
            ]
           },
           {
            "iteration": 48,
            "learn": [
             0.7762762763,
             1.577598672
            ],
            "passed_time": 60.32256425,
            "remaining_time": 1170.750176,
            "test": [
             0.6047904192,
             1.585333387
            ]
           },
           {
            "iteration": 49,
            "learn": [
             0.7762762763,
             1.577023726
            ],
            "passed_time": 61.30253639,
            "remaining_time": 1164.748191,
            "test": [
             0.6107784431,
             1.584915226
            ]
           },
           {
            "iteration": 50,
            "learn": [
             0.7762762763,
             1.576442768
            ],
            "passed_time": 62.20136151,
            "remaining_time": 1157.433178,
            "test": [
             0.6167664671,
             1.584478619
            ]
           },
           {
            "iteration": 51,
            "learn": [
             0.7777777778,
             1.575916075
            ],
            "passed_time": 63.07489465,
            "remaining_time": 1149.903849,
            "test": [
             0.622754491,
             1.584051322
            ]
           },
           {
            "iteration": 52,
            "learn": [
             0.7792792793,
             1.575376497
            ],
            "passed_time": 64.11450181,
            "remaining_time": 1145.593079,
            "test": [
             0.6107784431,
             1.583652526
            ]
           },
           {
            "iteration": 53,
            "learn": [
             0.7777777778,
             1.574720357
            ],
            "passed_time": 65.1316389,
            "remaining_time": 1141.009822,
            "test": [
             0.6047904192,
             1.583116064
            ]
           },
           {
            "iteration": 54,
            "learn": [
             0.7777777778,
             1.574047109
            ],
            "passed_time": 66.20778319,
            "remaining_time": 1137.570093,
            "test": [
             0.6047904192,
             1.582606221
            ]
           },
           {
            "iteration": 55,
            "learn": [
             0.7762762763,
             1.573406723
            ],
            "passed_time": 67.24853789,
            "remaining_time": 1133.61821,
            "test": [
             0.6107784431,
             1.582109457
            ]
           },
           {
            "iteration": 56,
            "learn": [
             0.7762762763,
             1.5727099
            ],
            "passed_time": 68.56198719,
            "remaining_time": 1134.279893,
            "test": [
             0.6167664671,
             1.581537105
            ]
           },
           {
            "iteration": 57,
            "learn": [
             0.7762762763,
             1.572200182
            ],
            "passed_time": 70.25604598,
            "remaining_time": 1141.055092,
            "test": [
             0.6167664671,
             1.581190057
            ]
           },
           {
            "iteration": 58,
            "learn": [
             0.7792792793,
             1.571672749
            ],
            "passed_time": 71.81600569,
            "remaining_time": 1145.40443,
            "test": [
             0.6107784431,
             1.58076541
            ]
           },
           {
            "iteration": 59,
            "learn": [
             0.7762762763,
             1.5709973
            ],
            "passed_time": 72.687572,
            "remaining_time": 1138.771961,
            "test": [
             0.6167664671,
             1.580292009
            ]
           },
           {
            "iteration": 60,
            "learn": [
             0.7762762763,
             1.570360149
            ],
            "passed_time": 73.58358818,
            "remaining_time": 1132.704743,
            "test": [
             0.6107784431,
             1.579757975
            ]
           },
           {
            "iteration": 61,
            "learn": [
             0.7747747748,
             1.569510125
            ],
            "passed_time": 74.58917616,
            "remaining_time": 1128.462052,
            "test": [
             0.6167664671,
             1.579038256
            ]
           },
           {
            "iteration": 62,
            "learn": [
             0.7777777778,
             1.568866405
            ],
            "passed_time": 75.4828602,
            "remaining_time": 1122.657778,
            "test": [
             0.6167664671,
             1.578526136
            ]
           },
           {
            "iteration": 63,
            "learn": [
             0.7777777778,
             1.56815862
            ],
            "passed_time": 76.36496346,
            "remaining_time": 1116.837591,
            "test": [
             0.6107784431,
             1.577956113
            ]
           },
           {
            "iteration": 64,
            "learn": [
             0.7777777778,
             1.567597875
            ],
            "passed_time": 77.24381778,
            "remaining_time": 1111.12261,
            "test": [
             0.6107784431,
             1.577551748
            ]
           },
           {
            "iteration": 65,
            "learn": [
             0.7807807808,
             1.566937094
            ],
            "passed_time": 78.12586785,
            "remaining_time": 1105.599403,
            "test": [
             0.6167664671,
             1.577064313
            ]
           },
           {
            "iteration": 66,
            "learn": [
             0.7822822823,
             1.566194585
            ],
            "passed_time": 78.9959257,
            "remaining_time": 1100.047741,
            "test": [
             0.6167664671,
             1.576492742
            ]
           },
           {
            "iteration": 67,
            "learn": [
             0.7792792793,
             1.565469003
            ],
            "passed_time": 79.86113893,
            "remaining_time": 1094.567375,
            "test": [
             0.6167664671,
             1.575917634
            ]
           },
           {
            "iteration": 68,
            "learn": [
             0.7762762763,
             1.564911799
            ],
            "passed_time": 80.82283805,
            "remaining_time": 1090.522641,
            "test": [
             0.6167664671,
             1.575481078
            ]
           },
           {
            "iteration": 69,
            "learn": [
             0.7792792793,
             1.564315653
            ],
            "passed_time": 81.91006832,
            "remaining_time": 1088.233765,
            "test": [
             0.6167664671,
             1.575018114
            ]
           },
           {
            "iteration": 70,
            "learn": [
             0.7777777778,
             1.563709828
            ],
            "passed_time": 83.4797503,
            "remaining_time": 1092.291381,
            "test": [
             0.6167664671,
             1.574543605
            ]
           },
           {
            "iteration": 71,
            "learn": [
             0.7762762763,
             1.563185787
            ],
            "passed_time": 85.18741968,
            "remaining_time": 1097.971187,
            "test": [
             0.6167664671,
             1.574231045
            ]
           },
           {
            "iteration": 72,
            "learn": [
             0.7792792793,
             1.562751986
            ],
            "passed_time": 86.72700626,
            "remaining_time": 1101.314175,
            "test": [
             0.6107784431,
             1.573984215
            ]
           },
           {
            "iteration": 73,
            "learn": [
             0.7777777778,
             1.562116127
            ],
            "passed_time": 87.58684255,
            "remaining_time": 1096.019138,
            "test": [
             0.6107784431,
             1.573478299
            ]
           },
           {
            "iteration": 74,
            "learn": [
             0.7792792793,
             1.561602788
            ],
            "passed_time": 88.61617899,
            "remaining_time": 1092.932874,
            "test": [
             0.5988023952,
             1.573124696
            ]
           },
           {
            "iteration": 75,
            "learn": [
             0.7777777778,
             1.560927999
            ],
            "passed_time": 89.62599865,
            "remaining_time": 1089.663457,
            "test": [
             0.6107784431,
             1.572579856
            ]
           },
           {
            "iteration": 76,
            "learn": [
             0.7762762763,
             1.560287156
            ],
            "passed_time": 90.53704454,
            "remaining_time": 1085.268729,
            "test": [
             0.6107784431,
             1.572073356
            ]
           },
           {
            "iteration": 77,
            "learn": [
             0.7747747748,
             1.559743485
            ],
            "passed_time": 91.57104718,
            "remaining_time": 1082.416737,
            "test": [
             0.6107784431,
             1.571664709
            ]
           },
           {
            "iteration": 78,
            "learn": [
             0.7762762763,
             1.559158809
            ],
            "passed_time": 92.5995433,
            "remaining_time": 1079.546574,
            "test": [
             0.6107784431,
             1.571294161
            ]
           },
           {
            "iteration": 79,
            "learn": [
             0.7717717718,
             1.558467572
            ],
            "passed_time": 93.62340815,
            "remaining_time": 1076.669194,
            "test": [
             0.6047904192,
             1.570745919
            ]
           },
           {
            "iteration": 80,
            "learn": [
             0.7762762763,
             1.557797504
            ],
            "passed_time": 94.64912117,
            "remaining_time": 1073.858548,
            "test": [
             0.6047904192,
             1.570164848
            ]
           },
           {
            "iteration": 81,
            "learn": [
             0.7747747748,
             1.557152087
            ],
            "passed_time": 95.54775052,
            "remaining_time": 1069.668719,
            "test": [
             0.5988023952,
             1.569621445
            ]
           },
           {
            "iteration": 82,
            "learn": [
             0.7732732733,
             1.556509831
            ],
            "passed_time": 96.55323817,
            "remaining_time": 1066.738788,
            "test": [
             0.5988023952,
             1.569056665
            ]
           },
           {
            "iteration": 83,
            "learn": [
             0.7747747748,
             1.555830089
            ],
            "passed_time": 98.31409771,
            "remaining_time": 1072.091827,
            "test": [
             0.5988023952,
             1.568604285
            ]
           },
           {
            "iteration": 84,
            "learn": [
             0.7687687688,
             1.555171101
            ],
            "passed_time": 100.1796886,
            "remaining_time": 1078.404883,
            "test": [
             0.5988023952,
             1.567999722
            ]
           },
           {
            "iteration": 85,
            "learn": [
             0.7717717718,
             1.554513798
            ],
            "passed_time": 101.3747104,
            "remaining_time": 1077.400992,
            "test": [
             0.6047904192,
             1.56749481
            ]
           },
           {
            "iteration": 86,
            "learn": [
             0.7717717718,
             1.553895292
            ],
            "passed_time": 102.2974598,
            "remaining_time": 1073.535412,
            "test": [
             0.6047904192,
             1.567002459
            ]
           },
           {
            "iteration": 87,
            "learn": [
             0.7747747748,
             1.553277325
            ],
            "passed_time": 103.3341402,
            "remaining_time": 1070.917453,
            "test": [
             0.5988023952,
             1.566526292
            ]
           },
           {
            "iteration": 88,
            "learn": [
             0.7747747748,
             1.552524344
            ],
            "passed_time": 104.3674578,
            "remaining_time": 1068.300607,
            "test": [
             0.5988023952,
             1.565871694
            ]
           },
           {
            "iteration": 89,
            "learn": [
             0.7717717718,
             1.55177943
            ],
            "passed_time": 105.3422116,
            "remaining_time": 1065.126807,
            "test": [
             0.6047904192,
             1.565229003
            ]
           },
           {
            "iteration": 90,
            "learn": [
             0.7672672673,
             1.551139485
            ],
            "passed_time": 106.2313076,
            "remaining_time": 1061.145699,
            "test": [
             0.6107784431,
             1.564781293
            ]
           },
           {
            "iteration": 91,
            "learn": [
             0.7702702703,
             1.550519834
            ],
            "passed_time": 107.1045564,
            "remaining_time": 1057.075404,
            "test": [
             0.6047904192,
             1.564311397
            ]
           },
           {
            "iteration": 92,
            "learn": [
             0.7717717718,
             1.550005358
            ],
            "passed_time": 107.9828027,
            "remaining_time": 1053.122602,
            "test": [
             0.6047904192,
             1.564001521
            ]
           },
           {
            "iteration": 93,
            "learn": [
             0.7702702703,
             1.549480274
            ],
            "passed_time": 109.0049284,
            "remaining_time": 1050.62197,
            "test": [
             0.6047904192,
             1.563635326
            ]
           },
           {
            "iteration": 94,
            "learn": [
             0.7732732733,
             1.548861232
            ],
            "passed_time": 109.8973507,
            "remaining_time": 1046.916867,
            "test": [
             0.6047904192,
             1.563045982
            ]
           },
           {
            "iteration": 95,
            "learn": [
             0.7732732733,
             1.548211887
            ],
            "passed_time": 110.7752104,
            "remaining_time": 1043.133231,
            "test": [
             0.6047904192,
             1.562669922
            ]
           },
           {
            "iteration": 96,
            "learn": [
             0.7687687688,
             1.547517683
            ],
            "passed_time": 112.4500458,
            "remaining_time": 1046.828777,
            "test": [
             0.6047904192,
             1.562063061
            ]
           },
           {
            "iteration": 97,
            "learn": [
             0.7687687688,
             1.547043195
            ],
            "passed_time": 114.1269331,
            "remaining_time": 1050.433609,
            "test": [
             0.6047904192,
             1.561765251
            ]
           },
           {
            "iteration": 98,
            "learn": [
             0.7732732733,
             1.546469854
            ],
            "passed_time": 115.5457028,
            "remaining_time": 1051.582609,
            "test": [
             0.6047904192,
             1.561318977
            ]
           },
           {
            "iteration": 99,
            "learn": [
             0.7717717718,
             1.545783974
            ],
            "passed_time": 116.417294,
            "remaining_time": 1047.755646,
            "test": [
             0.6107784431,
             1.560688803
            ]
           },
           {
            "iteration": 100,
            "learn": [
             0.7717717718,
             1.545105745
            ],
            "passed_time": 117.2913835,
            "remaining_time": 1044.009443,
            "test": [
             0.6047904192,
             1.560179696
            ]
           },
           {
            "iteration": 101,
            "learn": [
             0.7777777778,
             1.544588687
            ],
            "passed_time": 118.1735334,
            "remaining_time": 1040.390519,
            "test": [
             0.6047904192,
             1.559832355
            ]
           },
           {
            "iteration": 102,
            "learn": [
             0.7762762763,
             1.543987472
            ],
            "passed_time": 119.0368336,
            "remaining_time": 1036.66058,
            "test": [
             0.5988023952,
             1.559398813
            ]
           },
           {
            "iteration": 103,
            "learn": [
             0.7747747748,
             1.5433537
            ],
            "passed_time": 119.9990518,
            "remaining_time": 1033.837985,
            "test": [
             0.5988023952,
             1.558885703
            ]
           },
           {
            "iteration": 104,
            "learn": [
             0.7762762763,
             1.54274629
            ],
            "passed_time": 121.0305052,
            "remaining_time": 1031.640973,
            "test": [
             0.6167664671,
             1.558420693
            ]
           },
           {
            "iteration": 105,
            "learn": [
             0.7777777778,
             1.542103332
            ],
            "passed_time": 122.0584307,
            "remaining_time": 1029.436198,
            "test": [
             0.6047904192,
             1.557930945
            ]
           },
           {
            "iteration": 106,
            "learn": [
             0.7777777778,
             1.541489618
            ],
            "passed_time": 123.0723287,
            "remaining_time": 1027.136351,
            "test": [
             0.6047904192,
             1.557466937
            ]
           },
           {
            "iteration": 107,
            "learn": [
             0.7777777778,
             1.540789884
            ],
            "passed_time": 124.093224,
            "remaining_time": 1024.91811,
            "test": [
             0.6047904192,
             1.556854227
            ]
           },
           {
            "iteration": 108,
            "learn": [
             0.7762762763,
             1.54020765
            ],
            "passed_time": 125.1563584,
            "remaining_time": 1023.067113,
            "test": [
             0.6047904192,
             1.556446394
            ]
           },
           {
            "iteration": 109,
            "learn": [
             0.7762762763,
             1.539550469
            ],
            "passed_time": 126.986528,
            "remaining_time": 1027.436454,
            "test": [
             0.6047904192,
             1.555947478
            ]
           },
           {
            "iteration": 110,
            "learn": [
             0.7777777778,
             1.538963751
            ],
            "passed_time": 128.7229135,
            "remaining_time": 1030.942974,
            "test": [
             0.6047904192,
             1.55551104
            ]
           },
           {
            "iteration": 111,
            "learn": [
             0.7762762763,
             1.538430431
            ],
            "passed_time": 129.990028,
            "remaining_time": 1030.635222,
            "test": [
             0.6047904192,
             1.555106704
            ]
           },
           {
            "iteration": 112,
            "learn": [
             0.7762762763,
             1.537618605
            ],
            "passed_time": 130.1946443,
            "remaining_time": 1021.97035,
            "test": [
             0.6047904192,
             1.554379026
            ]
           },
           {
            "iteration": 113,
            "learn": [
             0.7777777778,
             1.537034817
            ],
            "passed_time": 131.074351,
            "remaining_time": 1018.700658,
            "test": [
             0.6047904192,
             1.553928138
            ]
           },
           {
            "iteration": 114,
            "learn": [
             0.7777777778,
             1.536418489
            ],
            "passed_time": 132.0032918,
            "remaining_time": 1015.85142,
            "test": [
             0.6047904192,
             1.553449424
            ]
           },
           {
            "iteration": 115,
            "learn": [
             0.7777777778,
             1.53579757
            ],
            "passed_time": 133.0270464,
            "remaining_time": 1013.757836,
            "test": [
             0.6047904192,
             1.552980207
            ]
           },
           {
            "iteration": 116,
            "learn": [
             0.7792792793,
             1.535171341
            ],
            "passed_time": 134.0709198,
            "remaining_time": 1011.834377,
            "test": [
             0.6047904192,
             1.552437386
            ]
           },
           {
            "iteration": 117,
            "learn": [
             0.7777777778,
             1.534459296
            ],
            "passed_time": 135.0915225,
            "remaining_time": 1009.751889,
            "test": [
             0.6047904192,
             1.551858491
            ]
           },
           {
            "iteration": 118,
            "learn": [
             0.7762762763,
             1.53388619
            ],
            "passed_time": 136.0786893,
            "remaining_time": 1007.439708,
            "test": [
             0.6047904192,
             1.551403228
            ]
           },
           {
            "iteration": 119,
            "learn": [
             0.7792792793,
             1.533217759
            ],
            "passed_time": 136.9648222,
            "remaining_time": 1004.408696,
            "test": [
             0.6047904192,
             1.550940696
            ]
           },
           {
            "iteration": 120,
            "learn": [
             0.7792792793,
             1.53258668
            ],
            "passed_time": 137.8348059,
            "remaining_time": 1001.295821,
            "test": [
             0.6047904192,
             1.550503736
            ]
           },
           {
            "iteration": 121,
            "learn": [
             0.7747747748,
             1.531837666
            ],
            "passed_time": 138.7103808,
            "remaining_time": 998.2599536,
            "test": [
             0.6047904192,
             1.549818665
            ]
           },
           {
            "iteration": 122,
            "learn": [
             0.7762762763,
             1.531327487
            ],
            "passed_time": 139.6478546,
            "remaining_time": 995.7005571,
            "test": [
             0.6047904192,
             1.549530501
            ]
           },
           {
            "iteration": 123,
            "learn": [
             0.7762762763,
             1.530795925
            ],
            "passed_time": 141.3481461,
            "remaining_time": 998.556258,
            "test": [
             0.6047904192,
             1.549185377
            ]
           },
           {
            "iteration": 124,
            "learn": [
             0.7747747748,
             1.530174832
            ],
            "passed_time": 143.1192519,
            "remaining_time": 1001.834764,
            "test": [
             0.6047904192,
             1.548668314
            ]
           },
           {
            "iteration": 125,
            "learn": [
             0.7747747748,
             1.529680115
            ],
            "passed_time": 144.5551849,
            "remaining_time": 1002.708187,
            "test": [
             0.6047904192,
             1.548349619
            ]
           },
           {
            "iteration": 126,
            "learn": [
             0.7747747748,
             1.529118529
            ],
            "passed_time": 145.4933726,
            "remaining_time": 1000.123735,
            "test": [
             0.6047904192,
             1.547961428
            ]
           },
           {
            "iteration": 127,
            "learn": [
             0.7747747748,
             1.528429683
            ],
            "passed_time": 146.3697527,
            "remaining_time": 997.1439401,
            "test": [
             0.5988023952,
             1.5474348
            ]
           },
           {
            "iteration": 128,
            "learn": [
             0.7762762763,
             1.5278561
            ],
            "passed_time": 147.2995355,
            "remaining_time": 994.5573291,
            "test": [
             0.6047904192,
             1.547024818
            ]
           },
           {
            "iteration": 129,
            "learn": [
             0.7732732733,
             1.527320528
            ],
            "passed_time": 148.3358889,
            "remaining_time": 992.7094101,
            "test": [
             0.6047904192,
             1.546591816
            ]
           },
           {
            "iteration": 130,
            "learn": [
             0.7732732733,
             1.526716225
            ],
            "passed_time": 149.3231866,
            "remaining_time": 990.5484666,
            "test": [
             0.6047904192,
             1.54614309
            ]
           },
           {
            "iteration": 131,
            "learn": [
             0.7732732733,
             1.5261584
            ],
            "passed_time": 150.2306645,
            "remaining_time": 987.8804299,
            "test": [
             0.6047904192,
             1.545651907
            ]
           },
           {
            "iteration": 132,
            "learn": [
             0.7717717718,
             1.525523479
            ],
            "passed_time": 151.2777326,
            "remaining_time": 986.1488281,
            "test": [
             0.6047904192,
             1.545143868
            ]
           },
           {
            "iteration": 133,
            "learn": [
             0.7732732733,
             1.524850868
            ],
            "passed_time": 152.3199829,
            "remaining_time": 984.3963073,
            "test": [
             0.6047904192,
             1.544575195
            ]
           },
           {
            "iteration": 134,
            "learn": [
             0.7732732733,
             1.524361845
            ],
            "passed_time": 153.3259447,
            "remaining_time": 982.4217936,
            "test": [
             0.6047904192,
             1.544219871
            ]
           },
           {
            "iteration": 135,
            "learn": [
             0.7747747748,
             1.523887398
            ],
            "passed_time": 154.254103,
            "remaining_time": 979.9672426,
            "test": [
             0.6047904192,
             1.54393135
            ]
           },
           {
            "iteration": 136,
            "learn": [
             0.7747747748,
             1.523287617
            ],
            "passed_time": 155.8818847,
            "remaining_time": 981.942091,
            "test": [
             0.6047904192,
             1.543440097
            ]
           },
           {
            "iteration": 137,
            "learn": [
             0.7732732733,
             1.52269078
            ],
            "passed_time": 157.5473136,
            "remaining_time": 984.0998867,
            "test": [
             0.6047904192,
             1.542966087
            ]
           },
           {
            "iteration": 138,
            "learn": [
             0.7732732733,
             1.522061839
            ],
            "passed_time": 158.8696435,
            "remaining_time": 984.077432,
            "test": [
             0.6047904192,
             1.54244718
            ]
           },
           {
            "iteration": 139,
            "learn": [
             0.7717717718,
             1.521509878
            ],
            "passed_time": 159.7546292,
            "remaining_time": 981.3498652,
            "test": [
             0.6047904192,
             1.542010064
            ]
           },
           {
            "iteration": 140,
            "learn": [
             0.7702702703,
             1.520887798
            ],
            "passed_time": 160.6470442,
            "remaining_time": 978.6936947,
            "test": [
             0.6047904192,
             1.5415428
            ]
           },
           {
            "iteration": 141,
            "learn": [
             0.7672672673,
             1.520154318
            ],
            "passed_time": 161.5179681,
            "remaining_time": 975.9325117,
            "test": [
             0.6047904192,
             1.540934303
            ]
           },
           {
            "iteration": 142,
            "learn": [
             0.7717717718,
             1.519616207
            ],
            "passed_time": 162.3964666,
            "remaining_time": 973.2431598,
            "test": [
             0.6047904192,
             1.540562521
            ]
           },
           {
            "iteration": 143,
            "learn": [
             0.7717717718,
             1.519067578
            ],
            "passed_time": 163.4398801,
            "remaining_time": 971.559287,
            "test": [
             0.6047904192,
             1.540188073
            ]
           },
           {
            "iteration": 144,
            "learn": [
             0.7732732733,
             1.518612376
            ],
            "passed_time": 164.4549922,
            "remaining_time": 969.717368,
            "test": [
             0.6047904192,
             1.539888637
            ]
           },
           {
            "iteration": 145,
            "learn": [
             0.7717717718,
             1.51798445
            ],
            "passed_time": 165.4850042,
            "remaining_time": 967.9739288,
            "test": [
             0.6047904192,
             1.539437609
            ]
           },
           {
            "iteration": 146,
            "learn": [
             0.7717717718,
             1.51747605
            ],
            "passed_time": 166.360419,
            "remaining_time": 965.3431114,
            "test": [
             0.6047904192,
             1.539076681
            ]
           },
           {
            "iteration": 147,
            "learn": [
             0.7747747748,
             1.516866373
            ],
            "passed_time": 167.3910516,
            "remaining_time": 963.6295671,
            "test": [
             0.6047904192,
             1.538654487
            ]
           },
           {
            "iteration": 148,
            "learn": [
             0.7747747748,
             1.516187917
            ],
            "passed_time": 168.4242336,
            "remaining_time": 961.9397502,
            "test": [
             0.6047904192,
             1.538121008
            ]
           },
           {
            "iteration": 149,
            "learn": [
             0.7732732733,
             1.515581287
            ],
            "passed_time": 169.9189675,
            "remaining_time": 962.8741491,
            "test": [
             0.6047904192,
             1.53761281
            ]
           },
           {
            "iteration": 150,
            "learn": [
             0.7747747748,
             1.514999003
            ],
            "passed_time": 171.7717149,
            "remaining_time": 965.7893112,
            "test": [
             0.5988023952,
             1.537173592
            ]
           },
           {
            "iteration": 151,
            "learn": [
             0.7732732733,
             1.514393344
            ],
            "passed_time": 173.243874,
            "remaining_time": 966.5184547,
            "test": [
             0.5988023952,
             1.536713618
            ]
           },
           {
            "iteration": 152,
            "learn": [
             0.7732732733,
             1.51386026
            ],
            "passed_time": 174.1666432,
            "remaining_time": 964.1774297,
            "test": [
             0.5988023952,
             1.536363258
            ]
           },
           {
            "iteration": 153,
            "learn": [
             0.7717717718,
             1.513378241
            ],
            "passed_time": 175.0368981,
            "remaining_time": 961.5663363,
            "test": [
             0.5988023952,
             1.536038812
            ]
           },
           {
            "iteration": 154,
            "learn": [
             0.7732732733,
             1.512748537
            ],
            "passed_time": 175.9207217,
            "remaining_time": 959.0516762,
            "test": [
             0.6047904192,
             1.535616742
            ]
           },
           {
            "iteration": 155,
            "learn": [
             0.7747747748,
             1.512263173
            ],
            "passed_time": 176.8029351,
            "remaining_time": 956.549213,
            "test": [
             0.6047904192,
             1.53526442
            ]
           },
           {
            "iteration": 156,
            "learn": [
             0.7717717718,
             1.511678499
            ],
            "passed_time": 177.6727122,
            "remaining_time": 954.000614,
            "test": [
             0.6047904192,
             1.534733314
            ]
           },
           {
            "iteration": 157,
            "learn": [
             0.7687687688,
             1.511080205
            ],
            "passed_time": 178.5470801,
            "remaining_time": 951.4977305,
            "test": [
             0.6047904192,
             1.534249268
            ]
           },
           {
            "iteration": 158,
            "learn": [
             0.7672672673,
             1.510474112
            ],
            "passed_time": 179.4240578,
            "remaining_time": 949.0291359,
            "test": [
             0.6047904192,
             1.533809301
            ]
           },
           {
            "iteration": 159,
            "learn": [
             0.7687687688,
             1.509873427
            ],
            "passed_time": 180.2915717,
            "remaining_time": 946.5307513,
            "test": [
             0.6047904192,
             1.533385348
            ]
           },
           {
            "iteration": 160,
            "learn": [
             0.7702702703,
             1.509159463
            ],
            "passed_time": 181.1699406,
            "remaining_time": 944.1091936,
            "test": [
             0.6047904192,
             1.532849462
            ]
           },
           {
            "iteration": 161,
            "learn": [
             0.7732732733,
             1.508547387
            ],
            "passed_time": 182.0537444,
            "remaining_time": 941.7348011,
            "test": [
             0.6107784431,
             1.532263757
            ]
           },
           {
            "iteration": 162,
            "learn": [
             0.7732732733,
             1.508012745
            ],
            "passed_time": 183.0186313,
            "remaining_time": 939.7950576,
            "test": [
             0.6047904192,
             1.531861014
            ]
           },
           {
            "iteration": 163,
            "learn": [
             0.7717717718,
             1.507451032
            ],
            "passed_time": 184.7331132,
            "remaining_time": 941.6883087,
            "test": [
             0.6047904192,
             1.531423887
            ]
           },
           {
            "iteration": 164,
            "learn": [
             0.7717717718,
             1.506773941
            ],
            "passed_time": 186.392413,
            "remaining_time": 943.2585747,
            "test": [
             0.6107784431,
             1.530913666
            ]
           },
           {
            "iteration": 165,
            "learn": [
             0.7717717718,
             1.506193611
            ],
            "passed_time": 187.7684703,
            "remaining_time": 943.3668928,
            "test": [
             0.6107784431,
             1.530504063
            ]
           },
           {
            "iteration": 166,
            "learn": [
             0.7717717718,
             1.505650264
            ],
            "passed_time": 188.7882623,
            "remaining_time": 941.6803742,
            "test": [
             0.6107784431,
             1.530109161
            ]
           },
           {
            "iteration": 167,
            "learn": [
             0.7702702703,
             1.505086363
            ],
            "passed_time": 189.6876862,
            "remaining_time": 939.4056842,
            "test": [
             0.6047904192,
             1.529701243
            ]
           },
           {
            "iteration": 168,
            "learn": [
             0.7702702703,
             1.504611412
            ],
            "passed_time": 190.566458,
            "remaining_time": 937.0457196,
            "test": [
             0.6047904192,
             1.529389461
            ]
           },
           {
            "iteration": 169,
            "learn": [
             0.7702702703,
             1.504019772
            ],
            "passed_time": 191.4522815,
            "remaining_time": 934.7376097,
            "test": [
             0.6047904192,
             1.52891914
            ]
           },
           {
            "iteration": 170,
            "learn": [
             0.7717717718,
             1.503506512
            ],
            "passed_time": 192.3839818,
            "remaining_time": 932.6685431,
            "test": [
             0.6107784431,
             1.52860064
            ]
           },
           {
            "iteration": 171,
            "learn": [
             0.7717717718,
             1.502946007
            ],
            "passed_time": 193.4143584,
            "remaining_time": 931.0877254,
            "test": [
             0.6167664671,
             1.528203732
            ]
           },
           {
            "iteration": 172,
            "learn": [
             0.7702702703,
             1.502356173
            ],
            "passed_time": 194.4027725,
            "remaining_time": 929.3126755,
            "test": [
             0.6107784431,
             1.527753362
            ]
           },
           {
            "iteration": 173,
            "learn": [
             0.7702702703,
             1.501814702
            ],
            "passed_time": 195.2904896,
            "remaining_time": 927.0686462,
            "test": [
             0.6107784431,
             1.52738011
            ]
           },
           {
            "iteration": 174,
            "learn": [
             0.7702702703,
             1.501227871
            ],
            "passed_time": 196.1658784,
            "remaining_time": 924.7819981,
            "test": [
             0.6107784431,
             1.52693464
            ]
           },
           {
            "iteration": 175,
            "learn": [
             0.7717717718,
             1.500681067
            ],
            "passed_time": 197.0321753,
            "remaining_time": 922.4688206,
            "test": [
             0.6107784431,
             1.526502982
            ]
           },
           {
            "iteration": 176,
            "learn": [
             0.7747747748,
             1.50008501
            ],
            "passed_time": 198.4636606,
            "remaining_time": 922.7999584,
            "test": [
             0.6107784431,
             1.52607786
            ]
           },
           {
            "iteration": 177,
            "learn": [
             0.7747747748,
             1.499458635
            ],
            "passed_time": 200.2380397,
            "remaining_time": 924.6947674,
            "test": [
             0.6107784431,
             1.52557516
            ]
           },
           {
            "iteration": 178,
            "learn": [
             0.7717717718,
             1.498913589
            ],
            "passed_time": 201.8527904,
            "remaining_time": 925.8164297,
            "test": [
             0.6107784431,
             1.525157477
            ]
           },
           {
            "iteration": 179,
            "learn": [
             0.7732732733,
             1.498237802
            ],
            "passed_time": 202.8179273,
            "remaining_time": 923.9483356,
            "test": [
             0.6047904192,
             1.524557723
            ]
           },
           {
            "iteration": 180,
            "learn": [
             0.7747747748,
             1.497703015
            ],
            "passed_time": 203.785335,
            "remaining_time": 922.1004936,
            "test": [
             0.6047904192,
             1.524176077
            ]
           },
           {
            "iteration": 181,
            "learn": [
             0.7732732733,
             1.497242656
            ],
            "passed_time": 204.7565725,
            "remaining_time": 920.2795403,
            "test": [
             0.6047904192,
             1.523853806
            ]
           },
           {
            "iteration": 182,
            "learn": [
             0.7717717718,
             1.496729644
            ],
            "passed_time": 205.6488667,
            "remaining_time": 918.1154321,
            "test": [
             0.6107784431,
             1.523439278
            ]
           },
           {
            "iteration": 183,
            "learn": [
             0.7732732733,
             1.496207187
            ],
            "passed_time": 206.5531676,
            "remaining_time": 916.0183954,
            "test": [
             0.6107784431,
             1.523062727
            ]
           },
           {
            "iteration": 184,
            "learn": [
             0.7747747748,
             1.495688477
            ],
            "passed_time": 207.5685412,
            "remaining_time": 914.4235736,
            "test": [
             0.6107784431,
             1.522633547
            ]
           },
           {
            "iteration": 185,
            "learn": [
             0.7762762763,
             1.495061204
            ],
            "passed_time": 208.5753581,
            "remaining_time": 912.7975348,
            "test": [
             0.6107784431,
             1.522139757
            ]
           },
           {
            "iteration": 186,
            "learn": [
             0.7777777778,
             1.494540159
            ],
            "passed_time": 209.4705156,
            "remaining_time": 910.6926694,
            "test": [
             0.6107784431,
             1.521778825
            ]
           },
           {
            "iteration": 187,
            "learn": [
             0.7777777778,
             1.494058529
            ],
            "passed_time": 210.3716536,
            "remaining_time": 908.6265039,
            "test": [
             0.6107784431,
             1.52145873
            ]
           },
           {
            "iteration": 188,
            "learn": [
             0.7777777778,
             1.493523839
            ],
            "passed_time": 211.4175845,
            "remaining_time": 907.1939737,
            "test": [
             0.6107784431,
             1.521073704
            ]
           },
           {
            "iteration": 189,
            "learn": [
             0.7777777778,
             1.492990164
            ],
            "passed_time": 213.0361028,
            "remaining_time": 908.2065434,
            "test": [
             0.6107784431,
             1.520726533
            ]
           },
           {
            "iteration": 190,
            "learn": [
             0.7777777778,
             1.492438516
            ],
            "passed_time": 214.8860972,
            "remaining_time": 910.1720034,
            "test": [
             0.6107784431,
             1.520283677
            ]
           },
           {
            "iteration": 191,
            "learn": [
             0.7762762763,
             1.491857932
            ],
            "passed_time": 216.3524941,
            "remaining_time": 910.4834127,
            "test": [
             0.6107784431,
             1.519904147
            ]
           },
           {
            "iteration": 192,
            "learn": [
             0.7792792793,
             1.491238198
            ],
            "passed_time": 217.9013501,
            "remaining_time": 911.1211893,
            "test": [
             0.6107784431,
             1.519348182
            ]
           },
           {
            "iteration": 193,
            "learn": [
             0.7777777778,
             1.490627111
            ],
            "passed_time": 219.7044951,
            "remaining_time": 912.7929024,
            "test": [
             0.6047904192,
             1.518894225
            ]
           },
           {
            "iteration": 194,
            "learn": [
             0.7792792793,
             1.490118717
            ],
            "passed_time": 221.1881558,
            "remaining_time": 913.1100789,
            "test": [
             0.6047904192,
             1.518544021
            ]
           },
           {
            "iteration": 195,
            "learn": [
             0.7792792793,
             1.489581602
            ],
            "passed_time": 222.1306734,
            "remaining_time": 911.189089,
            "test": [
             0.6047904192,
             1.518095268
            ]
           },
           {
            "iteration": 196,
            "learn": [
             0.7807807808,
             1.489174318
            ],
            "passed_time": 223.1065698,
            "remaining_time": 909.414089,
            "test": [
             0.6047904192,
             1.517809532
            ]
           },
           {
            "iteration": 197,
            "learn": [
             0.7807807808,
             1.488532689
            ],
            "passed_time": 223.9872085,
            "remaining_time": 907.2613194,
            "test": [
             0.6047904192,
             1.51730378
            ]
           },
           {
            "iteration": 198,
            "learn": [
             0.7807807808,
             1.487933113
            ],
            "passed_time": 224.864861,
            "remaining_time": 905.1093148,
            "test": [
             0.6047904192,
             1.516897303
            ]
           },
           {
            "iteration": 199,
            "learn": [
             0.7807807808,
             1.487405702
            ],
            "passed_time": 225.7590729,
            "remaining_time": 903.0362915,
            "test": [
             0.6107784431,
             1.516452829
            ]
           },
           {
            "iteration": 200,
            "learn": [
             0.7777777778,
             1.486824613
            ],
            "passed_time": 226.9176295,
            "remaining_time": 902.0258007,
            "test": [
             0.6107784431,
             1.516033282
            ]
           },
           {
            "iteration": 201,
            "learn": [
             0.7777777778,
             1.486203864
            ],
            "passed_time": 228.5963161,
            "remaining_time": 903.0686151,
            "test": [
             0.6047904192,
             1.515542177
            ]
           },
           {
            "iteration": 202,
            "learn": [
             0.7777777778,
             1.485664039
            ],
            "passed_time": 230.2736291,
            "remaining_time": 904.0792236,
            "test": [
             0.6047904192,
             1.515172849
            ]
           },
           {
            "iteration": 203,
            "learn": [
             0.7777777778,
             1.485237857
            ],
            "passed_time": 231.2709913,
            "remaining_time": 902.4103386,
            "test": [
             0.6047904192,
             1.514860066
            ]
           },
           {
            "iteration": 204,
            "learn": [
             0.7777777778,
             1.484701496
            ],
            "passed_time": 232.312772,
            "remaining_time": 900.920262,
            "test": [
             0.6047904192,
             1.514480249
            ]
           },
           {
            "iteration": 205,
            "learn": [
             0.7777777778,
             1.484112798
            ],
            "passed_time": 233.3043427,
            "remaining_time": 899.2410101,
            "test": [
             0.6047904192,
             1.514104961
            ]
           },
           {
            "iteration": 206,
            "learn": [
             0.7792792793,
             1.483545499
            ],
            "passed_time": 234.2145388,
            "remaining_time": 897.256663,
            "test": [
             0.6107784431,
             1.51373545
            ]
           },
           {
            "iteration": 207,
            "learn": [
             0.7777777778,
             1.482972394
            ],
            "passed_time": 235.2520655,
            "remaining_time": 895.7674801,
            "test": [
             0.6107784431,
             1.513377137
            ]
           },
           {
            "iteration": 208,
            "learn": [
             0.7792792793,
             1.482438678
            ],
            "passed_time": 236.2960144,
            "remaining_time": 894.3069255,
            "test": [
             0.6107784431,
             1.512943262
            ]
           },
           {
            "iteration": 209,
            "learn": [
             0.7777777778,
             1.481928478
            ],
            "passed_time": 237.3065094,
            "remaining_time": 892.7244877,
            "test": [
             0.6107784431,
             1.512610735
            ]
           },
           {
            "iteration": 210,
            "learn": [
             0.7762762763,
             1.481433212
            ],
            "passed_time": 238.1923092,
            "remaining_time": 890.6811943,
            "test": [
             0.6107784431,
             1.512279691
            ]
           },
           {
            "iteration": 211,
            "learn": [
             0.7777777778,
             1.480944683
            ],
            "passed_time": 239.0540502,
            "remaining_time": 888.5593941,
            "test": [
             0.6107784431,
             1.511955987
            ]
           },
           {
            "iteration": 212,
            "learn": [
             0.7777777778,
             1.480370043
            ],
            "passed_time": 240.0747288,
            "remaining_time": 887.0366741,
            "test": [
             0.6107784431,
             1.511507885
            ]
           },
           {
            "iteration": 213,
            "learn": [
             0.7732732733,
             1.479828511
            ],
            "passed_time": 241.5606846,
            "remaining_time": 887.2275612,
            "test": [
             0.6107784431,
             1.511083713
            ]
           },
           {
            "iteration": 214,
            "learn": [
             0.7732732733,
             1.479297615
            ],
            "passed_time": 243.2833058,
            "remaining_time": 888.2669537,
            "test": [
             0.6107784431,
             1.51067276
            ]
           },
           {
            "iteration": 215,
            "learn": [
             0.7747747748,
             1.478797804
            ],
            "passed_time": 244.968904,
            "remaining_time": 889.1463922,
            "test": [
             0.6107784431,
             1.510265023
            ]
           },
           {
            "iteration": 216,
            "learn": [
             0.7747747748,
             1.478324369
            ],
            "passed_time": 246.0080378,
            "remaining_time": 887.6695559,
            "test": [
             0.6107784431,
             1.509957125
            ]
           },
           {
            "iteration": 217,
            "learn": [
             0.7732732733,
             1.477699135
            ],
            "passed_time": 247.0439695,
            "remaining_time": 886.1852485,
            "test": [
             0.6107784431,
             1.509514828
            ]
           },
           {
            "iteration": 218,
            "learn": [
             0.7717717718,
             1.477122086
            ],
            "passed_time": 247.9830428,
            "remaining_time": 884.3596182,
            "test": [
             0.6107784431,
             1.509125719
            ]
           },
           {
            "iteration": 219,
            "learn": [
             0.7717717718,
             1.476629564
            ],
            "passed_time": 248.869767,
            "remaining_time": 882.3564467,
            "test": [
             0.6107784431,
             1.508737443
            ]
           },
           {
            "iteration": 220,
            "learn": [
             0.7732732733,
             1.47613222
            ],
            "passed_time": 249.7552858,
            "remaining_time": 880.3591295,
            "test": [
             0.6107784431,
             1.508405694
            ]
           },
           {
            "iteration": 221,
            "learn": [
             0.7717717718,
             1.475585742
            ],
            "passed_time": 250.6347445,
            "remaining_time": 878.3505912,
            "test": [
             0.6107784431,
             1.508015413
            ]
           },
           {
            "iteration": 222,
            "learn": [
             0.7732732733,
             1.474993747
            ],
            "passed_time": 251.519495,
            "remaining_time": 876.3706173,
            "test": [
             0.6107784431,
             1.507567108
            ]
           },
           {
            "iteration": 223,
            "learn": [
             0.7747747748,
             1.47438932
            ],
            "passed_time": 252.5412918,
            "remaining_time": 874.8751893,
            "test": [
             0.6107784431,
             1.507141097
            ]
           },
           {
            "iteration": 224,
            "learn": [
             0.7762762763,
             1.473832667
            ],
            "passed_time": 253.410505,
            "remaining_time": 872.8584062,
            "test": [
             0.6107784431,
             1.506774259
            ]
           },
           {
            "iteration": 225,
            "learn": [
             0.7732732733,
             1.47336505
            ],
            "passed_time": 254.4494832,
            "remaining_time": 871.4331859,
            "test": [
             0.6107784431,
             1.506447027
            ]
           },
           {
            "iteration": 226,
            "learn": [
             0.7732732733,
             1.472763516
            ],
            "passed_time": 255.9657787,
            "remaining_time": 871.6367706,
            "test": [
             0.6107784431,
             1.506010229
            ]
           },
           {
            "iteration": 227,
            "learn": [
             0.7747747748,
             1.472228667
            ],
            "passed_time": 257.6952869,
            "remaining_time": 872.5471993,
            "test": [
             0.6107784431,
             1.50558166
            ]
           },
           {
            "iteration": 228,
            "learn": [
             0.7747747748,
             1.471660562
            ],
            "passed_time": 259.3001423,
            "remaining_time": 873.0148897,
            "test": [
             0.6107784431,
             1.505157551
            ]
           },
           {
            "iteration": 229,
            "learn": [
             0.7747747748,
             1.471157589
            ],
            "passed_time": 260.3434241,
            "remaining_time": 871.5845068,
            "test": [
             0.6107784431,
             1.504796257
            ]
           },
           {
            "iteration": 230,
            "learn": [
             0.7762762763,
             1.470705917
            ],
            "passed_time": 261.2900136,
            "remaining_time": 869.8355865,
            "test": [
             0.6107784431,
             1.504493319
            ]
           },
           {
            "iteration": 231,
            "learn": [
             0.7747747748,
             1.470160729
            ],
            "passed_time": 262.1782713,
            "remaining_time": 867.9004844,
            "test": [
             0.6107784431,
             1.504098991
            ]
           },
           {
            "iteration": 232,
            "learn": [
             0.7732732733,
             1.469553721
            ],
            "passed_time": 263.0483005,
            "remaining_time": 865.9143627,
            "test": [
             0.6107784431,
             1.503603137
            ]
           },
           {
            "iteration": 233,
            "learn": [
             0.7747747748,
             1.469004848
            ],
            "passed_time": 263.971076,
            "remaining_time": 864.1104455,
            "test": [
             0.6107784431,
             1.503181759
            ]
           },
           {
            "iteration": 234,
            "learn": [
             0.7732732733,
             1.468558143
            ],
            "passed_time": 264.9792519,
            "remaining_time": 862.5920328,
            "test": [
             0.6107784431,
             1.502827313
            ]
           },
           {
            "iteration": 235,
            "learn": [
             0.7747747748,
             1.468126847
            ],
            "passed_time": 265.8634891,
            "remaining_time": 860.676719,
            "test": [
             0.6107784431,
             1.502507615
            ]
           },
           {
            "iteration": 236,
            "learn": [
             0.7732732733,
             1.467541733
            ],
            "passed_time": 266.8942069,
            "remaining_time": 859.2416871,
            "test": [
             0.6107784431,
             1.502085477
            ]
           },
           {
            "iteration": 237,
            "learn": [
             0.7762762763,
             1.466940922
            ],
            "passed_time": 267.9056857,
            "remaining_time": 857.7484559,
            "test": [
             0.6107784431,
             1.50168263
            ]
           },
           {
            "iteration": 238,
            "learn": [
             0.7747747748,
             1.466402428
            ],
            "passed_time": 268.778244,
            "remaining_time": 855.8169193,
            "test": [
             0.6107784431,
             1.501250674
            ]
           },
           {
            "iteration": 239,
            "learn": [
             0.7762762763,
             1.46589688
            ],
            "passed_time": 269.8528168,
            "remaining_time": 854.5339198,
            "test": [
             0.6107784431,
             1.500925068
            ]
           },
           {
            "iteration": 240,
            "learn": [
             0.7792792793,
             1.465394298
            ],
            "passed_time": 271.5797838,
            "remaining_time": 855.3072858,
            "test": [
             0.6107784431,
             1.500556023
            ]
           },
           {
            "iteration": 241,
            "learn": [
             0.7777777778,
             1.464882495
            ],
            "passed_time": 273.1778798,
            "remaining_time": 855.6563341,
            "test": [
             0.6107784431,
             1.50019544
            ]
           },
           {
            "iteration": 242,
            "learn": [
             0.7792792793,
             1.464402029
            ],
            "passed_time": 274.4811134,
            "remaining_time": 855.0707935,
            "test": [
             0.6107784431,
             1.499898747
            ]
           },
           {
            "iteration": 243,
            "learn": [
             0.7807807808,
             1.46384384
            ],
            "passed_time": 275.5136991,
            "remaining_time": 853.6408054,
            "test": [
             0.6107784431,
             1.499504043
            ]
           },
           {
            "iteration": 244,
            "learn": [
             0.7822822823,
             1.463391472
            ],
            "passed_time": 276.468751,
            "remaining_time": 851.9751308,
            "test": [
             0.6107784431,
             1.499206538
            ]
           },
           {
            "iteration": 245,
            "learn": [
             0.7792792793,
             1.46283457
            ],
            "passed_time": 277.4106665,
            "remaining_time": 850.2749698,
            "test": [
             0.6107784431,
             1.498811494
            ]
           },
           {
            "iteration": 246,
            "learn": [
             0.7777777778,
             1.462239625
            ],
            "passed_time": 278.4607496,
            "remaining_time": 848.9107062,
            "test": [
             0.6107784431,
             1.498320822
            ]
           },
           {
            "iteration": 247,
            "learn": [
             0.7792792793,
             1.461709089
            ],
            "passed_time": 279.4318608,
            "remaining_time": 847.3095134,
            "test": [
             0.6107784431,
             1.497938595
            ]
           },
           {
            "iteration": 248,
            "learn": [
             0.7762762763,
             1.461202771
            ],
            "passed_time": 280.3013443,
            "remaining_time": 845.4068657,
            "test": [
             0.6107784431,
             1.497590646
            ]
           },
           {
            "iteration": 249,
            "learn": [
             0.7807807808,
             1.460706385
            ],
            "passed_time": 281.1944263,
            "remaining_time": 843.5832789,
            "test": [
             0.6167664671,
             1.497197521
            ]
           },
           {
            "iteration": 250,
            "learn": [
             0.7762762763,
             1.460087301
            ],
            "passed_time": 282.0962416,
            "remaining_time": 841.7931671,
            "test": [
             0.6167664671,
             1.496703002
            ]
           },
           {
            "iteration": 251,
            "learn": [
             0.7762762763,
             1.459496227
            ],
            "passed_time": 283.1407989,
            "remaining_time": 840.4337999,
            "test": [
             0.6167664671,
             1.496205478
            ]
           },
           {
            "iteration": 252,
            "learn": [
             0.7762762763,
             1.458956419
            ],
            "passed_time": 284.424535,
            "remaining_time": 839.7831131,
            "test": [
             0.6167664671,
             1.495754049
            ]
           },
           {
            "iteration": 253,
            "learn": [
             0.7732732733,
             1.458420286
            ],
            "passed_time": 286.3104754,
            "remaining_time": 840.8961208,
            "test": [
             0.6167664671,
             1.495362767
            ]
           },
           {
            "iteration": 254,
            "learn": [
             0.7717717718,
             1.457900188
            ],
            "passed_time": 288.107298,
            "remaining_time": 841.7252432,
            "test": [
             0.6167664671,
             1.495055714
            ]
           },
           {
            "iteration": 255,
            "learn": [
             0.7732732733,
             1.457429183
            ],
            "passed_time": 289.2113106,
            "remaining_time": 840.5203716,
            "test": [
             0.6167664671,
             1.494776558
            ]
           },
           {
            "iteration": 256,
            "learn": [
             0.7732732733,
             1.456831805
            ],
            "passed_time": 290.2526637,
            "remaining_time": 839.1351328,
            "test": [
             0.6167664671,
             1.494275801
            ]
           },
           {
            "iteration": 257,
            "learn": [
             0.7747747748,
             1.456296088
            ],
            "passed_time": 291.1578776,
            "remaining_time": 837.3610279,
            "test": [
             0.6167664671,
             1.49389713
            ]
           },
           {
            "iteration": 258,
            "learn": [
             0.7762762763,
             1.455861927
            ],
            "passed_time": 292.1564092,
            "remaining_time": 835.8606148,
            "test": [
             0.6167664671,
             1.493603264
            ]
           },
           {
            "iteration": 259,
            "learn": [
             0.7747747748,
             1.455362133
            ],
            "passed_time": 293.2043092,
            "remaining_time": 834.5045724,
            "test": [
             0.6167664671,
             1.493221455
            ]
           },
           {
            "iteration": 260,
            "learn": [
             0.7777777778,
             1.454932118
            ],
            "passed_time": 294.1239196,
            "remaining_time": 832.7876496,
            "test": [
             0.6167664671,
             1.492923609
            ]
           },
           {
            "iteration": 261,
            "learn": [
             0.7762762763,
             1.454430549
            ],
            "passed_time": 295.0131596,
            "remaining_time": 830.9912663,
            "test": [
             0.6167664671,
             1.492605059
            ]
           },
           {
            "iteration": 262,
            "learn": [
             0.7777777778,
             1.453918396
            ],
            "passed_time": 295.9027144,
            "remaining_time": 829.2026636,
            "test": [
             0.6167664671,
             1.492219932
            ]
           },
           {
            "iteration": 263,
            "learn": [
             0.7777777778,
             1.45348241
            ],
            "passed_time": 296.7595037,
            "remaining_time": 827.3295253,
            "test": [
             0.6167664671,
             1.491919441
            ]
           },
           {
            "iteration": 264,
            "learn": [
             0.7792792793,
             1.452909858
            ],
            "passed_time": 297.6598298,
            "remaining_time": 825.584811,
            "test": [
             0.6167664671,
             1.491468379
            ]
           },
           {
            "iteration": 265,
            "learn": [
             0.7822822823,
             1.452448101
            ],
            "passed_time": 298.9465123,
            "remaining_time": 824.9125564,
            "test": [
             0.6167664671,
             1.491166206
            ]
           },
           {
            "iteration": 266,
            "learn": [
             0.7807807808,
             1.451885632
            ],
            "passed_time": 300.7541795,
            "remaining_time": 825.6659684,
            "test": [
             0.6167664671,
             1.490789728
            ]
           },
           {
            "iteration": 267,
            "learn": [
             0.7807807808,
             1.451365755
            ],
            "passed_time": 302.5788248,
            "remaining_time": 826.446641,
            "test": [
             0.6167664671,
             1.490433949
            ]
           },
           {
            "iteration": 268,
            "learn": [
             0.7807807808,
             1.450772505
            ],
            "passed_time": 303.6493994,
            "remaining_time": 825.1587767,
            "test": [
             0.622754491,
             1.490017296
            ]
           },
           {
            "iteration": 269,
            "learn": [
             0.7807807808,
             1.450200928
            ],
            "passed_time": 304.549551,
            "remaining_time": 823.411749,
            "test": [
             0.622754491,
             1.489616037
            ]
           },
           {
            "iteration": 270,
            "learn": [
             0.7807807808,
             1.449778917
            ],
            "passed_time": 305.5859284,
            "remaining_time": 822.0374235,
            "test": [
             0.622754491,
             1.489347194
            ]
           },
           {
            "iteration": 271,
            "learn": [
             0.7822822823,
             1.449199175
            ],
            "passed_time": 306.4800452,
            "remaining_time": 820.284827,
            "test": [
             0.622754491,
             1.488933886
            ]
           },
           {
            "iteration": 272,
            "learn": [
             0.7792792793,
             1.448679116
            ],
            "passed_time": 307.3704301,
            "remaining_time": 818.5285814,
            "test": [
             0.622754491,
             1.488513441
            ]
           },
           {
            "iteration": 273,
            "learn": [
             0.7807807808,
             1.448067401
            ],
            "passed_time": 308.2617351,
            "remaining_time": 816.7810939,
            "test": [
             0.622754491,
             1.488039846
            ]
           },
           {
            "iteration": 274,
            "learn": [
             0.7792792793,
             1.447582894
            ],
            "passed_time": 309.1277195,
            "remaining_time": 814.9730786,
            "test": [
             0.6167664671,
             1.487680682
            ]
           },
           {
            "iteration": 275,
            "learn": [
             0.7777777778,
             1.447084898
            ],
            "passed_time": 310.0593864,
            "remaining_time": 813.3441875,
            "test": [
             0.6107784431,
             1.48735518
            ]
           },
           {
            "iteration": 276,
            "learn": [
             0.7762762763,
             1.44659366
            ],
            "passed_time": 311.0705397,
            "remaining_time": 811.9277985,
            "test": [
             0.6107784431,
             1.48699374
            ]
           },
           {
            "iteration": 277,
            "learn": [
             0.7777777778,
             1.446116288
            ],
            "passed_time": 311.9722545,
            "remaining_time": 810.2300999,
            "test": [
             0.6167664671,
             1.486648385
            ]
           },
           {
            "iteration": 278,
            "learn": [
             0.7792792793,
             1.445435162
            ],
            "passed_time": 313.16926,
            "remaining_time": 809.301206,
            "test": [
             0.6167664671,
             1.486103071
            ]
           },
           {
            "iteration": 279,
            "learn": [
             0.7822822823,
             1.444899948
            ],
            "passed_time": 314.7988869,
            "remaining_time": 809.4828521,
            "test": [
             0.6167664671,
             1.4857245
            ]
           },
           {
            "iteration": 280,
            "learn": [
             0.7822822823,
             1.444486582
            ],
            "passed_time": 316.6157102,
            "remaining_time": 810.1305895,
            "test": [
             0.622754491,
             1.485427287
            ]
           },
           {
            "iteration": 281,
            "learn": [
             0.7822822823,
             1.444053403
            ],
            "passed_time": 317.9098172,
            "remaining_time": 809.4299601,
            "test": [
             0.622754491,
             1.485150251
            ]
           },
           {
            "iteration": 282,
            "learn": [
             0.7792792793,
             1.443504727
            ],
            "passed_time": 318.9386023,
            "remaining_time": 808.0529253,
            "test": [
             0.6167664671,
             1.484755135
            ]
           },
           {
            "iteration": 283,
            "learn": [
             0.7792792793,
             1.442933218
            ],
            "passed_time": 319.9725389,
            "remaining_time": 806.6913304,
            "test": [
             0.6167664671,
             1.484321073
            ]
           },
           {
            "iteration": 284,
            "learn": [
             0.7807807808,
             1.442368739
            ],
            "passed_time": 321.0202788,
            "remaining_time": 805.3666643,
            "test": [
             0.6167664671,
             1.483896006
            ]
           },
           {
            "iteration": 285,
            "learn": [
             0.7822822823,
             1.441868365
            ],
            "passed_time": 322.0599994,
            "remaining_time": 804.0239145,
            "test": [
             0.6167664671,
             1.483498402
            ]
           },
           {
            "iteration": 286,
            "learn": [
             0.7807807808,
             1.441232335
            ],
            "passed_time": 322.9547809,
            "remaining_time": 802.3232012,
            "test": [
             0.622754491,
             1.482938421
            ]
           },
           {
            "iteration": 287,
            "learn": [
             0.7807807808,
             1.440570934
            ],
            "passed_time": 323.8255413,
            "remaining_time": 800.5686993,
            "test": [
             0.6167664671,
             1.482449535
            ]
           },
           {
            "iteration": 288,
            "learn": [
             0.7822822823,
             1.440020408
            ],
            "passed_time": 324.8178997,
            "remaining_time": 799.1194695,
            "test": [
             0.622754491,
             1.482007037
            ]
           },
           {
            "iteration": 289,
            "learn": [
             0.7792792793,
             1.43949504
            ],
            "passed_time": 325.7716251,
            "remaining_time": 797.5788063,
            "test": [
             0.622754491,
             1.481589107
            ]
           },
           {
            "iteration": 290,
            "learn": [
             0.7807807808,
             1.438981128
            ],
            "passed_time": 326.7382295,
            "remaining_time": 796.0735557,
            "test": [
             0.622754491,
             1.481172037
            ]
           },
           {
            "iteration": 291,
            "learn": [
             0.7822822823,
             1.438339452
            ],
            "passed_time": 328.1376366,
            "remaining_time": 795.6213929,
            "test": [
             0.622754491,
             1.480665146
            ]
           },
           {
            "iteration": 292,
            "learn": [
             0.7822822823,
             1.437860468
            ],
            "passed_time": 330.2611545,
            "remaining_time": 796.9100212,
            "test": [
             0.622754491,
             1.480291917
            ]
           },
           {
            "iteration": 293,
            "learn": [
             0.7822822823,
             1.437202125
            ],
            "passed_time": 332.0138062,
            "remaining_time": 797.2848544,
            "test": [
             0.622754491,
             1.479759639
            ]
           },
           {
            "iteration": 294,
            "learn": [
             0.7822822823,
             1.436680968
            ],
            "passed_time": 332.9420928,
            "remaining_time": 795.6751709,
            "test": [
             0.622754491,
             1.479338065
            ]
           },
           {
            "iteration": 295,
            "learn": [
             0.7837837838,
             1.436142615
            ],
            "passed_time": 333.8135894,
            "remaining_time": 793.9350234,
            "test": [
             0.622754491,
             1.478932172
            ]
           },
           {
            "iteration": 296,
            "learn": [
             0.7807807808,
             1.435583536
            ],
            "passed_time": 334.7069393,
            "remaining_time": 792.2524522,
            "test": [
             0.622754491,
             1.478534257
            ]
           },
           {
            "iteration": 297,
            "learn": [
             0.7807807808,
             1.435058852
            ],
            "passed_time": 335.6478519,
            "remaining_time": 790.6872215,
            "test": [
             0.622754491,
             1.478106036
            ]
           },
           {
            "iteration": 298,
            "learn": [
             0.7807807808,
             1.434554148
            ],
            "passed_time": 336.6841503,
            "remaining_time": 789.3497972,
            "test": [
             0.622754491,
             1.477709852
            ]
           },
           {
            "iteration": 299,
            "learn": [
             0.7807807808,
             1.434056748
            ],
            "passed_time": 337.6951767,
            "remaining_time": 787.9554124,
            "test": [
             0.622754491,
             1.477311039
            ]
           },
           {
            "iteration": 300,
            "learn": [
             0.7792792793,
             1.43347842
            ],
            "passed_time": 338.5772503,
            "remaining_time": 786.2641129,
            "test": [
             0.622754491,
             1.476822498
            ]
           },
           {
            "iteration": 301,
            "learn": [
             0.7792792793,
             1.432903697
            ],
            "passed_time": 339.6087183,
            "remaining_time": 784.9234616,
            "test": [
             0.622754491,
             1.476372023
            ]
           },
           {
            "iteration": 302,
            "learn": [
             0.7807807808,
             1.432419696
            ],
            "passed_time": 340.5049397,
            "remaining_time": 783.2737392,
            "test": [
             0.622754491,
             1.476054729
            ]
           },
           {
            "iteration": 303,
            "learn": [
             0.7807807808,
             1.431874164
            ],
            "passed_time": 341.411488,
            "remaining_time": 781.6526173,
            "test": [
             0.622754491,
             1.475611208
            ]
           },
           {
            "iteration": 304,
            "learn": [
             0.7822822823,
             1.431379756
            ],
            "passed_time": 342.505737,
            "remaining_time": 780.4638925,
            "test": [
             0.622754491,
             1.475204353
            ]
           },
           {
            "iteration": 305,
            "learn": [
             0.7807807808,
             1.430871513
            ],
            "passed_time": 344.2459421,
            "remaining_time": 780.7407968,
            "test": [
             0.622754491,
             1.474836021
            ]
           },
           {
            "iteration": 306,
            "learn": [
             0.7807807808,
             1.430308215
            ],
            "passed_time": 345.838459,
            "remaining_time": 780.6711794,
            "test": [
             0.622754491,
             1.474376068
            ]
           },
           {
            "iteration": 307,
            "learn": [
             0.7807807808,
             1.429843325
            ],
            "passed_time": 347.0963288,
            "remaining_time": 779.8398036,
            "test": [
             0.622754491,
             1.474050865
            ]
           },
           {
            "iteration": 308,
            "learn": [
             0.7852852853,
             1.429197174
            ],
            "passed_time": 347.9846872,
            "remaining_time": 778.179349,
            "test": [
             0.622754491,
             1.473561592
            ]
           },
           {
            "iteration": 309,
            "learn": [
             0.7852852853,
             1.428514743
            ],
            "passed_time": 348.891637,
            "remaining_time": 776.5652565,
            "test": [
             0.622754491,
             1.472984501
            ]
           },
           {
            "iteration": 310,
            "learn": [
             0.7807807808,
             1.427909182
            ],
            "passed_time": 349.9427347,
            "remaining_time": 775.2750618,
            "test": [
             0.622754491,
             1.472510787
            ]
           },
           {
            "iteration": 311,
            "learn": [
             0.7822822823,
             1.427376703
            ],
            "passed_time": 350.9939361,
            "remaining_time": 773.9866284,
            "test": [
             0.622754491,
             1.472108113
            ]
           },
           {
            "iteration": 312,
            "learn": [
             0.7822822823,
             1.426887032
            ],
            "passed_time": 352.0491307,
            "remaining_time": 772.7084754,
            "test": [
             0.622754491,
             1.471778237
            ]
           },
           {
            "iteration": 313,
            "learn": [
             0.7837837838,
             1.426347857
            ],
            "passed_time": 353.1018221,
            "remaining_time": 771.4262737,
            "test": [
             0.622754491,
             1.471347077
            ]
           },
           {
            "iteration": 314,
            "learn": [
             0.7822822823,
             1.425846889
            ],
            "passed_time": 354.1082555,
            "remaining_time": 770.0449365,
            "test": [
             0.622754491,
             1.470995953
            ]
           },
           {
            "iteration": 315,
            "learn": [
             0.7822822823,
             1.425328919
            ],
            "passed_time": 355.0213145,
            "remaining_time": 768.463858,
            "test": [
             0.622754491,
             1.470630809
            ]
           },
           {
            "iteration": 316,
            "learn": [
             0.7852852853,
             1.424811957
            ],
            "passed_time": 356.0442276,
            "remaining_time": 767.1236828,
            "test": [
             0.622754491,
             1.470158753
            ]
           },
           {
            "iteration": 317,
            "learn": [
             0.7822822823,
             1.424320216
            ],
            "passed_time": 357.3419609,
            "remaining_time": 766.3748973,
            "test": [
             0.6167664671,
             1.469755262
            ]
           },
           {
            "iteration": 318,
            "learn": [
             0.7807807808,
             1.423765937
            ],
            "passed_time": 358.9785874,
            "remaining_time": 766.3461381,
            "test": [
             0.622754491,
             1.469179979
            ]
           },
           {
            "iteration": 319,
            "learn": [
             0.7792792793,
             1.423221765
            ],
            "passed_time": 360.7263182,
            "remaining_time": 766.5434262,
            "test": [
             0.622754491,
             1.468672933
            ]
           },
           {
            "iteration": 320,
            "learn": [
             0.7822822823,
             1.422641351
            ],
            "passed_time": 361.7695238,
            "remaining_time": 765.2383386,
            "test": [
             0.622754491,
             1.468170549
            ]
           },
           {
            "iteration": 321,
            "learn": [
             0.7822822823,
             1.422112474
            ],
            "passed_time": 362.8056974,
            "remaining_time": 763.9200709,
            "test": [
             0.622754491,
             1.467742473
            ]
           },
           {
            "iteration": 322,
            "learn": [
             0.7792792793,
             1.421587067
            ],
            "passed_time": 363.7260606,
            "remaining_time": 762.3608143,
            "test": [
             0.622754491,
             1.46734768
            ]
           },
           {
            "iteration": 323,
            "learn": [
             0.7792792793,
             1.4211576
            ],
            "passed_time": 364.7137845,
            "remaining_time": 760.9460442,
            "test": [
             0.622754491,
             1.467043069
            ]
           },
           {
            "iteration": 324,
            "learn": [
             0.7792792793,
             1.420644557
            ],
            "passed_time": 365.6593276,
            "remaining_time": 759.4462957,
            "test": [
             0.622754491,
             1.466677503
            ]
           },
           {
            "iteration": 325,
            "learn": [
             0.7777777778,
             1.420014594
            ],
            "passed_time": 366.6260382,
            "remaining_time": 757.9937109,
            "test": [
             0.622754491,
             1.466116714
            ]
           },
           {
            "iteration": 326,
            "learn": [
             0.7792792793,
             1.419439815
            ],
            "passed_time": 367.6031236,
            "remaining_time": 756.5654501,
            "test": [
             0.622754491,
             1.465635163
            ]
           },
           {
            "iteration": 327,
            "learn": [
             0.7807807808,
             1.418916752
            ],
            "passed_time": 368.5155258,
            "remaining_time": 755.0074187,
            "test": [
             0.622754491,
             1.465290399
            ]
           },
           {
            "iteration": 328,
            "learn": [
             0.7807807808,
             1.418377282
            ],
            "passed_time": 369.4307007,
            "remaining_time": 753.4589671,
            "test": [
             0.6167664671,
             1.464829686
            ]
           },
           {
            "iteration": 329,
            "learn": [
             0.7807807808,
             1.417874099
            ],
            "passed_time": 370.4396416,
            "remaining_time": 752.1047269,
            "test": [
             0.6167664671,
             1.464414183
            ]
           },
           {
            "iteration": 330,
            "learn": [
             0.7807807808,
             1.417379923
            ],
            "passed_time": 371.7658791,
            "remaining_time": 751.3938765,
            "test": [
             0.6167664671,
             1.464032643
            ]
           },
           {
            "iteration": 331,
            "learn": [
             0.7807807808,
             1.416648422
            ],
            "passed_time": 373.6050584,
            "remaining_time": 751.7113826,
            "test": [
             0.6167664671,
             1.463327157
            ]
           },
           {
            "iteration": 332,
            "learn": [
             0.7822822823,
             1.416236158
            ],
            "passed_time": 375.348744,
            "remaining_time": 751.8246615,
            "test": [
             0.622754491,
             1.463072287
            ]
           },
           {
            "iteration": 333,
            "learn": [
             0.7807807808,
             1.415696701
            ],
            "passed_time": 376.3917048,
            "remaining_time": 750.5295671,
            "test": [
             0.622754491,
             1.462681488
            ]
           },
           {
            "iteration": 334,
            "learn": [
             0.7807807808,
             1.415212127
            ],
            "passed_time": 377.4346495,
            "remaining_time": 749.2359459,
            "test": [
             0.6167664671,
             1.462342321
            ]
           },
           {
            "iteration": 335,
            "learn": [
             0.7837837838,
             1.414812423
            ],
            "passed_time": 378.4653986,
            "remaining_time": 747.9197164,
            "test": [
             0.6167664671,
             1.462069715
            ]
           },
           {
            "iteration": 336,
            "learn": [
             0.7837837838,
             1.414294949
            ],
            "passed_time": 379.3624268,
            "remaining_time": 746.3421039,
            "test": [
             0.6167664671,
             1.461663292
            ]
           },
           {
            "iteration": 337,
            "learn": [
             0.7852852853,
             1.413762777
            ],
            "passed_time": 380.2459929,
            "remaining_time": 744.7421518,
            "test": [
             0.6167664671,
             1.461229843
            ]
           },
           {
            "iteration": 338,
            "learn": [
             0.7867867868,
             1.413291413
            ],
            "passed_time": 381.143417,
            "remaining_time": 743.1734473,
            "test": [
             0.6167664671,
             1.460901183
            ]
           },
           {
            "iteration": 339,
            "learn": [
             0.7852852853,
             1.412762179
            ],
            "passed_time": 382.0274309,
            "remaining_time": 741.58266,
            "test": [
             0.6167664671,
             1.460449784
            ]
           },
           {
            "iteration": 340,
            "learn": [
             0.7837837838,
             1.412220564
            ],
            "passed_time": 382.8912717,
            "remaining_time": 739.9570324,
            "test": [
             0.6167664671,
             1.460023602
            ]
           },
           {
            "iteration": 341,
            "learn": [
             0.7837837838,
             1.41168454
            ],
            "passed_time": 383.8453438,
            "remaining_time": 738.5094626,
            "test": [
             0.6167664671,
             1.459600726
            ]
           },
           {
            "iteration": 342,
            "learn": [
             0.7882882883,
             1.411076369
            ],
            "passed_time": 384.848733,
            "remaining_time": 737.1592349,
            "test": [
             0.6167664671,
             1.459069954
            ]
           },
           {
            "iteration": 343,
            "learn": [
             0.7882882883,
             1.410655887
            ],
            "passed_time": 385.9334648,
            "remaining_time": 735.9661423,
            "test": [
             0.622754491,
             1.458800826
            ]
           },
           {
            "iteration": 344,
            "learn": [
             0.7867867868,
             1.410165747
            ],
            "passed_time": 387.7712631,
            "remaining_time": 736.2034125,
            "test": [
             0.622754491,
             1.458422411
            ]
           },
           {
            "iteration": 345,
            "learn": [
             0.7882882883,
             1.409690832
            ],
            "passed_time": 389.6123076,
            "remaining_time": 736.4348242,
            "test": [
             0.622754491,
             1.458067479
            ]
           },
           {
            "iteration": 346,
            "learn": [
             0.7867867868,
             1.409176297
            ],
            "passed_time": 390.577304,
            "remaining_time": 735.0057046,
            "test": [
             0.622754491,
             1.457633431
            ]
           },
           {
            "iteration": 347,
            "learn": [
             0.7897897898,
             1.408653995
            ],
            "passed_time": 391.636214,
            "remaining_time": 733.7552056,
            "test": [
             0.622754491,
             1.45721542
            ]
           },
           {
            "iteration": 348,
            "learn": [
             0.7852852853,
             1.408160762
            ],
            "passed_time": 392.5120988,
            "remaining_time": 732.164402,
            "test": [
             0.622754491,
             1.45690052
            ]
           },
           {
            "iteration": 349,
            "learn": [
             0.7852852853,
             1.407684511
            ],
            "passed_time": 393.5213251,
            "remaining_time": 730.825318,
            "test": [
             0.622754491,
             1.45648321
            ]
           },
           {
            "iteration": 350,
            "learn": [
             0.7867867868,
             1.407079004
            ],
            "passed_time": 394.4461894,
            "remaining_time": 729.332128,
            "test": [
             0.622754491,
             1.455986167
            ]
           },
           {
            "iteration": 351,
            "learn": [
             0.7882882883,
             1.406562382
            ],
            "passed_time": 395.4549867,
            "remaining_time": 727.9966801,
            "test": [
             0.622754491,
             1.45563662
            ]
           },
           {
            "iteration": 352,
            "learn": [
             0.7897897898,
             1.406032586
            ],
            "passed_time": 396.4007828,
            "remaining_time": 726.5476105,
            "test": [
             0.622754491,
             1.455221094
            ]
           },
           {
            "iteration": 353,
            "learn": [
             0.7897897898,
             1.405567579
            ],
            "passed_time": 397.3866263,
            "remaining_time": 725.1744649,
            "test": [
             0.622754491,
             1.454892539
            ]
           },
           {
            "iteration": 354,
            "learn": [
             0.7882882883,
             1.405057929
            ],
            "passed_time": 398.4527178,
            "remaining_time": 723.9493041,
            "test": [
             0.622754491,
             1.454523588
            ]
           },
           {
            "iteration": 355,
            "learn": [
             0.7852852853,
             1.404466656
            ],
            "passed_time": 399.4994386,
            "remaining_time": 722.6899956,
            "test": [
             0.622754491,
             1.454023241
            ]
           },
           {
            "iteration": 356,
            "learn": [
             0.7852852853,
             1.404005739
            ],
            "passed_time": 400.9528058,
            "remaining_time": 722.1642973,
            "test": [
             0.622754491,
             1.453650686
            ]
           },
           {
            "iteration": 357,
            "learn": [
             0.7867867868,
             1.403500569
            ],
            "passed_time": 402.6227457,
            "remaining_time": 722.0217954,
            "test": [
             0.622754491,
             1.453309588
            ]
           },
           {
            "iteration": 358,
            "learn": [
             0.7867867868,
             1.402949905
            ],
            "passed_time": 404.1621248,
            "remaining_time": 721.6376658,
            "test": [
             0.622754491,
             1.452880856
            ]
           },
           {
            "iteration": 359,
            "learn": [
             0.7867867868,
             1.402347769
            ],
            "passed_time": 405.0143668,
            "remaining_time": 720.0255411,
            "test": [
             0.622754491,
             1.452339497
            ]
           },
           {
            "iteration": 360,
            "learn": [
             0.7867867868,
             1.401876414
            ],
            "passed_time": 406.0696409,
            "remaining_time": 718.7770098,
            "test": [
             0.622754491,
             1.451953024
            ]
           },
           {
            "iteration": 361,
            "learn": [
             0.7867867868,
             1.401419373
            ],
            "passed_time": 407.1296544,
            "remaining_time": 717.5378991,
            "test": [
             0.622754491,
             1.451640235
            ]
           },
           {
            "iteration": 362,
            "learn": [
             0.7867867868,
             1.400988208
            ],
            "passed_time": 408.1778845,
            "remaining_time": 716.2790976,
            "test": [
             0.622754491,
             1.451377134
            ]
           },
           {
            "iteration": 363,
            "learn": [
             0.7867867868,
             1.400507882
            ],
            "passed_time": 409.2383039,
            "remaining_time": 715.0427508,
            "test": [
             0.622754491,
             1.451004101
            ]
           },
           {
            "iteration": 364,
            "learn": [
             0.7852852853,
             1.400018223
            ],
            "passed_time": 410.2669235,
            "remaining_time": 713.7520449,
            "test": [
             0.622754491,
             1.450702251
            ]
           },
           {
            "iteration": 365,
            "learn": [
             0.7852852853,
             1.399494474
            ],
            "passed_time": 411.1697631,
            "remaining_time": 712.2448902,
            "test": [
             0.622754491,
             1.450272422
            ]
           },
           {
            "iteration": 366,
            "learn": [
             0.7852852853,
             1.39901393
            ],
            "passed_time": 412.2353083,
            "remaining_time": 711.0216625,
            "test": [
             0.6167664671,
             1.449960591
            ]
           },
           {
            "iteration": 367,
            "learn": [
             0.7867867868,
             1.39852214
            ],
            "passed_time": 413.2786228,
            "remaining_time": 709.761113,
            "test": [
             0.622754491,
             1.449542788
            ]
           },
           {
            "iteration": 368,
            "learn": [
             0.7852852853,
             1.39809687
            ],
            "passed_time": 414.4468285,
            "remaining_time": 708.7153083,
            "test": [
             0.622754491,
             1.449279857
            ]
           },
           {
            "iteration": 369,
            "learn": [
             0.7897897898,
             1.397606872
            ],
            "passed_time": 416.3027665,
            "remaining_time": 708.8398457,
            "test": [
             0.622754491,
             1.448869695
            ]
           },
           {
            "iteration": 370,
            "learn": [
             0.7882882883,
             1.397115662
            ],
            "passed_time": 417.9592281,
            "remaining_time": 708.6155107,
            "test": [
             0.6167664671,
             1.448465377
            ]
           },
           {
            "iteration": 371,
            "learn": [
             0.7867867868,
             1.396657378
            ],
            "passed_time": 419.2348651,
            "remaining_time": 707.7405787,
            "test": [
             0.6167664671,
             1.448101003
            ]
           },
           {
            "iteration": 372,
            "learn": [
             0.7882882883,
             1.396097911
            ],
            "passed_time": 420.285208,
            "remaining_time": 706.4847866,
            "test": [
             0.6167664671,
             1.4476492
            ]
           },
           {
            "iteration": 373,
            "learn": [
             0.7867867868,
             1.395616563
            ],
            "passed_time": 421.3357109,
            "remaining_time": 705.230361,
            "test": [
             0.6107784431,
             1.447312204
            ]
           },
           {
            "iteration": 374,
            "learn": [
             0.7897897898,
             1.395190377
            ],
            "passed_time": 422.3777588,
            "remaining_time": 703.9629314,
            "test": [
             0.6107784431,
             1.447008556
            ]
           },
           {
            "iteration": 375,
            "learn": [
             0.7867867868,
             1.394778602
            ],
            "passed_time": 423.4118668,
            "remaining_time": 702.6835236,
            "test": [
             0.6107784431,
             1.446758335
            ]
           },
           {
            "iteration": 376,
            "learn": [
             0.7867867868,
             1.394376635
            ],
            "passed_time": 424.3093045,
            "remaining_time": 701.1795668,
            "test": [
             0.6107784431,
             1.446531137
            ]
           },
           {
            "iteration": 377,
            "learn": [
             0.7867867868,
             1.393958468
            ],
            "passed_time": 425.1804368,
            "remaining_time": 699.6355335,
            "test": [
             0.6107784431,
             1.446261412
            ]
           },
           {
            "iteration": 378,
            "learn": [
             0.7882882883,
             1.39347944
            ],
            "passed_time": 426.0774754,
            "remaining_time": 698.1374992,
            "test": [
             0.6107784431,
             1.445881304
            ]
           },
           {
            "iteration": 379,
            "learn": [
             0.7882882883,
             1.393026676
            ],
            "passed_time": 426.9696793,
            "remaining_time": 696.6347399,
            "test": [
             0.6107784431,
             1.445596882
            ]
           },
           {
            "iteration": 380,
            "learn": [
             0.7882882883,
             1.392597705
            ],
            "passed_time": 427.8550044,
            "remaining_time": 695.1240098,
            "test": [
             0.6167664671,
             1.445322865
            ]
           },
           {
            "iteration": 381,
            "learn": [
             0.7867867868,
             1.392144584
            ],
            "passed_time": 428.8948125,
            "remaining_time": 693.8664767,
            "test": [
             0.622754491,
             1.445012359
            ]
           },
           {
            "iteration": 382,
            "learn": [
             0.7867867868,
             1.391686312
            ],
            "passed_time": 430.6158439,
            "remaining_time": 693.7075084,
            "test": [
             0.622754491,
             1.444700984
            ]
           },
           {
            "iteration": 383,
            "learn": [
             0.7882882883,
             1.391245703
            ],
            "passed_time": 432.2950507,
            "remaining_time": 693.4733105,
            "test": [
             0.6107784431,
             1.444377665
            ]
           },
           {
            "iteration": 384,
            "learn": [
             0.7882882883,
             1.390741494
            ],
            "passed_time": 433.7325415,
            "remaining_time": 692.8454884,
            "test": [
             0.6107784431,
             1.444005232
            ]
           },
           {
            "iteration": 385,
            "learn": [
             0.7867867868,
             1.390206248
            ],
            "passed_time": 434.6332448,
            "remaining_time": 691.3596174,
            "test": [
             0.622754491,
             1.443563216
            ]
           },
           {
            "iteration": 386,
            "learn": [
             0.7867867868,
             1.389730981
            ],
            "passed_time": 435.5281793,
            "remaining_time": 689.8676329,
            "test": [
             0.622754491,
             1.443155157
            ]
           },
           {
            "iteration": 387,
            "learn": [
             0.7852852853,
             1.389228252
            ],
            "passed_time": 436.5381103,
            "remaining_time": 688.5601122,
            "test": [
             0.6167664671,
             1.442745991
            ]
           },
           {
            "iteration": 388,
            "learn": [
             0.7867867868,
             1.388698566
            ],
            "passed_time": 437.5879492,
            "remaining_time": 687.3168045,
            "test": [
             0.622754491,
             1.44238263
            ]
           },
           {
            "iteration": 389,
            "learn": [
             0.7882882883,
             1.388250921
            ],
            "passed_time": 438.6278927,
            "remaining_time": 686.0590116,
            "test": [
             0.6167664671,
             1.442031647
            ]
           },
           {
            "iteration": 390,
            "learn": [
             0.7867867868,
             1.387782916
            ],
            "passed_time": 439.6877608,
            "remaining_time": 684.8333666,
            "test": [
             0.622754491,
             1.441701761
            ]
           },
           {
            "iteration": 391,
            "learn": [
             0.7867867868,
             1.387362162
            ],
            "passed_time": 440.7369919,
            "remaining_time": 683.5920691,
            "test": [
             0.622754491,
             1.441451132
            ]
           },
           {
            "iteration": 392,
            "learn": [
             0.7867867868,
             1.386881438
            ],
            "passed_time": 441.6701256,
            "remaining_time": 682.1724332,
            "test": [
             0.622754491,
             1.441145024
            ]
           },
           {
            "iteration": 393,
            "learn": [
             0.7852852853,
             1.386355044
            ],
            "passed_time": 442.5802597,
            "remaining_time": 680.7198918,
            "test": [
             0.622754491,
             1.440709298
            ]
           },
           {
            "iteration": 394,
            "learn": [
             0.7852852853,
             1.38578878
            ],
            "passed_time": 443.581204,
            "remaining_time": 679.4091858,
            "test": [
             0.622754491,
             1.440209539
            ]
           },
           {
            "iteration": 395,
            "learn": [
             0.7852852853,
             1.385342877
            ],
            "passed_time": 445.4052526,
            "remaining_time": 679.3554863,
            "test": [
             0.622754491,
             1.439890673
            ]
           },
           {
            "iteration": 396,
            "learn": [
             0.7882882883,
             1.384895809
            ],
            "passed_time": 447.3390585,
            "remaining_time": 679.4595775,
            "test": [
             0.622754491,
             1.439592014
            ]
           },
           {
            "iteration": 397,
            "learn": [
             0.7837837838,
             1.384316766
            ],
            "passed_time": 448.4466729,
            "remaining_time": 678.3037615,
            "test": [
             0.622754491,
             1.439136476
            ]
           },
           {
            "iteration": 398,
            "learn": [
             0.7867867868,
             1.383785745
            ],
            "passed_time": 449.4052841,
            "remaining_time": 676.9237488,
            "test": [
             0.6167664671,
             1.43869877
            ]
           },
           {
            "iteration": 399,
            "learn": [
             0.7867867868,
             1.383272643
            ],
            "passed_time": 450.424113,
            "remaining_time": 675.6361694,
            "test": [
             0.6167664671,
             1.438298114
            ]
           },
           {
            "iteration": 400,
            "learn": [
             0.7867867868,
             1.382689992
            ],
            "passed_time": 451.3398491,
            "remaining_time": 674.1959342,
            "test": [
             0.6167664671,
             1.43781676
            ]
           },
           {
            "iteration": 401,
            "learn": [
             0.7882882883,
             1.382114747
            ],
            "passed_time": 452.2744417,
            "remaining_time": 672.7863586,
            "test": [
             0.6107784431,
             1.437318198
            ]
           },
           {
            "iteration": 402,
            "learn": [
             0.7882882883,
             1.381720023
            ],
            "passed_time": 453.4445051,
            "remaining_time": 671.7279642,
            "test": [
             0.6167664671,
             1.437072721
            ]
           },
           {
            "iteration": 403,
            "learn": [
             0.7882882883,
             1.381236568
            ],
            "passed_time": 454.3315016,
            "remaining_time": 670.2514231,
            "test": [
             0.6107784431,
             1.436720132
            ]
           },
           {
            "iteration": 404,
            "learn": [
             0.7912912913,
             1.380766201
            ],
            "passed_time": 455.2589416,
            "remaining_time": 668.8372104,
            "test": [
             0.6107784431,
             1.436415917
            ]
           },
           {
            "iteration": 405,
            "learn": [
             0.7897897898,
             1.380330964
            ],
            "passed_time": 456.2993509,
            "remaining_time": 667.590676,
            "test": [
             0.6167664671,
             1.436046663
            ]
           },
           {
            "iteration": 406,
            "learn": [
             0.7897897898,
             1.379849096
            ],
            "passed_time": 457.1997961,
            "remaining_time": 666.1412262,
            "test": [
             0.6167664671,
             1.435648257
            ]
           },
           {
            "iteration": 407,
            "learn": [
             0.7882882883,
             1.379459671
            ],
            "passed_time": 458.5841479,
            "remaining_time": 665.3966068,
            "test": [
             0.6167664671,
             1.435399068
            ]
           },
           {
            "iteration": 408,
            "learn": [
             0.7882882883,
             1.378971734
            ],
            "passed_time": 460.3490165,
            "remaining_time": 665.1987011,
            "test": [
             0.6107784431,
             1.435022429
            ]
           },
           {
            "iteration": 409,
            "learn": [
             0.7867867868,
             1.378445639
            ],
            "passed_time": 462.20322,
            "remaining_time": 665.1217069,
            "test": [
             0.6107784431,
             1.434661786
            ]
           },
           {
            "iteration": 410,
            "learn": [
             0.7882882883,
             1.378015287
            ],
            "passed_time": 463.3000701,
            "remaining_time": 663.9507088,
            "test": [
             0.6107784431,
             1.434376082
            ]
           },
           {
            "iteration": 411,
            "learn": [
             0.7882882883,
             1.377608449
            ],
            "passed_time": 464.1923799,
            "remaining_time": 662.4881539,
            "test": [
             0.6107784431,
             1.434108691
            ]
           },
           {
            "iteration": 412,
            "learn": [
             0.7867867868,
             1.37710068
            ],
            "passed_time": 465.2285086,
            "remaining_time": 661.2327713,
            "test": [
             0.6107784431,
             1.43369425
            ]
           },
           {
            "iteration": 413,
            "learn": [
             0.7897897898,
             1.376638137
            ],
            "passed_time": 466.1254009,
            "remaining_time": 659.7813645,
            "test": [
             0.6047904192,
             1.433365001
            ]
           },
           {
            "iteration": 414,
            "learn": [
             0.7897897898,
             1.376191824
            ],
            "passed_time": 467.0257958,
            "remaining_time": 658.3375676,
            "test": [
             0.6047904192,
             1.433097506
            ]
           },
           {
            "iteration": 415,
            "learn": [
             0.7897897898,
             1.375672713
            ],
            "passed_time": 468.0064567,
            "remaining_time": 657.0090642,
            "test": [
             0.6047904192,
             1.43271049
            ]
           },
           {
            "iteration": 416,
            "learn": [
             0.7882882883,
             1.375230019
            ],
            "passed_time": 469.05316,
            "remaining_time": 655.7745618,
            "test": [
             0.6047904192,
             1.432366667
            ]
           },
           {
            "iteration": 417,
            "learn": [
             0.7897897898,
             1.374735058
            ],
            "passed_time": 470.0997231,
            "remaining_time": 654.5407628,
            "test": [
             0.6047904192,
             1.431958113
            ]
           },
           {
            "iteration": 418,
            "learn": [
             0.7897897898,
             1.37426687
            ],
            "passed_time": 471.0588614,
            "remaining_time": 653.1866312,
            "test": [
             0.6107784431,
             1.431630786
            ]
           },
           {
            "iteration": 419,
            "learn": [
             0.7882882883,
             1.373795407
            ],
            "passed_time": 471.9592464,
            "remaining_time": 651.753245,
            "test": [
             0.6047904192,
             1.431287982
            ]
           },
           {
            "iteration": 420,
            "learn": [
             0.7912912913,
             1.373313191
            ],
            "passed_time": 473.257832,
            "remaining_time": 650.870035,
            "test": [
             0.6047904192,
             1.430892254
            ]
           },
           {
            "iteration": 421,
            "learn": [
             0.7897897898,
             1.37285018
            ],
            "passed_time": 475.0649837,
            "remaining_time": 650.6814232,
            "test": [
             0.6107784431,
             1.430583088
            ]
           },
           {
            "iteration": 422,
            "learn": [
             0.7912912913,
             1.372403499
            ],
            "passed_time": 476.8760447,
            "remaining_time": 650.4904912,
            "test": [
             0.6107784431,
             1.430262347
            ]
           },
           {
            "iteration": 423,
            "learn": [
             0.7927927928,
             1.371911587
            ],
            "passed_time": 477.8968468,
            "remaining_time": 649.218358,
            "test": [
             0.6047904192,
             1.42986624
            ]
           },
           {
            "iteration": 424,
            "learn": [
             0.7912912913,
             1.371518908
            ],
            "passed_time": 478.943336,
            "remaining_time": 647.9821604,
            "test": [
             0.6107784431,
             1.429586498
            ]
           },
           {
            "iteration": 425,
            "learn": [
             0.7912912913,
             1.371113791
            ],
            "passed_time": 479.972082,
            "remaining_time": 646.7229461,
            "test": [
             0.6107784431,
             1.429323993
            ]
           },
           {
            "iteration": 426,
            "learn": [
             0.7912912913,
             1.370674344
            ],
            "passed_time": 481.0537284,
            "remaining_time": 645.5357994,
            "test": [
             0.6107784431,
             1.429013097
            ]
           },
           {
            "iteration": 427,
            "learn": [
             0.7912912913,
             1.370239625
            ],
            "passed_time": 482.1115068,
            "remaining_time": 644.3172473,
            "test": [
             0.6107784431,
             1.428737901
            ]
           },
           {
            "iteration": 428,
            "learn": [
             0.7912912913,
             1.369678764
            ],
            "passed_time": 483.1639655,
            "remaining_time": 643.0923643,
            "test": [
             0.6047904192,
             1.428249313
            ]
           },
           {
            "iteration": 429,
            "learn": [
             0.7897897898,
             1.36926661
            ],
            "passed_time": 484.2246948,
            "remaining_time": 641.8792466,
            "test": [
             0.6047904192,
             1.4279422
            ]
           },
           {
            "iteration": 430,
            "learn": [
             0.7912912913,
             1.368772832
            ],
            "passed_time": 485.2835781,
            "remaining_time": 640.6643989,
            "test": [
             0.6047904192,
             1.427474908
            ]
           },
           {
            "iteration": 431,
            "learn": [
             0.7897897898,
             1.368328622
            ],
            "passed_time": 486.3340067,
            "remaining_time": 639.4391569,
            "test": [
             0.6107784431,
             1.427183016
            ]
           },
           {
            "iteration": 432,
            "learn": [
             0.7912912913,
             1.367864942
            ],
            "passed_time": 487.783437,
            "remaining_time": 638.7372027,
            "test": [
             0.6167664671,
             1.426900327
            ]
           },
           {
            "iteration": 433,
            "learn": [
             0.7897897898,
             1.367404233
            ],
            "passed_time": 489.5539641,
            "remaining_time": 638.4505615,
            "test": [
             0.6167664671,
             1.42654632
            ]
           },
           {
            "iteration": 434,
            "learn": [
             0.7897897898,
             1.367000047
            ],
            "passed_time": 491.5583006,
            "remaining_time": 638.4607813,
            "test": [
             0.6167664671,
             1.426228324
            ]
           },
           {
            "iteration": 435,
            "learn": [
             0.7897897898,
             1.366624182
            ],
            "passed_time": 493.2452156,
            "remaining_time": 638.0511504,
            "test": [
             0.6167664671,
             1.425965039
            ]
           },
           {
            "iteration": 436,
            "learn": [
             0.7897897898,
             1.366158614
            ],
            "passed_time": 495.1586157,
            "remaining_time": 637.9274614,
            "test": [
             0.6167664671,
             1.425575597
            ]
           },
           {
            "iteration": 437,
            "learn": [
             0.7897897898,
             1.365699512
            ],
            "passed_time": 496.3922893,
            "remaining_time": 636.9234397,
            "test": [
             0.6167664671,
             1.425269522
            ]
           },
           {
            "iteration": 438,
            "learn": [
             0.7897897898,
             1.36528518
            ],
            "passed_time": 497.4520912,
            "remaining_time": 635.6961803,
            "test": [
             0.6167664671,
             1.425034405
            ]
           },
           {
            "iteration": 439,
            "learn": [
             0.7897897898,
             1.364914673
            ],
            "passed_time": 498.4921156,
            "remaining_time": 634.4445107,
            "test": [
             0.6167664671,
             1.424823533
            ]
           },
           {
            "iteration": 440,
            "learn": [
             0.7897897898,
             1.364452208
            ],
            "passed_time": 499.5452374,
            "remaining_time": 633.210403,
            "test": [
             0.6167664671,
             1.424491663
            ]
           },
           {
            "iteration": 441,
            "learn": [
             0.7897897898,
             1.363997792
            ],
            "passed_time": 500.5509151,
            "remaining_time": 631.9172186,
            "test": [
             0.6167664671,
             1.424202724
            ]
           },
           {
            "iteration": 442,
            "learn": [
             0.7897897898,
             1.363542457
            ],
            "passed_time": 501.4961586,
            "remaining_time": 630.5493462,
            "test": [
             0.6167664671,
             1.423879551
            ]
           },
           {
            "iteration": 443,
            "learn": [
             0.7882882883,
             1.362942722
            ],
            "passed_time": 502.6970512,
            "remaining_time": 629.5035145,
            "test": [
             0.6167664671,
             1.423350706
            ]
           },
           {
            "iteration": 444,
            "learn": [
             0.7897897898,
             1.362466686
            ],
            "passed_time": 504.5205737,
            "remaining_time": 629.2335245,
            "test": [
             0.6167664671,
             1.422986133
            ]
           },
           {
            "iteration": 445,
            "learn": [
             0.7897897898,
             1.362000211
            ],
            "passed_time": 506.3933864,
            "remaining_time": 629.0177939,
            "test": [
             0.6167664671,
             1.422583293
            ]
           },
           {
            "iteration": 446,
            "learn": [
             0.7897897898,
             1.361574781
            ],
            "passed_time": 507.4181403,
            "remaining_time": 627.7454846,
            "test": [
             0.6167664671,
             1.42227855
            ]
           },
           {
            "iteration": 447,
            "learn": [
             0.7897897898,
             1.361114118
            ],
            "passed_time": 508.4636086,
            "remaining_time": 626.4998034,
            "test": [
             0.6167664671,
             1.421951731
            ]
           },
           {
            "iteration": 448,
            "learn": [
             0.7897897898,
             1.36069886
            ],
            "passed_time": 509.3588069,
            "remaining_time": 625.0706072,
            "test": [
             0.6167664671,
             1.421692802
            ]
           },
           {
            "iteration": 449,
            "learn": [
             0.7897897898,
             1.360295369
            ],
            "passed_time": 510.2536844,
            "remaining_time": 623.643392,
            "test": [
             0.6167664671,
             1.421366998
            ]
           },
           {
            "iteration": 450,
            "learn": [
             0.7897897898,
             1.359819206
            ],
            "passed_time": 511.2903353,
            "remaining_time": 622.3911177,
            "test": [
             0.6167664671,
             1.420986777
            ]
           },
           {
            "iteration": 451,
            "learn": [
             0.7897897898,
             1.359412509
            ],
            "passed_time": 512.3415717,
            "remaining_time": 621.1574807,
            "test": [
             0.6167664671,
             1.42067401
            ]
           },
           {
            "iteration": 452,
            "learn": [
             0.7897897898,
             1.358891913
            ],
            "passed_time": 513.257832,
            "remaining_time": 619.7616647,
            "test": [
             0.6167664671,
             1.420282778
            ]
           },
           {
            "iteration": 453,
            "learn": [
             0.7897897898,
             1.358365829
            ],
            "passed_time": 514.1597302,
            "remaining_time": 618.3506887,
            "test": [
             0.6107784431,
             1.419902807
            ]
           },
           {
            "iteration": 454,
            "learn": [
             0.7882882883,
             1.357869585
            ],
            "passed_time": 515.0666109,
            "remaining_time": 616.9479186,
            "test": [
             0.6107784431,
             1.419528773
            ]
           },
           {
            "iteration": 455,
            "learn": [
             0.7882882883,
             1.357439119
            ],
            "passed_time": 516.0550317,
            "remaining_time": 615.6445992,
            "test": [
             0.6107784431,
             1.419166554
            ]
           },
           {
            "iteration": 456,
            "learn": [
             0.7882882883,
             1.357024453
            ],
            "passed_time": 517.1756112,
            "remaining_time": 614.4996869,
            "test": [
             0.6107784431,
             1.418848874
            ]
           },
           {
            "iteration": 457,
            "learn": [
             0.7882882883,
             1.356648159
            ],
            "passed_time": 518.9987387,
            "remaining_time": 614.1862803,
            "test": [
             0.6107784431,
             1.418597142
            ]
           },
           {
            "iteration": 458,
            "learn": [
             0.7882882883,
             1.356127207
            ],
            "passed_time": 520.7475861,
            "remaining_time": 613.7787452,
            "test": [
             0.6107784431,
             1.418148876
            ]
           },
           {
            "iteration": 459,
            "learn": [
             0.7882882883,
             1.355623584
            ],
            "passed_time": 522.0536825,
            "remaining_time": 612.8456273,
            "test": [
             0.6107784431,
             1.417763656
            ]
           },
           {
            "iteration": 460,
            "learn": [
             0.7882882883,
             1.355098558
            ],
            "passed_time": 523.0700623,
            "remaining_time": 611.5721552,
            "test": [
             0.6107784431,
             1.417380903
            ]
           },
           {
            "iteration": 461,
            "learn": [
             0.7867867868,
             1.354653057
            ],
            "passed_time": 523.9791645,
            "remaining_time": 610.1748712,
            "test": [
             0.6107784431,
             1.417062747
            ]
           },
           {
            "iteration": 462,
            "learn": [
             0.7882882883,
             1.354267612
            ],
            "passed_time": 524.8524525,
            "remaining_time": 608.7381576,
            "test": [
             0.6047904192,
             1.4168272
            ]
           },
           {
            "iteration": 463,
            "learn": [
             0.7867867868,
             1.353789391
            ],
            "passed_time": 525.7667541,
            "remaining_time": 607.3512504,
            "test": [
             0.6047904192,
             1.41651036
            ]
           },
           {
            "iteration": 464,
            "learn": [
             0.7867867868,
             1.353317399
            ],
            "passed_time": 527.1819545,
            "remaining_time": 606.5426788,
            "test": [
             0.6047904192,
             1.4161065
            ]
           },
           {
            "iteration": 465,
            "learn": [
             0.7867867868,
             1.352895952
            ],
            "passed_time": 528.4987726,
            "remaining_time": 605.6187652,
            "test": [
             0.6047904192,
             1.415818089
            ]
           },
           {
            "iteration": 466,
            "learn": [
             0.7867867868,
             1.352365398
            ],
            "passed_time": 529.779066,
            "remaining_time": 604.6514822,
            "test": [
             0.6107784431,
             1.41532942
            ]
           },
           {
            "iteration": 467,
            "learn": [
             0.7882882883,
             1.351975664
            ],
            "passed_time": 531.2251546,
            "remaining_time": 603.8713296,
            "test": [
             0.6107784431,
             1.415056501
            ]
           },
           {
            "iteration": 468,
            "learn": [
             0.7882882883,
             1.351581376
            ],
            "passed_time": 533.6158213,
            "remaining_time": 604.1577849,
            "test": [
             0.6047904192,
             1.414752342
            ]
           },
           {
            "iteration": 469,
            "learn": [
             0.7882882883,
             1.351151348
            ],
            "passed_time": 536.1322997,
            "remaining_time": 604.574721,
            "test": [
             0.6107784431,
             1.414435213
            ]
           },
           {
            "iteration": 470,
            "learn": [
             0.7882882883,
             1.350804335
            ],
            "passed_time": 537.4951184,
            "remaining_time": 603.6834769,
            "test": [
             0.6107784431,
             1.414240977
            ]
           },
           {
            "iteration": 471,
            "learn": [
             0.7867867868,
             1.350359151
            ],
            "passed_time": 538.5995422,
            "remaining_time": 602.5011828,
            "test": [
             0.6167664671,
             1.413956603
            ]
           },
           {
            "iteration": 472,
            "learn": [
             0.7867867868,
             1.349938068
            ],
            "passed_time": 539.5757237,
            "remaining_time": 601.1763348,
            "test": [
             0.6107784431,
             1.41362341
            ]
           },
           {
            "iteration": 473,
            "learn": [
             0.7867867868,
             1.349457979
            ],
            "passed_time": 540.636376,
            "remaining_time": 599.9466957,
            "test": [
             0.6107784431,
             1.413282227
            ]
           },
           {
            "iteration": 474,
            "learn": [
             0.7867867868,
             1.348963761
            ],
            "passed_time": 541.6958633,
            "remaining_time": 598.7164805,
            "test": [
             0.6107784431,
             1.412931243
            ]
           },
           {
            "iteration": 475,
            "learn": [
             0.7867867868,
             1.348455397
            ],
            "passed_time": 542.6741655,
            "remaining_time": 597.3976108,
            "test": [
             0.6107784431,
             1.412536832
            ]
           },
           {
            "iteration": 476,
            "learn": [
             0.7867867868,
             1.348001074
            ],
            "passed_time": 543.8836632,
            "remaining_time": 596.3336601,
            "test": [
             0.6107784431,
             1.412191675
            ]
           },
           {
            "iteration": 477,
            "learn": [
             0.7867867868,
             1.347584582
            ],
            "passed_time": 544.8367255,
            "remaining_time": 594.98906,
            "test": [
             0.6107784431,
             1.41186355
            ]
           },
           {
            "iteration": 478,
            "learn": [
             0.7867867868,
             1.347118484
            ],
            "passed_time": 545.7455026,
            "remaining_time": 593.5979267,
            "test": [
             0.6167664671,
             1.411461891
            ]
           },
           {
            "iteration": 479,
            "learn": [
             0.7867867868,
             1.346672332
            ],
            "passed_time": 547.1081236,
            "remaining_time": 592.7004672,
            "test": [
             0.6107784431,
             1.411119826
            ]
           },
           {
            "iteration": 480,
            "learn": [
             0.7867867868,
             1.34623074
            ],
            "passed_time": 548.6375361,
            "remaining_time": 591.9810421,
            "test": [
             0.6167664671,
             1.410756423
            ]
           },
           {
            "iteration": 481,
            "learn": [
             0.7867867868,
             1.345792066
            ],
            "passed_time": 550.4827088,
            "remaining_time": 591.5975999,
            "test": [
             0.6047904192,
             1.410439914
            ]
           },
           {
            "iteration": 482,
            "learn": [
             0.7867867868,
             1.345340819
            ],
            "passed_time": 551.3948876,
            "remaining_time": 590.2094345,
            "test": [
             0.6107784431,
             1.410147129
            ]
           },
           {
            "iteration": 483,
            "learn": [
             0.7852852853,
             1.344945609
            ],
            "passed_time": 552.4438106,
            "remaining_time": 588.9690212,
            "test": [
             0.6107784431,
             1.409860556
            ]
           },
           {
            "iteration": 484,
            "learn": [
             0.7867867868,
             1.344598328
            ],
            "passed_time": 553.5100474,
            "remaining_time": 587.7477823,
            "test": [
             0.6107784431,
             1.409657045
            ]
           },
           {
            "iteration": 485,
            "learn": [
             0.7867867868,
             1.344203143
            ],
            "passed_time": 554.5559565,
            "remaining_time": 586.5056824,
            "test": [
             0.6107784431,
             1.40937892
            ]
           },
           {
            "iteration": 486,
            "learn": [
             0.7867867868,
             1.34372384
            ],
            "passed_time": 555.4738202,
            "remaining_time": 585.1295067,
            "test": [
             0.6047904192,
             1.409008082
            ]
           },
           {
            "iteration": 487,
            "learn": [
             0.7882882883,
             1.343320537
            ],
            "passed_time": 556.370622,
            "remaining_time": 583.7331116,
            "test": [
             0.6047904192,
             1.408783231
            ]
           },
           {
            "iteration": 488,
            "learn": [
             0.7867867868,
             1.342905252
            ],
            "passed_time": 557.2321329,
            "remaining_time": 582.3018813,
            "test": [
             0.6047904192,
             1.408525713
            ]
           },
           {
            "iteration": 489,
            "learn": [
             0.7882882883,
             1.342477713
            ],
            "passed_time": 558.133319,
            "remaining_time": 580.9142708,
            "test": [
             0.6047904192,
             1.40826916
            ]
           },
           {
            "iteration": 490,
            "learn": [
             0.7882882883,
             1.342068692
            ],
            "passed_time": 559.0207679,
            "remaining_time": 579.514401,
            "test": [
             0.6047904192,
             1.408015262
            ]
           },
           {
            "iteration": 491,
            "learn": [
             0.7882882883,
             1.341646017
            ],
            "passed_time": 559.9720972,
            "remaining_time": 578.1825719,
            "test": [
             0.6047904192,
             1.407718712
            ]
           },
           {
            "iteration": 492,
            "learn": [
             0.7882882883,
             1.341168307
            ],
            "passed_time": 561.1742096,
            "remaining_time": 577.1101912,
            "test": [
             0.6107784431,
             1.407417414
            ]
           },
           {
            "iteration": 493,
            "learn": [
             0.7882882883,
             1.340743904
            ],
            "passed_time": 562.7389162,
            "remaining_time": 576.4086874,
            "test": [
             0.6167664671,
             1.407123391
            ]
           },
           {
            "iteration": 494,
            "learn": [
             0.7882882883,
             1.34029254
            ],
            "passed_time": 564.437492,
            "remaining_time": 575.8402697,
            "test": [
             0.6167664671,
             1.406786432
            ]
           },
           {
            "iteration": 495,
            "learn": [
             0.7882882883,
             1.339834181
            ],
            "passed_time": 565.8126991,
            "remaining_time": 574.9387104,
            "test": [
             0.6107784431,
             1.406459416
            ]
           },
           {
            "iteration": 496,
            "learn": [
             0.7882882883,
             1.339324104
            ],
            "passed_time": 566.8720654,
            "remaining_time": 573.7155914,
            "test": [
             0.6107784431,
             1.406043977
            ]
           },
           {
            "iteration": 497,
            "learn": [
             0.7897897898,
             1.338911145
            ],
            "passed_time": 567.7786578,
            "remaining_time": 572.3391289,
            "test": [
             0.6107784431,
             1.405781472
            ]
           },
           {
            "iteration": 498,
            "learn": [
             0.7897897898,
             1.338487168
            ],
            "passed_time": 568.6983667,
            "remaining_time": 570.9777188,
            "test": [
             0.6107784431,
             1.405476296
            ]
           },
           {
            "iteration": 499,
            "learn": [
             0.7882882883,
             1.337950761
            ],
            "passed_time": 569.6001638,
            "remaining_time": 569.6001638,
            "test": [
             0.6107784431,
             1.405060468
            ]
           },
           {
            "iteration": 500,
            "learn": [
             0.7897897898,
             1.337576363
            ],
            "passed_time": 570.5051445,
            "remaining_time": 568.2276788,
            "test": [
             0.6107784431,
             1.404802905
            ]
           },
           {
            "iteration": 501,
            "learn": [
             0.7897897898,
             1.33710542
            ],
            "passed_time": 571.4242872,
            "remaining_time": 566.8711056,
            "test": [
             0.6107784431,
             1.404473909
            ]
           },
           {
            "iteration": 502,
            "learn": [
             0.7897897898,
             1.336707653
            ],
            "passed_time": 572.3201666,
            "remaining_time": 565.4932859,
            "test": [
             0.6107784431,
             1.404177872
            ]
           },
           {
            "iteration": 503,
            "learn": [
             0.7897897898,
             1.336311257
            ],
            "passed_time": 573.1953827,
            "remaining_time": 564.0970433,
            "test": [
             0.6107784431,
             1.403934975
            ]
           },
           {
            "iteration": 504,
            "learn": [
             0.7882882883,
             1.335824838
            ],
            "passed_time": 574.1178233,
            "remaining_time": 562.7491536,
            "test": [
             0.6167664671,
             1.403521371
            ]
           },
           {
            "iteration": 505,
            "learn": [
             0.7897897898,
             1.335448693
            ],
            "passed_time": 575.0271808,
            "remaining_time": 561.3901726,
            "test": [
             0.6107784431,
             1.40325652
            ]
           },
           {
            "iteration": 506,
            "learn": [
             0.7897897898,
             1.335015804
            ],
            "passed_time": 576.5639562,
            "remaining_time": 560.643058,
            "test": [
             0.6167664671,
             1.402960507
            ]
           },
           {
            "iteration": 507,
            "learn": [
             0.7897897898,
             1.334635764
            ],
            "passed_time": 578.3430873,
            "remaining_time": 560.127557,
            "test": [
             0.6167664671,
             1.40270953
            ]
           },
           {
            "iteration": 508,
            "learn": [
             0.7897897898,
             1.334165215
            ],
            "passed_time": 580.0052742,
            "remaining_time": 559.4942821,
            "test": [
             0.6167664671,
             1.402309863
            ]
           },
           {
            "iteration": 509,
            "learn": [
             0.7897897898,
             1.333806241
            ],
            "passed_time": 581.0682837,
            "remaining_time": 558.2812922,
            "test": [
             0.6107784431,
             1.402077908
            ]
           },
           {
            "iteration": 510,
            "learn": [
             0.7897897898,
             1.333304542
            ],
            "passed_time": 582.1267353,
            "remaining_time": 557.0645275,
            "test": [
             0.6107784431,
             1.401727049
            ]
           },
           {
            "iteration": 511,
            "learn": [
             0.7897897898,
             1.33287055
            ],
            "passed_time": 583.1904267,
            "remaining_time": 555.8533754,
            "test": [
             0.6107784431,
             1.401440521
            ]
           },
           {
            "iteration": 512,
            "learn": [
             0.7882882883,
             1.332487081
            ],
            "passed_time": 584.2454235,
            "remaining_time": 554.6345444,
            "test": [
             0.6107784431,
             1.401228222
            ]
           },
           {
            "iteration": 513,
            "learn": [
             0.7897897898,
             1.332066367
            ],
            "passed_time": 585.3020573,
            "remaining_time": 553.4178985,
            "test": [
             0.6167664671,
             1.400985654
            ]
           },
           {
            "iteration": 514,
            "learn": [
             0.7897897898,
             1.331637414
            ],
            "passed_time": 586.3641361,
            "remaining_time": 552.207002,
            "test": [
             0.6107784431,
             1.400662195
            ]
           },
           {
            "iteration": 515,
            "learn": [
             0.7897897898,
             1.331222754
            ],
            "passed_time": 587.2478755,
            "remaining_time": 550.8294026,
            "test": [
             0.6107784431,
             1.400364455
            ]
           },
           {
            "iteration": 516,
            "learn": [
             0.7897897898,
             1.330769552
            ],
            "passed_time": 588.1588144,
            "remaining_time": 549.4791245,
            "test": [
             0.6107784431,
             1.40000906
            ]
           },
           {
            "iteration": 517,
            "learn": [
             0.7897897898,
             1.330417449
            ],
            "passed_time": 589.2213236,
            "remaining_time": 548.2715791,
            "test": [
             0.6107784431,
             1.399755138
            ]
           },
           {
            "iteration": 518,
            "learn": [
             0.7897897898,
             1.330008793
            ],
            "passed_time": 590.2844641,
            "remaining_time": 547.0651777,
            "test": [
             0.6107784431,
             1.399482595
            ]
           },
           {
            "iteration": 519,
            "learn": [
             0.7897897898,
             1.329609961
            ],
            "passed_time": 592.2579375,
            "remaining_time": 546.6996346,
            "test": [
             0.6107784431,
             1.399177393
            ]
           },
           {
            "iteration": 520,
            "learn": [
             0.7897897898,
             1.329144363
            ],
            "passed_time": 594.0114362,
            "remaining_time": 546.1256774,
            "test": [
             0.6107784431,
             1.39887326
            ]
           },
           {
            "iteration": 521,
            "learn": [
             0.7897897898,
             1.328697597
            ],
            "passed_time": 595.0442102,
            "remaining_time": 544.887227,
            "test": [
             0.6107784431,
             1.398534632
            ]
           },
           {
            "iteration": 522,
            "learn": [
             0.7897897898,
             1.328317199
            ],
            "passed_time": 595.9180182,
            "remaining_time": 543.5045788,
            "test": [
             0.6107784431,
             1.398259681
            ]
           },
           {
            "iteration": 523,
            "learn": [
             0.7897897898,
             1.327909091
            ],
            "passed_time": 596.9089626,
            "remaining_time": 542.230279,
            "test": [
             0.6107784431,
             1.397988618
            ]
           },
           {
            "iteration": 524,
            "learn": [
             0.7912912913,
             1.327473378
            ],
            "passed_time": 597.8994466,
            "remaining_time": 540.9566421,
            "test": [
             0.6047904192,
             1.397676248
            ]
           },
           {
            "iteration": 525,
            "learn": [
             0.7912912913,
             1.327027376
            ],
            "passed_time": 598.855213,
            "remaining_time": 539.6527965,
            "test": [
             0.6047904192,
             1.397354058
            ]
           },
           {
            "iteration": 526,
            "learn": [
             0.7912912913,
             1.326661068
            ],
            "passed_time": 599.8650329,
            "remaining_time": 538.3987866,
            "test": [
             0.6047904192,
             1.397114558
            ]
           },
           {
            "iteration": 527,
            "learn": [
             0.7912912913,
             1.326283648
            ],
            "passed_time": 601.0542982,
            "remaining_time": 537.306115,
            "test": [
             0.6047904192,
             1.396871307
            ]
           },
           {
            "iteration": 528,
            "learn": [
             0.7912912913,
             1.325817098
            ],
            "passed_time": 602.4023307,
            "remaining_time": 536.3544382,
            "test": [
             0.6047904192,
             1.396546169
            ]
           },
           {
            "iteration": 529,
            "learn": [
             0.7912912913,
             1.32528712
            ],
            "passed_time": 603.3394132,
            "remaining_time": 535.0368381,
            "test": [
             0.6047904192,
             1.396177937
            ]
           },
           {
            "iteration": 530,
            "learn": [
             0.7912912913,
             1.324883208
            ],
            "passed_time": 604.2904467,
            "remaining_time": 533.7329934,
            "test": [
             0.6047904192,
             1.395906022
            ]
           },
           {
            "iteration": 531,
            "learn": [
             0.7912912913,
             1.324479968
            ],
            "passed_time": 605.9879899,
            "remaining_time": 533.0871791,
            "test": [
             0.6047904192,
             1.395664415
            ]
           },
           {
            "iteration": 532,
            "learn": [
             0.7912912913,
             1.324040715
            ],
            "passed_time": 607.7839233,
            "remaining_time": 532.5236251,
            "test": [
             0.6107784431,
             1.395340291
            ]
           },
           {
            "iteration": 533,
            "learn": [
             0.7912912913,
             1.323503983
            ],
            "passed_time": 609.0970629,
            "remaining_time": 531.534141,
            "test": [
             0.6167664671,
             1.394876849
            ]
           },
           {
            "iteration": 534,
            "learn": [
             0.7912912913,
             1.3230699
            ],
            "passed_time": 610.0557118,
            "remaining_time": 530.2353383,
            "test": [
             0.6167664671,
             1.394524865
            ]
           },
           {
            "iteration": 535,
            "learn": [
             0.7912912913,
             1.322596673
            ],
            "passed_time": 610.9789999,
            "remaining_time": 528.907194,
            "test": [
             0.6167664671,
             1.394177537
            ]
           },
           {
            "iteration": 536,
            "learn": [
             0.7912912913,
             1.322209799
            ],
            "passed_time": 611.9014271,
            "remaining_time": 527.5798151,
            "test": [
             0.6167664671,
             1.393877474
            ]
           },
           {
            "iteration": 537,
            "learn": [
             0.7912912913,
             1.321761167
            ],
            "passed_time": 612.9487197,
            "remaining_time": 526.3611682,
            "test": [
             0.6167664671,
             1.393554738
            ]
           },
           {
            "iteration": 538,
            "learn": [
             0.7912912913,
             1.321421386
            ],
            "passed_time": 613.8503072,
            "remaining_time": 525.0185373,
            "test": [
             0.6167664671,
             1.393340701
            ]
           },
           {
            "iteration": 539,
            "learn": [
             0.7912912913,
             1.321042554
            ],
            "passed_time": 614.7543664,
            "remaining_time": 523.6796455,
            "test": [
             0.6167664671,
             1.393093509
            ]
           },
           {
            "iteration": 540,
            "learn": [
             0.7912912913,
             1.320692736
            ],
            "passed_time": 615.6625274,
            "remaining_time": 522.3458412,
            "test": [
             0.6107784431,
             1.392865027
            ]
           },
           {
            "iteration": 541,
            "learn": [
             0.7927927928,
             1.320299389
            ],
            "passed_time": 616.5265507,
            "remaining_time": 520.9763104,
            "test": [
             0.6047904192,
             1.392624639
            ]
           },
           {
            "iteration": 542,
            "learn": [
             0.7927927928,
             1.319835438
            ],
            "passed_time": 617.5301598,
            "remaining_time": 519.7261197,
            "test": [
             0.6107784431,
             1.392237601
            ]
           },
           {
            "iteration": 543,
            "learn": [
             0.7927927928,
             1.319380495
            ],
            "passed_time": 618.4951699,
            "remaining_time": 518.4444807,
            "test": [
             0.6047904192,
             1.391877048
            ]
           },
           {
            "iteration": 544,
            "learn": [
             0.7927927928,
             1.31896411
            ],
            "passed_time": 620.0813174,
            "remaining_time": 517.6825677,
            "test": [
             0.6047904192,
             1.391584878
            ]
           },
           {
            "iteration": 545,
            "learn": [
             0.7927927928,
             1.318557873
            ],
            "passed_time": 621.9114926,
            "remaining_time": 517.1205451,
            "test": [
             0.6167664671,
             1.391271096
            ]
           },
           {
            "iteration": 546,
            "learn": [
             0.7927927928,
             1.318142391
            ],
            "passed_time": 623.2353837,
            "remaining_time": 516.1346048,
            "test": [
             0.6167664671,
             1.390986624
            ]
           },
           {
            "iteration": 547,
            "learn": [
             0.7927927928,
             1.317801908
            ],
            "passed_time": 624.3073361,
            "remaining_time": 514.9396276,
            "test": [
             0.6167664671,
             1.39073962
            ]
           },
           {
            "iteration": 548,
            "learn": [
             0.7927927928,
             1.317386829
            ],
            "passed_time": 625.3606413,
            "remaining_time": 513.72978,
            "test": [
             0.6167664671,
             1.390426122
            ]
           },
           {
            "iteration": 549,
            "learn": [
             0.7927927928,
             1.316984726
            ],
            "passed_time": 626.2559294,
            "remaining_time": 512.391215,
            "test": [
             0.6167664671,
             1.390173339
            ]
           },
           {
            "iteration": 550,
            "learn": [
             0.7927927928,
             1.31659486
            ],
            "passed_time": 627.1499173,
            "remaining_time": 511.0531994,
            "test": [
             0.6167664671,
             1.38988664
            ]
           },
           {
            "iteration": 551,
            "learn": [
             0.7927927928,
             1.316151775
            ],
            "passed_time": 628.0615137,
            "remaining_time": 509.7310836,
            "test": [
             0.6167664671,
             1.389584347
            ]
           },
           {
            "iteration": 552,
            "learn": [
             0.7927927928,
             1.315718736
            ],
            "passed_time": 628.9672092,
            "remaining_time": 508.4056827,
            "test": [
             0.6167664671,
             1.389257113
            ]
           },
           {
            "iteration": 553,
            "learn": [
             0.7927927928,
             1.31531064
            ],
            "passed_time": 629.9817201,
            "remaining_time": 507.1693992,
            "test": [
             0.6167664671,
             1.388974684
            ]
           },
           {
            "iteration": 554,
            "learn": [
             0.7927927928,
             1.314950472
            ],
            "passed_time": 631.0643826,
            "remaining_time": 505.988559,
            "test": [
             0.6167664671,
             1.388745551
            ]
           },
           {
            "iteration": 555,
            "learn": [
             0.7927927928,
             1.314591789
            ],
            "passed_time": 632.136844,
            "remaining_time": 504.7999258,
            "test": [
             0.6167664671,
             1.388483376
            ]
           },
           {
            "iteration": 556,
            "learn": [
             0.7927927928,
             1.314150718
            ],
            "passed_time": 633.1574707,
            "remaining_time": 503.5704839,
            "test": [
             0.6167664671,
             1.388182598
            ]
           },
           {
            "iteration": 557,
            "learn": [
             0.7927927928,
             1.313668232
            ],
            "passed_time": 635.0462549,
            "remaining_time": 503.0294707,
            "test": [
             0.6167664671,
             1.387761575
            ]
           },
           {
            "iteration": 558,
            "learn": [
             0.7927927928,
             1.313327286
            ],
            "passed_time": 636.770702,
            "remaining_time": 502.3539885,
            "test": [
             0.6167664671,
             1.387596794
            ]
           },
           {
            "iteration": 559,
            "learn": [
             0.7927927928,
             1.312890533
            ],
            "passed_time": 637.8951394,
            "remaining_time": 501.2033238,
            "test": [
             0.6167664671,
             1.3872673
            ]
           },
           {
            "iteration": 560,
            "learn": [
             0.7942942943,
             1.312399185
            ],
            "passed_time": 638.8851504,
            "remaining_time": 499.9475598,
            "test": [
             0.6167664671,
             1.386854058
            ]
           },
           {
            "iteration": 561,
            "learn": [
             0.7942942943,
             1.312022848
            ],
            "passed_time": 639.8764743,
            "remaining_time": 498.6937647,
            "test": [
             0.6167664671,
             1.386575339
            ]
           },
           {
            "iteration": 562,
            "learn": [
             0.7927927928,
             1.311573357
            ],
            "passed_time": 640.7887246,
            "remaining_time": 497.3795251,
            "test": [
             0.6167664671,
             1.386252737
            ]
           },
           {
            "iteration": 563,
            "learn": [
             0.7927927928,
             1.31121733
            ],
            "passed_time": 641.6984421,
            "remaining_time": 496.0647531,
            "test": [
             0.6167664671,
             1.38597751
            ]
           },
           {
            "iteration": 564,
            "learn": [
             0.7942942943,
             1.310746803
            ],
            "passed_time": 642.5673597,
            "remaining_time": 494.7200026,
            "test": [
             0.6167664671,
             1.385577671
            ]
           },
           {
            "iteration": 565,
            "learn": [
             0.7927927928,
             1.310347891
            ],
            "passed_time": 643.4443635,
            "remaining_time": 493.3831338,
            "test": [
             0.6167664671,
             1.385311244
            ]
           },
           {
            "iteration": 566,
            "learn": [
             0.7927927928,
             1.309951782
            ],
            "passed_time": 644.3662768,
            "remaining_time": 492.0821832,
            "test": [
             0.6167664671,
             1.385001792
            ]
           },
           {
            "iteration": 567,
            "learn": [
             0.7927927928,
             1.309542247
            ],
            "passed_time": 645.2851676,
            "remaining_time": 490.7802683,
            "test": [
             0.6167664671,
             1.38468046
            ]
           },
           {
            "iteration": 568,
            "learn": [
             0.7927927928,
             1.309159744
            ],
            "passed_time": 646.1956199,
            "remaining_time": 489.4733078,
            "test": [
             0.6167664671,
             1.384421678
            ]
           },
           {
            "iteration": 569,
            "learn": [
             0.7942942943,
             1.308708609
            ],
            "passed_time": 647.0997578,
            "remaining_time": 488.1629752,
            "test": [
             0.6167664671,
             1.384062878
            ]
           },
           {
            "iteration": 570,
            "learn": [
             0.7942942943,
             1.308351363
            ],
            "passed_time": 648.3543355,
            "remaining_time": 487.1173554,
            "test": [
             0.6167664671,
             1.383849323
            ]
           },
           {
            "iteration": 571,
            "learn": [
             0.7957957958,
             1.307937085
            ],
            "passed_time": 650.064037,
            "remaining_time": 486.4115521,
            "test": [
             0.6167664671,
             1.383561527
            ]
           },
           {
            "iteration": 572,
            "learn": [
             0.7957957958,
             1.307523225
            ],
            "passed_time": 651.7508732,
            "remaining_time": 485.6852057,
            "test": [
             0.6167664671,
             1.383289994
            ]
           },
           {
            "iteration": 573,
            "learn": [
             0.7957957958,
             1.307112505
            ],
            "passed_time": 652.7932452,
            "remaining_time": 484.4772168,
            "test": [
             0.6167664671,
             1.383032205
            ]
           },
           {
            "iteration": 574,
            "learn": [
             0.7957957958,
             1.3066698
            ],
            "passed_time": 653.6940129,
            "remaining_time": 483.16514,
            "test": [
             0.6167664671,
             1.382733498
            ]
           },
           {
            "iteration": 575,
            "learn": [
             0.7957957958,
             1.306337331
            ],
            "passed_time": 654.9382519,
            "remaining_time": 482.1073243,
            "test": [
             0.6167664671,
             1.382516017
            ]
           },
           {
            "iteration": 576,
            "learn": [
             0.7957957958,
             1.30593854
            ],
            "passed_time": 655.8434567,
            "remaining_time": 480.8003158,
            "test": [
             0.6107784431,
             1.38223293
            ]
           },
           {
            "iteration": 577,
            "learn": [
             0.7957957958,
             1.305493181
            ],
            "passed_time": 656.7620962,
            "remaining_time": 479.5045062,
            "test": [
             0.6107784431,
             1.381835034
            ]
           },
           {
            "iteration": 578,
            "learn": [
             0.7957957958,
             1.305055432
            ],
            "passed_time": 657.8165712,
            "remaining_time": 478.3087677,
            "test": [
             0.6107784431,
             1.381504553
            ]
           },
           {
            "iteration": 579,
            "learn": [
             0.7957957958,
             1.304627294
            ],
            "passed_time": 658.8866743,
            "remaining_time": 477.1248331,
            "test": [
             0.6167664671,
             1.381238685
            ]
           },
           {
            "iteration": 580,
            "learn": [
             0.7957957958,
             1.304170429
            ],
            "passed_time": 659.9626105,
            "remaining_time": 475.9454971,
            "test": [
             0.6167664671,
             1.380905084
            ]
           },
           {
            "iteration": 581,
            "learn": [
             0.7942942943,
             1.303789721
            ],
            "passed_time": 661.0344293,
            "remaining_time": 474.7635592,
            "test": [
             0.6167664671,
             1.380609671
            ]
           },
           {
            "iteration": 582,
            "learn": [
             0.7957957958,
             1.303400976
            ],
            "passed_time": 662.1260018,
            "remaining_time": 473.5961282,
            "test": [
             0.6167664671,
             1.380382666
            ]
           },
           {
            "iteration": 583,
            "learn": [
             0.7942942943,
             1.302959305
            ],
            "passed_time": 663.8460492,
            "remaining_time": 472.8766378,
            "test": [
             0.6167664671,
             1.380028534
            ]
           },
           {
            "iteration": 584,
            "learn": [
             0.7942942943,
             1.302553746
            ],
            "passed_time": 665.7180666,
            "remaining_time": 472.2615344,
            "test": [
             0.6167664671,
             1.379743774
            ]
           },
           {
            "iteration": 585,
            "learn": [
             0.7942942943,
             1.302155203
            ],
            "passed_time": 667.0911373,
            "remaining_time": 471.2896431,
            "test": [
             0.6167664671,
             1.379431232
            ]
           },
           {
            "iteration": 586,
            "learn": [
             0.7927927928,
             1.301737033
            ],
            "passed_time": 667.9730137,
            "remaining_time": 469.9707916,
            "test": [
             0.6167664671,
             1.379152938
            ]
           },
           {
            "iteration": 587,
            "learn": [
             0.7927927928,
             1.301304863
            ],
            "passed_time": 668.9066689,
            "remaining_time": 468.6897068,
            "test": [
             0.6107784431,
             1.378807705
            ]
           },
           {
            "iteration": 588,
            "learn": [
             0.7927927928,
             1.300896385
            ],
            "passed_time": 669.816153,
            "remaining_time": 467.3929353,
            "test": [
             0.6107784431,
             1.378506187
            ]
           },
           {
            "iteration": 589,
            "learn": [
             0.7927927928,
             1.300462879
            ],
            "passed_time": 670.834984,
            "remaining_time": 466.1734634,
            "test": [
             0.6107784431,
             1.378165191
            ]
           },
           {
            "iteration": 590,
            "learn": [
             0.7927927928,
             1.300023913
            ],
            "passed_time": 671.9014647,
            "remaining_time": 464.9876465,
            "test": [
             0.6107784431,
             1.377818273
            ]
           },
           {
            "iteration": 591,
            "learn": [
             0.7927927928,
             1.299541089
            ],
            "passed_time": 672.8582866,
            "remaining_time": 463.726657,
            "test": [
             0.6107784431,
             1.377395291
            ]
           },
           {
            "iteration": 592,
            "learn": [
             0.7927927928,
             1.29917421
            ],
            "passed_time": 673.7692346,
            "remaining_time": 462.4352082,
            "test": [
             0.6167664671,
             1.377152317
            ]
           },
           {
            "iteration": 593,
            "learn": [
             0.7927927928,
             1.298754998
            ],
            "passed_time": 674.6795595,
            "remaining_time": 461.1446148,
            "test": [
             0.6167664671,
             1.376841536
            ]
           },
           {
            "iteration": 594,
            "learn": [
             0.7927927928,
             1.298347284
            ],
            "passed_time": 675.5580901,
            "remaining_time": 459.833658,
            "test": [
             0.6167664671,
             1.376518991
            ]
           },
           {
            "iteration": 595,
            "learn": [
             0.7927927928,
             1.297947728
            ],
            "passed_time": 676.448564,
            "remaining_time": 458.532248,
            "test": [
             0.6167664671,
             1.376223192
            ]
           },
           {
            "iteration": 596,
            "learn": [
             0.7927927928,
             1.297614642
            ],
            "passed_time": 677.8151429,
            "remaining_time": 457.5536057,
            "test": [
             0.6167664671,
             1.376006101
            ]
           },
           {
            "iteration": 597,
            "learn": [
             0.7927927928,
             1.297205802
            ],
            "passed_time": 679.5304564,
            "remaining_time": 456.8080994,
            "test": [
             0.622754491,
             1.375594092
            ]
           },
           {
            "iteration": 598,
            "learn": [
             0.7927927928,
             1.296776023
            ],
            "passed_time": 681.2368809,
            "remaining_time": 456.0534044,
            "test": [
             0.622754491,
             1.375355946
            ]
           },
           {
            "iteration": 599,
            "learn": [
             0.7942942943,
             1.296388497
            ],
            "passed_time": 682.1773307,
            "remaining_time": 454.7848871,
            "test": [
             0.622754491,
             1.375097518
            ]
           },
           {
            "iteration": 600,
            "learn": [
             0.7927927928,
             1.295941164
            ],
            "passed_time": 683.0445278,
            "remaining_time": 453.4688296,
            "test": [
             0.622754491,
             1.374699264
            ]
           },
           {
            "iteration": 601,
            "learn": [
             0.7927927928,
             1.295589447
            ],
            "passed_time": 683.9501569,
            "remaining_time": 452.1796718,
            "test": [
             0.622754491,
             1.374402652
            ]
           },
           {
            "iteration": 602,
            "learn": [
             0.7927927928,
             1.295166475
            ],
            "passed_time": 684.8724884,
            "remaining_time": 450.9027826,
            "test": [
             0.622754491,
             1.374112881
            ]
           },
           {
            "iteration": 603,
            "learn": [
             0.7927927928,
             1.294747355
            ],
            "passed_time": 685.788678,
            "remaining_time": 449.6230405,
            "test": [
             0.622754491,
             1.37379939
            ]
           },
           {
            "iteration": 604,
            "learn": [
             0.7927927928,
             1.294293564
            ],
            "passed_time": 686.7171868,
            "remaining_time": 448.3525435,
            "test": [
             0.622754491,
             1.373413285
            ]
           },
           {
            "iteration": 605,
            "learn": [
             0.7927927928,
             1.29391565
            ],
            "passed_time": 687.7691802,
            "remaining_time": 447.1634604,
            "test": [
             0.622754491,
             1.373134853
            ]
           },
           {
            "iteration": 606,
            "learn": [
             0.7927927928,
             1.293405806
            ],
            "passed_time": 688.6686903,
            "remaining_time": 445.8761042,
            "test": [
             0.622754491,
             1.372733729
            ]
           },
           {
            "iteration": 607,
            "learn": [
             0.7927927928,
             1.293043698
            ],
            "passed_time": 689.576803,
            "remaining_time": 444.5955704,
            "test": [
             0.622754491,
             1.372433833
            ]
           },
           {
            "iteration": 608,
            "learn": [
             0.7927927928,
             1.292605254
            ],
            "passed_time": 690.6509531,
            "remaining_time": 443.4228615,
            "test": [
             0.622754491,
             1.372082639
            ]
           },
           {
            "iteration": 609,
            "learn": [
             0.7927927928,
             1.292205137
            ],
            "passed_time": 692.1317413,
            "remaining_time": 442.5104575,
            "test": [
             0.622754491,
             1.371794038
            ]
           },
           {
            "iteration": 610,
            "learn": [
             0.7927927928,
             1.29183299
            ],
            "passed_time": 693.9295969,
            "remaining_time": 441.7980576,
            "test": [
             0.622754491,
             1.371574186
            ]
           },
           {
            "iteration": 611,
            "learn": [
             0.7927927928,
             1.291418698
            ],
            "passed_time": 695.7220087,
            "remaining_time": 441.0786591,
            "test": [
             0.622754491,
             1.371243448
            ]
           },
           {
            "iteration": 612,
            "learn": [
             0.7927927928,
             1.291056116
            ],
            "passed_time": 696.8981072,
            "remaining_time": 439.966668,
            "test": [
             0.622754491,
             1.371047358
            ]
           },
           {
            "iteration": 613,
            "learn": [
             0.7942942943,
             1.290731694
            ],
            "passed_time": 697.9563134,
            "remaining_time": 438.7803534,
            "test": [
             0.622754491,
             1.370875907
            ]
           },
           {
            "iteration": 614,
            "learn": [
             0.7942942943,
             1.290351289
            ],
            "passed_time": 698.8761385,
            "remaining_time": 437.5078265,
            "test": [
             0.622754491,
             1.370614902
            ]
           },
           {
            "iteration": 615,
            "learn": [
             0.7942942943,
             1.289971712
            ],
            "passed_time": 699.9783739,
            "remaining_time": 436.3501551,
            "test": [
             0.622754491,
             1.37035886
            ]
           },
           {
            "iteration": 616,
            "learn": [
             0.7942942943,
             1.289667608
            ],
            "passed_time": 701.0365713,
            "remaining_time": 435.1653271,
            "test": [
             0.622754491,
             1.370196565
            ]
           },
           {
            "iteration": 617,
            "learn": [
             0.7942942943,
             1.289252953
            ],
            "passed_time": 702.2477295,
            "remaining_time": 434.0754574,
            "test": [
             0.622754491,
             1.369856087
            ]
           },
           {
            "iteration": 618,
            "learn": [
             0.7957957958,
             1.288890613
            ],
            "passed_time": 703.122708,
            "remaining_time": 432.7782742,
            "test": [
             0.622754491,
             1.369617352
            ]
           },
           {
            "iteration": 619,
            "learn": [
             0.7957957958,
             1.288517984
            ],
            "passed_time": 704.0433955,
            "remaining_time": 431.5104682,
            "test": [
             0.622754491,
             1.36933557
            ]
           },
           {
            "iteration": 620,
            "learn": [
             0.7957957958,
             1.288026735
            ],
            "passed_time": 704.9585361,
            "remaining_time": 430.2403948,
            "test": [
             0.6167664671,
             1.368923774
            ]
           },
           {
            "iteration": 621,
            "learn": [
             0.7957957958,
             1.287590082
            ],
            "passed_time": 705.8699594,
            "remaining_time": 428.9692036,
            "test": [
             0.6167664671,
             1.368536016
            ]
           },
           {
            "iteration": 622,
            "learn": [
             0.7957957958,
             1.287198271
            ],
            "passed_time": 707.6162701,
            "remaining_time": 428.2043882,
            "test": [
             0.6167664671,
             1.36825716
            ]
           },
           {
            "iteration": 623,
            "learn": [
             0.7957957958,
             1.286859101
            ],
            "passed_time": 709.4468149,
            "remaining_time": 427.4871834,
            "test": [
             0.6167664671,
             1.368065953
            ]
           },
           {
            "iteration": 624,
            "learn": [
             0.7957957958,
             1.286461668
            ],
            "passed_time": 710.8288935,
            "remaining_time": 426.4973361,
            "test": [
             0.6167664671,
             1.367772218
            ]
           },
           {
            "iteration": 625,
            "learn": [
             0.7957957958,
             1.286032733
            ],
            "passed_time": 711.739166,
            "remaining_time": 425.224358,
            "test": [
             0.6167664671,
             1.367475881
            ]
           },
           {
            "iteration": 626,
            "learn": [
             0.7942942943,
             1.285604449
            ],
            "passed_time": 712.648274,
            "remaining_time": 423.951844,
            "test": [
             0.6167664671,
             1.367128851
            ]
           },
           {
            "iteration": 627,
            "learn": [
             0.7957957958,
             1.285280179
            ],
            "passed_time": 713.5602026,
            "remaining_time": 422.6821582,
            "test": [
             0.6167664671,
             1.366970533
            ]
           },
           {
            "iteration": 628,
            "learn": [
             0.7942942943,
             1.284927212
            ],
            "passed_time": 714.4822606,
            "remaining_time": 421.4195845,
            "test": [
             0.6167664671,
             1.366759408
            ]
           },
           {
            "iteration": 629,
            "learn": [
             0.7942942943,
             1.284563132
            ],
            "passed_time": 715.3894694,
            "remaining_time": 420.1493709,
            "test": [
             0.6167664671,
             1.366496676
            ]
           },
           {
            "iteration": 630,
            "learn": [
             0.7942942943,
             1.284177012
            ],
            "passed_time": 716.2533337,
            "remaining_time": 418.8549606,
            "test": [
             0.6167664671,
             1.366260409
            ]
           },
           {
            "iteration": 631,
            "learn": [
             0.7942942943,
             1.283727729
            ],
            "passed_time": 717.3233317,
            "remaining_time": 417.68194,
            "test": [
             0.6167664671,
             1.365893473
            ]
           },
           {
            "iteration": 632,
            "learn": [
             0.7927927928,
             1.28326059
            ],
            "passed_time": 718.36556,
            "remaining_time": 416.4931446,
            "test": [
             0.6167664671,
             1.365543656
            ]
           },
           {
            "iteration": 633,
            "learn": [
             0.7927927928,
             1.282819618
            ],
            "passed_time": 719.4315737,
            "remaining_time": 415.3185425,
            "test": [
             0.6167664671,
             1.365179633
            ]
           },
           {
            "iteration": 634,
            "learn": [
             0.7957957958,
             1.282414113
            ],
            "passed_time": 720.5341006,
            "remaining_time": 414.1652704,
            "test": [
             0.6167664671,
             1.364888488
            ]
           },
           {
            "iteration": 635,
            "learn": [
             0.7942942943,
             1.281950419
            ],
            "passed_time": 722.2506262,
            "remaining_time": 413.363566,
            "test": [
             0.6167664671,
             1.364488749
            ]
           },
           {
            "iteration": 636,
            "learn": [
             0.7942942943,
             1.281668385
            ],
            "passed_time": 723.9318533,
            "remaining_time": 412.538874,
            "test": [
             0.6167664671,
             1.364325328
            ]
           },
           {
            "iteration": 637,
            "learn": [
             0.7942942943,
             1.281298531
            ],
            "passed_time": 725.305461,
            "remaining_time": 411.5369543,
            "test": [
             0.6167664671,
             1.36409891
            ]
           },
           {
            "iteration": 638,
            "learn": [
             0.7972972973,
             1.28086022
            ],
            "passed_time": 726.3597246,
            "remaining_time": 410.3534594,
            "test": [
             0.6167664671,
             1.363717746
            ]
           },
           {
            "iteration": 639,
            "learn": [
             0.7957957958,
             1.280542519
            ],
            "passed_time": 727.4478901,
            "remaining_time": 409.1894382,
            "test": [
             0.6167664671,
             1.363557595
            ]
           },
           {
            "iteration": 640,
            "learn": [
             0.7942942943,
             1.280127302
            ],
            "passed_time": 728.5303206,
            "remaining_time": 408.0224417,
            "test": [
             0.6167664671,
             1.363266579
            ]
           },
           {
            "iteration": 641,
            "learn": [
             0.7942942943,
             1.279706284
            ],
            "passed_time": 729.4390167,
            "remaining_time": 406.7588286,
            "test": [
             0.6167664671,
             1.362963135
            ]
           },
           {
            "iteration": 642,
            "learn": [
             0.7942942943,
             1.279364851
            ],
            "passed_time": 730.4930307,
            "remaining_time": 405.5770015,
            "test": [
             0.6167664671,
             1.362737827
            ]
           },
           {
            "iteration": 643,
            "learn": [
             0.7957957958,
             1.279032179
            ],
            "passed_time": 731.5888995,
            "remaining_time": 404.4187084,
            "test": [
             0.6167664671,
             1.362544927
            ]
           },
           {
            "iteration": 644,
            "learn": [
             0.7942942943,
             1.278661983
            ],
            "passed_time": 732.4785865,
            "remaining_time": 403.147129,
            "test": [
             0.6167664671,
             1.36232379
            ]
           },
           {
            "iteration": 645,
            "learn": [
             0.7957957958,
             1.278367039
            ],
            "passed_time": 733.5370526,
            "remaining_time": 401.9692208,
            "test": [
             0.6167664671,
             1.362119345
            ]
           },
           {
            "iteration": 646,
            "learn": [
             0.7942942943,
             1.277982657
            ],
            "passed_time": 734.6107524,
            "remaining_time": 400.7999932,
            "test": [
             0.6167664671,
             1.361871567
            ]
           },
           {
            "iteration": 647,
            "learn": [
             0.7957957958,
             1.277587637
            ],
            "passed_time": 736.1393612,
            "remaining_time": 399.8781715,
            "test": [
             0.6167664671,
             1.361579781
            ]
           },
           {
            "iteration": 648,
            "learn": [
             0.7957957958,
             1.277175328
            ],
            "passed_time": 737.9141857,
            "remaining_time": 399.0876413,
            "test": [
             0.6167664671,
             1.361218076
            ]
           },
           {
            "iteration": 649,
            "learn": [
             0.7957957958,
             1.276730875
            ],
            "passed_time": 739.6519113,
            "remaining_time": 398.2741061,
            "test": [
             0.6167664671,
             1.360852388
            ]
           },
           {
            "iteration": 650,
            "learn": [
             0.7957957958,
             1.276326977
            ],
            "passed_time": 740.572835,
            "remaining_time": 397.0198455,
            "test": [
             0.6167664671,
             1.360557133
            ]
           },
           {
            "iteration": 651,
            "learn": [
             0.7942942943,
             1.275911351
            ],
            "passed_time": 741.5028923,
            "remaining_time": 395.7714824,
            "test": [
             0.6167664671,
             1.360226914
            ]
           },
           {
            "iteration": 652,
            "learn": [
             0.7942942943,
             1.275478409
            ],
            "passed_time": 742.4895106,
            "remaining_time": 394.5541504,
            "test": [
             0.6167664671,
             1.359895012
            ]
           },
           {
            "iteration": 653,
            "learn": [
             0.7942942943,
             1.275050091
            ],
            "passed_time": 743.5643775,
            "remaining_time": 393.384212,
            "test": [
             0.6167664671,
             1.359532588
            ]
           },
           {
            "iteration": 654,
            "learn": [
             0.7942942943,
             1.274594082
            ],
            "passed_time": 744.6263366,
            "remaining_time": 392.2077651,
            "test": [
             0.6167664671,
             1.359128853
            ]
           },
           {
            "iteration": 655,
            "learn": [
             0.7957957958,
             1.274207935
            ],
            "passed_time": 746.0194185,
            "remaining_time": 391.2053048,
            "test": [
             0.6167664671,
             1.358862444
            ]
           },
           {
            "iteration": 656,
            "learn": [
             0.7957957958,
             1.2738911
            ],
            "passed_time": 746.9195362,
            "remaining_time": 389.9442936,
            "test": [
             0.6167664671,
             1.358685882
            ]
           },
           {
            "iteration": 657,
            "learn": [
             0.7957957958,
             1.27350527
            ],
            "passed_time": 747.8351172,
            "remaining_time": 388.6924165,
            "test": [
             0.6167664671,
             1.358377226
            ]
           },
           {
            "iteration": 658,
            "learn": [
             0.7972972973,
             1.273104145
            ],
            "passed_time": 748.7379194,
            "remaining_time": 387.4349477,
            "test": [
             0.6167664671,
             1.358127224
            ]
           },
           {
            "iteration": 659,
            "learn": [
             0.7957957958,
             1.272730548
            ],
            "passed_time": 749.7228586,
            "remaining_time": 386.2208666,
            "test": [
             0.6167664671,
             1.357851546
            ]
           },
           {
            "iteration": 660,
            "learn": [
             0.7957957958,
             1.272417729
            ],
            "passed_time": 751.3939743,
            "remaining_time": 385.3593907,
            "test": [
             0.6167664671,
             1.357684304
            ]
           },
           {
            "iteration": 661,
            "learn": [
             0.7987987988,
             1.272085867
            ],
            "passed_time": 753.1850617,
            "remaining_time": 384.5567233,
            "test": [
             0.6167664671,
             1.357479541
            ]
           },
           {
            "iteration": 662,
            "learn": [
             0.7987987988,
             1.271711579
            ],
            "passed_time": 754.6101882,
            "remaining_time": 383.5650579,
            "test": [
             0.6167664671,
             1.357212313
            ]
           },
           {
            "iteration": 663,
            "learn": [
             0.7972972973,
             1.271313239
            ],
            "passed_time": 755.6174333,
            "remaining_time": 382.3606289,
            "test": [
             0.6167664671,
             1.356870423
            ]
           },
           {
            "iteration": 664,
            "learn": [
             0.7972972973,
             1.270934116
            ],
            "passed_time": 756.5984506,
            "remaining_time": 381.1435804,
            "test": [
             0.6167664671,
             1.356630935
            ]
           },
           {
            "iteration": 665,
            "learn": [
             0.7972972973,
             1.270541331
            ],
            "passed_time": 757.6716493,
            "remaining_time": 379.9734698,
            "test": [
             0.6167664671,
             1.356355814
            ]
           },
           {
            "iteration": 666,
            "learn": [
             0.7972972973,
             1.270169325
            ],
            "passed_time": 758.7391577,
            "remaining_time": 378.8008089,
            "test": [
             0.6167664671,
             1.356094086
            ]
           },
           {
            "iteration": 667,
            "learn": [
             0.7972972973,
             1.269815113
            ],
            "passed_time": 759.7500538,
            "remaining_time": 377.6003262,
            "test": [
             0.6167664671,
             1.355855719
            ]
           },
           {
            "iteration": 668,
            "learn": [
             0.7987987988,
             1.26938984
            ],
            "passed_time": 760.7279348,
            "remaining_time": 376.3840754,
            "test": [
             0.6167664671,
             1.355517112
            ]
           },
           {
            "iteration": 669,
            "learn": [
             0.7987987988,
             1.269038612
            ],
            "passed_time": 761.7485528,
            "remaining_time": 375.1895857,
            "test": [
             0.6167664671,
             1.355277386
            ]
           },
           {
            "iteration": 670,
            "learn": [
             0.8003003003,
             1.268586371
            ],
            "passed_time": 762.6557151,
            "remaining_time": 373.9399855,
            "test": [
             0.6167664671,
             1.354853897
            ]
           },
           {
            "iteration": 671,
            "learn": [
             0.7987987988,
             1.268147092
            ],
            "passed_time": 763.5128518,
            "remaining_time": 372.6669872,
            "test": [
             0.6167664671,
             1.354493077
            ]
           },
           {
            "iteration": 672,
            "learn": [
             0.8003003003,
             1.267759115
            ],
            "passed_time": 764.653201,
            "remaining_time": 371.5328332,
            "test": [
             0.6167664671,
             1.354195943
            ]
           },
           {
            "iteration": 673,
            "learn": [
             0.8003003003,
             1.26735346
            ],
            "passed_time": 766.5132149,
            "remaining_time": 370.7467478,
            "test": [
             0.6167664671,
             1.353854294
            ]
           },
           {
            "iteration": 674,
            "learn": [
             0.8003003003,
             1.266996203
            ],
            "passed_time": 768.201551,
            "remaining_time": 369.8748209,
            "test": [
             0.6167664671,
             1.353588769
            ]
           },
           {
            "iteration": 675,
            "learn": [
             0.8003003003,
             1.266555795
            ],
            "passed_time": 770.0785958,
            "remaining_time": 369.0909246,
            "test": [
             0.6167664671,
             1.353244036
            ]
           },
           {
            "iteration": 676,
            "learn": [
             0.7987987988,
             1.266148412
            ],
            "passed_time": 771.940821,
            "remaining_time": 368.2967285,
            "test": [
             0.6167664671,
             1.352911181
            ]
           },
           {
            "iteration": 677,
            "learn": [
             0.7987987988,
             1.265781325
            ],
            "passed_time": 773.4951109,
            "remaining_time": 367.3531353,
            "test": [
             0.6167664671,
             1.352676039
            ]
           },
           {
            "iteration": 678,
            "learn": [
             0.7972972973,
             1.26539404
            ],
            "passed_time": 774.5619221,
            "remaining_time": 366.1772857,
            "test": [
             0.622754491,
             1.352432174
            ]
           },
           {
            "iteration": 679,
            "learn": [
             0.7972972973,
             1.265008882
            ],
            "passed_time": 775.6448286,
            "remaining_time": 365.0093311,
            "test": [
             0.622754491,
             1.352120176
            ]
           },
           {
            "iteration": 680,
            "learn": [
             0.7987987988,
             1.264633141
            ],
            "passed_time": 776.7255111,
            "remaining_time": 363.8405845,
            "test": [
             0.6167664671,
             1.351827245
            ]
           },
           {
            "iteration": 681,
            "learn": [
             0.7987987988,
             1.264250861
            ],
            "passed_time": 777.7724789,
            "remaining_time": 362.6563758,
            "test": [
             0.6167664671,
             1.351484496
            ]
           },
           {
            "iteration": 682,
            "learn": [
             0.7972972973,
             1.263842066
            ],
            "passed_time": 778.8682972,
            "remaining_time": 361.4952419,
            "test": [
             0.6167664671,
             1.351163981
            ]
           },
           {
            "iteration": 683,
            "learn": [
             0.7972972973,
             1.263459899
            ],
            "passed_time": 779.9125866,
            "remaining_time": 360.3104932,
            "test": [
             0.6167664671,
             1.350955204
            ]
           },
           {
            "iteration": 684,
            "learn": [
             0.7972972973,
             1.263083119
            ],
            "passed_time": 781.3809355,
            "remaining_time": 359.3211601,
            "test": [
             0.6167664671,
             1.350646802
            ]
           },
           {
            "iteration": 685,
            "learn": [
             0.7972972973,
             1.262687101
            ],
            "passed_time": 783.0545242,
            "remaining_time": 358.424374,
            "test": [
             0.6167664671,
             1.350338085
            ]
           },
           {
            "iteration": 686,
            "learn": [
             0.7972972973,
             1.262326975
            ],
            "passed_time": 784.7831855,
            "remaining_time": 357.5504179,
            "test": [
             0.6167664671,
             1.350112762
            ]
           },
           {
            "iteration": 687,
            "learn": [
             0.7987987988,
             1.261997201
            ],
            "passed_time": 785.6846905,
            "remaining_time": 356.2988713,
            "test": [
             0.6167664671,
             1.349909435
            ]
           },
           {
            "iteration": 688,
            "learn": [
             0.7987987988,
             1.2615616
            ],
            "passed_time": 786.5739191,
            "remaining_time": 355.0427995,
            "test": [
             0.6167664671,
             1.349590345
            ]
           },
           {
            "iteration": 689,
            "learn": [
             0.8003003003,
             1.261178881
            ],
            "passed_time": 787.5993219,
            "remaining_time": 353.8489707,
            "test": [
             0.6167664671,
             1.349309254
            ]
           },
           {
            "iteration": 690,
            "learn": [
             0.8033033033,
             1.260798593
            ],
            "passed_time": 788.5656836,
            "remaining_time": 352.6292275,
            "test": [
             0.6167664671,
             1.348990238
            ]
           },
           {
            "iteration": 691,
            "learn": [
             0.8048048048,
             1.260464792
            ],
            "passed_time": 789.4965334,
            "remaining_time": 351.3944108,
            "test": [
             0.6167664671,
             1.348772392
            ]
           },
           {
            "iteration": 692,
            "learn": [
             0.8018018018,
             1.260141901
            ],
            "passed_time": 790.4127396,
            "remaining_time": 350.1539842,
            "test": [
             0.6167664671,
             1.348559162
            ]
           },
           {
            "iteration": 693,
            "learn": [
             0.8018018018,
             1.259750021
            ],
            "passed_time": 791.3926143,
            "remaining_time": 348.9425648,
            "test": [
             0.6167664671,
             1.348256404
            ]
           },
           {
            "iteration": 694,
            "learn": [
             0.8018018018,
             1.259347804
            ],
            "passed_time": 792.4714312,
            "remaining_time": 347.7752324,
            "test": [
             0.6167664671,
             1.347951456
            ]
           },
           {
            "iteration": 695,
            "learn": [
             0.8018018018,
             1.258971866
            ],
            "passed_time": 793.5765053,
            "remaining_time": 346.619623,
            "test": [
             0.6167664671,
             1.347687642
            ]
           },
           {
            "iteration": 696,
            "learn": [
             0.8018018018,
             1.258612604
            ],
            "passed_time": 794.5415766,
            "remaining_time": 345.4032966,
            "test": [
             0.6167664671,
             1.34741812
            ]
           },
           {
            "iteration": 697,
            "learn": [
             0.8018018018,
             1.258267782
            ],
            "passed_time": 795.956423,
            "remaining_time": 344.3822919,
            "test": [
             0.6167664671,
             1.347194525
            ]
           },
           {
            "iteration": 698,
            "learn": [
             0.8033033033,
             1.257937955
            ],
            "passed_time": 797.600256,
            "remaining_time": 343.4587654,
            "test": [
             0.6167664671,
             1.347018074
            ]
           },
           {
            "iteration": 699,
            "learn": [
             0.8033033033,
             1.257570579
            ],
            "passed_time": 799.3366942,
            "remaining_time": 342.572869,
            "test": [
             0.6167664671,
             1.346731084
            ]
           },
           {
            "iteration": 700,
            "learn": [
             0.8033033033,
             1.257088177
            ],
            "passed_time": 800.4407297,
            "remaining_time": 341.4148048,
            "test": [
             0.6167664671,
             1.346388394
            ]
           },
           {
            "iteration": 701,
            "learn": [
             0.8033033033,
             1.256778962
            ],
            "passed_time": 801.5248596,
            "remaining_time": 340.2484447,
            "test": [
             0.6167664671,
             1.346208843
            ]
           },
           {
            "iteration": 702,
            "learn": [
             0.8048048048,
             1.256414171
            ],
            "passed_time": 802.5979807,
            "remaining_time": 339.0776675,
            "test": [
             0.6167664671,
             1.345931992
            ]
           },
           {
            "iteration": 703,
            "learn": [
             0.8048048048,
             1.256031699
            ],
            "passed_time": 803.6856628,
            "remaining_time": 337.9132901,
            "test": [
             0.6167664671,
             1.345695989
            ]
           },
           {
            "iteration": 704,
            "learn": [
             0.8048048048,
             1.255665736
            ],
            "passed_time": 804.6951882,
            "remaining_time": 336.7164263,
            "test": [
             0.6167664671,
             1.345453262
            ]
           },
           {
            "iteration": 705,
            "learn": [
             0.8033033033,
             1.255303055
            ],
            "passed_time": 805.6477191,
            "remaining_time": 335.4963589,
            "test": [
             0.6167664671,
             1.345219597
            ]
           },
           {
            "iteration": 706,
            "learn": [
             0.8033033033,
             1.254945447
            ],
            "passed_time": 806.6557115,
            "remaining_time": 334.3000332,
            "test": [
             0.6167664671,
             1.345005682
            ]
           },
           {
            "iteration": 707,
            "learn": [
             0.8033033033,
             1.254625122
            ],
            "passed_time": 807.5645028,
            "remaining_time": 333.063326,
            "test": [
             0.6167664671,
             1.344771747
            ]
           },
           {
            "iteration": 708,
            "learn": [
             0.8033033033,
             1.254276953
            ],
            "passed_time": 808.6104358,
            "remaining_time": 331.8838319,
            "test": [
             0.6167664671,
             1.344506882
            ]
           },
           {
            "iteration": 709,
            "learn": [
             0.8033033033,
             1.253937561
            ],
            "passed_time": 809.5789299,
            "remaining_time": 330.673084,
            "test": [
             0.6167664671,
             1.344305726
            ]
           },
           {
            "iteration": 710,
            "learn": [
             0.8048048048,
             1.253503285
            ],
            "passed_time": 811.3609885,
            "remaining_time": 329.793707,
            "test": [
             0.6167664671,
             1.343952055
            ]
           },
           {
            "iteration": 711,
            "learn": [
             0.8048048048,
             1.253143438
            ],
            "passed_time": 813.2042195,
            "remaining_time": 328.9365382,
            "test": [
             0.6167664671,
             1.343722023
            ]
           },
           {
            "iteration": 712,
            "learn": [
             0.8048048048,
             1.252720375
            ],
            "passed_time": 814.392802,
            "remaining_time": 327.8130914,
            "test": [
             0.6167664671,
             1.343399975
            ]
           },
           {
            "iteration": 713,
            "learn": [
             0.8063063063,
             1.252417077
            ],
            "passed_time": 815.4471921,
            "remaining_time": 326.63571,
            "test": [
             0.6167664671,
             1.343240752
            ]
           },
           {
            "iteration": 714,
            "learn": [
             0.8063063063,
             1.252112094
            ],
            "passed_time": 816.3476413,
            "remaining_time": 325.3973116,
            "test": [
             0.6167664671,
             1.343014515
            ]
           },
           {
            "iteration": 715,
            "learn": [
             0.8063063063,
             1.251742823
            ],
            "passed_time": 817.2695958,
            "remaining_time": 324.1683872,
            "test": [
             0.6167664671,
             1.342749197
            ]
           },
           {
            "iteration": 716,
            "learn": [
             0.8063063063,
             1.251373721
            ],
            "passed_time": 818.185633,
            "remaining_time": 322.9379835,
            "test": [
             0.6167664671,
             1.342519441
            ]
           },
           {
            "iteration": 717,
            "learn": [
             0.8063063063,
             1.250970786
            ],
            "passed_time": 819.111644,
            "remaining_time": 321.7123727,
            "test": [
             0.6167664671,
             1.342244519
            ]
           },
           {
            "iteration": 718,
            "learn": [
             0.8063063063,
             1.250581262
            ],
            "passed_time": 820.1221851,
            "remaining_time": 320.5206315,
            "test": [
             0.6167664671,
             1.34194651
            ]
           },
           {
            "iteration": 719,
            "learn": [
             0.8063063063,
             1.250235765
            ],
            "passed_time": 821.2334209,
            "remaining_time": 319.3685526,
            "test": [
             0.6167664671,
             1.341699607
            ]
           },
           {
            "iteration": 720,
            "learn": [
             0.8048048048,
             1.249885173
            ],
            "passed_time": 822.14371,
            "remaining_time": 318.1388282,
            "test": [
             0.6167664671,
             1.341486911
            ]
           },
           {
            "iteration": 721,
            "learn": [
             0.8048048048,
             1.249496184
            ],
            "passed_time": 823.0645844,
            "remaining_time": 316.9140644,
            "test": [
             0.6167664671,
             1.341221436
            ]
           },
           {
            "iteration": 722,
            "learn": [
             0.8048048048,
             1.249116022
            ],
            "passed_time": 824.0292517,
            "remaining_time": 315.7069194,
            "test": [
             0.6167664671,
             1.340992633
            ]
           },
           {
            "iteration": 723,
            "learn": [
             0.8063063063,
             1.248771827
            ],
            "passed_time": 825.7718775,
            "remaining_time": 314.7970141,
            "test": [
             0.6167664671,
             1.340717847
            ]
           },
           {
            "iteration": 724,
            "learn": [
             0.8048048048,
             1.248416837
            ],
            "passed_time": 827.6846341,
            "remaining_time": 313.949344,
            "test": [
             0.6167664671,
             1.340473934
            ]
           },
           {
            "iteration": 725,
            "learn": [
             0.8063063063,
             1.248056073
            ],
            "passed_time": 829.0595455,
            "remaining_time": 312.8957513,
            "test": [
             0.6167664671,
             1.340230923
            ]
           },
           {
            "iteration": 726,
            "learn": [
             0.8048048048,
             1.247691716
            ],
            "passed_time": 829.9702555,
            "remaining_time": 311.6669598,
            "test": [
             0.6167664671,
             1.339960111
            ]
           },
           {
            "iteration": 727,
            "learn": [
             0.8063063063,
             1.247300503
            ],
            "passed_time": 831.0477389,
            "remaining_time": 310.501353,
            "test": [
             0.6167664671,
             1.339722877
            ]
           },
           {
            "iteration": 728,
            "learn": [
             0.8048048048,
             1.246860245
            ],
            "passed_time": 831.9552691,
            "remaining_time": 309.2728092,
            "test": [
             0.6167664671,
             1.339386665
            ]
           },
           {
            "iteration": 729,
            "learn": [
             0.8078078078,
             1.246377993
            ],
            "passed_time": 832.8620057,
            "remaining_time": 308.0448514,
            "test": [
             0.6167664671,
             1.339002118
            ]
           },
           {
            "iteration": 730,
            "learn": [
             0.8063063063,
             1.245979534
            ],
            "passed_time": 833.773447,
            "remaining_time": 306.8195038,
            "test": [
             0.6167664671,
             1.338745529
            ]
           },
           {
            "iteration": 731,
            "learn": [
             0.8063063063,
             1.245616014
            ],
            "passed_time": 834.8262883,
            "remaining_time": 305.6467832,
            "test": [
             0.6167664671,
             1.338494921
            ]
           },
           {
            "iteration": 732,
            "learn": [
             0.8063063063,
             1.245148918
            ],
            "passed_time": 835.7864626,
            "remaining_time": 304.4406351,
            "test": [
             0.6167664671,
             1.33809478
            ]
           },
           {
            "iteration": 733,
            "learn": [
             0.8078078078,
             1.244778025
            ],
            "passed_time": 836.8279401,
            "remaining_time": 303.2646214,
            "test": [
             0.6167664671,
             1.337790888
            ]
           },
           {
            "iteration": 734,
            "learn": [
             0.8063063063,
             1.244372222
            ],
            "passed_time": 837.8952519,
            "remaining_time": 302.0982881,
            "test": [
             0.6167664671,
             1.337469451
            ]
           },
           {
            "iteration": 735,
            "learn": [
             0.8063063063,
             1.244007153
            ],
            "passed_time": 839.1883283,
            "remaining_time": 301.0132047,
            "test": [
             0.6167664671,
             1.337217855
            ]
           },
           {
            "iteration": 736,
            "learn": [
             0.8063063063,
             1.243662399
            ],
            "passed_time": 840.9038088,
            "remaining_time": 300.0782927,
            "test": [
             0.6167664671,
             1.336943239
            ]
           },
           {
            "iteration": 737,
            "learn": [
             0.8063063063,
             1.243280761
            ],
            "passed_time": 842.5045409,
            "remaining_time": 299.1005281,
            "test": [
             0.6167664671,
             1.336614639
            ]
           },
           {
            "iteration": 738,
            "learn": [
             0.8063063063,
             1.242896881
            ],
            "passed_time": 843.7928518,
            "remaining_time": 298.0107366,
            "test": [
             0.6167664671,
             1.336263349
            ]
           },
           {
            "iteration": 739,
            "learn": [
             0.8063063063,
             1.242457578
            ],
            "passed_time": 844.7926053,
            "remaining_time": 296.8190235,
            "test": [
             0.6167664671,
             1.335970315
            ]
           },
           {
            "iteration": 740,
            "learn": [
             0.8063063063,
             1.242061889
            ],
            "passed_time": 845.7174389,
            "remaining_time": 295.6016419,
            "test": [
             0.6167664671,
             1.335631889
            ]
           },
           {
            "iteration": 741,
            "learn": [
             0.8078078078,
             1.24168443
            ],
            "passed_time": 846.693495,
            "remaining_time": 294.4028594,
            "test": [
             0.6167664671,
             1.335347806
            ]
           },
           {
            "iteration": 742,
            "learn": [
             0.8078078078,
             1.241317012
            ],
            "passed_time": 847.7853256,
            "remaining_time": 293.2447223,
            "test": [
             0.6167664671,
             1.335039755
            ]
           },
           {
            "iteration": 743,
            "learn": [
             0.8078078078,
             1.240958663
            ],
            "passed_time": 848.7573117,
            "remaining_time": 292.0455266,
            "test": [
             0.6167664671,
             1.334739516
            ]
           },
           {
            "iteration": 744,
            "learn": [
             0.8093093093,
             1.240591293
            ],
            "passed_time": 849.7585819,
            "remaining_time": 290.8569643,
            "test": [
             0.622754491,
             1.334453425
            ]
           },
           {
            "iteration": 745,
            "learn": [
             0.8078078078,
             1.240243317
            ],
            "passed_time": 850.772702,
            "remaining_time": 289.6732792,
            "test": [
             0.622754491,
             1.334252995
            ]
           },
           {
            "iteration": 746,
            "learn": [
             0.8093093093,
             1.239909686
            ],
            "passed_time": 851.700472,
            "remaining_time": 288.4608024,
            "test": [
             0.622754491,
             1.334060575
            ]
           },
           {
            "iteration": 747,
            "learn": [
             0.8108108108,
             1.239570024
            ],
            "passed_time": 852.6505796,
            "remaining_time": 287.2566124,
            "test": [
             0.622754491,
             1.333850746
            ]
           },
           {
            "iteration": 748,
            "learn": [
             0.8108108108,
             1.23915755
            ],
            "passed_time": 853.9749062,
            "remaining_time": 286.1785066,
            "test": [
             0.622754491,
             1.333560665
            ]
           },
           {
            "iteration": 749,
            "learn": [
             0.8108108108,
             1.238848538
            ],
            "passed_time": 855.8693296,
            "remaining_time": 285.2897765,
            "test": [
             0.622754491,
             1.333360411
            ]
           },
           {
            "iteration": 750,
            "learn": [
             0.8108108108,
             1.23846501
            ],
            "passed_time": 857.7577918,
            "remaining_time": 284.3963917,
            "test": [
             0.622754491,
             1.333053597
            ]
           },
           {
            "iteration": 751,
            "learn": [
             0.8108108108,
             1.238068506
            ],
            "passed_time": 858.8527095,
            "remaining_time": 283.2386595,
            "test": [
             0.622754491,
             1.332734546
            ]
           },
           {
            "iteration": 752,
            "learn": [
             0.8093093093,
             1.237658017
            ],
            "passed_time": 859.9189425,
            "remaining_time": 282.071685,
            "test": [
             0.622754491,
             1.332450901
            ]
           },
           {
            "iteration": 753,
            "learn": [
             0.8108108108,
             1.237308602
            ],
            "passed_time": 860.9827529,
            "remaining_time": 280.9041873,
            "test": [
             0.622754491,
             1.332224872
            ]
           },
           {
            "iteration": 754,
            "learn": [
             0.8093093093,
             1.236949524
            ],
            "passed_time": 862.0639536,
            "remaining_time": 279.7426075,
            "test": [
             0.622754491,
             1.331974532
            ]
           },
           {
            "iteration": 755,
            "learn": [
             0.8093093093,
             1.236630049
            ],
            "passed_time": 863.1504864,
            "remaining_time": 278.5829612,
            "test": [
             0.622754491,
             1.331725477
            ]
           },
           {
            "iteration": 756,
            "learn": [
             0.8093093093,
             1.236184154
            ],
            "passed_time": 864.2268241,
            "remaining_time": 277.4202355,
            "test": [
             0.622754491,
             1.33132328
            ]
           },
           {
            "iteration": 757,
            "learn": [
             0.8093093093,
             1.235880509
            ],
            "passed_time": 865.2327002,
            "remaining_time": 276.235242,
            "test": [
             0.622754491,
             1.331175851
            ]
           },
           {
            "iteration": 758,
            "learn": [
             0.8093093093,
             1.235522301
            ],
            "passed_time": 866.2308214,
            "remaining_time": 275.0482582,
            "test": [
             0.622754491,
             1.330871362
            ]
           },
           {
            "iteration": 759,
            "learn": [
             0.8093093093,
             1.235184102
            ],
            "passed_time": 867.2963772,
            "remaining_time": 273.8830665,
            "test": [
             0.622754491,
             1.330640871
            ]
           },
           {
            "iteration": 760,
            "learn": [
             0.8093093093,
             1.234772812
            ],
            "passed_time": 868.4879455,
            "remaining_time": 272.7577122,
            "test": [
             0.622754491,
             1.33028679
            ]
           },
           {
            "iteration": 761,
            "learn": [
             0.8063063063,
             1.234360815
            ],
            "passed_time": 870.0729768,
            "remaining_time": 271.7550767,
            "test": [
             0.622754491,
             1.329961091
            ]
           },
           {
            "iteration": 762,
            "learn": [
             0.8063063063,
             1.233979669
            ],
            "passed_time": 871.8751432,
            "remaining_time": 270.8183603,
            "test": [
             0.622754491,
             1.329739659
            ]
           },
           {
            "iteration": 763,
            "learn": [
             0.8063063063,
             1.233601423
            ],
            "passed_time": 873.0932036,
            "remaining_time": 269.6989477,
            "test": [
             0.622754491,
             1.329453198
            ]
           },
           {
            "iteration": 764,
            "learn": [
             0.8063063063,
             1.23316621
            ],
            "passed_time": 874.144862,
            "remaining_time": 268.5281602,
            "test": [
             0.622754491,
             1.329080687
            ]
           },
           {
            "iteration": 765,
            "learn": [
             0.8078078078,
             1.232785599
            ],
            "passed_time": 875.0802848,
            "remaining_time": 267.3221758,
            "test": [
             0.622754491,
             1.32885206
            ]
           },
           {
            "iteration": 766,
            "learn": [
             0.8063063063,
             1.232415323
            ],
            "passed_time": 876.1446778,
            "remaining_time": 266.1560755,
            "test": [
             0.622754491,
             1.328557475
            ]
           },
           {
            "iteration": 767,
            "learn": [
             0.8063063063,
             1.23209743
            ],
            "passed_time": 877.0836452,
            "remaining_time": 264.9523512,
            "test": [
             0.622754491,
             1.328375063
            ]
           },
           {
            "iteration": 768,
            "learn": [
             0.8063063063,
             1.231744408
            ],
            "passed_time": 877.9411008,
            "remaining_time": 263.72483,
            "test": [
             0.622754491,
             1.328121647
            ]
           },
           {
            "iteration": 769,
            "learn": [
             0.8078078078,
             1.231365049
            ],
            "passed_time": 878.8632332,
            "remaining_time": 262.5175891,
            "test": [
             0.622754491,
             1.327832937
            ]
           },
           {
            "iteration": 770,
            "learn": [
             0.8078078078,
             1.231034125
            ],
            "passed_time": 879.8079246,
            "remaining_time": 261.3177882,
            "test": [
             0.622754491,
             1.327614396
            ]
           },
           {
            "iteration": 771,
            "learn": [
             0.8078078078,
             1.230713913
            ],
            "passed_time": 880.7387905,
            "remaining_time": 260.1145651,
            "test": [
             0.622754491,
             1.327409139
            ]
           },
           {
            "iteration": 772,
            "learn": [
             0.8078078078,
             1.230399426
            ],
            "passed_time": 881.6415579,
            "remaining_time": 258.9037951,
            "test": [
             0.622754491,
             1.327216499
            ]
           },
           {
            "iteration": 773,
            "learn": [
             0.8093093093,
             1.230082396
            ],
            "passed_time": 882.5673047,
            "remaining_time": 257.7005308,
            "test": [
             0.622754491,
             1.327020834
            ]
           },
           {
            "iteration": 774,
            "learn": [
             0.8093093093,
             1.229730535
            ],
            "passed_time": 884.131443,
            "remaining_time": 256.6833222,
            "test": [
             0.622754491,
             1.326777766
            ]
           },
           {
            "iteration": 775,
            "learn": [
             0.8093093093,
             1.229333946
            ],
            "passed_time": 886.0863491,
            "remaining_time": 255.7775028,
            "test": [
             0.622754491,
             1.326477975
            ]
           },
           {
            "iteration": 776,
            "learn": [
             0.8093093093,
             1.228965875
            ],
            "passed_time": 887.3563482,
            "remaining_time": 254.672414,
            "test": [
             0.622754491,
             1.326193464
            ]
           },
           {
            "iteration": 777,
            "learn": [
             0.8093093093,
             1.22863393
            ],
            "passed_time": 888.2715507,
            "remaining_time": 253.465661,
            "test": [
             0.622754491,
             1.32599785
            ]
           },
           {
            "iteration": 778,
            "learn": [
             0.8093093093,
             1.228272719
            ],
            "passed_time": 889.3122069,
            "remaining_time": 252.2952474,
            "test": [
             0.622754491,
             1.325741206
            ]
           },
           {
            "iteration": 779,
            "learn": [
             0.8093093093,
             1.227881477
            ],
            "passed_time": 890.3948897,
            "remaining_time": 251.1370202,
            "test": [
             0.622754491,
             1.325447712
            ]
           },
           {
            "iteration": 780,
            "learn": [
             0.8093093093,
             1.22752843
            ],
            "passed_time": 891.493609,
            "remaining_time": 249.9834832,
            "test": [
             0.622754491,
             1.325168574
            ]
           },
           {
            "iteration": 781,
            "learn": [
             0.8093093093,
             1.227159379
            ],
            "passed_time": 892.5763402,
            "remaining_time": 248.8256294,
            "test": [
             0.622754491,
             1.324922711
            ]
           },
           {
            "iteration": 782,
            "learn": [
             0.8078078078,
             1.226813196
            ],
            "passed_time": 893.4856831,
            "remaining_time": 247.6199147,
            "test": [
             0.622754491,
             1.324688599
            ]
           },
           {
            "iteration": 783,
            "learn": [
             0.8093093093,
             1.226528798
            ],
            "passed_time": 894.549832,
            "remaining_time": 246.4576068,
            "test": [
             0.622754491,
             1.324552384
            ]
           },
           {
            "iteration": 784,
            "learn": [
             0.8093093093,
             1.226145299
            ],
            "passed_time": 895.488953,
            "remaining_time": 245.2613056,
            "test": [
             0.622754491,
             1.324229591
            ]
           },
           {
            "iteration": 785,
            "learn": [
             0.8093093093,
             1.225802919
            ],
            "passed_time": 896.5620349,
            "remaining_time": 244.1021316,
            "test": [
             0.622754491,
             1.323976552
            ]
           },
           {
            "iteration": 786,
            "learn": [
             0.8093093093,
             1.225478507
            ],
            "passed_time": 897.919183,
            "remaining_time": 243.0200584,
            "test": [
             0.622754491,
             1.323769785
            ]
           },
           {
            "iteration": 787,
            "learn": [
             0.8093093093,
             1.225144557
            ],
            "passed_time": 899.63756,
            "remaining_time": 242.0344705,
            "test": [
             0.622754491,
             1.323583273
            ]
           },
           {
            "iteration": 788,
            "learn": [
             0.8108108108,
             1.224830146
            ],
            "passed_time": 901.3353624,
            "remaining_time": 241.0415228,
            "test": [
             0.622754491,
             1.323359891
            ]
           },
           {
            "iteration": 789,
            "learn": [
             0.8108108108,
             1.224478188
            ],
            "passed_time": 902.2696238,
            "remaining_time": 239.843824,
            "test": [
             0.622754491,
             1.32310391
            ]
           },
           {
            "iteration": 790,
            "learn": [
             0.8123123123,
             1.224171275
            ],
            "passed_time": 903.2942771,
            "remaining_time": 238.670675,
            "test": [
             0.622754491,
             1.322898384
            ]
           },
           {
            "iteration": 791,
            "learn": [
             0.8108108108,
             1.223796777
            ],
            "passed_time": 904.2663143,
            "remaining_time": 237.4840825,
            "test": [
             0.622754491,
             1.322618877
            ]
           },
           {
            "iteration": 792,
            "learn": [
             0.8108108108,
             1.22347097
            ],
            "passed_time": 905.2091438,
            "remaining_time": 236.290407,
            "test": [
             0.622754491,
             1.322383636
            ]
           },
           {
            "iteration": 793,
            "learn": [
             0.8108108108,
             1.223101399
            ],
            "passed_time": 906.1307412,
            "remaining_time": 235.0918548,
            "test": [
             0.622754491,
             1.322105109
            ]
           },
           {
            "iteration": 794,
            "learn": [
             0.8108108108,
             1.222745095
            ],
            "passed_time": 907.0443165,
            "remaining_time": 233.8919307,
            "test": [
             0.622754491,
             1.321815129
            ]
           },
           {
            "iteration": 795,
            "learn": [
             0.8108108108,
             1.222431828
            ],
            "passed_time": 907.9052698,
            "remaining_time": 232.67924,
            "test": [
             0.622754491,
             1.32161765
            ]
           },
           {
            "iteration": 796,
            "learn": [
             0.8108108108,
             1.222092081
            ],
            "passed_time": 908.8492703,
            "remaining_time": 231.4885845,
            "test": [
             0.622754491,
             1.321376061
            ]
           },
           {
            "iteration": 797,
            "learn": [
             0.8108108108,
             1.221695038
            ],
            "passed_time": 909.9217976,
            "remaining_time": 230.3310816,
            "test": [
             0.622754491,
             1.321073158
            ]
           },
           {
            "iteration": 798,
            "learn": [
             0.8108108108,
             1.221298475
            ],
            "passed_time": 910.8402407,
            "remaining_time": 229.1350293,
            "test": [
             0.622754491,
             1.320763898
            ]
           },
           {
            "iteration": 799,
            "learn": [
             0.8108108108,
             1.220960385
            ],
            "passed_time": 912.1041877,
            "remaining_time": 228.0260469,
            "test": [
             0.622754491,
             1.320501136
            ]
           },
           {
            "iteration": 800,
            "learn": [
             0.8108108108,
             1.22060247
            ],
            "passed_time": 914.0763236,
            "remaining_time": 227.0926197,
            "test": [
             0.622754491,
             1.320208751
            ]
           },
           {
            "iteration": 801,
            "learn": [
             0.8108108108,
             1.220258413
            ],
            "passed_time": 915.6247785,
            "remaining_time": 226.0520027,
            "test": [
             0.622754491,
             1.319959286
            ]
           },
           {
            "iteration": 802,
            "learn": [
             0.8108108108,
             1.219889917
            ],
            "passed_time": 916.6145791,
            "remaining_time": 224.8730661,
            "test": [
             0.622754491,
             1.319726808
            ]
           },
           {
            "iteration": 803,
            "learn": [
             0.8108108108,
             1.219505555
            ],
            "passed_time": 917.5329062,
            "remaining_time": 223.6771761,
            "test": [
             0.622754491,
             1.319477348
            ]
           },
           {
            "iteration": 804,
            "learn": [
             0.8108108108,
             1.219168381
            ],
            "passed_time": 918.5786653,
            "remaining_time": 222.5128444,
            "test": [
             0.622754491,
             1.319267738
            ]
           },
           {
            "iteration": 805,
            "learn": [
             0.8108108108,
             1.218809276
            ],
            "passed_time": 919.5509933,
            "remaining_time": 221.3311324,
            "test": [
             0.622754491,
             1.319046443
            ]
           },
           {
            "iteration": 806,
            "learn": [
             0.8108108108,
             1.21850373
            ],
            "passed_time": 920.6308188,
            "remaining_time": 220.1756481,
            "test": [
             0.622754491,
             1.31885529
            ]
           },
           {
            "iteration": 807,
            "learn": [
             0.8108108108,
             1.218146821
            ],
            "passed_time": 921.7149089,
            "remaining_time": 219.0213645,
            "test": [
             0.622754491,
             1.318633024
            ]
           },
           {
            "iteration": 808,
            "learn": [
             0.8108108108,
             1.217812425
            ],
            "passed_time": 922.7953699,
            "remaining_time": 217.8663976,
            "test": [
             0.622754491,
             1.31841965
            ]
           },
           {
            "iteration": 809,
            "learn": [
             0.8108108108,
             1.217467847
            ],
            "passed_time": 923.8916393,
            "remaining_time": 216.7153228,
            "test": [
             0.622754491,
             1.318157425
            ]
           },
           {
            "iteration": 810,
            "learn": [
             0.8108108108,
             1.217152889
            ],
            "passed_time": 924.8027578,
            "remaining_time": 215.5212345,
            "test": [
             0.622754491,
             1.317931762
            ]
           },
           {
            "iteration": 811,
            "learn": [
             0.8108108108,
             1.216735521
            ],
            "passed_time": 925.7496029,
            "remaining_time": 214.336115,
            "test": [
             0.622754491,
             1.317597884
            ]
           },
           {
            "iteration": 812,
            "learn": [
             0.8108108108,
             1.216442618
            ],
            "passed_time": 927.4764426,
            "remaining_time": 213.3309899,
            "test": [
             0.622754491,
             1.317423459
            ]
           },
           {
            "iteration": 813,
            "learn": [
             0.8123123123,
             1.216077682
            ],
            "passed_time": 929.4163195,
            "remaining_time": 212.3727708,
            "test": [
             0.622754491,
             1.317117596
            ]
           },
           {
            "iteration": 814,
            "learn": [
             0.8123123123,
             1.215678746
            ],
            "passed_time": 930.7674309,
            "remaining_time": 211.2784966,
            "test": [
             0.622754491,
             1.316743543
            ]
           },
           {
            "iteration": 815,
            "learn": [
             0.8108108108,
             1.215317235
            ],
            "passed_time": 931.7735856,
            "remaining_time": 210.1058085,
            "test": [
             0.622754491,
             1.316486816
            ]
           },
           {
            "iteration": 816,
            "learn": [
             0.8108108108,
             1.214973597
            ],
            "passed_time": 932.7496468,
            "remaining_time": 208.9267875,
            "test": [
             0.622754491,
             1.316309005
            ]
           },
           {
            "iteration": 817,
            "learn": [
             0.8123123123,
             1.214605841
            ],
            "passed_time": 933.7008941,
            "remaining_time": 207.7427417,
            "test": [
             0.622754491,
             1.316031175
            ]
           },
           {
            "iteration": 818,
            "learn": [
             0.8123123123,
             1.214199579
            ],
            "passed_time": 934.7122433,
            "remaining_time": 206.5725471,
            "test": [
             0.622754491,
             1.315724632
            ]
           },
           {
            "iteration": 819,
            "learn": [
             0.8123123123,
             1.213889538
            ],
            "passed_time": 935.72389,
            "remaining_time": 205.4028051,
            "test": [
             0.622754491,
             1.315507171
            ]
           },
           {
            "iteration": 820,
            "learn": [
             0.8123123123,
             1.213526248
            ],
            "passed_time": 936.6515322,
            "remaining_time": 204.2151331,
            "test": [
             0.622754491,
             1.31526952
            ]
           },
           {
            "iteration": 821,
            "learn": [
             0.8123123123,
             1.213166438
            ],
            "passed_time": 937.5705716,
            "remaining_time": 203.0262308,
            "test": [
             0.622754491,
             1.314996596
            ]
           },
           {
            "iteration": 822,
            "learn": [
             0.8123123123,
             1.212826082
            ],
            "passed_time": 938.4993887,
            "remaining_time": 201.8400872,
            "test": [
             0.622754491,
             1.314755743
            ]
           },
           {
            "iteration": 823,
            "learn": [
             0.8123123123,
             1.212441998
            ],
            "passed_time": 939.5728445,
            "remaining_time": 200.6854619,
            "test": [
             0.622754491,
             1.314462955
            ]
           },
           {
            "iteration": 824,
            "learn": [
             0.8123123123,
             1.212119352
            ],
            "passed_time": 940.6111962,
            "remaining_time": 199.5235871,
            "test": [
             0.622754491,
             1.314271819
            ]
           },
           {
            "iteration": 825,
            "learn": [
             0.8123123123,
             1.211761321
            ],
            "passed_time": 942.324224,
            "remaining_time": 198.5041344,
            "test": [
             0.622754491,
             1.313994402
            ]
           },
           {
            "iteration": 826,
            "learn": [
             0.8123123123,
             1.211452614
            ],
            "passed_time": 944.2377803,
            "remaining_time": 197.5249528,
            "test": [
             0.622754491,
             1.313769945
            ]
           },
           {
            "iteration": 827,
            "learn": [
             0.8123123123,
             1.211095037
            ],
            "passed_time": 945.3989333,
            "remaining_time": 196.387218,
            "test": [
             0.622754491,
             1.313532932
            ]
           },
           {
            "iteration": 828,
            "learn": [
             0.8123123123,
             1.210754452
            ],
            "passed_time": 946.293021,
            "remaining_time": 195.1943385,
            "test": [
             0.622754491,
             1.313325175
            ]
           },
           {
            "iteration": 829,
            "learn": [
             0.8123123123,
             1.210423639
            ],
            "passed_time": 947.2969755,
            "remaining_time": 194.0246817,
            "test": [
             0.622754491,
             1.313099052
            ]
           },
           {
            "iteration": 830,
            "learn": [
             0.8123123123,
             1.210059255
            ],
            "passed_time": 948.2360778,
            "remaining_time": 192.8422348,
            "test": [
             0.622754491,
             1.312873088
            ]
           },
           {
            "iteration": 831,
            "learn": [
             0.8108108108,
             1.20971057
            ],
            "passed_time": 949.1696671,
            "remaining_time": 191.6592597,
            "test": [
             0.622754491,
             1.312647498
            ]
           },
           {
            "iteration": 832,
            "learn": [
             0.8108108108,
             1.209380498
            ],
            "passed_time": 950.2642047,
            "remaining_time": 190.5091503,
            "test": [
             0.622754491,
             1.312418116
            ]
           },
           {
            "iteration": 833,
            "learn": [
             0.8108108108,
             1.209073453
            ],
            "passed_time": 951.200044,
            "remaining_time": 189.3275867,
            "test": [
             0.622754491,
             1.312222018
            ]
           },
           {
            "iteration": 834,
            "learn": [
             0.8123123123,
             1.208707898
            ],
            "passed_time": 952.1729438,
            "remaining_time": 188.153935,
            "test": [
             0.622754491,
             1.311972154
            ]
           },
           {
            "iteration": 835,
            "learn": [
             0.8123123123,
             1.208392711
            ],
            "passed_time": 953.1705536,
            "remaining_time": 186.985611,
            "test": [
             0.622754491,
             1.311787784
            ]
           },
           {
            "iteration": 836,
            "learn": [
             0.8123123123,
             1.208055713
            ],
            "passed_time": 954.1341101,
            "remaining_time": 185.8110633,
            "test": [
             0.622754491,
             1.311556263
            ]
           },
           {
            "iteration": 837,
            "learn": [
             0.8123123123,
             1.207645695
            ],
            "passed_time": 955.4754749,
            "remaining_time": 184.710056,
            "test": [
             0.622754491,
             1.311282517
            ]
           },
           {
            "iteration": 838,
            "learn": [
             0.8123123123,
             1.207365078
            ],
            "passed_time": 957.1999297,
            "remaining_time": 183.6819889,
            "test": [
             0.622754491,
             1.311127019
            ]
           },
           {
            "iteration": 839,
            "learn": [
             0.8123123123,
             1.207038429
            ],
            "passed_time": 959.0310467,
            "remaining_time": 182.6725803,
            "test": [
             0.622754491,
             1.310901976
            ]
           },
           {
            "iteration": 840,
            "learn": [
             0.8123123123,
             1.206718035
            ],
            "passed_time": 960.1987707,
            "remaining_time": 181.5357961,
            "test": [
             0.622754491,
             1.31070833
            ]
           },
           {
            "iteration": 841,
            "learn": [
             0.8123123123,
             1.2063463
            ],
            "passed_time": 961.2709051,
            "remaining_time": 180.3810012,
            "test": [
             0.622754491,
             1.310427807
            ]
           },
           {
            "iteration": 842,
            "learn": [
             0.8123123123,
             1.205993824
            ],
            "passed_time": 962.3066745,
            "remaining_time": 179.2196298,
            "test": [
             0.622754491,
             1.310215033
            ]
           },
           {
            "iteration": 843,
            "learn": [
             0.8138138138,
             1.205618752
            ],
            "passed_time": 963.219736,
            "remaining_time": 178.0358754,
            "test": [
             0.622754491,
             1.309945739
            ]
           },
           {
            "iteration": 844,
            "learn": [
             0.8123123123,
             1.205311345
            ],
            "passed_time": 964.3187604,
            "remaining_time": 176.8868732,
            "test": [
             0.622754491,
             1.309750153
            ]
           },
           {
            "iteration": 845,
            "learn": [
             0.8123123123,
             1.2049612
            ],
            "passed_time": 965.3529326,
            "remaining_time": 175.7261839,
            "test": [
             0.622754491,
             1.309458587
            ]
           },
           {
            "iteration": 846,
            "learn": [
             0.8138138138,
             1.204631742
            ],
            "passed_time": 966.2420898,
            "remaining_time": 174.5395983,
            "test": [
             0.622754491,
             1.309222724
            ]
           },
           {
            "iteration": 847,
            "learn": [
             0.8138138138,
             1.204298295
            ],
            "passed_time": 967.1557279,
            "remaining_time": 173.3581022,
            "test": [
             0.622754491,
             1.308941947
            ]
           },
           {
            "iteration": 848,
            "learn": [
             0.8123123123,
             1.203964425
            ],
            "passed_time": 968.0787321,
            "remaining_time": 172.1789029,
            "test": [
             0.622754491,
             1.308671406
            ]
           },
           {
            "iteration": 849,
            "learn": [
             0.8123123123,
             1.203639282
            ],
            "passed_time": 969.1508596,
            "remaining_time": 171.0266223,
            "test": [
             0.622754491,
             1.308435825
            ]
           },
           {
            "iteration": 850,
            "learn": [
             0.8123123123,
             1.203283445
            ],
            "passed_time": 970.9108288,
            "remaining_time": 169.994963,
            "test": [
             0.622754491,
             1.308174275
            ]
           },
           {
            "iteration": 851,
            "learn": [
             0.8123123123,
             1.202929014
            ],
            "passed_time": 972.7760795,
            "remaining_time": 168.9798823,
            "test": [
             0.622754491,
             1.307947515
            ]
           },
           {
            "iteration": 852,
            "learn": [
             0.8123123123,
             1.202621111
            ],
            "passed_time": 974.330457,
            "remaining_time": 167.9092347,
            "test": [
             0.622754491,
             1.307702991
            ]
           },
           {
            "iteration": 853,
            "learn": [
             0.8123123123,
             1.202262293
            ],
            "passed_time": 975.2582246,
            "remaining_time": 166.7303288,
            "test": [
             0.622754491,
             1.307449831
            ]
           },
           {
            "iteration": 854,
            "learn": [
             0.8123123123,
             1.201911894
            ],
            "passed_time": 976.1802861,
            "remaining_time": 165.5510427,
            "test": [
             0.6167664671,
             1.307141015
            ]
           },
           {
            "iteration": 855,
            "learn": [
             0.8123123123,
             1.201624577
            ],
            "passed_time": 977.0971983,
            "remaining_time": 164.3714913,
            "test": [
             0.6167664671,
             1.306996601
            ]
           },
           {
            "iteration": 856,
            "learn": [
             0.8123123123,
             1.201266303
            ],
            "passed_time": 978.1303808,
            "remaining_time": 163.2119539,
            "test": [
             0.622754491,
             1.306742109
            ]
           },
           {
            "iteration": 857,
            "learn": [
             0.8123123123,
             1.200973669
            ],
            "passed_time": 979.2088744,
            "remaining_time": 162.06021,
            "test": [
             0.622754491,
             1.306546813
            ]
           },
           {
            "iteration": 858,
            "learn": [
             0.8123123123,
             1.200625283
            ],
            "passed_time": 980.3203802,
            "remaining_time": 160.9140554,
            "test": [
             0.622754491,
             1.306301819
            ]
           },
           {
            "iteration": 859,
            "learn": [
             0.8123123123,
             1.200316777
            ],
            "passed_time": 981.2152301,
            "remaining_time": 159.7327119,
            "test": [
             0.6167664671,
             1.306146875
            ]
           },
           {
            "iteration": 860,
            "learn": [
             0.8123123123,
             1.200013535
            ],
            "passed_time": 982.140905,
            "remaining_time": 158.5570102,
            "test": [
             0.6167664671,
             1.30598272
            ]
           },
           {
            "iteration": 861,
            "learn": [
             0.8138138138,
             1.199666523
            ],
            "passed_time": 983.0465966,
            "remaining_time": 157.3786895,
            "test": [
             0.6167664671,
             1.305716835
            ]
           },
           {
            "iteration": 862,
            "learn": [
             0.8138138138,
             1.199330525
            ],
            "passed_time": 984.0951413,
            "remaining_time": 156.2236783,
            "test": [
             0.6167664671,
             1.3054719
            ]
           },
           {
            "iteration": 863,
            "learn": [
             0.8138138138,
             1.198976583
            ],
            "passed_time": 985.7520094,
            "remaining_time": 155.1646681,
            "test": [
             0.6167664671,
             1.305242396
            ]
           },
           {
            "iteration": 864,
            "learn": [
             0.8138138138,
             1.198638219
            ],
            "passed_time": 987.654013,
            "remaining_time": 154.1425338,
            "test": [
             0.6167664671,
             1.304968077
            ]
           },
           {
            "iteration": 865,
            "learn": [
             0.8138138138,
             1.198344425
            ],
            "passed_time": 988.9823647,
            "remaining_time": 153.0296038,
            "test": [
             0.6167664671,
             1.304737926
            ]
           },
           {
            "iteration": 866,
            "learn": [
             0.8138138138,
             1.197943357
            ],
            "passed_time": 989.9098419,
            "remaining_time": 151.8546816,
            "test": [
             0.6167664671,
             1.304425026
            ]
           },
           {
            "iteration": 867,
            "learn": [
             0.8138138138,
             1.197639587
            ],
            "passed_time": 990.8464755,
            "remaining_time": 150.6817221,
            "test": [
             0.622754491,
             1.304215379
            ]
           },
           {
            "iteration": 868,
            "learn": [
             0.8138138138,
             1.197269046
            ],
            "passed_time": 991.7733064,
            "remaining_time": 149.5078287,
            "test": [
             0.622754491,
             1.30392953
            ]
           },
           {
            "iteration": 869,
            "learn": [
             0.8138138138,
             1.196905492
            ],
            "passed_time": 992.616138,
            "remaining_time": 148.3219517,
            "test": [
             0.622754491,
             1.303647402
            ]
           },
           {
            "iteration": 870,
            "learn": [
             0.8138138138,
             1.196600408
            ],
            "passed_time": 993.5245222,
            "remaining_time": 147.146571,
            "test": [
             0.622754491,
             1.303499641
            ]
           },
           {
            "iteration": 871,
            "learn": [
             0.8138138138,
             1.196252528
            ],
            "passed_time": 994.4547923,
            "remaining_time": 145.9750154,
            "test": [
             0.622754491,
             1.30324307
            ]
           },
           {
            "iteration": 872,
            "learn": [
             0.8138138138,
             1.195916587
            ],
            "passed_time": 995.493871,
            "remaining_time": 144.8198415,
            "test": [
             0.622754491,
             1.302960414
            ]
           },
           {
            "iteration": 873,
            "learn": [
             0.8138138138,
             1.195583947
            ],
            "passed_time": 996.5647906,
            "remaining_time": 143.6695236,
            "test": [
             0.622754491,
             1.302737271
            ]
           },
           {
            "iteration": 874,
            "learn": [
             0.8138138138,
             1.195208747
            ],
            "passed_time": 997.6555238,
            "remaining_time": 142.5222177,
            "test": [
             0.622754491,
             1.302454271
            ]
           },
           {
            "iteration": 875,
            "learn": [
             0.8123123123,
             1.194884537
            ],
            "passed_time": 998.7515631,
            "remaining_time": 141.375792,
            "test": [
             0.622754491,
             1.302243162
            ]
           },
           {
            "iteration": 876,
            "learn": [
             0.8123123123,
             1.194546969
            ],
            "passed_time": 1000.636577,
            "remaining_time": 140.3401356,
            "test": [
             0.6167664671,
             1.302003985
            ]
           },
           {
            "iteration": 877,
            "learn": [
             0.8123123123,
             1.194221442
            ],
            "passed_time": 1002.388184,
            "remaining_time": 139.2840073,
            "test": [
             0.6167664671,
             1.301745169
            ]
           },
           {
            "iteration": 878,
            "learn": [
             0.8123123123,
             1.193947782
            ],
            "passed_time": 1003.97586,
            "remaining_time": 138.2037305,
            "test": [
             0.6167664671,
             1.301600493
            ]
           },
           {
            "iteration": 879,
            "learn": [
             0.8123123123,
             1.193666889
            ],
            "passed_time": 1005.054847,
            "remaining_time": 137.0529337,
            "test": [
             0.6167664671,
             1.301410473
            ]
           },
           {
            "iteration": 880,
            "learn": [
             0.8123123123,
             1.193299089
            ],
            "passed_time": 1006.167364,
            "remaining_time": 135.906829,
            "test": [
             0.6167664671,
             1.301132935
            ]
           },
           {
            "iteration": 881,
            "learn": [
             0.8123123123,
             1.192929951
            ],
            "passed_time": 1007.09175,
            "remaining_time": 134.735631,
            "test": [
             0.6167664671,
             1.30089568
            ]
           },
           {
            "iteration": 882,
            "learn": [
             0.8123123123,
             1.192533619
            ],
            "passed_time": 1008.178479,
            "remaining_time": 133.5865029,
            "test": [
             0.6167664671,
             1.300613696
            ]
           },
           {
            "iteration": 883,
            "learn": [
             0.8108108108,
             1.192148869
            ],
            "passed_time": 1009.259048,
            "remaining_time": 132.4367076,
            "test": [
             0.6167664671,
             1.300285093
            ]
           },
           {
            "iteration": 884,
            "learn": [
             0.8123123123,
             1.191812734
            ],
            "passed_time": 1010.301318,
            "remaining_time": 131.2820921,
            "test": [
             0.6167664671,
             1.300049153
            ]
           },
           {
            "iteration": 885,
            "learn": [
             0.8123123123,
             1.191451153
            ],
            "passed_time": 1011.397439,
            "remaining_time": 130.1346592,
            "test": [
             0.6167664671,
             1.299761633
            ]
           },
           {
            "iteration": 886,
            "learn": [
             0.8123123123,
             1.19113616
            ],
            "passed_time": 1012.491005,
            "remaining_time": 128.9870164,
            "test": [
             0.6167664671,
             1.299543664
            ]
           },
           {
            "iteration": 887,
            "learn": [
             0.8138138138,
             1.190787354
            ],
            "passed_time": 1013.561789,
            "remaining_time": 127.836622,
            "test": [
             0.6167664671,
             1.299277185
            ]
           },
           {
            "iteration": 888,
            "learn": [
             0.8138138138,
             1.190470154
            ],
            "passed_time": 1015.148146,
            "remaining_time": 126.7507809,
            "test": [
             0.6167664671,
             1.299040449
            ]
           },
           {
            "iteration": 889,
            "learn": [
             0.8138138138,
             1.190164772
            ],
            "passed_time": 1017.061324,
            "remaining_time": 125.7042086,
            "test": [
             0.6167664671,
             1.298857367
            ]
           },
           {
            "iteration": 890,
            "learn": [
             0.8123123123,
             1.189796243
            ],
            "passed_time": 1018.741199,
            "remaining_time": 124.62715,
            "test": [
             0.6167664671,
             1.298593596
            ]
           },
           {
            "iteration": 891,
            "learn": [
             0.8138138138,
             1.189491182
            ],
            "passed_time": 1019.748752,
            "remaining_time": 123.4673376,
            "test": [
             0.6167664671,
             1.298392296
            ]
           },
           {
            "iteration": 892,
            "learn": [
             0.8138138138,
             1.189190513
            ],
            "passed_time": 1020.684396,
            "remaining_time": 122.2992502,
            "test": [
             0.6167664671,
             1.298223197
            ]
           },
           {
            "iteration": 893,
            "learn": [
             0.8138138138,
             1.18880852
            ],
            "passed_time": 1021.552037,
            "remaining_time": 121.1236196,
            "test": [
             0.6167664671,
             1.297935267
            ]
           },
           {
            "iteration": 894,
            "learn": [
             0.8138138138,
             1.188521062
            ],
            "passed_time": 1022.486732,
            "remaining_time": 119.956544,
            "test": [
             0.6167664671,
             1.297746041
            ]
           },
           {
            "iteration": 895,
            "learn": [
             0.8123123123,
             1.188192559
            ],
            "passed_time": 1023.41352,
            "remaining_time": 118.7890693,
            "test": [
             0.6167664671,
             1.297503386
            ]
           },
           {
            "iteration": 896,
            "learn": [
             0.8123123123,
             1.187878749
            ],
            "passed_time": 1024.341901,
            "remaining_time": 117.6223142,
            "test": [
             0.6167664671,
             1.297279917
            ]
           },
           {
            "iteration": 897,
            "learn": [
             0.8168168168,
             1.187520139
            ],
            "passed_time": 1025.295368,
            "remaining_time": 116.4589394,
            "test": [
             0.6167664671,
             1.297029815
            ]
           },
           {
            "iteration": 898,
            "learn": [
             0.8153153153,
             1.187150478
            ],
            "passed_time": 1026.369095,
            "remaining_time": 115.3095423,
            "test": [
             0.6167664671,
             1.296747276
            ]
           },
           {
            "iteration": 899,
            "learn": [
             0.8168168168,
             1.186826488
            ],
            "passed_time": 1027.28865,
            "remaining_time": 114.1431833,
            "test": [
             0.6167664671,
             1.296499157
            ]
           },
           {
            "iteration": 900,
            "learn": [
             0.8168168168,
             1.186516805
            ],
            "passed_time": 1028.158921,
            "remaining_time": 112.9719569,
            "test": [
             0.6167664671,
             1.296280034
            ]
           },
           {
            "iteration": 901,
            "learn": [
             0.8153153153,
             1.186171349
            ],
            "passed_time": 1029.715391,
            "remaining_time": 111.8759515,
            "test": [
             0.6167664671,
             1.296058932
            ]
           },
           {
            "iteration": 902,
            "learn": [
             0.8168168168,
             1.185868125
            ],
            "passed_time": 1031.310388,
            "remaining_time": 110.7830649,
            "test": [
             0.6167664671,
             1.29584793
            ]
           },
           {
            "iteration": 903,
            "learn": [
             0.8168168168,
             1.185576662
            ],
            "passed_time": 1032.938081,
            "remaining_time": 109.6925396,
            "test": [
             0.6167664671,
             1.295661625
            ]
           },
           {
            "iteration": 904,
            "learn": [
             0.8168168168,
             1.185257337
            ],
            "passed_time": 1034.13431,
            "remaining_time": 108.5555354,
            "test": [
             0.6167664671,
             1.29546526
            ]
           },
           {
            "iteration": 905,
            "learn": [
             0.8168168168,
             1.184946151
            ],
            "passed_time": 1035.200823,
            "remaining_time": 107.4049419,
            "test": [
             0.6167664671,
             1.295261795
            ]
           },
           {
            "iteration": 906,
            "learn": [
             0.8168168168,
             1.184571292
            ],
            "passed_time": 1036.266416,
            "remaining_time": 106.2544396,
            "test": [
             0.6167664671,
             1.294979509
            ]
           },
           {
            "iteration": 907,
            "learn": [
             0.8168168168,
             1.184256508
            ],
            "passed_time": 1037.619307,
            "remaining_time": 105.1332337,
            "test": [
             0.6167664671,
             1.294765469
            ]
           },
           {
            "iteration": 908,
            "learn": [
             0.8168168168,
             1.183916904
            ],
            "passed_time": 1038.548544,
            "remaining_time": 103.9691062,
            "test": [
             0.6167664671,
             1.294515595
            ]
           },
           {
            "iteration": 909,
            "learn": [
             0.8168168168,
             1.183544896
            ],
            "passed_time": 1039.621371,
            "remaining_time": 102.819696,
            "test": [
             0.6167664671,
             1.294233654
            ]
           },
           {
            "iteration": 910,
            "learn": [
             0.8168168168,
             1.183179313
            ],
            "passed_time": 1040.739782,
            "remaining_time": 101.6749074,
            "test": [
             0.6167664671,
             1.293912255
            ]
           },
           {
            "iteration": 911,
            "learn": [
             0.8168168168,
             1.182855985
            ],
            "passed_time": 1041.941441,
            "remaining_time": 100.5382092,
            "test": [
             0.6167664671,
             1.293703005
            ]
           },
           {
            "iteration": 912,
            "learn": [
             0.8168168168,
             1.182542236
            ],
            "passed_time": 1043.910418,
            "remaining_time": 99.47448673,
            "test": [
             0.6167664671,
             1.293564163
            ]
           },
           {
            "iteration": 913,
            "learn": [
             0.8168168168,
             1.182210412
            ],
            "passed_time": 1045.836319,
            "remaining_time": 98.40473021,
            "test": [
             0.6167664671,
             1.293392446
            ]
           },
           {
            "iteration": 914,
            "learn": [
             0.8168168168,
             1.181928649
            ],
            "passed_time": 1047.74058,
            "remaining_time": 97.3310921,
            "test": [
             0.6167664671,
             1.293221954
            ]
           },
           {
            "iteration": 915,
            "learn": [
             0.8168168168,
             1.18153117
            ],
            "passed_time": 1049.777273,
            "remaining_time": 96.26778485,
            "test": [
             0.6167664671,
             1.292914752
            ]
           },
           {
            "iteration": 916,
            "learn": [
             0.8168168168,
             1.181204191
            ],
            "passed_time": 1051.375706,
            "remaining_time": 95.16268656,
            "test": [
             0.6167664671,
             1.292681783
            ]
           },
           {
            "iteration": 917,
            "learn": [
             0.8168168168,
             1.180909797
            ],
            "passed_time": 1052.267553,
            "remaining_time": 93.99339795,
            "test": [
             0.6167664671,
             1.292491772
            ]
           },
           {
            "iteration": 918,
            "learn": [
             0.8168168168,
             1.180578557
            ],
            "passed_time": 1053.168208,
            "remaining_time": 92.82548949,
            "test": [
             0.6167664671,
             1.292234078
            ]
           },
           {
            "iteration": 919,
            "learn": [
             0.8168168168,
             1.180244107
            ],
            "passed_time": 1054.084861,
            "remaining_time": 91.65955317,
            "test": [
             0.6167664671,
             1.292006065
            ]
           },
           {
            "iteration": 920,
            "learn": [
             0.8168168168,
             1.179933871
            ],
            "passed_time": 1055.006538,
            "remaining_time": 90.49458904,
            "test": [
             0.6167664671,
             1.291788212
            ]
           },
           {
            "iteration": 921,
            "learn": [
             0.8168168168,
             1.179622321
            ],
            "passed_time": 1056.085825,
            "remaining_time": 89.34348631,
            "test": [
             0.6167664671,
             1.291596159
            ]
           },
           {
            "iteration": 922,
            "learn": [
             0.8168168168,
             1.17930593
            ],
            "passed_time": 1057.011865,
            "remaining_time": 88.17975469,
            "test": [
             0.6167664671,
             1.291318077
            ]
           },
           {
            "iteration": 923,
            "learn": [
             0.8168168168,
             1.178907975
            ],
            "passed_time": 1057.880695,
            "remaining_time": 87.01183204,
            "test": [
             0.6167664671,
             1.291025589
            ]
           },
           {
            "iteration": 924,
            "learn": [
             0.8168168168,
             1.178620357
            ],
            "passed_time": 1058.775839,
            "remaining_time": 85.84668964,
            "test": [
             0.6167664671,
             1.290846325
            ]
           },
           {
            "iteration": 925,
            "learn": [
             0.8168168168,
             1.178239232
            ],
            "passed_time": 1059.697954,
            "remaining_time": 84.68428572,
            "test": [
             0.6167664671,
             1.290540057
            ]
           },
           {
            "iteration": 926,
            "learn": [
             0.8168168168,
             1.177912935
            ],
            "passed_time": 1060.663842,
            "remaining_time": 83.52584733,
            "test": [
             0.6167664671,
             1.290312561
            ]
           },
           {
            "iteration": 927,
            "learn": [
             0.8168168168,
             1.177601862
            ],
            "passed_time": 1062.097661,
            "remaining_time": 82.40412886,
            "test": [
             0.6167664671,
             1.290114149
            ]
           },
           {
            "iteration": 928,
            "learn": [
             0.8168168168,
             1.177274657
            ],
            "passed_time": 1064.017366,
            "remaining_time": 81.31887294,
            "test": [
             0.6167664671,
             1.28988611
            ]
           },
           {
            "iteration": 929,
            "learn": [
             0.8168168168,
             1.176998846
            ],
            "passed_time": 1065.595265,
            "remaining_time": 80.20609521,
            "test": [
             0.6167664671,
             1.289747129
            ]
           },
           {
            "iteration": 930,
            "learn": [
             0.8168168168,
             1.176624458
            ],
            "passed_time": 1066.826574,
            "remaining_time": 79.06663113,
            "test": [
             0.6167664671,
             1.289447177
            ]
           },
           {
            "iteration": 931,
            "learn": [
             0.8168168168,
             1.176294567
            ],
            "passed_time": 1067.894905,
            "remaining_time": 77.91507894,
            "test": [
             0.6167664671,
             1.289227355
            ]
           },
           {
            "iteration": 932,
            "learn": [
             0.8168168168,
             1.17593424
            ],
            "passed_time": 1068.906486,
            "remaining_time": 76.75962974,
            "test": [
             0.6167664671,
             1.288955141
            ]
           },
           {
            "iteration": 933,
            "learn": [
             0.8168168168,
             1.175577967
            ],
            "passed_time": 1069.89625,
            "remaining_time": 75.60294699,
            "test": [
             0.6167664671,
             1.288697861
            ]
           },
           {
            "iteration": 934,
            "learn": [
             0.8168168168,
             1.175219712
            ],
            "passed_time": 1070.879503,
            "remaining_time": 74.44616867,
            "test": [
             0.6167664671,
             1.288439546
            ]
           },
           {
            "iteration": 935,
            "learn": [
             0.8168168168,
             1.174918909
            ],
            "passed_time": 1071.77949,
            "remaining_time": 73.2840677,
            "test": [
             0.6167664671,
             1.288218737
            ]
           },
           {
            "iteration": 936,
            "learn": [
             0.8168168168,
             1.174601454
            ],
            "passed_time": 1072.702177,
            "remaining_time": 72.12405246,
            "test": [
             0.6167664671,
             1.287989919
            ]
           },
           {
            "iteration": 937,
            "learn": [
             0.8168168168,
             1.17428057
            ],
            "passed_time": 1073.624467,
            "remaining_time": 70.96451703,
            "test": [
             0.6167664671,
             1.287740094
            ]
           },
           {
            "iteration": 938,
            "learn": [
             0.8168168168,
             1.173942025
            ],
            "passed_time": 1074.537164,
            "remaining_time": 69.8048637,
            "test": [
             0.6167664671,
             1.287492456
            ]
           },
           {
            "iteration": 939,
            "learn": [
             0.8168168168,
             1.173617252
            ],
            "passed_time": 1075.619873,
            "remaining_time": 68.65658765,
            "test": [
             0.6167664671,
             1.287244096
            ]
           },
           {
            "iteration": 940,
            "learn": [
             0.8168168168,
             1.173328528
            ],
            "passed_time": 1077.211661,
            "remaining_time": 67.54036984,
            "test": [
             0.6167664671,
             1.287015032
            ]
           },
           {
            "iteration": 941,
            "learn": [
             0.8168168168,
             1.173041811
            ],
            "passed_time": 1078.895121,
            "remaining_time": 66.42878663,
            "test": [
             0.6167664671,
             1.286857859
            ]
           },
           {
            "iteration": 942,
            "learn": [
             0.8168168168,
             1.172717832
            ],
            "passed_time": 1080.478474,
            "remaining_time": 65.30993957,
            "test": [
             0.6167664671,
             1.286587868
            ]
           },
           {
            "iteration": 943,
            "learn": [
             0.8168168168,
             1.172420777
            ],
            "passed_time": 1081.408278,
            "remaining_time": 64.15133854,
            "test": [
             0.6167664671,
             1.286382552
            ]
           },
           {
            "iteration": 944,
            "learn": [
             0.8168168168,
             1.172101981
            ],
            "passed_time": 1082.392674,
            "remaining_time": 62.99639899,
            "test": [
             0.6167664671,
             1.286172495
            ]
           },
           {
            "iteration": 945,
            "learn": [
             0.8168168168,
             1.171791096
            ],
            "passed_time": 1083.493645,
            "remaining_time": 61.84847447,
            "test": [
             0.6167664671,
             1.285991548
            ]
           },
           {
            "iteration": 946,
            "learn": [
             0.8168168168,
             1.171500607
            ],
            "passed_time": 1084.609295,
            "remaining_time": 60.70147055,
            "test": [
             0.6167664671,
             1.285791784
            ]
           },
           {
            "iteration": 947,
            "learn": [
             0.8168168168,
             1.171182326
            ],
            "passed_time": 1085.709634,
            "remaining_time": 59.55369302,
            "test": [
             0.6167664671,
             1.285576898
            ]
           },
           {
            "iteration": 948,
            "learn": [
             0.8168168168,
             1.170938998
            ],
            "passed_time": 1086.602245,
            "remaining_time": 58.39485195,
            "test": [
             0.6167664671,
             1.285459851
            ]
           },
           {
            "iteration": 949,
            "learn": [
             0.8168168168,
             1.1706082
            ],
            "passed_time": 1087.52343,
            "remaining_time": 57.23807524,
            "test": [
             0.6167664671,
             1.28522473
            ]
           },
           {
            "iteration": 950,
            "learn": [
             0.8168168168,
             1.170253024
            ],
            "passed_time": 1088.528257,
            "remaining_time": 56.08610365,
            "test": [
             0.6167664671,
             1.284963831
            ]
           },
           {
            "iteration": 951,
            "learn": [
             0.8168168168,
             1.169930156
            ],
            "passed_time": 1089.709749,
            "remaining_time": 54.9433487,
            "test": [
             0.6167664671,
             1.284761886
            ]
           },
           {
            "iteration": 952,
            "learn": [
             0.8168168168,
             1.169635562
            ],
            "passed_time": 1090.751348,
            "remaining_time": 53.79361318,
            "test": [
             0.6167664671,
             1.284566043
            ]
           },
           {
            "iteration": 953,
            "learn": [
             0.8168168168,
             1.169327406
            ],
            "passed_time": 1092.348013,
            "remaining_time": 52.67086853,
            "test": [
             0.6167664671,
             1.284358831
            ]
           },
           {
            "iteration": 954,
            "learn": [
             0.8168168168,
             1.169005917
            ],
            "passed_time": 1093.940163,
            "remaining_time": 51.54691867,
            "test": [
             0.6167664671,
             1.284141473
            ]
           },
           {
            "iteration": 955,
            "learn": [
             0.8168168168,
             1.168670989
            ],
            "passed_time": 1095.376087,
            "remaining_time": 50.41479899,
            "test": [
             0.6167664671,
             1.283886358
            ]
           },
           {
            "iteration": 956,
            "learn": [
             0.8168168168,
             1.168377679
            ],
            "passed_time": 1096.298502,
            "remaining_time": 49.25897136,
            "test": [
             0.6167664671,
             1.283687788
            ]
           },
           {
            "iteration": 957,
            "learn": [
             0.8183183183,
             1.168032954
            ],
            "passed_time": 1097.15267,
            "remaining_time": 48.10063897,
            "test": [
             0.6167664671,
             1.283427684
            ]
           },
           {
            "iteration": 958,
            "learn": [
             0.8183183183,
             1.16774704
            ],
            "passed_time": 1098.070371,
            "remaining_time": 46.94565714,
            "test": [
             0.6167664671,
             1.283268906
            ]
           },
           {
            "iteration": 959,
            "learn": [
             0.8183183183,
             1.167493916
            ],
            "passed_time": 1098.980227,
            "remaining_time": 45.79084279,
            "test": [
             0.6167664671,
             1.283162263
            ]
           },
           {
            "iteration": 960,
            "learn": [
             0.8183183183,
             1.16714262
            ],
            "passed_time": 1100.028377,
            "remaining_time": 44.64215059,
            "test": [
             0.6167664671,
             1.282914041
            ]
           },
           {
            "iteration": 961,
            "learn": [
             0.8183183183,
             1.166819063
            ],
            "passed_time": 1100.972158,
            "remaining_time": 43.48954471,
            "test": [
             0.6167664671,
             1.282638357
            ]
           },
           {
            "iteration": 962,
            "learn": [
             0.8183183183,
             1.16651259
            ],
            "passed_time": 1101.905992,
            "remaining_time": 42.33699035,
            "test": [
             0.6167664671,
             1.282425126
            ]
           },
           {
            "iteration": 963,
            "learn": [
             0.8183183183,
             1.166191476
            ],
            "passed_time": 1102.767816,
            "remaining_time": 41.18220059,
            "test": [
             0.6167664671,
             1.282155211
            ]
           },
           {
            "iteration": 964,
            "learn": [
             0.8183183183,
             1.165838741
            ],
            "passed_time": 1103.800192,
            "remaining_time": 40.03420387,
            "test": [
             0.6167664671,
             1.281901942
            ]
           },
           {
            "iteration": 965,
            "learn": [
             0.8198198198,
             1.165482111
            ],
            "passed_time": 1104.794952,
            "remaining_time": 38.88512253,
            "test": [
             0.6167664671,
             1.281657489
            ]
           },
           {
            "iteration": 966,
            "learn": [
             0.8198198198,
             1.165146288
            ],
            "passed_time": 1106.140401,
            "remaining_time": 37.74832807,
            "test": [
             0.6167664671,
             1.281421525
            ]
           },
           {
            "iteration": 967,
            "learn": [
             0.8198198198,
             1.1648179
            ],
            "passed_time": 1107.910114,
            "remaining_time": 36.62512773,
            "test": [
             0.6167664671,
             1.281178785
            ]
           },
           {
            "iteration": 968,
            "learn": [
             0.8198198198,
             1.164492424
            ],
            "passed_time": 1109.763875,
            "remaining_time": 35.50328186,
            "test": [
             0.6167664671,
             1.280953363
            ]
           },
           {
            "iteration": 969,
            "learn": [
             0.8198198198,
             1.164127338
            ],
            "passed_time": 1110.817594,
            "remaining_time": 34.35518333,
            "test": [
             0.6167664671,
             1.280659225
            ]
           },
           {
            "iteration": 970,
            "learn": [
             0.8198198198,
             1.16377549
            ],
            "passed_time": 1111.7577,
            "remaining_time": 33.20388601,
            "test": [
             0.6167664671,
             1.280414056
            ]
           },
           {
            "iteration": 971,
            "learn": [
             0.8198198198,
             1.163520381
            ],
            "passed_time": 1113.031063,
            "remaining_time": 32.06262322,
            "test": [
             0.6167664671,
             1.280256048
            ]
           },
           {
            "iteration": 972,
            "learn": [
             0.8198198198,
             1.16323254
            ],
            "passed_time": 1113.950784,
            "remaining_time": 30.91127561,
            "test": [
             0.6167664671,
             1.280095881
            ]
           },
           {
            "iteration": 973,
            "learn": [
             0.8198198198,
             1.162865028
            ],
            "passed_time": 1114.931985,
            "remaining_time": 29.76204476,
            "test": [
             0.6167664671,
             1.27981209
            ]
           },
           {
            "iteration": 974,
            "learn": [
             0.8198198198,
             1.162581192
            ],
            "passed_time": 1115.958954,
            "remaining_time": 28.61433215,
            "test": [
             0.6167664671,
             1.279654418
            ]
           },
           {
            "iteration": 975,
            "learn": [
             0.8213213213,
             1.162197737
            ],
            "passed_time": 1116.860446,
            "remaining_time": 27.46378146,
            "test": [
             0.6167664671,
             1.279361568
            ]
           },
           {
            "iteration": 976,
            "learn": [
             0.8213213213,
             1.161910767
            ],
            "passed_time": 1117.746377,
            "remaining_time": 26.31337429,
            "test": [
             0.6167664671,
             1.279172205
            ]
           },
           {
            "iteration": 977,
            "learn": [
             0.8213213213,
             1.161607874
            ],
            "passed_time": 1118.662698,
            "remaining_time": 25.16419158,
            "test": [
             0.6167664671,
             1.278963391
            ]
           },
           {
            "iteration": 978,
            "learn": [
             0.8213213213,
             1.161240441
            ],
            "passed_time": 1119.583221,
            "remaining_time": 24.01557471,
            "test": [
             0.6167664671,
             1.278680057
            ]
           },
           {
            "iteration": 979,
            "learn": [
             0.8213213213,
             1.160875744
            ],
            "passed_time": 1121.123555,
            "remaining_time": 22.88007255,
            "test": [
             0.6167664671,
             1.278420646
            ]
           },
           {
            "iteration": 980,
            "learn": [
             0.8198198198,
             1.160543108
            ],
            "passed_time": 1122.81316,
            "remaining_time": 21.74663613,
            "test": [
             0.6167664671,
             1.27815844
            ]
           },
           {
            "iteration": 981,
            "learn": [
             0.8213213213,
             1.160226141
            ],
            "passed_time": 1124.442645,
            "remaining_time": 20.61096497,
            "test": [
             0.6167664671,
             1.277924726
            ]
           },
           {
            "iteration": 982,
            "learn": [
             0.8213213213,
             1.159963788
            ],
            "passed_time": 1125.37458,
            "remaining_time": 19.4622257,
            "test": [
             0.6167664671,
             1.277757822
            ]
           },
           {
            "iteration": 983,
            "learn": [
             0.8213213213,
             1.159611904
            ],
            "passed_time": 1126.303874,
            "remaining_time": 18.31388413,
            "test": [
             0.6167664671,
             1.27749816
            ]
           },
           {
            "iteration": 984,
            "learn": [
             0.8213213213,
             1.159265935
            ],
            "passed_time": 1127.22106,
            "remaining_time": 17.16580294,
            "test": [
             0.6167664671,
             1.27728432
            ]
           },
           {
            "iteration": 985,
            "learn": [
             0.8213213213,
             1.158955483
            ],
            "passed_time": 1128.165944,
            "remaining_time": 16.01858339,
            "test": [
             0.6167664671,
             1.277083629
            ]
           },
           {
            "iteration": 986,
            "learn": [
             0.8213213213,
             1.158655488
            ],
            "passed_time": 1129.088191,
            "remaining_time": 14.87147567,
            "test": [
             0.6167664671,
             1.276867205
            ]
           },
           {
            "iteration": 987,
            "learn": [
             0.8213213213,
             1.158367458
            ],
            "passed_time": 1130.020064,
            "remaining_time": 13.72494004,
            "test": [
             0.6167664671,
             1.276627186
            ]
           },
           {
            "iteration": 988,
            "learn": [
             0.8213213213,
             1.158066129
            ],
            "passed_time": 1130.95956,
            "remaining_time": 12.57892332,
            "test": [
             0.6167664671,
             1.276457282
            ]
           },
           {
            "iteration": 989,
            "learn": [
             0.8213213213,
             1.15777467
            ],
            "passed_time": 1132.056742,
            "remaining_time": 11.43491659,
            "test": [
             0.6167664671,
             1.27628653
            ]
           },
           {
            "iteration": 990,
            "learn": [
             0.8198198198,
             1.157448321
            ],
            "passed_time": 1133.149493,
            "remaining_time": 10.29096412,
            "test": [
             0.6167664671,
             1.276044783
            ]
           },
           {
            "iteration": 991,
            "learn": [
             0.8198198198,
             1.157149882
            ],
            "passed_time": 1134.361836,
            "remaining_time": 9.148079322,
            "test": [
             0.6167664671,
             1.275866155
            ]
           },
           {
            "iteration": 992,
            "learn": [
             0.8198198198,
             1.156816626
            ],
            "passed_time": 1136.130793,
            "remaining_time": 8.008978397,
            "test": [
             0.6167664671,
             1.27562286
            ]
           },
           {
            "iteration": 993,
            "learn": [
             0.8198198198,
             1.156523286
            ],
            "passed_time": 1137.992276,
            "remaining_time": 6.869168668,
            "test": [
             0.6167664671,
             1.275451393
            ]
           },
           {
            "iteration": 994,
            "learn": [
             0.8213213213,
             1.156147597
            ],
            "passed_time": 1139.3451,
            "remaining_time": 5.72535226,
            "test": [
             0.6167664671,
             1.275163791
            ]
           },
           {
            "iteration": 995,
            "learn": [
             0.8213213213,
             1.155788908
            ],
            "passed_time": 1140.270257,
            "remaining_time": 4.579398623,
            "test": [
             0.6167664671,
             1.27490614
            ]
           },
           {
            "iteration": 996,
            "learn": [
             0.8213213213,
             1.155459839
            ],
            "passed_time": 1141.139059,
            "remaining_time": 3.433718331,
            "test": [
             0.6167664671,
             1.274688777
            ]
           },
           {
            "iteration": 997,
            "learn": [
             0.8198198198,
             1.155185785
            ],
            "passed_time": 1142.246601,
            "remaining_time": 2.289071345,
            "test": [
             0.6167664671,
             1.274530766
            ]
           },
           {
            "iteration": 998,
            "learn": [
             0.8213213213,
             1.154887147
            ],
            "passed_time": 1143.153104,
            "remaining_time": 1.144297401,
            "test": [
             0.6167664671,
             1.274344311
            ]
           },
           {
            "iteration": 999,
            "learn": [
             0.8213213213,
             1.154557898
            ],
            "passed_time": 1144.257451,
            "remaining_time": 0,
            "test": [
             0.6167664671,
             1.274093816
            ]
           }
          ],
          "meta": {
           "iteration_count": 1000,
           "launch_mode": "Train",
           "learn_metrics": [
            {
             "best_value": "Max",
             "name": "Accuracy"
            },
            {
             "best_value": "Min",
             "name": "MultiClass"
            }
           ],
           "learn_sets": [
            "learn"
           ],
           "name": "experiment",
           "parameters": "",
           "test_metrics": [
            {
             "best_value": "Max",
             "name": "Accuracy"
            },
            {
             "best_value": "Min",
             "name": "MultiClass"
            }
           ],
           "test_sets": [
            "test"
           ]
          }
         },
         "passed_iterations": 999,
         "total_iterations": 1000
        },
        "name": "catboost_info",
        "path": "catboost_info"
       }
      },
      "layout": "IPY_MODEL_8eb8ad6c9f924d5badb37c94992e9b2c"
     }
    }
   }
  }
 },
 "nbformat": 4,
 "nbformat_minor": 4
}
